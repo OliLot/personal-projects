{
 "cells": [
  {
   "cell_type": "code",
   "execution_count": 1,
   "id": "eda83a80-733b-40f1-a158-c279bf72af0d",
   "metadata": {},
   "outputs": [],
   "source": [
    "%matplotlib widget\n",
    "import numpy as np\n",
    "import matplotlib.pyplot as plt\n",
    "import math as m\n",
    "import time \n",
    "from numpy.lib.format import open_memmap"
   ]
  },
  {
   "cell_type": "markdown",
   "id": "cd92d224-9c59-4a0b-83e7-5cc4e330a970",
   "metadata": {
    "tags": []
   },
   "source": [
    "# Prerequisites"
   ]
  },
  {
   "cell_type": "markdown",
   "id": "c4ea9a18-4866-454b-9162-7496dcdbae64",
   "metadata": {
    "tags": []
   },
   "source": [
    "## The Thomas Algorithm\n",
    "The thomas algorithm is a more computationally efficient way to solve for the unknowns as compared to matrix inversion (works via LU decomposition)."
   ]
  },
  {
   "cell_type": "code",
   "execution_count": 2,
   "id": "d1cb3dc8-a866-4539-afe9-de00d12f4ceb",
   "metadata": {},
   "outputs": [],
   "source": [
    "# Define the tridiagonal matrix solver algorithm for BLACK-SCHOLES EQUATION FORMAT\n",
    "'''\n",
    "For Tx = d\n",
    "Inputs:\n",
    "    - a = lower triangular vector\n",
    "    - b = diagonal vector\n",
    "    - c = upper diagonal vector\n",
    "    - d = -aV_{i-1}^n + (1 + b)V_i^n - cV_{i+1}^n = constant term of knowns for share prices (i-1, i, i+1) at time n\n",
    "Output:\n",
    "    - unew = updated v values over space for time n+1\n",
    "'''\n",
    "def TDMA(a,b,c,d):\n",
    "    n = len(d)\n",
    "    e = np.zeros(n-1)\n",
    "    f = np.zeros(n)\n",
    "    V = np.zeros(n)\n",
    "    \n",
    "    e[0] = c[0]/b[0]\n",
    "    f[0] = d[0]/b[0]\n",
    "    for i in range(1,n-1):\n",
    "        e[i] = c[i]/(b[i] - a[i]*e[i-1])\n",
    "    for i in range(1,n):\n",
    "        f[i] = (d[i] - a[i]*f[i-1])/(b[i] - a[i]*e[i-1])\n",
    "    \n",
    "    V[n-1] = f[n-1]\n",
    "    for i in range(n-1,0,-1):\n",
    "        V[i-1] = f[i-1] - e[i-1]*V[i]\n",
    "    return V"
   ]
  },
  {
   "cell_type": "markdown",
   "id": "b7fe3a02-1865-4c8d-8a5b-3d9604a1aa86",
   "metadata": {
    "jp-MarkdownHeadingCollapsed": true,
    "tags": []
   },
   "source": [
    "## Call Option  Parameters"
   ]
  },
  {
   "cell_type": "code",
   "execution_count": 3,
   "id": "91b83d77-9d43-4421-99b8-b596a95070e9",
   "metadata": {},
   "outputs": [],
   "source": [
    "### // CALL OPTION PARAMETERS /// ###\n",
    "sig = 0.15 # volatility (std deviation of log returns)\n",
    "K = 10 # dollars\n",
    "T = 2 # years\n",
    "r = 0.02 # yearly risk free interest rate"
   ]
  },
  {
   "cell_type": "markdown",
   "id": "9ec26d11-45af-4bb8-9422-f7766201be23",
   "metadata": {
    "jp-MarkdownHeadingCollapsed": true,
    "tags": []
   },
   "source": [
    "## Analytical Solution"
   ]
  },
  {
   "cell_type": "code",
   "execution_count": 4,
   "id": "cc3d3706-113a-494f-a6c6-b00428d19908",
   "metadata": {},
   "outputs": [],
   "source": [
    "# import packages\n",
    "import matplotlib.pyplot as plt\n",
    "import numpy as np\n",
    "import math\n",
    "#import sympy as sy\n",
    "\n",
    "def erf(x):\n",
    "    if isinstance(x, (int, float)):\n",
    "        erf = m.erf(x)\n",
    "    else:\n",
    "        erf = np.array([m.erf(x) for x in x])\n",
    "        \n",
    "    return erf\n",
    "\n",
    "\n",
    "# function for N(x) - normal CDF\n",
    "def N(x) :\n",
    "    return 0.5*(erf(x/np.sqrt(2)) + 1)\n",
    "\n",
    "\n",
    "'''\n",
    "# function to calculate the analytical solution to the black scholes equation for a european call given parameters\n",
    "# INPUTS : \n",
    "    - S = stock price (vector)\n",
    "    - t = time\n",
    "    - sig = volatility \n",
    "    - K = strike price \n",
    "    - T = expiry time \n",
    "    - r = risk free rate \n",
    "    - N = Cumulative normal distribution function (defined above)\n",
    "OUTPUTS : \n",
    "    - Analytical solution for European Call\n",
    "'''\n",
    "def BS_analytic_point_S(S, t, sig = sig, K = K, T = T, r = r, N = N) :\n",
    "    # S=0 implies a zero value, S=0 implies the log going to negative infinity and the cumulative distributions having values 0.\n",
    "    S1=S[0]\n",
    "    ECall1 = np.array([0])\n",
    "    \n",
    "    S2=S[1:]\n",
    "    \n",
    "    def d1(S):\n",
    "        return (np.log(S/K) + (r + 0.5*sig**2) * (T - t)) / (sig * (T - t)**(0.5)) \n",
    "\n",
    "    def d2(S):\n",
    "        return (np.log(S/K) + (r - 0.5*sig**2) * (T - t)) / (sig * (T - t)**(0.5))\n",
    "            \n",
    "    ECall2 = S2*N(d1(S2)) - K*np.exp(-r*(T-t))*N(d2(S2))\n",
    "    \n",
    "    ECall = np.concatenate([ECall1, ECall2])\n",
    "    \n",
    "    return ECall\n",
    "\n",
    "'''\n",
    "Same as above, now considering transformed Z grid where z = lnS.\n",
    "'''\n",
    "\n",
    "def BS_analytic_point_Z(Z, t, sig = sig, K = K, T = T, r = r, N = N) :\n",
    "    # S=0 implies a zero value, S=0 implies the log going to negative infinity and the cumulative distributions having values 0.\n",
    "    def d1(Z):\n",
    "        return (Z - np.log(K) + (r + 0.5*sig**2) * (T - t)) / (sig * (T - t)**(0.5))\n",
    "    \n",
    "    def d2(Z):\n",
    "        return (Z - np.log(K) + (r - 0.5*sig**2) * (T - t)) / (sig * (T - t)**(0.5))\n",
    "    \n",
    "    ECall = np.where(np.exp(Z) == 0, 0, np.exp(Z)*N(d1(Z)) - K*np.exp(-r*(T-t))*N(d2(Z)))\n",
    "    \n",
    "    return ECall\n",
    "\n",
    "\n",
    "'''\n",
    "Same as above, now considering transformed Z grid where z = lnS - (r-0.5*sigma^2)*t i.e. the diffusion transformation.\n",
    "'''\n",
    "def BS_analytic_point_D(Z, t, sig = sig, K = K, T = T, r = r, N = N) :\n",
    "    # S=0 implies a zero value, S=0 implies the log going to negative infinity and the cumulative distributions having values 0.\n",
    "    def d1(Z):\n",
    "        return (Z + (r - 0.5*sig**2)*t - np.log(K) + (r + 0.5*sig**2) * (T - t)) / (sig * (T - t)**(0.5))\n",
    "    \n",
    "    def d2(Z):\n",
    "        return (Z + (r - 0.5*sig**2)*t - np.log(K) + (r - 0.5*sig**2) * (T - t)) / (sig * (T - t)**(0.5)) # r terms cancel in t\n",
    "            \n",
    "    ECall = np.where(np.exp(Z + (r - 0.5*sig**2)*t) == 0, 0, np.exp(Z + (r - 0.5*sig**2)*t) * N(d1(Z)) - K * np.exp(-r*(T - t)) * N(d2(Z)))\n",
    "            \n",
    "    return ECall\n",
    "\n",
    "\n",
    "'''\n",
    "Function to calculate analytic Black-Scholes solution given a grid in share price and values specifying the time grid.\n",
    "INPUTS:\n",
    "    - S = 1D array of S grid over time (entries = S grid values)\n",
    "    - dt = time step\n",
    "    - nt = total number of timesteps\n",
    "OUTPUT:\n",
    "    - 2D array of analytical solution over grid values\n",
    "'''\n",
    "# function BSASEC for grid of S and t\n",
    "def BSa_S(S, dt, nt):\n",
    "    # empty solution matrix\n",
    "    Asol = np.zeros((len(S),nt+1))\n",
    "    \n",
    "    # Initial Conditions\n",
    "    VIC = np.maximum(S - K, 0)\n",
    "    Asol[:,0] = VIC # corresponding to t = T\n",
    "    \n",
    "    # Solving backwards in time\n",
    "    for n in range(1, nt+1):\n",
    "        Asol[:,n] = BS_analytic_point_S(S=S, t=T - n*dt)\n",
    "    \n",
    "    return Asol\n",
    "\n",
    "\n",
    "def BSa_Z(Z, dt, nt):\n",
    "    # empty solution matrix\n",
    "    Asol = np.memmap('R2CNAsol.arr', dtype=np.float64, mode='w+', shape=(len(Z),nt+1)) #np.zeros((len(Z),nt+1))\n",
    "    \n",
    "    # Initial Conditions\n",
    "    VIC = np.maximum(np.exp(Z) - K, 0)\n",
    "    Asol[:,0] = VIC # corresponding to t = T\n",
    "    \n",
    "    # Solving backwards in time\n",
    "    for n in range(1, nt+1):\n",
    "        Asol[:,n] = BS_analytic_point_Z(Z=Z, t=T - n*dt)\n",
    "    \n",
    "    Asol.flush()\n",
    "    \n",
    "    sol = np.memmap('R2CNAsol.arr', dtype=np.float64, mode='r', shape=(len(Z),nt+1)) \n",
    "    \n",
    "    return sol\n",
    "\n",
    "\n",
    "'''\n",
    "Function BSASEC for grid of S and t\n",
    "INPUTS:\n",
    "    - Z = 1D array of Z grid that, when transformed back to S, moves over time (row = S grid values, column = time) \n",
    "          with Z = lnS - (r-0.5*sig^2)*t this implies S = exp[Z + (r-0.5*sig^2)*t]\n",
    "    - dt = time step\n",
    "    - nt = total number of timesteps\n",
    "OUTPUT:\n",
    "    - 2D array of analytical solution over grid values\n",
    "'''\n",
    "def BSa_D(Z, dt, nt):\n",
    "    # empty solution matrix\n",
    "    Asol = np.zeros((len(Z),nt+1))\n",
    "    \n",
    "    # Initial Conditions\n",
    "    VIC = np.maximum(np.exp(Z + (r - 0.5*sig**2)*T) - K, 0)\n",
    "    Asol[:,0] = VIC # corresponding to t = T\n",
    "    \n",
    "    # Solving backwards in time\n",
    "    for n in range(1, nt+1):\n",
    "        Asol[:,n] = BS_analytic_point_D(Z=Z, t=T - n*dt)\n",
    "    \n",
    "    return Asol"
   ]
  },
  {
   "cell_type": "markdown",
   "id": "4dc3ae73-c2d1-46a5-ade2-ba1793c3c617",
   "metadata": {
    "jp-MarkdownHeadingCollapsed": true,
    "tags": []
   },
   "source": [
    "## Discretization Error Matrix Calculator"
   ]
  },
  {
   "cell_type": "code",
   "execution_count": 5,
   "id": "613ca8eb-b59b-4d69-b06a-b977f06f8ab7",
   "metadata": {},
   "outputs": [],
   "source": [
    "# Define function that, given a numerical solution, will provide the discretization errors\n",
    "def DErrors_S(Nsol, S, dt, nt):\n",
    "    # Initialise error matrix\n",
    "    Derr = np.zeros((len(S),nt+1))\n",
    "    \n",
    "    # Calculate analytic solutions for grid\n",
    "    Asol = BSa_S(S, dt, nt)\n",
    "    \n",
    "    # Calculate errors\n",
    "    Derr = np.subtract(Nsol, Asol)\n",
    "    return Derr\n",
    "\n",
    "\n",
    "def DErrors_Z(Nsol, Z, dt, nt):\n",
    "    # Initialise error matrix\n",
    "    #numsol = np.memmap('RCNNsol.array', dtype=np.float64, mode='w+', shape=(len(Z), nt+1))\n",
    "    #numsol = Nsol.copy()\n",
    "    \n",
    "    Derr = np.memmap('R2CNDerr.arr', dtype=np.float64, mode='w+', shape=(len(Z), nt+1)) #np.zeros((len(Z),nt+1))\n",
    "    \n",
    "    # Calculate analytic solutions for grid\n",
    "    Asol = BSa_Z(Z, dt, nt)\n",
    "    \n",
    "    \n",
    "    # Calculate errors\n",
    "    for n in range(nt+1):\n",
    "        Derr[:,n] = np.subtract(Nsol[:, n], Asol[:,n])\n",
    "    Derr.flush()\n",
    "    \n",
    "    Derr = np.memmap('R2CNDerr.arr', dtype=np.float64, mode='r', shape=(len(Z), nt+1))\n",
    "    \n",
    "    return Derr\n",
    "\n",
    "\n",
    "def DErrors_D(Nsol, Z, dt, nt):\n",
    "    # Initialise error matrix\n",
    "    Derr = np.zeros((len(Z),nt+1))\n",
    "    \n",
    "    # Calculate analytic solutions for grid\n",
    "    Asol = BSa_D(Z, dt, nt)\n",
    "    \n",
    "    # Calculate errors\n",
    "    Derr = np.subtract(Nsol, Asol)\n",
    "    return Derr"
   ]
  },
  {
   "cell_type": "markdown",
   "id": "95ee0ca4-ca40-4141-a65e-11143e4b0004",
   "metadata": {
    "jp-MarkdownHeadingCollapsed": true,
    "tags": []
   },
   "source": [
    "# Laasonen method for Crank-Nicolson\n",
    "Want a function Laasonen which performs one step of the laasonen method on the input matrix (parameterised by im, jm) \n",
    "\n",
    "## 1. $(\\ln S, t)$\n",
    "#### Restating the PDE\n",
    "\n",
    "${\\partial V \\over \\partial t} + {1 \\over 2}\\sigma^2{\\partial^2 V \\over \\partial z^2} + (r - \\frac{1}{2}\\sigma^2){\\partial V \\over \\partial z} - rV = 0.$\n",
    "\n",
    "#### The FDE\n",
    "$\\frac{V_{i}^{n+1} - V_i^n}{\\Delta t} + Z_i^{n+1} = 0$\n",
    "$\\Rightarrow V_i^n = V_i^{n+1} + \\Delta t Z_i^{n+1}$\n",
    "\n",
    "which results in the tridiagonal system\n",
    "\n",
    "$a V_{i-1}^{n+1} + (1-b) V_{i}^{n+1} + c V_{i+1}^{n+1} = V_i^n$\n",
    "\n",
    "with coefficients:\n",
    "- $a_i = {\\Delta t \\over 2}[\\frac{\\sigma^2}{(\\Delta z)^2} - \\frac{(r - \\frac{1}{2}\\sigma^2)}{\\Delta z}]$\n",
    "- $b_i = {\\Delta t}[\\frac{\\sigma^2}{(\\Delta z)^2} + r]$\n",
    "- $c_i = {\\Delta t \\over 2}[\\frac{\\sigma^2}{(\\Delta z)^2} + \\frac{(r - \\frac{1}{2}\\sigma^2)}{\\Delta z}]$\n",
    "\n",
    "Note that this actually forms an explicit scheme in the backward time problem, as (n) is the unknown and (n+1) the knowns (DO STABILITY ANALYSIS FOR BOTH). Thus, the forward time transformation to $\\tau = T-t$ will be implemented.\n",
    "\n",
    "\n",
    "## 2. $(\\ln S, \\tau)$\n",
    "\n",
    "#### The PDE\n",
    "\n",
    "$-{\\partial V \\over \\partial t} + {1 \\over 2}\\sigma^2{\\partial^2 V \\over \\partial z^2} + (r - \\frac{1}{2}\\sigma^2){\\partial V \\over \\partial z} - rV = 0.$\n",
    "\n",
    "#### The FDE\n",
    "$-\\frac{V_{i}^{n+1/2} - V_i^n}{\\Delta t} + Z_i^{n+1/2} = 0$\n",
    "$\\Rightarrow V_i^n = V_i^{n+1/2} - \\Delta t Z_i^{n+1/2}$\n",
    "\n",
    "which flips the signs of the coefficients in the $(\\ln S, t)$ tridiagonal system, and results in the tridiagonal system\n",
    "\n",
    "$-a V_{i-1}^{n+1/2} + (1+b) V_{i}^{n+1/2} - c V_{i+1}^{n+1/2} = V_i^n$\n",
    "\n",
    "\n",
    "with coefficients:\n",
    "- $a_i = {\\Delta t \\over 2}[\\frac{\\sigma^2}{(\\Delta z)^2} - \\frac{(r - \\frac{1}{2}\\sigma^2)}{\\Delta z}]$\n",
    "- $b_i = {\\Delta t}[\\frac{\\sigma^2}{(\\Delta z)^2} + r]$\n",
    "- $c_i = {\\Delta t \\over 2}[\\frac{\\sigma^2}{(\\Delta z)^2} + \\frac{(r - \\frac{1}{2}\\sigma^2)}{\\Delta z}]$\n",
    "\n",
    "Now, the unknowns are terms in (n+1) and so this forms an implicit scheme with unconditional stability."
   ]
  },
  {
   "cell_type": "markdown",
   "id": "174c7f7f-9d6c-4f29-b3da-5f116306bede",
   "metadata": {
    "jp-MarkdownHeadingCollapsed": true,
    "tags": []
   },
   "source": [
    "## Rannacher Timestepping Function\n",
    "Currently calculates the first two integer time steps using half-steps of Backwards Euler. Can potentially implement customizable numbers of points to replace, and the factor of stepping in the intermediate steps. "
   ]
  },
  {
   "cell_type": "code",
   "execution_count": 6,
   "id": "4b46aea5-31db-4872-8a8d-73c0e568d645",
   "metadata": {},
   "outputs": [],
   "source": [
    "def RannacherStart(R, dt, nt, dZ, iZ, VIC):\n",
    "    # define half time step\n",
    "    hdt = dt/2\n",
    "    \n",
    "    VRannacher = np.memmap('R2CNRannacher.arr', dtype=np.float64, mode='w+', shape=(iZ-1, nt+1)) \n",
    "    \n",
    "    Smin = 1e-10 # can no longer use Smin = 0 as log(0) = -inf, use a small number as replacement\n",
    "    Smax = 5000 # can use even larger Smax as ln transformation squishes results quicker\n",
    "    Zmin = np.log(Smin) # low boundary\n",
    "    Zmax = np.log(Smax) # high bonudary\n",
    "    VB1 = 0\n",
    "    VB2 = Smax\n",
    "    \n",
    "    # Store all \n",
    "    Vinit_halfs = np.zeros((iZ-1, 2*R+1))\n",
    "    Vinit_halfs[:,0] = VIC[1:-1]\n",
    "    \n",
    "    # constants in tridiagonal system\n",
    "    ac = (hdt/2 * (sig**2/dZ**2 - (r - 0.5*sig**2)/dZ))\n",
    "    bc = (hdt * (sig**2/dZ**2 + r)) # care with 1 +/- b\n",
    "    cc = (hdt/2 * (sig**2/dZ**2 + (r - 0.5*sig**2)/dZ))\n",
    "\n",
    "    # vectors of tridiagonal\n",
    "    a = - ac * np.ones(iZ-1) # lower diag\n",
    "    b = (1 + bc) * np.ones(iZ-1) # diag has (1 - bc)\n",
    "    c = - cc * np.ones(iZ-1) # upper diag\n",
    "    \n",
    "    # initialise constant vector\n",
    "    d = np.zeros(iZ-1)\n",
    "    \n",
    "    # Solve the tridiagonal system for one half-step using Vinit\n",
    "    for n in range(1, 2*R+1):\n",
    "        # Half step\n",
    "        # i=1: Includes i=0 boundary\n",
    "        d[0] = Vinit_halfs[0, n-1] + ac*VB1\n",
    "        \n",
    "        # i=2,...,iZ-2: no boundary values\n",
    "        d[1:-1] = Vinit_halfs[1:-1, n-1]\n",
    "        \n",
    "        # i=iZ-1: Includes i=iZ boundary\n",
    "        d[-1] = Vinit_halfs[-1, n-1] + cc*VB2\n",
    "        \n",
    "        # Calculate half-step results\n",
    "        Vinit_halfs[:,n] = TDMA(a, b, c, d)\n",
    "        \n",
    "    # Get the two whole steps\n",
    "    for s in range(1, R+1):\n",
    "        VRannacher[:, s] = Vinit_halfs[:, 2*s]\n",
    "    \n",
    "    VRannacher.flush()\n",
    "\n",
    "    return np.memmap('R2CNRannacher.arr', dtype=np.float64, mode='r', shape=(iZ-1, nt+1))"
   ]
  },
  {
   "cell_type": "markdown",
   "id": "306d1178-5323-42f2-a090-6818a2ec5dba",
   "metadata": {
    "tags": []
   },
   "source": [
    "## Rannacher Present Value of European Call (2R 1/2 steps)"
   ]
  },
  {
   "cell_type": "code",
   "execution_count": 7,
   "id": "9b1218a2-415f-477a-ba98-ec16f1217ac3",
   "metadata": {},
   "outputs": [],
   "source": [
    "def PV_Rannacher(dt, dZ, R=2, sig=sig, K=K, r=r, T=T):\n",
    "    ### SETTING PARAMETERS\n",
    "    Smin = 1e-10 # can no longer use Smin = 0 as log(0) = -inf, use a small number as replacement\n",
    "    Smax = 500 # can use even larger Smax as ln transformation squishes results quicker\n",
    "    Zmin = np.log(Smin) # low boundary\n",
    "    Zmax = np.log(Smax) # high bonudary\n",
    "    iZ = round((Zmax-Zmin) / dZ)\n",
    "    \n",
    "    dZ = (Zmax-Zmin)/iZ # update to fit grid boundaries\n",
    "\n",
    "    Z = np.linspace(Zmin, Zmax, iZ + 1) # Nx total grid points from 0 to L included (combine two np.linspace of different step sizes)\n",
    "    nt = int(round(T/dt)) # number of steps in time\n",
    "    dt = T/nt\n",
    "    \n",
    "    print(f'Stepsizes: dz = {dZ} and dt = {dt}')\n",
    "    print(f'lambda = {dt/dZ}')\n",
    "\n",
    "     #----------------------------------------------------------------------------------------\n",
    "    \n",
    "    ### INITIAL AND BOUNDARY CONDITIONS\n",
    "    VIC = np.maximum(np.exp(Z) - K, 0)\n",
    "\n",
    "    VB1 = 0\n",
    "    VB2 = Smax\n",
    "\n",
    "    VIC[0] = VB1 # still use zero as the boundary value\n",
    "    VIC[-1] = VB2\n",
    "    \n",
    "     #----------------------------------------------------------------------------------------\n",
    "    \n",
    "    ### SOLVING THE TRIDIAGONAL SYSTEM ---> first two CN steps replaced with 2nd and 4th Laasonen half-steps\n",
    "    # Define solution matrix\n",
    "    V = np.memmap('R2CNPVmatrix.arr', dtype=np.float64, mode='w+', shape=(iZ-1, nt+1)) # np.zeros((iZ-1, nt+1))\n",
    "    # Initialise starting matrix\n",
    "    Vstart = np.zeros((iZ-1, nt+1))\n",
    "    # add initial conditions in first column\n",
    "    Vstart[:,0] = VIC[1:-1]\n",
    "    \n",
    "    ## Rannacher timestepping\n",
    "    VRanStart = RannacherStart(R=R, dt=dt, nt=nt, dZ=dZ, iZ=iZ, VIC=VIC)\n",
    "    for j in range(nt+1):\n",
    "        V[:, j] = VRanStart[:,j]\n",
    "    \n",
    "    ## Crank-Nicolson\n",
    "    # Define tridiagonal system\n",
    "    # constants in system\n",
    "    ac = (dt/4 * (sig**2/dZ**2 - (r - 0.5*sig**2)/dZ))\n",
    "    bc = (dt/2 * (sig**2/dZ**2 + r)) # care with 1 +/- b\n",
    "    cc = (dt/4 * (sig**2/dZ**2 + (r - 0.5*sig**2)/dZ))\n",
    "\n",
    "    # vectors of tridiagonal\n",
    "    a = - ac * np.ones(iZ-1) # lower diag\n",
    "    b = (1 + bc) * np.ones(iZ-1) # diag has (1 - bc)\n",
    "    c = - cc * np.ones(iZ-1) # upper diag\n",
    "\n",
    "    # check diagonal dominance for thomas algorithm stability\n",
    "    print('\\n Tridiagonal system coefficients:')\n",
    "    print(f'lower diag values = {-ac}')\n",
    "    print(f'diag values = {1 + bc}')\n",
    "    print(f'upper diag values = {-cc}')\n",
    "\n",
    "\n",
    "    # empty RHS vector\n",
    "    d = np.zeros(iZ-1)\n",
    "\n",
    "\n",
    "    # iterate over time, excluding first two timesteps solved with Rannacher timestepping\n",
    "    for j in range(R+1, nt+1):\n",
    "        # left boundary\n",
    "        d[0] = (ac*VB1 + (1 - bc)*V[0,j-1] + cc*V[1,j-1]) + ac*VB1\n",
    "        # no boundaries involved\n",
    "        d[1:-1] = (ac*V[0:-2,j-1] + (1 - bc)*V[1:-1,j-1] + cc*V[2:,j-1])\n",
    "        # right boundary\n",
    "        d[-1] = (ac*V[-2,j-1] + (1 - bc)*V[-1,j-1] + cc*VB2) + cc*VB2 #problematic\n",
    "    \n",
    "        # store solution\n",
    "        V[:,j] = TDMA(a,b,c,d)\n",
    "    \n",
    "    V.flush()\n",
    "    \n",
    "    V = np.memmap('R2CNPVmatrix.arr', dtype=np.float64, mode='r', shape=(iZ-1, nt+1)) \n",
    "    \n",
    "\n",
    "    # Matrix of results\n",
    "    # Add the i=0 and i=nS boundary condition values\n",
    "\n",
    "    Vsol = np.zeros((iZ+1,nt+1))\n",
    "    V0 = np.array([VB1])\n",
    "    ViZ = np.array([VB2])\n",
    "    \n",
    "    for j in range(nt+1):\n",
    "        Vsol[:,j] = np.concatenate((V0, V[:,j], ViZ), axis=0)\n",
    "    \n",
    "    #----------------------------------------------------------------------------------------\n",
    "    ### // CALCULATING MAX ERROR //\n",
    "    \n",
    "    # Errors\n",
    "    # max\n",
    "    Error = DErrors_Z(Vsol, Z, dt=dt, nt=nt)\n",
    "    # abs max\n",
    "    Aerror = np.abs(Error)\n",
    "    \n",
    "    # Absolute final error values\n",
    "    AFE = Aerror[:,-1]\n",
    "\n",
    "    \n",
    "    ###  CONSIDERING THE ENTIRE S DOMAIN \n",
    "    # MAX ERROR\n",
    "    ME = np.max(AFE)\n",
    "    print('\\n ENTIRE S DOMAIN ERRORS')\n",
    "    print(f'1. Maximal error: {ME} \\n')\n",
    "    ME_ind = np.where(AFE == ME)[0][0]\n",
    "    print(f'located at {ME_ind}, z value of {Zmin + ME_ind*dZ}, S value of {np.exp(Zmin + ME_ind*dZ)} \\n')\n",
    "\n",
    "\n",
    "    # Absolute error sum across S grid at present time\n",
    "    AES = np.sum(AFE)\n",
    "    print(f'2. Absolute sum of errors: {AES}')\n",
    "\n",
    "    \n",
    "    ###  CONSIDERING A REALISTIC S DOMAIN FROM 0-1000\n",
    "    # Define a cutoff at a large enough S and corresponding Z\n",
    "    Scut = 100\n",
    "    Zcut = np.log(Scut)\n",
    "    cutoff = int((Zcut - Zmin) / dZ)\n",
    "\n",
    "    R_AFE = AFE[:cutoff]\n",
    "\n",
    "    R_ME = np.max(R_AFE)\n",
    "    print('\\n REALISTIC S DOMAIN ERRORS')\n",
    "    print(f'1. Maximal error: {R_ME} \\n')\n",
    "\n",
    "    R_ME_ind = np.where(R_AFE == R_ME)[0][0]\n",
    "    print(f'located at {R_ME_ind}, z value of {Zmin + R_ME_ind*dZ}, S value of {np.exp(Zmin + R_ME_ind*dZ)} \\n')\n",
    "\n",
    "\n",
    "    # Absolute error for each time\n",
    "    R_AES = np.sum(R_AFE)\n",
    "    print(f'2. Absolute sum of errors: {R_AES}')\n",
    "    \n",
    "    return ME, R_ME, Vsol[:,-1] #max error, real max error, present value"
   ]
  },
  {
   "cell_type": "markdown",
   "id": "22c1d68b-4f36-4e05-8e62-4a2d80d80f3b",
   "metadata": {
    "tags": []
   },
   "source": [
    "# Results"
   ]
  },
  {
   "cell_type": "markdown",
   "id": "d8d3b05f-649c-47d5-9fa5-815ea6939dc3",
   "metadata": {
    "tags": []
   },
   "source": [
    "### 2. $\\lambda = \\frac{\\Delta t}{\\Delta z} = 10$"
   ]
  },
  {
   "cell_type": "code",
   "execution_count": 8,
   "id": "7a847692-d71d-4cfd-b7c2-74a4392ed9e4",
   "metadata": {},
   "outputs": [],
   "source": [
    "# Empty list to store max error values\n",
    "L2_max_errors = []\n",
    "L2_real_max_errors = []\n",
    "# Empty list to store dt and dz's\n",
    "L2_dt_vals = []\n",
    "L2_dz_vals = []\n"
   ]
  },
  {
   "cell_type": "markdown",
   "id": "0dcc01c6-42f5-4d05-83c0-ec77cdd78564",
   "metadata": {
    "jp-MarkdownHeadingCollapsed": true,
    "tags": []
   },
   "source": [
    "#### 2.1 Parameters $\\Delta z = 0.1, \\Delta t = 1$"
   ]
  },
  {
   "cell_type": "code",
   "execution_count": 9,
   "id": "e3f8d642-d630-499d-a8a9-4824049eac69",
   "metadata": {},
   "outputs": [],
   "source": [
    "dZ=0.1\n",
    "dt=1"
   ]
  },
  {
   "cell_type": "code",
   "execution_count": 10,
   "id": "848ace2a-804f-474d-8f51-c000026d7778",
   "metadata": {},
   "outputs": [
    {
     "name": "stdout",
     "output_type": "stream",
     "text": [
      "Stepsizes: dz = 0.10013855831631045 and dt = 1.0\n",
      "lambda = 9.98616334021179\n",
      "\n",
      " Tridiagonal system coefficients:\n",
      "lower diag values = -0.539099720391105\n",
      "diag values = 2.1318889053956367\n",
      "upper diag values = -0.5827891850045315\n",
      "\n",
      " ENTIRE S DOMAIN ERRORS\n",
      "1. Maximal error: 2793.6393849231463 \n",
      "\n",
      "located at 291, z value of 6.114469540105883, S value of 452.3560269860505 \n",
      "\n",
      "2. Absolute sum of errors: 5676.824107378977\n",
      "\n",
      " REALISTIC S DOMAIN ERRORS\n",
      "1. Maximal error: 0.04759797718675518 \n",
      "\n",
      "located at 253, z value of 2.309204324086089, S value of 10.066411866183358 \n",
      "\n",
      "2. Absolute sum of errors: 0.19674469651417692\n"
     ]
    }
   ],
   "source": [
    "L2P1 = PV_Rannacher(dt=dt, dZ=dZ, R=2)"
   ]
  },
  {
   "cell_type": "code",
   "execution_count": 11,
   "id": "ac4e07bb-c292-484b-94bc-2383de566edc",
   "metadata": {},
   "outputs": [],
   "source": [
    "L2_max_errors.append(L2P1[0])\n",
    "L2_real_max_errors.append(L2P1[1])\n",
    "L2_dt_vals.append(dt)\n",
    "L2_dz_vals.append(dZ)"
   ]
  },
  {
   "cell_type": "markdown",
   "id": "dd106bca-9a1d-4a89-a801-546efb2d326c",
   "metadata": {
    "jp-MarkdownHeadingCollapsed": true,
    "tags": []
   },
   "source": [
    "#### 2.2 Parameters $\\Delta z = 0.05, \\Delta t = 0.5$"
   ]
  },
  {
   "cell_type": "code",
   "execution_count": 12,
   "id": "d8edb14f-f760-4ef5-b26f-7a363383d2e1",
   "metadata": {},
   "outputs": [],
   "source": [
    "dZ=0.05\n",
    "dt=0.5"
   ]
  },
  {
   "cell_type": "code",
   "execution_count": 13,
   "id": "ee3c216a-9fd9-4dc5-8cb5-4399a30f08b2",
   "metadata": {},
   "outputs": [
    {
     "name": "stdout",
     "output_type": "stream",
     "text": [
      "Stepsizes: dz = 0.049983690646773764 and dt = 0.5\n",
      "lambda = 10.003262934972428\n",
      "\n",
      " Tridiagonal system coefficients:\n",
      "lower diag values = -1.103852142474421\n",
      "diag values = 3.2564685602893464\n",
      "upper diag values = -1.1476164178149255\n",
      "\n",
      " ENTIRE S DOMAIN ERRORS\n",
      "1. Maximal error: 763.0201420568952 \n",
      "\n",
      "located at 581, z value of 6.0146733358350986, S value of 409.39208334822206 \n",
      "\n",
      "2. Absolute sum of errors: 4663.550952392508\n",
      "\n",
      " REALISTIC S DOMAIN ERRORS\n",
      "1. Maximal error: 0.006733510239675056 \n",
      "\n",
      "located at 507, z value of 2.3158802279738424, S value of 10.133839082682153 \n",
      "\n",
      "2. Absolute sum of errors: 0.08315581192740563\n"
     ]
    }
   ],
   "source": [
    "L2P2 = PV_Rannacher(dt=dt, dZ=dZ, R=2)"
   ]
  },
  {
   "cell_type": "code",
   "execution_count": 14,
   "id": "66db0030-3ead-4570-8964-4338ba6bb131",
   "metadata": {},
   "outputs": [],
   "source": [
    "L2_max_errors.append(L2P2[0])\n",
    "L2_real_max_errors.append(L2P2[1])\n",
    "L2_dt_vals.append(dt)\n",
    "L2_dz_vals.append(dZ)"
   ]
  },
  {
   "cell_type": "markdown",
   "id": "f426ada5-70c8-40c2-9e09-bba519dfb662",
   "metadata": {
    "jp-MarkdownHeadingCollapsed": true,
    "tags": []
   },
   "source": [
    "#### 2.3 Parameters $\\Delta z = 0.025, \\Delta t = 0.25$"
   ]
  },
  {
   "cell_type": "code",
   "execution_count": 15,
   "id": "d3c63a7c-74bc-4a9d-b3ad-f67954163c86",
   "metadata": {},
   "outputs": [],
   "source": [
    "dZ = 0.025\n",
    "dt = 0.25"
   ]
  },
  {
   "cell_type": "code",
   "execution_count": 16,
   "id": "9a83bb44-b30c-416b-a68a-d8e45f2f8c23",
   "metadata": {},
   "outputs": [
    {
     "name": "stdout",
     "output_type": "stream",
     "text": [
      "Stepsizes: dz = 0.024991845323386882 and dt = 0.25\n",
      "lambda = 10.003262934972428\n",
      "\n",
      " Tridiagonal system coefficients:\n",
      "lower diag values = -2.2295864226190942\n",
      "diag values = 5.505437120578693\n",
      "upper diag values = -2.2733506979595988\n",
      "\n",
      " ENTIRE S DOMAIN ERRORS\n",
      "1. Maximal error: 317.4628274681995 \n",
      "\n",
      "located at 1162, z value of 6.0146733358350986, S value of 409.39208334822206 \n",
      "\n",
      "2. Absolute sum of errors: 4386.944740267585\n",
      "\n",
      " REALISTIC S DOMAIN ERRORS\n",
      "1. Maximal error: 0.0013154598707083576 \n",
      "\n",
      "located at 1015, z value of 2.340872073297227, S value of 10.3902937106048 \n",
      "\n",
      "2. Absolute sum of errors: 0.038687229133859205\n"
     ]
    }
   ],
   "source": [
    "L2P3 = PV_Rannacher(dt=dt, dZ=dZ, R=2)"
   ]
  },
  {
   "cell_type": "code",
   "execution_count": 17,
   "id": "7cb16609-19c3-4c89-aa36-254fb2df5c4c",
   "metadata": {},
   "outputs": [],
   "source": [
    "L2_max_errors.append(L2P3[0])\n",
    "L2_real_max_errors.append(L2P3[1])\n",
    "L2_dt_vals.append(dt)\n",
    "L2_dz_vals.append(dZ)"
   ]
  },
  {
   "cell_type": "markdown",
   "id": "6f115f42-1686-4628-bc4b-95ae31c02f75",
   "metadata": {
    "jp-MarkdownHeadingCollapsed": true,
    "tags": []
   },
   "source": [
    "#### 2.4 Parameters $\\Delta z = 0.01, \\Delta t = 0.1$"
   ]
  },
  {
   "cell_type": "code",
   "execution_count": 18,
   "id": "87517407-db52-4cf2-962a-a7b50e0c4166",
   "metadata": {},
   "outputs": [],
   "source": [
    "dZ=0.01\n",
    "dt=0.1"
   ]
  },
  {
   "cell_type": "code",
   "execution_count": 19,
   "id": "587c19b6-d59b-4aac-af8f-f3b66c7681ff",
   "metadata": {},
   "outputs": [
    {
     "name": "stdout",
     "output_type": "stream",
     "text": [
      "Stepsizes: dz = 0.010000156986444134 and dt = 0.1\n",
      "lambda = 9.999843016020302\n",
      "\n",
      " Tridiagonal system coefficients:\n",
      "lower diag values = -5.602948737811518\n",
      "diag values = 12.250646788818125\n",
      "upper diag values = -5.646698051006607\n",
      "\n",
      " ENTIRE S DOMAIN ERRORS\n",
      "1. Maximal error: 121.21013077030995 \n",
      "\n",
      "located at 2903, z value of 6.004604801706865, S value of 405.2907868545423 \n",
      "\n",
      "2. Absolute sum of errors: 4435.737272145938\n",
      "\n",
      " REALISTIC S DOMAIN ERRORS\n",
      "1. Maximal error: 0.0002909141155860162 \n",
      "\n",
      "located at 2535, z value of 2.324547030695424, S value of 10.222048762627221 \n",
      "\n",
      "2. Absolute sum of errors: 0.017296427220881108\n"
     ]
    }
   ],
   "source": [
    "L2P4 = PV_Rannacher(dt=dt, dZ=dZ, R=2)"
   ]
  },
  {
   "cell_type": "code",
   "execution_count": 20,
   "id": "cc476bb2-af82-440b-a608-3975ce4b0174",
   "metadata": {},
   "outputs": [],
   "source": [
    "L2_max_errors.append(L2P4[0])\n",
    "L2_real_max_errors.append(L2P4[1])\n",
    "L2_dt_vals.append(dt)\n",
    "L2_dz_vals.append(dZ)"
   ]
  },
  {
   "cell_type": "markdown",
   "id": "3f6f980a-3a9b-4005-aaf5-f5029a6752c2",
   "metadata": {
    "jp-MarkdownHeadingCollapsed": true,
    "tags": []
   },
   "source": [
    "#### 2.5 Parameters: $\\Delta z = 0.005, \\Delta t = 0.05$"
   ]
  },
  {
   "cell_type": "code",
   "execution_count": 21,
   "id": "3d241a36-c0e9-40fd-8369-286714955b3f",
   "metadata": {},
   "outputs": [],
   "source": [
    "dZ=0.005\n",
    "dt=0.05"
   ]
  },
  {
   "cell_type": "code",
   "execution_count": 22,
   "id": "4adab482-698b-43ec-9097-0aaefc93c8b2",
   "metadata": {},
   "outputs": [
    {
     "name": "stdout",
     "output_type": "stream",
     "text": [
      "Stepsizes: dz = 0.005000078493222067 and dt = 0.05\n",
      "lambda = 9.999843016020302\n",
      "\n",
      " Tridiagonal system coefficients:\n",
      "lower diag values = -11.22777213222058\n",
      "diag values = 23.49979357763625\n",
      "upper diag values = -11.27152144541567\n",
      "\n",
      " ENTIRE S DOMAIN ERRORS\n",
      "1. Maximal error: 94.40746615920546 \n",
      "\n",
      "located at 5847, z value of 6.209608019928968, S value of 497.50620054547414 \n",
      "\n",
      "2. Absolute sum of errors: 4573.036564385731\n",
      "\n",
      " REALISTIC S DOMAIN ERRORS\n",
      "1. Maximal error: 5.4770272817306065e-05 \n",
      "\n",
      "located at 5072, z value of 2.334547187681867, S value of 10.324783681485076 \n",
      "\n",
      "2. Absolute sum of errors: 0.007854730330163567\n"
     ]
    }
   ],
   "source": [
    "L2P5 = PV_Rannacher(dt=dt, dZ=dZ, R=2)"
   ]
  },
  {
   "cell_type": "code",
   "execution_count": 23,
   "id": "6fcdf621-d8bb-4d34-98f6-dab6485f5584",
   "metadata": {},
   "outputs": [],
   "source": [
    "L2_max_errors.append(L2P5[0])\n",
    "L2_real_max_errors.append(L2P5[1])\n",
    "L2_dt_vals.append(dt)\n",
    "L2_dz_vals.append(dZ)"
   ]
  },
  {
   "cell_type": "markdown",
   "id": "b73e20cb-d862-47d6-b8c8-cf036afdf251",
   "metadata": {
    "jp-MarkdownHeadingCollapsed": true,
    "tags": []
   },
   "source": [
    "#### 2.6 Parameters: $\\Delta z = 0.0025, \\Delta t = 0.025$"
   ]
  },
  {
   "cell_type": "code",
   "execution_count": 24,
   "id": "8f132011-ba66-4c04-898c-2c92582412ff",
   "metadata": {},
   "outputs": [],
   "source": [
    "dZ=0.0025\n",
    "dt=0.025"
   ]
  },
  {
   "cell_type": "code",
   "execution_count": 25,
   "id": "b14456ce-6461-4948-8c3f-f0baaa29ac1b",
   "metadata": {},
   "outputs": [
    {
     "name": "stdout",
     "output_type": "stream",
     "text": [
      "Stepsizes: dz = 0.0025000392466110336 and dt = 0.025\n",
      "lambda = 9.999843016020302\n",
      "\n",
      " Tridiagonal system coefficients:\n",
      "lower diag values = -22.477418921038705\n",
      "diag values = 45.9988371552725\n",
      "upper diag values = -22.521168234233794\n",
      "\n",
      " ENTIRE S DOMAIN ERRORS\n",
      "1. Maximal error: 87.4714073198761 \n",
      "\n",
      "located at 11695, z value of 6.212108059175581, S value of 498.75154162442186 \n",
      "\n",
      "2. Absolute sum of errors: 4893.069205861541\n",
      "\n",
      " REALISTIC S DOMAIN ERRORS\n",
      "1. Maximal error: 1.750980222414711e-05 \n",
      "\n",
      "located at 10141, z value of 2.327047069942033, S value of 10.247636257257701 \n",
      "\n",
      "2. Absolute sum of errors: 0.004255050567783563\n"
     ]
    }
   ],
   "source": [
    "L2P6 = PV_Rannacher(dt=dt, dZ=dZ, R=2)"
   ]
  },
  {
   "cell_type": "code",
   "execution_count": 26,
   "id": "7d2d407f-c2a8-4ceb-b34a-5913f1b49f06",
   "metadata": {},
   "outputs": [],
   "source": [
    "L2_max_errors.append(L2P6[0])\n",
    "L2_real_max_errors.append(L2P6[1])\n",
    "L2_dt_vals.append(dt)\n",
    "L2_dz_vals.append(dZ)"
   ]
  },
  {
   "cell_type": "markdown",
   "id": "240c99f7-56bb-4e7b-8f10-f12f8276e208",
   "metadata": {
    "tags": []
   },
   "source": [
    "#### 2.7 Parameters: $\\Delta z = 0.001, \\Delta t = 0.01$"
   ]
  },
  {
   "cell_type": "code",
   "execution_count": 27,
   "id": "af8d9c72-2ec2-4ada-bc2c-e549635558bb",
   "metadata": {},
   "outputs": [],
   "source": [
    "dZ=0.001\n",
    "dt=0.01"
   ]
  },
  {
   "cell_type": "code",
   "execution_count": 28,
   "id": "3224396c-bd03-4f1e-a9f6-fd8873426cd2",
   "metadata": {},
   "outputs": [
    {
     "name": "stdout",
     "output_type": "stream",
     "text": [
      "Stepsizes: dz = 0.0010000156986444135 and dt = 0.01\n",
      "lambda = 9.9998430160203\n",
      "\n",
      " Tridiagonal system coefficients:\n",
      "lower diag values = -56.22635928749307\n",
      "diag values = 113.49656788818123\n",
      "upper diag values = -56.27010860068816\n",
      "\n",
      " ENTIRE S DOMAIN ERRORS\n",
      "1. Maximal error: 83.98716628119291 \n",
      "\n",
      "located at 29239, z value of 6.21360808272355, S value of 499.5002420752119 \n",
      "\n",
      "2. Absolute sum of errors: 5905.247189634037\n",
      "\n",
      " REALISTIC S DOMAIN ERRORS\n",
      "1. Maximal error: 3.974729220423967e-06 \n",
      "\n",
      "located at 25347, z value of 2.321546983599493, S value of 10.191428089619226 \n",
      "\n",
      "2. Absolute sum of errors: 0.0020363081120903805\n"
     ]
    }
   ],
   "source": [
    "L2P7 = PV_Rannacher(dt=dt, dZ=dZ, R=2)"
   ]
  },
  {
   "cell_type": "code",
   "execution_count": 29,
   "id": "737be0ef-4ced-4b89-80c9-d8bc76548f35",
   "metadata": {},
   "outputs": [],
   "source": [
    "L2_max_errors.append(L2P7[0])\n",
    "L2_real_max_errors.append(L2P7[1])\n",
    "L2_dt_vals.append(dt)\n",
    "L2_dz_vals.append(dZ)"
   ]
  },
  {
   "cell_type": "markdown",
   "id": "8dae3d46-9054-4882-87ec-2c4cebd9c6d5",
   "metadata": {
    "jp-MarkdownHeadingCollapsed": true,
    "tags": []
   },
   "source": [
    "#### Additional steps "
   ]
  },
  {
   "cell_type": "code",
   "execution_count": 30,
   "id": "e8699479-010f-45b0-8f19-75b1769cf3e7",
   "metadata": {},
   "outputs": [],
   "source": [
    "# Empty list to store max error values\n",
    "L2a_max_errors = []\n",
    "L2a_real_max_errors = []\n",
    "# Empty list to store dt and dz's\n",
    "L2a_dt_vals = []\n",
    "L2a_dz_vals = []"
   ]
  },
  {
   "cell_type": "code",
   "execution_count": 31,
   "id": "179d7c97-fe51-4595-a0ca-dc9957050afb",
   "metadata": {},
   "outputs": [],
   "source": [
    "# dZ = 0.075\n",
    "# dt = 0.075*10\n",
    "\n",
    "# L2a1 = PV_Rannacher(dt=dt, dZ=dZ, R=2)\n",
    "# L2a_max_errors.append(L2a1[0])\n",
    "# L2a_real_max_errors.append(L2a1[1])\n",
    "# L2a_dt_vals.append(dt)\n",
    "# L2a_dz_vals.append(dZ)\n",
    "\n",
    "# ###########\n",
    "\n",
    "# dZ = 0.0375\n",
    "# dt = 0.0375*10\n",
    "\n",
    "# L2a2 = PV_Rannacher(dt=dt, dZ=dZ, R=2)\n",
    "# L2a_max_errors.append(L2a2[0])\n",
    "# L2a_real_max_errors.append(L2a2[1])\n",
    "# L2a_dt_vals.append(dt)\n",
    "# L2a_dz_vals.append(dZ)\n",
    "\n",
    "# ###########\n",
    "\n",
    "# dZ = 0.0175\n",
    "# dt = 0.0175*10\n",
    "\n",
    "# L2a3 = PV_Rannacher(dt=dt, dZ=dZ, R=2)\n",
    "# L2a_max_errors.append(L2a3[0])\n",
    "# L2a_real_max_errors.append(L2a3[1])\n",
    "# L2a_dt_vals.append(dt)\n",
    "# L2a_dz_vals.append(dZ)\n",
    "\n",
    "# ###########\n",
    "\n",
    "# dZ = 0.0075\n",
    "# dt = 0.0075*10\n",
    "\n",
    "# L2a4 = PV_Rannacher(dt=dt, dZ=dZ, R=2)\n",
    "# L2a_max_errors.append(L2a4[0])\n",
    "# L2a_real_max_errors.append(L2a4[1])\n",
    "# L2a_dt_vals.append(dt)\n",
    "# L2a_dz_vals.append(dZ)\n",
    "\n",
    "# ###########\n",
    "\n",
    "# dZ = 0.00375\n",
    "# dt = 0.00375*10\n",
    "\n",
    "# L2a5 = PV_Rannacher(dt=dt, dZ=dZ, R=2)\n",
    "# L2a_max_errors.append(L2a5[0])\n",
    "# L2a_real_max_errors.append(L2a5[1])\n",
    "# L2a_dt_vals.append(dt)\n",
    "# L2a_dz_vals.append(dZ)\n",
    "\n",
    "# ###########\n",
    "\n",
    "# dZ = 0.00175\n",
    "# dt = 0.00175*10\n",
    "\n",
    "# L2a6 = PV_Rannacher(dt=dt, dZ=dZ, R=2)\n",
    "# L2a_max_errors.append(L2a6[0])\n",
    "# L2a_real_max_errors.append(L2a6[1])\n",
    "# L2a_dt_vals.append(dt)\n",
    "# L2a_dz_vals.append(dZ)\n",
    "\n",
    "# ###########\n",
    "\n",
    "# dZ = 0.00075\n",
    "# dt = 0.00075*10\n",
    "\n",
    "# L2a7 = PV_Rannacher(dt=dt, dZ=dZ, R=2)\n",
    "# L2a_max_errors.append(L2a7[0])\n",
    "# L2a_real_max_errors.append(L2a7[1])\n",
    "# L2a_dt_vals.append(dt)\n",
    "# L2a_dz_vals.append(dZ)\n",
    "\n",
    "# ###########\n",
    "\n",
    "# dZ = 0.0005\n",
    "# dt = 0.0005*10\n",
    "\n",
    "# L2a8 = PV_Rannacher(dt=dt, dZ=dZ, R=2)\n",
    "# L2a_max_errors.append(L2a8[0])\n",
    "# L2a_real_max_errors.append(L2a8[1])\n",
    "# L2a_dt_vals.append(dt)\n",
    "# L2a_dz_vals.append(dZ)\n",
    "\n",
    "# ###########\n",
    "\n",
    "# dZ = 0.00025\n",
    "# dt = 0.00025*10\n",
    "\n",
    "# L2a9 = PV_Rannacher(dt=dt, dZ=dZ, R=2)\n",
    "# L2a_max_errors.append(L2a9[0])\n",
    "# L2a_real_max_errors.append(L2a9[1])\n",
    "# L2a_dt_vals.append(dt)\n",
    "# L2a_dz_vals.append(dZ)"
   ]
  },
  {
   "cell_type": "markdown",
   "id": "f89e190d-839d-44c4-b1d4-83d5eb5b74b6",
   "metadata": {
    "jp-MarkdownHeadingCollapsed": true,
    "tags": []
   },
   "source": [
    "#### PLOTS of Convergence for decreasing step size"
   ]
  },
  {
   "cell_type": "code",
   "execution_count": 32,
   "id": "ef7b644c-1a8a-4184-9098-7dfed4e66037",
   "metadata": {},
   "outputs": [],
   "source": [
    "# delta t values\n",
    "dt_vals = np.array(L2_dt_vals + L2a_dt_vals)\n",
    "sorted_indices = np.argsort(dt_vals)\n",
    "dt_vals = np.array([dt_vals[i] for i in sorted_indices])\n",
    "inv_dt_vals = np.divide(np.ones(len(dt_vals)), dt_vals)\n",
    "\n",
    "# delta z values\n",
    "dz_vals = np.array(L2_dz_vals + L2a_dz_vals)\n",
    "dz_vals = np.array([dz_vals[i] for i in sorted_indices])\n",
    "inv_dz_vals = np.divide(np.ones(len(dz_vals)), dz_vals)\n",
    "\n",
    "\n",
    "# max errors in realistic range\n",
    "real_max_errors = np.array(L2_real_max_errors + L2a_real_max_errors)\n",
    "real_max_errors = np.array([real_max_errors[i] for i in sorted_indices])\n",
    "\n",
    "# max errors in entire range\n",
    "max_errors = np.array(L2_max_errors + L2a_max_errors)\n",
    "max_errors = np.array([max_errors[i] for i in sorted_indices])"
   ]
  },
  {
   "cell_type": "markdown",
   "id": "12841103-e660-4383-926a-8f56943d2af6",
   "metadata": {
    "tags": []
   },
   "source": [
    "##### Realistic S domain for 1/dz"
   ]
  },
  {
   "cell_type": "code",
   "execution_count": 33,
   "id": "3e8d605a-2aee-449d-8486-ddd3f2b698e3",
   "metadata": {},
   "outputs": [
    {
     "data": {
      "application/vnd.jupyter.widget-view+json": {
       "model_id": "a325f0eadd2c45dcb6fdf553cfe4eeef",
       "version_major": 2,
       "version_minor": 0
      },
      "image/png": "[encoded data removed]",
      "text/html": [
       "\n",
       "            <div style=\"display: inline-block;\">\n",
       "                <div class=\"jupyter-widgets widget-label\" style=\"text-align: center;\">\n",
       "                    Figure\n",
       "                </div>\n",
       "                <img src='data:image/png;base64,iVBORw0KGgoAAAANSUhEUgAAAoAAAAHgCAYAAAA10dzkAAAAOXRFWHRTb2Z0d2FyZQBNYXRwbG90bGliIHZlcnNpb24zLjUuMiwgaHR0cHM6Ly9tYXRwbG90bGliLm9yZy8qNh9FAAAACXBIWXMAAA9hAAAPYQGoP6dpAABFbUlEQVR4nO3deXhUVYL+8beyEwiRHQIhBJAhgjSYKARBXCAIiqI4IoMIIs5EWlnyUxDFAAmK7ULTCgGhozaDDYyC0y6oxIWIEpeGoKwuLRhlEVlMogjZzu8Pn9RQZiEJ96Zupb6f56mnrXPPPefck3Tq5dylXMYYIwAAAPiNAG8PAAAAAPWLAAgAAOBnCIAAAAB+hgAIAADgZwiAAAAAfoYACAAA4GcIgAAAAH6GAAgAAOBnCIAAAAB+hgAIAADgZwiAAAAAfoYACAAA4GcIgAAAAH6GAAgAAOBnCIAAAAB+hgAIAADgZwiAAAAAfoYACAAA4GcIgAAAAH6GAAgAAOBnCIAAAAB+hgAIAADgZwiAAAAAfoYACAAA4GcIgAAAAH6GAAgAAOBnCIAAAAB+hgAIAADgZwiAAAAAfoYACAAA4GcIgAAAAH6GAAgAAOBnCIAAAAB+hgAIAADgZwiAAAAAfoYACAAA4GcIgEAD9fzzz8vlcsnlcmnTpk0Vthtj1LVrV7lcLl1++eX1Pj5ftnbtWvXo0UONGjWSy+XS9u3bbe3v1KlTCgoKUkREhO655x5b+ypXWFioGTNmKCkpSa1atZLL5dLcuXOrrP/zzz9r2rRpioqKUlhYmHr37q01a9bUy1gB1B4BEGjgIiIilJmZWaE8Oztb//rXvxQREeGFUfmuH3/8UePGjVOXLl305ptvKicnR926dbO1T5fLpXfffVeXXHKJFi9erC+//NLW/iTp2LFjWr58uU6fPq2RI0eetf6NN96ov/3tb5ozZ47eeOMNXXzxxRozZoz+/ve/2z5WALVHAAQauNGjR2vdunUqKCjwKM/MzFRiYqI6duzopZHV3cmTJ2tVbkXb5b788ksVFxfr1ltv1aBBg9SvXz+Fh4fb2mdoaKguu+wyzZgxQ5K0devWc+qvJmJiYnTixAllZ2drwYIF1dbdsGGDsrKylJGRof/6r//SFVdcoRUrVmjIkCG67777VFpaavt4AdQOARBo4MaMGSNJWr16tbssPz9f69at08SJEyvU//rrr3X77bfr/PPPV3h4uNq3b68RI0Zox44d7jqnTp1Snz591LVrV+Xn57vLDx8+rLZt2+ryyy8/64f+V199pf/4j/9Q69atFRoaqri4OC1ZsqRCvblz58rlcmnbtm266aab1KxZM3Xp0qXK8nIffPCBrrrqKkVERCg8PFz9+/fX66+/XqO2qzJhwgQNGDBA0m/B+szT5zXpry59nql79+6SZPspZ0nuywdq4uWXX1aTJk307//+7x7lt99+uw4ePKiPP/7YjiECOAcEQKCBa9q0qW666SY9++yz7rLVq1crICBAo0ePrlD/4MGDatGihR599FG9+eabWrJkiYKCgtS3b1998cUXkqSwsDD9z//8j44cOeIOkWVlZRo7dqyMMVq9erUCAwOrHNPu3bt18cUXa+fOnXryySf12muv6ZprrtGUKVM0b968Sve58cYb1bVrV7344otatmxZteXZ2dm68sorlZ+fr8zMTK1evVoREREaMWKE1q5dW+O2f++hhx5yh9RHHnlEOTk5ysjIqHV/tenzTH/6058knT0AGmNUUlJSo5cVdu7cqbi4OAUFBXmU9+rVy70dgMMYAA3Sc889ZySZTz/91Lz33ntGktm5c6cxxpiLL77YTJgwwRhjTI8ePcygQYOqbKekpMQUFRWZ888/30yfPt1j29q1a40ks2jRIpOammoCAgLMxo0bzzq2oUOHmg4dOpj8/HyP8rvvvtuEhYWZ48ePu8vmzJljJJnU1FSPulWVG2NMv379TOvWrU1hYaHHcfTs2dN06NDBlJWVnbWNqpTP5Ysvvljr/urapzHGvPXWW0aSadasmWnVqlWNxliT1759+87a948//mgkmTlz5lS6/fzzzzdDhw6tUH7w4EEjyTzyyCM1OUQA9YgVQMAPDBo0SF26dNGzzz6rHTt26NNPP6309K8klZSU6JFHHtEFF1ygkJAQBQUFKSQkRF999ZX27NnjUffmm2/WXXfdpfvuu0/z58/XAw88oCFDhlQ7llOnTumdd97RDTfcoPDwcI/VqOHDh+vUqVP66KOPKuw3atSoStv7ffkvv/yijz/+WDfddJOaNGniLg8MDNS4ceP0/fffu1cyz9Z2TdSlv9r2+dNPP2nixIm6/vrrNXnyZP344486ePBglfXj4+P16aef1ugVFRVVuwOuQnWni2t6KhlA/Qk6exUAvs7lcun222/XU089pVOnTqlbt24aOHBgpXVTUlK0ZMkSzZw5U4MGDVKzZs0UEBCgSZMm6ddff61Qf+LEiVq6dKlCQkI0ZcqUs47l2LFjKikp0dNPP62nn3660jpHjx6tUNauXbtK6/6+/MSJEzLGVFq/POwcO3asRm3XRF36q22ff/zjH1VcXKwVK1bo/fffl/TbaeCqwluTJk3Uu3fvGrX9+9O2ddGiRYtKj/H48eOSpObNm59zHwCsRQAE/MSECROUmpqqZcuW6eGHH66y3qpVq3TbbbfpkUce8Sg/evSozjvvPI+yX375RePGjVO3bt30ww8/aNKkSfrHP/5R7TiaNWvmXh374x//WGmd2NjYCmVVrSL9vrw8sB46dKhC3fJVs5YtW9ao7ZqoS3+16fOll17S3//+d7366qtq1aqVLrroIkm/BcDhw4dXuk92drauuOKKGrW/b98+derUqUZ1q3LhhRdq9erVKikp8QiU5TcO9ezZ85zaB2A9AiDgJ9q3b6/77rtPe/fu1fjx46us53K5FBoa6lH2+uuv68CBA+ratatHeXJysvLy8vTJJ59o7969uummm/TnP/9Z06dPr7L98PBwXXHFFcrNzVWvXr0UEhJybgf2O40bN1bfvn21fv16PfHEE2rUqJGk325SWbVqlTp06GDpc/vs7O/w4cNKTk7Wf/7nf+raa6+V9Fs4Pu+885Sbm1vlfuWngGvCilPAN9xwg1asWKF169Z53Fj0t7/9TVFRUerbt+859wHAWgRAwI88+uijZ61z7bXX6vnnn1f37t3Vq1cvbd26VY8//rg6dOjgUe+vf/2rVq1apeeee049evRQjx49dPfdd2vmzJm69NJLdckll1TZx1/+8hcNGDBAAwcO1F133aVOnTqpsLBQX3/9tV599VW9++6753ScCxYs0JAhQ3TFFVfo3nvvVUhIiDIyMrRz506tXr3a8mvS7OrvzjvvVLNmzbRw4UKP8j59+lR7J3BERIQSEhLq1OeZ3njjDf3yyy8qLCyU9Nvd2y+99JIkafjw4e7nHw4bNkxDhgzRXXfdpYKCAnXt2lWrV6/Wm2++qVWrVlV7RzgAL/H2XSgA7HHmXcDV+f1dwCdOnDB33HGHad26tQkPDzcDBgwwmzdvNoMGDXLX+/zzz02jRo3M+PHjPdo6deqUiY+PN506dTInTpyott99+/aZiRMnmvbt25vg4GDTqlUr079/fzN//nyPeuV3zf744481Ki+3efNmc+WVV5rGjRubRo0amX79+plXX321Vm1UprK7gGvaX236XLFihQkMDDQ5OTkVtqWkpBiXy2UKCgpqPO66iImJqfHdw4WFhWbKlCmmbdu2JiQkxPTq1cusXr3a1vEBqDuXMcZ4J3oCAADAG3gMDAAAgJ8hAAIAAPgZAiAAAICfIQACAAD4GQIgAACAnyEAAgAA+BkCIAAAgJ/hm0DOQVlZmQ4ePKiIiAjLv1kAAADYwxijwsJCRUVFKSDAP9fCCIDn4ODBg4qOjvb2MAAAQB189913Fb7m0l8QAM9BRESEpN9+gZo2berl0QAAgJooKChQdHS0+3PcHxEAz0H5ad+mTZsSAAEA8DH+fPmWf574BgAA8GMEQAAAAD9DAAQAAPAzBEAAAAA/QwAEAADwMwRAAAAAP0MABAAA8DMEQAAAAD9DAAQAAPAzBEAHmTt3rtLT0yvdlp6errlz59bvgAAAQINEAHSQwMBApaamVgiB6enpSk1NVWBgoJdGBgAAGhK+C9hBHnroIUlSamqq+315+EtLS3NvBwAAOBcuY4zx9iB8VUFBgSIjI5Wfn6+mTZta1u6YMWO0Zs0aBQUFqaSkhPAHAICF7Pr89iWcAnag7t27S5JKSkoUEhJC+AMAAJYiADrQ5s2bJUkBAQEqKiqq8sYQAACAuuAaQIdJT0/XO++8I0kaP368YmNjPa4JBAAAOFcEQAcpv+Fj6NCheuutt1RSUlLpjSEAAADnggDoIKWlpUpLS1PTpk3dAVD6v9BXWlrqzeEBAIAGggDoIOUPel6yZIkkuQOgxMofAACwDjeBOFBQ0G+5/MwACAAAYBUCoAMRAAEAgJ0IgA5UHgCLi4u9PBIAANAQEQAdiBVAAABgJwKgAxEAAQCAnQiADkQABAAAdiIAOlBwcLAkAiAAALAHAdCBWAEEAAB2IgA6EAEQAADYiQDoQARAAABgJwKgAxEAAQCAnQiADkQABAAAdiIAOhABEAAA2IkA6EAEQAAAYCcCoAMRAAEAgJ0IgA5EAAQAAHYiADoQARAAANiJAOhABEAAAGAnAqADEQABAICdCIAORAAEAAB2IgA60JkB0Bjj5dEAAICGhgDoQOUBUJLKysq8OBIAANAQEQAd6MwAyGlgAABgNQKgAxEAAQCAnQiADkQABAAAdiIAOtCZAbC4uNiLIwEAAA0RAdCBAgIC5HK5JLECCAAArEcAdCieBQgAAOxCAHQoAiAAALALAdChCIAAAMAuBECHCg4OlkQABAAA1iMAOhQrgAAAwC4EQIciAAIAALsQAB2KAAgAAOxCAHQoAiAAALALAdChCIAAAMAuBECHIgACAAC7EAAdigAIAADsQgB0KAIgAACwCwHQoQiAAADALgRAhyIAAgAAuxAAHYoACAAA7EIAdCgCIAAAsAsB0KEIgAAAwC4+EwAzMjIUGxursLAwxcfHa/PmzdXWz87OVnx8vMLCwtS5c2ctW7asyrpr1qyRy+XSyJEjLR513REAAQCAXXwiAK5du1bTpk3Tgw8+qNzcXA0cOFDDhg1TXl5epfX37dun4cOHa+DAgcrNzdUDDzygKVOmaN26dRXqfvvtt7r33ns1cOBAuw+jVgiAAADALj4RABcuXKg77rhDkyZNUlxcnBYtWqTo6GgtXbq00vrLli1Tx44dtWjRIsXFxWnSpEmaOHGinnjiCY96paWlGjt2rObNm6fOnTvXx6HUGAEQAADYxfEBsKioSFu3blVSUpJHeVJSkrZs2VLpPjk5ORXqDx06VP/85z9VXFzsLktLS1OrVq10xx131Ggsp0+fVkFBgcfLLgRAAABgF8cHwKNHj6q0tFRt2rTxKG/Tpo0OHz5c6T6HDx+utH5JSYmOHj0qSfrwww+VmZmpFStW1HgsCxYsUGRkpPsVHR1dy6OpOQIgAACwi+MDYDmXy+Xx3hhToexs9cvLCwsLdeutt2rFihVq2bJljccwa9Ys5efnu1/fffddLY6gdsoD4JkrlgAAAFYI8vYAzqZly5YKDAyssNp35MiRCqt85dq2bVtp/aCgILVo0UK7du3S/v37NWLECPf2srIySb8Fry+++EJdunSp0G5oaKhCQ0PP9ZBqhBVAAABgF8evAIaEhCg+Pl5ZWVke5VlZWerfv3+l+yQmJlaov3HjRiUkJCg4OFjdu3fXjh07tH37dvfruuuu0xVXXKHt27fbemq3pgiAAADALo5fAZSklJQUjRs3TgkJCUpMTNTy5cuVl5en5ORkSb+dmj1w4IBWrlwpSUpOTtbixYuVkpKiO++8Uzk5OcrMzNTq1aslSWFhYerZs6dHH+edd54kVSj3FgIgAACwi08EwNGjR+vYsWNKS0vToUOH1LNnT23YsEExMTGSpEOHDnk8EzA2NlYbNmzQ9OnTtWTJEkVFRempp57SqFGjvHUItUYABAAAdvGJAChJkydP1uTJkyvd9vzzz1coGzRokLZt21bj9itrw5sIgAAAwC6OvwbQXwUHB0siAAIAAOsRAB2KFUAAAGAXAqBDEQABAIBdCIAORQAEAAB2IQA6FAEQAADYhQDoUARAAABgFwKgQxEAAQCAXQiADkUABAAAdiEAOhQBEAAA2IUA6FAEQAAAYBcCoEMRAAEAgF0IgA5FAAQAAHYhADoUARAAANiFAOhQBEAAAGAXAqBDEQABAIBdCIAORQAEAAB2IQA6FAEQAADYhQDoUOUBsLi42MsjAQAADQ0B0KFYAQQAAHYhADoUARAAANiFAOhQBEAAAGAXAqBDEQABAIBdCIAORQAEAAB2IQA6FAEQAADYhQDoUMHBwZIIgAAAwHoEQIdiBRAAANiFAOhQBEAAAGAXAqBDEQABAIBdCIAORQAEAAB2IQA6VHkANMaorKzMy6MBAAANCQHQocoDoMQqIAAAsBYB0KEIgAAAwC4EQIciAAIAALsQAB2KAAgAAOxCAHSogID/+9EQAAEAgJUIgA7lcrl4FAwAALAFAdDBCIAAAMAOBEAHIwACAAA7EAAdjAAIAADsQAB0MAIgAACwAwHQwQiAAADADgRABysPgMXFxV4eCQAAaEgIgA7GCiAAALADAdDBCIAAAMAOBEAHIwACAAA7EAAdjAAIAADsQAB0MAIgAACwAwHQwQiAAADADgRAByMAAgAAOxAAHSw4OFgSARAAAFiLAOhgrAACAAA7EAAdjAAIAADsQAB0MAIgAACwAwHQwQiAAADADgRAByMAAgAAOxAAHYwACAAA7EAAdDACIAAAsAMB0MEIgAAAwA4EQAcjAAIAADv4TADMyMhQbGyswsLCFB8fr82bN1dbPzs7W/Hx8QoLC1Pnzp21bNkyj+3r169XQkKCzjvvPDVu3Fi9e/fWf//3f9t5CLVGAAQAAHbwiQC4du1aTZs2TQ8++KByc3M1cOBADRs2THl5eZXW37dvn4YPH66BAwcqNzdXDzzwgKZMmaJ169a56zRv3lwPPvigcnJy9Pnnn+v222/X7bffrrfeequ+DuusCIAAAMAOPhEAFy5cqDvuuEOTJk1SXFycFi1apOjoaC1durTS+suWLVPHjh21aNEixcXFadKkSZo4caKeeOIJd53LL79cN9xwg+Li4tSlSxdNnTpVvXr10gcffFBfh3VWBEAAAGAHxwfAoqIibd26VUlJSR7lSUlJ2rJlS6X75OTkVKg/dOhQ/fOf/1RxcXGF+sYYvfPOO/riiy902WWXWTf4c0QABAAAdgjy9gDO5ujRoyotLVWbNm08ytu0aaPDhw9Xus/hw4crrV9SUqKjR4+qXbt2kqT8/Hy1b99ep0+fVmBgoDIyMjRkyJAqx3L69GmdPn3a/b6goKCuh1UjBEAAAGAHxwfAci6Xy+O9MaZC2dnq/748IiJC27dv188//6x33nlHKSkp6ty5sy6//PJK21ywYIHmzZtXxyOovfIAWNmqJQAAQF05PgC2bNlSgYGBFVb7jhw5UmGVr1zbtm0rrR8UFKQWLVq4ywICAtS1a1dJUu/evbVnzx4tWLCgygA4a9YspaSkuN8XFBQoOjq6LodVI6wAAgAAOzj+GsCQkBDFx8crKyvLozwrK0v9+/evdJ/ExMQK9Tdu3KiEhAQFBwdX2ZcxxuMU7++FhoaqadOmHi87EQABAIAdHL8CKEkpKSkaN26cEhISlJiYqOXLlysvL0/JycmSfluZO3DggFauXClJSk5O1uLFi5WSkqI777xTOTk5yszM1OrVq91tLliwQAkJCerSpYuKioq0YcMGrVy5sso7i72BAAgAAOzgEwFw9OjROnbsmNLS0nTo0CH17NlTGzZsUExMjCTp0KFDHs8EjI2N1YYNGzR9+nQtWbJEUVFReuqppzRq1Ch3nV9++UWTJ0/W999/r0aNGql79+5atWqVRo8eXe/HVxUCIAAAsIPLlN8dgVorKChQZGSk8vPzbTkdvHDhQv2///f/NHbsWK1atcry9gEA8Ed2f377AsdfA+jPWAEEAAB2IAA6GAEQAADYgQDoYARAAABgBwKgg5U/soYACAAArEQAdDBWAAEAgB1sCYAlJSUKCgrSzp077WjebxAAAQCAHWwJgEFBQYqJiVFpaakdzfsNAiAAALCDbaeAZ8+erVmzZun48eN2ddHgEQABAIAdbPsmkKeeekpff/21oqKiFBMTo8aNG3ts37Ztm11dNxgEQAAAYAfbAuDIkSPtatpvEAABAIAdbAuAc+bMsatpv0EABAAAdrAtAJbbunWr9uzZI5fLpQsuuEB9+vSxu8sGgwAIAADsYFsAPHLkiG655RZt2rRJ5513nowxys/P1xVXXKE1a9aoVatWdnXdYBAAAQCAHWy7C/iee+5RQUGBdu3apePHj+vEiRPauXOnCgoKNGXKFLu6bVAIgAAAwA62rQC++eabevvttxUXF+cuu+CCC7RkyRIlJSXZ1W2DQgAEAAB2sG0FsKyszP1dtmcKDg5WWVmZXd02KARAAABgB9sC4JVXXqmpU6fq4MGD7rIDBw5o+vTpuuqqq+zqtkEhAAIAADvYFgAXL16swsJCderUSV26dFHXrl0VGxurwsJCPf3003Z126AQAAEAgB1suwYwOjpa27ZtU1ZWlvbu3StjjC644AINHjzYri4bnPIAWFxc7OWRAACAhsSWAFhSUqKwsDBt375dQ4YM0ZAhQ+zopsFjBRAAANjBllPAQUFBiomJUWlpqR3N+w0CIAAAsINt1wDOnj1bs2bN0vHjx+3qosEjAAIAADvYdg3gU089pa+//lpRUVGKiYlR48aNPbZv27bNrq4bjPIAWFZWprKyMgUE2JbXAQCAH7EtAI4cOdKupv1GeQCUpNLSUgIgAACwhG03gUjSxIkTFR0dbUcXfuHMAFhSUlLpg7UBAABqy7abQJ544gluAjlHvw+AAAAAVrDtnOJVV12lTZs22dW8XyAAAgAAO9h2DeCwYcM0a9Ys7dy5U/Hx8RVuArnuuuvs6rrBIAACAAA7uIwxxo6Gq7thweVyNYjTwwUFBYqMjFR+fr6aNm1qSx9BQUEqLS3VwYMH1a5dO1v6AADAn9TH57fT2bYCWFZWZlfTfqU8ALICCAAArFIvzxU5depUfXTTIPEwaAAAYDXbAmBpaanS09PVvn17NWnSRN98840k6aGHHlJmZqZd3TY4BEAAAGA12wLgww8/rOeff16PPfaYQkJC3OUXXnih/vrXv9rVbYNDAAQAAFazLQCuXLlSy5cv19ixYxUYGOgu79Wrl/bu3WtXtw0OARAAAFjNtgB44MABde3atUJ5WVmZiouL7eq2wSEAAgAAq9kWAHv06KHNmzdXKH/xxRfVp08fu7ptcAiAAADAarY9BmbOnDkaN26cDhw4oLKyMq1fv15ffPGFVq5cqddee82ubhscAiAAALCabSuAI0aM0Nq1a7Vhwwa5XC6lpqZqz549evXVVzVkyBC7um1wCIAAAMBqtq0AStLQoUM1dOhQO7to8AiAAADAavXyIGjUHQEQAABYjQDocARAAABgNQKgw5UHQB6dAwAArEIAdDhWAAEAgNVsC4C//vprldsOHTpkV7cNDgEQAABYzbYA2KdPH23btq1C+UsvvaRevXrZ1W2DQwAEAABWsy0ADhkyRP3799ejjz4qY4x+/vlnTZgwQePHj1dqaqpd3TY4BEAAAGA1254D+PTTT+uaa67R7bffrtdff10HDx5U06ZN9emnn+qCCy6wq9sGhwAIAACsZuuDoJOSknTjjTdq6dKlCgoK0quvvkr4qyUCIAAAsJptp4D/9a9/KTExUa+99preeustzZgxQ9dff71mzJjBI01qgQAIAACsZlsA7N27t2JjY/XZZ59pyJAhmj9/vt59912tX79el1xyiV3dNjgEQAAAYDXbAmBGRobWrFmj8847z13Wv39/5ebm6qKLLrKr2waHAAgAAKxmWwAcN25cpeURERHKzMy0q9sGhwAIAACsZutNIJK0e/du5eXlqaioyF3mcrk0YsQIu7tuEIKDgyURAAEAgHVsC4DffPONbrjhBu3YsUMul0vGGEm/hT9JKi0ttavrBoUVQAAAYDXbTgFPnTpVsbGx+uGHHxQeHq5du3bp/fffV0JCgjZt2mRXtw0OARAAAFjNthXAnJwcvfvuu2rVqpUCAgIUEBCgAQMGaMGCBZoyZYpyc3Pt6rpBIQACAACr2bYCWFpaqiZNmkiSWrZsqYMHD0qSYmJi9MUXX9jVbYNDAAQAAFazbQWwZ8+e+vzzz9W5c2f17dtXjz32mEJCQrR8+XJ17tzZrm4bHAIgAACwmm0BcPbs2frll18kSfPnz9e1116rgQMHqkWLFlq7dq1d3TY4BEAAAGA12wLg0KFD3f/duXNn7d69W8ePH1ezZs3cdwLj7AiAAADAarZdA1iZ5s2b1zn8ZWRkKDY2VmFhYYqPj9fmzZurrZ+dna34+HiFhYWpc+fOWrZsmcf2FStWaODAgWrWrJmaNWumwYMH65NPPqnT2OxEAAQAAFazfAVw4sSJNar37LPP1rjNtWvXatq0acrIyNCll16qZ555RsOGDdPu3bvVsWPHCvX37dun4cOH684779SqVav04YcfavLkyWrVqpVGjRolSdq0aZPGjBmj/v37KywsTI899piSkpK0a9cutW/fvsZjsxsBEAAAWM1lyp/QbJGAgADFxMSoT58+qq7pl19+ucZt9u3bVxdddJGWLl3qLouLi9PIkSO1YMGCCvVnzpypV155RXv27HGXJScn67PPPlNOTk6lfZSWlqpZs2ZavHixbrvtthqNq6CgQJGRkcrPz1fTpk1rfDy18eSTT+ree+/VuHHjtHLlSlv6AADAn9TH57fTWb4CmJycrDVr1uibb77RxIkTdeutt6p58+Z1bq+oqEhbt27V/fff71GelJSkLVu2VLpPTk6OkpKSPMqGDh2qzMxMFRcXu79e7UwnT55UcXFxtWM9ffq0Tp8+7X5fUFBQm0OpE1YAAQCA1Sy/BjAjI0OHDh3SzJkz9eqrryo6Olo333yz3nrrrWpXBKty9OhRlZaWqk2bNh7lbdq00eHDhyvd5/Dhw5XWLykp0dGjRyvd5/7771f79u01ePDgKseyYMECRUZGul/R0dG1PJraKw+AxcXFtvcFAAD8gy03gYSGhmrMmDHKysrS7t271aNHD02ePFkxMTH6+eef69Tm728eMcZUe0NJZfUrK5ekxx57TKtXr9b69esVFhZWZZuzZs1Sfn6++/Xdd9/V5hDqhBVAAABgNdseA1PO5XLJ5XLJGKOysrJa79+yZUsFBgZWWO07cuRIhVW+cm3btq20flBQkFq0aOFR/sQTT+iRRx7R22+/rV69elU7ltDQUIWGhtb6GM4FARAAAFjNlhXA06dPa/Xq1RoyZIj+7d/+TTt27NDixYuVl5fn/nq4mgoJCVF8fLyysrI8yrOystS/f/9K90lMTKxQf+PGjUpISPC4/u/xxx9Xenq63nzzTSUkJNRqXPWFAAgAAKxm+Qrg5MmTtWbNGnXs2FG333671qxZU2HVrbZSUlI0btw4JSQkKDExUcuXL1deXp6Sk5Ml/XZq9sCBA+67ZJOTk7V48WKlpKTozjvvVE5OjjIzM7V69Wp3m4899pgeeugh/f3vf1enTp3cK4ZNmjSpdUi1EwEQAABYzfIAuGzZMnXs2FGxsbHKzs5WdnZ2pfXWr19f4zZHjx6tY8eOKS0tTYcOHVLPnj21YcMGxcTESJIOHTqkvLw8d/3Y2Fht2LBB06dP15IlSxQVFaWnnnrK/QxA6bebVYqKinTTTTd59DVnzhzNnTu3FkdsLwIgAACwmuUB8LbbbrPlq94mT56syZMnV7rt+eefr1A2aNAgbdu2rcr29u/fb9HI7EUABAAAVrM8AFYWxlB3BEAAAGC1ev0uYNQeARAAAFiNAOhwBEAAAGA1AqDDEQABAIDVCIAORwAEAABWIwA6XPmDqwmAAADAKgRAh2MFEAAAWI0A6HAEQAAAYDUCoMMRAAEAgNUIgA5HAAQAAFYjADocARAAAFiNAOhwBEAAAGA1AqDDEQABAIDVCIAORwAEAABWIwA63JkB0Bjj5dEAAICGgADocOUBUJLKysq8OBIAANBQEAAd7swAyGlgAABgBQKgw50ZAIuLi704EgAA0FAQAB2OFUAAAGA1AqDDEQABAIDVCIAOFxAQIJfLJYkACAAArEEA9AE8CxAAAFiJAOgDCIAAAMBKBEAfQAAEAABWIgD6AAIgAACwEgHQBxAAAQCAlQiAPoAACAAArEQA9AEEQAAAYCUCoA8gAAIAACsRAH1AcHCwJAIgAACwBgHQB7ACCAAArEQA9AEEQAAAYCUCoA8gAAIAACsRAH0AARAAAFiJAOgDCIAAAMBKBEAfQAAEAABWIgD6AAIgAACwEgHQBxAAAQCAlQiAPoAACAAArEQA9AEEQAAAYCUCoA8oD4DFxcVeHgkAAGgICIA+gBVAAABgJQKgDyAAAgAAKxEAfQABEAAAWIkA6AMIgAAAwEoEQB9AAAQAAFYiAPoAAiAAALASAdAHEAABAICVCIA+gAAIAACsRAD0AQRAAABgJQKgDyAAAgAAKxEAfQABEAAAWIkA6AMIgAAAwEoEQB9AAAQAAFYiAPqA4OBgSQRAAABgDQKgD2AFEAAAWIkA6AMIgAAAwEoEQB9AAAQAAFYiAPoAAiAAALCSzwTAjIwMxcbGKiwsTPHx8dq8eXO19bOzsxUfH6+wsDB17txZy5Yt89i+a9cujRo1Sp06dZLL5dKiRYtsHP25IQACAAAr+UQAXLt2raZNm6YHH3xQubm5GjhwoIYNG6a8vLxK6+/bt0/Dhw/XwIEDlZubqwceeEBTpkzRunXr3HVOnjypzp0769FHH1Xbtm3r61DqhAAIAACs5BMBcOHChbrjjjs0adIkxcXFadGiRYqOjtbSpUsrrb9s2TJ17NhRixYtUlxcnCZNmqSJEyfqiSeecNe5+OKL9fjjj+uWW25RaGhofR1KnRAAAQCAlRwfAIuKirR161YlJSV5lCclJWnLli2V7pOTk1Oh/tChQ/XPf/5TxcXFto3VLgRAAABgpSBvD+Bsjh49qtLSUrVp08ajvE2bNjp8+HCl+xw+fLjS+iUlJTp69KjatWtXp7GcPn1ap0+fdr8vKCioUzu1RQAEAABWcvwKYDmXy+Xx3hhToexs9Ssrr40FCxYoMjLS/YqOjq5zW7VRHgB9cfUSAAA4j+MDYMuWLRUYGFhhte/IkSMVVvnKtW3bttL6QUFBatGiRZ3HMmvWLOXn57tf3333XZ3bqg1WAAEAgJUcHwBDQkIUHx+vrKwsj/KsrCz179+/0n0SExMr1N+4caMSEhLc36tbF6GhoWratKnHqz4QAAEAgJUcHwAlKSUlRX/961/17LPPas+ePZo+fbry8vKUnJws6beVudtuu81dPzk5Wd9++61SUlK0Z88ePfvss8rMzNS9997rrlNUVKTt27dr+/btKioq0oEDB7R9+3Z9/fXX9X58Z0MABAAAVnL8TSCSNHr0aB07dkxpaWk6dOiQevbsqQ0bNigmJkaSdOjQIY9nAsbGxmrDhg2aPn26lixZoqioKD311FMaNWqUu87BgwfVp08f9/snnnhCTzzxhAYNGqRNmzbV27HVBAEQAABYyWXK745ArRUUFCgyMlL5+fm2ng7+6KOPlJiYqNjYWH3zzTe29QMAgD+or89vJ/OJU8D+jhVAAABgJQKgDyAAAgAAKxEAfQABEAAAWIkA6AMIgAAAwEoEQB9AAAQAAFYiAPoAAiAAALASAdAHEAABAICVCIA+gAAIAACsRAD0AeXfX2yMUVlZmZdHAwAAfB0B0AeUrwBKrAICAIBzRwD0AQRAAABgJQKgDyAAAgAAKxEAfQABEAAAWIkA6GBz585Venq6AgL+78dUHgDT09M1d+5cL40MAAD4MgKggwUGBio1NVXz58/3eBRMenq6UlNTFRgY6OURAgAAXxR09irwloceekiSlJqa6g6ATz75pBYuXKi0tDT3dgAAgNogADrcmSFQEuEPAACcM5cxxnh7EL6qoKBAkZGRys/PV9OmTW3tKyAgQMYYBQUFqbi42Na+AABoyOrz89upuAbQB6Snp6s8p5dfAwgAAFBXBECHK7/hY9SoUZKkqKgopaamEgIBAECdEQAdrDz8paWlaeHChZKkH374QbNnzyYEAgCAOuMmEAcrLS31uOGjY8eOysvL02WXXaa0tDSVlpZ6eYQAAMAXEQAd7PcPeh44cKBeeOEFbd68WWlpad4ZFAAA8HmcAvYhAwcOlCRt3rzZyyMBAAC+jADoQ8oD4EcffaSioiIvjwYAAPgqAqAPiYuLU4sWLXTq1Clt3brV28MBAAA+igDoQ1wulwYMGCCJ08AAAKDuCIA+husAAQDAuSIA+pjyAPjhhx+qrKzMy6MBAAC+iADoY/r06aPw8HCdOHFCu3bt8vZwAACADyIA+pjg4GAlJiZK4jQwAACoGwKgDyo/DfzBBx94eSQAAMAXEQB90Jk3ghhjvDwaAADgawiAPqhfv34KCgrS999/r2+//dbbwwEAAD6GAOiDwsPDFR8fL4nrAAEAQO0RAH0UzwMEAAB1RQD0UQRAAABQVwRAH3XppZdKkvbu3asff/zRy6MBAAC+hADoo1q0aKEePXpI4nEwAACgdgiAPozTwAAAoC4IgD6MAAgAAOqCAOjDygNgbm6ufv75Zy+PBgAA+AoCoA+Ljo5WTEyMSktLlZOT4+3hAAAAH0EA9HGcBgYAALVFAPRxBEAAAFBbBEAfN2DAAEnSRx99pKKiIi+PBgAA+AICoI+Li4tTixYtdOrUKW3dutXbwwEAAD6AAOjjXC6XexWQ08AAAKAmCIANANcBAgCA2iAANgDlAfDDDz9UWVmZl0cDAACcjgDYAPTp00fh4eE6ceKEdu3a5e3hAAAAhwvy9gBwbubOnavAwEAlJibqnXfe0ebNm3XhhRdKktLT01VaWqq5c+d6d5AAAMBRWAH0cYGBgUpNTXWf+i2/DjA9PV2pqakKDAz05vAAAIADsQLo4x566CFJUmpqqqTfAmBaWprmzJmjtLQ093YAAIByLmOM8fYgfFVBQYEiIyOVn5+vpk2benUsqampSk9Pd7+/+eabtWTJErVs2dKLowIAwHmc9PntLQTAc+C0X6DAwECPu4BdLpd69+6twYMHa/DgwRowYIDCw8O9OEIAALzPaZ/f3sAp4AYiPT1dZWVlCgoKUklJiVq3bq0jR44oNzdXubm5evzxxxUSEqL+/fu7A2F8fLyCgvgVAADA33ATSANQfsNHWlqaiouLlZaWpiNHjui+++7TqlWrdPvtt6tDhw4qKirSpk2bNHv2bPXr108tW7bUyJEjtXjxYu3du1csBgMA4B84BXwOnLCEfGb4O/OGj9+XG2P01Vdf6e2339bbb7+t9957Tz/99JNHW+3bt9dVV12lwYMH66qrrlJUVFSF/sofO1PZzSU8dgYA4Auc8PntbZz/83GlpaWV3u1b/r60tFTSb9cDduvWTd26ddPkyZNVWlqqbdu2uQPhhx9+qAMHDmjlypVauXKlJOmCCy5wB8JBgwYpMjLS/diZM/uQPAMnAABwOOMjlixZYjp16mRCQ0PNRRddZN5///1q62/atMlcdNFFJjQ01MTGxpqlS5dWqPPSSy+ZuLg4ExISYuLi4sz69etrNab8/HwjyeTn59dqPyc6efKkycrKMjNnzjTx8fHG5XIZSe5XYGCgSUxMNLNnzzYTJ040kkxaWpoxxpi0tDSP904zZ86cKseWlpZm5syZU78DasCYawDnor7+hjSkz++68okVwLVr12ratGnKyMjQpZdeqmeeeUbDhg3T7t271bFjxwr19+3bp+HDh+vOO+/UqlWr9OGHH2ry5Mlq1aqVRo0aJUnKycnR6NGjlZ6erhtuuEEvv/yybr75Zn3wwQfq27dvfR+i1zVq1Mh9c4gkHT9+XO+99557hfDrr79WTk6OcnJyJEnBwcFKTU3V3LlzVVZWpn79+unkyZNKS0tTeHi4GjVqpEaNGrn/u7KyM//bzptRWLWsP8w1gHPB35D64xPXAPbt21cXXXSRli5d6i6Li4vTyJEjtWDBggr1Z86cqVdeeUV79uxxlyUnJ+uzzz5zB5jRo0eroKBAb7zxhrvO1VdfrWbNmmn16tU1Gpc/XUPw7bff6p133nEHwh9//NHS9oODg2sdGmuz/ZlnntHjjz+uOXPmaM6cOZo/f36l107i3P3++tOqrlMFgMrUx98Qf/r8rorjA2BRUZHCw8P14osv6oYbbnCXT506Vdu3b1d2dnaFfS677DL16dNHf/nLX9xl5St8J0+eVHBwsDp27Kjp06dr+vTp7jp//vOftWjRIn377beVjuX06dM6ffq0+31BQYGio6P97heorKxM99xzjzIyMhQYGKjS0lINHDhQ8fHxOnnypH799Vf9+uuv7v+urKz85W0ul8v9v+Wv6t7Xpq6V+zq1raq2ffvtt9q/f79cLpeMMYqNjVVsbGyNfx410VDrert/6lLXCXV37NihHTt2KCAgQGVlZZb/A5IA6AM3gRw9elSlpaVq06aNR3mbNm10+PDhSvc5fPhwpfVLSkp09OhRtWvXrso6VbUpSQsWLNC8efPqeCQNx8MPP6yMjIwK/zobMmSI/vznP9e4HWOMTp06VWVArE2YrMn2Mx+SfeYYzvxfWKt8Xvft26d9+/Z5eTQAfE1ZWVmVT57AuXF8ACz3+38pGGOq/ddDZfV/X17bNmfNmqWUlBT3+/IVQH9S2VL877+PuKb/R3W5XO5TtHYzxmjevHmaN2+eQkJCVFRUpBkzZiglJUXGGPervG5DeO/NvtetW6cXX3zR/WDym266STfeeONZf0a1UZv6dtWlbeeOw1fbdso4vN32xo0b9cYbb7jPMqWnpxMCLeb4ANiyZUsFBgZWWJk7cuRIhRW8cm3btq20flBQkFq0aFFtnaralKTQ0FCFhobW5TAajJo+dsZp5s+fr3nz5lVYtWzSpAl/VCyWnp6uF198scJc9+rVi7kGcFbp6el64403KvwNkWq+wIAaqP4mYWe45JJLzF133eVRFhcXZ+6///5K68+YMcPExcV5lCUnJ5t+/fq53998881m2LBhHnWuvvpqc8stt9R4XNxG7huqekyN0x9f44uYawDnor7+hvD57SOPgUlJSdG4ceOUkJCgxMRELV++XHl5eUpOTpb026nZ8ocYS7/d8bt48WKlpKTozjvvVE5OjjIzMz3u7p06daouu+wy/elPf9L111+vf/zjH3r77bf1wQcfeOUYYR9fXbX0Rcw1gHPB35D64/i7gMtlZGToscce06FDh9SzZ0/9+c9/1mWXXSZJmjBhgvbv369Nmza562dnZ2v69OnatWuXoqKiNHPmTHdgLPfSSy9p9uzZ+uabb9SlSxc9/PDDZ71O6UzcRQQAgO/h89uHAqAT8QsEAIDv4fNbCvD2AAAAAFC/CIAAAAB+hgAIAADgZwiAAAAAfoYACAAA4GcIgAAAAH6GAAgAAOBnCIAAAAB+hgAIAADgZ3ziu4CdqvxLVAoKCrw8EgAAUFPln9v+/GVoBMBzUFhYKEmKjo728kgAAEBtFRYWKjIy0tvD8Aq+C/gclJWV6eDBg4qIiJDL5apzOwUFBYqOjtZ3333nt99JWF+Y6/rDXNcf5rr+MNf1x865NsaosLBQUVFRCgjwz6vhWAE8BwEBAerQoYNl7TVt2pQ/KPWEua4/zHX9Ya7rD3Ndf+yaa39d+Svnn7EXAADAjxEAAQAA/AwB0AFCQ0M1Z84chYaGensoDR5zXX+Y6/rDXNcf5rr+MNf24iYQAAAAP8MKIAAAgJ8hAAIAAPgZAiAAAICfIQACAAD4GQKgl2VkZCg2NlZhYWGKj4/X5s2bvT0kn7NgwQJdfPHFioiIUOvWrTVy5Eh98cUXHnWMMZo7d66ioqLUqFEjXX755dq1a5dHndOnT+uee+5Ry5Yt1bhxY1133XX6/vvv6/NQfM6CBQvkcrk0bdo0dxlzbZ0DBw7o1ltvVYsWLRQeHq7evXtr69at7u3MtTVKSko0e/ZsxcbGqlGjRurcubPS0tJUVlbmrsNc183777+vESNGKCoqSi6XS//7v//rsd2qeT1x4oTGjRunyMhIRUZGaty4cfrpp59sPjofZ+A1a9asMcHBwWbFihVm9+7dZurUqaZx48bm22+/9fbQfMrQoUPNc889Z3bu3Gm2b99urrnmGtOxY0fz888/u+s8+uijJiIiwqxbt87s2LHDjB492rRr184UFBS46yQnJ5v27dubrKwss23bNnPFFVeYP/zhD6akpMQbh+V4n3zyienUqZPp1auXmTp1qrucubbG8ePHTUxMjJkwYYL5+OOPzb59+8zbb79tvv76a3cd5toa8+fPNy1atDCvvfaa2bdvn3nxxRdNkyZNzKJFi9x1mOu62bBhg3nwwQfNunXrjCTz8ssve2y3al6vvvpq07NnT7NlyxazZcsW07NnT3PttdfW12H6JAKgF11yySUmOTnZo6x79+7m/vvv99KIGoYjR44YSSY7O9sYY0xZWZlp27atefTRR911Tp06ZSIjI82yZcuMMcb89NNPJjg42KxZs8Zd58CBAyYgIMC8+eab9XsAPqCwsNCcf/75JisrywwaNMgdAJlr68ycOdMMGDCgyu3MtXWuueYaM3HiRI+yG2+80dx6663GGObaKr8PgFbN6+7du40k89FHH7nr5OTkGElm7969Nh+V7+IUsJcUFRVp69atSkpK8ihPSkrSli1bvDSqhiE/P1+S1Lx5c0nSvn37dPjwYY+5Dg0N1aBBg9xzvXXrVhUXF3vUiYqKUs+ePfl5VOKPf/yjrrnmGg0ePNijnLm2ziuvvKKEhAT9+7//u1q3bq0+ffpoxYoV7u3MtXUGDBigd955R19++aUk6bPPPtMHH3yg4cOHS2Ku7WLVvObk5CgyMlJ9+/Z11+nXr58iIyOZ+2oEeXsA/uro0aMqLS1VmzZtPMrbtGmjw4cPe2lUvs8Yo5SUFA0YMEA9e/aUJPd8VjbX3377rbtOSEiImjVrVqEOPw9Pa9as0datW/XPf/6zwjbm2jrffPONli5dqpSUFD3wwAP65JNPNGXKFIWGhuq2225jri00c+ZM5efnq3v37goMDFRpaakefvhhjRkzRhK/13axal4PHz6s1q1bV2i/devWzH01CIBe5nK5PN4bYyqUoebuvvtuff755/rggw8qbKvLXPPz8PTdd99p6tSp2rhxo8LCwqqsx1yfu7KyMiUkJOiRRx6RJPXp00e7du3S0qVLddttt7nrMdfnbu3atVq1apX+/ve/q0ePHtq+fbumTZumqKgojR8/3l2PubaHFfNaWX3mvnqcAvaSli1bKjAwsMK/To4cOVLhX0OomXvuuUevvPKK3nvvPXXo0MFd3rZtW0mqdq7btm2roqIinThxoso6+O10zJEjRxQfH6+goCAFBQUpOztbTz31lIKCgtxzxVyfu3bt2umCCy7wKIuLi1NeXp4kfq+tdN999+n+++/XLbfcogsvvFDjxo3T9OnTtWDBAknMtV2smte2bdvqhx9+qND+jz/+yNxXgwDoJSEhIYqPj1dWVpZHeVZWlvr37++lUfkmY4zuvvturV+/Xu+++65iY2M9tsfGxqpt27Yec11UVKTs7Gz3XMfHxys4ONijzqFDh7Rz505+Hme46qqrtGPHDm3fvt39SkhI0NixY7V9+3Z17tyZubbIpZdeWuFxRl9++aViYmIk8XttpZMnTyogwPPjMDAw0P0YGObaHlbNa2JiovLz8/XJJ5+463z88cfKz89n7qvjjTtP8Jvyx8BkZmaa3bt3m2nTppnGjRub/fv3e3toPuWuu+4ykZGRZtOmTebQoUPu18mTJ911Hn30URMZGWnWr19vduzYYcaMGVPpowY6dOhg3n77bbNt2zZz5ZVX+v0jHGrizLuAjWGurfLJJ5+YoKAg8/DDD5uvvvrKvPDCCyY8PNysWrXKXYe5tsb48eNN+/bt3Y+BWb9+vWnZsqWZMWOGuw5zXTeFhYUmNzfX5ObmGklm4cKFJjc31/24M6vm9eqrrza9evUyOTk5Jicnx1x44YU8BuYsCIBetmTJEhMTE2NCQkLMRRdd5H50CWpOUqWv5557zl2nrKzMzJkzx7Rt29aEhoaayy67zOzYscOjnV9//dXcfffdpnnz5qZRo0bm2muvNXl5efV8NL7n9wGQubbOq6++anr27GlCQ0NN9+7dzfLlyz22M9fWKCgoMFOnTjUdO3Y0YWFhpnPnzubBBx80p0+fdtdhruvmvffeq/Tv8/jx440x1s3rsWPHzNixY01ERISJiIgwY8eONSdOnKino/RNLmOM8c7aIwAAALyBawABAAD8DAEQAADAzxAAAQAA/AwBEAAAwM8QAAEAAPwMARAAAMDPEAABAAD8DAEQAADAzxAAAQAA/AwBEAC84PLLL9e0adNs7+fYsWNq3bq19u/fb3tf1bnpppu0cOFCr44BwP8hAAINxIQJEzRy5EhvD8Px6it4nc369euVnp5uez8LFizQiBEj1KlTJ0nS+++/rxEjRigqKkoul0v/+7//W+W+EyZM0P333+9RtmXLFrlcLl199dW1GkdqaqoefvhhFRQU1PYQANiAAAjAMkVFRd4egs9o3ry5IiIibO3j119/VWZmpiZNmuQu++WXX/SHP/xBixcvrnbfsrIyvf7667r++us9yp999lmNGTNG7733nvLy8mo8ll69eqlTp0564YUXancQAGxBAAQaqMsvv1xTpkzRjBkz1Lx5c7Vt21Zz586VJD3zzDNq3769ysrKPPa57rrrNH78ePd7Y4wee+wxde7cWY0aNdIf/vAHvfTSSx593H333UpJSVHLli01ZMgQSdJLL72kCy+8UI0aNVKLFi00ePBg/fLLLzVq8/f2798vl8tV4XX55ZdXuU9V/U+YMEHZ2dn6y1/+4m5n//79NRpT+bHefffdOu+889SiRQvNnj1bxphaj6O8vfKVyJocY23nTZLeeOMNBQUFKTEx0V02bNgwzZ8/XzfeeGO1+3744YcKCAhQ37593WW//PKL1q5dq2nTpunKK6/U888/77HPI488UulxlJ/6ve6667R69epq+wVQTwyABmH8+PHm+uuvd78fNGiQadq0qZk7d6758ssvzd/+9jfjcrnMxo0bzbFjx0xISIh5++233fWPHz9uQkJCzFtvveUue+CBB0z37t3Nm2++af71r3+Z5557zoSGhppNmza5+2jSpIm57777zN69e82ePXvMwYMHTVBQkFm4cKHZt2+f+fzzz82SJUtMYWFhjdr8vZKSEnPo0CH3Kzc317Ro0cI89NBDldavrv+ffvrJJCYmmjvvvNPdXklJSY3GVH6sU6dONXv37jWrVq0y4eHhZvny5bUeR3l7U6dOrfEx1nbejDFm6tSp5uqrr65yuyTz8ssvV7rt3nvvNXfccYdHWWZmpunatasxxpj//u//Np06dTJlZWXu7QUFBR7Hcdddd5mYmBjz3XffGWOM2bBhgwkNDTWnTp2qckwA6gcBEGggKguAAwYM8Khz8cUXm5kzZxpjjLnuuuvMxIkT3dueeeYZ07ZtW1NSUmKMMebnn382YWFhZsuWLR5t3HHHHWbMmDHuPnr37u2xfevWrUaS2b9/f4Ux1qTN6vz666+mb9++5tprrzWlpaWV1qmu//Ixlwev2oxp0KBBJi4uziPwzJw508TFxVkyjuqOsa7zdv3113v8jH+vugDYrVs388orr3iU9e/f38yZM8cYY0xhYaEJDw83WVlZle4/d+5cExMT43H8n332WbVzAqD+BHlz9RGAvXr16uXxvl27djpy5IgkaezYsfrP//xPZWRkKDQ0VC+88IJuueUWBQYGSpJ2796tU6dOuU/rlisqKlKfPn3c7xMSEjy2/+EPf9BVV12lCy+8UEOHDlVSUpJuuukmNWvWrMZtVuWOO+5QYWGhsrKyFBBQ+RUs1fVfmdqMqV+/fnK5XO73iYmJevLJJ1VaWuqet7qOo7pjrOu8/frrrwoLC6u2v8rs2bNH33//vQYPHuwu++KLL7RlyxY999xzkqQmTZro+uuv17PPPutRT5LmzZun5557TtnZ2YqJiXGXN2rUSJJ08uTJWo8JgLUIgEADFhwc7PHe5XK5r/sbMWKE+0L/iy++WJs3b/Z4TEd5vddff13t27f3aCc0NNT9340bN/bYFhgYqKysLG3ZskUbN27U008/rQcffFAff/xxjduszPz58/Xmm2/qk08+qfbmier6j42NrVD/XMZUndqOo7pjrOsYW7ZsqRMnTtR67K+88oqGDBniDmySlJmZqYsvvljdunVzl40dO1ajRo3SiRMn3MG2qvAnScePH5cktWrVqtZjAmAtbgIB/FSjRo1044036oUXXtDq1avVrVs3xcfHu7dfcMEFCg0NVV5enrp27erxio6OrrZtl8ulSy+9VPPmzVNubq5CQkL08ssv17nNdevWKS0tTf/zP/+jLl26nPXYqupfkkJCQlRaWlqn4/zoo48qvD///PMrrP7VZBy1Oca6zlufPn20e/fuqieqCv/4xz903XXXud+XlJRo5cqV+o//+A+PekOHDlVERIT7zt7qwp8k7dy5Ux06dFDLli1rPSYA1mIFEPBjY8eO1YgRI7Rr1y7deuutHtsiIiJ07733avr06SorK9OAAQNUUFCgLVu2qEmTJh53C5/p448/1jvvvKOkpCS1bt1aH3/8sX788UfFxcXVqc2dO3fqtttu08yZM9WjRw8dPnxY0m9Brnnz5rXqX5I6deqkjz/+WPv371eTJk3UvHnzGo/pu+++U0pKiv7rv/5L27Zt09NPP60nn3yy1vNQ22Os689i6NChmjVrlscK3c8//6yvv/7aXWffvn3avn27mjdvro4dO+rIkSP69NNPPZ4P+Nprr+mHH35Qz549tXPnTo8+Bg4cqMzMTP30009avHixXnvtNYWGhrqPoVmzZu5Vys2bNyspKanSsQKoZ96+CBGANSq7CeT3Nxlcf/31Zvz48e73JSUlpl27dkaS+de//lWhzbKyMvOXv/zF/Nu//ZsJDg42rVq1MkOHDjXZ2dlV9rF7924zdOhQ06pVKxMaGmq6detmnn766Rq3+XvPPfeckVThNWjQoErrn63/L774wvTr1880atTISDL79u2r0ZgGDRpkJk+ebJKTk03Tpk1Ns2bNzP333+9xU0htxnHm3NXkGGs7b+X69etnli1b5n7/3nvvVdpX+e/FX//6V3PppZd6tHHttddWus+ZryZNmlRa/tFHHxljfru5pWnTpiYnJ6fa8QKoHy5jqnmIFQBA0m/P7evdu7cWLVrk7aHUyoYNG3Tvvfdq586dVd44c6brrrtOAwYM0IwZMywdx5IlS/SPf/xDGzdutLRdAHXDKWAAaMCGDx+ur776SgcOHDjrtZuSNGDAAI0ZM8bycQQHB+vpp5+2vF0AdcMKIADUgK+uAAJAZQiAAAAAfobHwAAAAPgZAiAAAICfIQACAAD4GQIgAACAnyEAAgAA+BkCIAAAgJ8hAAIAAPiZ/w9QOcNA0Xg/AAAAAABJRU5ErkJggg==' width=640.0/>\n",
       "            </div>\n",
       "        "
      ],
      "text/plain": [
       "Canvas(toolbar=Toolbar(toolitems=[('Home', 'Reset original view', 'home', 'home'), ('Back', 'Back to previous …"
      ]
     },
     "metadata": {},
     "output_type": "display_data"
    }
   ],
   "source": [
    "inv_z = np.linspace(0, max(inv_dz_vals), 1000)\n",
    "plt.figure()\n",
    "plt.title('Max error for $\\\\lambda = 10$')\n",
    "plt.ylabel('Max error')\n",
    "plt.xlabel('Inverse z step size $(1 / \\Delta z)$')\n",
    "plt.xlim\n",
    "plt.plot(inv_dz_vals, real_max_errors, marker='x', color='black', label='Max error/step size data points')\n",
    "plt.show()"
   ]
  },
  {
   "cell_type": "code",
   "execution_count": 34,
   "id": "79071d3b-3042-405c-bc6a-f2f1ec1046d7",
   "metadata": {},
   "outputs": [
    {
     "data": {
      "application/vnd.jupyter.widget-view+json": {
       "model_id": "57f2848f236b4355917310318160568f",
       "version_major": 2,
       "version_minor": 0
      },
      "image/png": "[encoded data removed]",
      "text/html": [
       "\n",
       "            <div style=\"display: inline-block;\">\n",
       "                <div class=\"jupyter-widgets widget-label\" style=\"text-align: center;\">\n",
       "                    Figure\n",
       "                </div>\n",
       "                <img src='data:image/png;base64,iVBORw0KGgoAAAANSUhEUgAAAoAAAAHgCAYAAAA10dzkAAAAOXRFWHRTb2Z0d2FyZQBNYXRwbG90bGliIHZlcnNpb24zLjUuMiwgaHR0cHM6Ly9tYXRwbG90bGliLm9yZy8qNh9FAAAACXBIWXMAAA9hAAAPYQGoP6dpAABayklEQVR4nO3dd1gUZ8M18DNLFQUUsUvUqIBIR0IRsaKxEDWWxN4TW+y9IIKKMQYLYq+JioiPJZZosGJUiA1FETCJxoZdaYrAMt8ffu4rAQ1lYbac33Xt9T7Mzs59lpfNHGfmnhVEURRBRERERFpDJnUAIiIiIipbLIBEREREWoYFkIiIiEjLsAASERERaRkWQCIiIiItwwJIREREpGVYAImIiIi0DAsgERERkZZhASQiIiLSMiyARERERFqGBZCIiIhIy7AAEhEREWkZFkAiIiIiLcMCSERERKRlWACJiIiItAwLIBEREZGWYQEkIiIi0jIsgERERERahgWQiIiISMuwABIRERFpGRZAIiIiIi3DAkhERESkZVgAiYiIiLQMCyARERGRlmEBJCIiItIyLIBEREREWoYFkIiIiEjLsAASERERaRkWQCIiIiItwwJIREREpGVYAImIiIi0DAsgERERkZZhASQiIiLSMiyARERERFqGBZCIiIhIy7AAEhEREWkZFkAiDbV582YIggBBEHDy5Ml8z4uiiAYNGkAQBLRo0aLM86mz8PBwNG7cGOXKlYMgCIiNjS3V8TIzM6GrqwtjY2N89913pTrWO2lpaZgyZQratm2LKlWqQBAE+Pv7f3D99PR0jBs3DjVr1oShoSEcHR2xY8eOMslKREXHAkik4YyNjbFhw4Z8y0+dOoW//voLxsbGEqRSX0+ePEG/fv1Qv359HD58GOfOnYOlpWWpjikIAo4fP47PPvsMK1asQFJSUqmOBwDPnj3D2rVr8ebNG3Tp0uU/1//yyy+xZcsWzJkzB7/++itcXV3Rq1cvbN++vdSzElHRsQASabivvvoK//vf/5Camppn+YYNG+Dh4YFPPvlEomTF9+rVqyItV8a230lKSkJ2djb69u2L5s2bw93dHUZGRqU6poGBAby9vTFlyhQAwMWLF0s0XmHUqVMHL168wKlTpxAUFPTRdQ8dOoTIyEisXLkS3377LVq2bIl169bBx8cHkydPhlwuL/W8RFQ0LIBEGq5Xr14AgLCwMMWylJQU/O9//8PgwYPzrf/nn39i0KBBaNiwIYyMjFCrVi34+voiLi5OsU5mZiacnJzQoEEDpKSkKJY/fPgQ1atXR4sWLf5zp3/z5k307t0bVatWhYGBARo1aoTQ0NB86/n7+0MQBFy6dAndu3dHpUqVUL9+/Q8uf+f3339H69atYWxsDCMjI3h6euLgwYOF2vaHDBw4EF5eXgDeFuv3T58XZrzijPk+a2trACj1U84AFJcPFMaePXtQoUIF9OjRI8/yQYMG4cGDB4iJiSmNiERUAiyARBrOxMQE3bt3x8aNGxXLwsLCIJPJ8NVXX+Vb/8GDB6hcuTIWLlyIw4cPIzQ0FLq6unBzc0NiYiIAwNDQEDt37sTjx48VJTI3Nxd9+vSBKIoICwuDjo7OBzPFx8fD1dUV165dw48//ogDBw6gY8eOGDNmDObOnVvga7788ks0aNAAERERWL169UeXnzp1Cq1atUJKSgo2bNiAsLAwGBsbw9fXF+Hh4YXe9r/Nnj1bUVIXLFiAc+fOYeXKlUUeryhjvu/7778H8N8FUBRF5OTkFOqhDNeuXUOjRo2gq6ubZ7m9vb3ieSJSMSIRaaRNmzaJAMTz58+LJ06cEAGI165dE0VRFF1dXcWBAweKoiiKjRs3Fps3b/7B7eTk5IhZWVliw4YNxfHjx+d5Ljw8XAQgLl26VPTz8xNlMpn422+//We2du3aibVr1xZTUlLyLB89erRoaGgoPn/+XLFszpw5IgDRz88vz7ofWi6Kouju7i5WrVpVTEtLy/M+bG1txdq1a4u5ubn/uY0Pefe7jIiIKPJ4xR1TFEXxyJEjIgCxUqVKYpUqVQqVsTCPW7du/efYT548EQGIc+bMKfD5hg0biu3atcu3/MGDByIAccGCBYV5i0RUhngEkEgLNG/eHPXr18fGjRsRFxeH8+fPF3j6FwBycnKwYMEC2NjYQF9fH7q6utDX18fNmzdx48aNPOv27NkTI0aMwOTJkzFv3jzMmDEDPj4+H82SmZmJY8eOoWvXrjAyMspzNKpDhw7IzMxEdHR0vtd169atwO39e3lGRgZiYmLQvXt3VKhQQbFcR0cH/fr1w7179xRHMv9r24VRnPGKOubLly8xePBgdO7cGSNHjsSTJ0/w4MGDD67v4uKC8+fPF+pRs2bNor3hD/jY6eLCnkomorKj+9+rEJG6EwQBgwYNwvLly5GZmQlLS0s0a9aswHUnTJiA0NBQTJ06Fc2bN0elSpUgk8kwdOhQvH79Ot/6gwcPxqpVq6Cvr48xY8b8Z5Znz54hJycHISEhCAkJKXCdp0+f5ltWo0aNAtf99/IXL15AFMUC139Xdp49e1aobRdGccYr6pijRo1CdnY21q1bh6ioKABvTwN/qLxVqFABjo6Ohdr2v0/bFkflypULfI/Pnz8HAJiZmZV4DCJSLhZAIi0xcOBA+Pn5YfXq1Zg/f/4H19u6dSv69++PBQsW5Fn+9OlTVKxYMc+yjIwM9OvXD5aWlnj06BGGDh2Kffv2fTRHpUqVFEfHRo0aVeA69erVy7fsQ0eR/r38XWFNTk7Ot+67o2bm5uaF2nZhFGe8ooy5a9cubN++Hfv370eVKlXg7OwM4G0B7NChQ4GvOXXqFFq2bFmo7d+6dQt169Yt1LofYmdnh7CwMOTk5OQplO8mDtna2pZo+0SkfCyARFqiVq1amDx5MhISEjBgwIAPricIAgwMDPIsO3jwIO7fv48GDRrkWT58+HDcuXMHf/zxBxISEtC9e3csWbIE48eP/+D2jYyM0LJlS1y+fBn29vbQ19cv2Rv7l/Lly8PNzQ27d+/G4sWLUa5cOQBvJ6ls3boVtWvXVup9+0pzvIcPH2L48OH45ptv0KlTJwBvy3HFihVx+fLlD77u3SngwlDGKeCuXbti3bp1+N///pdnYtGWLVtQs2ZNuLm5lXgMIlIuFkAiLbJw4cL/XKdTp07YvHkzrK2tYW9vj4sXL+KHH35A7dq186y3fv16bN26FZs2bULjxo3RuHFjjB49GlOnTkXTpk3x2WeffXCMZcuWwcvLC82aNcOIESNQt25dpKWl4c8//8T+/ftx/PjxEr3PoKAg+Pj4oGXLlpg0aRL09fWxcuVKXLt2DWFhYUq/Jq20xhs2bBgqVaqE4ODgPMudnJw+OhPY2NgYTZo0KdaY7/v111+RkZGBtLQ0AG9nb+/atQsA0KFDB8X9D9u3bw8fHx+MGDECqampaNCgAcLCwnD48GFs3br1ozPCiUgiUs9CIaLS8f4s4I/59yzgFy9eiEOGDBGrVq0qGhkZiV5eXuLp06fF5s2bK9a7evWqWK5cOXHAgAF5tpWZmSm6uLiIdevWFV+8ePHRcW/duiUOHjxYrFWrlqinpydWqVJF9PT0FOfNm5dnvXezZp88eVKo5e+cPn1abNWqlVi+fHmxXLlyoru7u7h///4ibaMgBc0CLux4RRlz3bp1oo6Ojnju3Ll8z02YMEEUBEFMTU0tdO7iqFOnTqFnD6elpYljxowRq1evLurr64v29vZiWFhYqeYjouITRFEUpameRERERCQF3gaGiIiISMuwABIRERFpGRZAIiIiIi3DAkhERESkZVgAiYiIiLQMCyARERGRlmEBJCIiItIy/CaQEsjNzcWDBw9gbGys9G8WICIiotIhiiLS0tJQs2ZNyGTaeSyMBbAEHjx4AAsLC6ljEBERUTHcvXs339dcagsWwBIwNjYG8PYPyMTEROI0REREVBipqamwsLBQ7Me1EQtgCbw77WtiYsICSEREpGa0+fIt7TzxXUKhoaGwsbGBq6ur1FGIiIiIikwQRVGUOoS6Sk1NhampKVJSUngEkIiISE1w/80jgERERERahwWQiIiISMuwABIRERFpGRbAYuAkECIiIlJnnARSAryIlIiISP1w/80jgERERERahwWQiIiISMuwAKoQf39/BAYGFvhcYGAg/P39yzYQERERaSQWQBWio6MDPz+/fCUwMDAQfn5+0NHRkSgZERERaRJ+F7AKmT17NgDAz88PoigqyqCfnx8CAgIUzxMRERGVBGcBF0NoaChCQ0Mhl8uRlJSk9FlE48aNw7Jly6Cnp4fs7GyWPyIiIiXiLGAWwBIprT+gHj16YNeuXQAAPT09ZGVlKW3bRERE2o4FkNcAqiQrKyvF/87OzsaYMWMkTENERESahgVQxQQGBmL+/PmYPn06HB0dAQAhISEYN26cpLmIiIhIc7AAqpD3J3wsWLAAkZGRsLW1BQAsW7YMEydOlDghERERaQIWQBUil8vzTPgwNzfH0aNHFaeEN27ciHv37kkZkYiIiDQAJ4GUQFldRHr//n00b94cf/31Fxo2bIhTp06hRo0apTYeERGRJuMkEB4BVAu1atXC8ePHUadOHdy8eRNt2rTBkydPpI5FREREaooFsBhCQ0NhY2MDV1fXMhvzk08+wfHjx1GrVi3Ex8fDx8cHz58/L7PxiYiISHPwFHAJSHEIOSkpCd7e3nj06BFcXFxw7NgxmJqalsnYREREmoCngHkEUO1YWlri2LFjMDc3x8WLF9G+fXukpaVJHYuIiIjUCAugGmrcuDGOHj2KSpUq4dy5c+jUqRNevXoldSwiIiJSEyyAasrBwQG//fYbTExMEBUVhc6dOyMzM1PqWERERKQGWADVWJMmTXD48GGUL18eR48eRbdu3fDmzRupYxEREZGKYwFUcx4eHjh06BDKlSuHQ4cO4euvv0Z2drbUsYiIiEiFsQBqAG9vb/zyyy8wMDDA3r170bdvX+Tk5Egdi4iIiFQUC6CGaNOmDXbv3g09PT3s3LkTgwYNglwulzoWERERqSAWQA3SoUMH7Ny5Ezo6Oti6dSuGDx+O3NxcqWMRERGRimEBLAYpvgmksLp06YLt27dDJpNh/fr1GDNmDHivbyIiInofvwmkBFT5TuJbt25F//79IYoiJkyYgMWLF0MQBKljERERSU6V999lhUcANVTfvn2xdu1aAEBwcDBmzpzJI4FEREQEgAVQow0dOhQrVqwAAAQFBWHevHkSJyIiIiJVwAKo4UaNGoXg4GAAgJ+fHxYtWiRxIiIiIpIaC6AWGD9+PBYsWAAAmDp1KpYtWyZxIiIiIpISC6CWmD59Ovz8/AAA48aNw+rVqyVORERERFJhAdQi/v7+mDJlCgBgxIgR2LRpk8SJiIiISAosgFpEEAQsXLgQY8eOBQAMGTIE27dvlzgVERERlTUWQC0jCAKWLFmC4cOHQxRF9O/fH7t27ZI6FhEREZUhFkAtJAgCQkNDFd8X3KtXL+zfv1/qWERERFRGWAC1lEwmw7p169C7d2/k5OSge/fuOHz4sNSxiIiIqAywAGoxHR0dbNmyBd26dUNWVha6du2K48ePSx2LiIiIShkLoJbT1dXF9u3b4evri8zMTPj6+uL333+XOhYRERGVIhbAYggNDYWNjQ1cXV2ljqIU+vr6iIiIwOeff45Xr16hQ4cOiImJkToWERERlRJBFEVR6hDqKjU1FaampkhJSYGJiYnUcUrs9evX6NixI06cOAFTU1McP34czs7OUsciIiJSKk3bfxcHjwCSQrly5bB//354eXkhJSUFPj4+iIuLkzoWERERKRkLIOVRvnx5HDx4EG5ubnj+/Dlat26NGzduSB2LiIiIlIgFkPIxMTHB4cOH4ezsjCdPnqB169a4efOm1LGIiIhISVgAqUAVK1bEb7/9Bjs7OyQnJ6NVq1a4deuW1LGIiIhICVgA6YMqV66Mo0ePwtraGvfu3UPr1q1x9+5dqWMRERFRCbEA0kdVrVoVx44dQ4MGDXDr1i20bt0aycnJUsciIiKiEmABpP9Us2ZNHD9+HHXr1sXNmzfRunVrPH78WOpYREREVEwsgFQoFhYWOH78OGrXro0bN26gTZs2ePbsmdSxiIiIqBhYAKnQ6tWrh+PHj6N69eqIi4tDu3bt8PLlS6ljERERURGxAFKRNGzYEMeOHUOVKlVw8eJFtG/fHmlpaVLHIiIioiJgAaQis7GxwdGjR2FmZobo6Gh07NgRGRkZUsciIiKiQmIBpGKxt7fHb7/9BlNTU5w+fRpffPEFXr9+LXUsIiIiKgQWQCo2FxcXHD58GBUqVMDx48fx5Zdf4s2bN1LHIiIiov/AAkgl4u7ujkOHDsHIyAiHDx9Gz549kZ2dLXUsIiIi+ggWQCqxZs2a4ZdffoGhoSF++eUX9OnTBzk5OVLHIiIiog9gASSlaN26Nfbs2QN9fX1ERERg4MCBkMvlUsciIiKiArAAktJ8/vnn2LlzJ3R1dbFt2zZ88803yM3NlToWERER/YtWF8C7d++iRYsWsLGxgb29PSIiIqSOpPY6d+6M7du3QyaTYePGjRg9ejREUZQ6FhEREb1HV+oAUtLV1cXSpUvh6OiIx48fw9nZGR06dED58uWljqbWevTogaysLPTr1w+rVq2CgYEBgoODIQiC1NGIiIgIWn4EsEaNGnB0dAQAVK1aFWZmZnj+/Lm0oTREnz59sH79egDA0qVLMWPGDB4JJCIiUhEqXQCjoqLg6+uLmjVrQhAE7N27N986K1euRL169WBoaAgXFxecPn26WGNduHABubm5sLCwKGFqemfw4MFYuXIlAGDhwoUICAiQOBEREREBKl4AMzIy4ODggBUrVhT4fHh4OMaNG4eZM2fi8uXLaNasGdq3b487d+4o1nFxcYGtrW2+x4MHDxTrPHv2DP3798fatWtL/T1pmxEjRmDJkiUAAH9/fyxcuFDiRERERCSIanJeThAE7NmzB126dFEsc3Nzg7OzM1atWqVY1qhRI3Tp0gVBQUGF2u6bN2/g4+ODYcOGoV+/fv+57vvfdJGamgoLCwukpKTAxMSkaG9Iy3z//feYNm0aAGDJkiUYN26ctIGIiEhrpaamwtTUVKv33yp9BPBjsrKycPHiRbRt2zbP8rZt2+Ls2bOF2oYoihg4cCBatWr1n+UPAIKCgmBqaqp48HRx4U2dOhX+/v4AgPHjx+cp7URERFS21LYAPn36FHK5HNWqVcuzvFq1anj48GGhtnHmzBmEh4dj7969cHR0hKOjI+Li4j64/vTp05GSkqJ43L17t0TvQdv4+fkpjgKOHDkSGzdulDgRERGRdlL728D8+9YioigW+nYjXl5eRbpRsYGBAQwMDIqUj/6PIAhYsGABMjMzsXTpUgwdOhQGBgbo06eP1NGIiIi0itoeATQ3N4eOjk6+o32PHz/Od1SQVIcgCAgODsaIESMgiiL69+/PG3ATERGVMbUtgPr6+nBxcUFkZGSe5ZGRkfD09CzVsUNDQ2FjYwNXV9dSHUdTCYKAFStWYPDgwcjNzUXv3r2xb98+qWMRERFpDZUugOnp6YiNjUVsbCwA4NatW4iNjVXc5mXChAlYv349Nm7ciBs3bmD8+PG4c+cOhg8fXqq5Ro0ahfj4eJw/f75Ux9FkMpkMa9euRd++fZGTk4MePXrg119/lToWERGRVlDp28CcPHkSLVu2zLd8wIAB2Lx5M4C3N4JetGgRkpOTYWtriyVLlsDb27tM8nEaecnl5OSgd+/eiIiIgIGBAQ4ePIjWrVtLHYuIiDQY998qXgBVHf+AlCM7Oxs9evTAvn37UK5cORw+fLjMSjwREWkf7r9V/BSwquI1gMqlp6eH8PBwtG/fHq9fv0bHjh0RHR0tdSwiIiKNxSOAJcB/QSjX69ev4evri2PHjsHU1BTHjh2Di4uL1LGIiEjDcP/NI4CkQsqVK4d9+/ahWbNmSElJQbNmzXDlypV86wUGBiq+VYSIiIiKjgWQVEr58uVx8OBB1K5dG69fv4anpyfi4+MVzwcGBsLPzw86OjoSpiQiIlJvLICkcoyNjREXF4eaNWvi1atXcHNzw82bNxXlLyAgALNnz5Y6JhERkdpS+6+Ck0JoaChCQ0Mhl8uljqKxKlasiKtXr6Jx48Z49OgRLC0tAYDlj4iISAk4CaQEeBFp6Xv8+DGqV6+Od3+mp0+fhpeXl8SpiIhInXH/zVPApOLWrFkDURQhCAIAoEWLFggLC5M4FRERkXpjASSV9f41f+np6WjUqBHkcjl69+6N+fPngweviYiIiocFkFTSvyd8GBkZIS4uDp6engCAWbNmYfDgwcjKypI4KRERkfphASSVJJfL80340NHRwZkzZ9CpUycAwObNm9G+fXu8fPlSopRERETqiZNAiuH9WcBJSUlafRGpVH799Vf07NlTcWr44MGDqFevntSxiIhIDXASCAtgifAPSFpXrlxBx44dcf/+fVSpUgX79++Hm5ub1LGIiEjFcf/NU8CkxhwcHBATEwMnJyc8efIELVq0wP/+9z+pYxEREak8FkBSa7Vq1UJUVBQ6duyIzMxM9OjRAz/88ANnCBMREX0ECyCpvQoVKmDfvn0YPXo0RFHElClTMGLECOTk5EgdjYiISCWxAJJG0NHRQUhICJYuXQpBELBmzRp06tQJqampUkcjIiJSOSyAxRAaGgobGxu4urpKHYX+ZezYsdizZw+MjIxw5MgReHl54e7du1LHIiIiUimcBVwCnEWkui5evIhOnTrh4cOHqFGjBvbv3w8XFxepYxERkQrg/ptHAElDubi4ICYmBra2tkhOToa3tzf2798vdSwiIiKVwAJIGuuTTz7BmTNn0LZtW7x69QqdO3fG8uXLpY5FREQkORZA0mgmJiY4cOAAhg0bBlEUMXbsWIwZMwZyuVzqaERERJJhASSNp6enhzVr1mDRokUAgJCQEHTt2hXp6ekSJyMiIpIGCyBpBUEQMHnyZERERMDQ0BD79++Ht7c3Hjx4IHU0IiKiMscCSFqle/fuOHHiBKpUqYLLly/Dzc0NV69elToWERFRmWIBLAbeB1C9ubu7Izo6GtbW1rh37x6aNm2Kw4cPSx2LiIiozPA+gCXA+wiptxcvXqBbt244ceIEdHR0EBoaim+//VbqWEREVMq4/+YRQNJilSpVwuHDhzFgwADI5XIMHz4ckydPRm5urtTRiIiIShULIGk1fX19bNq0CYGBgQCAxYsXo0ePHnj16pXEyYiIiEoPCyBpPUEQMGvWLGzbtg36+vrYvXs3WrZsiUePHkkdjYiIqFSwABL9f71798bRo0dhZmaGP/74A+7u7oiPj5c6FhERkdKxABK9p1mzZoiOjkaDBg1w+/ZteHp64tixY1LHIiIiUioWQKJ/adiwIc6dO4emTZsiJSUFn3/+OTZu3Ch1LCIiIqVhASQqgLm5OY4ePYpevXohJycHQ4YMwcyZMzlDmIiINAILINEHGBoaYtu2bZg1axYAYMGCBejTpw8yMzMlTkZERFQyLIDFwG8C0R6CICAwMBAbN26Erq4uduzYgTZt2uDp06dSRyMiIio2fhNICfBO4trl+PHj+PLLL5GSkoL69evj0KFDsLS0lDoWEREVEfffPAJIVGitWrXCuXPnULduXfz111/w8PBAVFSU1LGIiIiKjAWQqAgaNWqE6OhouLm54fnz5/Dx8cG2bdukjkVERFQkLIBERVStWjWcOHEC3bp1Q1ZWFvr27YuAgADwagoiIlIXLIBExVCuXDns3LkTkydPBgDMmTMHAwcORFZWlsTJiIiI/hsLIFExyWQyLFq0CKtXr4aOjg5++ukntGvXDi9evJA6GhER0UexABKV0LfffouDBw/C2NgYJ0+ehIeHB/7++2+pYxEREX0QCyCRErRr1w6///47ateujcTERLi7u+PcuXNSxyIiIioQCyCRktjb2yMmJgbOzs548uQJWrZsiYiICKljERER5cMCSKRENWvWRFRUFHx9ffHmzRv07NkT33//PWcIExGRSmEBJFKy8uXLY8+ePRgzZgwAYNq0afjmm2+QnZ0tcTIiIqK3WACJSoGOjg6WLVuGZcuWQSaTYf369ejYsSNSUlKkjkZERMQCSFSaxowZg71798LIyAiRkZFo2rQp/vnnH6ljERGRlmMBJCplvr6+OH36NGrUqIHr16/D3d0dFy5ckDoWERFpMRbAYggNDYWNjQ1cXV2ljkJqwtnZGTExMbCzs8PDhw/h7e2Nffv2SR2LiIi0lCByemKxpaamwtTUFCkpKTAxMZE6DqmB1NRUfPXVVzh8+DAEQUBwcDDGjh0LQRCkjkZEpDW4/+YRQKIyZWJigv379+Pbb7+FKIoYP348vvvuO+Tk5EgdjYiItAgLIFEZ09XVxapVq7B48WIIgoDQ0FB07twZaWlpUkcjIiItwQJIJAFBEDBx4kRERETA0NAQhw4dgre3N+7fvy91NCIi0gIsgEQS6tatG06ePImqVasiNjYWbm5uuHLlitSxiIhIw7EAEknMzc0NMTExaNSoEe7fvw8vLy8cOnRI6lhERKTBWACJVEDdunVx9uxZtGrVCunp6fD19cXKlSuljkVERBqKBZBIRVSsWBG//vorBg0ahNzcXIwaNQoTJ06EXC6XOhoREWkYFkAiFaKvr48NGzZg/vz5AIDg4GB0794dGRkZEicjIiJNwgJIpGIEQcCMGTMQFhYGAwMD7N27Fy1atMDDhw+ljkZERBqCBZBIRX399dc4duwYKleujAsXLsDa2hrXrl3Lt15gYCD8/f3LPiAREaktFkAiFda0aVNER0fDzMwMKSkpaNKkCSIjIxXPBwYGws/PDzo6OhKmJCIidcPvAi4BfpcglZVnz57BxcUF//zzD2QyGdasWYPk5GT4+fkhICAAs2fPljoiEZHa4P6bBbBE+AdEZenNmzf47LPPcPXqVcWy8ePHIzg4WMJURETqh/tvngImUhsGBgaIjY3Nc7p39erVmD9/Pt68eSNhMiIiUjcsgERqZN68eZDL5dDT0wMAvH79GrNmzYKdnR2OHDkicToiIlIXLIBEauLdhI+AgABkZWVh7ty5AIAKFSrg5s2b+Pzzz9GtWzfcuXNH4qRERKTqtLoApqWlwdXVFY6OjrCzs8O6deukjkRUoPfL37sJH+9+Tk9Ph4eHB3R0dLB79240atQICxcuRFZWlsSpiYhIVWn1JBC5XI43b97AyMgIr169gq2tLc6fP4/KlSsX6vW8iJTKir+/P3R0dAqc7RsYGAi5XI5u3bph1KhROH36NADAysoKISEh8PHxKeu4REQqjftvLS+A73v+/DmcnJxw8eJFmJubF+o1/AMiVSOKIrZt24ZJkybh0aNHAIAePXogODgYtWvXljgdEZFq4P5bxU8BR0VFwdfXFzVr1oQgCNi7d2++dVauXIl69erB0NAQLi4uiqMfhfXy5Us4ODigdu3amDJlSqHLH5EqEgQBffv2RWJiIsaOHQuZTIaIiAhYW1tj0aJFPC1MREQAlFgAc3JyoKurW+BXVRVXRkYGHBwcsGLFigKfDw8Px7hx4zBz5kxcvnwZzZo1Q/v27fNcBO/i4gJbW9t8jwcPHgAAKlasiCtXruDWrVvYvn274qgJkTozNTXF0qVLcenSJTRt2hQZGRmYOnUqHBwccOzYManjERGRxJR6Crh+/frYvXs3HBwclLVJBUEQsGfPHnTp0kWxzM3NDc7Ozli1apViWaNGjdClSxcEBQUVeYwRI0agVatW6NGjR6HW5yFkUge5ubn4+eefMXnyZDx58gQA8NVXX+HHH39ErVq1JE5HRFT2uP9W8ingWbNmYfr06Xj+/LkyN1ugrKwsXLx4EW3bts2zvG3btjh79myhtvHo0SOkpqYCePvHEBUVBSsrqw+u/+bNG6SmpuZ5EKk6mUyGAQMGICkpCaNHj4ZMJkN4eDisra2xePFiZGdnSx2RiIjKmFIL4PLly3H69GnUrFkTVlZWcHZ2zvNQpqdPn0Iul6NatWp5llerVg0PHz4s1Dbu3bsHb29vODg4wMvLC6NHj4a9vf0H1w8KCoKpqaniYWFhUaL3QFSWKlasiJCQEFy4cAEeHh5IT0/H5MmT4ejoiBMnTkgdj4iIypCuMjf2/unZsiIIQp6fRVHMt+xDXFxcEBsbW+ixpk+fjgkTJih+Tk1NZQkktePk5ITff/8dW7ZswZQpUxAfH49WrVqhV69eWLx4MWrWrCl1RCIiKmVKLYBz5sxR5uY+ytzcHDo6OvmO9j1+/DjfUUFlMTAwgIGBQalsm6gsyWQyDBo0CF26dMGsWbOwatUqhIWFYf/+/Zg7dy6+++47xdfNERGR5imV28BcvHgRW7duxbZt23D58uXSGAL6+vpwcXFBZGRknuWRkZHw9PQslTHfCQ0NhY2NDVxdXUt1HKLSVqlSJYSGhuL8+fNwc3NDeno6Jk6cCGdnZ0RFRUkdj4iISolSZwE/fvwYX3/9NU6ePImKFStCFEWkpKSgZcuW2LFjB6pUqVKk7aWnp+PPP/8E8Pa0VXBwMFq2bAkzMzN88sknCA8PR79+/bB69Wp4eHhg7dq1WLduHa5fv446deoo6219EGcRkSbJzc3Fpk2bMHXqVDx79gwA0LdvXyxatAg1atSQOB0RkfJw/63kI4DfffcdUlNTcf36dTx//hwvXrzAtWvXkJqaijFjxhR5excuXICTkxOcnJwAABMmTICTkxP8/PwAvL2VxdKlSxEQEABHR0dERUXh0KFDZVL+iDSNTCbDkCFDkJSUhOHDh0MQBGzduhXW1tZYtmwZcnJypI5IRERKotQjgKampjh69Gi+U6N//PEH2rZti5cvXyprKJXAf0GQJrtw4QJGjhyJ8+fPAwDs7OwQGhqKZs2aSZyMiKhkuP9W8hHA3NzcAi8c19PTQ25urjKHIqJS1qRJE0RHR2Pt2rUwMzNDXFwcvL29MWDAAH5jDhGRmlNqAWzVqhXGjh2r+Jo1ALh//z7Gjx+P1q1bK3MoSXESCGkLmUyGYcOGITExEcOGDYMgCPjpp59gaWmJkJAQnhYmIlJTSj0FfPfuXXTu3BnXrl2DhYUFBEHAnTt3YGdnh3379qF27drKGkol8BAyaZuYmBiMGjUKFy9eBAA4ODggNDQUTZs2lTgZEVHhcf+t5AL4TmRkJBISEiCKImxsbNCmTRtlD6ES+AdE2kgul2PdunWYMWMGXrx4AQAYOHAgvv/+e1StWlXidERE/437byUWwJycHBgaGiI2Nha2trbK2KTK4x8QabMnT55g+vTp2LBhA4C3XzU3b948DB8+HDo6OhKnIyL6MO6/lXgNoK6uLurUqQO5XK6sTaosXgNIBFSpUgXr16/HuXPn4OTkhJcvX2L06NFwdXXFuXPnpI5HREQfodRTwJs2bUJERAS2bt0KMzMzZW1WZfFfEERvyeVyrFmzBjNnzlTc7mnw4MFYuHBhkW8AT0RU2rj/VnIBdHJywp9//ons7GzUqVMH5cuXz/P8pUuXlDWUSuAfEFFejx8/xrRp07Bp0yYAb79qbv78+fjmm294WpiIVAb330ougHPnzv3o83PmzFHWUCqBf0BEBTt79ixGjhyJK1euAABcXFywcuVKfPbZZxInIyLi/hsAdJW1oXf3Axs8eDAsLCyUtVkiUkOenp64cOECVq9ejVmzZuHixYtwd3fH0KFDsWDBApibm0sdkYhIqyl1EsjixYu1YhIIEf03XV1djB49GomJiRgwYABEUcS6detgZWWFtWvX8r8VREQSUuo3gbRu3RonT55U5iZVEmcBExVetWrVsHnzZkRFRcHOzg7Pnz/Ht99+Cw8PD8X3DBMRUdlS6jWAa9asgb+/P/r06QMXF5d8k0C++OILZQ2lEngNAVHR5OTkIDQ0FH5+fkhNTYUgCPjmm28wf/58VK5cWep4RKQluP9WcgGUyT58QFEQBI075cM/IKLiSU5OxpQpU7B161YAQOXKlbFw4UIMHjz4o/8dISJSBu6/lXwKODc394MPTSt/RFR8NWrUwM8//4xTp07B1tYWz549w7Bhw+Dp6an4nmEiIio9pfZP7czMzNLaNBFpCG9vb1y6dAnBwcEwNjZGTEwMXF1dMXLkSDx//lzqeEREGkupBVAulyMwMBC1atVChQoV8PfffwMAZs+erfi+UCKi9+np6WH8+PFISEhA7969IYoiVq1aBSsrK2zcuBG5ublSRyQi0jhKLYDz58/H5s2bsWjRIujr6yuW29nZYf369cocSlKcBUykfDVr1sS2bdtw4sQJ2NjY4OnTpxgyZAi8vLxw+fJlqeMREWkUpU4CadCgAdasWYPWrVvD2NgYV65cwaeffoqEhAR4eHjgxYsXyhpKJfAiUqLSkZ2djeXLl8Pf3x/p6emQyWQYMWIE5s2bh4oVK0odj4jUHPffSj4CeP/+fTRo0CDf8tzcXGRnZytzKCLSYHp6epg4cSISEhLw9ddfIzc3F6GhobC0tMSWLVt4WpiIqISUWgAbN26M06dP51seEREBJycnZQ5FRFqgVq1aCAsLw7Fjx2BtbY0nT55g4MCB8Pb2VnzPMBERFZ3SvgsYAObMmYN+/frh/v37yM3Nxe7du5GYmIiffvoJBw4cUOZQRKRFWrVqhStXrmDZsmWYO3cuzpw5A2dnZ4wePRoBAQEwNTWVOiIRkVpR6hFAX19fhIeH49ChQxAEAX5+frhx4wb2798PHx8fZQ5FRFpGX18fkydPRkJCAnr27Inc3FwsX74cVlZW+Pnnn6HEy5mJiDSeUieBaBteREokncjISIwePRpJSUkAAC8vL6xcuRJ2dnYSJyMiVcf9dyneCJqIqDT5+Pjg6tWrCAoKgpGREX7//Xc4OTlh/PjxSE1NlToeEZFKYwEsBt4HkEg1GBgYYNq0abhx4wa6desGuVyOpUuXwsrKCtu2beNpYSKiD+Ap4BLgIWQi1XLkyBF89913uHnzJoC3XzUXGhoKW1tbiZMRkSrh/ptHAIlIg7Rr1w5xcXGYP38+ypUrh6ioKDg6OmLixIk8LUxE9B6lFsDXr19/8Lnk5GRlDkVEVCADAwPMmDEDN27cQNeuXSGXyxEcHAxra2uEhYXxtDAREZRcAJ2cnHDp0qV8y3ft2gV7e3tlDkVE9FF16tTB7t27cejQIdSvXx/Jycno3bs3Wrdujfj4eKnjERFJSqkF0MfHB56enli4cCFEUUR6ejoGDhyIAQMGwM/PT5lDEREVSvv27XHt2jUEBgbC0NAQJ06cgIODA6ZMmYK0tDSp4xERSULpk0AOHz6MQYMGoUGDBnjw4AFMTEywbds22NjYKHMYlcCLSInUy61btzB+/Hjs27cPwNuvmgsODkaPHj0gCILE6YiorHD/XQqTQNq2bYsvv/wSZ86cwd27d7Fw4UKNLH9EpH7q1auHvXv34sCBA/j0009x//59fPXVV/Dx8UFCQoLU8YiIyoxSC+Bff/0FDw8PHDhwAEeOHMGUKVPQuXNnTJkyBdnZ2cocioio2Dp27Ijr16/D398fBgYGOHbsGOzt7eHl5YXZs2cX+JrAwED4+/uXbVAiolKi1ALo6OiIevXq4cqVK/Dx8cG8efNw/Phx7N69G5999pkyhyIiKhFDQ0PMmTMH8fHx6NSpE7Kzs3HmzBnMmzcPX3/9dZ7ZwoGBgfDz84OOjo6EiYmIlEepBXDlypXYsWMHKlasqFjm6emJy5cvw9nZWZlDEREpxaeffor9+/fjl19+Qd26dQEA4eHhaNiwIZKSkhTlLyAg4INHB4mI1A2/CaQYQkNDERoaCrlcjqSkJK2+iJRIk7x+/RoLFy7E/PnzIZfLFctZ/og0CyeBlFIBjI+Px507d5CVlfV/AwkCfH19lT2UpPgHRKSZ/vzzT1haWipOA69duxbDhg2TOBURKQv334CuMjf2999/o2vXroiLi4MgCIr/eL67vcL7/6ImIlJV774xRCaTITc3F9988w3u3LmDgIAA3i6GiDSCUq8BHDt2LOrVq4dHjx7ByMgI169fR1RUFJo0aYKTJ08qcygiolLx/jV/OTk5aNGiBQBg3rx5GDhwYJ4zG0RE6kqpBfDcuXMICAhAlSpVIJPJIJPJ4OXlhaCgIIwZM0aZQxERKd2/J3wIgoATJ06gc+fOAICffvoJHTt2REpKisRJiYhKRqkFUC6Xo0KFCgAAc3NzPHjwAMDb7+RMTExU5lBEREonl8sLnPCxd+9e9O3bF3p6ejh69Ci8vb1x//59iVISEZWcUgugra0trl69CgBwc3PDokWLcObMGQQEBODTTz9V5lBERErn7+//wdm+P//8M6Kjo1G9enVcvXoV7u7uiIuLK+OERETKodQCOGvWLOTm5gJ4e73MP//8g2bNmuHQoUNYvny5MociIipzzs7OOHfuHBo1aoR79+7By8sLx48flzoWEVGRlfp9AJ8/f45KlSpp5Mw5TiMn0k4vXrxAly5dEBUVBT09PWzatAl9+vSROhYRFRL330o+AlgQMzMzjSx/RKS9KlWqhCNHjqBnz57Izs5G3759ERQUBN5Xn4jUhVLuAzh48OBCrbdx40ZlDEdEJDlDQ0OEhYXBwsICP/74I2bMmIE7d+4gJCQEurpKvcUqEZHSKeW/Ups3b0adOnXg5OTEfwETkdaQyWRYvHgx6tSpg7Fjx2L16tW4d+8eduzYgfLly0sdj4jog5RyDeDIkSOxY8cOfPLJJxg8eDD69u0LMzMzZeRTabyGgIje2bNnD3r37o3MzEy4urriwIEDqFq1qtSxiKgA3H8r6RrAlStXIjk5GVOnTsX+/fthYWGBnj174siRIzwiSERaoWvXrjh+/DgqV66M8+fPw8PDA0lJSVLHIiIqkNImgRgYGKBXr16IjIxEfHw8GjdujJEjR6JOnTpIT09X1jAqITQ0FDY2NnB1dZU6ChGpEA8PD5w9exaffvop/v77b3h6euLs2bNSxyIiyqdUZgELggBBECCKouK+gJpk1KhRiI+Px/nz56WOQkQqxtLSEufOnYOrqyuePXuG1q1bY8+ePVLHIiLKQ2kF8M2bNwgLC4OPjw+srKwQFxeHFStW4M6dO4qvhyMi0gZVq1bFiRMn4Ovri8zMTHTr1o03wycilaKUAjhy5EjUqFED33//PTp16oR79+4hIiICHTp0gExW6rcaJCJSOeXLl8fu3bsxYsQIiKKIsWPHYtKkSRp5VoSI1I9SZgHLZDJ88skncHJy+uhNn3fv3l3SoVQKZxER0X8RRRHff/89pk+fDgDo2bMntmzZAkNDQ4mTEWkv7r+VdB/A/v3789s+iIgKIAgCpk2bBgsLCwwaNAg7d+5EcnIy9u7dqxW3yyIi1VTq3wWsyfgvCCIqiuPHj6Nr165ITU2FtbU1fv31V9StW1fqWERah/vvMvguYCIieqtVq1Y4c+YMateujYSEBHh4eODSpUtSxyIiLcQCSERUhmxtbREdHQ17e3s8fPgQ3t7e+PXXX6WORURahgWQiKiM1apVC6dPn0abNm2QkZEBX19fbNiwQepYRKRFWACJiCRgYmKCgwcPon///pDL5Rg6dCjmzJnDr88kojLBAkhEJBF9fX1s3rwZs2bNAgAEBARg8ODByM7OljgZEWk6FkAiIgkJgoDAwECsXbsWOjo62Lx5Mzp27IjU1FSpoxGRBmMBJCJSAcOGDcMvv/wCIyMjREZGwtvbGw8ePJA6FhFpKBZAIiIV0aFDB5w6dQpVq1bFlStX4O7ujuvXr0sdi4g0EAsgEZEKadKkCaKjo2FlZYW7d++iadOmOHnypNSxiEjDsAASEamYevXq4cyZM2jatClSUlLQrl07hIWFSR2LiDQICyARkQqqXLkyjh49iu7duyMrKwu9e/fG999/z9vEEJFSsAASEakoQ0NDhIeHY/z48QCAadOmYfTo0ZDL5RInIyJ1xwII4NWrV6hTpw4mTZokdRQiojxkMhmCg4OxZMkSCIKAlStXolu3bnj16pXU0YhIjbEAApg/fz7c3NykjkFE9EHjxo1DREQEDAwMsG/fPrRq1QpPnjyROhYRqSmtL4A3b95EQkICOnToIHUUIqKP6tatG44dOwYzMzPExMTAw8MDN2/elDoWEakhlS6AUVFR8PX1Rc2aNSEIAvbu3ZtvnZUrV6JevXowNDSEi4sLTp8+XaQxJk2ahKCgICUlJiIqXU2bNsXZs2dRt25d/PXXX/D09ER0dLTUsYhIzah0AczIyICDgwNWrFhR4PPh4eEYN24cZs6cicuXL6NZs2Zo37497ty5o1jHxcUFtra2+R4PHjzAvn37YGlpCUtLy7J6S0REJWZlZYVz587BxcUFT58+RcuWLbFv3z6pYxGRGhFENbmngCAI2LNnD7p06aJY5ubmBmdnZ6xatUqxrFGjRujSpUuhjupNnz4dW7duhY6ODtLT05GdnY2JEyfCz8+vwPXfvHmDN2/eKH5OTU2FhYUFUlJSYGJiUvw3R0RUDOnp6fjqq69w6NAhCIKAkJAQjBo1SupYRCovNTUVpqamWr3/VukjgB+TlZWFixcvom3btnmWt23bFmfPni3UNoKCgnD37l3cvn0bixcvxrBhwz5Y/t6tb2pqqnhYWFiU6D0QEZVEhQoVsG/fPnzzzTcQRRGjR4/GlClTkJubK3U0IlJxalsAnz59CrlcjmrVquVZXq1aNTx8+LBUxpw+fTpSUlIUj7t375bKOEREhaWrq4vVq1dj/vz5AIAffvgBffr0yXO2gojo33SlDlBSgiDk+VkUxXzLCmPgwIH/uY6BgQEMDAyKvG0iotIkCAJmzJgBCwsLDB48GDt27MCDBw+wd+9eVKpUSep4RKSC1PYIoLm5OXR0dPId7Xv8+HG+o4JERNqgX79++PXXX2FsbIyoqCg0bdoU//zzj9SxiEgFqW0B1NfXh4uLCyIjI/Msj4yMhKenZ6mOHRoaChsbG7i6upbqOERERdWmTRv8/vvvqFWrFm7cuAF3d3dcvnxZ6lhEpGJUugCmp6cjNjYWsbGxAIBbt24hNjZWcZuXCRMmYP369di4cSNu3LiB8ePH486dOxg+fHip5ho1ahTi4+Nx/vz5Uh2HiKg47O3tER0dDVtbWzx8+BDe3t44cuSI1LGISIWo9G1gTp48iZYtW+ZbPmDAAGzevBnA2xtBL1q0CMnJybC1tcWSJUvg7e1dJvk4jZyIVFlKSgq+/PJLHD9+HDo6Oli3bh0GDRokdSwiyXH/reIFUNXxD4iIVF1WVhYGDx6Mbdu2AQDmzJmDOXPmFGuyHJGm4P5bxU8BqypeA0hE6kJfXx8///wzpk+fDgCYO3cuhgwZguzsbImTEZGUeASwBPgvCCJSJ2vWrMHIkSORm5uLdu3aISIiAsbGxlLHIipz3H/zCCARkdb49ttvsW/fPhgZGeHIkSNo3rw5kpOTpY5FRBJgASQi0iKdOnXCyZMnUaVKFVy+fBnu7u6Ij4+XOhYRlTEWQCIiLePq6opz586hYcOGuHPnDpo2bYpTp05JHYuIyhALYDFwEggRqbv69evj7Nmz8PDwwMuXL9G2bVvs2LFD6lhEVEY4CaQEeBEpEam7169fo2/fvti9ezcA4IcffsDEiRN5mxjSaNx/8wggEZFWK1euHHbu3ImxY8cCACZPnowxY8ZALpdLnIyIShMLIBGRltPR0cHSpUsRHBwMAFixYgW6d++OV69eSZyMiEoLCyAREQEAxo8fj/DwcOjr62Pv3r1o3bo1njx5InUsIioFLIDFwEkgRKSpevbsiaNHj6JSpUqIjo6GtbU1/vzzz3zrBQYGwt/fv+wDEpFSsAAWw6hRoxAfH4/z589LHYWISOmaNWuGM2fOwNTUFM+fP4eDgwNiYmIUzwcGBsLPzw86OjoSpiSiktCVOgAREameRo0aISEhAc7OzkhOToaXlxfCwsJw48YN+Pn5ISAgALNnz5Y6JhEVE28DUwKcRk5Emi49PR1OTk55TgOPHz9eMWGESB1x/81TwERE9BEVKlRAfHx8ntO9q1atQkBAADIzMyVMRkQlwQJIREQftXDhQsjlcujp6QEAMjMzMWfOHDRu3BgHDx6UOB0RFQcLIBERfdC7CR8BAQHIysrC3LlzAQDGxsb4+++/0alTJ3Tp0gW3b9+WNigRFQkLYDHwNjBEpA3eL3/vJny8+zktLQ1NmzaFrq4u9u3bh0aNGmHevHk8LUykJjgJpAR4ESkRaTJ/f3/o6OgUONs3MDAQcrkcPXv2xOjRo3HixAkAQP369RESEoL27duXdVyiQuP+mwWwRPgHREQEiKKI8PBwTJgwAcnJyQCALl26YMmSJahbt6604YgKwP03TwETEVEJCYKAr7/+GomJiZg4cSJ0dXWxd+9e2NjYYP78+Xjz5o3UEYnoX1gAiYhIKYyNjbF48WLExsaiefPmeP36NWbNmgVbW1scOXJE6nhE9B4WQCIiUqrGjRvjxIkT2LZtG6pXr44///wTn3/+Obp164Y7d+5IHY+IwAJIRESlQBAE9O7dG4mJiZgwYQJ0dHSwe/duWFtbIygoiKeFiSTGAkhERKXGxMQEP/74I2JjY+Ht7Y3Xr19jxowZsLOzw2+//SZ1PCKtxQJYDLwPIBFR0dja2uLkyZPYunUrqlevjps3b6Jdu3bo3r07TwsTSYC3gSkBTiMnIiq6lJQU+Pv7IyQkBHK5HEZGRpg9ezYmTJgAfX19qeORFuD+m0cAiYiojJmammLJkiW4dOkSvLy88OrVK0yfPh329vY4evSo1PGItAILIBERScLe3h5RUVH46aefUK1aNSQmJsLHxwc9e/bEvXv3pI5HpNFYAImISDKCIKBfv35ITEzE2LFjIZPJEBERAWtrayxatAhZWVlSRyTSSCyAREQkOVNTUyxduhSXLl1C06ZNkZGRgalTp8LBwQHHjh2TOh6RxmEBJCIileHg4IDTp09jy5YtqFq1KhISEtCmTRt89dVXuH//vtTxiDQGCyAREakUQRDQv39/JCYm4rvvvoNMJsPOnTthZWWFH374gaeFiZSABZCIiFRSxYoVsXz5cly8eBGenp7IyMjAlClT4OjoiOPHj0sdj0itsQASEZFKc3R0xOnTp7Fp0yZUqVIFN27cQOvWrdGrVy+eFiYqJhbAYuA3gRARlS2ZTIaBAwciMTERo0ePhkwmw44dO2BtbY0ff/wR2dnZUkckUiv8JpAS4J3EiYikcfnyZYwcORLR0dEAABsbG4SGhqJFixbSBiO1wP03jwASEZEacnJywpkzZ7BhwwaYm5sjPj4eLVu2RJ8+ffDgwQOp4xGpPBZAIiJSSzKZDIMHD0ZiYiJGjhwJQRCwfft2WFtbIzg4mKeFiT6CBZCIiNSamZkZQkNDcf78ebi5uSEtLQ0TJ06Ek5MTTp06JXU8IpXEAkhERBrBxcUFZ8+exfr161G5cmVcv34dLVq0QN++fZGcnCx1PCKVwgJIREQaQyaTYciQIUhKSsKIESMgCAK2bdsGKysrLF26FDk5OVJHJFIJLIBERKRxzMzMsHLlSvzxxx/47LPPkJaWhvHjx8PZ2RmnT5+WOh6R5FgAiYhIYzVp0gTnzp3D2rVrUblyZcTFxcHb2xv9+/fHw4cPpY5HJBkWQCIi0mgymQzDhg1DYmIivv32WwiCgJ9//hlWVlZYtmwZTwuTVmIBJCIirVC5cmWsXr0aMTExaNKkCVJTUzFu3Di4uLjg999/lzoeUZliASQiIq3i6uqK6OhorFmzBmZmZrh69SqaNWuGAQMG4NGjR1LHIyoTLIBERKR1dHR08M033yAxMRHDhg2DIAj46aefYGVlhZCQEJ4WJo3HAkhERFrL3Nwca9euxblz5+Di4oKUlBSMGTMGTZo0wZkzZ6SOR1RqWACJiEjrubm5ISYmBqtWrUKlSpVw5coVeHl5YdCgQXj8+LHU8YiUThBFUZQ6hLoJDQ1FaGgo5HI5kpKSkJKSAhMTE6ljERGREjx9+hTTp0/H+vXrAQCmpqaYN28eHj9+DD09PcyePTvfawIDAyGXy+Hv71/Gaak4UlNTYWpqqtX7bxbAEuAfEBGR5oqOjsaoUaNw6dIlAED16tXx8OFDBAQE5CmBgYGB8PPzy7ecVBf33zwFTEREVCB3d3f88ccfWLlyJSpWrKi4cbSfnx+mTZsGgOWP1BePAJYA/wVBRKQdnjx5gmnTpmHjxo2KZbq6usjJyWH5U0Pcf/MIIBER0X+qUqUKNmzYgLNnz8LR0REAkJOTA0EQ0KJFC0mzERUHCyAREVEheXh4oEuXLoqfRVGEt7c3+vTpgwcPHkgXjKiIWACJiIgKKTAwEP7+/ggICMCTJ0/QpEkTAMD27dthZWWFRYsWISsrS+KURP+NBZCIiKgQ/j3hw9zcHOfPn8fw4cMBAOnp6Zg6dSrs7Oxw5MgRidMSfRwLIBERUSHI5fICJ3ysWrUKc+fORefOnVGtWjUkJSXh888/R9euXXHr1i2J0hJ9HGcBlwBnERER0ftSUlIwd+5cLF++HHK5HIaGhpgyZQqmTp0KIyMjqePR/8f9N48AEhERKY2pqSmCg4Nx9epVtG7dGpmZmQgICICNjQ12794NHnMhVcECSEREpGQ2NjaIjIxEREQELCws8M8//6Bbt25o164dEhISpI5HxAJIRERUGgRBQPfu3ZGQkIBZs2bBwMAAkZGRsLOzw6RJk5Camip1RNJiLIBERESlyMjICIGBgbh+/Tp8fX2Rk5ODH3/8EVZWVvj55595WpgkwQJIRERUBurXr49ffvkFhw4dQsOGDfHw4UP0798fXl5euHz5stTxSMuwABIREZWh9u3bIy4uDkFBQShfvjzOnj0LFxcXjBgxAs+ePZM6HmkJFkAiIqIyZmBggGnTpiEhIQFff/01RFHE6tWrYWlpidWrV0Mul0sdkTQcCyAREZFEateujbCwMJw8eRJ2dnZ4/vw5RowYAVdXV5w9e1bqeKTBtL4A6urqwtHREY6Ojhg6dKjUcYiISAs1b94cly5dwvLly1GxYkVcvnwZTZs2Rf/+/ZGcnCx1PNJAWv9NIObm5nj69GmxXss7iRMRkbI9efIEM2bMwIYNGyCKIoyNjTFnzhyMGTMGenp6UsfTCNx/8wggERGRSqlSpQrWrVuHmJgYfPbZZ0hLS8OkSZNgb2+PyMhIqeORhlDpAhgVFQVfX1/UrFkTgiBg7969+dZZuXIl6tWrB0NDQ7i4uOD06dNFGiM1NRUuLi7w8vLCqVOnlJSciIioZFxdXXHu3Dls2LABVapUQUJCAtq2bYtu3brhn3/+kToeqTmVLoAZGRlwcHDAihUrCnw+PDwc48aNw8yZM3H58mU0a9YM7du3x507dxTruLi4wNbWNt/jwYMHAIDbt2/j4sWLWL16Nfr37887sxMRkcqQyWQYPHgwkpKSMGbMGOjo6GD37t2wtrZGQEAAXr9+LXVEUlNqcw2gIAjYs2cPunTpoljm5uYGZ2dnrFq1SrGsUaNG6NKlC4KCgoo8Rvv27REYGIgmTZoU+PybN2/w5s0bxc+pqamwsLDQ6msIiIio7MTFxWHMmDE4efIkAKBu3bpYunQpvvjiCwiCIG04NcJrAFX8CODHZGVl4eLFi2jbtm2e5W3bti301PkXL14oCt29e/cQHx+PTz/99IPrBwUFwdTUVPGwsLAo/hsgIiIqIjs7Oxw/fhw7duxA7dq1cfv2bXTp0gXt27dHYmKi1PFIjahtAXz69CnkcjmqVauWZ3m1atXw8OHDQm3jxo0baNKkCRwcHNCpUycsW7YMZmZmH1x/+vTpSElJUTzu3r1bovdARERUVIIg4KuvvkJCQgJmzJgBfX19HDlyBHZ2dpg6dSrS0tKkjkhqQG0L4Dv/PuQtimKhD4N7enoiLi4OV65cQWxsbJ7TywUxMDCAiYlJngcREZEUypcvj/nz5+P69evo2LEjsrOzsWjRIlhZWWH79u1Qkyu8SCJqWwDNzc2ho6OT72jf48eP8x0VJCIi0lQNGjTAgQMHsH//ftSvXx/Jycno06cPmjdvjitXrkgdj1SU2hZAfX19uLi45LsnUmRkJDw9PUt17NDQUNjY2MDV1bVUxyEiIiqsTp064dq1a5g/fz7KlSuH06dPw9nZGaNHj8bz58+ljkcqRqULYHp6OmJjYxEbGwsAuHXrFmJjYxW3eZkwYQLWr1+PjRs34saNGxg/fjzu3LmD4cOHl2quUaNGIT4+HufPny/VcYiIiIrC0NAQM2bMQEJCAnr06IHc3FyEhobC0tIS69atg1wulzoiqQiVvg3MyZMn0bJly3zLBwwYgM2bNwN4eyPoRYsWITk5Gba2tliyZAm8vb3LJB+nkRMRkSo7fvw4xowZg+vXrwN4e2/cFStWwN3dXeJk0uL+W8ULoKrjHxAREam67OxshIaGYs6cOYovOxg4cCAWLlyotdfMc/+t4qeAVRWvASQiInWhp6eHcePGISkpCYMGDQIAbN68GZaWlliyZAmys7MlTkhS4BHAEuC/IIiISN1ER0fju+++w4ULFwAANjY2CAkJQatWrSROVna4/+YRQCIiIq3i7u6OmJgYrFu3Dubm5oiPj0fr1q3Ro0cPxSRL0nwsgERERFpGJpNh6NChSEpKwujRoyGTybBr1y5YW1tj3rx5yMzMlDoilTIWQCIiIi1VqVIlhISE4NKlS2jWrBlev36N2bNno3Hjxjhw4IDU8agUsQAWAyeBEBGRJnFwcMCpU6ewfft21KxZE3///Td8fX3RsWNH3Lx5U+p4VAo4CaQEeBEpERFpmrS0NMyfPx/BwcHIzs6Gvr4+Jk6ciBkzZqBChQpSx1MK7r95BJCIiIjeY2xsjIULFyIuLg6ff/45srKyEBQUBGtra+zYsQM8bqQZWACJiIgoHysrKxw6dAj79u1DvXr1cP/+ffTq1QstW7ZEXFyc1PGohFgAiYiIqECCIOCLL77A9evXERAQAENDQ5w6dQpOTk4YM2YMXr58KXVEKiYWQCIiIvqocuXKYfbs2UhISEC3bt0gl8sREhICS0tLbNiwAbm5uVJHpCJiASwGzgImIiJtVKdOHezatQuRkZFo1KgRnjx5gqFDh8Ld3R1//PGH1PGoCDgLuAQ4i4iIiLRVdnY2QkJC4O/vj7S0NADA4MGDERQUhKpVq0qc7uO4/+YRQCIiIioGPT09TJgwAUlJSejfvz8AYOPGjbC0tMTy5cuRk5MjcUL6GBZAIiIiKrbq1atjy5YtOHPmDJycnJCSkoKxY8fC2dkZp06dkjoefQALIBEREZWYp6cnzp8/j9WrV8PMzAxxcXFo0aIFvv76a9y7d0/qePQvLIBERESkFDo6Ovj222+RlJSEESNGQCaTITw8HFZWVggKCsKbN2+kjkj/HwtgMXAWMBER0YdVrlwZK1euxIULF9C0aVO8evUKM2bMgK2tLQ4dOiR1PAJnAZcIZxERERF9nCiK2LZtGyZPnoyHDx8CADp16oSlS5eifv36kmTi/ptHAImIiKgUCYKAvn37IjExEZMmTYKuri4OHDgAGxsbzJo1CxkZGVJH1EosgERERFTqTExM8MMPPyAuLg4+Pj7IysrC/Pnz0ahRI0RERIAnJMsWTwGXAA8hExERFZ0oiti7dy/Gjx+Pf/75BwDQsmVLWFtbo0aNGpg9e3a+1wQGBkIul8Pf37/E43P/zSOAREREVMYEQUDXrl0RHx+POXPmwNDQECdOnMDq1avh5+eHmTNn5lk/MDAQfn5+0NHRkSix5mEBJCIiIkkYGRnB398f8fHx6NKli+I08IIFC/Dll18iNzdXUf4CAgIKPDJIxcNTwCXAQ8hERETKc+TIEYwZMwZJSUkA3h4pFEVR6eWP+28eASwW3geQiIhI+dq1a4e4uDgsWrQIwNtrBWUyGY/8lQIWwGIYNWoU4uPjcf78eamjEBERaRR9fX1kZmYCAGQymeI0MCkXCyARERGpjPev+ZPL5QgICICfnx9LoJLpSh2AiIiICECBEz7e/V8/P788P1PJsAASERGRSnh3xO/fJe/dz3K5XIpYGomzgEuAs4iIiIjUD/ffvAaQiIiISOuwABIRERFpGRZAIiIiIi3DAkhERESkZVgAi4HfBEJERETqjLOAS4CziIiIiNQP9988AkhERESkdVgAiYiIiLQMCyARERGRlmEBJCIiItIy/C7gEng3fyY1NVXiJERERFRY7/bb2jwPlgWwBNLS0gAAFhYWEichIiKiokpLS4OpqanUMSTB28CUQG5uLh48eIBWrVrhwoULhXqNq6srzp8//5/rpaamwsLCAnfv3tXaKervK+zvTSplna+0xlPWdkuyneK8tqivKcz6/Azmx89h2YynjO2WdBul/TmU+jMoiiLS0tJQs2ZNyGTaeTUcjwCWgEwmQ+3ataGrq1voP04dHZ0i/SGbmJhw54Oi/97KWlnnK63xlLXdkmynOK8t6muKsj4/g/+Hn8OyGU8Z2y3pNkr7c6gKn0FtPfL3jnbWXiUbNWpUqaxL/0fVf29lna+0xlPWdkuyneK8tqivUfW/J1Wl6r83fg6Vt43S/hyq+t+SNuApYBXFu5QTSYufQSJp8TNYungEUEUZGBhgzpw5MDAwkDoKkVbiZ5BIWvwMli4eASQiIiLSMjwCSERERKRlWACJiIiItAwLIBEREZGWYQEkIiIi0jIsgERERERahgVQDXXt2hWVKlVC9+7dpY5CpHXu3r2LFi1awMbGBvb29oiIiJA6EpHWSUtLg6urKxwdHWFnZ4d169ZJHUnt8DYwaujEiRNIT0/Hli1bsGvXLqnjEGmV5ORkPHr0CI6Ojnj8+DGcnZ2RmJiI8uXLSx2NSGvI5XK8efMGRkZGePXqFWxtbXH+/HlUrlxZ6mhqg0cA1VDLli1hbGwsdQwirVSjRg04OjoCAKpWrQozMzM8f/5c2lBEWkZHRwdGRkYAgMzMTMjlcvB4VtGwAJaxqKgo+Pr6ombNmhAEAXv37s23zsqVK1GvXj0YGhrCxcUFp0+fLvugRBpKmZ/BCxcuIDc3FxYWFqWcmkizKONz+PLlSzg4OKB27dqYMmUKzM3Nyyi9ZmABLGMZGRlwcHDAihUrCnw+PDwc48aNw8yZM3H58mU0a9YM7du3x507d8o4KZFmUtZn8NmzZ+jfvz/Wrl1bFrGJNIoyPocVK1bElStXcOvWLWzfvh2PHj0qq/iaQSTJABD37NmTZ9lnn30mDh8+PM8ya2trcdq0aXmWnThxQuzWrVtpRyTSaMX9DGZmZorNmjUTf/rpp7KISaTRSrIvfGf48OHizp07SyuiRuIRQBWSlZWFixcvom3btnmWt23bFmfPnpUoFZH2KMxnUBRFDBw4EK1atUK/fv2kiEmk0QrzOXz06BFSU1MBAKmpqYiKioKVlVWZZ1VnulIHoP/z9OlTyOVyVKtWLc/yatWq4eHDh4qf27Vrh0uXLiEjIwO1a9fGnj174OrqWtZxiTROYT6DZ86cQXh4OOzt7RXXLf3888+ws7Mr67hEGqkwn8N79+5hyJAhEEURoihi9OjRsLe3lyKu2mIBVEGCIOT5WRTFPMuOHDlS1pGItMrHPoNeXl7Izc2VIhaRVvnY59DFxQWxsbESpNIcPAWsQszNzaGjo5PnaB8APH78ON+/hIhI+fgZJJIeP4dlgwVQhejr68PFxQWRkZF5lkdGRsLT01OiVETag59BIunxc1g2eAq4jKWnp+PPP/9U/Hzr1i3ExsbCzMwMn3zyCSZMmIB+/fqhSZMm8PDwwNq1a3Hnzh0MHz5cwtREmoOfQSLp8XOoAqScgqyNTpw4IQLI9xgwYIBindDQULFOnTqivr6+6OzsLJ46dUq6wEQahp9BIunxcyg9fhcwERERkZbhNYBEREREWoYFkIiIiEjLsAASERERaRkWQCIiIiItwwJIREREpGVYAImIiIi0DAsgERERkZZhASQiIiLSMiyARERERFqGBZCIiIhIy7AAEhFJoEWLFhg3blypj/Ps2TNUrVoVt2/fLvWxPqZ79+4IDg6WNAMR/R8WQCINMXDgQHTp0kXqGCqvrIrXf9m9ezcCAwNLfZygoCD4+vqibt26AICoqCj4+vqiZs2aEAQBe/fu/eBrBw4ciGnTpuVZdvbsWQiCgM8//7xIOfz8/DB//nykpqYW9S0QUSlgASQipcnKypI6gtowMzODsbFxqY7x+vVrbNiwAUOHDlUsy8jIgIODA1asWPHR1+bm5uLgwYPo3LlznuUbN25Er169cOLECdy5c6fQWezt7VG3bl1s27ataG+CiEoFCyCRhmrRogXGjBmDKVOmwMzMDNWrV4e/vz8AYM2aNahVqxZyc3PzvOaLL77AgAEDFD+LoohFixbh008/Rbly5eDg4IBdu3blGWP06NGYMGECzM3N4ePjAwDYtWsX7OzsUK5cOVSuXBlt2rRBRkZGobb5b7dv34YgCPkeLVq0+OBrPjT+wIEDcerUKSxbtkyxndu3bxcq07v3Onr0aFSsWBGVK1fGrFmzIIpikXO82967I5GFeY9F/b0BwK+//gpdXV14eHgolrVv3x7z5s3Dl19++dHXnjlzBjKZDG5uboplGRkZCA8Px7hx49CqVSts3rw5z2sWLFhQ4Pt4d+r3iy++QFhY2EfHJaIyIhKRRhgwYIDYuXNnxc/NmzcXTUxMRH9/fzEpKUncsmWLKAiC+Ntvv4nPnj0T9fX1xaNHjyrWf/78uaivry8eOXJEsWzGjBmitbW1ePjwYfGvv/4SN23aJBoYGIgnT55UjFGhQgVx8uTJYkJCgnjjxg3xwYMHoq6urhgcHCzeunVLvHr1qhgaGiqmpaUVapv/lpOTIyYnJysely9fFitXrizOnj27wPU/Nv7Lly9FDw8PcdiwYYrt5eTkFCrTu/c6duxYMSEhQdy6datoZGQkrl27tsg53m1v7NixhX6PRf29iaIojh07Vvz8888/+DwAcc+ePQU+N2nSJHHIkCF5lm3YsEFs0KCBKIqi+PPPP4t169YVc3NzFc+npqbmeR8jRowQ69SpI969e1cURVE8dOiQaGBgIGZmZn4wExGVDRZAIg1RUAH08vLKs46rq6s4depUURRF8YsvvhAHDx6seG7NmjVi9erVxZycHFEURTE9PV00NDQUz549m2cbQ4YMEXv16qUYw9HRMc/zFy9eFAGIt2/fzpexMNv8mNevX4tubm5ip06dRLlcXuA6Hxv/XeZ3xasomZo3by42atQoT+GZOnWq2KhRI6Xk+Nh7LO7vrXPnznn+f/xvHyuAlpaW4i+//JJnmaenpzhnzhxRFEUxLS1NNDIyEiMjIwt8vb+/v1inTp087//KlSsf/Z0QUdnRlfLoIxGVLnt7+zw/16hRA48fPwYA9OnTB9988w1WrlwJAwMDbNu2DV9//TV0dHQAAPHx8cjMzFSc1n0nKysLTk5Oip+bNGmS53kHBwe0bt0adnZ2aNeuHdq2bYvu3bujUqVKhd7mhwwZMgRpaWmIjIyETFbwFSwfG78gRcnk7u4OQRAUP3t4eODHH3+EXC5X/N6Km+Nj77G4v7fXr1/D0NDwo+MV5MaNG7h37x7atGmjWJaYmIizZ89i06ZNAIAKFSqgc+fO2LhxY571AGDu3LnYtGkTTp06hTp16iiWlytXDgDw6tWrImciIuViASTSYHp6enl+FgRBcd2fr6+v4kJ/V1dXnD59Os9tOt6td/DgQdSqVSvPdgwMDBT/u3z58nme09HRQWRkJM6ePYvffvsNISEhmDlzJmJiYgq9zYLMmzcPhw8fxh9//PHRyRMfG79evXr51i9Jpo8pao6PvcfiZjQ3N8eLFy+KnP2XX36Bj4+PorABwIYNG+Dq6gpLS0vFsj59+qBbt2548eKFoth+qPwBwPPnzwEAVapUKXImIlIuTgIh0lLlypXDl19+iW3btiEsLAyWlpZwcXFRPG9jYwMDAwPcuXMHDRo0yPOwsLD46LYFQUDTpk0xd+5cXL58Gfr6+tizZ0+xt/m///0PAQEB2LlzJ+rXr/+f7+1D4wOAvr4+5HJ5sd5ndHR0vp8bNmyY7+hfYXIU5T0W9/fm5OSE+Pj4D/+iPmDfvn344osvFD/n5OTgp59+Qu/evfOs165dOxgbGytm9n6s/AHAtWvXULt2bZibmxc5ExEpF48AEmmxPn36wNfXF9evX0ffvn3zPGdsbIxJkyZh/PjxyM3NhZeXF1JTU3H27FlUqFAhz2zh98XExODYsWNo27YtqlatipiYGDx58gSNGjUq1javXbuG/v37Y+rUqWjcuDEePnwI4G2RMzMzK9L4AFC3bl3ExMTg9u3bqFChAszMzAqd6e7du5gwYQK+/fZbXLp0CSEhIfjxxx+L/Hso6nss7v8v2rVrh+nTp+c5Qpeeno4///xTsc6tW7cQGxsLMzMzfPLJJ3j8+DHOnz+f5/6ABw4cwKNHj2Bra4tr167lGaNZs2bYsGEDXr58iRUrVuDAgQMwMDBQvIdKlSopjlKePn0abdu2LTArEZUxqS9CJCLlKGgSyL8nGXTu3FkcMGCA4uecnByxRo0aIgDxr7/+yrfN3NxccdmyZaKVlZWop6cnVqlSRWzXrp146tSpD44RHx8vtmvXTqxSpYpoYGAgWlpaiiEhIYXe5r9t2rRJBJDv0bx58wLX/6/xExMTRXd3d7FcuXIiAPHWrVuFytS8eXNx5MiR4vDhw0UTExOxUqVK4rRp0/JMCilKjvd/d4V5j0X9vb3j7u4url69WvHziRMnChzr3d/F+vXrxaZNm+bZRqdOnQp8zfuPChUqFLg8OjpaFMW3k1tMTEzEc+fOfTQvEZUNQRQ/chMrIiIC8Pa+fY6Ojli6dKnUUYrk0KFDmDRpEq5du/bBiTPv++KLL+Dl5YUpU6YoNUdoaCj27duH3377TanbJaLi4SlgIiIN1qFDB9y8eRP379//z2s3AcDLywu9evVSeg49PT2EhIQofbtEVDw8AkhEVAjqegSQiKggLIBEREREWoa3gSEiIiLSMiyARERERFrm/wEDDZj90vwKOwAAAABJRU5ErkJggg==' width=640.0/>\n",
       "            </div>\n",
       "        "
      ],
      "text/plain": [
       "Canvas(toolbar=Toolbar(toolitems=[('Home', 'Reset original view', 'home', 'home'), ('Back', 'Back to previous …"
      ]
     },
     "metadata": {},
     "output_type": "display_data"
    }
   ],
   "source": [
    "inv_z = np.linspace(0, max(inv_dz_vals), 1000)\n",
    "plt.figure()\n",
    "plt.title('Max error for $\\\\lambda = 10$')\n",
    "plt.ylabel('Max error')\n",
    "plt.xlabel('Inverse z step size $(1 / \\Delta z)$')\n",
    "plt.xlim\n",
    "plt.loglog(inv_dz_vals, real_max_errors, marker='x', color='black', label='Max error/step size data points')\n",
    "plt.show()"
   ]
  },
  {
   "cell_type": "markdown",
   "id": "58fe1270-0d96-4ad0-9bd1-1353ebea4b97",
   "metadata": {
    "jp-MarkdownHeadingCollapsed": true,
    "tags": []
   },
   "source": [
    "### 3. $\\lambda = \\frac{\\Delta t}{\\Delta z} = 5$"
   ]
  },
  {
   "cell_type": "code",
   "execution_count": 35,
   "id": "9c9efc0a-7aef-4aeb-9776-9da6ea5551ce",
   "metadata": {},
   "outputs": [],
   "source": [
    "# Empty list to store max error values\n",
    "L3_max_errors = []\n",
    "L3_real_max_errors = []\n",
    "# Empty list to store dt and dz's\n",
    "L3_dt_vals = []\n",
    "L3_dz_vals = []\n"
   ]
  },
  {
   "cell_type": "markdown",
   "id": "9777f299-6c2f-438e-aa16-3bff95957ed6",
   "metadata": {
    "jp-MarkdownHeadingCollapsed": true,
    "tags": []
   },
   "source": [
    "#### 3.1 Parameters $\\Delta z = 0.1, \\Delta t = 0.5$"
   ]
  },
  {
   "cell_type": "code",
   "execution_count": 36,
   "id": "9e5d7a85-f463-4e26-a97c-55a82e03bd9e",
   "metadata": {},
   "outputs": [],
   "source": [
    "dZ=0.1\n",
    "dt=0.5"
   ]
  },
  {
   "cell_type": "code",
   "execution_count": 37,
   "id": "446723e9-126e-40fb-8d48-05ad3595e745",
   "metadata": {},
   "outputs": [
    {
     "name": "stdout",
     "output_type": "stream",
     "text": [
      "Stepsizes: dz = 0.10013855831631045 and dt = 0.5\n",
      "lambda = 4.993081670105895\n",
      "\n",
      " Tridiagonal system coefficients:\n",
      "lower diag values = -0.2695498601955525\n",
      "diag values = 1.5659444526978183\n",
      "upper diag values = -0.29139459250226574\n",
      "\n",
      " ENTIRE S DOMAIN ERRORS\n",
      "1. Maximal error: 706.0932059170327 \n",
      "\n",
      "located at 290, z value of 6.014330981789573, S value of 409.2519503012083 \n",
      "\n",
      "2. Absolute sum of errors: 2216.3173214104986\n",
      "\n",
      " REALISTIC S DOMAIN ERRORS\n",
      "1. Maximal error: 0.02306043594639129 \n",
      "\n",
      "located at 253, z value of 2.309204324086089, S value of 10.066411866183358 \n",
      "\n",
      "2. Absolute sum of errors: 0.12388849559847828\n"
     ]
    }
   ],
   "source": [
    "L3P1 = PV_Rannacher(dt=dt, dZ=dZ, R=2)"
   ]
  },
  {
   "cell_type": "code",
   "execution_count": 38,
   "id": "120b3319-e8a3-4be5-b858-e563aff33e5c",
   "metadata": {},
   "outputs": [],
   "source": [
    "L3_max_errors.append(L3P1[0])\n",
    "L3_real_max_errors.append(L3P1[1])\n",
    "L3_dt_vals.append(dt)\n",
    "L3_dz_vals.append(dZ)"
   ]
  },
  {
   "cell_type": "markdown",
   "id": "039834fd-ea90-417b-a02a-ff15a99dae85",
   "metadata": {
    "jp-MarkdownHeadingCollapsed": true,
    "tags": []
   },
   "source": [
    "#### 3.2 Parameters $\\Delta z = 0.05, \\Delta t = 0.25$"
   ]
  },
  {
   "cell_type": "code",
   "execution_count": 39,
   "id": "f7ddd8e2-773d-4d3b-afdc-f197c4b5681a",
   "metadata": {},
   "outputs": [],
   "source": [
    "dZ=0.05\n",
    "dt=0.25"
   ]
  },
  {
   "cell_type": "code",
   "execution_count": 40,
   "id": "165cac1f-3b3f-436f-8a68-7355397e911e",
   "metadata": {},
   "outputs": [
    {
     "name": "stdout",
     "output_type": "stream",
     "text": [
      "Stepsizes: dz = 0.049983690646773764 and dt = 0.25\n",
      "lambda = 5.001631467486214\n",
      "\n",
      " Tridiagonal system coefficients:\n",
      "lower diag values = -0.5519260712372105\n",
      "diag values = 2.128234280144673\n",
      "upper diag values = -0.5738082089074628\n",
      "\n",
      " ENTIRE S DOMAIN ERRORS\n",
      "1. Maximal error: 316.7347143181697 \n",
      "\n",
      "located at 581, z value of 6.0146733358350986, S value of 409.39208334822206 \n",
      "\n",
      "2. Absolute sum of errors: 2156.695430716851\n",
      "\n",
      " REALISTIC S DOMAIN ERRORS\n",
      "1. Maximal error: 0.0024509242207393367 \n",
      "\n",
      "located at 507, z value of 2.3158802279738424, S value of 10.133839082682153 \n",
      "\n",
      "2. Absolute sum of errors: 0.04770446864283547\n"
     ]
    }
   ],
   "source": [
    "L3P2 = PV_Rannacher(dt=dt, dZ=dZ, R=2)"
   ]
  },
  {
   "cell_type": "code",
   "execution_count": 41,
   "id": "c65042d1-51fa-4750-a647-996b2b396537",
   "metadata": {},
   "outputs": [],
   "source": [
    "L3_max_errors.append(L3P2[0])\n",
    "L3_real_max_errors.append(L3P2[1])\n",
    "L3_dt_vals.append(dt)\n",
    "L3_dz_vals.append(dZ)"
   ]
  },
  {
   "cell_type": "markdown",
   "id": "0271792a-f540-402c-b601-cbf5e3830c06",
   "metadata": {
    "jp-MarkdownHeadingCollapsed": true,
    "tags": []
   },
   "source": [
    "#### 3.3 Parameters $\\Delta z = 0.025, \\Delta t = 0.125$"
   ]
  },
  {
   "cell_type": "code",
   "execution_count": 42,
   "id": "be1d8e3b-5217-4937-b021-f4acd8bc41a2",
   "metadata": {},
   "outputs": [],
   "source": [
    "dZ = 0.025\n",
    "dt = 0.125"
   ]
  },
  {
   "cell_type": "code",
   "execution_count": 43,
   "id": "f4849da2-e826-4f00-be42-8725ac3e301a",
   "metadata": {},
   "outputs": [
    {
     "name": "stdout",
     "output_type": "stream",
     "text": [
      "Stepsizes: dz = 0.024991845323386882 and dt = 0.125\n",
      "lambda = 5.001631467486214\n",
      "\n",
      " Tridiagonal system coefficients:\n",
      "lower diag values = -1.1147932113095471\n",
      "diag values = 3.2527185602893467\n",
      "upper diag values = -1.1366753489797994\n",
      "\n",
      " ENTIRE S DOMAIN ERRORS\n",
      "1. Maximal error: 151.6715894161257 \n",
      "\n",
      "located at 1162, z value of 6.0146733358350986, S value of 409.39208334822206 \n",
      "\n",
      "2. Absolute sum of errors: 2145.3700560652337\n",
      "\n",
      " REALISTIC S DOMAIN ERRORS\n",
      "1. Maximal error: 0.0006769841102565594 \n",
      "\n",
      "located at 1000, z value of 1.965994393446426, S value of 7.142011029214633 \n",
      "\n",
      "2. Absolute sum of errors: 0.02303879652813878\n"
     ]
    }
   ],
   "source": [
    "L3P3 = PV_Rannacher(dt=dt, dZ=dZ, R=2)"
   ]
  },
  {
   "cell_type": "code",
   "execution_count": 44,
   "id": "6dbe3b53-bd19-4e17-b419-a0ccf53b3ad2",
   "metadata": {},
   "outputs": [],
   "source": [
    "L3_max_errors.append(L3P3[0])\n",
    "L3_real_max_errors.append(L3P3[1])\n",
    "L3_dt_vals.append(dt)\n",
    "L3_dz_vals.append(dZ)"
   ]
  },
  {
   "cell_type": "markdown",
   "id": "0b214430-5447-4723-b72f-aec446b91983",
   "metadata": {
    "jp-MarkdownHeadingCollapsed": true,
    "tags": []
   },
   "source": [
    "#### 3.4 Parameters $\\Delta z = 0.01, \\Delta t = 0.05$"
   ]
  },
  {
   "cell_type": "code",
   "execution_count": 45,
   "id": "79e39016-3c3d-4ef1-873a-22d5200ace2d",
   "metadata": {},
   "outputs": [],
   "source": [
    "dZ=0.01\n",
    "dt=0.05"
   ]
  },
  {
   "cell_type": "code",
   "execution_count": 46,
   "id": "38c73f4c-6198-4f0a-9498-f81b87602e8f",
   "metadata": {},
   "outputs": [
    {
     "name": "stdout",
     "output_type": "stream",
     "text": [
      "Stepsizes: dz = 0.010000156986444134 and dt = 0.05\n",
      "lambda = 4.999921508010151\n",
      "\n",
      " Tridiagonal system coefficients:\n",
      "lower diag values = -2.801474368905759\n",
      "diag values = 6.625323394409063\n",
      "upper diag values = -2.8233490255033034\n",
      "\n",
      " ENTIRE S DOMAIN ERRORS\n",
      "1. Maximal error: 61.055800727178564 \n",
      "\n",
      "located at 2903, z value of 6.004604801706865, S value of 405.2907868545423 \n",
      "\n",
      "2. Absolute sum of errors: 2219.5168679137632\n",
      "\n",
      " REALISTIC S DOMAIN ERRORS\n",
      "1. Maximal error: 0.00012937901663412354 \n",
      "\n",
      "located at 2535, z value of 2.324547030695424, S value of 10.222048762627221 \n",
      "\n",
      "2. Absolute sum of errors: 0.010277477365696229\n"
     ]
    }
   ],
   "source": [
    "L3P4 = PV_Rannacher(dt=dt, dZ=dZ, R=2)"
   ]
  },
  {
   "cell_type": "code",
   "execution_count": 47,
   "id": "8962403e-489e-4257-ad74-00ec40bcb0c7",
   "metadata": {},
   "outputs": [],
   "source": [
    "L3_max_errors.append(L3P4[0])\n",
    "L3_real_max_errors.append(L3P4[1])\n",
    "L3_dt_vals.append(dt)\n",
    "L3_dz_vals.append(dZ)"
   ]
  },
  {
   "cell_type": "markdown",
   "id": "0ed57a60-816a-4afd-a034-57302c5c1692",
   "metadata": {
    "jp-MarkdownHeadingCollapsed": true,
    "tags": []
   },
   "source": [
    "#### 3.5 Parameters: $\\Delta z = 0.005, \\Delta t = 0.025$"
   ]
  },
  {
   "cell_type": "code",
   "execution_count": 48,
   "id": "7e4d8a7d-6a3b-4f82-ba05-a14fd16b4f07",
   "metadata": {},
   "outputs": [],
   "source": [
    "dZ=0.005\n",
    "dt=0.025"
   ]
  },
  {
   "cell_type": "code",
   "execution_count": 49,
   "id": "7c94cbd2-708a-4f41-a0c5-4ed0fc03ac73",
   "metadata": {},
   "outputs": [
    {
     "name": "stdout",
     "output_type": "stream",
     "text": [
      "Stepsizes: dz = 0.005000078493222067 and dt = 0.025\n",
      "lambda = 4.999921508010151\n",
      "\n",
      " Tridiagonal system coefficients:\n",
      "lower diag values = -5.61388606611029\n",
      "diag values = 12.249896788818125\n",
      "upper diag values = -5.635760722707835\n",
      "\n",
      " ENTIRE S DOMAIN ERRORS\n",
      "1. Maximal error: 31.95745140112649 \n",
      "\n",
      "located at 5808, z value of 6.014604958693308, S value of 409.364091244712 \n",
      "\n",
      "2. Absolute sum of errors: 2381.4022907182557\n",
      "\n",
      " REALISTIC S DOMAIN ERRORS\n",
      "1. Maximal error: 2.6432364340647774e-05 \n",
      "\n",
      "located at 4999, z value of 1.9695414576766552, S value of 7.167389183431509 \n",
      "\n",
      "2. Absolute sum of errors: 0.0046664567774710565\n"
     ]
    }
   ],
   "source": [
    "L3P5 = PV_Rannacher(dt=dt, dZ=dZ, R=2)"
   ]
  },
  {
   "cell_type": "code",
   "execution_count": 50,
   "id": "be1fd9a5-29c2-4790-8a83-56a61e0c87fc",
   "metadata": {},
   "outputs": [],
   "source": [
    "L3_max_errors.append(L3P5[0])\n",
    "L3_real_max_errors.append(L3P5[1])\n",
    "L3_dt_vals.append(dt)\n",
    "L3_dz_vals.append(dZ)"
   ]
  },
  {
   "cell_type": "markdown",
   "id": "1a23e54e-0d62-49e9-ba42-95a5f0f2d798",
   "metadata": {
    "jp-MarkdownHeadingCollapsed": true,
    "tags": []
   },
   "source": [
    "#### 3.6 Parameters: $\\Delta z = 0.0025, \\Delta t = 0.0125$"
   ]
  },
  {
   "cell_type": "code",
   "execution_count": 51,
   "id": "551e8faf-b403-4637-93cc-69c75e47e3e6",
   "metadata": {},
   "outputs": [],
   "source": [
    "dZ=0.0025\n",
    "dt=0.0125"
   ]
  },
  {
   "cell_type": "code",
   "execution_count": 52,
   "id": "956b4b9b-ac8a-4b27-98d2-e5b717244aa9",
   "metadata": {},
   "outputs": [
    {
     "name": "stdout",
     "output_type": "stream",
     "text": [
      "Stepsizes: dz = 0.0025000392466110336 and dt = 0.0125\n",
      "lambda = 4.999921508010151\n",
      "\n",
      " Tridiagonal system coefficients:\n",
      "lower diag values = -11.238709460519352\n",
      "diag values = 23.49941857763625\n",
      "upper diag values = -11.260584117116897\n",
      "\n",
      " ENTIRE S DOMAIN ERRORS\n",
      "1. Maximal error: 17.79515381951086 \n",
      "\n",
      "located at 11623, z value of 6.0321052334195855, S value of 416.5911284277868 \n",
      "\n",
      "2. Absolute sum of errors: 2719.154005405466\n",
      "\n",
      " REALISTIC S DOMAIN ERRORS\n",
      "1. Maximal error: 7.424344233619706e-06 \n",
      "\n",
      "located at 10140, z value of 2.324547030695424, S value of 10.222048762627221 \n",
      "\n",
      "2. Absolute sum of errors: 0.002514443423617626\n"
     ]
    }
   ],
   "source": [
    "L3P6 = PV_Rannacher(dt=dt, dZ=dZ, R=2)"
   ]
  },
  {
   "cell_type": "code",
   "execution_count": 53,
   "id": "141db45f-c773-4233-9b24-9fddf2c2f51c",
   "metadata": {},
   "outputs": [],
   "source": [
    "L3_max_errors.append(L3P6[0])\n",
    "L3_real_max_errors.append(L3P6[1])\n",
    "L3_dt_vals.append(dt)\n",
    "L3_dz_vals.append(dZ)"
   ]
  },
  {
   "cell_type": "markdown",
   "id": "42e9398e-7eaa-4745-9610-3a90bd081631",
   "metadata": {
    "jp-MarkdownHeadingCollapsed": true,
    "tags": []
   },
   "source": [
    "#### 3.7 Parameters: $\\Delta z = 0.001, \\Delta t = 0.005$"
   ]
  },
  {
   "cell_type": "code",
   "execution_count": 54,
   "id": "79124b6b-3811-402e-9320-e019dc29e9e9",
   "metadata": {},
   "outputs": [],
   "source": [
    "dZ=0.001\n",
    "dt=0.005"
   ]
  },
  {
   "cell_type": "code",
   "execution_count": 55,
   "id": "fee034c3-de10-412d-96ab-6a4cacbd1e50",
   "metadata": {},
   "outputs": [
    {
     "name": "stdout",
     "output_type": "stream",
     "text": [
      "Stepsizes: dz = 0.0010000156986444135 and dt = 0.005\n",
      "lambda = 4.99992150801015\n",
      "\n",
      " Tridiagonal system coefficients:\n",
      "lower diag values = -28.113179643746534\n",
      "diag values = 57.248283944090616\n",
      "upper diag values = -28.13505430034408\n",
      "\n",
      " ENTIRE S DOMAIN ERRORS\n",
      "1. Maximal error: 10.139680777293506 \n",
      "\n",
      "located at 29142, z value of 6.116606559955041, S value of 453.3237544527193 \n",
      "\n",
      "2. Absolute sum of errors: 3743.6062413546065\n",
      "\n",
      " REALISTIC S DOMAIN ERRORS\n",
      "1. Maximal error: 2.366212003890311e-06 \n",
      "\n",
      "located at 25340, z value of 2.3145468737089807, S value of 10.120336089259277 \n",
      "\n",
      "2. Absolute sum of errors: 0.0013453608859455908\n"
     ]
    }
   ],
   "source": [
    "L3P7 = PV_Rannacher(dt=dt, dZ=dZ, R=2)"
   ]
  },
  {
   "cell_type": "code",
   "execution_count": 56,
   "id": "b3292154-3437-447f-beba-fce2c639b08a",
   "metadata": {},
   "outputs": [],
   "source": [
    "L3_max_errors.append(L3P7[0])\n",
    "L3_real_max_errors.append(L3P7[1])\n",
    "L3_dt_vals.append(dt)\n",
    "L3_dz_vals.append(dZ)"
   ]
  },
  {
   "cell_type": "markdown",
   "id": "7415058a-a631-4544-bde1-ef1ad8bcde10",
   "metadata": {
    "jp-MarkdownHeadingCollapsed": true,
    "tags": []
   },
   "source": [
    "#### Additional steps "
   ]
  },
  {
   "cell_type": "code",
   "execution_count": 57,
   "id": "edfecbbc-995d-422f-a75d-79df908b51e1",
   "metadata": {},
   "outputs": [],
   "source": [
    "# Empty list to store max error values\n",
    "L3a_max_errors = []\n",
    "L3a_real_max_errors = []\n",
    "# Empty list to store dt and dz's\n",
    "L3a_dt_vals = []\n",
    "L3a_dz_vals = []"
   ]
  },
  {
   "cell_type": "code",
   "execution_count": 58,
   "id": "95e163fc-6f4b-4d68-8992-dd81d41b12f9",
   "metadata": {},
   "outputs": [],
   "source": [
    "# dZ = 0.075\n",
    "# dt = 0.075*5\n",
    "\n",
    "# L3a1 = PV_Rannacher(dt=dt, dZ=dZ, R=2)\n",
    "# L3a_max_errors.append(L3a1[0])\n",
    "# L3a_real_max_errors.append(L3a1[1])\n",
    "# L3a_dt_vals.append(dt)\n",
    "# L3a_dz_vals.append(dZ)\n",
    "\n",
    "# ###########\n",
    "\n",
    "# dZ = 0.0375\n",
    "# dt = 0.0375*5\n",
    "\n",
    "# L3a2 = PV_Rannacher(dt=dt, dZ=dZ, R=2)\n",
    "# L3a_max_errors.append(L3a2[0])\n",
    "# L3a_real_max_errors.append(L3a2[1])\n",
    "# L3a_dt_vals.append(dt)\n",
    "# L3a_dz_vals.append(dZ)\n",
    "\n",
    "# ###########\n",
    "\n",
    "# dZ = 0.0175\n",
    "# dt = 0.0175*5\n",
    "\n",
    "# L3a3 = PV_Rannacher(dt=dt, dZ=dZ, R=2)\n",
    "# L3a_max_errors.append(L3a3[0])\n",
    "# L3a_real_max_errors.append(L3a3[1])\n",
    "# L3a_dt_vals.append(dt)\n",
    "# L3a_dz_vals.append(dZ)\n",
    "\n",
    "# ###########\n",
    "\n",
    "# dZ = 0.0075\n",
    "# dt = 0.0075*5\n",
    "\n",
    "# L3a4 = PV_Rannacher(dt=dt, dZ=dZ, R=2)\n",
    "# L3a_max_errors.append(L3a4[0])\n",
    "# L3a_real_max_errors.append(L3a4[1])\n",
    "# L3a_dt_vals.append(dt)\n",
    "# L3a_dz_vals.append(dZ)\n",
    "\n",
    "# ###########\n",
    "\n",
    "# dZ = 0.00375\n",
    "# dt = 0.00375*5\n",
    "\n",
    "# L3a5 = PV_Rannacher(dt=dt, dZ=dZ, R=2)\n",
    "# L3a_max_errors.append(L3a5[0])\n",
    "# L3a_real_max_errors.append(L3a5[1])\n",
    "# L3a_dt_vals.append(dt)\n",
    "# L3a_dz_vals.append(dZ)\n",
    "\n",
    "# ###########\n",
    "\n",
    "# dZ = 0.00175\n",
    "# dt = 0.00175*5\n",
    "\n",
    "# L3a6 = PV_Rannacher(dt=dt, dZ=dZ, R=2)\n",
    "# L3a_max_errors.append(L3a6[0])\n",
    "# L3a_real_max_errors.append(L3a6[1])\n",
    "# L3a_dt_vals.append(dt)\n",
    "# L3a_dz_vals.append(dZ)\n",
    "\n",
    "# ###########\n",
    "\n",
    "# dZ = 0.00075\n",
    "# dt = 0.00075*5\n",
    "\n",
    "# L3a7 = PV_Rannacher(dt=dt, dZ=dZ, R=2)\n",
    "# L3a_max_errors.append(L3a7[0])\n",
    "# L3a_real_max_errors.append(L3a7[1])\n",
    "# L3a_dt_vals.append(dt)\n",
    "# L3a_dz_vals.append(dZ)\n",
    "\n",
    "# ###########\n",
    "\n",
    "# dZ = 0.0005\n",
    "# dt = 0.0005*5\n",
    "\n",
    "# L3a8 = PV_Rannacher(dt=dt, dZ=dZ, R=2)\n",
    "# L3a_max_errors.append(L3a8[0])\n",
    "# L3a_real_max_errors.append(L3a8[1])\n",
    "# L3a_dt_vals.append(dt)\n",
    "# L3a_dz_vals.append(dZ)\n",
    "\n",
    "# ###########\n",
    "\n",
    "# dZ = 0.00025\n",
    "# dt = 0.00025*5\n",
    "\n",
    "# L3a9 = PV_Rannacher(dt=dt, dZ=dZ, R=2)\n",
    "# L3a_max_errors.append(L3a9[0])\n",
    "# L3a_real_max_errors.append(L3a9[1])\n",
    "# L3a_dt_vals.append(dt)\n",
    "# L3a_dz_vals.append(dZ)"
   ]
  },
  {
   "cell_type": "markdown",
   "id": "cdbe749c-9f37-4d29-8cb7-da9830ece213",
   "metadata": {
    "tags": []
   },
   "source": [
    "#### PLOTS of Convergence for decreasing step size"
   ]
  },
  {
   "cell_type": "code",
   "execution_count": 59,
   "id": "e2b9fa2a-1ed8-4241-8606-b36340167bd2",
   "metadata": {},
   "outputs": [],
   "source": [
    "# delta t values\n",
    "dt_vals = np.array(L3_dt_vals + L3a_dt_vals)\n",
    "sorted_indices = np.argsort(dt_vals)\n",
    "dt_vals = np.array([dt_vals[i] for i in sorted_indices])\n",
    "inv_dt_vals = np.divide(np.ones(len(dt_vals)), dt_vals)\n",
    "\n",
    "# delta z values\n",
    "dz_vals = np.array(L3_dz_vals + L3a_dz_vals)\n",
    "dz_vals = np.array([dz_vals[i] for i in sorted_indices])\n",
    "inv_dz_vals = np.divide(np.ones(len(dz_vals)), dz_vals)\n",
    "\n",
    "\n",
    "# max errors in realistic range\n",
    "real_max_errors = np.array(L3_real_max_errors + L3a_real_max_errors)\n",
    "real_max_errors = np.array([real_max_errors[i] for i in sorted_indices])\n",
    "\n",
    "# max errors in entire range\n",
    "max_errors = np.array(L3_max_errors + L3a_max_errors)\n",
    "max_errors = np.array([max_errors[i] for i in sorted_indices])"
   ]
  },
  {
   "cell_type": "markdown",
   "id": "cba18999-8158-4912-925c-fcf7492be671",
   "metadata": {
    "tags": []
   },
   "source": [
    "##### Realistic S domain for 1/dz"
   ]
  },
  {
   "cell_type": "code",
   "execution_count": 60,
   "id": "c17f014f-2086-406a-8d1d-24b5c858dcf5",
   "metadata": {},
   "outputs": [
    {
     "data": {
      "application/vnd.jupyter.widget-view+json": {
       "model_id": "23e1e3cde8e84a829f666cc38d2d7aa3",
       "version_major": 2,
       "version_minor": 0
      },
      "image/png": "[encoded data removed]",
      "text/html": [
       "\n",
       "            <div style=\"display: inline-block;\">\n",
       "                <div class=\"jupyter-widgets widget-label\" style=\"text-align: center;\">\n",
       "                    Figure\n",
       "                </div>\n",
       "                <img src='data:image/png;base64,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' width=640.0/>\n",
       "            </div>\n",
       "        "
      ],
      "text/plain": [
       "Canvas(toolbar=Toolbar(toolitems=[('Home', 'Reset original view', 'home', 'home'), ('Back', 'Back to previous …"
      ]
     },
     "metadata": {},
     "output_type": "display_data"
    }
   ],
   "source": [
    "inv_z = np.linspace(0, max(inv_dz_vals), 1000)\n",
    "plt.figure()\n",
    "plt.title('Max error for $\\\\lambda = 5$')\n",
    "plt.ylabel('Max error')\n",
    "plt.xlabel('Inverse z step size $(1 / \\Delta z)$')\n",
    "plt.xlim\n",
    "plt.plot(inv_dz_vals, real_max_errors, marker='x', color='black', label='Max error/step size data points')\n",
    "plt.show()"
   ]
  },
  {
   "cell_type": "code",
   "execution_count": 61,
   "id": "e0be6d62-f845-48d6-bc88-6d168244890c",
   "metadata": {},
   "outputs": [
    {
     "data": {
      "application/vnd.jupyter.widget-view+json": {
       "model_id": "64cb764dc40f4a049681c248a9bf78b3",
       "version_major": 2,
       "version_minor": 0
      },
      "image/png": "[encoded data removed]",
      "text/html": [
       "\n",
       "            <div style=\"display: inline-block;\">\n",
       "                <div class=\"jupyter-widgets widget-label\" style=\"text-align: center;\">\n",
       "                    Figure\n",
       "                </div>\n",
       "                <img src='data:image/png;base64,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' width=640.0/>\n",
       "            </div>\n",
       "        "
      ],
      "text/plain": [
       "Canvas(toolbar=Toolbar(toolitems=[('Home', 'Reset original view', 'home', 'home'), ('Back', 'Back to previous …"
      ]
     },
     "metadata": {},
     "output_type": "display_data"
    }
   ],
   "source": [
    "inv_z = np.linspace(0, max(inv_dz_vals), 1000)\n",
    "plt.figure()\n",
    "plt.title('Max error for $\\\\lambda = 5$')\n",
    "plt.ylabel('Max error')\n",
    "plt.xlabel('Inverse z step size $(1 / \\Delta z)$')\n",
    "plt.xlim\n",
    "plt.loglog(inv_dz_vals, real_max_errors, marker='x', color='black', label='Max error/step size data points')\n",
    "plt.show()"
   ]
  },
  {
   "cell_type": "markdown",
   "id": "f3c3584f-b42c-4173-aca6-e1cab24dd46c",
   "metadata": {
    "jp-MarkdownHeadingCollapsed": true,
    "tags": []
   },
   "source": [
    "### 4. $\\lambda = \\frac{\\Delta t}{\\Delta z} = 4$"
   ]
  },
  {
   "cell_type": "code",
   "execution_count": 62,
   "id": "d9675869-a8dc-4d33-91a2-4a8d9aa6c771",
   "metadata": {},
   "outputs": [],
   "source": [
    "# Empty list to store max error values\n",
    "L4_max_errors = []\n",
    "L4_real_max_errors = []\n",
    "# Empty list to store dt and dz's\n",
    "L4_dt_vals = []\n",
    "L4_dz_vals = []\n"
   ]
  },
  {
   "cell_type": "markdown",
   "id": "ef911e0d-bfa4-47f6-8b5f-a1948725f1c4",
   "metadata": {
    "jp-MarkdownHeadingCollapsed": true,
    "tags": []
   },
   "source": [
    "#### 4.1 Parameters $\\Delta z = 0.1, \\Delta t = 0.4$"
   ]
  },
  {
   "cell_type": "code",
   "execution_count": 63,
   "id": "f2a23b4f-5086-4208-a86c-1dbf8c8cb434",
   "metadata": {},
   "outputs": [],
   "source": [
    "dZ=0.1\n",
    "dt=0.4"
   ]
  },
  {
   "cell_type": "code",
   "execution_count": 64,
   "id": "9d43ccc4-c05c-448a-8646-d6fdf93c2818",
   "metadata": {},
   "outputs": [
    {
     "name": "stdout",
     "output_type": "stream",
     "text": [
      "Stepsizes: dz = 0.10013855831631045 and dt = 0.4\n",
      "lambda = 3.9944653360847164\n",
      "\n",
      " Tridiagonal system coefficients:\n",
      "lower diag values = -0.215639888156442\n",
      "diag values = 1.4527555621582546\n",
      "upper diag values = -0.2331156740018126\n",
      "\n",
      " ENTIRE S DOMAIN ERRORS\n",
      "1. Maximal error: 533.6063235254364 \n",
      "\n",
      "located at 290, z value of 6.014330981789573, S value of 409.2519503012083 \n",
      "\n",
      "2. Absolute sum of errors: 1732.7694314134635\n",
      "\n",
      " REALISTIC S DOMAIN ERRORS\n",
      "1. Maximal error: 0.02091706166572216 \n",
      "\n",
      "located at 253, z value of 2.309204324086089, S value of 10.066411866183358 \n",
      "\n",
      "2. Absolute sum of errors: 0.1159080871438384\n"
     ]
    }
   ],
   "source": [
    "L4P1 = PV_Rannacher(dt=dt, dZ=dZ, R=2)"
   ]
  },
  {
   "cell_type": "code",
   "execution_count": 65,
   "id": "3ade4c5d-0560-4e7c-a2bc-9404f1465b67",
   "metadata": {},
   "outputs": [],
   "source": [
    "L4_max_errors.append(L4P1[0])\n",
    "L4_real_max_errors.append(L4P1[1])\n",
    "L4_dt_vals.append(dt)\n",
    "L4_dz_vals.append(dZ)"
   ]
  },
  {
   "cell_type": "markdown",
   "id": "fa0e82d0-4ea4-4daa-bba7-94e7be0b9a8a",
   "metadata": {
    "jp-MarkdownHeadingCollapsed": true,
    "tags": []
   },
   "source": [
    "#### 4.2 Parameters $\\Delta z = 0.05, \\Delta t = 0.2$"
   ]
  },
  {
   "cell_type": "code",
   "execution_count": 66,
   "id": "3ed4b488-86ad-4ca7-86df-f2226b38e750",
   "metadata": {},
   "outputs": [],
   "source": [
    "dZ=0.05\n",
    "dt=0.2"
   ]
  },
  {
   "cell_type": "code",
   "execution_count": 67,
   "id": "c80c2e55-bf47-47c6-97ca-6c5243f5a2c6",
   "metadata": {},
   "outputs": [
    {
     "name": "stdout",
     "output_type": "stream",
     "text": [
      "Stepsizes: dz = 0.049983690646773764 and dt = 0.2\n",
      "lambda = 4.001305173988971\n",
      "\n",
      " Tridiagonal system coefficients:\n",
      "lower diag values = -0.4415408569897684\n",
      "diag values = 1.9025874241157386\n",
      "upper diag values = -0.45904656712597025\n",
      "\n",
      " ENTIRE S DOMAIN ERRORS\n",
      "1. Maximal error: 248.16228722821108 \n",
      "\n",
      "located at 581, z value of 6.0146733358350986, S value of 409.39208334822206 \n",
      "\n",
      "2. Absolute sum of errors: 1714.550331651422\n",
      "\n",
      " REALISTIC S DOMAIN ERRORS\n",
      "1. Maximal error: 0.0021210797674963977 \n",
      "\n",
      "located at 500, z value of 1.965994393446426, S value of 7.142011029214633 \n",
      "\n",
      "2. Absolute sum of errors: 0.04399647632681066\n"
     ]
    }
   ],
   "source": [
    "L4P2 = PV_Rannacher(dt=dt, dZ=dZ, R=2)"
   ]
  },
  {
   "cell_type": "code",
   "execution_count": 68,
   "id": "9c8f39c2-1f03-49c2-9701-a3ff6cebcdbd",
   "metadata": {},
   "outputs": [],
   "source": [
    "L4_max_errors.append(L4P2[0])\n",
    "L4_real_max_errors.append(L4P2[1])\n",
    "L4_dt_vals.append(dt)\n",
    "L4_dz_vals.append(dZ)"
   ]
  },
  {
   "cell_type": "markdown",
   "id": "31e981db-07b3-43af-8e28-1ab268e16882",
   "metadata": {
    "jp-MarkdownHeadingCollapsed": true,
    "tags": []
   },
   "source": [
    "#### 4.3 Parameters $\\Delta z = 0.025, \\Delta t = 0.1$"
   ]
  },
  {
   "cell_type": "code",
   "execution_count": 69,
   "id": "25c0c278-d29b-4c5b-98a3-45305f36eaae",
   "metadata": {},
   "outputs": [],
   "source": [
    "dZ = 0.025\n",
    "dt = 0.1"
   ]
  },
  {
   "cell_type": "code",
   "execution_count": 70,
   "id": "57fc36b5-bc2d-4688-a745-741d723f051f",
   "metadata": {},
   "outputs": [
    {
     "name": "stdout",
     "output_type": "stream",
     "text": [
      "Stepsizes: dz = 0.024991845323386882 and dt = 0.1\n",
      "lambda = 4.001305173988971\n",
      "\n",
      " Tridiagonal system coefficients:\n",
      "lower diag values = -0.8918345690476377\n",
      "diag values = 2.8021748482314774\n",
      "upper diag values = -0.9093402791838395\n",
      "\n",
      " ENTIRE S DOMAIN ERRORS\n",
      "1. Maximal error: 120.71937058042101 \n",
      "\n",
      "located at 1162, z value of 6.0146733358350986, S value of 409.39208334822206 \n",
      "\n",
      "2. Absolute sum of errors: 1722.596449905736\n",
      "\n",
      " REALISTIC S DOMAIN ERRORS\n",
      "1. Maximal error: 0.0006111423841819036 \n",
      "\n",
      "located at 1001, z value of 1.9909862387698105, S value of 7.322752184286526 \n",
      "\n",
      "2. Absolute sum of errors: 0.021867124877969154\n"
     ]
    }
   ],
   "source": [
    "L4P3 = PV_Rannacher(dt=dt, dZ=dZ, R=2)"
   ]
  },
  {
   "cell_type": "code",
   "execution_count": 71,
   "id": "a7aace26-597d-487a-8e85-0350bc75f1e3",
   "metadata": {},
   "outputs": [],
   "source": [
    "L4_max_errors.append(L4P3[0])\n",
    "L4_real_max_errors.append(L4P3[1])\n",
    "L4_dt_vals.append(dt)\n",
    "L4_dz_vals.append(dZ)"
   ]
  },
  {
   "cell_type": "markdown",
   "id": "31a8d0d1-e25d-4e4e-bdb6-8f08a8121d42",
   "metadata": {
    "jp-MarkdownHeadingCollapsed": true,
    "tags": []
   },
   "source": [
    "#### 4.4 Parameters $\\Delta z = 0.01, \\Delta t = 0.04$"
   ]
  },
  {
   "cell_type": "code",
   "execution_count": 72,
   "id": "933dd59b-d47f-41ad-a9f6-07cb299a3de1",
   "metadata": {},
   "outputs": [],
   "source": [
    "dZ=0.01\n",
    "dt=0.04"
   ]
  },
  {
   "cell_type": "code",
   "execution_count": 73,
   "id": "c59a7d8b-7332-4174-9e8b-6c93c64246e1",
   "metadata": {},
   "outputs": [
    {
     "name": "stdout",
     "output_type": "stream",
     "text": [
      "Stepsizes: dz = 0.010000156986444134 and dt = 0.04\n",
      "lambda = 3.9999372064081204\n",
      "\n",
      " Tridiagonal system coefficients:\n",
      "lower diag values = -2.2411794951246073\n",
      "diag values = 5.50025871552725\n",
      "upper diag values = -2.2586792204026427\n",
      "\n",
      " ENTIRE S DOMAIN ERRORS\n",
      "1. Maximal error: 49.32641017957104 \n",
      "\n",
      "located at 2903, z value of 6.004604801706865, S value of 405.2907868545423 \n",
      "\n",
      "2. Absolute sum of errors: 1807.6838225273398\n",
      "\n",
      " REALISTIC S DOMAIN ERRORS\n",
      "1. Maximal error: 0.00011001245623987188 \n",
      "\n",
      "located at 2535, z value of 2.324547030695424, S value of 10.222048762627221 \n",
      "\n",
      "2. Absolute sum of errors: 0.009514817964707309\n"
     ]
    }
   ],
   "source": [
    "L4P4 = PV_Rannacher(dt=dt, dZ=dZ, R=2)"
   ]
  },
  {
   "cell_type": "code",
   "execution_count": 74,
   "id": "0ebde51c-59be-4cf1-8f33-7709dadf5b86",
   "metadata": {},
   "outputs": [],
   "source": [
    "L4_max_errors.append(L4P4[0])\n",
    "L4_real_max_errors.append(L4P4[1])\n",
    "L4_dt_vals.append(dt)\n",
    "L4_dz_vals.append(dZ)"
   ]
  },
  {
   "cell_type": "markdown",
   "id": "dba8d8b2-ec79-44af-8e97-549ca131b7ca",
   "metadata": {
    "jp-MarkdownHeadingCollapsed": true,
    "tags": []
   },
   "source": [
    "#### 4.5 Parameters: $\\Delta z = 0.005, \\Delta t = 0.02$"
   ]
  },
  {
   "cell_type": "code",
   "execution_count": 75,
   "id": "08f82531-b48f-427d-a6a8-cbba7dc052fe",
   "metadata": {},
   "outputs": [],
   "source": [
    "dZ=0.005\n",
    "dt=0.02"
   ]
  },
  {
   "cell_type": "code",
   "execution_count": 76,
   "id": "0ead2e79-675b-48ae-ac68-c7036dd286b2",
   "metadata": {},
   "outputs": [
    {
     "name": "stdout",
     "output_type": "stream",
     "text": [
      "Stepsizes: dz = 0.005000078493222067 and dt = 0.02\n",
      "lambda = 3.9999372064081204\n",
      "\n",
      " Tridiagonal system coefficients:\n",
      "lower diag values = -4.491108852888232\n",
      "diag values = 9.999917431054499\n",
      "upper diag values = -4.5086085781662675\n",
      "\n",
      " ENTIRE S DOMAIN ERRORS\n",
      "1. Maximal error: 26.238310428412774 \n",
      "\n",
      "located at 5809, z value of 6.01960503718653, S value of 411.41606958453735 \n",
      "\n",
      "2. Absolute sum of errors: 1973.0272437452818\n",
      "\n",
      " REALISTIC S DOMAIN ERRORS\n",
      "1. Maximal error: 2.3724081944204167e-05 \n",
      "\n",
      "located at 5001, z value of 1.979541614663102, S value of 7.239423778773581 \n",
      "\n",
      "2. Absolute sum of errors: 0.004397753290498354\n"
     ]
    }
   ],
   "source": [
    "L4P5 = PV_Rannacher(dt=dt, dZ=dZ, R=2)"
   ]
  },
  {
   "cell_type": "code",
   "execution_count": 77,
   "id": "b9b9c6e6-147a-4841-8ed3-6ae89307567f",
   "metadata": {},
   "outputs": [],
   "source": [
    "L4_max_errors.append(L4P5[0])\n",
    "L4_real_max_errors.append(L4P5[1])\n",
    "L4_dt_vals.append(dt)\n",
    "L4_dz_vals.append(dZ)"
   ]
  },
  {
   "cell_type": "markdown",
   "id": "4d7cf493-1674-404f-b5c9-b3c2d85e1f86",
   "metadata": {
    "jp-MarkdownHeadingCollapsed": true,
    "tags": []
   },
   "source": [
    "#### 4.6 Parameters: $\\Delta z = 0.0025, \\Delta t = 0.01$"
   ]
  },
  {
   "cell_type": "code",
   "execution_count": 78,
   "id": "caec5430-c7e5-4752-8de5-ae9f7103f9cf",
   "metadata": {},
   "outputs": [],
   "source": [
    "dZ=0.0025\n",
    "dt=0.01"
   ]
  },
  {
   "cell_type": "code",
   "execution_count": 79,
   "id": "7d97291e-bddd-428e-967f-d1c25a8abf86",
   "metadata": {},
   "outputs": [
    {
     "name": "stdout",
     "output_type": "stream",
     "text": [
      "Stepsizes: dz = 0.0025000392466110336 and dt = 0.01\n",
      "lambda = 3.9999372064081204\n",
      "\n",
      " Tridiagonal system coefficients:\n",
      "lower diag values = -8.990967568415483\n",
      "diag values = 18.999534862108998\n",
      "upper diag values = -9.008467293693517\n",
      "\n",
      " ENTIRE S DOMAIN ERRORS\n",
      "1. Maximal error: 15.058526695820262 \n",
      "\n",
      "located at 11628, z value of 6.044605429652641, S value of 421.83128252620736 \n",
      "\n",
      "2. Absolute sum of errors: 2312.481504623382\n",
      "\n",
      " REALISTIC S DOMAIN ERRORS\n",
      "1. Maximal error: 6.214773080381875e-06 \n",
      "\n",
      "located at 10140, z value of 2.324547030695424, S value of 10.222048762627221 \n",
      "\n",
      "2. Absolute sum of errors: 0.002326942042810298\n"
     ]
    }
   ],
   "source": [
    "L4P6 = PV_Rannacher(dt=dt, dZ=dZ, R=2)"
   ]
  },
  {
   "cell_type": "code",
   "execution_count": 80,
   "id": "8ca23a5d-cca7-4aca-87b5-f0d7a354b9a6",
   "metadata": {},
   "outputs": [],
   "source": [
    "L4_max_errors.append(L4P6[0])\n",
    "L4_real_max_errors.append(L4P6[1])\n",
    "L4_dt_vals.append(dt)\n",
    "L4_dz_vals.append(dZ)"
   ]
  },
  {
   "cell_type": "markdown",
   "id": "8f121708-3f87-4547-8129-e592fb120467",
   "metadata": {
    "jp-MarkdownHeadingCollapsed": true,
    "tags": []
   },
   "source": [
    "#### 4.7 Parameters: $\\Delta z = 0.001, \\Delta t = 0.004$"
   ]
  },
  {
   "cell_type": "code",
   "execution_count": 81,
   "id": "afeb545d-a7ad-4a91-816b-e955d3781f5a",
   "metadata": {},
   "outputs": [],
   "source": [
    "dZ=0.001\n",
    "dt=0.004"
   ]
  },
  {
   "cell_type": "code",
   "execution_count": 82,
   "id": "c9862923-cfc2-4d57-954d-efaf46552291",
   "metadata": {},
   "outputs": [
    {
     "name": "stdout",
     "output_type": "stream",
     "text": [
      "Stepsizes: dz = 0.0010000156986444135 and dt = 0.004\n",
      "lambda = 3.9999372064081204\n",
      "\n",
      " Tridiagonal system coefficients:\n",
      "lower diag values = -22.490543714997226\n",
      "diag values = 45.998627155272494\n",
      "upper diag values = -22.508043440275266\n",
      "\n",
      " ENTIRE S DOMAIN ERRORS\n",
      "1. Maximal error: 9.609193795136946 \n",
      "\n",
      "located at 29237, z value of 6.211608051326262, S value of 498.5022242742604 \n",
      "\n",
      "2. Absolute sum of errors: 3337.9469585357006\n",
      "\n",
      " REALISTIC S DOMAIN ERRORS\n",
      "1. Maximal error: 2.173829111828951e-06 \n",
      "\n",
      "located at 25338, z value of 2.3125468423116935, S value of 10.100115327149673 \n",
      "\n",
      "2. Absolute sum of errors: 0.0012715233694759116\n"
     ]
    }
   ],
   "source": [
    "L4P7 = PV_Rannacher(dt=dt, dZ=dZ, R=2)"
   ]
  },
  {
   "cell_type": "code",
   "execution_count": 83,
   "id": "e3b2264b-3aa3-4d8f-a943-d287fc6233fa",
   "metadata": {},
   "outputs": [],
   "source": [
    "L4_max_errors.append(L4P7[0])\n",
    "L4_real_max_errors.append(L4P7[1])\n",
    "L4_dt_vals.append(dt)\n",
    "L4_dz_vals.append(dZ)"
   ]
  },
  {
   "cell_type": "markdown",
   "id": "aa074426-99fd-4204-b75c-83c035dda9c3",
   "metadata": {
    "jp-MarkdownHeadingCollapsed": true,
    "tags": []
   },
   "source": [
    "#### Additional steps "
   ]
  },
  {
   "cell_type": "code",
   "execution_count": 84,
   "id": "84757c9c-91f7-4068-ad98-dc0bb558a53b",
   "metadata": {},
   "outputs": [],
   "source": [
    "# Empty list to store max error values\n",
    "L4a_max_errors = []\n",
    "L4a_real_max_errors = []\n",
    "# Empty list to store dt and dz's\n",
    "L4a_dt_vals = []\n",
    "L4a_dz_vals = []"
   ]
  },
  {
   "cell_type": "code",
   "execution_count": 85,
   "id": "99d4eee7-6f5c-405d-80ec-13e0f962ca46",
   "metadata": {},
   "outputs": [],
   "source": [
    "# dZ = 0.075\n",
    "# dt = 0.075*4\n",
    "\n",
    "# L4a1 = PV_Rannacher(dt=dt, dZ=dZ, R=2)\n",
    "# L4a_max_errors.append(L4a1[0])\n",
    "# L4a_real_max_errors.append(L4a1[1])\n",
    "# L4a_dt_vals.append(dt)\n",
    "# L4a_dz_vals.append(dZ)\n",
    "\n",
    "# ###########\n",
    "\n",
    "# dZ = 0.0375\n",
    "# dt = 0.0375*4\n",
    "\n",
    "# L4a2 = PV_Rannacher(dt=dt, dZ=dZ, R=2)\n",
    "# L4a_max_errors.append(L4a2[0])\n",
    "# L4a_real_max_errors.append(L4a2[1])\n",
    "# L4a_dt_vals.append(dt)\n",
    "# L4a_dz_vals.append(dZ)\n",
    "\n",
    "# ###########\n",
    "\n",
    "# dZ = 0.0175\n",
    "# dt = 0.0175*4\n",
    "\n",
    "# L4a3 = PV_Rannacher(dt=dt, dZ=dZ, R=2)\n",
    "# L4a_max_errors.append(L4a3[0])\n",
    "# L4a_real_max_errors.append(L4a3[1])\n",
    "# L4a_dt_vals.append(dt)\n",
    "# L4a_dz_vals.append(dZ)\n",
    "\n",
    "# ###########\n",
    "\n",
    "# dZ = 0.0075\n",
    "# dt = 0.0075*4\n",
    "\n",
    "# L4a4 = PV_Rannacher(dt=dt, dZ=dZ, R=2)\n",
    "# L4a_max_errors.append(L4a4[0])\n",
    "# L4a_real_max_errors.append(L4a4[1])\n",
    "# L4a_dt_vals.append(dt)\n",
    "# L4a_dz_vals.append(dZ)\n",
    "\n",
    "# ###########\n",
    "\n",
    "# dZ = 0.00375\n",
    "# dt = 0.00375*4\n",
    "\n",
    "# L4a5 = PV_Rannacher(dt=dt, dZ=dZ, R=2)\n",
    "# L4a_max_errors.append(L4a5[0])\n",
    "# L4a_real_max_errors.append(L4a5[1])\n",
    "# L4a_dt_vals.append(dt)\n",
    "# L4a_dz_vals.append(dZ)\n",
    "\n",
    "# ###########\n",
    "\n",
    "# dZ = 0.00175\n",
    "# dt = 0.00175*4\n",
    "\n",
    "# L4a6 = PV_Rannacher(dt=dt, dZ=dZ, R=2)\n",
    "# L4a_max_errors.append(L4a6[0])\n",
    "# L4a_real_max_errors.append(L4a6[1])\n",
    "# L4a_dt_vals.append(dt)\n",
    "# L4a_dz_vals.append(dZ)\n",
    "\n",
    "# ###########\n",
    "\n",
    "# dZ = 0.00075\n",
    "# dt = 0.00075*4\n",
    "\n",
    "# L4a7 = PV_Rannacher(dt=dt, dZ=dZ, R=2)\n",
    "# L4a_max_errors.append(L4a7[0])\n",
    "# L4a_real_max_errors.append(L4a7[1])\n",
    "# L4a_dt_vals.append(dt)\n",
    "# L4a_dz_vals.append(dZ)\n",
    "\n",
    "# ###########\n",
    "\n",
    "# dZ = 0.0005\n",
    "# dt = 0.0005*4\n",
    "\n",
    "# L4a8 = PV_Rannacher(dt=dt, dZ=dZ, R=2)\n",
    "# L4a_max_errors.append(L4a8[0])\n",
    "# L4a_real_max_errors.append(L4a8[1])\n",
    "# L4a_dt_vals.append(dt)\n",
    "# L4a_dz_vals.append(dZ)\n",
    "\n",
    "# ###########\n",
    "\n",
    "# dZ = 0.00025\n",
    "# dt = 0.00025*4\n",
    "\n",
    "# L4a9 = PV_Rannacher(dt=dt, dZ=dZ, R=2)\n",
    "# L4a_max_errors.append(L4a9[0])\n",
    "# L4a_real_max_errors.append(L4a9[1])\n",
    "# L4a_dt_vals.append(dt)\n",
    "# L4a_dz_vals.append(dZ)"
   ]
  },
  {
   "cell_type": "markdown",
   "id": "8baac3a4-f828-4b22-9f93-ad7a3d467668",
   "metadata": {
    "tags": []
   },
   "source": [
    "#### PLOTS of Convergence for decreasing step size"
   ]
  },
  {
   "cell_type": "code",
   "execution_count": 86,
   "id": "13d23ca2-b747-45ac-853d-02444c70d31b",
   "metadata": {},
   "outputs": [],
   "source": [
    "# delta t values\n",
    "dt_vals = np.array(L4_dt_vals + L4a_dt_vals)\n",
    "sorted_indices = np.argsort(dt_vals)\n",
    "dt_vals = np.array([dt_vals[i] for i in sorted_indices])\n",
    "inv_dt_vals = np.divide(np.ones(len(dt_vals)), dt_vals)\n",
    "\n",
    "# delta z values\n",
    "dz_vals = np.array(L4_dz_vals + L4a_dz_vals)\n",
    "dz_vals = np.array([dz_vals[i] for i in sorted_indices])\n",
    "inv_dz_vals = np.divide(np.ones(len(dz_vals)), dz_vals)\n",
    "\n",
    "\n",
    "# max errors in realistic range\n",
    "real_max_errors = np.array(L4_real_max_errors + L4a_real_max_errors)\n",
    "real_max_errors = np.array([real_max_errors[i] for i in sorted_indices])\n",
    "\n",
    "# max errors in entire range\n",
    "max_errors = np.array(L4_max_errors + L4a_max_errors)\n",
    "max_errors = np.array([max_errors[i] for i in sorted_indices])"
   ]
  },
  {
   "cell_type": "markdown",
   "id": "8faeab98-c850-4902-bfed-42cf8cda2366",
   "metadata": {
    "tags": []
   },
   "source": [
    "##### Realistic S domain for 1/dz"
   ]
  },
  {
   "cell_type": "code",
   "execution_count": 87,
   "id": "07914223-706d-4fa3-aa80-98846c0e1d60",
   "metadata": {},
   "outputs": [
    {
     "data": {
      "application/vnd.jupyter.widget-view+json": {
       "model_id": "ed48c9c67e9245258db32f70e80183cf",
       "version_major": 2,
       "version_minor": 0
      },
      "image/png": "[encoded data removed]",
      "text/html": [
       "\n",
       "            <div style=\"display: inline-block;\">\n",
       "                <div class=\"jupyter-widgets widget-label\" style=\"text-align: center;\">\n",
       "                    Figure\n",
       "                </div>\n",
       "                <img src='data:image/png;base64,iVBORw0KGgoAAAANSUhEUgAAAoAAAAHgCAYAAAA10dzkAAAAOXRFWHRTb2Z0d2FyZQBNYXRwbG90bGliIHZlcnNpb24zLjUuMiwgaHR0cHM6Ly9tYXRwbG90bGliLm9yZy8qNh9FAAAACXBIWXMAAA9hAAAPYQGoP6dpAABFHUlEQVR4nO3dd3hUVeL/8c+kU5JIkxCBENoSmoaAFEEsEHpR+IqoCKLuL65KyYMiKkWiBuui1JWmLAqsgoqASizEQkSFoCCIoCgIRDaoCRYISc7vD57MMqaQTO7NzDDv1/PMs865555z7glLPpw794zDGGMEAAAAvxHg6QEAAACgahEAAQAA/AwBEAAAwM8QAAEAAPwMARAAAMDPEAABAAD8DAEQAADAzxAAAQAA/AwBEAAAwM8QAAEAAPwMARAAAMDPEAABAAD8DAEQAADAzxAAAQAA/AwBEAAAwM8QAAEAAPwMARAAAMDPEAABAAD8DAEQAADAzxAAAQAA/AwBEAAAwM8QAAEAAPwMARAAAMDPEAABAAD8DAEQAADAzxAAAQAA/AwBEAAAwM8QAAEAAPwMARAAAMDPEAABAAD8DAEQAADAzxAAAQAA/AwBEAAAwM8QAAEAAPwMARAAAMDPEAABAAD8DAEQ8CPPP/+8HA6HHA6HNm/eXOy4MUbNmzeXw+HQFVdcUeXj82WrV69WmzZtVK1aNTkcDu3YscPW/k6ePKmgoCCFh4fr7rvvtrWv0ixevFgOh0M1a9b0SP8A3EcABPxQeHi4lixZUqw8PT1d3377rcLDwz0wKt/13//+V6NGjVKzZs301ltvKSMjQy1btrS1T4fDoffee0+XXnqp5s6dq2+++cbW/v7q8OHDmjRpkqKjo6u0XwDWIAACfmjEiBFas2aNcnNzXcqXLFmirl27qnHjxh4amfv++OOPCpVb0XaRb775RqdPn9ZNN92knj17qkuXLqpevbqtfYaGhuryyy/XvffeK0natm1bpfqrqKSkJF1++eXq3bt3lfYLwBoEQMAPjRw5UpK0cuVKZ1lOTo7WrFmjsWPHFqu/f/9+3XLLLWrRooWqV6+uiy66SIMGDdLOnTuddU6ePKn4+Hg1b95cOTk5zvKsrCxFRUXpiiuuUEFBQZnj2rdvn2644QZdeOGFCg0NVVxcnObNm1es3owZM+RwOLR9+3YNHz5ctWrVUrNmzUotL/LRRx/p6quvVnh4uKpXr65u3bppw4YN5Wq7NGPGjFH37t0lnQnWZ98+L09/7vR5tlatWkmS7becz7ZixQqlp6dr/vz5VdYnAGsRAAE/FBERoeHDh2vp0qXOspUrVyogIEAjRowoVv/IkSOqU6eOZs2apbfeekvz5s1TUFCQOnfurL1790qSwsLC9J///EfHjh1zhsjCwkLdeOONMsZo5cqVCgwMLHVMu3fvVqdOnbRr1y499dRTWr9+vQYMGKBx48bpoYceKvGca6+9Vs2bN9fLL7+shQsXllmenp6uq666Sjk5OVqyZIlWrlyp8PBwDRo0SKtXry532381depUZ0h99NFHlZGRofnz51e4v4r0ebbHHntM0rkDoDFG+fn55XqV5dixY5owYYJmzZqlhg0blmuMALyQAeA3li1bZiSZzz77zLz//vtGktm1a5cxxphOnTqZMWPGGGOMadOmjenZs2ep7eTn55u8vDzTokULM3HiRJdjq1evNpLM7NmzzbRp00xAQIDZtGnTOcfWp08f07BhQ5OTk+NSftddd5mwsDDz888/O8umT59uJJlp06a51C2t3BhjunTpYi688EJz4sQJl+to27atadiwoSksLDxnG6UpmsuXX365wv2526cxxrz99ttGkqlVq5apV69eucZYnteBAwdKbWfYsGGmW7duzvGPHj3a1KhRo0LjBuB5QVWcNwF4iZ49e6pZs2ZaunSpxowZo88++0xPPfVUiXXz8/P1+OOPa8WKFdq/f79Onz7tPLZnzx6Xutddd502b96se+65RwUFBbr//vvP+TmxkydP6t1339Udd9yh6tWru6xC9e/fX3PnztUnn3yifv36uZw3bNiwEtv7a/nvv/+urVu36o477nB5YjUwMFCjRo3S5MmTtXfvXuft1LLaLg93+qton7/++qvGjh2rIUOGqG3btnrkkUd05MiRUh/KSEhI0GeffVautktrY82aNXrjjTeUmZkph8NR7rEC8D4EQMBPORwO3XLLLXr22Wd18uRJtWzZUj169CixbnJysubNm6fJkyerZ8+eqlWrlgICAnTbbbfpzz//LFZ/7NixWrBggUJCQjRu3LhzjuX48ePKz8/XnDlzNGfOnBLrZGdnFytr0KBBiXX/Wv7LL7/IGFNi/aKwc/z48XK1XR7u9FfRPu+8806dPn1aixYt0gcffCDpzG3g0sJbzZo1dckll5Sr7aCg4r8afvvtN9155526++67FR0drV9//VWSlJeXJ+lMIA0ODlaNGjXKfQ0APIcACPixMWPGaNq0aVq4cKEeeeSRUuutWLFCN998sx599FGX8uzsbF1wwQUuZb///rtGjRqlli1b6qefftJtt92m119/vcxx1KpVy7k6duedd5ZYJzY2tlhZaatQfy0vCqxHjx4tVvfIkSOSpLp165ar7fJwp7+K9PnKK6/opZde0htvvKF69eqpQ4cOks4EwP79+5d4Tnp6uq688spytX/gwAE1adLEpSw7O1s//fSTnnrqqRJXimvVqqUhQ4botddeK1cfADyLAAj4sYsuukj33HOPvv76a40ePbrUeg6HQ6GhoS5lGzZs0OHDh9W8eXOX8qSkJB08eFCffvqpvv76aw0fPlz//Oc/NXHixFLbr169uq688kplZmaqffv2CgkJqdyF/UWNGjXUuXNnrV27Vk8++aSqVasm6cxDKitWrFDDhg0t3bfPzv6ysrKUlJSkv//97xo4cKCkM+H4ggsuUGZmZqnnVfYWcFRUlN5///1i5bNmzVJ6errefPPNEkMtAO9EAAT83KxZs85ZZ+DAgXr++efVqlUrtW/fXtu2bdMTTzxR7CnQxYsXa8WKFVq2bJnatGmjNm3a6K677tLkyZN12WWX6dJLLy21j2eeeUbdu3dXjx49dMcdd6hJkyY6ceKE9u/frzfeeEPvvfdepa4zNTVVvXv31pVXXqlJkyYpJCRE8+fP165du7Ry5UrLP9NmV3+33367atWqpaefftqlPD4+vswngcPDw9WxY0e3+pTOPOVd0rfDPP/88woMDOSbYwAfQwAEcE7PPPOMgoODlZqaqt9++00dOnTQ2rVr9eCDDzrr7Ny5U+PGjdPo0aM1ZswYZ/mTTz6pjIwMjRgxQpmZmcVuGRdp3bq1tm/frpSUFD344IM6duyYLrjgArVo0aLU25oV0bNnT7333nuaPn26xowZo8LCQl188cVat26dcyXNSnb0t3jxYr355pv66KOPin3WLj4+Xps3b9aJEyf4JhcA5+QwxhhPDwIAAABVh42gAQAA/AwBEAAAwM8QAAEAAPwMARAAAMDPEAABAAD8DAEQAADAzxAAAQAA/AwbQVdCYWGhjhw5ovDwcMu/RQAAANjDGKMTJ04oOjpaAQH+uRZGAKyEI0eOqFGjRp4eBgAAcMOhQ4eKfaWlvyAAVkLR1y0dOnRIERERHh4NAAAoj9zcXDVq1MivvzaRAFgJRbd9IyIiCIAAAPgYf/74ln/e+AYAAPBjBEAAAAA/QwAEAADwMwRAAAAAP0MABAAA8DMEQAAAAD9DAAQAAPAzBEAAAAA/QwAEAADwMwRALzJjxgylpKSUeCwlJUUzZsyo2gEBAIDzEgHQiwQGBmratGnFQmBKSoqmTZumwMBAD40MAACcT/guYC8ydepUSdK0adOc74vC38yZM53HAQAAKsNhjDGeHoSvys3NVWRkpHJychQREWFZuyNHjtSqVasUFBSk/Px8wh8AABay6/e3L+EWsBdq1aqVJCk/P18hISGEPwAAYCkCoBf68MMPJUkBAQHKy8sr9cEQAAAAd/AZQC+TkpKid999V5I0evRoxcbGunwmEAAAoLIIgF6k6IGPxMREbdq0Sfn5+SU+GAIAAFAZBEAvUlBQoJkzZyo8PFybNm1SQUGBpP+FvqL3AAAAlUEA9CJFGz3PnTtX0pmHQIqw8gcAAKzCQyBeKCjoTC4/OwACAABYhQDohQiAAADATgRAL0QABAAAdiIAeiECIAAAsBMB0AsFBgZKIgACAAB7eEUAnD9/vmJjYxUWFqaEhATnN2GUJj09XQkJCQoLC1PTpk21cOFCl+OLFi1Sjx49VKtWLdWqVUu9evXSp59+Wul+qworgAAAwE4eD4CrV6/WhAkT9MADDygzM1M9evRQv379dPDgwRLrHzhwQP3791ePHj2UmZmp+++/X+PGjdOaNWucdTZv3qyRI0fq/fffV0ZGhho3bqzExEQdPnzY7X6rUlEAZN8/AABgB4cxxnhyAJ07d1aHDh20YMECZ1lcXJyGDh2q1NTUYvUnT56sdevWac+ePc6ypKQkffHFF8rIyCixj4KCAtWqVUtz587VzTff7Fa/JcnNzVVkZKRycnIUERFRrnPK44033tDgwYPVuXNnffLJJ5a1CwAA7Pv97Us8ugKYl5enbdu2KTEx0aU8MTFRW7ZsKfGcjIyMYvX79Omjzz//XKdPny7xnD/++EOnT59W7dq13e5Xkk6dOqXc3FyXlx24BQwAAOzk0QCYnZ2tgoIC1a9f36W8fv36ysrKKvGcrKysEuvn5+crOzu7xHPuu+8+XXTRRerVq5fb/UpSamqqIiMjna9GjRqd8xrdQQAEAAB28vhnACXJ4XC4vDfGFCs7V/2SyiXp8ccf18qVK7V27VqFhYVVqt8pU6YoJyfH+Tp06FCpdSuDAAgAAOzk0e8Crlu3rgIDA4utuh07dqzY6lyRqKioEusHBQWpTp06LuVPPvmkHn30Ub3zzjtq3759pfqVpNDQUIWGhpbr2iqDbWAAAICdPLoCGBISooSEBKWlpbmUp6WlqVu3biWe07Vr12L1N23apI4dOyo4ONhZ9sQTTyglJUVvvfWWOnbsWOl+qxIrgAAAwE4eXQGUpOTkZI0aNUodO3ZU165d9dxzz+ngwYNKSkqSdOa26+HDh7V8+XJJZ574nTt3rpKTk3X77bcrIyNDS5Ys0cqVK51tPv7445o6dapeeuklNWnSxLnSV7NmTdWsWbNc/XoS28AAAAA7eTwAjhgxQsePH9fMmTN19OhRtW3bVhs3blRMTIwk6ejRoy5788XGxmrjxo2aOHGi5s2bp+joaD377LMaNmyYs878+fOVl5en4cOHu/Q1ffp0zZgxo1z9ehIrgAAAwE4e3wfQl9m1j9CXX36piy++WFFRUTp69Khl7QIAAPYBlLzkKWC4YgUQAADYiQDohQiAAADATgRAL8Q2MAAAwE4EQC/ECiAAALATAdALsQ0MAACwEwHQC7ECCAAA7EQA9EJFAdAYo8LCQg+PBgAAnG8IgF6oKABKrAICAADrEQC9EAEQAADYiQDohYq2gZEIgAAAwHoEQC/ECiAAALATAdALsQIIAADsRAD0Qg6HwxkC2QsQAABYjQDopdgLEAAA2IUA6KUIgAAAwC4EQC9FAAQAAHYhAHopAiAAALALAdBLFT0EQgAEAABWIwB6KVYAAQCAXQiAXqooALINDAAAsBoB0EuxAggAAOxCAPRSBEAAAGAXAqCXIgACAAC7EAC9FAEQAADYhQDopdgGBgAA2IUA6KVYAQQAAHYhAHoptoEBAAB2IQB6KVYAAQCAXQiAXooACAAA7EIA9FIEQAAAYBcCoJciAAIAALsQAL0U28AAAAC7EAC9FCuAAADALgRAL0UABAAAdiEAein2AQQAAHYhAHopVgABAIBdCIBeigAIAADsQgD0UgRAAABgFwKgl2IbGAAAYBcCoJdiBRAAANiFAOilCIAAAMAuBEAvxTYwAADALgRAL8UKIAAAsAsB0EsRAAEAgF0IgF6KAAgAAOxCAPRSbAMDAADsQgD0UqwAAgAAuxAAvRQBEAAA2IUA6KXYBgYAANiFAOilWAEEAAB2IQB6KQIgAACwCwHQSxEAAQCAXQiAXooACAAA7EIA9FLsAwgAAOxCAPRSrAACAAC7EAC9FAEQAADYhQDopdgHEAAA2IUA6KVYAQQAAHYhAHopAiAAALALAdBLEQABAIBdCIBeim1gAACAXQiAXooVQAAAYBcCoJciAAIAALsQAL0U28AAAAC7EAC9FCuAAADALgRAL0UABAAAdiEAeikCIAAAsAsB0EuxDQwAALALAdBLsQIIAADs4hUBcP78+YqNjVVYWJgSEhL04Ycfllk/PT1dCQkJCgsLU9OmTbVw4UKX41999ZWGDRumJk2ayOFwaPbs2cXamDFjhhwOh8srKirKysuqFAIgAACwi8cD4OrVqzVhwgQ98MADyszMVI8ePdSvXz8dPHiwxPoHDhxQ//791aNHD2VmZur+++/XuHHjtGbNGmedP/74Q02bNtWsWbPKDHVt2rTR0aNHna+dO3dafn3uYhsYAABglyBPD+Dpp5/Wrbfeqttuu02SNHv2bL399ttasGCBUlNTi9VfuHChGjdu7FzVi4uL0+eff64nn3xSw4YNkyR16tRJnTp1kiTdd999pfYdFBTkVat+Z2MFEAAA2MWjK4B5eXnatm2bEhMTXcoTExO1ZcuWEs/JyMgoVr9Pnz76/PPPdfr06Qr1v2/fPkVHRys2NlbXX3+9vvvuuzLrnzp1Srm5uS4vuxQFwMLCQhUWFtrWDwAA8D8eDYDZ2dkqKChQ/fr1Xcrr16+vrKysEs/JysoqsX5+fr6ys7PL3Xfnzp21fPlyvf3221q0aJGysrLUrVs3HT9+vNRzUlNTFRkZ6Xw1atSo3P1VVFEAlLgNDAAArOXxzwBKksPhcHlvjClWdq76JZWXpV+/fho2bJjatWunXr16acOGDZKkF154odRzpkyZopycHOfr0KFD5e6vooq2gZG4DQwAAKzl0c8A1q1bV4GBgcVW+44dO1Zsla9IVFRUifWDgoJUp04dt8dSo0YNtWvXTvv27Su1TmhoqEJDQ93uoyLOXgEkAAIAACt5dAUwJCRECQkJSktLcylPS0tTt27dSjyna9euxepv2rRJHTt2VHBwsNtjOXXqlPbs2aMGDRq43YaVCIAAAMAuHr8FnJycrMWLF2vp0qXas2ePJk6cqIMHDyopKUnSmduuN998s7N+UlKSfvjhByUnJ2vPnj1aunSplixZokmTJjnr5OXlaceOHdqxY4fy8vJ0+PBh7dixQ/v373fWmTRpktLT03XgwAFt3bpVw4cPV25urkaPHl11F18GbgEDAAC7eHwbmBEjRuj48eOaOXOmjh49qrZt22rjxo2KiYmRJB09etRlT8DY2Fht3LhREydO1Lx58xQdHa1nn33WuQWMJB05ckTx8fHO908++aSefPJJ9ezZU5s3b5Yk/fjjjxo5cqSys7NVr149denSRZ988omzX08LCAhQQECACgsLeQgEAABYymGKnqBAheXm5ioyMlI5OTmKiIiwvP3Q0FDl5eXp0KFDatiwoeXtAwDgj+z+/e0LPH4LGKVjM2gAAGAHAqAXK/ocIAEQAABYiQDoxVgBBAAAdiAAejECIAAAsAMB0IsRAAEAgB0IgF6sKACyDQwAALASAdCLsQIIAADsQAD0YgRAAABgBwKgFyMAAgAAOxAAvRj7AAIAADsQAL0YK4AAAMAOBEAvRgAEAAB2IAB6MbaBAQAAdiAAejFWAAEAgB0IgF6MAAgAAOxAAPRiBEAAAGAHAqAXYxsYAABgBwKgF2MFEAAA2IEA6MUIgAAAwA4EQC9GAAQAAHYgAHox9gEEAAB2IAB6MVYAAQCAHQiAXowACAAA7EAA9GJsAwMAAOxAAPRirAACAAA7EAC9GAEQAADYgQDoxQiAAADADgRAL8Y2MAAAwA4EQC/GCiAAALADAdCLEQABAIAdCIBejG1gAACAHQiAXowVQAAAYAcCoBcjAAIAADsQAL0YARAAANihwgEwPz9fQUFB2rVrlx3jwVnYBgYAANihwgEwKChIMTExhJIqwAogAACwg1u3gB988EFNmTJFP//8s9XjwVkIgAAAwA5B7pz07LPPav/+/YqOjlZMTIxq1Kjhcnz79u2WDM7fEQABAIAd3AqAQ4cOtXgYKAn7AAIAADu4FQCnT59u9ThQAlYAAQCAHdwKgEW2bdumPXv2yOFwqHXr1oqPj7dqXBABEAAA2MOtAHjs2DFdf/312rx5sy644AIZY5STk6Mrr7xSq1atUr169awep18iAAIAADu49RTw3XffrdzcXH311Vf6+eef9csvv2jXrl3Kzc3VuHHjrB6j32IfQAAAYAe3VgDfeustvfPOO4qLi3OWtW7dWvPmzVNiYqJlg/N3rAACAAA7uLUCWFhYqODg4GLlwcHBKiwsrPSgcAYBEAAA2MGtAHjVVVdp/PjxOnLkiLPs8OHDmjhxoq6++mrLBufv2AYGAADYwa0AOHfuXJ04cUJNmjRRs2bN1Lx5c8XGxurEiROaM2eO1WP0W6wAAgAAO7j1GcBGjRpp+/btSktL09dffy1jjFq3bq1evXpZPT6/RgAEAAB2qHAAzM/PV1hYmHbs2KHevXurd+/edowLIgACAAB7VPgWcFBQkGJiYtiapAqwDQwAALCDW58BfPDBBzVlyhT9/PPPVo8HZ2EFEAAA2MGtzwA+++yz2r9/v6KjoxUTE6MaNWq4HN++fbslg/N3BEAAAGAHtwLg0KFDLR4GSsI2MAAAwA5uPQQiSWPHjlWjRo0sHxD+hxVAAABgB7ceAnnyySd5MKEKEAABAIAd3HoI5Oqrr9bmzZstHgr+igAIAADs4NZnAPv166cpU6Zo165dSkhIKPYQyODBgy0ZnL9jGxgAAGAHhzHGVPSkgIDSFw4dDoffBJbc3FxFRkYqJydHERERlrd/9OhRRUdHKzAwkFVAAAAsYvfvb1/g1gpgYWGh1eNACc5eATTGyOFweHhEAADgfODWZwDPdvLkSSvGgRIUbQMjcRsYAABYx60AWFBQoJSUFF100UWqWbOmvvvuO0nS1KlTtWTJEksH6M+KVgAlHgQBAADWcSsAPvLII3r++ef1+OOPKyQkxFnerl07LV682LLB+TsCIAAAsINbAXD58uV67rnndOONN7rcpmzfvr2+/vprywbn7wiAAADADm4FwMOHD6t58+bFygsLC3X69OlKDwpnEAABAIAd3AqAbdq00Ycfflis/OWXX1Z8fHylB4UzAgICnE/+8hAIAACwilvbwEyfPl2jRo3S4cOHVVhYqLVr12rv3r1avny51q9fb/UY/VpQUJBOnz7NCiAAALCMWyuAgwYN0urVq7Vx40Y5HA5NmzZNe/bs0RtvvKHevXtbPUa/VvQZSwIgAACwilsrgJLUp08f9enTx8qxoAR8HzAAALBapTeChr0IgAAAwGpeEQDnz5+v2NhYhYWFKSEhocQHTM6Wnp6uhIQEhYWFqWnTplq4cKHL8a+++krDhg1TkyZN5HA4NHv2bEv69QQCIAAAsJrHA+Dq1as1YcIEPfDAA8rMzFSPHj3Ur18/HTx4sMT6Bw4cUP/+/dWjRw9lZmbq/vvv17hx47RmzRpnnT/++ENNmzbVrFmzFBUVZUm/nkIABAAAVnMYY4wnB9C5c2d16NBBCxYscJbFxcVp6NChSk1NLVZ/8uTJWrdunfbs2eMsS0pK0hdffKGMjIxi9Zs0aaIJEyZowoQJleq3JLm5uYqMjFROTo4iIiLKdU5FNWrUSD/++KO2bdumDh062NIHAAD+pCp+f3s7t1YA//zzz1KPHT16tNzt5OXladu2bUpMTHQpT0xM1JYtW0o8JyMjo1j9Pn366PPPPy/3JtTu9OsprAACAACruRUA4+PjtX379mLlr7zyitq3b1/udrKzs1VQUKD69eu7lNevX19ZWVklnpOVlVVi/fz8fGVnZ9vWrySdOnVKubm5Li+7EQABAIDV3AqAvXv3Vrdu3TRr1iwZY/Tbb79pzJgxGj16tKZNm1bh9oq+7aKIMaZY2bnql1Rudb+pqamKjIx0vho1alSh/tzBPoAAAMBqbu0DOGfOHA0YMEC33HKLNmzYoCNHjigiIkKfffaZWrduXe526tatq8DAwGKrbseOHSu2OlckKiqqxPpBQUGqU6eObf1K0pQpU5ScnOx8n5uba3sIZAUQAABYze2ngBMTE3Xttdfq448/1qFDhzRr1qwKhT9JCgkJUUJCgtLS0lzK09LS1K1btxLP6dq1a7H6mzZtUseOHRUcHGxbv5IUGhqqiIgIl5fdCIAAAMBqbq0Afvvtt7rhhhuUlZWlt99+W+np6RoyZIjGjRunRx55pNxBTJKSk5M1atQodezYUV27dtVzzz2ngwcPKikpSdKZVbfDhw9r+fLlks488Tt37lwlJyfr9ttvV0ZGhpYsWaKVK1c628zLy9Pu3bud/3348GHt2LFDNWvWVPPmzcvVr7cgAAIAAMsZN9SsWdOMGDHC/PLLL86yjz/+2DRr1sxccsklFW5v3rx5JiYmxoSEhJgOHTqY9PR057HRo0ebnj17utTfvHmziY+PNyEhIaZJkyZmwYIFLscPHDhgJBV7/bWdsvotj5ycHCPJ5OTkVOi8iujcubORZNatW2dbHwAA+JOq+P3t7dzaB/Df//63Ro0aVaz8xIkTmjBhgpYsWVKpUOorqmIfoe7du+vjjz/W2rVrdc0119jSBwAA/oR9AN38DGBJ4U+SwsPD/Sb8VRVuAQMAAKu59RnAIrt379bBgweVl5fnLHM4HBo0aFClB4Yz2AYGAABYza0A+N133+maa67Rzp075XA4iu3DV1BQYN0I/RwrgAAAwGpu3QIeP368YmNj9dNPP6l69er66quv9MEHH6hjx47avHmzxUP0bwRAAABgNbdWADMyMvTee++pXr16CggIUEBAgLp3767U1FSNGzdOmZmZVo/TbxEAAQCA1dxaASwoKFDNmjUlnflWjSNHjkiSYmJitHfvXutGBwIgAACwnFsrgG3bttWXX36ppk2bqnPnznr88ccVEhKi5557Tk2bNrV6jH6tKADyuUoAAGAVtwLggw8+qN9//12S9PDDD2vgwIHq0aOH6tSpo9WrV1s6QH/HCiAAALCaWwGwT58+zv9u2rSpdu/erZ9//lm1atVyPgkMa7ANDAAAsFql9gE8W+3ata1qCmdhBRAAAFitQgFw7Nix5aq3dOlStwaD4giAAADAahUKgM8//7xiYmIUHx8vN75CGG4gAAIAAKtVKAAmJSVp1apV+u677zR27FjddNNN3Pq1GQEQAABYrUL7AM6fP19Hjx7V5MmT9cYbb6hRo0a67rrr9Pbbb7MiaBO2gQEAAFar8EbQoaGhGjlypNLS0rR79261adNG//jHPxQTE6PffvvNjjH6NVYAAQCA1dz6JpAiDodDDodDxhgVFhZaNSachW1gAACA1SocAE+dOqWVK1eqd+/e+tvf/qadO3dq7ty5OnjwoPPr4WAdVgABAIDVKvQQyD/+8Q+tWrVKjRs31i233KJVq1apTp06do0NIgACAADrVSgALly4UI0bN1ZsbKzS09OVnp5eYr21a9daMjgQAAEAgPUqFABvvvlmvuqtihEAAQCA1Sq8ETSqFtvAAAAAq1XqKWDYjxVAAABgNQKgl2MbGAAAYDUCoJdjBRAAAFiNAOjlCIAAAMBqBEAvRwAEAABWIwB6OQIgAACwGgHQyxEAAQCA1QiAXo59AAEAgNUIgF6OFUAAAGA1AqCXYx9AAABgNQKgl2MFEAAAWI0A6OUIgAAAwGoEQC9HAAQAAFYjAHo5AiAAALAaAdDLsQ0MAACwGgHQy7ECCAAArEYA9HJsAwMAAKxGAPRyrAACAACrEQC9HAEQAABYjQDo5QiAAADAagRAL0cABAAAViMAejm2gQEAAFYjAHo5VgABAIDVCIBe7uxtYIwxHh4NAAA4HxAAvVzRCqAkFRYWenAkAADgfEEA9HJnB0BuAwMAACsQAL0cARAAAFiNAOjlCIAAAMBqBEAvRwAEAABWIwB6uYCA//2I2AsQAABYgQDo5RwOh8tWMAAAAJVFAPQBbAYNAACsRAD0AQRAAABgJQKgDyAAAgAAKxEAfQABEAAAWIkA6AMIgAAAwEoEQB9QFADZBgYAAFiBAOgDWAEEAABWIgD6APYBBAAAViIA+gBWAAEAgJUIgD6AAAgAAKxEAPQBBEAAAGAlAqAPIAACAAArEQB9AAEQAABYiQDoA9gHEAAAWIkA6APYBgYAAFiJAOgDuAUMAACsRAD0AQRAAABgJQKgDyAAAgAAK3lFAJw/f75iY2MVFhamhIQEffjhh2XWT09PV0JCgsLCwtS0aVMtXLiwWJ01a9aodevWCg0NVevWrfXqq6+6HJ8xY4YcDofLKyoqytLrsgoBEAAAWMnjAXD16tWaMGGCHnjgAWVmZqpHjx7q16+fDh48WGL9AwcOqH///urRo4cyMzN1//33a9y4cVqzZo2zTkZGhkaMGKFRo0bpiy++0KhRo3Tddddp69atLm21adNGR48edb527txp67W6iwAIAACs5PEA+PTTT+vWW2/Vbbfdpri4OM2ePVuNGjXSggULSqy/cOFCNW7cWLNnz1ZcXJxuu+02jR07Vk8++aSzzuzZs9W7d29NmTJFrVq10pQpU3T11Vdr9uzZLm0FBQUpKirK+apXr56dl+o2toEBAABW8mgAzMvL07Zt25SYmOhSnpiYqC1btpR4TkZGRrH6ffr00eeff67Tp0+XWeevbe7bt0/R0dGKjY3V9ddfr++++67M8Z46dUq5ubkur6rANjAAAMBKHg2A2dnZKigoUP369V3K69evr6ysrBLPycrKKrF+fn6+srOzy6xzdpudO3fW8uXL9fbbb2vRokXKyspSt27ddPz48VLHm5qaqsjISOerUaNGFbped3ELGAAAWMnjt4AlyeFwuLw3xhQrO1f9v5afq81+/fpp2LBhateunXr16qUNGzZIkl544YVS+50yZYpycnKcr0OHDp3jyqxBAAQAAFYK8mTndevWVWBgYLHVvmPHjhVbwSsSFRVVYv2goCDVqVOnzDqltSlJNWrUULt27bRv375S64SGhio0NLTMa7IDARAAAFjJoyuAISEhSkhIUFpamkt5WlqaunXrVuI5Xbt2LVZ/06ZN6tixo4KDg8usU1qb0pnP9+3Zs0cNGjRw51JsRQAEAABW8vgt4OTkZC1evFhLly7Vnj17NHHiRB08eFBJSUmSztx2vfnmm531k5KS9MMPPyg5OVl79uzR0qVLtWTJEk2aNMlZZ/z48dq0aZMee+wxff3113rsscf0zjvvaMKECc46kyZNUnp6ug4cOKCtW7dq+PDhys3N1ejRo6vs2suLAAgAAKzk0VvAkjRixAgdP35cM2fO1NGjR9W2bVtt3LhRMTExkqSjR4+67AkYGxurjRs3auLEiZo3b56io6P17LPPatiwYc463bp106pVq/Tggw9q6tSpatasmVavXq3OnTs76/z4448aOXKksrOzVa9ePXXp0kWffPKJs19vwjYwAADASg5T9AQFKiw3N1eRkZHKyclRRESEbf1MmjRJTz31lO655x49/vjjtvUDAIA/qKrf397M47eAcW7cAgYAAFYiAPoAAiAAALASAdAHEAABAICVCIA+gAAIAACsRAD0AQRAAABgJQKgDyAAAgAAKxEAfUBgYKAk9gEEAADWIAD6AFYAAQCAlQiAPoAACAAArEQA9AEEQAAAYCUCoA8gAAIAACsRAH0AARAAAFiJAOgDCIAAAMBKBEAfUBQA2QYGAABYgQDoA4r2AWQFEAAAWIEA6AO4BQwAAKxEAPQBBEAAAGAlAqAPIAACAAArEQB9AAEQAABYiQDoAwiAAADASgRAH8A2MAAAwEoEQB/ANjAAAMBKBEAfwC1gAABgJQKgDyAAAgAAKxEAfQABEAAAWIkA6AMIgAAAwEoEQB9AAAQAAFYiAPoAAiAAALASAdAHFG0Dwz6AAADACgRAH8AKIAAAsBIB0AcUBUBjjAoLCz08GgAA4OsIgD6gKABKrAICAIDKIwD6AAIgAACwEgHQBxAAAQCAlQiAPoAACAAArEQA9GIzZsxQSkqKcxsY6X9bwaSkpGjGjBkeGhkAAPBlBEAvFhgYqGnTpunhhx9WQMCZH1V+fr5SUlI0bdo0l2AIAABQXkHnrgJPmTp1qiS5hL2nnnpKTz31lGbOnOk8DgAAUBEEQC93dgiURPgDAACV5jDGGE8Pwlfl5uYqMjJSOTk5ioiIsLUvh8MhSQoODlZeXp6tfQEAcD6ryt/f3orPAPqAlJQU53+fPn3a5T0AAEBFEQC9XNEDH3//+98lndkSZtq0aYRAAADgNgKgFysKfzNnztTChQsVFxen/Px8DRkyhBAIAADcRgD0YgUFBc4HPhwOh8aMGSNJys7O1syZM517AgIAAFQED4FUQlV/iPTIkSNq1KiRCgsL9c0336hFixa29wkAwPmGh0BYAfQp0dHR6tOnjyTphRde8PBoAACAryIA+phbbrlF0pkAyC1gAADgDgKgjxk0aJBq1aqlH3/8Ue+9956nhwMAAHwQAdDHhIWFaeTIkZKk559/3rODAQAAPokA6IOKngZeu3atcnJyPDsYAADgcwiAPqhjx45q3bq1Tp48qf/85z+eHg4AAPAxBEAfdPaegNwGBgAAFUUA9FE33XSTAgMDtWXLFn3zzTeeHg4AAPAhBEAf1aBBA/Xt21cSewICAICKIQD6sKLbwMuXL2dPQAAAUG4EQB/GnoAAAMAdBEAfFhoaqhtuuEESD4MAAIDyIwD6uLP3BPz11189OhYAAOAbCIA+LiEhQW3atGFPQAAAUG4EQB/HnoAAAKCiCIA+bsaMGTp27JgCAwOVkZGhvXv3Oo+lpKRoxowZnhscAADwSgRAHxcYGKgnnnhCzZo1k/S/PQFTUlI0bdo0BQYGenJ4AADACwV5egConKlTp0qSpk2bJunMnoD5+fl64oknNHPmTOdxAACAIqwAngemTp3qDICHDx/WE088oejoaBUUFOizzz5TYWGhh0cIAAC8icMYYzw9CF+Vm5uryMhI5eTkKCIiwtPDUUhIiE6fPl2svH79+urfv78GDBig3r17e8VYAQDwFG/7/e0JrACeJ1JSUnT69GmFhIRIkoYOHaphw4apZs2a+umnn7Rs2TINHz5cdevWVa9evTR79mzt27fPw6MGAACeQAA8DxQ98DFz5kydOnVKM2fO1GuvvaaLL75Yx48f1zvvvKMJEyaoRYsWOn36tN59911NnDhRLVu2VMuWLZWcnKx3331XeXl5nr4UAABQBbgFXAnesIR8dvg7+4GP0sq/+eYbbdiwQRs2bFB6erry8/Odx8LDw5WYmKgBAwaof//+ql+/fpVeCwAAVcEbfn97GgGwErzhD9CMGTMUGBhY4tO+KSkpKigoKHUvwNzcXKWlpWn9+vXauHGjjh075nK8U6dOGjBggAYOHKj4+HgFBARUqj8AALyBN/z+9jjjBebNm2eaNGliQkNDTYcOHcwHH3xQZv3NmzebDh06mNDQUBMbG2sWLFhQrM4rr7xi4uLiTEhIiImLizNr166tdL9/lZOTYySZnJycCp3njQoKCsynn35qpk2bZhISEowkl1dUVJS59dZbzfXXX28kmZkzZ7qcP3PmzBLLvcH06dNLHdfMmTPN9OnTq3ZA5zHmGkBlVNXfIefT7293eTwArlq1ygQHB5tFixaZ3bt3m/Hjx5saNWqYH374ocT63333nalevboZP3682b17t1m0aJEJDg42r7zyirPOli1bTGBgoHn00UfNnj17zKOPPmqCgoLMJ5984na/JTmf/wAdOXLELF682FxzzTWmRo0aLmEwICDASDJ9+/Y1L730kjMUjhkzxnz88cdm27ZtZteuXWb//v3mxx9/NNnZ2ea3334zp0+f9si1lBZOvTm0+irmGkBlVNXfIefz7+/y8vgt4M6dO6tDhw5asGCBsywuLk5Dhw5VampqsfqTJ0/WunXrtGfPHmdZUlKSvvjiC2VkZEiSRowYodzcXL355pvOOn379lWtWrW0cuVKt/otib8sIZ86dUoffPCB1q9fr/Xr1+u7775zu63AwECFhYU5X6GhoS7v7SqbO3euUlNTNWPGDE2fPr3Uz0ii8v46t8w1gIqoir9D/OX3d1k8GgDz8vJUvXp1vfzyy7rmmmuc5ePHj9eOHTuUnp5e7JzLL79c8fHxeuaZZ5xlr776qq677jr98ccfCg4OVuPGjTVx4kRNnDjRWeef//ynZs+erR9++MGtfqUzQejUqVPO97m5uWrUqJFf/QEyxmjv3r3asGGD7r33XhUWFsrhcKhDhw46efKkTp48qVOnTjn/++TJky4PmngTh8OhwMBAORwO5/uzX38tK0+dypR5a1vutP/tt99q//79cjgcMsaoRYsWatGihds/p8rg/Mqd7w1j4Hz/+xnu3LlTO3fuVEBAgAoLCy3/ByQB0MNfBZedna2CgoJiT5vWr19fWVlZJZ6TlZVVYv38/HxlZ2erQYMGpdYpatOdfiUpNTVVDz30ULmv73zkcDjUqlUrvfzyyyosLFRISIjy8vI0ZMiQUv/PWVBQUCwU/vV9ZcrOVefPP/8s8dtQjDFeG07PF0X/vty3bx/7TgKosMLCwlIfPETleMV3Af/1XwbGmDL/tVBS/b+Wl6fNivY7ZcoUJScnO98XrQD6m9KW5yWV+H/SwMBAVa9eXdWrV6/qoTrl5+froYce0sMPP+wMrZMmTdKECRMknfnZn/0qT5m75/lSW+62/9prr+nVV19VUFCQ8vPzdc0112jw4MEV/rlV9gYF51f+Bo+nx8D5/vkz3LRpk958800FBgaqoKBAKSkphECLeTQA1q1bV4GBgcVW3Y4dO1bqHnRRUVEl1g8KClKdOnXKrFPUpjv9SlJoaKhCQ0PLd3HnqZI+i1H0v2WFQE9LTU3Vww8/XCy0RkREeOV4fVlKSopeffXVYnMdHx/PXAM4p5SUFL355pvlXmSAm8rxoIitLr30UnPHHXe4lMXFxZn77ruvxPr33nuviYuLcylLSkoyXbp0cb6/7rrrTL9+/Vzq9O3b11x//fVu91sSf3yKyBe3+eDJ1KrDXAOoDJ4CrjoevwWcnJysUaNGqWPHjuratauee+45HTx4UElJSZLO3HY9fPiwli9fLunME79z585VcnKybr/9dmVkZGjJkiXOp3ulMw9zXH755Xrsscc0ZMgQvf7663rnnXf00UcflbtflKysTZ699V9mBQUFJX6AuOh9QUGBJ4Z1XmKuAVQGf4dUIU8nUGPObMgcExNjQkJCTIcOHUx6errz2OjRo03Pnj1d6m/evNnEx8ebkJAQ06RJkxI3gn755ZfN3/72NxMcHGxatWpl1qxZU6F+y4N/QQAA4Hv4/e0F+wD6Mh4jBwDA9/D7Wwrw9AAAAABQtQiAAAAAfoYACAAA4GcIgAAAAH6GAAgAAOBnCIAAAAB+hgAIAADgZwiAAAAAfoYACAAA4Gc8/l3AvqzoS1Ryc3M9PBIAAFBeRb+3/fnL0AiAlXDixAlJUqNGjTw8EgAAUFEnTpxQZGSkp4fhEXwXcCUUFhbqyJEjCg8Pl8PhcLud3NxcNWrUSIcOHfLb7ySsKsx11WGuqw5zXXWY66pj51wbY3TixAlFR0crIMA/Pw3HCmAlBAQEqGHDhpa1FxERwV8oVYS5rjrMddVhrqsOc1117Jprf135K+KfsRcAAMCPEQABAAD8DAHQC4SGhmr69OkKDQ319FDOe8x11WGuqw5zXXWY66rDXNuLh0AAAAD8DCuAAAAAfoYACAAA4GcIgAAAAH6GAAgAAOBnCIAeNn/+fMXGxiosLEwJCQn68MMPPT0kn5OamqpOnTopPDxcF154oYYOHaq9e/e61DHGaMaMGYqOjla1atV0xRVX6KuvvnKpc+rUKd19992qW7euatSoocGDB+vHH3+sykvxOampqXI4HJowYYKzjLm2zuHDh3XTTTepTp06ql69ui655BJt27bNeZy5tkZ+fr4efPBBxcbGqlq1amratKlmzpypwsJCZx3m2j0ffPCBBg0apOjoaDkcDr322msux62a119++UWjRo1SZGSkIiMjNWrUKP366682X52PM/CYVatWmeDgYLNo0SKze/duM378eFOjRg3zww8/eHpoPqVPnz5m2bJlZteuXWbHjh1mwIABpnHjxua3335z1pk1a5YJDw83a9asMTt37jQjRowwDRo0MLm5uc46SUlJ5qKLLjJpaWlm+/bt5sorrzQXX3yxyc/P98Rleb1PP/3UNGnSxLRv396MHz/eWc5cW+Pnn382MTExZsyYMWbr1q3mwIED5p133jH79+931mGurfHwww+bOnXqmPXr15sDBw6Yl19+2dSsWdPMnj3bWYe5ds/GjRvNAw88YNasWWMkmVdffdXluFXz2rdvX9O2bVuzZcsWs2XLFtO2bVszcODAqrpMn0QA9KBLL73UJCUluZS1atXK3HfffR4a0fnh2LFjRpJJT083xhhTWFhooqKizKxZs5x1Tp48aSIjI83ChQuNMcb8+uuvJjg42KxatcpZ5/DhwyYgIMC89dZbVXsBPuDEiROmRYsWJi0tzfTs2dMZAJlr60yePNl079691OPMtXUGDBhgxo4d61J27bXXmptuuskYw1xb5a8B0Kp53b17t5FkPvnkE2edjIwMI8l8/fXXNl+V7+IWsIfk5eVp27ZtSkxMdClPTEzUli1bPDSq80NOTo4kqXbt2pKkAwcOKCsry2WuQ0ND1bNnT+dcb9u2TadPn3apEx0drbZt2/LzKMGdd96pAQMGqFevXi7lzLV11q1bp44dO+r//u//dOGFFyo+Pl6LFi1yHmeurdO9e3e9++67+uabbyRJX3zxhT766CP1799fEnNtF6vmNSMjQ5GRkercubOzTpcuXRQZGcnclyHI0wPwV9nZ2SooKFD9+vVdyuvXr6+srCwPjcr3GWOUnJys7t27q23btpLknM+S5vqHH35w1gkJCVGtWrWK1eHn4WrVqlXatm2bPv/882LHmGvrfPfdd1qwYIGSk5N1//3369NPP9W4ceMUGhqqm2++mbm20OTJk5WTk6NWrVopMDBQBQUFeuSRRzRy5EhJ/Lm2i1XzmpWVpQsvvLBY+xdeeCFzXwYCoIc5HA6X98aYYmUov7vuuktffvmlPvroo2LH3Jlrfh6uDh06pPHjx2vTpk0KCwsrtR5zXXmFhYXq2LGjHn30UUlSfHy8vvrqKy1YsEA333yzsx5zXXmrV6/WihUr9NJLL6lNmzbasWOHJkyYoOjoaI0ePdpZj7m2hxXzWlJ95r5s3AL2kLp16yowMLDYv06OHTtW7F9DKJ+7775b69at0/vvv6+GDRs6y6OioiSpzLmOiopSXl6efvnll1Lr4MztmGPHjikhIUFBQUEKCgpSenq6nn32WQUFBTnnirmuvAYNGqh169YuZXFxcTp48KAk/lxb6Z577tF9992n66+/Xu3atdOoUaM0ceJEpaamSmKu7WLVvEZFRemnn34q1v5///tf5r4MBEAPCQkJUUJCgtLS0lzK09LS1K1bNw+NyjcZY3TXXXdp7dq1eu+99xQbG+tyPDY2VlFRUS5znZeXp/T0dOdcJyQkKDg42KXO0aNHtWvXLn4eZ7n66qu1c+dO7dixw/nq2LGjbrzxRu3YsUNNmzZlri1y2WWXFdvO6JtvvlFMTIwk/lxb6Y8//lBAgOuvw8DAQOc2MMy1Paya165duyonJ0effvqps87WrVuVk5PD3JfFE0+e4IyibWCWLFlidu/ebSZMmGBq1Khhvv/+e08PzafccccdJjIy0mzevNkcPXrU+frjjz+cdWbNmmUiIyPN2rVrzc6dO83IkSNL3GqgYcOG5p133jHbt283V111ld9v4VAeZz8FbAxzbZVPP/3UBAUFmUceecTs27fPvPjii6Z69epmxYoVzjrMtTVGjx5tLrroIuc2MGvXrjV169Y19957r7MOc+2eEydOmMzMTJOZmWkkmaefftpkZmY6tzuzal779u1r2rdvbzIyMkxGRoZp164d28CcAwHQw+bNm2diYmJMSEiI6dChg3PrEpSfpBJfy5Ytc9YpLCw006dPN1FRUSY0NNRcfvnlZufOnS7t/Pnnn+auu+4ytWvXNtWqVTMDBw40Bw8erOKr8T1/DYDMtXXeeOMN07ZtWxMaGmpatWplnnvuOZfjzLU1cnNzzfjx403jxo1NWFiYadq0qXnggQfMqVOnnHWYa/e8//77Jf79PHr0aGOMdfN6/Phxc+ONN5rw8HATHh5ubrzxRvPLL79U0VX6Jocxxnhm7REAAACewGcAAQAA/AwBEAAAwM8QAAEAAPwMARAAAMDPEAABAAD8DAEQAADAzxAAAQAA/AwBEAAAwM8QAAEAAPwMARAAPOCKK67QhAkTbO/n+PHjuvDCC/X999/b3ldZhg8frqefftqjYwDwPwRA4DwxZswYDR061NPD8HpVFbzOZe3atUpJSbG9n9TUVA0aNEhNmjSRJH3wwQcaNGiQoqOj5XA49Nprr5V67pgxY3Tfffe5lG3ZskUOh0N9+/at0DimTZumRx55RLm5uRW9BAA2IAACsExeXp6nh+AzateurfDwcFv7+PPPP7VkyRLddtttzrLff/9dF198sebOnVvmuYWFhdqwYYOGDBniUr506VKNHDlS77//vg4ePFjusbRv315NmjTRiy++WLGLAGALAiBwnrriiis0btw43Xvvvapdu7aioqI0Y8YMSdK//vUvXXTRRSosLHQ5Z/DgwRo9erTzvTFGjz/+uJo2bapq1arp4osv1iuvvOLSx1133aXk5GTVrVtXvXv3liS98sorateunapVq6Y6deqoV69e+v3338vV5l99//33cjgcxV5XXHFFqeeU1v+YMWOUnp6uZ555xtnO999/X64xFV3rXXfdpQsuuEB16tTRgw8+KGNMhcdR1F7RSmR5rrGi8yZJb775poKCgtS1a1dnWb9+/fTwww/r2muvLfPcjz/+WAEBAercubOz7Pfff9fq1as1YcIEXXXVVXr++eddznn00UdLvI6iW7+DBw/WypUry+wXQBUxAM4Lo0ePNkOGDHG+79mzp4mIiDAzZsww33zzjXnhhReMw+EwmzZtMsePHzchISHmnXfecdb/+eefTUhIiHn77bedZffff79p1aqVeeutt8y3335rli1bZkJDQ83mzZudfdSsWdPcc8895uuvvzZ79uwxR44cMUFBQebpp582Bw4cMF9++aWZN2+eOXHiRLna/Kv8/Hxz9OhR5yszM9PUqVPHTJ06tcT6ZfX/66+/mq5du5rbb7/d2V5+fn65xlR0rePHjzdff/21WbFihalevbp57rnnKjyOovbGjx9f7mus6LwZY8z48eNN3759Sz0uybz66qslHps0aZK59dZbXcqWLFlimjdvbowx5t///rdp0qSJKSwsdB7Pzc11uY477rjDxMTEmEOHDhljjNm4caMJDQ01J0+eLHVMAKoGARA4T5QUALt37+5Sp1OnTmby5MnGGGMGDx5sxo4d6zz2r3/9y0RFRZn8/HxjjDG//fabCQsLM1u2bHFp49ZbbzUjR4509nHJJZe4HN+2bZuRZL7//vtiYyxPm2X5888/TefOnc3AgQNNQUFBiXXK6r9ozEXBqyJj6tmzp4mLi3MJPJMnTzZxcXGWjKOsa3R33oYMGeLyM/6rsgJgy5Ytzbp161zKunXrZqZPn26MMebEiROmevXqJi0trcTzZ8yYYWJiYlyu/4svvihzTgBUnSBPrj4CsFf79u1d3jdo0EDHjh2TJN144436+9//rvnz5ys0NFQvvviirr/+egUGBkqSdu/erZMnTzpv6xbJy8tTfHy8833Hjh1djl988cW6+uqr1a5dO/Xp00eJiYkaPny4atWqVe42S3PrrbfqxIkTSktLU0BAyZ9gKav/klRkTF26dJHD4XC+79q1q5566ikVFBQ4583dcZR1je7O259//qmwsLAy+yvJnj179OOPP6pXr17Osr1792rLli1atmyZJKlmzZoaMmSIli5d6lJPkh566CEtW7ZM6enpiomJcZZXq1ZNkvTHH39UeEwArEUABM5jwcHBLu8dDofzc3+DBg1yftC/U6dO+vDDD1226Siqt2HDBl100UUu7YSGhjr/u0aNGi7HAgMDlZaWpi1btmjTpk2aM2eOHnjgAW3durXcbZbk4Ycf1ltvvaVPP/20zIcnyuo/Nja2WP3KjKksFR1HWdfo7hjr1q2rX375pcJjX7dunXr37u0MbJK0ZMkSderUSS1btnSW3XjjjRo2bJh++eUXZ7AtLfxJ0s8//yxJqlevXoXHBMBaPAQC+Klq1arp2muv1YsvvqiVK1eqZcuWSkhIcB5v3bq1QkNDdfDgQTVv3tzl1ahRozLbdjgcuuyyy/TQQw8pMzNTISEhevXVV91uc82aNZo5c6b+85//qFmzZue8ttL6l6SQkBAVFBS4dZ2ffPJJsfctWrQotvpXnnFU5Brdnbf4+Hjt3r279Ikqxeuvv67Bgwc73+fn52v58uW64YYbXOr16dNH4eHhzid7ywp/krRr1y41bNhQdevWrfCYAFiLFUDAj914440aNGiQvvrqK910000ux8LDwzVp0iRNnDhRhYWF6t69u3Jzc7VlyxbVrFnT5Wnhs23dulXvvvuuEhMTdeGFF2rr1q3673//q7i4OLfa3LVrl26++WZNnjxZbdq0UVZWlqQzQa527doV6l+SmjRpoq1bt+r7779XzZo1Vbt27XKP6dChQ0pOTtb/+3//T9u3b9ecOXP01FNPVXgeKnqN7v4s+vTpoylTpris0P3222/av3+/s86BAwe0Y8cO1a5dW40bN9axY8f02WefuewPuH79ev30009q27atdu3a5dJHjx49tGTJEv3666+aO3eu1q9fr9DQUOc11KpVy7lK+eGHHyoxMbHEsQKoYp7+ECIAa5T0EMhfHzIYMmSIGT16tPN9fn6+adCggZFkvv3222JtFhYWmmeeecb87W9/M8HBwaZevXqmT58+Jj09vdQ+du/ebfr06WPq1atnQkNDTcuWLc2cOXPK3eZfLVu2zEgq9urZs2eJ9c/V/969e02XLl1MtWrVjCRz4MCBco2pZ8+e5h//+IdJSkoyERERplatWua+++5zeSikIuM4e+7Kc40VnbciXbp0MQsXLnS+f//990vsq+jPxeLFi81ll13m0sbAgQNLPOfsV82aNUss/+STT4wxZx5uiYiIMBkZGWWOF0DVcBhTxiZWAABJZ/btu+SSSzR79mxPD6VCNm7cqEmTJmnXrl2lPjhztsGDB6t79+669957LR3HvHnz9Prrr2vTpk2WtgvAPdwCBoDzWP/+/bVv3z4dPnz4nJ/dlKTu3btr5MiRlo8jODhYc+bMsbxdAO5hBRAAysFXVwABoCQEQAAAAD/DNjAAAAB+hgAIAADgZwiAAAAAfoYACAAA4GcIgAAAAH6GAAgAAOBnCIAAAAB+5v8D18nR8nSw7BsAAAAASUVORK5CYII=' width=640.0/>\n",
       "            </div>\n",
       "        "
      ],
      "text/plain": [
       "Canvas(toolbar=Toolbar(toolitems=[('Home', 'Reset original view', 'home', 'home'), ('Back', 'Back to previous …"
      ]
     },
     "metadata": {},
     "output_type": "display_data"
    }
   ],
   "source": [
    "inv_z = np.linspace(0, max(inv_dz_vals), 1000)\n",
    "plt.figure()\n",
    "plt.title('Max error for $\\\\lambda = 4$')\n",
    "plt.ylabel('Max error')\n",
    "plt.xlabel('Inverse z step size $(1 / \\Delta z)$')\n",
    "plt.xlim\n",
    "plt.plot(inv_dz_vals, real_max_errors, marker='x', color='black', label='Max error/step size data points')\n",
    "plt.show()"
   ]
  },
  {
   "cell_type": "code",
   "execution_count": 88,
   "id": "82b0b33c-f01f-46a5-a34d-9fce01d82d58",
   "metadata": {},
   "outputs": [
    {
     "data": {
      "application/vnd.jupyter.widget-view+json": {
       "model_id": "8bb47d331b9b484aafc672d913226979",
       "version_major": 2,
       "version_minor": 0
      },
      "image/png": "[encoded data removed]",
      "text/html": [
       "\n",
       "            <div style=\"display: inline-block;\">\n",
       "                <div class=\"jupyter-widgets widget-label\" style=\"text-align: center;\">\n",
       "                    Figure\n",
       "                </div>\n",
       "                <img src='data:image/png;base64,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' width=640.0/>\n",
       "            </div>\n",
       "        "
      ],
      "text/plain": [
       "Canvas(toolbar=Toolbar(toolitems=[('Home', 'Reset original view', 'home', 'home'), ('Back', 'Back to previous …"
      ]
     },
     "metadata": {},
     "output_type": "display_data"
    }
   ],
   "source": [
    "inv_z = np.linspace(0, max(inv_dz_vals), 1000)\n",
    "plt.figure()\n",
    "plt.title('Max error for $\\\\lambda = 4$')\n",
    "plt.ylabel('Max error')\n",
    "plt.xlabel('Inverse z step size $(1 / \\Delta z)$')\n",
    "plt.xlim\n",
    "plt.loglog(inv_dz_vals, real_max_errors, marker='x', color='black', label='Max error/step size data points')\n",
    "plt.show()"
   ]
  },
  {
   "cell_type": "markdown",
   "id": "33638390-0dc1-4305-a56c-2671c60fcafe",
   "metadata": {
    "jp-MarkdownHeadingCollapsed": true,
    "tags": []
   },
   "source": [
    "### 5. $\\lambda = \\frac{\\Delta t}{\\Delta z} = 3$"
   ]
  },
  {
   "cell_type": "code",
   "execution_count": 89,
   "id": "6e5db727-2f7b-48f3-b7b8-a0229049e609",
   "metadata": {},
   "outputs": [],
   "source": [
    "# Empty list to store max error values\n",
    "L5_max_errors = []\n",
    "L5_real_max_errors = []\n",
    "# Empty list to store dt and dz's\n",
    "L5_dt_vals = []\n",
    "L5_dz_vals = []\n"
   ]
  },
  {
   "cell_type": "markdown",
   "id": "9966d229-e888-4e36-aeb4-57228169b158",
   "metadata": {
    "jp-MarkdownHeadingCollapsed": true,
    "tags": []
   },
   "source": [
    "#### 5.1 Parameters $\\Delta z = 0.1, \\Delta t = 0.3$"
   ]
  },
  {
   "cell_type": "code",
   "execution_count": 90,
   "id": "4840b10f-bbf5-48d7-a508-63e4d065c498",
   "metadata": {},
   "outputs": [],
   "source": [
    "dZ=0.1\n",
    "dt=0.3"
   ]
  },
  {
   "cell_type": "code",
   "execution_count": 91,
   "id": "cd5a2961-6a4c-4955-99ee-18746c079514",
   "metadata": {},
   "outputs": [
    {
     "name": "stdout",
     "output_type": "stream",
     "text": [
      "Stepsizes: dz = 0.10013855831631045 and dt = 0.2857142857142857\n",
      "lambda = 2.8531895257747975\n",
      "\n",
      " Tridiagonal system coefficients:\n",
      "lower diag values = -0.1540284915403157\n",
      "diag values = 1.323396830113039\n",
      "upper diag values = -0.1665111957155804\n",
      "\n",
      " ENTIRE S DOMAIN ERRORS\n",
      "1. Maximal error: 360.1741925741099 \n",
      "\n",
      "located at 290, z value of 6.014330981789573, S value of 409.2519503012083 \n",
      "\n",
      "2. Absolute sum of errors: 1212.0236183766972\n",
      "\n",
      " REALISTIC S DOMAIN ERRORS\n",
      "1. Maximal error: 0.01909853362407654 \n",
      "\n",
      "located at 253, z value of 2.309204324086089, S value of 10.066411866183358 \n",
      "\n",
      "2. Absolute sum of errors: 0.10902039945718445\n"
     ]
    }
   ],
   "source": [
    "L5P1 = PV_Rannacher(dt=dt, dZ=dZ, R=2)"
   ]
  },
  {
   "cell_type": "code",
   "execution_count": 92,
   "id": "fc5461bf-e81b-4290-a361-504f24c64bc5",
   "metadata": {},
   "outputs": [],
   "source": [
    "L5_max_errors.append(L5P1[0])\n",
    "L5_real_max_errors.append(L5P1[1])\n",
    "L5_dt_vals.append(dt)\n",
    "L5_dz_vals.append(dZ)"
   ]
  },
  {
   "cell_type": "markdown",
   "id": "3ead972b-f536-4088-82cd-f891a4089227",
   "metadata": {
    "jp-MarkdownHeadingCollapsed": true,
    "tags": []
   },
   "source": [
    "#### 5.2 Parameters $\\Delta z = 0.05, \\Delta t = 0.15$"
   ]
  },
  {
   "cell_type": "code",
   "execution_count": 93,
   "id": "2b379b8e-3550-4295-9315-053b9aa88244",
   "metadata": {},
   "outputs": [],
   "source": [
    "dZ=0.05\n",
    "dt=0.15"
   ]
  },
  {
   "cell_type": "code",
   "execution_count": 94,
   "id": "d8262024-dc0f-46f4-afc0-7bedb510c0b0",
   "metadata": {},
   "outputs": [
    {
     "name": "stdout",
     "output_type": "stream",
     "text": [
      "Stepsizes: dz = 0.049983690646773764 and dt = 0.15384615384615385\n",
      "lambda = 3.0779270569145933\n",
      "\n",
      " Tridiagonal system coefficients:\n",
      "lower diag values = -0.33964681306905264\n",
      "diag values = 1.694298018550568\n",
      "upper diag values = -0.35311274394305403\n",
      "\n",
      " ENTIRE S DOMAIN ERRORS\n",
      "1. Maximal error: 187.6433181738371 \n",
      "\n",
      "located at 581, z value of 6.0146733358350986, S value of 409.39208334822206 \n",
      "\n",
      "2. Absolute sum of errors: 1315.4513118615725\n",
      "\n",
      " REALISTIC S DOMAIN ERRORS\n",
      "1. Maximal error: 0.001915936006351579 \n",
      "\n",
      "located at 500, z value of 1.965994393446426, S value of 7.142011029214633 \n",
      "\n",
      "2. Absolute sum of errors: 0.04137655427904727\n"
     ]
    }
   ],
   "source": [
    "L5P2 = PV_Rannacher(dt=dt, dZ=dZ, R=2)"
   ]
  },
  {
   "cell_type": "code",
   "execution_count": 95,
   "id": "0366daf0-4125-439d-be05-a0ab97e5e4de",
   "metadata": {},
   "outputs": [],
   "source": [
    "L5_max_errors.append(L5P2[0])\n",
    "L5_real_max_errors.append(L5P2[1])\n",
    "L5_dt_vals.append(dt)\n",
    "L5_dz_vals.append(dZ)"
   ]
  },
  {
   "cell_type": "markdown",
   "id": "04cd6d1f-8cc5-43c3-82b7-99646b1604da",
   "metadata": {
    "jp-MarkdownHeadingCollapsed": true,
    "tags": []
   },
   "source": [
    "#### 5.3 Parameters $\\Delta z = 0.025, \\Delta t = 0.075$"
   ]
  },
  {
   "cell_type": "code",
   "execution_count": 96,
   "id": "85a7187f-1708-4e82-934e-33a3dbc5f3bb",
   "metadata": {},
   "outputs": [],
   "source": [
    "dZ = 0.025\n",
    "dt = 0.075"
   ]
  },
  {
   "cell_type": "code",
   "execution_count": 97,
   "id": "7a4a9a2c-d67a-4f7a-b844-4937f054789e",
   "metadata": {},
   "outputs": [
    {
     "name": "stdout",
     "output_type": "stream",
     "text": [
      "Stepsizes: dz = 0.024991845323386882 and dt = 0.07407407407407407\n",
      "lambda = 2.9639297585103486\n",
      "\n",
      " Tridiagonal system coefficients:\n",
      "lower diag values = -0.6606181992945463\n",
      "diag values = 2.3349443320233165\n",
      "upper diag values = -0.6735853919880292\n",
      "\n",
      " ENTIRE S DOMAIN ERRORS\n",
      "1. Maximal error: 89.36044241757372 \n",
      "\n",
      "located at 1162, z value of 6.0146733358350986, S value of 409.39208334822206 \n",
      "\n",
      "2. Absolute sum of errors: 1288.8067908446894\n",
      "\n",
      " REALISTIC S DOMAIN ERRORS\n",
      "1. Maximal error: 0.0005610089172292665 \n",
      "\n",
      "located at 1001, z value of 1.9909862387698105, S value of 7.322752184286526 \n",
      "\n",
      "2. Absolute sum of errors: 0.02124840762289956\n"
     ]
    }
   ],
   "source": [
    "L5P3 = PV_Rannacher(dt=dt, dZ=dZ, R=2)"
   ]
  },
  {
   "cell_type": "code",
   "execution_count": 98,
   "id": "0f08bdcd-b3eb-4c00-8b2b-74952ec849c9",
   "metadata": {},
   "outputs": [],
   "source": [
    "L5_max_errors.append(L5P3[0])\n",
    "L5_real_max_errors.append(L5P3[1])\n",
    "L5_dt_vals.append(dt)\n",
    "L5_dz_vals.append(dZ)"
   ]
  },
  {
   "cell_type": "markdown",
   "id": "5de42aa5-1414-4e23-86a1-ecbf918274f7",
   "metadata": {
    "jp-MarkdownHeadingCollapsed": true,
    "tags": []
   },
   "source": [
    "#### 5.4 Parameters $\\Delta z = 0.01, \\Delta t = 0.03$"
   ]
  },
  {
   "cell_type": "code",
   "execution_count": 99,
   "id": "010a572b-1299-44b5-92f3-265e0b3e8880",
   "metadata": {},
   "outputs": [],
   "source": [
    "dZ=0.01\n",
    "dt=0.03"
   ]
  },
  {
   "cell_type": "code",
   "execution_count": 100,
   "id": "bb9fcf82-e281-4481-a88b-e4d5a81b56ff",
   "metadata": {},
   "outputs": [
    {
     "name": "stdout",
     "output_type": "stream",
     "text": [
      "Stepsizes: dz = 0.010000156986444134 and dt = 0.029850746268656716\n",
      "lambda = 2.9850277659762092\n",
      "\n",
      " Tridiagonal system coefficients:\n",
      "lower diag values = -1.6725220112870203\n",
      "diag values = 4.358402026512874\n",
      "upper diag values = -1.6855815077631662\n",
      "\n",
      " ENTIRE S DOMAIN ERRORS\n",
      "1. Maximal error: 37.52828993018068 \n",
      "\n",
      "located at 2904, z value of 6.014604958693308, S value of 409.364091244712 \n",
      "\n",
      "2. Absolute sum of errors: 1391.357769891705\n",
      "\n",
      " REALISTIC S DOMAIN ERRORS\n",
      "1. Maximal error: 9.476045465817151e-05 \n",
      "\n",
      "located at 2535, z value of 2.324547030695424, S value of 10.222048762627221 \n",
      "\n",
      "2. Absolute sum of errors: 0.008918189779357998\n"
     ]
    }
   ],
   "source": [
    "L5P4 = PV_Rannacher(dt=dt, dZ=dZ, R=2)"
   ]
  },
  {
   "cell_type": "code",
   "execution_count": 101,
   "id": "b3201123-8d4b-4e59-a17c-65ba34663b25",
   "metadata": {},
   "outputs": [],
   "source": [
    "L5_max_errors.append(L5P4[0])\n",
    "L5_real_max_errors.append(L5P4[1])\n",
    "L5_dt_vals.append(dt)\n",
    "L5_dz_vals.append(dZ)"
   ]
  },
  {
   "cell_type": "markdown",
   "id": "95c4a97f-df9d-4455-8dca-ae74cf062d1d",
   "metadata": {
    "jp-MarkdownHeadingCollapsed": true,
    "tags": []
   },
   "source": [
    "#### 5.5 Parameters: $\\Delta z = 0.005, \\Delta t = 0.015$"
   ]
  },
  {
   "cell_type": "code",
   "execution_count": 102,
   "id": "73b92985-e71d-424e-b326-6704f1a4fd14",
   "metadata": {},
   "outputs": [],
   "source": [
    "dZ=0.005\n",
    "dt=0.015"
   ]
  },
  {
   "cell_type": "code",
   "execution_count": 103,
   "id": "7f831407-87e6-45e9-9dcb-d8163a8ec4ac",
   "metadata": {},
   "outputs": [
    {
     "name": "stdout",
     "output_type": "stream",
     "text": [
      "Stepsizes: dz = 0.005000078493222067 and dt = 0.015037593984962405\n",
      "lambda = 3.007471583765504\n",
      "\n",
      " Tridiagonal system coefficients:\n",
      "lower diag values = -3.376773573600174\n",
      "diag values = 7.7668552113191724\n",
      "upper diag values = -3.3899312617791484\n",
      "\n",
      " ENTIRE S DOMAIN ERRORS\n",
      "1. Maximal error: 20.624898192272497 \n",
      "\n",
      "located at 5810, z value of 6.024605115679751, S value of 413.4783336704678 \n",
      "\n",
      "2. Absolute sum of errors: 1568.5093027250105\n",
      "\n",
      " REALISTIC S DOMAIN ERRORS\n",
      "1. Maximal error: 2.17285868368694e-05 \n",
      "\n",
      "located at 5003, z value of 1.9895417716495452, S value of 7.312182345256763 \n",
      "\n",
      "2. Absolute sum of errors: 0.004233058775821603\n"
     ]
    }
   ],
   "source": [
    "L5P5 = PV_Rannacher(dt=dt, dZ=dZ, R=2)"
   ]
  },
  {
   "cell_type": "code",
   "execution_count": 104,
   "id": "c3799a7d-af54-4b58-9809-947a0cece55c",
   "metadata": {},
   "outputs": [],
   "source": [
    "L5_max_errors.append(L5P5[0])\n",
    "L5_real_max_errors.append(L5P5[1])\n",
    "L5_dt_vals.append(dt)\n",
    "L5_dz_vals.append(dZ)"
   ]
  },
  {
   "cell_type": "markdown",
   "id": "c8787daa-0cb8-45e9-a670-ead2c0b5d666",
   "metadata": {
    "jp-MarkdownHeadingCollapsed": true,
    "tags": []
   },
   "source": [
    "#### 5.6 Parameters: $\\Delta z = 0.0025, \\Delta t = 0.0075$"
   ]
  },
  {
   "cell_type": "code",
   "execution_count": 105,
   "id": "5f10f183-90a5-4071-831a-3bcc56448681",
   "metadata": {},
   "outputs": [],
   "source": [
    "dZ=0.0025\n",
    "dt=0.0075"
   ]
  },
  {
   "cell_type": "code",
   "execution_count": 106,
   "id": "78bfdd97-68bf-4882-8b20-6335dfa772f3",
   "metadata": {},
   "outputs": [
    {
     "name": "stdout",
     "output_type": "stream",
     "text": [
      "Stepsizes: dz = 0.0025000392466110336 and dt = 0.00749063670411985\n",
      "lambda = 2.9962076452495285\n",
      "\n",
      " Tridiagonal system coefficients:\n",
      "lower diag values = -6.734807167352421\n",
      "diag values = 14.48279764951985\n",
      "upper diag values = -6.747915575800388\n",
      "\n",
      " ENTIRE S DOMAIN ERRORS\n",
      "1. Maximal error: 12.421124924883998 \n",
      "\n",
      "located at 11636, z value of 6.064605743625531, S value of 430.3529748175878 \n",
      "\n",
      "2. Absolute sum of errors: 1904.6909942244977\n",
      "\n",
      " REALISTIC S DOMAIN ERRORS\n",
      "1. Maximal error: 5.271110437465865e-06 \n",
      "\n",
      "located at 10139, z value of 2.3220469914488113, S value of 10.196525157840666 \n",
      "\n",
      "2. Absolute sum of errors: 0.00218287334441453\n"
     ]
    }
   ],
   "source": [
    "L5P6 = PV_Rannacher(dt=dt, dZ=dZ, R=2)"
   ]
  },
  {
   "cell_type": "code",
   "execution_count": 107,
   "id": "179fcb45-f02a-4f2d-8bda-aaae94f690cb",
   "metadata": {},
   "outputs": [],
   "source": [
    "L5_max_errors.append(L5P6[0])\n",
    "L5_real_max_errors.append(L5P6[1])\n",
    "L5_dt_vals.append(dt)\n",
    "L5_dz_vals.append(dZ)"
   ]
  },
  {
   "cell_type": "markdown",
   "id": "59b0f2c3-5291-4f7f-af18-a761cc958b54",
   "metadata": {
    "tags": []
   },
   "source": [
    "#### 5.7 Parameters: $\\Delta z = 0.001, \\Delta t = 0.003$"
   ]
  },
  {
   "cell_type": "code",
   "execution_count": 108,
   "id": "5b95bfc3-9d88-4a0c-b0ce-396aec6b403b",
   "metadata": {},
   "outputs": [],
   "source": [
    "dZ=0.001\n",
    "dt=0.003"
   ]
  },
  {
   "cell_type": "code",
   "execution_count": 109,
   "id": "127a390e-ef88-4a48-8f96-698ae278cfd6",
   "metadata": {},
   "outputs": [
    {
     "name": "stdout",
     "output_type": "stream",
     "text": [
      "Stepsizes: dz = 0.0010000156986444135 and dt = 0.0029985007496251873\n",
      "lambda = 2.9984536779671065\n",
      "\n",
      " Tridiagonal system coefficients:\n",
      "lower diag values = -16.859478047224307\n",
      "diag values = 34.73210431429722\n",
      "upper diag values = -16.872596282065416\n",
      "\n",
      " ENTIRE S DOMAIN ERRORS\n",
      "1. Maximal error: 9.607894391523416 \n",
      "\n",
      "located at 29240, z value of 6.214608098422193, S value of 500.00000000000074 \n",
      "\n",
      "2. Absolute sum of errors: 2931.853067516466\n",
      "\n",
      " REALISTIC S DOMAIN ERRORS\n",
      "1. Maximal error: 2.0242198344178064e-06 \n",
      "\n",
      "located at 25337, z value of 2.31154682661305, S value of 10.090020101797625 \n",
      "\n",
      "2. Absolute sum of errors: 0.0012151982663717584\n"
     ]
    }
   ],
   "source": [
    "L5P7 = PV_Rannacher(dt=dt, dZ=dZ, R=2)"
   ]
  },
  {
   "cell_type": "code",
   "execution_count": 110,
   "id": "c2b3bd4a-1159-4e87-abb4-7b4b17703c26",
   "metadata": {},
   "outputs": [],
   "source": [
    "L5_max_errors.append(L5P7[0])\n",
    "L5_real_max_errors.append(L5P7[1])\n",
    "L5_dt_vals.append(dt)\n",
    "L5_dz_vals.append(dZ)"
   ]
  },
  {
   "cell_type": "markdown",
   "id": "be6dc09b-843e-4300-a312-42ab5994adfa",
   "metadata": {
    "jp-MarkdownHeadingCollapsed": true,
    "tags": []
   },
   "source": [
    "#### Additional dz"
   ]
  },
  {
   "cell_type": "code",
   "execution_count": 111,
   "id": "85dee323-73b9-413e-af2f-63fd130ccdfa",
   "metadata": {},
   "outputs": [],
   "source": [
    "# Empty list to store max error values\n",
    "L5a_max_errors = []\n",
    "L5a_real_max_errors = []\n",
    "# Empty list to store dt and dz's\n",
    "L5a_dt_vals = []\n",
    "L5a_dz_vals = []"
   ]
  },
  {
   "cell_type": "code",
   "execution_count": 112,
   "id": "8fdee623-6ab2-494c-a10e-8c582f0441d5",
   "metadata": {},
   "outputs": [],
   "source": [
    "# dZ = 0.075\n",
    "# dt = 0.075*3\n",
    "\n",
    "# L5a1 = PV_Rannacher(dt=dt, dZ=dZ, R=2)\n",
    "# L5a_max_errors.append(L5a1[0])\n",
    "# L5a_real_max_errors.append(L5a1[1])\n",
    "# L5a_dt_vals.append(dt)\n",
    "# L5a_dz_vals.append(dZ)\n",
    "\n",
    "# ###########\n",
    "\n",
    "# dZ = 0.0375\n",
    "# dt = 0.0375*3\n",
    "\n",
    "# L5a2 = PV_Rannacher(dt=dt, dZ=dZ, R=2)\n",
    "# L5a_max_errors.append(L5a2[0])\n",
    "# L5a_real_max_errors.append(L5a2[1])\n",
    "# L5a_dt_vals.append(dt)\n",
    "# L5a_dz_vals.append(dZ)\n",
    "\n",
    "# ###########\n",
    "\n",
    "# dZ = 0.0175\n",
    "# dt = 0.0175*3\n",
    "\n",
    "# L5a3 = PV_Rannacher(dt=dt, dZ=dZ, R=2)\n",
    "# L5a_max_errors.append(L5a3[0])\n",
    "# L5a_real_max_errors.append(L5a3[1])\n",
    "# L5a_dt_vals.append(dt)\n",
    "# L5a_dz_vals.append(dZ)\n",
    "\n",
    "# ###########\n",
    "\n",
    "# dZ = 0.0075\n",
    "# dt = 0.0075*3\n",
    "\n",
    "# L5a4 = PV_Rannacher(dt=dt, dZ=dZ, R=2)\n",
    "# L5a_max_errors.append(L5a4[0])\n",
    "# L5a_real_max_errors.append(L5a4[1])\n",
    "# L5a_dt_vals.append(dt)\n",
    "# L5a_dz_vals.append(dZ)\n",
    "\n",
    "# ###########\n",
    "\n",
    "# dZ = 0.00375\n",
    "# dt = 0.00375*3\n",
    "\n",
    "# L5a5 = PV_Rannacher(dt=dt, dZ=dZ, R=2)\n",
    "# L5a_max_errors.append(L5a5[0])\n",
    "# L5a_real_max_errors.append(L5a5[1])\n",
    "# L5a_dt_vals.append(dt)\n",
    "# L5a_dz_vals.append(dZ)\n",
    "\n",
    "# ###########\n",
    "\n",
    "# dZ = 0.00175\n",
    "# dt = 0.00175*3\n",
    "\n",
    "# L5a6 = PV_Rannacher(dt=dt, dZ=dZ, R=2)\n",
    "# L5a_max_errors.append(L5a6[0])\n",
    "# L5a_real_max_errors.append(L5a6[1])\n",
    "# L5a_dt_vals.append(dt)\n",
    "# L5a_dz_vals.append(dZ)\n",
    "\n",
    "# ###########\n",
    "\n",
    "# dZ = 0.00075\n",
    "# dt = 0.00075*3\n",
    "\n",
    "# L5a7 = PV_Rannacher(dt=dt, dZ=dZ, R=2)\n",
    "# L5a_max_errors.append(L5a7[0])\n",
    "# L5a_real_max_errors.append(L5a7[1])\n",
    "# L5a_dt_vals.append(dt)\n",
    "# L5a_dz_vals.append(dZ)\n",
    "\n",
    "# ###########\n",
    "\n",
    "# dZ = 0.0005\n",
    "# dt = 0.0005*3\n",
    "\n",
    "# L5a8 = PV_Rannacher(dt=dt, dZ=dZ, R=2)\n",
    "# L5a_max_errors.append(L5a8[0])\n",
    "# L5a_real_max_errors.append(L5a8[1])\n",
    "# L5a_dt_vals.append(dt)\n",
    "# L5a_dz_vals.append(dZ)\n",
    "\n",
    "# ###########\n",
    "\n",
    "# dZ = 0.00025\n",
    "# dt = 0.00025*3\n",
    "\n",
    "# L5a9 = PV_Rannacher(dt=dt, dZ=dZ, R=2)\n",
    "# L5a_max_errors.append(L5a9[0])\n",
    "# L5a_real_max_errors.append(L5a9[1])\n",
    "# L5a_dt_vals.append(dt)\n",
    "# L5a_dz_vals.append(dZ)"
   ]
  },
  {
   "cell_type": "markdown",
   "id": "d49c4e35-9939-4ec1-a734-49d4a96d6edf",
   "metadata": {
    "tags": []
   },
   "source": [
    "#### PLOTS of Convergence for decreasing step size"
   ]
  },
  {
   "cell_type": "code",
   "execution_count": 113,
   "id": "424f4d85-d131-450b-b577-c2c94c2099a7",
   "metadata": {},
   "outputs": [],
   "source": [
    "# delta t values\n",
    "dt_vals = np.array(L5_dt_vals + L5a_dt_vals)\n",
    "sorted_indices = np.argsort(dt_vals)\n",
    "dt_vals = np.array([dt_vals[i] for i in sorted_indices])\n",
    "inv_dt_vals = np.divide(np.ones(len(dt_vals)), dt_vals)\n",
    "\n",
    "# delta z values\n",
    "dz_vals = np.array(L5_dz_vals + L5a_dz_vals)\n",
    "dz_vals = np.array([dz_vals[i] for i in sorted_indices])\n",
    "inv_dz_vals = np.divide(np.ones(len(dz_vals)), dz_vals)\n",
    "\n",
    "\n",
    "# max errors in realistic range\n",
    "real_max_errors = np.array(L5_real_max_errors + L5a_real_max_errors)\n",
    "real_max_errors = np.array([real_max_errors[i] for i in sorted_indices])\n",
    "\n",
    "# max errors in entire range\n",
    "max_errors = np.array(L5_max_errors + L5a_max_errors)\n",
    "max_errors = np.array([max_errors[i] for i in sorted_indices])"
   ]
  },
  {
   "cell_type": "markdown",
   "id": "efb59b54-a3c9-4098-a568-5f7d53ae3e32",
   "metadata": {
    "tags": []
   },
   "source": [
    "##### Realistic S domain for 1/dz"
   ]
  },
  {
   "cell_type": "code",
   "execution_count": 114,
   "id": "3ba28f57-b5c2-46ca-89fe-ab23e11c0b13",
   "metadata": {},
   "outputs": [
    {
     "data": {
      "application/vnd.jupyter.widget-view+json": {
       "model_id": "c8d980171c2348c68c4666f1f0611f37",
       "version_major": 2,
       "version_minor": 0
      },
      "image/png": "[encoded data removed]",
      "text/html": [
       "\n",
       "            <div style=\"display: inline-block;\">\n",
       "                <div class=\"jupyter-widgets widget-label\" style=\"text-align: center;\">\n",
       "                    Figure\n",
       "                </div>\n",
       "                <img src='data:image/png;base64,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' width=640.0/>\n",
       "            </div>\n",
       "        "
      ],
      "text/plain": [
       "Canvas(toolbar=Toolbar(toolitems=[('Home', 'Reset original view', 'home', 'home'), ('Back', 'Back to previous …"
      ]
     },
     "metadata": {},
     "output_type": "display_data"
    }
   ],
   "source": [
    "inv_z = np.linspace(0, max(inv_dz_vals), 1000)\n",
    "plt.figure()\n",
    "plt.title('Max error for $\\\\lambda = 3$')\n",
    "plt.ylabel('Max error')\n",
    "plt.xlabel('Inverse z step size $(1 / \\Delta z)$')\n",
    "plt.xlim\n",
    "plt.plot(inv_dz_vals, real_max_errors, marker='x', color='black', label='Max error/step size data points')\n",
    "plt.show()"
   ]
  },
  {
   "cell_type": "code",
   "execution_count": 115,
   "id": "1f82cc08-1d58-4c11-864b-1c4729989a29",
   "metadata": {},
   "outputs": [
    {
     "data": {
      "application/vnd.jupyter.widget-view+json": {
       "model_id": "36f9c907ad2742f6826f4673bbe4c675",
       "version_major": 2,
       "version_minor": 0
      },
      "image/png": "[encoded data removed]",
      "text/html": [
       "\n",
       "            <div style=\"display: inline-block;\">\n",
       "                <div class=\"jupyter-widgets widget-label\" style=\"text-align: center;\">\n",
       "                    Figure\n",
       "                </div>\n",
       "                <img src='data:image/png;base64,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' width=640.0/>\n",
       "            </div>\n",
       "        "
      ],
      "text/plain": [
       "Canvas(toolbar=Toolbar(toolitems=[('Home', 'Reset original view', 'home', 'home'), ('Back', 'Back to previous …"
      ]
     },
     "metadata": {},
     "output_type": "display_data"
    }
   ],
   "source": [
    "inv_z = np.linspace(0, max(inv_dz_vals), 1000)\n",
    "plt.figure()\n",
    "plt.title('Max error for $\\\\lambda = 3$')\n",
    "plt.ylabel('Max error')\n",
    "plt.xlabel('Inverse z step size $(1 / \\Delta z)$')\n",
    "plt.xlim\n",
    "plt.loglog(inv_dz_vals, real_max_errors, marker='x', color='black', label='Max error/step size data points')\n",
    "plt.show()"
   ]
  },
  {
   "cell_type": "markdown",
   "id": "6dda6032-292e-4f5c-ba93-8b074c7b6b37",
   "metadata": {
    "tags": []
   },
   "source": [
    "### 6. $\\lambda = \\frac{\\Delta t}{\\Delta z} = 6$"
   ]
  },
  {
   "cell_type": "code",
   "execution_count": 154,
   "id": "f0dd56e3-5e09-4ed1-8afe-655be93956c4",
   "metadata": {},
   "outputs": [],
   "source": [
    "# Empty list to store max error values\n",
    "L6_max_errors = []\n",
    "L6_real_max_errors = []\n",
    "# Empty list to store dt and dz's\n",
    "L6_dt_vals = []\n",
    "L6_dz_vals = []"
   ]
  },
  {
   "cell_type": "markdown",
   "id": "5838d973-e036-4048-920f-388c3b9a41bc",
   "metadata": {
    "tags": []
   },
   "source": [
    "#### 6.1 Parameters $\\Delta z = 0.1, \\Delta t = 0.6$"
   ]
  },
  {
   "cell_type": "code",
   "execution_count": 155,
   "id": "751a7776-77a6-4dd7-af11-8a642ffa9f7b",
   "metadata": {},
   "outputs": [],
   "source": [
    "dZ=0.1\n",
    "dt=0.3*2"
   ]
  },
  {
   "cell_type": "code",
   "execution_count": 156,
   "id": "1c990d5a-a45e-4581-a1c9-3a3883b4d2e1",
   "metadata": {},
   "outputs": [
    {
     "name": "stdout",
     "output_type": "stream",
     "text": [
      "Stepsizes: dz = 0.10013855831631045 and dt = 0.6666666666666666\n",
      "lambda = 6.65744222680786\n",
      "\n",
      " Tridiagonal system coefficients:\n",
      "lower diag values = -0.35939981359407\n",
      "diag values = 1.754592603597091\n",
      "upper diag values = -0.3885261233363543\n",
      "\n",
      " ENTIRE S DOMAIN ERRORS\n",
      "1. Maximal error: 1105.0963199189764 \n",
      "\n",
      "located at 290, z value of 6.014330981789573, S value of 409.2519503012083 \n",
      "\n",
      "2. Absolute sum of errors: 3085.8275979955833\n",
      "\n",
      " REALISTIC S DOMAIN ERRORS\n",
      "1. Maximal error: 0.02746669331409568 \n",
      "\n",
      "located at 253, z value of 2.309204324086089, S value of 10.066411866183358 \n",
      "\n",
      "2. Absolute sum of errors: 0.14128590306886157\n"
     ]
    }
   ],
   "source": [
    "L6P1 = PV_Rannacher(dt=dt, dZ=dZ, R=2)"
   ]
  },
  {
   "cell_type": "code",
   "execution_count": 157,
   "id": "2562a6f3-19ce-48f1-9155-01ea5a261556",
   "metadata": {},
   "outputs": [],
   "source": [
    "L6_max_errors.append(L6P1[0])\n",
    "L6_real_max_errors.append(L6P1[1])\n",
    "L6_dt_vals.append(dt)\n",
    "L6_dz_vals.append(dZ)"
   ]
  },
  {
   "cell_type": "markdown",
   "id": "91a9b83a-3ae2-4052-9123-29a621ddac9b",
   "metadata": {
    "jp-MarkdownHeadingCollapsed": true,
    "tags": []
   },
   "source": [
    "#### 6.2 Parameters $\\Delta z = 0.05, \\Delta t = 0.3$"
   ]
  },
  {
   "cell_type": "code",
   "execution_count": 158,
   "id": "d7cbc373-4734-4cab-b026-0503d269a2c5",
   "metadata": {},
   "outputs": [],
   "source": [
    "dZ=0.05\n",
    "dt=0.15*2"
   ]
  },
  {
   "cell_type": "code",
   "execution_count": 159,
   "id": "8fe3d6a6-ec5f-44e8-8160-daa26d6d20ba",
   "metadata": {},
   "outputs": [
    {
     "name": "stdout",
     "output_type": "stream",
     "text": [
      "Stepsizes: dz = 0.049983690646773764 and dt = 0.2857142857142857\n",
      "lambda = 5.716150248555673\n",
      "\n",
      " Tridiagonal system coefficients:\n",
      "lower diag values = -0.6307726528425263\n",
      "diag values = 2.2894106058796266\n",
      "upper diag values = -0.6557808101799574\n",
      "\n",
      " ENTIRE S DOMAIN ERRORS\n",
      "1. Maximal error: 369.3977927031832 \n",
      "\n",
      "located at 581, z value of 6.0146733358350986, S value of 409.39208334822206 \n",
      "\n",
      "2. Absolute sum of errors: 2478.280636393876\n",
      "\n",
      " REALISTIC S DOMAIN ERRORS\n",
      "1. Maximal error: 0.002866818782947922 \n",
      "\n",
      "located at 507, z value of 2.3158802279738424, S value of 10.133839082682153 \n",
      "\n",
      "2. Absolute sum of errors: 0.05087564902842106\n"
     ]
    }
   ],
   "source": [
    "L6P2 = PV_Rannacher(dt=dt, dZ=dZ, R=2)"
   ]
  },
  {
   "cell_type": "code",
   "execution_count": 160,
   "id": "e393ac4d-fb6c-464f-8b30-15047fb76349",
   "metadata": {},
   "outputs": [],
   "source": [
    "L6_max_errors.append(L6P2[0])\n",
    "L6_real_max_errors.append(L6P2[1])\n",
    "L6_dt_vals.append(dt)\n",
    "L6_dz_vals.append(dZ)"
   ]
  },
  {
   "cell_type": "markdown",
   "id": "f113c86f-7322-41c0-9763-1b782b765872",
   "metadata": {
    "jp-MarkdownHeadingCollapsed": true,
    "tags": []
   },
   "source": [
    "#### 6.3 Parameters $\\Delta z = 0.025, \\Delta t = 0.15$"
   ]
  },
  {
   "cell_type": "code",
   "execution_count": 161,
   "id": "e49da669-9654-46a7-881e-699a534d7cd4",
   "metadata": {},
   "outputs": [],
   "source": [
    "dZ = 0.025\n",
    "dt = 0.075*2"
   ]
  },
  {
   "cell_type": "code",
   "execution_count": 162,
   "id": "53595c6e-072d-47c5-bf7a-b6142ecb08f7",
   "metadata": {},
   "outputs": [
    {
     "name": "stdout",
     "output_type": "stream",
     "text": [
      "Stepsizes: dz = 0.024991845323386882 and dt = 0.15384615384615385\n",
      "lambda = 6.155854113829187\n",
      "\n",
      " Tridiagonal system coefficients:\n",
      "lower diag values = -1.3720531831502119\n",
      "diag values = 3.7725766895868884\n",
      "upper diag values = -1.3989850448982146\n",
      "\n",
      " ENTIRE S DOMAIN ERRORS\n",
      "1. Maximal error: 188.32378548125655 \n",
      "\n",
      "located at 1162, z value of 6.0146733358350986, S value of 409.39208334822206 \n",
      "\n",
      "2. Absolute sum of errors: 2637.680227458479\n",
      "\n",
      " REALISTIC S DOMAIN ERRORS\n",
      "1. Maximal error: 0.0007774966141292361 \n",
      "\n",
      "located at 1000, z value of 1.965994393446426, S value of 7.142011029214633 \n",
      "\n",
      "2. Absolute sum of errors: 0.025120118639080747\n"
     ]
    }
   ],
   "source": [
    "L6P3 = PV_Rannacher(dt=dt, dZ=dZ, R=2)"
   ]
  },
  {
   "cell_type": "code",
   "execution_count": 163,
   "id": "cd377b4a-4c9e-40bf-97ef-bb19b6a6c34e",
   "metadata": {},
   "outputs": [],
   "source": [
    "L6_max_errors.append(L6P3[0])\n",
    "L6_real_max_errors.append(L6P3[1])\n",
    "L6_dt_vals.append(dt)\n",
    "L6_dz_vals.append(dZ)"
   ]
  },
  {
   "cell_type": "markdown",
   "id": "ace216b5-792b-443f-8a1b-ed2f00d72bc6",
   "metadata": {
    "jp-MarkdownHeadingCollapsed": true,
    "tags": []
   },
   "source": [
    "#### 6.4 Parameters $\\Delta z = 0.01, \\Delta t = 0.06$"
   ]
  },
  {
   "cell_type": "code",
   "execution_count": 164,
   "id": "5dc354b5-030a-41a0-a73c-f28cf6b053b9",
   "metadata": {},
   "outputs": [],
   "source": [
    "dZ=0.01\n",
    "dt=0.03*2"
   ]
  },
  {
   "cell_type": "code",
   "execution_count": 165,
   "id": "72ac28c1-494e-4ada-b251-12fbdbd89d97",
   "metadata": {},
   "outputs": [
    {
     "name": "stdout",
     "output_type": "stream",
     "text": [
      "Stepsizes: dz = 0.010000156986444134 and dt = 0.06060606060606061\n",
      "lambda = 6.0605109188001824\n",
      "\n",
      " Tridiagonal system coefficients:\n",
      "lower diag values = -3.3957265077645564\n",
      "diag values = 7.818573811404924\n",
      "upper diag values = -3.422241243034307\n",
      "\n",
      " ENTIRE S DOMAIN ERRORS\n",
      "1. Maximal error: 73.60322956165174 \n",
      "\n",
      "located at 2903, z value of 6.004604801706865, S value of 405.2907868545423 \n",
      "\n",
      "2. Absolute sum of errors: 2657.4702361454515\n",
      "\n",
      " REALISTIC S DOMAIN ERRORS\n",
      "1. Maximal error: 0.00015462800975529767 \n",
      "\n",
      "located at 2535, z value of 2.324547030695424, S value of 10.222048762627221 \n",
      "\n",
      "2. Absolute sum of errors: 0.011281936559630999\n"
     ]
    }
   ],
   "source": [
    "L6P4 = PV_Rannacher(dt=dt, dZ=dZ, R=2)"
   ]
  },
  {
   "cell_type": "code",
   "execution_count": 166,
   "id": "cc07af22-8dc4-4c3e-9500-33da06d2decd",
   "metadata": {},
   "outputs": [],
   "source": [
    "L6_max_errors.append(L6P4[0])\n",
    "L6_real_max_errors.append(L6P4[1])\n",
    "L6_dt_vals.append(dt)\n",
    "L6_dz_vals.append(dZ)"
   ]
  },
  {
   "cell_type": "markdown",
   "id": "f63cba2c-0ff4-479b-b442-3319f2f4494b",
   "metadata": {
    "jp-MarkdownHeadingCollapsed": true,
    "tags": []
   },
   "source": [
    "#### 6.5 Parameters: $\\Delta z = 0.005, \\Delta t = 0.03$"
   ]
  },
  {
   "cell_type": "code",
   "execution_count": 167,
   "id": "920908eb-6776-4b8e-bf1f-23baa6f9e801",
   "metadata": {},
   "outputs": [],
   "source": [
    "dZ=0.005\n",
    "dt=0.015*2"
   ]
  },
  {
   "cell_type": "code",
   "execution_count": 168,
   "id": "87731682-cc41-456e-8005-8c5b753ec4e3",
   "metadata": {},
   "outputs": [
    {
     "name": "stdout",
     "output_type": "stream",
     "text": [
      "Stepsizes: dz = 0.005000078493222067 and dt = 0.029850746268656716\n",
      "lambda = 5.9700555319524184\n",
      "\n",
      " Tridiagonal system coefficients:\n",
      "lower diag values = -6.703147541624226\n",
      "diag values = 14.432712583663431\n",
      "upper diag values = -6.729266534576519\n",
      "\n",
      " ENTIRE S DOMAIN ERRORS\n",
      "1. Maximal error: 37.54682568587202 \n",
      "\n",
      "located at 5807, z value of 6.0096048802000865, S value of 407.3223473498158 \n",
      "\n",
      "2. Absolute sum of errors: 2777.901891078601\n",
      "\n",
      " REALISTIC S DOMAIN ERRORS\n",
      "1. Maximal error: 2.9752190127033118e-05 \n",
      "\n",
      "located at 4997, z value of 1.959541300690212, S value of 7.0960713554848605 \n",
      "\n",
      "2. Absolute sum of errors: 0.005029892330366208\n"
     ]
    }
   ],
   "source": [
    "L6P5 = PV_Rannacher(dt=dt, dZ=dZ, R=2)"
   ]
  },
  {
   "cell_type": "code",
   "execution_count": 169,
   "id": "83b79a3c-cf66-4dd6-b1cf-9512c8c2391c",
   "metadata": {},
   "outputs": [],
   "source": [
    "L6_max_errors.append(L6P5[0])\n",
    "L6_real_max_errors.append(L6P5[1])\n",
    "L6_dt_vals.append(dt)\n",
    "L6_dz_vals.append(dZ)"
   ]
  },
  {
   "cell_type": "markdown",
   "id": "1ddd2903-8ae4-4b4d-87b7-da143934a6fd",
   "metadata": {
    "jp-MarkdownHeadingCollapsed": true,
    "tags": []
   },
   "source": [
    "#### 6.6 Parameters: $\\Delta z = 0.0025, \\Delta t = 0.015$"
   ]
  },
  {
   "cell_type": "code",
   "execution_count": 170,
   "id": "b0d86f83-3f34-480c-b581-1477a3a01d46",
   "metadata": {},
   "outputs": [],
   "source": [
    "dZ=0.0025\n",
    "dt=0.0075*2"
   ]
  },
  {
   "cell_type": "code",
   "execution_count": 171,
   "id": "3c931822-50d9-4d2a-b62d-c63f65f14d80",
   "metadata": {},
   "outputs": [
    {
     "name": "stdout",
     "output_type": "stream",
     "text": [
      "Stepsizes: dz = 0.0025000392466110336 and dt = 0.015037593984962405\n",
      "lambda = 6.014943167531008\n",
      "\n",
      " Tridiagonal system coefficients:\n",
      "lower diag values = -13.520251982579671\n",
      "diag values = 28.06696971745714\n",
      "upper diag values = -13.546567358937619\n",
      "\n",
      " ENTIRE S DOMAIN ERRORS\n",
      "1. Maximal error: 20.625321486019914 \n",
      "\n",
      "located at 11621, z value of 6.027105154926364, S value of 414.5133389701206 \n",
      "\n",
      "2. Absolute sum of errors: 3131.9082561757546\n",
      "\n",
      " REALISTIC S DOMAIN ERRORS\n",
      "1. Maximal error: 8.927015027193619e-06 \n",
      "\n",
      "located at 10140, z value of 2.324547030695424, S value of 10.222048762627221 \n",
      "\n",
      "2. Absolute sum of errors: 0.002750384097862465\n"
     ]
    }
   ],
   "source": [
    "L6P6 = PV_Rannacher(dt=dt, dZ=dZ, R=2)"
   ]
  },
  {
   "cell_type": "code",
   "execution_count": 172,
   "id": "6dc0db77-2727-4c95-9ebb-31bf773d27e2",
   "metadata": {},
   "outputs": [],
   "source": [
    "L6_max_errors.append(L6P6[0])\n",
    "L6_real_max_errors.append(L6P6[1])\n",
    "L6_dt_vals.append(dt)\n",
    "L6_dz_vals.append(dZ)"
   ]
  },
  {
   "cell_type": "markdown",
   "id": "d2319dcb-1deb-4b7b-9040-d36e666b7483",
   "metadata": {
    "jp-MarkdownHeadingCollapsed": true,
    "tags": []
   },
   "source": [
    "#### 6.7 Parameters: $\\Delta z = 0.001, \\Delta t = 0.006$"
   ]
  },
  {
   "cell_type": "code",
   "execution_count": 173,
   "id": "2388d932-e2e8-47f9-bade-4a63d9458c1d",
   "metadata": {},
   "outputs": [],
   "source": [
    "dZ=0.001\n",
    "dt=0.003*2"
   ]
  },
  {
   "cell_type": "code",
   "execution_count": 174,
   "id": "e7016a0d-6139-4c79-8eda-b82c047427ab",
   "metadata": {},
   "outputs": [
    {
     "name": "stdout",
     "output_type": "stream",
     "text": [
      "Stepsizes: dz = 0.0010000156986444135 and dt = 0.006006006006006006\n",
      "lambda = 6.005911721333514\n",
      "\n",
      " Tridiagonal system coefficients:\n",
      "lower diag values = -33.769585157653495\n",
      "diag values = 68.5655062391479\n",
      "upper diag values = -33.795861021434334\n",
      "\n",
      " ENTIRE S DOMAIN ERRORS\n",
      "1. Maximal error: 11.098954139543366 \n",
      "\n",
      "located at 29238, z value of 6.212608067024906, S value of 499.0009836663898 \n",
      "\n",
      "2. Absolute sum of errors: 4151.46126003502\n",
      "\n",
      " REALISTIC S DOMAIN ERRORS\n",
      "1. Maximal error: 2.603174270809916e-06 \n",
      "\n",
      "located at 25342, z value of 2.3165469051062715, S value of 10.140597333997784 \n",
      "\n",
      "2. Absolute sum of errors: 0.001437554259934625\n"
     ]
    }
   ],
   "source": [
    "L6P7 = PV_Rannacher(dt=dt, dZ=dZ, R=2)"
   ]
  },
  {
   "cell_type": "code",
   "execution_count": 175,
   "id": "322b02c4-579e-4ade-9f79-853ebd6bfc0a",
   "metadata": {},
   "outputs": [],
   "source": [
    "L6_max_errors.append(L6P7[0])\n",
    "L6_real_max_errors.append(L6P7[1])\n",
    "L6_dt_vals.append(dt)\n",
    "L6_dz_vals.append(dZ)"
   ]
  },
  {
   "cell_type": "markdown",
   "id": "0be374fc-b25c-4c1d-819f-248570c5979d",
   "metadata": {
    "jp-MarkdownHeadingCollapsed": true,
    "tags": []
   },
   "source": [
    "#### Additional dz"
   ]
  },
  {
   "cell_type": "code",
   "execution_count": 176,
   "id": "9927e98c-3f69-402f-9b51-e41ccd7a0df0",
   "metadata": {},
   "outputs": [],
   "source": [
    "# Empty list to store max error values\n",
    "L6a_max_errors = []\n",
    "L6a_real_max_errors = []\n",
    "# Empty list to store dt and dz's\n",
    "L6a_dt_vals = []\n",
    "L6a_dz_vals = []"
   ]
  },
  {
   "cell_type": "code",
   "execution_count": 139,
   "id": "8c924753-90ee-471c-b216-d4fa9967d5b2",
   "metadata": {},
   "outputs": [],
   "source": [
    "# dZ = 0.075\n",
    "# dt = 0.075*3*2\n",
    "\n",
    "# L6a1 = PV_Rannacher(dt=dt, dZ=dZ, R=2)\n",
    "# L6a_max_errors.append(L6a1[0])\n",
    "# L6a_real_max_errors.append(L6a1[1])\n",
    "# L6a_dt_vals.append(dt)\n",
    "# L6a_dz_vals.append(dZ)\n",
    "\n",
    "# ###########\n",
    "\n",
    "# dZ = 0.0375\n",
    "# dt = 0.0375*3*2\n",
    "\n",
    "# L6a2 = PV_Rannacher(dt=dt, dZ=dZ, R=2)\n",
    "# L6a_max_errors.append(L6a2[0])\n",
    "# L6a_real_max_errors.append(L6a2[1])\n",
    "# L6a_dt_vals.append(dt)\n",
    "# L6a_dz_vals.append(dZ)\n",
    "\n",
    "# ###########\n",
    "\n",
    "# dZ = 0.0175\n",
    "# dt = 0.0175*3*2\n",
    "\n",
    "# L6a3 = PV_Rannacher(dt=dt, dZ=dZ, R=2)\n",
    "# L6a_max_errors.append(L6a3[0])\n",
    "# L6a_real_max_errors.append(L6a3[1])\n",
    "# L6a_dt_vals.append(dt)\n",
    "# L6a_dz_vals.append(dZ)\n",
    "\n",
    "# ###########\n",
    "\n",
    "# dZ = 0.0075\n",
    "# dt = 0.0075*3*2\n",
    "\n",
    "# L6a4 = PV_Rannacher(dt=dt, dZ=dZ, R=2)\n",
    "# L6a_max_errors.append(L6a4[0])\n",
    "# L6a_real_max_errors.append(L6a4[1])\n",
    "# L6a_dt_vals.append(dt)\n",
    "# L6a_dz_vals.append(dZ)\n",
    "\n",
    "# ###########\n",
    "\n",
    "# dZ = 0.00375\n",
    "# dt = 0.00375*3*2\n",
    "\n",
    "# L6a5 = PV_Rannacher(dt=dt, dZ=dZ, R=2)\n",
    "# L6a_max_errors.append(L6a5[0])\n",
    "# L6a_real_max_errors.append(L6a5[1])\n",
    "# L6a_dt_vals.append(dt)\n",
    "# L6a_dz_vals.append(dZ)\n",
    "\n",
    "# ###########\n",
    "\n",
    "# dZ = 0.00175\n",
    "# dt = 0.00175*3*2\n",
    "\n",
    "# L6a6 = PV_Rannacher(dt=dt, dZ=dZ, R=2)\n",
    "# L6a_max_errors.append(L6a6[0])\n",
    "# L6a_real_max_errors.append(L6a6[1])\n",
    "# L6a_dt_vals.append(dt)\n",
    "# L6a_dz_vals.append(dZ)\n",
    "\n",
    "# ###########\n",
    "\n",
    "# dZ = 0.00075\n",
    "# dt = 0.00075*3*2\n",
    "\n",
    "# L6a7 = PV_Rannacher(dt=dt, dZ=dZ, R=2)\n",
    "# L6a_max_errors.append(L6a7[0])\n",
    "# L6a_real_max_errors.append(L6a7[1])\n",
    "# L6a_dt_vals.append(dt)\n",
    "# L6a_dz_vals.append(dZ)\n",
    "\n",
    "# ###########\n",
    "\n",
    "# dZ = 0.0005\n",
    "# dt = 0.0005*3*2\n",
    "\n",
    "# L6a8 = PV_Rannacher(dt=dt, dZ=dZ, R=2)\n",
    "# L6a_max_errors.append(L6a8[0])\n",
    "# L6a_real_max_errors.append(L6a8[1])\n",
    "# L6a_dt_vals.append(dt)\n",
    "# L6a_dz_vals.append(dZ)\n",
    "\n",
    "# ###########\n",
    "\n",
    "# dZ = 0.00025\n",
    "# dt = 0.00025*3*2\n",
    "\n",
    "# L6a9 = PV_Rannacher(dt=dt, dZ=dZ, R=2)\n",
    "# L6a_max_errors.append(L6a9[0])\n",
    "# L6a_real_max_errors.append(L6a9[1])\n",
    "# L6a_dt_vals.append(dt)\n",
    "# L6a_dz_vals.append(dZ)"
   ]
  },
  {
   "cell_type": "markdown",
   "id": "796982d8-6737-455c-8acc-7a390e414707",
   "metadata": {
    "tags": []
   },
   "source": [
    "#### PLOTS of Convergence for decreasing step size"
   ]
  },
  {
   "cell_type": "code",
   "execution_count": 177,
   "id": "040cf26d-961f-43b9-ac65-693754a9a0f3",
   "metadata": {},
   "outputs": [],
   "source": [
    "# delta t values\n",
    "dt_vals = np.array(L6_dt_vals + L6a_dt_vals)\n",
    "sorted_indices = np.argsort(dt_vals)\n",
    "dt_vals = np.array([dt_vals[i] for i in sorted_indices])\n",
    "inv_dt_vals = np.divide(np.ones(len(dt_vals)), dt_vals)\n",
    "\n",
    "# delta z values\n",
    "dz_vals = np.array(L6_dz_vals + L6a_dz_vals)\n",
    "dz_vals = np.array([dz_vals[i] for i in sorted_indices])\n",
    "inv_dz_vals = np.divide(np.ones(len(dz_vals)), dz_vals)\n",
    "\n",
    "\n",
    "# max errors in realistic range\n",
    "real_max_errors = np.array(L6_real_max_errors + L6a_real_max_errors)\n",
    "real_max_errors = np.array([real_max_errors[i] for i in sorted_indices])\n",
    "\n",
    "# max errors in entire range\n",
    "max_errors = np.array(L6_max_errors + L6a_max_errors)\n",
    "max_errors = np.array([max_errors[i] for i in sorted_indices])"
   ]
  },
  {
   "cell_type": "markdown",
   "id": "9727de79-95a0-483c-807f-1182f3590afe",
   "metadata": {
    "tags": []
   },
   "source": [
    "##### Realistic S domain for 1/dz"
   ]
  },
  {
   "cell_type": "code",
   "execution_count": 178,
   "id": "670610b4-38ab-4f6d-a6db-0cfccdf80678",
   "metadata": {},
   "outputs": [
    {
     "data": {
      "application/vnd.jupyter.widget-view+json": {
       "model_id": "b56aeee36cf448799320880f3dba11eb",
       "version_major": 2,
       "version_minor": 0
      },
      "image/png": "[encoded data removed]",
      "text/html": [
       "\n",
       "            <div style=\"display: inline-block;\">\n",
       "                <div class=\"jupyter-widgets widget-label\" style=\"text-align: center;\">\n",
       "                    Figure\n",
       "                </div>\n",
       "                <img src='data:image/png;base64,iVBORw0KGgoAAAANSUhEUgAAAoAAAAHgCAYAAAA10dzkAAAAOXRFWHRTb2Z0d2FyZQBNYXRwbG90bGliIHZlcnNpb24zLjUuMiwgaHR0cHM6Ly9tYXRwbG90bGliLm9yZy8qNh9FAAAACXBIWXMAAA9hAAAPYQGoP6dpAABJWElEQVR4nO3deXgUVaL+8bfJypLEsIawhCAqu0JAFkFQIREEYYQrcpFlUOfGGYclDyPgAjERUAYdZB8QdLgocAUcURGIChEvAWVTkKCgaBASMYgJCiQkOb8/+KWvbTqQpTrdTX8/z9OP9KlTdU6dRPrlVNVpmzHGCAAAAD6jmrs7AAAAgKpFAAQAAPAxBEAAAAAfQwAEAADwMQRAAAAAH0MABAAA8DEEQAAAAB9DAAQAAPAxBEAAAAAfQwAEAADwMQRAAAAAH0MABAAA8DEEQAAAAB9DAAQAAPAxBEAAAAAfQwAEAADwMQRAAAAAH0MABAAA8DEEQAAAAB9DAAQAAPAxBEAAAAAfQwAEAADwMQRAAAAAH0MABAAA8DEEQAAAAB9DAAQAAPAxBEAAAAAfQwAEAADwMQRAAAAAH0MABAAA8DEEQAAAAB9DAAQAAPAxBEAAAAAfQwAEAADwMQRAAAAAH0MABAAA8DEEQMCHvPrqq7LZbLLZbNq+fXuJ7cYYtWjRQjabTb17967y/nmztWvXqk2bNqpevbpsNpsOHDjg0vYuXrwof39/hYSE6K9//atL2/q9jz/+WP3791d4eLiqV6+uG264QcnJyVXaBwCVQwAEfFBISIiWL19eojw1NVVff/21QkJC3NAr7/Xjjz9q5MiRuv7667V582alpaXpxhtvdGmbNptNH374oW699VYtWLBAX331lUvbK/b666+rV69eCgsL08qVK7Vp0yZNnjxZxpgqaR+ANfzd3QEAVW/YsGF67bXXtHDhQoWGhtrLly9frm7duik3N9eNvauY8+fPq0aNGmUut+LYxb766itdunRJDz74oHr16lWptsraZlBQkG6//XY9/vjj+vDDD7V3716Xh86TJ0/qT3/6k/7rv/5LixYtspffcccdLm0XgPWYAQR80PDhwyVJq1evtpfl5ORo/fr1Gjt2bIn6x44d0x//+EfdcMMNqlGjhho1aqSBAwfq4MGD9joXL15Uhw4d1KJFC+Xk5NjLs7KyFBERod69e6uwsPCK/Tp69Kj+8z//U/Xr11dQUJBatWqlhQsXlqiXmJgom82mffv2aejQoQoPD9f1119fanmxjz/+WHfddZdCQkJUo0YNde/eXe+++26Zjl2aMWPGqEePHpIuB+vfXj4vS3sVafO3WrZsKUkuv+QsSS+//LJ+/fVXTZ482eVtAXAtAiDgg0JDQzV06FCtWLHCXrZ69WpVq1ZNw4YNK1H/1KlTqlOnjp577jlt3rxZCxculL+/v7p06aIvv/xSkhQcHKz/+Z//0enTp+0hsqioSCNGjJAxRqtXr5afn1+pfTp8+LA6d+6sQ4cO6YUXXtA777yje+65R+PGjdMzzzzjdJ/77rtPLVq00BtvvKElS5ZcsTw1NVV33nmncnJytHz5cq1evVohISEaOHCg1q5dW+Zj/97TTz9tD6kzZ85UWlqaFi1aVO72ytPmbz3//POSrh4AjTEqKCgo06s0H330kWrXrq0jR47olltukb+/v+rXr6/4+HivnDUGfJoB4DNeeeUVI8l8+umnZtu2bUaSOXTokDHGmM6dO5sxY8YYY4xp06aN6dWrV6nHKSgoMPn5+eaGG24wEydOdNi2du1aI8nMnTvXTJs2zVSrVs1s3br1qn2Li4szjRs3Njk5OQ7ljz32mAkODjY//fSTvWz69OlGkpk2bZpD3dLKjTGma9eupn79+ubcuXMO59G2bVvTuHFjU1RUdNVjlKZ4LN94441yt1fRNo0xZsuWLUaSCQ8PN/Xq1StTH8vyOn78uNNj3HTTTSY4ONiEhISYmTNnmm3btpnZs2eb6tWrm9tuu83hnAB4Nu4BBHxUr169dP3112vFihUaM2aMPv30U73wwgtO6xYUFGj27NlatWqVjh07pkuXLtm3paenO9S9//77tX37dv3tb39TYWGhnnjiCfXt2/eKfbl48aI++OADPfroo6pRo4bDLFT//v21YMEC7dq1S/369XPYb8iQIU6P9/vyX3/9Vbt379ajjz6qWrVq2cv9/Pw0cuRITZ48WV9++aX9cuqVjl0WFWmvvG3+/PPPGjt2rAYNGqS2bdtqxowZOnXqlCIjI53Wj4mJ0aefflqmY5d2jKKiIl28eFHTp0/XlClTJEm9e/dWYGCgJkyYoA8++EB9+vQp8zkAcB8CIOCjbDab/vjHP2revHm6ePGibrzxRvXs2dNp3YSEBC1cuFCTJ09Wr169FB4ermrVqunhhx/WhQsXStQfO3asFi9erMDAQI0bN+6qfTlz5owKCgo0f/58zZ8/32md7OzsEmUNGzZ0Wvf35WfPnpUxxmn94rBz5syZMh27LCrSXnnb/Mtf/qJLly5p2bJl+uijjyRdvgxcWnirVauWbrnlljId29/f+UdDnTp1dPToUcXFxTmU9+vXTxMmTNC+ffsIgICXIAACPmzMmDGaNm2alixZohkzZpRab9WqVRo1apRmzpzpUJ6dna3rrrvOoezXX3/VyJEjdeONN+qHH37Qww8/rLfeeuuK/QgPD7fPjv3lL39xWic6OrpEmc1mc1r39+XFgTUzM7NE3VOnTkmS6tatW6Zjl0VF2itPm+vWrdPrr7+ut99+W/Xq1VPHjh0lXQ6A/fv3d7pPampqmZ/WPX78uJo1a1aivH379tq1a1eJcvP/l4CpVo3bygFvQQAEfFijRo30t7/9TUeOHNHo0aNLrWez2RQUFORQ9u677+rkyZNq0aKFQ3l8fLwyMjL0ySef6MiRIxo6dKj+8Y9/aOLEiaUev0aNGrrjjju0f/9+tW/fXoGBgZU7sd+pWbOmunTpog0bNmjOnDmqXr26pMuXNFetWqXGjRtbuoSKK9vLyspSfHy8/vSnP2nAgAGSLofj6667Tvv37y91PysuAQ8ZMkRLly7Ve++9pw4dOtjLN23aJEnq2rVrWU8DgJsRAAEf99xzz121zoABA/Tqq6+qZcuWat++vfbu3au///3vaty4sUO9l19+WatWrdIrr7yiNm3aqE2bNnrsscc0efJk3Xbbbbr11ltLbeOll15Sjx491LNnTz366KNq1qyZzp07p2PHjuntt9/Whx9+WKnznDVrlvr27as77rhDkyZNUmBgoBYtWqRDhw5p9erVlZrxq8r2HnnkEYWHh+vFF190KO/QocMVnwQOCQlRp06dKtRmsdjYWA0cOFBJSUkqKipS165dtWfPHj3zzDMaMGCAfTkcAJ6P+XoAV/XSSy/pwQcf1KxZszRw4EBt3LhRGzZscFir7uDBgxo3bpxGjx6tMWPG2MvnzJmj9u3ba9iwYfr5559LbaN169bat2+f2rZtq6eeekqxsbF66KGHtG7dOt11112VPodevXrpww8/VM2aNTVmzBg98MADysnJ0caNG50ufeOJ7b388st677339N///d+qWbOmw7YOHTro66+/1rlz56zofqnWrl2rCRMmaOnSperXr58WL16siRMnat26dS5tF4C1bMbw/T0AAAC+hBlAAAAAH0MABAAA8DEEQAAAAB9DAAQAAPAxBEAAAAAfQwAEAADwMQRAAAAAH8M3gVRCUVGRTp06pZCQEMu/RQAAALiGMUbnzp1TZGSkz36HNQGwEk6dOqUmTZq4uxsAAKACTpw4UeIrLX0FAbASQkJCJF3+BQoNDXVzbwAAQFnk5uaqSZMm9s9xX0QArITiy76hoaEEQAAAvIwv377lmxe+AQAAfBgBEAAAwMcQAAEAAHwMARAAAMDHEAABAAB8DAEQAADAxxAAAQAAfAwBEAAAwMcQAAEAAHwMAdCDJCYmKjk52em25ORkJSYmVm2HAADANYkA6EH8/Pw0bdq0EiEwOTlZ06ZNk5+fn5t6BgAAriV8F7AHefrppyVJ06ZNs78vDn9JSUn27QAAAJVhM8YYd3fCW+Xm5iosLEw5OTkKDQ217LjDhw/XmjVr5O/vr4KCAsIfAAAWctXntzfhErAHatmypSSpoKBAgYGBhD8AAGApAqAH2rFjhySpWrVqys/PL/XBEAAAgIrgHkAPk5ycrA8++ECSNHr0aEVHRzvcEwgAAFBZBEAPUvzAR2xsrLZu3aqCggKnD4YAAABUBgHQgxQWFiopKUkhISH2ACj9X+grLCx0Z/cAAMA1ggDoQYoXel6wYIEkx8DHzB8AALAKD4F4IH//y7m8eAYQAADASgRAD0QABAAArkQA9EAEQAAA4EoEQA9EAAQAAK5EAPRABEAAAOBKBEAP5OfnJ4kACAAAXIMA6IGYAQQAAK5EAPRAxQGQhZ8BAIArEAA9EDOAAADAlQiAHogACAAAXIkA6IEIgAAAwJUIgB6IAAgAAFyJAOiBCIAAAMCVCIAeiHUAAQCAKxEAPRAzgAAAwJUIgB6IdQABAIArEQA9EDOAAADAlQiAHogACAAAXIkA6IEIgAAAwJUIgB6IAAgAAFzJIwLgokWLFB0dreDgYMXExGjHjh1XrJ+amqqYmBgFBwerefPmWrJkicP2ZcuWqWfPngoPD1d4eLj69OmjTz75xKFOYmKibDabwysiIsLyc6sIAiAAAHAltwfAtWvXasKECXryySe1f/9+9ezZU/369VNGRobT+sePH1f//v3Vs2dP7d+/X0888YTGjRun9evX2+ts375dw4cP17Zt25SWlqamTZsqNjZWJ0+edDhWmzZtlJmZaX8dPHjQpedaVr9dB9AY4+beAACAa43NuDlhdOnSRR07dtTixYvtZa1atdLgwYM1a9asEvUnT56sjRs3Kj093V4WHx+vzz77TGlpaU7bKCwsVHh4uBYsWKBRo0ZJujwD+O9//1sHDhyocN9zc3MVFhamnJwchYaGVvg4v3fmzBnVrVtX0uUQWBwIAQBA5bnq89ubuHUGMD8/X3v37lVsbKxDeWxsrHbu3Ol0n7S0tBL14+LitGfPHl26dMnpPufPn9elS5dUu3Zth/KjR48qMjJS0dHReuCBB/TNN99U4mysU3wJWGItQAAAYD23BsDs7GwVFhaqQYMGDuUNGjRQVlaW032ysrKc1i8oKFB2drbTfaZMmaJGjRqpT58+9rIuXbpo5cqV2rJli5YtW6asrCx1795dZ86cKbW/eXl5ys3NdXi5wm8DIPcBAgAAq7n9HkBJstlsDu+NMSXKrlbfWbkkzZ49W6tXr9aGDRsUHBxsL+/Xr5+GDBmidu3aqU+fPnr33XclSf/6179KbXfWrFkKCwuzv5o0aXL1k6sAAiAAAHAltwbAunXrys/Pr8Rs3+nTp0vM8hWLiIhwWt/f31916tRxKJ8zZ45mzpyprVu3qn379lfsS82aNdWuXTsdPXq01DpTp05VTk6O/XXixIkrHrOiCIAAAMCV3BoAAwMDFRMTo5SUFIfylJQUde/e3ek+3bp1K1F/69at6tSpkwICAuxlf//735WcnKzNmzerU6dOV+1LXl6e0tPT1bBhw1LrBAUFKTQ01OHlCtWq/d+PhQAIAACs5vZLwAkJCXr55Ze1YsUKpaena+LEicrIyFB8fLyky7NuxU/uSpef+P3uu++UkJCg9PR0rVixQsuXL9ekSZPsdWbPnq2nnnpKK1asULNmzZSVlaWsrCz98ssv9jqTJk1Samqqjh8/rt27d2vo0KHKzc3V6NGjq+7kS2Gz2VgLEAAAuIz/1au41rBhw3TmzBklJSUpMzNTbdu21aZNmxQVFSVJyszMdFgTMDo6Wps2bdLEiRO1cOFCRUZGat68eRoyZIi9zqJFi5Sfn6+hQ4c6tDV9+nQlJiZKkr7//nsNHz5c2dnZqlevnrp27apdu3bZ23U3Pz8/FRQUEAABAIDl3L4OoDdz5TpCtWrV0q+//qqvv/5azZs3t/TYAAD4MtYB9IBLwHCu+BIw6wACAACrEQA9FPcAAgAAVyEAeigCIAAAcBUCoIciAAIAAFchAHooAiAAAHAVAqCHIgACAABXIQB6KD8/P0kEQAAAYD0CoIdiBhAAALgKAdBDsQ4gAABwFQKgh2IGEAAAuAoB0EMRAAEAgKsQAD0UARAAALgKAdBDEQABAICrEAA9FAEQAAC4CgHQQ7EOIAAAcBUCoIdiBhAAALgKAdBDsQ4gAABwFQKgh2IGEAAAuAoB0EMRAAEAgKsQAD0UARAAALgKAdBDEQABAICrEAA9FMvAAAAAVyEAeihmAAEAgKsQAD0UARAAALgKAdBDEQABAICrEAA9FAtBAwAAVyEAeihmAAEAgKsQAD0UARAAALgKAdBDEQABAICrEAA9FOsAAgAAVyEAeihmAAEAgKsQAD0UARAAALgKAdBDEQABAICrEAA9FOsAAgAAVyEAeihmAAEAgKsQAD0UARAAALgKAdBDEQABAICrEAA9FOsAAgAAVyEAeihmAAEAgKsQAD0UARAAALgKAdBDEQABAICrEAA9FOsAAgAAVyEAeihmAAEAgKsQAD0UARAAALgKAdBDEQABAICrEAA9FOsAAgAAVyEAeihmAAEAgKsQAD0UARAAALgKAdBDEQABAICrEAA9FOsAAgAAV/GIALho0SJFR0crODhYMTEx2rFjxxXrp6amKiYmRsHBwWrevLmWLFnisH3ZsmXq2bOnwsPDFR4erj59+uiTTz6pdLtViRlAAADgKm4PgGvXrtWECRP05JNPav/+/erZs6f69eunjIwMp/WPHz+u/v37q2fPntq/f7+eeOIJjRs3TuvXr7fX2b59u4YPH65t27YpLS1NTZs2VWxsrE6ePFnhdqsaARAAALiKzRhj3NmBLl26qGPHjlq8eLG9rFWrVho8eLBmzZpVov7kyZO1ceNGpaen28vi4+P12WefKS0tzWkbhYWFCg8P14IFCzRq1KgKtetMbm6uwsLClJOTo9DQ0DLtU1ZfffWVbrrpJl133XU6e/aspccGAMCXufLz21u4dQYwPz9fe/fuVWxsrEN5bGysdu7c6XSftLS0EvXj4uK0Z88eXbp0yek+58+f16VLl1S7du0Kt1vVWAcQAAC4ir87G8/OzlZhYaEaNGjgUN6gQQNlZWU53ScrK8tp/YKCAmVnZ6thw4Yl9pkyZYoaNWqkPn36VLhdScrLy1NeXp79fW5u7pVPsBK4BAwAAFzF7fcASpLNZnN4b4wpUXa1+s7KJWn27NlavXq1NmzYoODg4Eq1O2vWLIWFhdlfTZo0KbVuZREAAQCAq7g1ANatW1d+fn4lZt1Onz5dYnauWEREhNP6/v7+qlOnjkP5nDlzNHPmTG3dulXt27evVLuSNHXqVOXk5NhfJ06cKNN5VgQBEAAAuIpbA2BgYKBiYmKUkpLiUJ6SkqLu3bs73adbt24l6m/dulWdOnVSQECAvezvf/+7kpOTtXnzZnXq1KnS7UpSUFCQQkNDHV6uUhwAJamoqMhl7QAAAN/j1nsAJSkhIUEjR45Up06d1K1bNy1dulQZGRmKj4+XdHnW7eTJk1q5cqWky0/8LliwQAkJCXrkkUeUlpam5cuXa/Xq1fZjzp49W08//bRef/11NWvWzD7TV6tWLdWqVatM7brbbwNgQUGBAgMD3dgbAABwLXF7ABw2bJjOnDmjpKQkZWZmqm3bttq0aZOioqIkSZmZmQ5r80VHR2vTpk2aOHGiFi5cqMjISM2bN09Dhgyx11m0aJHy8/M1dOhQh7amT5+uxMTEMrXrbgRAAADgKm5fB9CbuXIdoby8PPtDK768ThEAAFZjHUAPeQoYJRWvAyjxIAgAALAWAdBDEQABAICrEAA9lM1m49tAAACASxAAPRhrAQIAAFcgAHqw4gBYWFjo5p4AAIBrCQHQgzEDCAAAXIEA6MEIgAAAwBUIgB6MAAgAAFyBAOjBeAoYAAC4AgHQgzEDCAAAXIEA6MEIgAAAwBUIgB6MAAgAAFyBAOjBWAcQAAC4AgHQgzEDCAAAXIEA6MEIgAAAwBUIgB6MAAgAAFyBAOjBWAcQAAC4AgHQgzEDCAAAXIEA6MEIgAAAwBUIgB6MAAgAAFyBAOjBWAcQAAC4AgHQgzEDCAAAXIEA6MEIgAAAwBUIgB6MAAgAAFyBAOjBWAcQAAC4AgHQgzEDCAAAXIEA6MEIgAAAwBUIgB6MAAgAAFyBAOjBWAcQAAC4AgHQgzEDCAAAXIEA6MEIgAAAwBUIgB6MAAgAAFyBAOjBWAcQAAC4AgHQgzEDCAAAXIEA6MEIgAAAwBUIgB6MAAgAAFyBAOjBWAcQAAC4AgHQgzEDCAAAXKHcAbCgoED+/v46dOiQK/qD3yAAAgAAVyh3APT391dUVBSXJasAARAAALhChS4BP/XUU5o6dap++uknq/uD32AdQAAA4Ar+Fdlp3rx5OnbsmCIjIxUVFaWaNWs6bN+3b58lnfN1zAACAABXqFAAHDx4sMXdgDMEQAAA4AoVCoDTp0+3uh9wggAIAABcoUIBsNjevXuVnp4um82m1q1bq0OHDlb1C2IdQAAA4BoVCoCnT5/WAw88oO3bt+u6666TMUY5OTm64447tGbNGtWrV8/qfvokZgABAIArVOgp4L/+9a/Kzc3VF198oZ9++klnz57VoUOHlJubq3HjxlndR59FAAQAAK5QoRnAzZs36/3331erVq3sZa1bt9bChQsVGxtrWed8HQEQAAC4QoVmAIuKihQQEFCiPCAgQEVFRZXuFC5jHUAAAOAKFQqAd955p8aPH69Tp07Zy06ePKmJEyfqrrvusqxzvo4ZQAAA4AoVCoALFizQuXPn1KxZM11//fVq0aKFoqOjde7cOc2fP7/cx1u0aJGio6MVHBysmJgY7dix44r1U1NTFRMTo+DgYDVv3lxLlixx2P7FF19oyJAhatasmWw2m+bOnVviGImJibLZbA6viIiIcvfdlQiAAADAFSp0D2CTJk20b98+paSk6MiRIzLGqHXr1urTp0+5j7V27VpNmDBBixYt0m233aZ//vOf6tevnw4fPqymTZuWqH/8+HH1799fjzzyiFatWqX//d//1Z///GfVq1dPQ4YMkSSdP39ezZs313/8x39o4sSJpbbdpk0bvf/++/b3xZdcPQUBEAAAuEK5A2BBQYGCg4N14MAB9e3bV3379q1UB1588UU99NBDevjhhyVJc+fO1ZYtW7R48WLNmjWrRP0lS5aoadOm9lm9Vq1aac+ePZozZ449AHbu3FmdO3eWJE2ZMqXUtv39/T1u1u+3CIAAAMAVyn0J2N/fX1FRUZYsTpyfn6+9e/eWeHI4NjZWO3fudLpPWlpaifpxcXHas2ePLl26VK72jx49qsjISEVHR+uBBx7QN998U74TcDEWggYAAK5QoXsAn3rqKU2dOlU//fRTpRrPzs5WYWGhGjRo4FDeoEEDZWVlOd0nKyvLaf2CggJlZ2eXue0uXbpo5cqV2rJli5YtW6asrCx1795dZ86cKXWfvLw85ebmOrxciRlAAADgChW6B3DevHk6duyYIiMjFRUVpZo1azps37dvX7mOZ7PZHN4bY0qUXa2+s/Ir6devn/3P7dq1U7du3XT99dfrX//6lxISEpzuM2vWLD3zzDNlbqOyCIAAAMAVKhQABw8ebEnjdevWlZ+fX4nZvtOnT5eY5SsWERHhtL6/v7/q1KlT4b7UrFlT7dq109GjR0utM3XqVIdwmJubqyZNmlS4zathHUAAAOAKFXoIRJLGjh1b6fATGBiomJgYpaSk6A9/+IO9PCUlRYMGDXK6T7du3fT22287lG3dulWdOnVyujh1WeXl5Sk9PV09e/YstU5QUJCCgoIq3EZ5MQMIAABcoUIPgcyZM8eyBxMSEhL08ssva8WKFUpPT9fEiROVkZGh+Ph4SZdn3UaNGmWvHx8fr++++04JCQlKT0/XihUrtHz5ck2aNMleJz8/XwcOHNCBAweUn5+vkydP6sCBAzp27Ji9zqRJk5Samqrjx49r9+7dGjp0qHJzczV69GhLzssKBEAAAOAKFboEfNddd2n79u0aM2ZMpTswbNgwnTlzRklJScrMzFTbtm21adMmRUVFSZIyMzOVkZFhrx8dHa1NmzZp4sSJWrhwoSIjIzVv3jz7EjCSdOrUKXXo0MH+fs6cOZozZ4569eql7du3S5K+//57DR8+XNnZ2apXr566du2qXbt22dv1BARAAADgCjZT/ARFOfzzn/9UYmKiRowYoZiYmBIPgdx7772WddCT5ebmKiwsTDk5OQoNDbX8+CdPnlTjxo3l7+9f7iVuAACAc67+/PYGFQqA1aqVfuXYZrP5zLp1rv4F+uGHHxQRESGbzaaioiLLjw8AgC8iAFbwEjBhpGoUXwI2xqioqOiKwRsAAKCsKp0oLl68aEU/4ERxAJS4DxAAAFinQgGwsLBQycnJatSokWrVqmX/CrWnn35ay5cvt7SDvqx4HUCJAAgAAKxToQA4Y8YMvfrqq5o9e7YCAwPt5e3atdPLL79sWed8HTOAAADAFSoUAFeuXKmlS5dqxIgRDrNU7du315EjRyzrnK8jAAIAAFeoUAA8efKkWrRoUaK8qKiI5UosxCVgAADgChUKgG3atNGOHTtKlL/xxhsOCzCjcmw2G98HDAAALFehZWCmT5+ukSNH6uTJkyoqKtKGDRv05ZdfauXKlXrnnXes7qNP8/f3V2Fhoc+srQgAAFyvQjOAAwcO1Nq1a7Vp0ybZbDZNmzZN6enpevvtt9W3b1+r++jT+Do4AABgtQrNAEpSXFyc4uLirOwLnCAAAgAAq/HVEh6OewABAIDVCIAejhlAAABgNQKghyMAAgAAqxEAPRwBEAAAWK1CAfDChQulbsvMzKxwZ1ASARAAAFitQgGwQ4cO2rdvX4nydevWqX379pXuFP5PcQBkHUAAAGCVCgXAvn37qnv37nruuedkjNEvv/yiMWPGaPTo0Zo2bZrVffRpzAACAACrVWgdwPnz5+uee+7RH//4R7377rs6deqUQkND9emnn6p169ZW99GnEQABAIDVKrwQdGxsrO677z4tXrxY/v7+evvttwl/LsA6gAAAwGoVugT89ddfq1u3bnrnnXe0ZcsWPf744xo0aJAef/xxXbp0yeo++jRmAAEAgNUqFABvueUWRUdH67PPPlPfvn317LPP6sMPP9SGDRt06623Wt1Hn0YABAAAVqtQAFy0aJHWrFmj6667zl7WvXt37d+/Xx07drSqbxABEAAAWK9CAXDkyJFOy0NCQrR8+fJKdQiOCIAAAMBqFX4IRJIOHz6sjIwM5efn28tsNpsGDhxY6Y7hMtYBBAAAVqtQAPzmm2/0hz/8QQcPHpTNZpMxRtLl8CcRVqzEDCAAALBahS4Bjx8/XtHR0frhhx9Uo0YNffHFF/roo4/UqVMnbd++3eIu+jYCIAAAsFqFZgDT0tL04Ycfql69eqpWrZqqVaumHj16aNasWRo3bpz2799vdT99FusAAgAAq1VoBrCwsFC1atWSJNWtW1enTp2SJEVFRenLL7+0rndgBhAAAFiuQjOAbdu21eeff67mzZurS5cumj17tgIDA7V06VI1b97c6j76NAIgAACwWoUC4FNPPaVff/1VkvTss89qwIAB6tmzp+rUqaO1a9da2kFfRwAEAABWq1AAjIuLs/+5efPmOnz4sH766SeFh4fbnwSGNQiAAADAapVaB/C3ateubdWh8BusAwgAAKxWrgA4duzYMtVbsWJFhTqDkpgBBAAAVitXAHz11VcVFRWlDh062Bd/hmsRAAEAgNXKFQDj4+O1Zs0affPNNxo7dqwefPBBLv26GOsAAgAAq5VrHcBFixYpMzNTkydP1ttvv60mTZro/vvv15YtW5gRdBFmAAEAgNXKvRB0UFCQhg8frpSUFB0+fFht2rTRn//8Z0VFRemXX35xRR99GgEQAABYrULfBFLMZrPJZrPJGKOioiKr+oTfIAACAACrlTsA5uXlafXq1erbt69uuukmHTx4UAsWLFBGRob96+FgHQIgAACwWrkeAvnzn/+sNWvWqGnTpvrjH/+oNWvWqE6dOq7qG8Q6gAAAwHrlCoBLlixR06ZNFR0drdTUVKWmpjqtt2HDBks6B2YAAQCA9coVAEeNGsVXvVUxAiAAALBauReCRtViHUAAAGC1Sj0FDNdjBhAAAFiNAOjhCIAAAMBqBEAPRwAEAABWIwB6OAIgAACwGgHQw7EOIAAAsBoB0MMxAwgAAKxGAPRwLAMDAACs5hEBcNGiRYqOjlZwcLBiYmK0Y8eOK9ZPTU1VTEyMgoOD1bx5cy1ZssRh+xdffKEhQ4aoWbNmstlsmjt3riXtugMzgAAAwGpuD4Br167VhAkT9OSTT2r//v3q2bOn+vXrp4yMDKf1jx8/rv79+6tnz57av3+/nnjiCY0bN07r16+31zl//ryaN2+u5557ThEREZa06y4EQAAAYDWbMca4swNdunRRx44dtXjxYntZq1atNHjwYM2aNatE/cmTJ2vjxo1KT0+3l8XHx+uzzz5TWlpaifrNmjXThAkTNGHChEq160xubq7CwsKUk5Oj0NDQMu1TXps2bdI999yjmJgY7dmzxyVtAADgS6ri89vTuXUGMD8/X3v37lVsbKxDeWxsrHbu3Ol0n7S0tBL14+LitGfPHl26dMll7UpSXl6ecnNzHV6uxgwgAACwmlsDYHZ2tgoLC9WgQQOH8gYNGigrK8vpPllZWU7rFxQUKDs722XtStKsWbMUFhZmfzVp0qRM7VUGARAAAFjN7fcASpLNZnN4b4wpUXa1+s7KrW536tSpysnJsb9OnDhRrvYqgnUAAQCA1fzd2XjdunXl5+dXYtbt9OnTJWbnikVERDit7+/vrzp16risXUkKCgpSUFBQmdqwCjOAAADAam6dAQwMDFRMTIxSUlIcylNSUtS9e3en+3Tr1q1E/a1bt6pTp04KCAhwWbvuwjqAAADAam6dAZSkhIQEjRw5Up06dVK3bt20dOlSZWRkKD4+XtLly64nT57UypUrJV1+4nfBggVKSEjQI488orS0NC1fvlyrV6+2HzM/P1+HDx+2//nkyZM6cOCAatWqpRYtWpSpXU/BDCAAALCa2wPgsGHDdObMGSUlJSkzM1Nt27bVpk2bFBUVJUnKzMx0WJsvOjpamzZt0sSJE7Vw4UJFRkZq3rx5GjJkiL3OqVOn1KFDB/v7OXPmaM6cOerVq5e2b99epnY9BQEQAABYze3rAHqzqlhH6IsvvlDbtm1Vt25d/fjjjy5pAwAAX8I6gB7yFDBKxwwgAACwGgHQwxEAAQCA1QiAHo51AAEAgNUIgB6OGUAAAGA1AqCHYx1AAABgNQKghyueATTGqKioyM29AQAA1wICoIcrDoASs4AAAMAaBEAPRwAEAABWIwB6OAIgAACwGgHQwxEAAQCA1QiAHq74KWCJtQABAIA1CIAezmazsRQMAACwFAHQCxAAAQCAlQiAXoBvAwEAAFYiAHoBAiAAALASAdALEAABAICVCIBegAAIAACsRAD0AgRAAABgJQKgFygOgKwDCAAArEAA9ALMAAIAACsRAL0A6wACAAArEQC9ADOAAADASgRAL0AABAAAViIAegECIAAAsBIB0AsQAAEAgJUIgF6AAAgAAKxEAPQCBEAAAGAlAqAXYCFoAABgJQKgF2AdQAAAYCUCoBfgEjAAALASAdALEAABAICVCIBegAAIAACsRAD0AgRAAABgJQKgFyAAAgAAKxEAvQABEAAAWIkA6AVYBxAAAFiJAOgFWAcQAABYiQDoBbgEDAAArEQA9AIEQAAAYCUCoBcgAAIAACsRAL0AARAAAFiJAOgFCIAAAMBKBEAvQAAEAABWIgB6AdYBBAAAViIAegHWAQQAAFYiAHoBLgEDAAArEQC9AAEQAABYiQDoBQiAAADASgRAL0AABAAAViIAegECIAAAsJJHBMBFixYpOjpawcHBiomJ0Y4dO65YPzU1VTExMQoODlbz5s21ZMmSEnXWr1+v1q1bKygoSK1bt9abb77psD0xMVE2m83hFRERYel5WYUACAAArOT2ALh27VpNmDBBTz75pPbv36+ePXuqX79+ysjIcFr/+PHj6t+/v3r27Kn9+/friSee0Lhx47R+/Xp7nbS0NA0bNkwjR47UZ599ppEjR+r+++/X7t27HY7Vpk0bZWZm2l8HDx506blWFOsAAgAAK7k9AL744ot66KGH9PDDD6tVq1aaO3eumjRposWLFzutv2TJEjVt2lRz585Vq1at9PDDD2vs2LGaM2eOvc7cuXPVt29fTZ06VS1bttTUqVN11113ae7cuQ7H8vf3V0REhP1Vr149V55qhbEOIAAAsJJbA2B+fr727t2r2NhYh/LY2Fjt3LnT6T5paWkl6sfFxWnPnj26dOnSFev8/phHjx5VZGSkoqOj9cADD+ibb765Yn/z8vKUm5vr8KoKXAIGAABWcmsAzM7OVmFhoRo0aOBQ3qBBA2VlZTndJysry2n9goICZWdnX7HOb4/ZpUsXrVy5Ulu2bNGyZcuUlZWl7t2768yZM6X2d9asWQoLC7O/mjRpUq7zrSgCIAAAsJLbLwFLks1mc3hvjClRdrX6vy+/2jH79eunIUOGqF27durTp4/effddSdK//vWvUtudOnWqcnJy7K8TJ05c5cysQQAEAABW8ndn43Xr1pWfn1+J2b7Tp0+XmMErFhER4bS+v7+/6tSpc8U6pR1TkmrWrKl27drp6NGjpdYJCgpSUFDQFc/JFQiAAADASm6dAQwMDFRMTIxSUlIcylNSUtS9e3en+3Tr1q1E/a1bt6pTp04KCAi4Yp3Sjildvr8vPT1dDRs2rMipuBQBEAAAWMntl4ATEhL08ssva8WKFUpPT9fEiROVkZGh+Ph4SZcvu44aNcpePz4+Xt99950SEhKUnp6uFStWaPny5Zo0aZK9zvjx47V161Y9//zzOnLkiJ5//nm9//77mjBhgr3OpEmTlJqaquPHj2v37t0aOnSocnNzNXr06Co797IiAAIAACu59RKwJA0bNkxnzpxRUlKSMjMz1bZtW23atElRUVGSpMzMTIc1AaOjo7Vp0yZNnDhRCxcuVGRkpObNm6chQ4bY63Tv3l1r1qzRU089paefflrXX3+91q5dqy5dutjrfP/99xo+fLiys7NVr149de3aVbt27bK360lYBxAAAFjJZoqfoEC55ebmKiwsTDk5OQoNDXVZO6mpqerdu7datmyp9PR0l7UDAIAvqKrPb0/m9kvAuDouAQMAACsRAL0AARAAAFiJAOgFCIAAAMBKBEAvQAAEAABWIgB6AQIgAACwEgHQCxAAAQCAlQiAXoB1AAEAgJUIgF7Az89PEjOAAADAGgRAL8AlYAAAYCUCoBcgAAIAACsRAL1AcQA0xqioqMjNvQEAAN6OAOgFigOgxCwgAACoPAKgFyAAAgAAKxEAvQABEAAAWIkA6AV+GwBZCxAAAFQWAdCDJSYmKjk52b4OoPR/M4DJyclKTEx0U88AAIA3IwB6MD8/P02bNk3PPvusqlW7/KMqKChQcnKypk2b5hAMAQAAysr/6lXgLk8//bQkOYS9F154QS+88IKSkpLs2wEAAMqDAOjhfhsCJRH+AABApdmMMcbdnfBWubm5CgsLU05OjkJDQ13als1mkyQFBAQoPz/fpW0BAHAtq8rPb0/FPYBeIDk52f7nS5cuObwHAAAoLwKghyt+4GPs2LGSpKCgIE2bNo0QCAAAKowA6MGKw19SUpKWLVumJk2aKC8vT8OGDSMEAgCACiMAerDCwkL7Ax/VqlXT8OHDJUl5eXlKSkpiUWgAAFAhPARSCVV9E+nnn3+um2++WYGBgcrKylJ4eLjL2wQA4FrDQyDMAHqV9u3bq127dsrPz9e6devc3R0AAOClCIBeZsSIEZKk1157zc09AQAA3ooA6GWK7wNMTU1VRkaGm3sDAAC8EQHQyzRt2lS33367JGn16tVu7g0AAPBGBEAv9OCDD0riMjAAAKgYAqAXGjp0qAIDA3Xw4EEdPHjQ3d0BAABehgDohcLDw9W/f39JzAICAIDyIwB6qeKngV9//XUVFRW5uTcAAMCbEAC91IABAxQaGqoTJ05ox44d7u4OAADwIgRALxUcHKyhQ4dK4jIwAAAoHwKgFyu+DPzGG28oLy/Pzb0BAADeggDoxXr16qXIyEj9/PPPeu+999zdHQAA4CUIgF7Mz8/P/s0gXAYGAABlRQD0csWLQr/99tvKyclxc28AAIA3IAB6uZtvvlmtW7dWXl6e1q9f7+7uAAAAL0AA9HI2m83+MAiXgQEAQFkQAL1cYmKisrOzJUnbtm3TyZMn7duSk5OVmJjopp4BAABPRQD0cn5+fvrHP/6hpk2byhijNWvWSLoc/qZNmyY/Pz839xAAAHgaf3d3AJXz9NNPS5KmTZsmSVq1apXOnz+vadOmKSkpyb4dAACgGAHwGvD000/r/Pnzeu6553TgwAEdOHBAPXv21O23365Lly4pICDA3V0EAAAexGaMMe7uhLfKzc1VWFiYcnJyFBoa6u7uyN/fX4WFhQ5lISEhuvPOOxUXF6e7775b0dHRbuodAACewdM+v92BGcBrRHJysgoLCxUYGKj8/Hy1b99emZmZ+vHHH/XWW2/prbfekiTdcMMNuvvuuxUXF6fevXurZs2abu45AACoajwEcg0ofuAjKSlJeXl5SkpK0ueff67HHntMe/fu1YwZM3T77bfL399fR48e1fz58zVgwADVrl1bffr00d///nd9/vnnYjIYAADfwCXgSvCEKeTfhr/fPvDhrDw3N1cffvihtmzZos2bN+vbb791OFZkZKRiY2MVFxenvn37qk6dOlV5KgAAVAlP+Px2NwJgJXjCL1BiYqL8/PycPu1bfFnY2VqAxhgdPXrUHga3b9+u8+fP27fbbDZ17tzZfrn41ltvlb+/f4XbAwDAU3jC57fbGQ+wcOFC06xZMxMUFGQ6duxoPvrooyvW3759u+nYsaMJCgoy0dHRZvHixSXqrFu3zrRq1coEBgaaVq1amQ0bNlS63d/LyckxkkxOTk659vNEFy5cMCkpKWbSpEmmXbt2RpLD67rrrjNDhw41gwYNMpJMUlKSw/5JSUlOyz3B9OnTS+1XUlKSmT59etV26BrGWAOojKr6O+Ra+vyuKLcHwDVr1piAgACzbNkyc/jwYTN+/HhTs2ZN89133zmt/80335gaNWqY8ePHm8OHD5tly5aZgIAAs27dOnudnTt3Gj8/PzNz5kyTnp5uZs6cafz9/c2uXbsq3K4z1/Iv0Pfff29WrFhh7r//fhMeHl4iEEoyXbt2NTNnzjT9+vUzkswf/vAHs2bNGvPWW2+ZrVu3mo8++sh8+umn5uDBg+bYsWPm5MmT5syZM+b8+fOmsLCwys6ltHDqyaHVWzHWACqjqv4OuZY/v8vK7ZeAu3Tpoo4dO2rx4sX2slatWmnw4MGaNWtWifqTJ0/Wxo0blZ6ebi+Lj4/XZ599prS0NEnSsGHDlJubq/fee89e5+6771Z4eLhWr15doXad8ZUp5MLCQu3Zs0ebN2/Wli1btHv3bhUVFVX6uEFBQapevbqCg4Od/tfKsgULFmjmzJl65plnNG3atFLvnUTl/X5sGWsA5VEVf4f4yuf3lbg1AObn56tGjRp644039Ic//MFePn78eB04cECpqakl9rn99tvVoUMHvfTSS/ayN998U/fff7/Onz+vgIAANW3aVBMnTtTEiRPtdf7xj39o7ty5+u677yrUriTl5eUpLy/P/j43N1dNmjTxuV+gs2fP6v3339fw4cNVWFioatWq6d5779XFixd14cKFEv/97Z9/v06hO/n5+dkXybbZbLLZbA5//v17tpV92/Hjx/X111/LZrPJGKMWLVro+uuvL/PPpvg45eUN+9FH9+5HH927X1n3OXjwoA4ePKhq1aqpqKjI8n9AEgDdvA5gdna2CgsL1aBBA4fyBg0aKCsry+k+WVlZTusXFBQoOztbDRs2LLVO8TEr0q4kzZo1S88880yZz+9aFR4eriNHjjisO9ixY8cy/c9ZUFBQIhReKTCWZdvV6l+4cMHpEjeFhYUeFUivRcXjfuzYMR07dszNvQHgbYqKikp98BCV4xELQf/+XwTGmCv+K8FZ/d+Xl+WY5W136tSpSkhIsL8vngH0NaVNz0u66v+k/v7+CgkJUUhISFV0VdLln+ulS5eUlJSkGTNm2ENrQkKCxo8fL3P5Xlh7XWfv2Va+bW+++abWr18vf39/FRQU6L777tPgwYPL/POqCG/Yjz66dz/66N79yrPP1q1b9d5778nPz0+FhYVKTk4mBFrMrQGwbt268vPzKzHrdvr06RKzc8UiIiKc1vf397evW1daneJjVqRd6fI9a0FBQWU7uWuUs3sxiv9b1hBY1Ww2m55//nnNmDGjRGi97rrrPK6/3i45OVnr168vMda33HILYw3gqpKTk/Xee+9VaJIB5VC2Z0Vc59ZbbzWPPvqoQ1mrVq3MlClTnNZ//PHHTatWrRzK4uPjTdeuXe3v77//ftOvXz+HOnfffbd54IEHKtyuM774FJE3LvPBk6lVh7EGUBk8BVx13H4JOCEhQSNHjlSnTp3UrVs3LV26VBkZGYqPj5d0+bLryZMntXLlSkmXn/hdsGCBEhIS9MgjjygtLU3Lly+3P90rXX6Y4/bbb9fzzz+vQYMG6a233tL777+vjz/+uMztwrkrLfLsqf8yKywsdHoDcfF77gO0DmMNoDL4O6QKuTuBGnN5QeaoqCgTGBhoOnbsaFJTU+3bRo8ebXr16uVQf/v27aZDhw4mMDDQNGvWzOlC0G+88Ya56aabTEBAgGnZsqVZv359udotC/4FAQCA9+Hz2wPWAfRmPEYOAID34fNbqubuDgAAAKBqEQABAAB8DAEQAADAxxAAAQAAfAwBEAAAwMcQAAEAAHwMARAAAMDHEAABAAB8DAEQAADAx7j9u4C9WfGXqOTm5rq5JwAAoKyKP7d9+cvQCICVcO7cOUlSkyZN3NwTAABQXufOnVNYWJi7u+EWfBdwJRQVFenUqVMKCQmRzWar8HFyc3PVpEkTnThxwme/k7CqMNZVh7GuOox11WGsq44rx9oYo3PnzikyMlLVqvnm3XDMAFZCtWrV1LhxY8uOFxoayl8oVYSxrjqMddVhrKsOY111XDXWvjrzV8w3Yy8AAIAPIwACAAD4GAKgBwgKCtL06dMVFBTk7q5c8xjrqsNYVx3Guuow1lWHsXYtHgIBAADwMcwAAgAA+BgCIAAAgI8hAAIAAPgYAiAAAICPIQC62aJFixQdHa3g4GDFxMRox44d7u6S15k1a5Y6d+6skJAQ1a9fX4MHD9aXX37pUMcYo8TEREVGRqp69erq3bu3vvjiC4c6eXl5+utf/6q6deuqZs2auvfee/X9999X5al4nVmzZslms2nChAn2MsbaOidPntSDDz6oOnXqqEaNGrrlllu0d+9e+3bG2hoFBQV66qmnFB0drerVq6t58+ZKSkpSUVGRvQ5jXTEfffSRBg4cqMjISNlsNv373/922G7VuJ49e1YjR45UWFiYwsLCNHLkSP38888uPjsvZ+A2a9asMQEBAWbZsmXm8OHDZvz48aZmzZrmu+++c3fXvEpcXJx55ZVXzKFDh8yBAwfMPffcY5o2bWp++eUXe53nnnvOhISEmPXr15uDBw+aYcOGmYYNG5rc3Fx7nfj4eNOoUSOTkpJi9u3bZ+644w5z8803m4KCAneclsf75JNPTLNmzUz79u3N+PHj7eWMtTV++uknExUVZcaMGWN2795tjh8/bt5//31z7Ngxex3G2hrPPvusqVOnjnnnnXfM8ePHzRtvvGFq1apl5s6da6/DWFfMpk2bzJNPPmnWr19vJJk333zTYbtV43r33Xebtm3bmp07d5qdO3eatm3bmgEDBlTVaXolAqAb3XrrrSY+Pt6hrGXLlmbKlClu6tG14fTp00aSSU1NNcYYU1RUZCIiIsxzzz1nr3Px4kUTFhZmlixZYowx5ueffzYBAQFmzZo19jonT5401apVM5s3b67aE/AC586dMzfccINJSUkxvXr1sgdAxto6kydPNj169Ch1O2NtnXvuuceMHTvWoey+++4zDz74oDGGsbbK7wOgVeN6+PBhI8ns2rXLXictLc1IMkeOHHHxWXkvLgG7SX5+vvbu3avY2FiH8tjYWO3cudNNvbo25OTkSJJq164tSTp+/LiysrIcxjooKEi9evWyj/XevXt16dIlhzqRkZFq27YtPw8n/vKXv+iee+5Rnz59HMoZa+ts3LhRnTp10n/8x3+ofv366tChg5YtW2bfzlhbp0ePHvrggw/01VdfSZI+++wzffzxx+rfv78kxtpVrBrXtLQ0hYWFqUuXLvY6Xbt2VVhYGGN/Bf7u7oCvys7OVmFhoRo0aOBQ3qBBA2VlZbmpV97PGKOEhAT16NFDbdu2lST7eDob6++++85eJzAwUOHh4SXq8PNwtGbNGu3du1d79uwpsY2xts4333yjxYsXKyEhQU888YQ++eQTjRs3TkFBQRo1ahRjbaHJkycrJydHLVu2lJ+fnwoLCzVjxgwNHz5cEr/XrmLVuGZlZal+/foljl+/fn3G/goIgG5ms9kc3htjSpSh7B577DF9/vnn+vjjj0tsq8hY8/NwdOLECY0fP15bt25VcHBwqfUY68orKipSp06dNHPmTElShw4d9MUXX2jx4sUaNWqUvR5jXXlr167VqlWr9Prrr6tNmzY6cOCAJkyYoMjISI0ePdpej7F2DSvG1Vl9xv7KuATsJnXr1pWfn1+Jf52cPn26xL+GUDZ//etftXHjRm3btk2NGze2l0dEREjSFcc6IiJC+fn5Onv2bKl1cPlyzOnTpxUTEyN/f3/5+/srNTVV8+bNk7+/v32sGOvKa9iwoVq3bu1Q1qpVK2VkZEji99pKf/vb3zRlyhQ98MADateunUaOHKmJEydq1qxZkhhrV7FqXCMiIvTDDz+UOP6PP/7I2F8BAdBNAgMDFRMTo5SUFIfylJQUde/e3U298k7GGD322GPasGGDPvzwQ0VHRztsj46OVkREhMNY5+fnKzU11T7WMTExCggIcKiTmZmpQ4cO8fP4jbvuuksHDx7UgQMH7K9OnTppxIgROnDggJo3b85YW+S2224rsZzRV199paioKEn8Xlvp/PnzqlbN8ePQz8/PvgwMY+0aVo1rt27dlJOTo08++cReZ/fu3crJyWHsr8QdT57gsuJlYJYvX24OHz5sJkyYYGrWrGm+/fZbd3fNqzz66KMmLCzMbN++3WRmZtpf58+ft9d57rnnTFhYmNmwYYM5ePCgGT58uNOlBho3bmzef/99s2/fPnPnnXf6/BIOZfHbp4CNYayt8sknnxh/f38zY8YMc/ToUfPaa6+ZGjVqmFWrVtnrMNbWGD16tGnUqJF9GZgNGzaYunXrmscff9xeh7GumHPnzpn9+/eb/fv3G0nmxRdfNPv377cvd2bVuN59992mffv2Ji0tzaSlpZl27dqxDMxVEADdbOHChSYqKsoEBgaajh072pcuQdlJcvp65ZVX7HWKiorM9OnTTUREhAkKCjK33367OXjwoMNxLly4YB577DFTu3ZtU716dTNgwACTkZFRxWfjfX4fABlr67z99tumbdu2JigoyLRs2dIsXbrUYTtjbY3c3Fwzfvx407RpUxMcHGyaN29unnzySZOXl2evw1hXzLZt25z+/Tx69GhjjHXjeubMGTNixAgTEhJiQkJCzIgRI8zZs2er6Cy9k80YY9wz9wgAAAB34B5AAAAAH0MABAAA8DEEQAAAAB9DAAQAAPAxBEAAAAAfQwAEAADwMQRAAAAAH0MABAAA8DEEQAAAAB9DAAQAN+jdu7cmTJjg8nbOnDmj+vXr69tvv3V5W1cydOhQvfjii27tA4D/QwAErhFjxozR4MGD3d0Nj1dVwetqNmzYoOTkZJe3M2vWLA0cOFDNmjWTJH300UcaOHCgIiMjZbPZ9O9//7vUfceMGaMpU6Y4lO3cuVM2m0133313ufoxbdo0zZgxQ7m5ueU9BQAuQAAEYJn8/Hx3d8Fr1K5dWyEhIS5t48KFC1q+fLkefvhhe9mvv/6qm2++WQsWLLjivkVFRXr33Xc1aNAgh/IVK1Zo+PDh2rZtmzIyMsrcl/bt26tZs2Z67bXXyncSAFyCAAhco3r37q1x48bp8ccfV+3atRUREaHExERJ0j//+U81atRIRUVFDvvce++9Gj16tP29MUazZ89W8+bNVb16dd18881at26dQxuPPfaYEhISVLduXfXt21eStG7dOrVr107Vq1dXnTp11KdPH/36669lOubvffvtt7LZbCVevXv3LnWf0tofM2aMUlNT9dJLL9mP8+2335apT8Xn+thjj+m6665TnTp19NRTT8kYU+5+FB+veCayLOdY3nGTpPfee0/+/v7q1q2bvaxfv3569tlndd99911x3//93/9VtWrV1KVLF3vZr7/+qrVr12rChAm688479eqrrzrsM3PmTKfnUXzp995779Xq1auv2C6AKmIAXBNGjx5tBg0aZH/fq1cvExoaahITE81XX31l/vWvfxmbzWa2bt1qzpw5YwIDA837779vr//TTz+ZwMBAs2XLFnvZE088YVq2bGk2b95svv76a/PKK6+YoKAgs337dnsbtWrVMn/729/MkSNHTHp6ujl16pTx9/c3L774ojl+/Lj5/PPPzcKFC825c+fKdMzfKygoMJmZmfbX/v37TZ06dczTTz/ttP6V2v/5559Nt27dzCOPPGI/XkFBQZn6VHyu48ePN0eOHDGrVq0yNWrUMEuXLi13P4qPN378+DKfY3nHzRhjxo8fb+6+++5St0syb775ptNtkyZNMg899JBD2fLly02LFi2MMcb893//t2nWrJkpKiqyb8/NzXU4j0cffdRERUWZEydOGGOM2bRpkwkKCjIXL14stU8AqgYBELhGOAuAPXr0cKjTuXNnM3nyZGOMMffee68ZO3asfds///lPExERYQoKCowxxvzyyy8mODjY7Ny50+EYDz30kBk+fLi9jVtuucVh+969e40k8+2335boY1mOeSUXLlwwXbp0MQMGDDCFhYVO61yp/eI+Fwev8vSpV69eplWrVg6BZ/LkyaZVq1aW9ONK51jRcRs0aJDDz/j3rhQAb7zxRrNx40aHsu7du5vp06cbY4w5d+6cqVGjhklJSXG6f2JioomKinI4/88+++yKYwKg6vi7c/YRgGu1b9/e4X3Dhg11+vRpSdKIESP0pz/9SYsWLVJQUJBee+01PfDAA/Lz85MkHT58WBcvXrRf1i2Wn5+vDh062N936tTJYfvNN9+su+66S+3atVNcXJxiY2M1dOhQhYeHl/mYpXnooYd07tw5paSkqFo153ewXKl9Z8rTp65du8pms9nfd+vWTS+88IIKCwvt41bRflzpHCs6bhcuXFBwcPAV23MmPT1d33//vfr06WMv+/LLL7Vz50698sorkqRatWpp0KBBWrFihUM9SXrmmWf0yiuvKDU1VVFRUfby6tWrS5LOnz9f7j4BsBYBELiGBQQEOLy32Wz2+/4GDhxov9G/c+fO2rFjh8MyHcX13n33XTVq1MjhOEFBQfY/16xZ02Gbn5+fUlJStHPnTm3dulXz58/Xk08+qd27d5f5mM48++yz2rx5sz755JMrPjxxpfajo6NL1K9Mn66kvP240jlWtI9169bV2bNny933jRs3qm/fvvbAJknLly9X586ddeONN9rLRowYoSFDhujs2bP2YFta+JOkn376SZJUr169cvcJgLV4CATwUdWrV9d9992n1157TatXr9aNN96omJgY+/bWrVsrKChIGRkZatGihcOrSZMmVzy2zWbTbbfdpmeeeUb79+9XYGCg3nzzzQofc/369UpKStL//M//6Prrr7/quZXWviQFBgaqsLCwQue5a9euEu9vuOGGErN/ZelHec6xouPWoUMHHT58uPSBKsVbb72le++91/6+oKBAK1eu1H/+53861IuLi1NISIj9yd4rhT9JOnTokBo3bqy6deuWu08ArMUMIODDRowYoYEDB+qLL77Qgw8+6LAtJCREkyZN0sSJE1VUVKQePXooNzdXO3fuVK1atRyeFv6t3bt364MPPlBsbKzq16+v3bt368cff1SrVq0qdMxDhw5p1KhRmjx5stq0aaOsrCxJl4Nc7dq1y9W+JDVr1ky7d+/Wt99+q1q1aql27dpl7tOJEyeUkJCg//qv/9K+ffs0f/58vfDCC+Ueh/KeY0V/FnFxcZo6darDDN0vv/yiY8eO2escP35cBw4cUO3atdW0aVOdPn1an376qcP6gO+8845++OEHtW3bVocOHXJoo2fPnlq+fLl+/vlnLViwQO+8846CgoLs5xAeHm6fpdyxY4diY2Od9hVAFXP3TYgArOHsIZDfP2QwaNAgM3r0aPv7goIC07BhQyPJfP311yWOWVRUZF566SVz0003mYCAAFOvXj0TFxdnUlNTS23j8OHDJi4uztSrV88EBQWZG2+80cyfP7/Mx/y9V155xUgq8erVq5fT+ldr/8svvzRdu3Y11atXN5LM8ePHy9SnXr16mT//+c8mPj7ehIaGmvDwcDNlyhSHh0LK04/fjl1ZzrG841asa9euZsmSJfb327Ztc9pW8e/Fyy+/bG677TaHYwwYMMDpPr991apVy2n5rl27jDGXH24JDQ01aWlpV+wvgKphM+YKi1gBACRdXrfvlltu0dy5c93dlXLZtGmTJk2apEOHDpX64Mxv3XvvverRo4cef/xxS/uxcOFCvfXWW9q6daulxwVQMVwCBoBrWP/+/XX06FGdPHnyqvduSlKPHj00fPhwy/sREBCg+fPnW35cABXDDCAAlIG3zgACgDMEQAAAAB/DMjAAAAA+hgAIAADgYwiAAAAAPoYACAAA4GMIgAAAAD6GAAgAAOBjCIAAAAA+5v8Brn3mdktafigAAAAASUVORK5CYII=' width=640.0/>\n",
       "            </div>\n",
       "        "
      ],
      "text/plain": [
       "Canvas(toolbar=Toolbar(toolitems=[('Home', 'Reset original view', 'home', 'home'), ('Back', 'Back to previous …"
      ]
     },
     "metadata": {},
     "output_type": "display_data"
    }
   ],
   "source": [
    "inv_z = np.linspace(0, max(inv_dz_vals), 1000)\n",
    "plt.figure()\n",
    "plt.title('Max error for $\\\\lambda = 6$')\n",
    "plt.ylabel('Max error')\n",
    "plt.xlabel('Inverse z step size $(1 / \\Delta z)$')\n",
    "plt.xlim\n",
    "plt.plot(inv_dz_vals, real_max_errors, marker='x', color='black', label='Max error/step size data points')\n",
    "plt.show()"
   ]
  },
  {
   "cell_type": "code",
   "execution_count": 179,
   "id": "4b3bd903-6520-446d-8799-c66980e45220",
   "metadata": {},
   "outputs": [
    {
     "data": {
      "application/vnd.jupyter.widget-view+json": {
       "model_id": "a4629489cdfe4966af0ddc8d99d6ec06",
       "version_major": 2,
       "version_minor": 0
      },
      "image/png": "[encoded data removed]",
      "text/html": [
       "\n",
       "            <div style=\"display: inline-block;\">\n",
       "                <div class=\"jupyter-widgets widget-label\" style=\"text-align: center;\">\n",
       "                    Figure\n",
       "                </div>\n",
       "                <img src='data:image/png;base64,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' width=640.0/>\n",
       "            </div>\n",
       "        "
      ],
      "text/plain": [
       "Canvas(toolbar=Toolbar(toolitems=[('Home', 'Reset original view', 'home', 'home'), ('Back', 'Back to previous …"
      ]
     },
     "metadata": {},
     "output_type": "display_data"
    }
   ],
   "source": [
    "inv_z = np.linspace(0, max(inv_dz_vals), 1000)\n",
    "plt.figure()\n",
    "plt.title('Max error for $\\\\lambda = 6$')\n",
    "plt.ylabel('Max error')\n",
    "plt.xlabel('Inverse z step size $(1 / \\Delta z)$')\n",
    "plt.xlim\n",
    "plt.loglog(inv_dz_vals, real_max_errors, marker='x', color='black', label='Max error/step size data points')\n",
    "plt.show()"
   ]
  },
  {
   "cell_type": "markdown",
   "id": "f8734e06-fb79-42c7-a40b-c6b249c4a26b",
   "metadata": {
    "tags": []
   },
   "source": [
    "## NEXT CELLS"
   ]
  },
  {
   "cell_type": "markdown",
   "id": "1b8948b0-e2c3-4220-8700-2d8f47e483b8",
   "metadata": {
    "tags": []
   },
   "source": [
    "### Storing data"
   ]
  },
  {
   "cell_type": "code",
   "execution_count": 186,
   "id": "6f9eea74-ba58-4266-bbe0-a4bd1915b1c9",
   "metadata": {},
   "outputs": [
    {
     "name": "stdout",
     "output_type": "stream",
     "text": [
      "   Real Errors     dt      dz  lambda  Entire Errors\n",
      "0     0.047598  1.000  0.1000    10.0    2793.639385\n",
      "1     0.006734  0.500  0.0500    10.0     763.020142\n",
      "2     0.001315  0.250  0.0250    10.0     317.462827\n",
      "3     0.000291  0.100  0.0100    10.0     121.210131\n",
      "4     0.000055  0.050  0.0050    10.0      94.407466\n",
      "5     0.000018  0.025  0.0025    10.0      87.471407\n",
      "6     0.000004  0.010  0.0010    10.0      83.987166\n",
      "   Real Errors      dt      dz  lambda  Entire Errors\n",
      "0     0.023060  0.5000  0.1000     5.0     706.093206\n",
      "1     0.002451  0.2500  0.0500     5.0     316.734714\n",
      "2     0.000677  0.1250  0.0250     5.0     151.671589\n",
      "3     0.000129  0.0500  0.0100     5.0      61.055801\n",
      "4     0.000026  0.0250  0.0050     5.0      31.957451\n",
      "5     0.000007  0.0125  0.0025     5.0      17.795154\n",
      "6     0.000002  0.0050  0.0010     5.0      10.139681\n",
      "   Real Errors     dt      dz  lambda  Entire Errors\n",
      "0     0.020917  0.400  0.1000     4.0     533.606324\n",
      "1     0.002121  0.200  0.0500     4.0     248.162287\n",
      "2     0.000611  0.100  0.0250     4.0     120.719371\n",
      "3     0.000110  0.040  0.0100     4.0      49.326410\n",
      "4     0.000024  0.020  0.0050     4.0      26.238310\n",
      "5     0.000006  0.010  0.0025     4.0      15.058527\n",
      "6     0.000002  0.004  0.0010     4.0       9.609194\n",
      "   Real Errors      dt      dz  lambda  Entire Errors\n",
      "0     0.019099  0.3000  0.1000     3.0     360.174193\n",
      "1     0.001916  0.1500  0.0500     3.0     187.643318\n",
      "2     0.000561  0.0750  0.0250     3.0      89.360442\n",
      "3     0.000095  0.0300  0.0100     3.0      37.528290\n",
      "4     0.000022  0.0150  0.0050     3.0      20.624898\n",
      "5     0.000005  0.0075  0.0025     3.0      12.421125\n",
      "6     0.000002  0.0030  0.0010     3.0       9.607894\n",
      "   Real Errors     dt      dz  lambda  Entire Errors\n",
      "0     0.027467  0.600  0.1000     6.0    1105.096320\n",
      "1     0.002867  0.300  0.0500     6.0     369.397793\n",
      "2     0.000777  0.150  0.0250     6.0     188.323785\n",
      "3     0.000155  0.060  0.0100     6.0      73.603230\n",
      "4     0.000030  0.030  0.0050     6.0      37.546826\n",
      "5     0.000009  0.015  0.0025     6.0      20.625321\n",
      "6     0.000003  0.006  0.0010     6.0      11.098954\n"
     ]
    }
   ],
   "source": [
    "# write a pandas dataframe with all the values so that they do not need to be recalculated\n",
    "import pandas as pd\n",
    "\n",
    "ErrorVals2 = pd.DataFrame({'Real Errors': L2_real_max_errors + L2a_real_max_errors,\n",
    "                           'dt': L2_dt_vals + L2a_dt_vals, \n",
    "                           'dz': L2_dz_vals + L2a_dz_vals,\n",
    "                           'lambda': np.divide(np.array(L2_dt_vals + L2a_dt_vals), \n",
    "                                               np.array(L2_dz_vals + L2a_dz_vals)),\n",
    "                           'Entire Errors': L2_max_errors + L2a_max_errors,\n",
    "                         })\n",
    "\n",
    "print(ErrorVals2)\n",
    "\n",
    "# write to csv file\n",
    "ErrorVals2.to_csv('RCN2 l10 data.csv', index=False)\n",
    "\n",
    "### --------------------------------------------\n",
    "\n",
    "ErrorVals3 = pd.DataFrame({'Real Errors': L3_real_max_errors + L3a_real_max_errors,\n",
    "                           'dt': L3_dt_vals + L3a_dt_vals, \n",
    "                           'dz': L3_dz_vals + L3a_dz_vals,\n",
    "                           'lambda': np.divide(np.array(L3_dt_vals + L3a_dt_vals), \n",
    "                                               np.array(L3_dz_vals + L3a_dz_vals)),\n",
    "                           'Entire Errors': L3_max_errors + L3a_max_errors,\n",
    "                         })\n",
    "\n",
    "print(ErrorVals3)\n",
    "\n",
    "# write to csv file\n",
    "ErrorVals3.to_csv('RCN2 l5 data.csv', index=False)\n",
    "\n",
    "### --------------------------------------------\n",
    "\n",
    "ErrorVals4 = pd.DataFrame({'Real Errors': L4_real_max_errors + L4a_real_max_errors,\n",
    "                           'dt': L4_dt_vals + L4a_dt_vals, \n",
    "                           'dz': L4_dz_vals + L4a_dz_vals,\n",
    "                           'lambda': np.divide(np.array(L4_dt_vals + L4a_dt_vals), \n",
    "                                               np.array(L4_dz_vals + L4a_dz_vals)),\n",
    "                           'Entire Errors': L4_max_errors + L4a_max_errors,\n",
    "                         })\n",
    "\n",
    "print(ErrorVals4)\n",
    "\n",
    "# write to csv file\n",
    "ErrorVals4.to_csv('RCN2 l4 data.csv', index=False)\n",
    "\n",
    "### --------------------------------------------\n",
    "\n",
    "ErrorVals5 = pd.DataFrame({'Real Errors': L5_real_max_errors + L5a_real_max_errors,\n",
    "                           'dt': L5_dt_vals + L5a_dt_vals, \n",
    "                           'dz': L5_dz_vals + L5a_dz_vals,\n",
    "                           'lambda': np.divide(np.array(L5_dt_vals + L5a_dt_vals), \n",
    "                                               np.array(L5_dz_vals + L5a_dz_vals)),\n",
    "                           'Entire Errors': L5_max_errors + L5a_max_errors,\n",
    "                         })\n",
    "\n",
    "print(ErrorVals5)\n",
    "\n",
    "# write to csv file\n",
    "ErrorVals5.to_csv('RCN2 l3 data.csv', index=False)\n",
    "\n",
    "### ---------------------------------------------\n",
    "\n",
    "ErrorVals6 = pd.DataFrame({'Real Errors': L6_real_max_errors + L6a_real_max_errors,\n",
    "                           'dt': L6_dt_vals + L6a_dt_vals, \n",
    "                           'dz': L6_dz_vals + L6a_dz_vals,\n",
    "                           'lambda': np.divide(np.array(L6_dt_vals + L6a_dt_vals), \n",
    "                                               np.array(L6_dz_vals + L6a_dz_vals)),\n",
    "                           'Entire Errors': L6_max_errors + L6a_max_errors,\n",
    "                         })\n",
    "\n",
    "print(ErrorVals6)\n",
    "\n",
    "# write to csv file\n",
    "ErrorVals6.to_csv('RCN2 l6 data.csv', index=False)"
   ]
  },
  {
   "cell_type": "markdown",
   "id": "83c8f82c-bbc5-469e-aeed-53387b7a2955",
   "metadata": {
    "tags": []
   },
   "source": [
    "# All on one PLOT"
   ]
  },
  {
   "cell_type": "code",
   "execution_count": 180,
   "id": "8f44cad7-284c-47ec-a337-f997cd796b88",
   "metadata": {},
   "outputs": [],
   "source": [
    "# delta z values\n",
    "dz_vals_l6 = np.array(L6_dz_vals + L6a_dz_vals)\n",
    "sorted_indices = np.argsort(dz_vals_l6)\n",
    "dz_vals_l6 = np.array([dz_vals_l6[i] for i in sorted_indices])\n",
    "inv_dz_vals_l6 = np.divide(np.ones(len(dz_vals_l6)), dz_vals_l6)\n",
    "\n",
    "# max errors in realistic range\n",
    "real_max_errors_l6 = np.array(L6_real_max_errors + L6a_real_max_errors)\n",
    "real_max_errors_l6 = np.array([real_max_errors_l6[i] for i in sorted_indices])"
   ]
  },
  {
   "cell_type": "code",
   "execution_count": 181,
   "id": "65f966ba-b9fa-4cd4-8a52-3303c528e34f",
   "metadata": {},
   "outputs": [],
   "source": [
    "# delta z values\n",
    "dz_vals_l10 = np.array(L2_dz_vals + L2a_dz_vals)\n",
    "sorted_indices = np.argsort(dz_vals_l10)\n",
    "dz_vals_l10 = np.array([dz_vals_l10[i] for i in sorted_indices])\n",
    "inv_dz_vals_l10 = np.divide(np.ones(len(dz_vals_l10)), dz_vals_l10)\n",
    "\n",
    "# max errors in realistic range\n",
    "real_max_errors_l10 = np.array(L2_real_max_errors + L2a_real_max_errors)\n",
    "real_max_errors_l10 = np.array([real_max_errors_l10[i] for i in sorted_indices])"
   ]
  },
  {
   "cell_type": "code",
   "execution_count": 182,
   "id": "ac0ec459-cbf2-44b8-a965-c7973b42bf15",
   "metadata": {},
   "outputs": [],
   "source": [
    "# delta z values\n",
    "dz_vals_l5 = np.array(L3_dz_vals + L3a_dz_vals)\n",
    "sorted_indices = np.argsort(dz_vals_l5)\n",
    "dz_vals_l5 = np.array([dz_vals_l5[i] for i in sorted_indices])\n",
    "inv_dz_vals_l5 = np.divide(np.ones(len(dz_vals_l5)), dz_vals_l5)\n",
    "\n",
    "# max errors in realistic range\n",
    "real_max_errors_l5 = np.array(L3_real_max_errors + L3a_real_max_errors)\n",
    "real_max_errors_l5 = np.array([real_max_errors_l5[i] for i in sorted_indices])"
   ]
  },
  {
   "cell_type": "code",
   "execution_count": 183,
   "id": "a1cb2dc8-1cfd-4917-9df9-c53b7013e727",
   "metadata": {},
   "outputs": [],
   "source": [
    "# delta z values\n",
    "dz_vals_l4 = np.array(L4_dz_vals + L4a_dz_vals)\n",
    "sorted_indices = np.argsort(dz_vals_l4)\n",
    "dz_vals_l4 = np.array([dz_vals_l4[i] for i in sorted_indices])\n",
    "inv_dz_vals_l4 = np.divide(np.ones(len(dz_vals_l4)), dz_vals_l4)\n",
    "\n",
    "# max errors in realistic range\n",
    "real_max_errors_l4 = np.array(L4_real_max_errors + L4a_real_max_errors)\n",
    "real_max_errors_l4 = np.array([real_max_errors_l4[i] for i in sorted_indices])"
   ]
  },
  {
   "cell_type": "code",
   "execution_count": 184,
   "id": "ff2dbe93-4ed4-4a6e-b6c6-55d6c076a9ba",
   "metadata": {},
   "outputs": [],
   "source": [
    "# delta z values\n",
    "dz_vals_l3 = np.array(L5_dz_vals + L5a_dz_vals)\n",
    "sorted_indices = np.argsort(dz_vals_l3)\n",
    "dz_vals_l3 = np.array([dz_vals_l3[i] for i in sorted_indices])\n",
    "inv_dz_vals_l3 = np.divide(np.ones(len(dz_vals_l3)), dz_vals_l3)\n",
    "\n",
    "# max errors in realistic range\n",
    "real_max_errors_l3 = np.array(L5_real_max_errors + L5a_real_max_errors)\n",
    "real_max_errors_l3 = np.array([real_max_errors_l3[i] for i in sorted_indices])"
   ]
  },
  {
   "cell_type": "code",
   "execution_count": 187,
   "id": "5a2b0042-c126-4eb7-87c7-2511c39707b9",
   "metadata": {},
   "outputs": [
    {
     "data": {
      "application/vnd.jupyter.widget-view+json": {
       "model_id": "98056edf40b8401f8495aa2c40460327",
       "version_major": 2,
       "version_minor": 0
      },
      "image/png": "[encoded data removed]",
      "text/html": [
       "\n",
       "            <div style=\"display: inline-block;\">\n",
       "                <div class=\"jupyter-widgets widget-label\" style=\"text-align: center;\">\n",
       "                    Figure\n",
       "                </div>\n",
       "                <img src='data:image/png;base64,iVBORw0KGgoAAAANSUhEUgAAAoAAAAHgCAYAAAA10dzkAAAAOXRFWHRTb2Z0d2FyZQBNYXRwbG90bGliIHZlcnNpb24zLjUuMiwgaHR0cHM6Ly9tYXRwbG90bGliLm9yZy8qNh9FAAAACXBIWXMAAA9hAAAPYQGoP6dpAADdnElEQVR4nOzdd3RURRvA4d/d3Wx6II0EQiihJkDoVYp0EZEi2BGlKEURUbHQESIigoihIyIoCipVERFEOoaEHnpCCykkIb1su98fK/lEECm7SSDvc86eEzZ378xsdrjvzntnRlFVVUUIIYQQQpQYmqKugBBCCCGEKFwSAAohhBBClDASAAohhBBClDASAAohhBBClDASAAohhBBClDASAAohhBBClDASAAohhBBClDASAAohhBBClDASAAohhBBClDASAAohhBBClDASAAohhBBClDASAAohhBBClDASAAohhBBClDASAAohhBBClDASAAohhBBClDASAAohhBBClDASAAohhBBClDASAAohhBBClDASAAohhBBClDASAAohhBBClDASAAohhBBClDASAAohhBBClDASAAohhBBClDASAAohhBBClDASAAohhBBClDASAAohhBBClDASAAohhBBClDASAAohhBBClDASAAohhBBClDASAAohhBBClDASAAohhBBClDASAAohhBBClDASAAohhBBClDASAAohhBBClDASAAohhBBClDASAAohhBBClDASAApxB37++WcURSl46HQ6KlWqxMiRI8nKyrJr2Vu3bqV///7UrFkTV1dXAgIC6N69O5GRkf/52i+//PKGepctW5ann36a06dP27XeRW3ChAkoikJycnJRV4XDhw/z0ksvUblyZZycnHBzc6NBgwZMmzaN1NTUoq6eEKIE0RV1BYS4n0RFRQHwww8/UK5cObKzs/n666+ZOXMmaWlpfPHFF3Yre+7cuaSkpPD6668TEhLClStX+OSTT2jWrBmbNm2iXbt2/3mOJUuWULNmTfLy8ti1axdTpkzh999/58SJE3h6etqt7gIWLlzI0KFDqVGjBm+//TYhISEYjUb279/PvHnz2LNnD6tXry7qagohSggJAIW4A1FRUTg5OdG9e3e0Wi0Abdu25ffff2f9+vV2LTs8PJwyZcpc99wjjzxC1apVCQsLu60AsHbt2jRq1AiAhx9+GLPZzPjx41mzZg0vvfSSXepdUuTk5ODi4nLT3+3Zs4chQ4bQsWNH1qxZg6OjY8HvOnbsyJtvvskvv/xSWFW1i1u1XwhR/EgKWIg7EBkZSXBwcEHwB6DRaPD19UWns+/3qX8GfwBubm6EhIRw8eLFuzrntWAwMTHxuufPnDnDSy+9RLVq1XBxcSEgIIBu3bpx5MiR6467ll49duwYzzzzDKVKlcLPz4/+/fuTnp5+V8febtnXnDhxgmeeeQY/Pz8cHR2pUKECL7zwAvn5+dcdl5iY+J91PH36NM8++yxlypTB0dGR4OBgwsPDbyjzWluioqLo3bs3np6eVKlS5V/f57CwMBRFYcGCBdcFf9fo9Xoef/zxgn/v3LmT9u3b4+7ujouLCy1atOCnn37613rc6j1ds2YNiqKwZcuWG14/d+5cFEXh8OHDd/Qe/Ff7165dS2hoKI6OjgQFBTFr1qyC1/zTnZR3O5+z2/083O7fWogHlYwACnGbUlJSuHDhAg8//PB1zycmJnLs2DEGDBhw09epqorZbL6tMu40iExPTycqKuq2Rv9uJjY2FoDq1atf9/zly5fx9vZm6tSp+Pr6kpqaytKlS2natCkHDhygRo0a1x3/xBNP8NRTTzFgwACOHDnCe++9B3DTlPh/HXsnZR86dIiWLVvi4+PDpEmTqFatGvHx8axbtw6DwXBdsPVf5UZHR9OiRQsqVKjAJ598gr+/P5s2bWL48OEkJyczfvz4G9rSq1cvnn76aQYPHkx2dvZN32Oz2czWrVtp2LAhgYGBt/hrWP3xxx907NiR0NBQFi9ejKOjI3PmzKFbt26sWLGCp5566o7e08cee4wyZcqwZMkS2rdvf93rvvzySxo0aEBoaOhdvQc3a/8vv/xCr169aN26Nd999x0mk4np06ff8CXjbsr7r7/h7X4e7uZvLcQDRxVC3JZff/1VBdSpU6eqRqNRzcnJUffu3as2bdpU7dmzp5qZmXnT1/3+++8qcFuP2NjYO6rTc889p+p0OnX//v23PG7JkiUqoO7du1c1Go1qZmam+ssvv6j+/v5q69atVaPReMvXm0wm1WAwqNWqVVPfeOONgufHjx+vAuq0adOuO37o0KGqk5OTarFY7urY2ylbVVW1Xbt2aunSpdWkpKR/rfvtltu5c2e1fPnyanp6+nXHvfrqq6qTk5Oampp6wznHjRv3r+Vek5CQoALq008//Z/HqqqqNmvWTC1Tpsx1nyeTyaTWrl1bLV++/F29pyNHjlSdnZ3VtLS0gmOio6NVQJ09e3bBc7f7Htyq/Y0bN1YDAwPV/Pz8gucyMzNVb29v9Z+XnDst77/aeTufhzspV4gHmaSAhbhN12bbvvvuuzg4OODi4kKzZs3w8PDgu+++w83N7aava9iwIREREbf1KFeu3G3XZ+zYsQUTUBo2bHhbr2nWrBkODg64u7vzyCOP4Onpydq1a28YeTSZTISFhRESEoJer0en06HX6zl9+jTHjx+/4bx/T18ChIaGkpeXR1JS0h0fe7tl5+Tk8Mcff/Dkk0/i6+v7n22/Vbl5eXls2bKFnj174uLigslkKng8+uij5OXlsXfv3hvO+cQTT/xnuXciOzubffv20bt37+s+T1qtlr59+3Lp0iVOnjx5R20D6N+/P7m5uXz33XcFxyxZsgRHR0eeffZZgLt6D/7Z/uzsbPbv30+PHj3Q6/UFz7u5udGtW7frjr2b8m7Vztv9PNzt31qIB42kgIW4TVFRUWi1Wnbs2IGDgwMpKSlMmzaNzZs3F8zwvBk3Nzfq1at3W2Xcbgp44sSJTJ48mSlTpvDqq6/ebhP46quvCA4OJjMzk++++4758+fzzDPPsHHjxuuOGzlyJOHh4bzzzju0adMGT09PNBoNAwcOJDc394bzent7X/fva6m2uzn2dsu+evUqZrOZ8uXL31bbb1XutQBg9uzZzJ49+6avv9kyMmXLlv3Pcn18fHBxcSlIt9/K1atXUVX1pue99uUgJSXlht/913taq1YtGjduzJIlS3j55Zcxm80sX76c7t274+XlVXDeO30P/lnPa/X38/O74bX/fO5uyvuvv+HtfB7uplwhHkQSAApxm6KioggJCaF58+YFzzVt2pTy5cuzaNGifw0A//jjD9q2bXtbZcTGxlKpUqVbHjNx4kQmTJjAhAkTeP/992+7/gDBwcEFEz/atm2L2Wxm0aJFfP/99/Tu3bvguOXLl/PCCy8QFhZ23euTk5MpXbr0HZV5p263bC8vL7RaLZcuXbrnMj09PQtG2YYNG3bTYypXrnzDczeb1PBPWq2W9u3bs3HjRi5dunTLAOVasBsfH3/D7y5fvgxYA8q78dJLLzF06FCOHz9OTEwM8fHx1838vpv34J/t9/T0RFGUm97vl5CQcMOxd/Oe/5vb/TzYulwh7lcSAApxG9LT04mJiblhqZTSpUvTq1cvli1bRkxMDEFBQTe89loK+Hb8Vwr4gw8+YMKECYwZM8YmN6pPmzaNH374gXHjxtGrVy80GutdIYqi3DBb9aeffiIuLo6qVavec7m3crtlOzs706ZNG1atWsWUKVPuOjACcHFxoW3bthw4cIDQ0NDr0pe28N577/Hzzz8zaNAg1q5de8P5jUYjv/zyC926daNp06b8+OOPTJ8+HWdnZwAsFgvLly+nfPnyN0zYuV3PPPMMI0eO5MsvvyQmJoaAgAA6depU8HtbvAeurq40atSINWvWMH369IJzZGVlsWHDhuuOtfV7frufB3v/rYW4X0gAKMRtiIqKQlVVmjRpcsPvevfuzbJly1i9ejVvvvnmDb93d3cvGHW7F5988gnjxo3jkUceoWvXrjfcp9SsWbM7Pqenpyfvvfceo0aN4ptvvuH5558H4LHHHuPLL7+kZs2ahIaGEhkZyccff3zb6dZ7cSdlz5gxg5YtW9K0aVPeffddqlatSmJiIuvWrWP+/Pm4u7vfdrmzZs2iZcuWtGrViiFDhlCpUiUyMzM5c+YM69evZ+vWrXfdpubNmzN37lyGDh1Kw4YNGTJkCLVq1cJoNHLgwAEWLFhA7dq16datGx9++CEdO3akbdu2vPXWW+j1eubMmcPRo0dZsWLFbY063kzp0qXp2bMnX375JWlpabz11lsFAb8t34NJkybRtWtXOnfuzOuvv47ZbObjjz/Gzc3tht1ObP2e3+7nwZ5/ayHuG0U8CUWI+8L06dNVQI2MjLzhd3l5eaq7u7vasmVLu9ahTZs2t5xBfCvXZgFHRETc8Lvc3Fy1QoUKarVq1VSTyaSqqqpevXpVHTBggFqmTBnVxcVFbdmypbpjxw61TZs2aps2bQpee2125pUrV25a3t9nNd/usbdb9jXR0dFqnz59VG9vb1Wv16sVKlRQX3zxRTUvL++O6xgbG6v2799fDQgIUB0cHFRfX1+1RYsW6uTJk6977b+d878cPHhQ7devn1qhQgVVr9errq6uav369dVx48ZdN3N1x44dart27VRXV1fV2dlZbdasmbp+/fobzncnbVPV/89kB9RTp07dtI638x78V/tXr16t1qlTp+DvMXXqVHX48OGqp6enTcu7WTv/6/NwJ+UK8SBTVFVVCzHeFEIIUcIYjUbq1atHQEAAv/76a1FXRwiBpICFEELY2IABA+jYsSNly5YlISGBefPmcfz4cWbNmlXUVRNC/EUCQCGEEDaVmZnJW2+9xZUrV3BwcKBBgwb8/PPPdOjQoairJoT4i6SAhRBCCCFKGNkJRAghhBCihJEAUAghhBCihJEAUAghhBCihJEAUAghhBCihJFZwPfAYrFw+fJl3N3d73p1fiGEEEIULlVVyczMpFy5cjfsiFNSSAB4Dy5fvkxgYGBRV0MIIYQQd+HixYuFssVlcSQB4D24tq/kxYsX8fDwsOm5TSYTUVFRNGjQAJ1O/kxCFDbpg0IULXv2wYyMDAIDA+9ov/AHjawDeA8yMjIoVaoU6enpNg8AhRBCCGEfcv2WSSDFlsFgYPny5RgMhqKuihAlkvRBIYqW9EH7kgDwLoSHhxMSEkLjxo3tVoZWqyUkJAStVmu3MoQQ/076oBBFS/qgfUkK+B7IELIQQghx/5Hrt0wCKbYMBgPLli2jb9++6PX6oq6OECWO9EFhS6qqYjKZMJvNRV2V+4bBYGDdunU8/vjjd9wHtVotOp1Olmi7BQkAiymtVkuzZs1k6FuIIiJ9UNiKwWAgPj6enJycoq7KfUVVVUJDQ7l06dJdBXIuLi6ULVtWvsD9C0kB3wMZQhZCCHErFouF06dPo9Vq8fX1Ra/Xy6iUnamqisFg4MqVK5jNZqpVq3bDYs9y/ZYRwLsSHh5OeHi4XYfyDQYDixYtYuDAgfLtRYgiIH1Q2ILBYMBisRAYGIiLi0tRV+e+YrFYSE5OxsfH545363B2dsbBwYHz589jMBhwcnKyUy3vXzIL+C4MGzaM6OhoIiIi7FaGTqejU6dOsgCtEEVE+qCwpZK63di9UBQFDw+Pux4xlff81uR/tmJKo9FQtWrVoq6GECWW9EEhipaiKDJyZ0cSHhdT+fn5zJgxg/z8/KKuihAlkvRBIYqWxWIhISEBi8VS1FV5IEkAWEw5ODjQp08fHBwciroqQpRI0geFsBozZgyOjo48++yzhVquoih4eXnJpBk7kQCwmFJQCAwMlHsYhCgiGo1G+qAQwKhRo5gxYwYrVqzgzJkzNj//3LlzCQ0NxcPDAw8PD5o3b87GjRtRFEVmTduR/M92F+y9FVxaUg4rPtjHRxNnSfpJiCKSn5/Phx9+KH1QlHgeHh70798fjUbDkSNHbH7+8uXLM3XqVPbv38/+/ftp164d3bt358iRI8THx0sK2E4kALwL9p4FvHf1Wa7G5+B5tS4pl2ThUCGKgoODAwMGDJAUsBCAyWTCxcWFo0eP2vzc3bp149FHH6V69epUr16dKVOm4Obmxr59+/Dx8ZERQDuRWcDFULsXgsnJNBB/Jp0Nnx2m67BQAqp7FnW1hChRNBoNZcqUKepqiAeQqqrkGotmSzhnB+1dBVRjxowhKyvrlgFgWFgYYWFhtzzPxo0badWq1b/+3mw2s2rVKrKzs2nRooV8AbMjCQCLIb2zjk4vB7NwzEbI92TD7EN0GVKHCiHeRV01IUqM/Px8pk6dyrvvvoujo2NRV0c8QHKNZkLGbSqSsqMndcZFf2eX/sjISObNm0fXrl1vGQAOHjyYJ5988pbnCggIuOnzR44coXnz5uTl5eHm5sbq1aupWbMmly9fxt/fX+7FtQMJAIspV3dnXhzfnl0rznP+aAo/zTnMIy/XoXKoT1FXTYgSQa/X88Ybb8guIKJEs1gsvPLKK7z66qs0bdqU5557DoPBcNN+4eXlhZeX112VU6NGDQ4ePEhaWho//PAD/fr1Y9u2bdSsWVNSwHYiewHfA3vuJXhtL0OtRsdvX0Rz9sAVNBqFjgNqUbWhpKWEsLdrfVBmIYp7kZeXR2xsLJUrVy5Y1Ph+SgHPmjWLGTNmEB0dzYULFwgJCeHw4cPUqVPnhmNtkQK+pkOHDgQFBTFv3jwURbmrPniz9/4a2QtYRgCLLYPBUJB+6jSwFr99eZzTEYn8uugoZmMwNZqVLeoqCvFA+3sflBSwsCVFUe44DVsU4uLiGDt2LCtWrMDV1ZVq1arh6OjI0aNHbxoA3ksK+J9UVSU/P5+EhAT8/f3lS5gdFP9PYDEUHh5OeHg4ZrP9vsHp9XrefffdgtGHDi+FoNNrOL4rnt+WHsdktFCr1e11JCHEnft7HxSiJBo+fDhdunSha9eugHV/7ODg4H+9D/BuU8Dvv/8+Xbp0ITAwkMzMTL799lu2bdvGxo0bJfizIwkA78KwYcMYNmxYwRCyveTn5xdcfDQahbbP1UTnoOXItkts+/okJoOFuu0D7Va+ECXd3/ugECXJhg0b2Lp1K8ePH7/u+Tp16th8KZjExET69u1LfHw8pUqVIjQ0lF9++YUOHTpgsVgkALQTuQfwHtjzHoJ/m4Goqip7fjzLgc0XAGjWI4iGj1SyadlCCJkFLGzjVvehiVu7thfw3c4ClnsAb00CwHtQVB8gVVWJ+OkcERtiAWj0aCWadKss35KEEKKYkQCw6EgAeGuysE4xZbFYSEpKuukWOIqi0OSxyjTvWQWA/T+fY/cPZ5BYXgjbuVUfFELYn6qqGI1GubbZiQSAxZTRaGTx4sUYjcZ/PaZB54q0eqo6AAd/u8j2b0+hWqSjCGELt9MHhRD2o6oqycnJEgDaiaSA70FxGUKO3nmZ378+ASrUbFGWts/XRKORdLAQQhQ1SQEXHUkB35qMABZTFouFixcv3lb6KaRlOTq8GIKiUTixO57fvjiG2SxpKyHuxZ30QSGE7V1bjF3GqexDAsBiymg0smrVqttOP9Vo6k/ngbXQaBRO70/i14XHMBvlwiXE3brTPiiEsC1VVUlNTZUA0E4kBXwPiuMQ8rkjyfwy/yhmk4UKtbzp8kptdHptUVdLCCFKJEkBFx1JAd+ajADehfDwcEJCQmjcuLHdyrBYLJw5c+aO00+V6vjQdVgoOgcNF46lsCH8EIY8k51qKcSD6277oBDCNlRVJS8vT0YA7UQCwLswbNgwoqOjiYiIsMv5VZOJK/Pn89tPP2Ey3XnwFhjsRbfh9XBw0hJ3Mo31nx0iP1eCQCHuhMlk4tdff72rPiiEuHeqqpKRkSEBoJ1IAFgMxY8eQ+qsz3g0OhqHu1zcuVy10nR/vT6OLjoSYtJZO/MAeVlyL5MQt0uv1zN06FDZCk6IIqLRaChTpsxd7QIi/pu8q8VQ6aeeQnF0JPuP7VweN+6uv/34Vfag+xv1cXJz4MqFTNbMjCInw2Dj2grxYDKbzRw7dgyz2VzUVRGiSI0ZMwZHR0eeffbZQi1XVVVyc3NlBNBOJAAshlwa1Mdv2jRURSFj9RqufDrrrs/lG+hOz5ENcPHQkxKXzZoZUWRdzbdhbYV4MJnNZvbu3SsBoCjxRo0axYwZM1ixYgVnzpyxa1kffvghiqIwYsQIVFUlKytLAkA7kQCwmPLs3ImykyYCkDJ/PqnLv77rc3mVc6Xnmw1w83TkakIOqz+JJCMl11ZVFeKBpNfrGTBggKSARYnn4eFB//790Wg0HDlyxG7lREREsGDBAkJDQwFrCtjX11dSwHYi72oxZTabia1SBe9XXwUgccoUMn755a7PV9rPhZ5vNsDDx4mM5DxWT48iLSnHVtUV4oFjNpuJioqSEUAhsE6KcnFx4ejRo3Y5f1ZWFs899xwLFy7E09MTsKaAs7OzZQTQTiQALIYyDZmM3jmaP4/9SalBAyn99FOgqlx+exTZ+/686/N6+DjT882GlPZzIetqPqs/iSL1crYNay7Eg8NsNhMdHS0BoLA9VQVDdtE87jKYGjNmDFlZWbcMAMPCwnBzc7vlY8eOHTd97bBhw+jatSsdOnT429sky8DYk66oKyBuNG7XOH678Bs1PGvwnPIc/mPHYk5JJXPzZi4NG0bFr5fjVKPGXZ3bzdORnm82YN2sA6TEZbN6RhSPv14P30B3G7dCiPubXq/n+eefL+pqiAeRMQfCyhVN2e9fBr3rHb0kMjKSefPm0bVr11sGgIMHD+bJJ5+85bkCAgJueO7bb78lMjKS/fv3X/e8RqPB29v7juoqbp+MABZDIxuOxNvJm5NXTzJ863AMmCg3/WOcGzXEkpXFxYGDMFyKu+vzu3jo6TGyAWUqupOXZWTtzAMkxmbYsAVC3P9MJhN79uyRdQBFiWaxWHjllVd49dVXeeGFFzh16hQGw81Xk/Dy8qJq1aq3fDg7O1/3mosXL/L666/z9ddf37Bbh0wCsS/ZCu4e2G0rGVXl6M7p9Iv5FgMGOlbsyMetP4bMLM4/35f806fRV65MxW++RvfXvRJ3Iz/XxIbZh0iIScfBSctjw+pSrlpp27VDiPuY0WhkzZo19OjRAwcHh6KujrhP3XQ7MlW1jgIWBQcXuIP1ZWfNmsWMGTOIjo7mwoULhISEcPjwYerUqXPDsWFhYYSFhd3yfBs3bqRVq1YF/16zZg09e/ZEq/3/lqVmsxlFUdBoNMTHx+Pt7X1XE0FkK7hbkwDwHtjtA/TTWxCxkD9rdWFw3imMFiNPVn+SMc3GYEpM5Nwzz2KKj8epbigVlyxB4+Jy10UZ8kz8PPcwcSfT0Ok1PDoklMBgL9u1RQghSrD7eS/guLg4goODWbFiBV27dsVkMuHm5saSJUt45plnbjg+NTWV1NTUW54zICDgulHAzMxMzp8/f90xL730EjVr1uSdd96hdu3ad11/CQBvTVLAxVG1TqiKlibHNvJhqQYoKKw8tZJ5h+fh4O9PhYUL0JQqRd6hw8S9MRL1HlJUeicdjw2rS4VaXpgMFn4KP8y5I8k2bIwQ9yeTycS2bdskBSxKrOHDh9OlSxe6du0KgE6nIzg4+F/vA7ybFLC7uzu1a9e+7uHq6oq3tze1atUiMzNTUsB2IgHgXQgPDyckJITGjRvb5fxqtY4cDB0HQOeoVYz2fxiAOQfnsPLkShyrViVw7lwUR0ey/viD+PHj76mD6PRaHh0cSuW6PphNFjbOO8LZqCRbNEWI+5bsQypKsg0bNrB161Zmzbp+I4I6derYbSmYf1JVFbPZLH3QTiQFfA/sNYT8wYZoFu+MZVHF3+iQ+AUoGsIf6se8uC0oKHzy8Cd0rNiRzK1bufTqa2Cx4D34FcqMGHFP5ZrNFrYsieb0/iQUjUL7fsHUaOpvm0YJIUQJdD+ngO93kgK+NRkBLIYaV/JCUWDg+fYc9esOqoWhe1fQu1wbVFTe2f4OEQkRuLdrh/+E8QCkzJtP6td3v1sIgFaroUP/WtRs7o9qUfnty2iid122RZOEuO+YTCY2bdokKWAhioiqqqSnp8sIoJ1IAFgMPVLbn3FdgwGF7ud7E1+mNYopjzFRG2jv1xSjxcjwrcM5mXoSzyefxOe1v3YLmTyFjF823VPZGo1Cu77B1G4TACr8vuwEh3+/ZINWCSGEEKK4kACwmHqpZRCvtAnCjJZOl14iwysUbe5VPjqxj4Y+oWQZsxj822AuZV7CZ+jQv+0W8vY97RYCoGgUWj9dnXodAgHY8d0pojad/49XCfFg0el0dO7cGZ1O1ssXoigoikKpUqVQ7mDZGnH7JAAspoxGI8GG0zxWx59MiyNdk18l36MijmkX+OziOaqXrkpybjKvbH6F1LxU/MeOxa1De1SjkUvDhpF38uQ9la8oCi2eqEqjRysBsGf1Wf5cHyND8aLEMBqNrFu3DqPRWNRVEaJEslgspKWlYbFYiroqDyQJAIspRVEoXcqDj56oQ/Mgby4a3Hgm523Mzt54JBxlbrqZANdyXMi8wNAtQ8mx5BEwffr/dwsZ9DLGuLvfLeRaHZo+HkSzHkEARPx0jj2rz0oQKEoERVHw8PCQ0QchioiiKGi1WumDdiIBYDGl0+l4+OGHcXXSM69vQ2r4uROV5cVwzXuoDi6UifmDeZTF09GT6JRoRvw+ArODlsDwcByrVcWUlMSFgYMwXb16z3Vp+EglWvapBsCBXy+w47vTqBYJAsWD7VoflBSwEEVDURTc3d0lALQTCQCLKaPRyKpVqzAajZRydmDJS43x93Dip5RyTHV9B1XRUunoauaUaoizzpm98XsZvXM0ioc7gQsXovP3xxAby6XBQ7Dk5t5zfeq2D+Th52qAAke2XWLb1yewSBAoHmB/74NCiMJnsVhITU2VFLCdSABYTCmKQvny5Qu++ZQr7cyX/Rvj7qhjfkI1vvF9A4Da+77g03KPoNPo2HhuI9MipqHz86PCooVoSpUi99Che94t5JparQJo3y8YRYHoXfFs+TIai1k6pngw/bMPCiEKl6Io6PV66YN2IgFgMaXT6WjevPl16aea/h7Mf6EhDlqF0Rca8EfZAQC02D6bKZV7A/D18a9ZfHTxX7uFzLHuFrJt2z3vFlJQh2Zl6TSwNhqNwqk/E/l10THMJgkCxYPnZn1QCFF4FEXBzc1NAkA7kQCwmDIYDCxfvhyDwXDd8y2q+DC9T10A+sW242S5HqBaeHTbbN6pZt2ce1bULH48/SMuDRoQMOMT0GhI/+FHrnz2mU3qVrVhGR4ZXAeNTuHsgStsnH8Ek9Fsk3MLUVz8Wx8UQhQOi8VCSkqKpIDtRALAYkqr1RISEoJWq73hd93rBfBul5qAwmOxvUjyawOmXJ7fsZABVXoBMHHPRH6/8Dvu7dv/f7eQufNI/eYbm9SvcqgPjw2ti85Bw/kjKfwUfhhjvgSB4sFxqz4oREkyZswYHB0defbZZwu1XEVRcHJykhFAO5EAsJjSarU0aNDgXy8+r7QO4oXmFTGqOjrFvUSWdyjkpvL6/h/pUbEzFtXC29vf5kDSget3C/lg8j3vFnJNYIgXj71WFwdHLZdOXGX97IMYcmXbLPFg+K8+KERJMWrUKGbMmMGKFSs4c+aMzc8/YcIEFEW57uHv74+iKLi6ukoAaCcSABZTBoOBxYsX/2v6SVEUxnerRacQP9JMeh5LeQ2DR0WUtAuMP7mPNuUeIt+cz7Atwzhz9Yx1t5Cn/rZbyJ/3tlvINQHVPXn89XronXXEn0ln7acHyMuWWZPi/vdffVCIksLDw4P+/fuj0Wg4cuSIXcqoVasW8fHxBY8jR45gsVi4cuWKpIDtRALAYkqr1dKsWbNbjj5oNQqfPVOfBhVKcy7Plefz3sHi7I0u/jAfxydQz7cumYZMXvntFRKyE/Af9/fdQl4l7+Qpm9TVP6gUPd6oj5OrA0nnM1kz8wC5mXLRFPe32+mDQpQUJpMJFxcXjh49apfz63Q6/P39Cx6+vr4yCcTOJAAsprRaLbVq1frPi4+Tg5ZF/RpT2ceVPzNK86bufVSdM84xv/N5njNVSlUhKSeJV357hTRjhnW3kIYNsWRmcnHQoHveLeQa3wru9BhZH2cPPSmXslj9SRTZ6fk2ObcQReF2+6AQd0pVVXKMOUXyuNvVIMaMGUNWVtYtA8CwsDDc3Nxu+dixY8dNX3v69GnKlStH5cqVefrpp4mJiUFRFJydnSUAtBNFLcH7el28eJG+ffuSlJSETqdj7Nix9OnT57Zfn5GRQalSpUhPT8fDw8OmdTMYDCxatIiBAwei1+v/8/gLKTn0mruL5CwDr5U/w8iUCSiqhYQWr9I3408SshMI9QllYaeFOOYYOf/88+SfPoM+KIiKXy9H5+lpk3qnJeaw9tMDZF3Np5SvM93fqI+7l5NNzi1EYbrTPijEzeTl5REbG0vlypVxcrL+X5hjzKHpN02LpD77nt2Hi4PLHb0mMjKSFi1a0LFjR2JjYzl27NhNj0tNTSU1NfWW5woICMDZ2fm65zZu3EhOTg7Vq1cnMTGRyZMnc+LECY4cOYKqqvj4+KDR3Pl41c3e+2vsef2+X5ToADA+Pp7ExETq1atHUlISDRo04OTJk7i6ut7W6+35AbJYLMTExBAUFHTbH/zDl9J4av5eco1mplWO4sn46QDEdBzDCxfXkp6fTsuAlnzW7jNITObcM89iSkjAuV49Kiz5As0/OuXdykjOZe2nB8hIzsPdy4nub9SjlO+d/YcjRFG7mz4oxD/d7wGgxWKhSZMmtGnThqZNm/Lcc8+RnZ1t1y9F2dnZVKlShbfffpthw4bh6Oh4V6OAEgDeWokOAP8pNDSUn376icDAwNs6vjh+gH4/kcTAr/ZjtqisqLqV5pcWgaLhYNcPGXRiMXnmPLoFdWNyy8kYz5zl3HPPY8nIwO3hhyn/+WwUGy16m3U1j7WfHiQtMQfXUnq6v1EfT//bC6yFEOJBcbMgRFVVck33vkXn3XDW3VlKddasWcyYMYPo6GguXLhASEgIhw8fpk6dOjccGxYWRlhY2C3Pt3HjRlq1avWf5Xbs2JGqVasyd+7c267rP0kAeGvF+mvt9u3b6datG+XKlUNRFNasWXPDMXPmzCn44zZs2PBf7y/4L/v378disdx28Gdv+fn5zJgxg/z8O7uPrm3NMkzpURuAZ8605Wz5nqBaqPfLBD6p9QpaRcv6mPV8GvkpjtWqEThv7v93C5kwwSa7hQC4eTrR880GeJVzJTvdwOpPoki+lGWTcwtRGO62DwrxXxRFwcXBpUgedxL8xcXFMXbsWObMmYOrqyvVqlXD0dHxX+8DHDx4MAcPHrzlo1GjRv9Zbn5+PsePH8ff35+EhASZBWwnxToAzM7Opm7dunz++ec3/f13333HiBEjGD16NAcOHKBVq1Z06dKFCxcuFBzTsGFDateufcPj8uXLBcekpKTwwgsvsGDBAru36XY5ODjQp08fHBwc7vi1TzepwPD21QCFLmd7kly2NZhyab05jImhQwFYcmwJS48tte4W8sl0624h3/9A8uzZNmuDi4eeHiPr41vBndxMI2tmRJF0PsNm5xfCnu6lDwrxIBg+fDhdunSha9eugHWmbnBw8L8GgF5eXlStWvWWj3/e/wfw1ltv8ccffxAbG8u+ffvo3bs3GRkZ9OvXDy8vL5kEYifFOgDs0qULkydPplevXjf9/YwZMxgwYAADBw4kODiYTz/9lMDAwOuGjCMjIzl69OgNj3LlygHWbxo9e/bkvffeo0WLFresT35+PhkZGdc9AIxG67p3JpMJk8lU8NzNfjYYDJjN5pv+fO1bzrURh8DAQIxG43XPq6qKqqo3/AzWezWu/fx6uyr0ql8Wg6qj86UBZHvXhpwUHt/2Oa8HW/cQnr5/OqtPrsa9QwfKjB0DQPKcuSQv/9pmbXJ00dF9RD3KVHInP8fE2pkHOH/8yl216Z8/X1ufzWw23/Rnk8l0XTvs8Xf6t5+lTfd/mwDKlCmDRqN5YNr0IP6d7pc2WSyWggzLtZ9VVb3hZ8BuP/+z/Fv9vG7dOrZu3cqsWbOue7527doFAaCt2nTx4kWeeeYZatSoQa9evdDr9ezZs4cKFSoU3Gt4t21SVfVf/04lXbEOAG/FYDAQGRlJp06drnu+U6dO7N69+7bOoaoqL774Iu3ataNv377/efyHH35IqVKlCh7X0sWbN28GYMuWLWzZsgWw3uewc+dOANasWUNERAQAK1eu5NChQwAsW7aMEydOALBo0SJiYmIACA8P59y5c3z44YfMmDGD5ORkAKZOnUpmZiYGg4GpU6diMBjIzMxk6tSpACQnJzNjxgwALl++TNlL22hd3ZcUowOPxA/G6FERJe08j29eyAs1rPsGT9g7gR2XdnCqUiUS27YFIGnKFLZP+9hmbXJ0ceCibhfeFZwx5JlZ/9lBov88d8dtiouLIzw8HICYmBgWLVoEwIkTJ1i2bBkAhw4dYuXKlQBEREQU3Dawc+dONm7caPO/U9xfy+jc7d9J2lR823T58mWmTp1Kfn7+A9OmB/HvVNzblJiYWFDPa8HjtbSmqqokJCQUBDUJCQmANQC99jqj0UhSUhJgDSivvS95eXmkpKQAkJOTw9WrVwFr5iwtLQ2ArKysgoGKvw9aZGRkkJVlvSUnLS2N7OxsAK5evUpOTg4AzZs35/Lly/j7+5OcnFwQWH/88cesWrUKgMTERJu0afbs2Vy+fJn09HQOHjzIDz/8QKVKlUhNTSU+Pp6srKy7blN2dnbB3+bvf6elS5dS0t03k0AURWH16tX06NEDsP7nHBAQwK5du64buQsLC2Pp0qWcPHnyP8+5c+dOWrduTWhoaMFzy5Ytu+nNrWD9oP59dCAjI4PAwECSk5Px9vYu6Ag6nQ6j0YiiKDf8bDAY0Gq1aLXaG37W6XRoNBry8/PRarWkpqbi7u6Oo6NjwfPXvg0ZDIbrfnZ0dMRisWA0Gq/72YiWp+bv4djlDB7yTGMZY9DkpmKp0oH3AoP4+fwvOOucmd9+PrW8apEyeQppK1ei6PVUWLwIff36NmsTqoZNC45xMToVrYOGLq/Uwb+a2x236drPJpMJvV6P2WzGbDbf8LPJZEJVVRwcHG742VZtcnBwuOnP0qb7v00mk4mEhISCbMGD0KYH8e9U3NtkNps5f/48FStWLFjTzmKxFKQ1VVW97meNRlMwsmXrn4HryrfHz7Zuk9lsLliL807blJ+fT0xMDBUrVsTV1fW6v1NycjK+vr4lehLIfR8A7t69m+bNmxccN2XKlOuifHu6X2YRJWXk0XPObuLScunjn8C0rNEoplyMdZ/lNTcLuy7vprRjaZZ2WUpl1wpcen0EWVu2oHF3p+Ly5TjVqG6zupiNFn5ZeJRzh5PRaBU6D6xNUH1fm51fCCGKk1vNRBX2JbOAb+2+TQH7+Pig1WoLhpevSUpKws/Pr4hqZTv5+flMnDjRJjMQy3g4sbR/E0o5O7AqwZ/Pvd9HVTQ4HPqGGZpy1PGpQ1p+GoM3DyYpP4WAT6bj3KDB/3cL+duEmXulddDwyCu1qdqwDBazyi8Lj3I6ItFm5xfCVmzZB4UQd85isXD58mWZBWwn920AqNfradiwYcH9d9ds3rz5Pydz3Kvw8HBCQkJo3Lix3crQ6/W88cYbNltss2oZNxb1a4Rep+GT81VYG/AmAC47ZhDu3ZJKHpWIz45n8G+DyVTyCZwTjr5qFUxJSVwYOAjTX/eX2IJWq6HjgFrUbOaPalH59YtjHN9tuyBTCFuwdR8UQtwZRVHw8/OTWcB2UqwDwKysrIK1gwBiY2M5ePBgwTIvI0eOZNGiRXzxxRccP36cN954gwsXLjB48GC71mvYsGFER0cX3AxsL46OjjY9X+NKXsx6qh6KAiPO1Cei4kAAPDeNZn6VZynjXIYzaWd4betrGN2cqLBwITp/fwwxMVwaMhRLru0WLtVoFNq9EEyt1gGgwtavTnBk2yWbnV8IW7B1HxRC3BkJ/uynWAeA+/fvp379+tT/ayLCyJEjqV+/PuPGjQPgqaee4tNPP2XSpEnUq1eP7du38/PPP1OxYsWirLZN/H3Gmy11qVOWcY+FANDnZFvOV7AuFF1u3RvMDX0Vdwd3DiQd4O3tb6P4+VJh4QI0Hh7kHjxI3Mg3Uf+6OdoWFI1Cm2eqU7eddTb19m9PcWDzhf94lRCFw159UAhxe/4+o1jY3n0zCaQ4sudNpKqqFsx4s8c3oCk/RbNwRyzOWjO7Ky7E8/J2cPEmssenvLxvIgaLgV7VejGh+QRyo6K40H8Aan4+pfv0xn/SJJvWSVVV9q2NIfKX8wA06VaZRo9Wkm9+okjZuw+KkkEmgdy9azN+r83uvVMyCeTWivUIYHFVGPcAAna9+fy9LsE8FlqWXLOWTnEDyfWpAzkpNNw4lmlNRqNRNPx4+kdmH5iNS8OGBbuFpK36nuTZN9+Z5W4pikKzHlVo+ngQAH+uj2Xv2hj51ieKnEwAEaJoyXXAfiQAvAuFcQ+gwWBg5syZdks/aTQKnzxZl6aVvbiSr6NX+ghMHhXg6jna//EZ4xq9A8DCIwv5+vjXuHfogP9fqffkOXO4+u23Nq9To0cr8VDvqgBE/XKenatOS+cXRcbefVAIcWuqqpKYmCjXATuRFPA9eBCGkNNzjPSZv5tTiVk87J3OF5bRaHJToVonFtRqz+xD4SgofNT6I7pU7sKV2Z+THB4OikLArE/x+MdOLLZwdHscf3xjXcg7pFU5Hn6mBopGUnBCiPuPpICLjqSAb01GAIspi8VCUlKS3dc/KuXiwJKXmuDn4ci2lFKMcxmLqnOG078y6NwRnqnxDCoq7+98nz2X9+Dz6jBKP/kkqCqX33qbnP37bV6n2q0DaN8vGEWB6B2X2bL0OBazrAMlCldh9UEhirsxY8bg6OjIs88+W6jlqqqK0WiUEUA7kQDwLhTGPYBGo5HFixcXbE5uTwGlnVnyYhPcHHUsj/NjQZnRqIoG5eBy3slR6VypMyaLiRG/jyA6NRr/cWNxa98e1WDg4tBh5J06ZfM61Wxelo4DaqFoFE7uS+DXxdGYTXIhFoWnMPugEMXZqFGjmDFjBitWrODMmTN2KSMuLo7nn38eb29vXFxcqFevHvv37yc5OVkCQDuRFPA9eNCGkHeeTubFJX9isqjMrXmILuc+AsDQdQZDU/ewL2EfXk5efNXlKwL1flx4qT+5Bw6g8/Oj0opvcPhrz1Rbijl4hU2LjmIxqZStWopHXq6Di4cszCuEuD88KCng3Nxc3Nzc+P777+nZs6dNz3316lXq169P27ZtGTJkCGXKlOHs2bNUqlSJKlWq3PV5JQV8azICWExZLBYuXrxYqOmnltV8mNY7FIAhJ+pyqLJ1oWj9z2/zaWA3gr2CSc1L5ZXNr5CqZhE4d451t5DERC4MehlzWprN6xRUz5euQ0PRO2mJP5POqg8jSDyXYfNyhPinouiDQhRXJpMJFxcXjh49avNzf/TRRwQGBrJkyRKaNGlCpUqVaN++PUFBQRgMBhkBtBMJAIspo9HIqlWrCj391KtBed7uXAOAHifacqliD1DNuK0ezJyQwQS6BxKXFcfgzYPJcdFadwvx88Nw9iwXbbxbyDUVQrzp/W4jPP1dyLqaz+rpUZzYE2/zcoT4u6Lqg+LBp6oqlpycInncbTA1ZswYsrKybhkAhoWF4ebmdsvHjh07bnjdunXraNSoEX369KFMmTLUr1+fhQsXoqoqqampEgDaiaSA78GDOoSsqipj1hzl630XcNFZ2FNhAaX+Wij64tNf0XfPGFLyUmjs35i5HeZCzAXOPfc8lowM3Nq1o/xns1B0OpvXy5BrYvOSaM4dTgYgtG15WvSuilYr32OEEMXTzdKQlpwcTjZoWCT1qREVicbF5Y5eExkZSYsWLejYsSOxsbEcO3bspselpqaSmpp6y3MFBATg7Ox83XPX3peRI0fSp08f/vzzT0aMGMH8+fN54YUX7qiufycp4FuTAPAe2PMDZLFYiImJISgoCI2m8AMcs0XllWWR/HY8kXLOJrb6fIzTlSPgWZnjT8zhpe0jyTZm07FiRz5u/TH5UQesu4UYDJTu0wf/SRPtsnuCalGJ+CmWiJ/OARBQvTSdB9XG2V3uCxS2VdR9UDwY7vcA0GKx0KRJE9q0aUPTpk157rnnyM7ORq+33f+5er2eRo0asXv37oLnhg8fTkREBL///juOjo6yE4gd2H6YpgQIDw8nPDwcs9lstzJMJhO//vorAwcOtGlHu11ajcLsZ+rzzMK9HLyYxpOZb7DaYzzaq7EE/zyaWY98xJA/3mDz+c2E7QtjTLMxBMz4hEvDXydt1Sp0vr74Dn/N5vVSNApNugXhE+jOb0uiiTuVxsoPI3h0cCi+FdxtXp4ouYq6D4oHl+LsTI2oyCIr+07Mnj2bK1euMGnSJC5cuIDJZOLkyZPUqVPnhmPDwsIICwu75fk2btxIq1atrnuubNmyhISEXPdccHAwP/zwAxkZGfj4+Mh2jHYgI4D3oCR8g0jJyueJubs5l5JDZ/8M5uW/j/LXQtGbmvfn7R3voKIytN5QhtQdwtVvvyVhwkQA/CeMx/Ppp+1Wt9TL2fw87zDpSbloHTS0fb4mNZr62608IYS4U/fzLOC4uDiCg4NZsWIFXbt2xWQy4ebmxpIlS3jmmWduOP5uU8DPPvssFy9evO7+wDfeeIN9+/ZdNyp4p2QE8NYkr1FMmc1mjh07ZtdRxtvh7ebI0v5N8HbVsynBgw88xqPqnOD0r3Q++jPvN3kPgDkH57Dy5Eo8n34an6FDAUiY9AEZmzfbrW5e5Vzp824jKtb2xmy08NuSaHZ+f1oWjRY2UVz6oBBFZfjw4XTp0oWuXbsCoNPpCA4O/teJIF5eXlStWvWWj38Gf2AN9vbu3UtYWBhnzpzhm2++YcGCBQwdOpTc3FyZBGInEgAWU2azmb179xaLi09Fb1cWv9gYJwcNX5z3ZWnZsaiKBqK+4unE8wyuOxiAyXsns/n8Znxee5XSffqAxcLlN9+yy24h1zi6OPDo0FAadqkIwKHfLrJ+9iHysmTmprg3xakPClHYNmzYwNatW5k1a9Z1z9epU8fmS8E0btyY1atXs2LFCmrXrs0HH3zAp59+yrPPPktWVpYEgHYiKeB7UNKGkLccT2TQV/uxqLA45DDtY6YCoHb7jEmGc3x/6nscNA7M7zifRj71uTT8dbK2bkXj4UHF5ctwql7drvU7G5XEb0uPY8o34+7txKND6uBTXu4LFEIUnfs5BXy/kxTwrckIYDFlNpuJiooqVqMP7YP9+KBHbQAGRIcSXWUQAMqGNxjj1ZT2FdpjtBgZvnU4pzLOEvDJdJzr18eSkcHFQS9jjLfv2n1VGpSh96iGePg6k5mSxw8fRXJ6f6JdyxQPruLYB4UoSVRVJTs7W0YA7UQCwLtQGHsBm81moqOji93F57mmFXm1bVUAuh1vS3ylnqCa0X7/Eh9VeYqGfg3JMmYx+LfBXDalWHcLqfLXbiEDB9llt5C/8w5wo8+7jagQ4oXJaOHXRcfY/eMZLBb5D0TcmeLaB4UoKVRVJS8vTwJAO5EU8D0oqUPIqqry5qpD/BgVh7uDyu4K83GP2w4uPmT0W82L+yZw+uppKrhX4KsuX+FxNZ9zzzyLKTER5wYNqPDFYjR2ToVYLCr71p4latMFAAJDvOg0oBZOrg52LVcIIf5OUsBFR1LAtyYjgMWUyWRiz549mEymoq7KDRRFYWqvUFpV8yHTqNA1YRAG39qQk4zHd/2Y1yKMALcALmReYOiWoRh8SxG4cAEad3dyo6KIG/kmqp3bpdEoNO9ZlU4Da6HTa7gYncqqDyNIicuya7niwVGc+6AQJYGqqjIJxI4kACymVFXl0qVLxfaDr9dpmPNcA0LKenAhW8vT2W9hLlUBUmMos3oo89rMxNPRk+iUaEb8PgJtlcoEzglH0evJ2rqVhEkfFErbqjXy44lRDXH3diIjOY/vp0VyJjLJ7uWK+19x74NCPOhUVcVgMEgftBMJAIspBwcH+vTpg4ND8U1Zujs5sOSlxgSUdiYqVc/r2jGozp4QF0mlTeOZ03Y2zjpn9sbvZfTO0Tg1aki5T6aDRkPaypUkfx5eKPX0Ke/Ok+81pnxNT0z5ZjYtPMreNWflvkBxS/dDHxTiQabRaPDy8pKtGO1E3tViymQysW3btmKffvLzcOLLlxrj4aRjw2U3PvKc+NdC0ZuovW8xnz48E52iY+O5jUyLmIZ7hw74jxsLQHJ4OFe//a5Q6unk5kC31+pSr0MgAJG/nOfnOYfJz5H1AsXN3S99UIgHlaqqZGZmygignUgAWEypqkpGRsZ98cGv5ufOwhcaoddqmBfjw4rA8X8tFL2UFmd2MbnlZAC+Pv41i48u/mu3kCEAJEyaROZvvxVKPTVaDQ/1rkbH/iFoHTScP5rCqqn7Sb2cXSjli/vL/dQHhXgQqaqK2WyWPmgnEgDehcJYBsbBwYHHH3/8vkk/NQ3yZuZT9QB4/3hFdlZ7x/qL36fQNS2VUY1HATAraharT6/G57XXKN2nN1gsxL35FjmRhbcxevUm/jzxdkPcvBxJT8rl+4/2E3PwSqGVL+4P91sfFOJBo9FoKF26tKSA7UTe1bswbNgwoqOjiYiIsFsZJpOJTZs23Vfpp66hZRnTNRiAvofrcKq6daFo1r9OXwd/BtQeAMCEPRPYdnEb/uPH49a2LWp+PheHDCX/9OlCq6tvBet9gQHVS2PMN7Nx3hH2rY9BlfsCxV/uxz4oxINEVVXS09NlBNBOJAAUNjWwVRD9H6oMQNdjbUkKsi4UzcoXeN2vFT2q9sCiWnh7+9scTD1CwIxPcK5XD0tGBhcKYbeQv3N219Pt9XqEtisPwP6fzvHzvCMYcuWCL4QQ14wZMwZHR0eeffbZoq6KsCEJAIspnU5H586d0el0RV2VOzamazBd65TFaIbOZ/uQXb4VGHNQVjzF+Br9aFO+DfnmfIZtGUZMXhyB8+ZadwtJSODCIPvvFvJ3Wq2GVk9Wp/2LwWh1Gs4dTub7j/ZzNUHuCyzp7uc+KIQtjRo1ihkzZrBixQrOnDlj8/Nv376dbt26Ua5cORRFYc2aNYB1zdlSpUqhKAoAc+bMKVjUuWHDhuzYscPmdSlJJAAspoxGI+vWrcNovP9mqWo0Cp88WZfGlTy5mg/dEgdj9K0N2VfQffMkHzd6l7q+dck0ZPLKb6+QpMulwsIF6MqUwXDmLBeHDsOSl1eoda7ZrCy93m6Am6cjVxNy+H7qfmIPJxdqHUTxcj/3QSFsycPDg/79+6PRaDhy5IjNz5+dnU3dunX5/PPPr3veYrGQlpaGxWLhu+++Y8SIEYwePZoDBw7QqlUrunTpwoULF2xen5JCAsBiSlEUPDw8Cr753G+cHLQsfKERVcu4EZOp8ELe21g8AiH1LM4r+xHe6mOCSgWRlJPEK7+9QpaXM4ELF/5/t5A337L7biH/VKaiB33ea0zZqqUw5Jn5ec5hIn6KlfsCS6j7vQ8KYUsmkwkXFxeOHj1q83N36dKFyZMn06tXr+ueVxQFrVaLoijMmDGDAQMGMHDgQIKDg/n0008JDAxk7ty5Nq9PSSEBYDGl0+l4+OGH7+v0U2kXPV++1Bhfd0f2XHHgbcdxfy0UvZ9S699gfrtw/Fz8iE2P5dUtr2IJKv//3UK2bCm03UL+zsVDT/cR9anTJgCAP9fH8suCoxjy5L7AkuZB6IOieFJVFWO+uUged/t/6pgxY8jKyrplABgWFoabm9stH3eStlUUBXd3d4xGI5GRkXTq1Om633fq1Indu3ffVXsEyP9sxZTRaGTNmjX06NHjvl6GorynC0tebMxT8/fww0VXAqtP4vXLb6Oc2oj/H34s6DCfFzb143DyYd78400+a/cZ5aZ/TNzrI0hbuRJdmTL4vjqsUOus1Wlo/UwNfCq488eKk8QcvMLVj3J4dHAdSvu5FGpdRNF5UPqgKH5MBgsLXv+jSMp+eVYbHBy1d/SayMhI5s2bR9euXW8ZAA4ePJgnn3zylucKCAi47XKvpYBzcnIwm834+fld93s/Pz8SEhJu+3ziejICWEwpikL58uUfiPRT7YBSzH2+ITqNwqenvFldeSKgQOSXBB3+kc/bfY6T1omdcTsZv2s8bh3/tlvI559z9buVRVLvkIfK0XNkA1xL6bkan82qqfs5fzSlSOoiCt+D1AeFuFsWi4VXXnmFV199lRdeeIFTp05hMBhueqyXlxdVq1a95cPZ2fm2y1YUBb1eX9AH/9kXVVWV/nkPZASwmNLpdDRv3ryoq2Ezrav7MvWJUN5adYiRRwIJqP8uTY9/CL9Ppp5HOT55+BOGbx3O+pj1+Dj7MPKZkZiuXCF5zlwSJk5E5+ONe/v2hV5v/6BS9Hm/Mb/MP0pCTDobwg/RrHsQDTpXlP94HnAPWh8UxYdOr+HlWW2KrOw7MXv2bK5cucKkSZO4cOECJpOJkydPUqdOnRuODQsLIyws7Jbn27hxI61atbqtshVFwc3NDb1ej1arvWG0Lykp6YZRQXH7ZATwLhTGTiAGg4Hly5f/6zet+1HvhuV5s2N1AJ4+WIeYGi9bf7HuNVrnGpjYYiIAS44tYemxpfi89hqlej9h3S1k5Jukr19fJAuCupZypMfI+tRqVQ5U2Lsmhk0L5b7AB92D2AdF8aAoCg6O2iJ53MkX17i4OMaOHcucOXNwdXWlWrVqODo6/msaePDgwRw8ePCWj0aNGt12+RaLhZSUFHQ6HQ0bNmTz5s3X/X7z5s20aNHits8nricjgHdh2LBhDBs2jIyMDEqVKmWXMrRaLSEhIWi1d3avRnH3aruqXE7PZcWfF+lyrC27a1zB++xqWPkC3V/6iZSGbzAzcibT90/Hy8mLxyZMwJySStbvv3P57VGkr19P2fHjcbiD+0hsQavT8PBzNfEJdGfHd6c4G3WFtMQcugwOpZTv7ac0xP3jQe2DQtyu4cOH06VLF7p27QpYR8WDg4P/NQD08vLCy8vrjsvJysq6bn3B2NhYDh48iKenJz4+PiiKwsiRI+nbty+NGjWiefPmLFiwgAsXLjB48OC7a5xAUWWPlbt2LQBMT0/Hw8OjqKtz3zCZLby8LJKtJ5LwdYY/AubicmkHuPqi9v+Vj2O+Z1n0MnSKjs/afUZLv2akLF5McvgcVKMRxcWFMiNG4PncsyhFcHGOP5PGLwuOkpNhwNFFR6eBtagQ4l3o9RBCFH95eXnExsYWLGB8v9iwYQN9+/bl+PHj+Pv7Fzz/wgsvkJ6eztq1a21W1rZt22jbtu0Nz/fr148vv/yy4N9z5sxh2rRpxMfHU7t2bWbOnEnr1q3/9by3eu/l+i0B4D2x5wfIYDCwbNky+vbti16vt+m5i4Mcg4mnF+zl8KV0aniqbHD7EIcrR8GrCpb+m3j/wCf8FPMTzjpnFnVaRKhvKPkxMcSPHUduZCQAznXrUnbyBzhWq1bo9c+6ms8vC46QGJuBokDznlWp1zFQ7gt8gDzofVAUjvs1ACwOrqWAvb290Wju/I41CQBvTe4BLKa0Wi3NmjV7YNNPLnodX7zYmApeLpy8qjDQNApLKetC0ZoVT/NBo/d4qNxD5JpyrVvGpcfgGBRExWVf4T9hPBpXV3IPHSKm1xNc+Ww2lkK+T8vN05GeIxsQ3KIsqgq7fzzD5i+iMRrMhVoPYT8Peh8Uori7NglEvljbhwSAxZRWq6VWrVoP9MXHx82Rpf2b4OniwB/xOsa4jkd1Kg1x+3FYM5gZraZR27s2aflpDN48mJj0GBSNBs+nnybopw24tWsHRiPJc+YQ27MXOVEHCrX+WgcNbfvWpPXT1dFoFE5HJPLjx5FkJOcWaj2EfZSEPihEcaYoCs7OzhIA2okEgMWUwWBgzpw5D/wMxMo+rix+sTFODhq+iXFhXrkpqDonOPkzLpvHEd7+cyp5VCI+O57e63oz99BcDGYDDv7+lA//nIBPZ6L19sZw9iznn3uOhEkfYM7KLrT6K4pCnYfL0/2Neji7O5B8MYtVH+7n4onUQquDsI+S0geFKK4sFgtJSUlYLJairsoDSQLAYkqn09GpU6cSsQ1VgwqezH6mARoFPor25KdqH2BdKHoJXhFfsKjTIloGtMRoMTLn4Bz6rO9DVGKUda/WRx6hyk8bKNWrF6gqV7/5hpjHHiNz27ZCbUO5ap70ea8xZSq6k5dtZP1nhzi05WKRLFsjbKMk9UEhiiPZj9u+ZBLIPZCbSG1r2d7zjF1jXV7gx4ZHaXDsrwVFu89Brfcsm85t4sM/PyQ1zzq61qd6H0Y0HIGH3vreZ+/eTfz4CRgvXgTA49FH8Rv9PjrvwpuhazKY2fbNSU7utS5YWr2pH22fq4lOL2lEIUoimQRSdGQSyK3JCGAxlZ+fz4wZM8jPzy/qqhSavs0qMuThKgD0OVCHCyF/LRS9fjjK2S08UvkR1vVYxxPVngBg1alVdF/TnV/P/Yqqqri2aEHQurV49e8PGg0ZP/9MzKNdSVuzptBG4nR6Le37BdOyTzUUjcKpfYn8OD2KzNS8Qilf2E5J7IPCfiSNeecsFgsJCQl3/d7Je35rMgJ4D+z5DcJisRAXF0dAQMBdTX+/X6mqysiVh1h9IA43vcLO6ispfWY1OLhCr/lQ8zFQFCISIpi0ZxLnMs4B8HD5hxndbDT+rtb1qnKPHiN+zBjyT5wAwLVFC/wnTURfvnyhteXSyatsWniUvCwjzu4OdB5Um4DqnoVWvrg3JbUPCtuyWCycPn0arVaLr6/vdXvbiltTVRWj0YiDg8MdvWeqqmIwGLhy5Qpms5lq1ard0IdlBFACwHsiHyD7MJgsvPTln+w6k0JZNw2/l52D08Xt1l9W6wyPTgPPSuSb81l4eCGLjy7GZDHhonNheIPhPF3jabQaLarRSMqSL0n+/HNUgwHF2Rnf4cPxeqFvoS0gnZGSy8Z5R0i+mIWiUWjZpxp1Hg6QC4AQJYjBYCA+Pp6cnJyirkqJ4uLiQtmyZW+6jqdcvyUAvCf2/ABdSz+NHDkSR0dHm577fpCRZ+TJeXs4kZBJTR8da2rvxunPcLAYQecMrd+CFsNBp+ds2lkm7pnIgSTrMjC1vWszocUEanjVAMBw7hzxY8eRExEBgFOdOpSd/AFONWoUSluMBjO/LzvB6YhEAGo296fNszXQOch9gcVZSe+DwrZUVcVkMmE2y1qht8tgMLBkyRJeeumlO16MXavVotPp/vXLtgSAEgDelfDwcMLDwzGbzZw6dcpuKeDk5GR8fHxKbPopIT2PnnN2EZ+eR6OKnizrXgrnX9+BczusB/hUh0enQ1AbLKqF7099z8zImWQZs9AqWvrV6sfguoNx1jmjWiyk/fADSdM+xpKZCTod3gMH4DNkCJpCuLirqsrB3y6y58czqCqUqehOl8F1cPOUm8KLK+mDQhQte/ZBCQAlALwn8gGyv5MJmfSet5vMPBMBpZ0Z2zWYzpY/UH4dA9lXrAfVeRI6TQZ3P5Jykpj651Q2n98MQHm38oxtPpYW5VoAYExMInHyZDI3W3+vr1SJsh9MwqVx40Jpz8XjqWxadJT8bBPO7g488kodylUtXShlCyGEsJLrt8wCLrby8/OZOHFiiZ+BWMPfnS9fakxAaWfi0nIZ/HUUL0UFceGZP6DxQECBIyvh88bw50LKOHkz4+EZfNb2M/xc/LiUdYlXNr/C+zveJzUvFQe/MpSf/RkBn81C6+uD4dw5zvd9gfgJEzBnZtq9PYHBXjz5XmO8A9zIzTSydsYBjm6Pk/UCiyHpg0IULemD9iUjgPfAnt8gVFUlMzMTd3d3mTAA5BrMfP77aRZsj8FoVtHrNAxuU4Vh1dNx/OUtiD9oPbBcfeg6AwIakG3MZvaB2Xxz/BtUVEo7lubtxm/TLagbiqJgzsgg6ePppK1aBYCuTBn8x4/DvX17u7fHmG9m61fHOROZBEDIQ2Vp/XQNtA7ynay4kD4oRNGyZx+UEUAJAO+JvQNAg8EgSwb8Q8yVLMavO8aO08kABHo5M6FrTdpn/wRbJkF+BqBA4wHQbiw4l+bwlcNM3DORU1dPAdC0bFPGNRtHBY8KAGTv3Uf8+HEYz18AwL1zZ/zHjEbn62vXtqiqyoFfL7BnzVlQwa+yB11eqYNraZlwUBxIHxSiaNmzD0oAKCngYstgMDB16lTZh/Qfgnzd+Kp/E+Y81wB/DycupuYyYNkBBh6vR9zzO6BOH0CFiEXweSM49B2hPnX49rFvGdFgBI5aR/bF76PXul4sOrIIo8WIa7OmBK1di/egQaDVkrlpE2e7PkbaDz/YNTWrKAoNOlek26t1cXTRkRibwcqwCBJi0u1Wprh90geFKFrSB+1LRgDvgYwAFq3sfBOfbT3N4h2xmCwqjjoNr7atyisVLqH/5W1IOW09sFIra1rYtzoXMy4yae8k9sbvBaCaZzUmNJ9AqG8oAHnHjxM/egx50dEAuDRrRtlJE9FXqGDXtqQl5bBx3hFSL2ej0Sq0eaYGIS3L2bVMcWvSB4UoWjICaF8SAN4DuQeweDidmMnYtUfZG2PdI7iStwuTHqtG6yvfwvaPwZQHGgd4aDi0egvVwZkNMRuYFjGNtPw0FBSeqfkMwxsMx9XBFdVkInXpV1yZPRs1Lw/FyQnf117Fq18/FJ3Obu0w5JnYsvQ4MQess5trtQ6g1ZPV0OpkoL4oSB8UomjJPYD2JVeWYspgMDBz5kwZ+r4N1fzcWTGoGbOeroevuyPnUnJ4YekhhlxoS2LfP6y7h1iMsOMTmNMU5dQmulXpxroe63i8yuOoqHxz4hu6r+nO7xd+R9Hp8B7Qn6B1a3Fp3gw1L4+kj6dz7smnCkYG7UHvpOORl2vT9PEgUODY9jjWzjxAdrrMgCsK0geFKFrSB+1LRgDvgXyDKH4y84zM3HyapXvOYbaoODtoGd6uKgN9o3H49V3IiLMeWPMxeGQqlA5kz+U9TNoziUtZlwDoWLEj7zZ5lzIuZVBVlfQfV5M4bRqW9HTQavHu/xI+w4ahcbLfIs7njiSzefExDHlmXEs70uWVOvhVls+YEELYgly/JQC8J/b8AMkuBPfmeHwG49YeJeLcVQCqlnFjcpdKNLu4CPbOAYsJHFygzTvQfBi5qon5h+bz5bEvMatm3BzceKPhG/Su3huNosF05QoJU8LI/OUXABwqVqDsxEm4NmtqtzZcTchm47wjXE3IQaNTePjZGgS3kPsCC4v0QSGKluwEYl/yv1oxZTQaWbx4MUajsaircl8KLuvByleaM71PXbxd9ZxJyuLppUd5LaUXyc//BhVagDEHfhsP81rhHHeAEQ1H8N1j31HbuzZZxiw+2PsB/Tb248zVM+h8fSn/6UzKh3+OrkwZjOcvcOHFF4kfOxZzun1m7Xr6u9L7nUZUruuDxaSy9asTbP/2FGazxS7lietJHxSiaEkftC8ZAbwH8g3i/pCea+STX0+yfO95LCq46rW80aEaL7rtQffbOMhJsR5Y91no9AFmZ0++Pfktn0V9Ro4pB51Gx4DaAxgUOghHrSPmzEySZswgbcW3AGh9ffAfMxaPzp3sUn/VohLx8zkiNsQCUK5aaToPqo2Lx51tji6EEMJKrt8SAN4Te6eA4+LiCAgIkPSTjRyNS2fMmqMcvJgGQA0/dz58JIAGZz6DyC+tBzmVhg7jocGLJOQmMWXvFLZd2gZAJY9KjGs+jsb+1n2Dc/bvJ37sOAyx1sDMvWMH/MaMxcGvjF3qH3voCpuXRGPMM+Pm6UirJ6tTuZ6PzFC1E+mDQhQte/ZBCQAlBVxsGY1GVq1aJUPfNlQ7oBQ/DmnB1F518HRx4GRiJr2WnmBk7ktcfeZn8KsDeWmw4Q1Y3BH/jEQ+a/cZMx6egY+zD+cyztF/U3/G7x5Pen46Lo0aUXnNaryHDAadjszNvxHz2GNcXbkS1WL7NG3lur70fqcRpf1cyLqaz8b5R1j9SRRJ5zNsXpaQPihEUZM+aF8yAngP5BvE/etqtoFpm07ybcQFVBXcnXS83aEKz2l+RbstDAyZoGigySvQ9n0yNDArchYrT60EwMvJi3ebvMsjlR5BURTyTp4ifuxY8g4fBsClcWP8J03EsXJlm9fdkGfiwK8XOLj5AiajNdCs0dSfpt2DcPey38xkIYR4UMj1WwLAe2LvFHBMTAxBQUGSfrKjgxfTGLPmCEfjrKNoIWU9mNrRh9BjH8Gx1daD3PzhkTCo1YuopANM3DORmPQYAFoGtGRMszEEuAWgms1cXb6cpE9noebmouj1+Awbhnf/l1AcHGxe98zUPPatjeHkvgQAtA4a6nesQP1OFdA72W/B6pJC+qAQRcuefVACwBKeAs7MzKRx48bUq1ePOnXqsHDhwqKuUgGTycSvv/6KyWQq6qo80OoFlmbtsJZ80KM2Hk46ouMzePyrGEYpb5DReyV4BUFWAnzfH5b1pIGuFKu6rWJYvWE4aBzYGbeTnmt7svTYUsyKile/fgStX4/rQw+hGgxcmTmT2D5PknvkqM3r7u7lRIeXQujzXiPKVSuN2Whh/8/n+HrcXqJ3XcZike9290L6oBBFS/qgfZXoEUCz2Ux+fj4uLi7k5ORQu3ZtIiIi8Pb2vq3XyzeIB0tyVj5TN57g+0jrgtClnB14t2Mlnsr/Ac3OmWDOB60eWr4BLUcSmxPPxD0TiUyMBCDYK5gJLSYQ4h2CqqpkrFtHYtiH1mViNBq8+vXD97VX0bi42LzuqqoSezCZXT+eIeNKLgDeAW481LsqgcFeNi9PCCHuZ3L9LuEB4N+lpqZSv359IiMj8fHxua3X2PMDZDabOXHiBDVr1kSr1dr03OLW9p9LZcyao5xIyASgbvlSfNTWjZpRk+DsFutBnpWh63QsVdqx5swapu+fTqYhE42ioW9wX4bWG4qLgwumlBQSwz4k46efAHAoX56ykybi2qKFXepuNlk4+kccET/Fkp9j/dZcsY43LXpVxausq13KfFBJHxSiaNmzD0oAWMxTwNu3b6dbt26UK1cORVFYs2bNDcfMmTOHypUr4+TkRMOGDdmxY8cdlZGWlkbdunUpX748o0aNuu3gz97MZjN79+7FbDYXdVVKnEaVvNjwWkvGdwvB3VHHoUvpdFkex2jXCWQ/vgjcy8LVWFj+BJpVL9LLrxnreqzjkUqPYFEtLI1eSs+1PdlxaQc6b28CPplO+Xlz0ZUti/HSJS70H8Dl997HnJZm87prdRrqtg/k+UnNCW1XHo1G4fyRFL794E/+WHGS3EzZU/N2SR8UomhJH7SvYj0CuHHjRnbt2kWDBg144oknWL16NT169Cj4/XfffUffvn2ZM2cODz30EPPnz2fRokVER0dToUIFABo2bEh+fv4N5/71118pV+7/22olJibSq1cvfvzxR/z8/G6rfvIN4sGXlJFH2M/HWXPwMgBernrGdAikZ9pSlD/ng2oGvRs8/B40Hcz2+N1M3juZ+Ox4ALpU7sKoxqPwcfbBnJXNlZkzufrNN6CqaL298R8zGvdHHrHbWn5piTns/vEMsYeSAdA7aWn4aCVC25ZH5yCjWkKIkkmu38U8APw7RVFuCACbNm1KgwYNmDt3bsFzwcHB9OjRgw8//PCOyxgyZAjt2rWjT58+N/19fn7+dcFkRkYGgYGBJCcn4+3tXXCjqk6nw2g0oijKDT8bDAa0Wi1arfaGn3U6HRqNhvz8fDQaDUeOHKFmzZo4OTkVPK/XW3d/MBgM1/3s6OiIxWLBaDTe9GeTyYRer8dsNmM2m2/42WQyoaoqDg4ON/xsqzY5ODjc9Of7oU0R59OYsP44p5OyAGhY0ZMpTc3UiJqIcikCANWvFkrXmVz1qs7C6IV8feJrLKoFD70HIxuOpGuFrjg5OZEdGUn82HEYY6wziV3atKHcxAloy5SxW5sSz2ayY9UpUi5lA+Dm5UizHkFUb+yP0Wh8YP5OtvzsGY1GoqKiaNSoEYqiPBBtehD/TtKmB7dNBoOB48ePU6tWLTQajU3blJycjK+vb4kOAIt1CvhWDAYDkZGRdOp0/fZbnTp1Yvfu3bd1jsTERDIyrMt/ZGRksH37dmrUqPGvx3/44YeUKlWq4BEYGAjA5s2bAdiyZQtbtljvEdu4cSM7d+4EYM2aNUREWIOElStXcujQIQCWLVvGiRMnAFi0aBExfwUE4eHhXLx4kejoaGbNmkVysnX0ZurUqWRmZmIwGJg6dSoGg4HMzEymTp0KQHJyMjNmzAAgLi6O8PBwAGJiYli0aBEAJ06cYNmyZQAcOnSIlSut69pFREQUpNh37tzJxo0bbd6muLg4AGbMmHHftam04Qo/v96Kh0tfxUmnEHn+Kl1WpvO20yRyu8wkFyeUxGPwRSdipz/GkIpPsbTjUkrnlybDkMGEPRPosrQL59LPkR0YyA8tmuPz6qug05Hzxx/EdH2M059/zqK/ZqLbuk0BNTwxVjxNlYddcC2lJys1n9++OM6PH0eycNbyB+bvZMvPXlJSEps2bcJsNj8wbXoQ/07Spge3TatWrSI6OtoubVq6dCkl3X07Anj58mUCAgLYtWsXLf52Q31YWBhLly7l5MmT/3nOyMhIBgwYgKqqqKrKkCFDGDJkyL8eX5gjgPKtsfi26Uq2kbCNJ/npsDXN6+PmyJg2XjyesgjNwa8BUJ29oONEcmr2ZGXM98w5OIc8cx56jZ5BdQbxfPXncXNxI/evBaTz/1pA2ql+PcpNmYKuYkW7tcligshfYjm05RImg3Uh6aqNytC8RxUc3TUPzN/pQfzsSZukTdImGQG0lfs+ANy9ezfNmzcvOG7KlCnXRfn2ZM97CEwmExERETRu3BidThb1LY52nk5m3NqjxCRb06pNKnsxvUkOFfaMgaRo60GBzeCxGVxyKcXkvZPZdXkXAFVKVWFCiwnUK1PPuoD0im+5MmMGlpwcFAcHfIYOwXvAAJS//hO1h+y0fPati+H4nnhQ/z+BpOEjFdE7y2dO+qAQRcuefVDuAbyPU8A+Pj5otVoSEhKuez4pKem2J3EUZ6qqcunSJe6T+LxEalnNh40jWvF25xo4OWj4MzaVtqvy+TBwPvntJoKDK1zcC/NaUX73XOa2+piprabi5eTF2fSz9N3Yl8l7J5NlzsHr+ecI2rAe1zatUY1Grsz6jNgnepP7V+rCHlxLO9LuhWCefL8xATU8MZssRG06z/Jxezi6PQ6L2fb7Gd9PpA8KUbSkD9rXfTsCCNZJIA0bNmTOnDkFz4WEhNC9e/e7mgRyu8LDwwkPD8dsNnPq1KkS/Q1CWF26msMHG6LZdCwRAD8PRya39aTDhZkox9dbD/IIgEc+JK1yaz6JmsGaM2sA8HX25b2m79GhQgcAMn76mcQpUzBfvQqKgmff5ynz+utoXO23jp+qqpw7ksLuH86QlpgDgGdZVx7qXZWKtW5vYXQhhLhfyAhgMQ8As7KyOHPmDAD169dnxowZtG3bFi8vLypUqFCwDMy8efNo3rw5CxYsYOHChRw7doyKFSvavX72TgHv3LmTli1bSvrpPvL7ySQmrDvG+RRrEPVQVW8+rptIuV1jIe289aCqHeHRj/kz/wqT9k7ifIb1+YcDH2Z009H4u/pjunqVpKlTSV+7DgCHcuXwnzgRt1Yt7Vp/s9nCse2XidgQS162EYDAEC8eeqIq3gFudi27uJE+KETRsmcflACwmAeA27Zto23btjc8369fP7788kvAuhD0tGnTiI+Pp3bt2sycOZPWrVsXSv3s+QEyGo1s3LiRLl264ODgYNNzC/vKM5qZ/0cMc7adId9kwUGrMPihcgx3WIfDns/AYgSdE7R6k/xmg1kQvZQvjnyBSTXhonNheIPhPF3jabQaLVk7dpIwfjzGy9Z1CEt1f5wy776LztPTrm3IzzGyf+N5Dm+9iMWsoigQ3LIcTbsF4eJhv/sSixPpg0IULXv2QQkAbRgAmkwmnJycOHjwILVr17bFKYs9+QCJW7mQksOE9cfYeiIJgHKlnPjoYSdanvoIJfYP60HeVaHrJ5z2DGDinokcumK956+OTx3GNx9PDa8aWLKzufLZZ6R+tcy6gLSnJ37vv4/HY13ttoD0NelXctiz+ixno64A4OCopcEjFanXPhCdXhaSFkLcn+T6beMRwCpVqvDjjz9St25dW52yWCqMewBNJhNbtmyhffv2kn66j6mqym/HrWnhuLRcANpU8+Hj4NOU2T0Jsqz3DFK7N5ZOH7Dq8g5mRs0k25iNTtHRr1Y/BtcdjJPOidxDh4gfM5b806cBcGnWDP+xY3CsUsXu7bh8Jo1dq06TdN66P7KbpyPNe1ahWiM/FI19g9CiIn1QiKJlzz4oAaCNA8AlS5awatUqli9fjpeXl61OW2zZ+x5Aufg8OHINZuZsO8P8P2IwmC3otRqGP1SGwZZv0UUuAtUCjh7QbgyJtboxNeJjfrvwGwCB7oGMbTaW5uWaoxoMpHzxBclz56Hm54NOh/eL/fAZMsSuk0QAVIvK6f2J7Fl9lqyr1vUwy1R056E+1ShXtbRdyy4K0geFKFoSANqXTQPA+vXrc+bMGYxGIxUrVsT1HxekqKgoWxVVLMgHSNypmCtZjF93jB2nravnl/d05pOHVJpGT4bLf/UP/1B47FO2WNII2xdGUo41hfx4lcd5q9FbeDp5Yrh0icSwD8nauhUAnZ8ffu+9i3vnznZPC5sMZg5tvUjkxvMY862btFdp4EvznlUo5eti17KFEMIW5Ppt4wBw4sSJt/z9+PHjbVVUsSCTQMTdUFWVX44mMGlDNPHpeQB0rOnNR5UP4LXnQ8hLBxRo9BJZrd9kVvRSvjv5HSoqpR1LM6rxKB4LegxFUcj8/XcSp4RhvHQJANcWzfEbMwbHoCC7tyMnw8C+9TEc33kZVQWNViG0bXkaPVoJR5f7/zMrfVCIoiWTQOyrWM8CLq4K6x5AWYLiwZadb+KzradZvCMWk0XFUafhrYc86Z/zBdoj31kPcvGBTpM5VC6YCXsmcibNuixSs7LNGNtsLBU8KmDJyyNl0WJSFixANRjAwcGaFh482O5pYYCUuCx2/XCGi9GpADi5OtD4scrUal0Orfa+XWte+qAQRUyWgbEvuwSAkZGRHD9+HEVRCAkJoX79+rYuoliQD5CwhTNJmYxdc4w9MSkAVPJ24dNm2dQ7NAmS/9rTumJLjF2m8mXSXuYdmofBYkCv0TMwdCADag9Ar9VjuHiRxClhZG3bBoDO3x+/d9/FvXMnu6eFAc4fS2HX92e4Gm/dGq+0nwstnqhKpTrehVK+EELcLrl+2zgATEpK4umnn2bbtm2ULl0aVVVJT0+nbdu2fPvtt/j6+tqqqGLB3ingNWvW0KNHD0k/lQCqqrLu0GWm/HScpEzrBIuuId58WHY7HvtmgCkXNDpo/irnGzzNlMiZ7InfA0Alj0qMbjaaZmWbAZC59XcSw/6eFm7xV1q4st3bYTFbiN4Vz5/rY8jNtC4kHVDDk4d6V8U30N3u5duS9EEhipY9+6AEgDbeC/i1114jIyODY8eOkZqaytWrVzl69CgZGRkMHz7clkU98BRFoXz58jJyUkIoikL3egFsebMNA1pWRqtR+Ck6habbQ1nWaBWW6l3AYoJdn1LxqyeZH9idaa2n4ePsw7mMcwz6dRDvbH+H5Nxk3Nu1JWjDenyGDUPR68nevZuY7t1J+mQGlpwcu7ZDo9VQu3UAz09qToPOFdHqNMSdvMrKsAi2fHWc7LR8u5ZvS9IHhSha0gfty6YjgKVKleK3336jcePG1z3/559/0qlTJ9LS0mxVVLEg3yCEvZxIyGDsmqNEnLsKQBVfVz5vkEDwwcmQftF6UHA3MjtMYPaZlXx74ltUVNwd3BneYDh9qvdBq9FiuHCBhClTyP5jOwC6smWtaeFOHQvlP9WM5Fz2ro3hdIR1vUOdXkODzhWp16ECDo6ykLQQomjI9dvGI4AWi+Wmw7QODg5YLBZbFlWkwsPDCQkJuSHQtSWDwcDy5csxGAx2K0MUXzX9PVj5SnM+6VMXHzc9Z69k02WTO2+WWUBW49es6eDj63Ff0I73tWVZ8ejXhHiHkGnMZMq+KTz/8/NEp0Sjr1CBwHnzKD8nHIeAAEzx8cS9/joXBw4iPzbW7u3w8HGm04BaPDGqIf5BHpgMFv5cH8vX4/ZwYk88qqX4zkGTPihE0ZI+aF82HQHs3r07aWlprFixgnLlygEQFxfHc889h6enJ6tXr7ZVUcWCPb9BmM1mDh06RN26ddFqZaSkJEvPNTLj15Ms23seiwquei0fNIOelz5CubZ2YIUWmLvN5LvkKGYfmE2WMQuNouGZms/war1XcdO7WWcLL1hIyqJF/58t3L8/Pq+8jMbF/uv3qarKmcgk9qw+S2aKdfkb3wruPPREVQJq2Hdv47shfVCIomXPPigjgDYOAC9evEj37t05evQogYGBKIrChQsXqFOnDmvXrqV8+fK2KqpYkA+QKExH49IZu/YoBy6kAVA/wI35NaIoE/ExGLNBq4fWb3OlwXN8HDWLjec2AuDr7MuoJqPoXNG6SLTh/HlrWnj7DuCvtPB77+LesXDSwiajmcO/XyLy53MY8qwLSVeu60OLXlUp7ScLSQsh7E+u33ZaBmbz5s2cOHECVVUJCQmhQ4cOti6iWLDnB8hgMLBs2TL69u2LXq+36bnF/ctiUVm5/yJTfj5OZp4JvVbD6Idc6Zs6C80Z69Zx+AbD47PZrTEyed9kLmZa7xl8qNxDjG46mkCPQFRVJWvrVusi0pcvA+DasiX+Y0ajr1SpUNqSm2kgYkMsR3dcRrWoaDQKtR8OoHHXyji5Fv2sW+mDQhQte/ZBCQBtGACaTCacnJw4ePAgtWvXtsUpiz17p4BPnDhBzZo1Jf0kbpCYkcf7Px5hywnrNnG1y7kzv14sAXsnQU4yoECTl8l/eBSLT61k0ZFFGC1G9Bo9g0IH0b92f/RaPZbcXJIXLCB10WJUoxHFwQGvAf3xeeUVNM7OhdKW1Phsdv94hvNHrOsgOrroaNy1MrXbBKDVFd1C0tIHhSha9uyDEgDaeASwSpUq/Pjjj9StW9dWpyzW5AMkipKqqqw5GMeEddGk5xpx0Cq82dKHQblfoD28wnqQR3no+gnn/GsyZd8U9sbvBaxrB45pNoamZZsCYDh3joQpYWTv+CstXK4sfu+9h3uHDoW2BMPF46ns+v4MKXFZAJTydaZFr6pUrucjy0AIIWxKrt82DgCXLFnCqlWrWL58OV5eXrY6bbFTGFvBGQwGFi1axMCBAyX9JG4pKTOPMauP8mu0damV4LIezGmWRuU9oyHtvPWgWr1QH5nKxiuRTIuYRkqedbSta1BX3mr0Fj7OPta08JYtJISFYbocD4Brq1b4j36/0NLCFovKiT3x7FsbQ06GdeZfuWqleah3VcpULNz/pKUPClG07NkHJQC0cQBYv359zpw5g9FopGLFirj+Yx/SqKgoWxVVLNjzA2SxWIiJiSEoKAiN5v7dT1UUDlVVWX84nvFrj3I1x4hOozC8VQDDNKvQ7g0H1QJOpaHTZDJqPc7sA5/z3cnvCtYOfL3B6/Su3hutRmtNC8+fT+riL/6fFh44AJ+XXy60tLAhz8SBXy9wcPMFTEbrElI1mvrTrEcQbp5OhVIH6YNCFC179kEJAG0cAE6cOPGWvx8/frytiioW5AMkipsrmfmMX3eUn48kAFDDz53P2ypU2/s+JBy2HlS5NTz2KUfVXCbtmcTx1OMA1PGpw9hmYwn2Dgb+SgtPnkL2zp0AOJQrh9/o93Fr167QUrKZqXnsWxvDyX3W9ugcNNTrWIH6nSqgd7Lt5vBCiJJDrt82ngQyZcoU+vfvT2BgoC1OWezZ8wOUn59PeHg4w4YNw9HR0abnFg++nw7HM27tUVKyDWg1CoNbVWCE2284/DHVuq+wzgnavIO52VC+PfMDsw/MJtuYjUbR8GzNZ3m1/qu4OriiqiqZv/1G4ocf/j8t3KY1/u+/j75ixUJrT9L5DHZ9f4bLp9MAcPHQ07R7EDWbl0WjsU8wKn1QiKJlzz4oAaCNRwDd3d05cuQIlQrpfqGiZu8UcFxcHAEBAZJ+EnclJSufCeujWX/IusxL1TJuzOpUmlpR4yBmm/Ugvzrw+GckeZbn44iP+eXcLwCUcS7DO03eoWNF69qAlpwckucvIOWLL+CvtLD3oIF4DxpUaGlhVVWJPZjMrh/PkHElFwDvADce6l2VwGDb33MsfVCIomXPPigBoI0DwB49etCjRw9efPFFW52yWJMPkLgf/HI0gTFrjpKclY9GgUEtK/Om/wH0v42G3KugaKDpEGg3mt1XDl2/dmDAQ4xuYl07ECA/NpbEyVPI3rULAIeAAGtauG3bQksLm00Wjv4RR8RPseTnmACoWMebFr2q4lXW9T9eLYQQcv0GGweA8+fPZ8KECTz33HM0bNjwhkkgjz/+uK2KKhbsnQKeMWMGI0eOlPSTuGdXsw1M2hDN6gNxAAT5ujKzaznqHpsGR1ZZDypdAR6bSV6lliw+upjFRxZjtBhx1DrycujLvFjrRfRavTUt/OtmEqdOxRRvTQu7tWmD3+j30VeoUGhtyssyEvFzLEe3xWGxqCgahdqtytH4sco4u9/7jEHpg0IULXv2QQkAbRwA3mqIVlEUzGazrYoqFuydAk5OTsbHx0fST8JmfotO5P3VR0jKzEdRoP9DlRlV5QKOv7wN6ResB9V5Eh75kFhTJlP2TmFfwj7Aunbg2GZjaVK2CYA1LTxvPilLlljTwno93gMH4v3yIDROhTNTFyAtMYfdP54h9lAyAHonLQ0frUTdtoFoHe6+70gfFKJo2bMPSgBop63gHnSFsQ6gEPaSnmPkg5+i+T7yEgCVvF2Y3r0qjWLmwL551iVjnL3gkQ9R6zzJz+c2Mi1iGql5qQA8FvQYbzZ6Ex9nHwDyY2JJnDyZ7N27AXAoXx6/99/HvV3bQm1X3Mmr7Pz+NMkXrQtJe/g40bxnVao08JWFpIUQ15EA0I4BYF5eHk6FOApQFOydAp46dSrvvvuupJ+EXfx+Mon3fjhCQkYeigL9mlfi3dAsnH5+A5KOWQ8KagvdPiXD1YvPoj5j5cmV1rUD9e6MaDCC3tV7o1E01rTwpl+taeEE65Itbg8/bE0LF+KqAKpF5eS+BPauOUt2unUhaf+gUjzUpyr+lUvd0bmkDwpRtOzZByUAtHEAaDabCQsLY968eSQmJnLq1CmCgoIYO3YslSpVYsCAAbYqqliw5wdIVVUyMzNxd3eX0QthNxl5RsJ+Os63EdZJHxW8XJjWM5hmCV/Dto/AnA8OLtD2fWg6hCOpx/lg7wcFaweG+oQytvlYanrVBMCSnW1NC3/55f/Twi+/jPfAAYWaFjbmmzn42wWiNp3HZLAuJF2tsR/NegTh4X17s5alDwpRtOzZByUAtHEAOGnSJJYuXcqkSZMYNGgQR48eJSgoiJUrVzJz5kz27Nljq6KKBXsHgAaDAb1eLxcfYXd/nLrCez8c5nJ6HgDPN6vAe031uG56E85Z9wembD14/DNMfrX49sS3fH7w84K1A58Lfo5h9Ybh6mCd+JUfE/NXWtja5x3Kl8dv9Pu4ty3ctHB2Wj5718VwYk88qKDVaajbPpCGj1RE73zrhaSlDwpRtOzZByUABJveVfnVV1+xYMECnnvuObRabcHzoaGhnDhxwpZFPfAMBgNTp07FYDAUdVVECdCmui+b3mjNs02ts3iX771Ap6Vx7GyxBB6fDU6lIP4gLGiLbssknq/ai7Xd19KpYicsqoVl0ct4fM3jbD6/GVVVcQwKInDxYgI+nYnOzw/jpUtcGjKUi0OGYrh0qdDa5VrakfYvBPPk+40JqFEas8lC1KbzLB+3h6Pb47CYLf/6WumDQhQt6YP2ZdMRQGdnZ06cOEHFihVxd3fn0KFDBAUFER0dTZMmTcjKyrJVUcWCjACKB9GuM8m888NhLl21Lrb8TJNARrf2wm3raIheYz3IsxJ0mwVBD7MzbidT9k7hUpY1sGsV0Ir3m75PeffywF9p4blzSflyKZhMKI6OeL88CO+BA9EU4r11qqpy7kgKu384Q1pijrUZZV15qHdVKtbyvunx0geFKDoyAmhfNh0BrFWrFjt27Ljh+VWrVlG/fn1bFlUi5OfnF3UVRAn0UFUfNo1ozQvNrVu9rfjzIp0WnuSPetPhmW/BIwCunoOvusOaobT0DGF199W8EvoKOo2OHXE76LG2BwsPL8RoNqJxdaXMW28RtHYNLs2aoebnkzz7c2Ie60bmtm2F1i5FUagc6sPT45rQ6qlqOLrquBqfzYbZh1j/2UFS4m78gip9UIiiJX3QfmwaAI4fP55XX32Vjz76CIvFwo8//sigQYMICwtj3LhxtizqgWcwGJg5c6YMfYsi4eqoY1L32qwY1IwKXi5cTs+j3xd/MupIOdL774QmLwMKHPwaPm+M0/ENvFpvGD88/gNN/JuQb87nswOf0Xt9byISIgBwrFKFCku+IGDmDHRlymC8eJFLg4dwceiwQk0La7UaQtsG8vyk5tTrEIhGq3AhOpXvJv/J71+fICfD2uekDwpRtKQP2pfNl4HZtGkTYWFhREZGYrFYaNCgAePGjaNTp062LKZYkCFkURLkGEx8vOkkX+4+h6qCv4cTYb1q0871PKx7Da78dX9vtU7QdQZqqfL8FPsTH0d8XLB24ONVHmdkw5F4O1tTreasbJLnziF16Vf/Twu/8jLeAwYUaloYIP1KDntWn+Vs1BUAHBy1NOxSkbrtAtHptf/xaiHE/Uiu37IQ9D2RnUBESRJxLpVR3x8mNjkbgF4NAhjfpRqlIj+HHdPBbAAHV2g/Fpq8TLoxi8+iPmPVqVWoqHjoPRjRcARPVHsCjWL9TOefOUPCB5PJ2WfdbcShQgX8x4zGrXXrQm/f5TNp7Fp1mqTzmQC4eTlSu0MZ6j9cRfqgEEVAdgKxLwkA70Jh7AQi+5CK4ijXYGbG5pMs2hmLqoKvuyNhPevQ0TcN1r8OF/5a6imgoXX2sF8tDl85zAd7P+BEqnWksK5vXcY2G0sNrxrAX2t9bdxI4tSPMCUlAeDWoT1+776HvnxAobZPtaicikhk75qzZF213ntU++FytOpTHY1WgkAhCpPsBWxfEgDeA/kAiZIq8vxV3v7+EDFXrKOB3euVY8JjwXie+AY2j4f8DNDo4KHXofUoTFod3574ltkHZpNjykGraHku+DmG1htasHagOSub5DlzSP3q/2lhn8Gv4NW/f6GnhU0GMxE/nyPql/MAVAjxotPAWji6OBRqPYQQ9iHXbwkA74m9U8BxcXEEBARI+kkUS3lGMzN/O8XC7TFYVPBx0zO5R20eqaDCz2/DiQ3WA72qwOOfQaWWJGYn8lHER2w+vxkAPxc/3m3yLu0rtC9Y5uGGtHDFCviPGYNbq1aF2j6LxULEbyc4uCEJk8FCaT8XHh1SB09/10KthxAllT2vgxIA2ngWsLAdo9HIqlWrMBqNRV0VIW7KyUHLe12C+XHoQ1Qr40ZyloHBy6MYtiGBlMe+gCeXgZs/pJ6FL7vCutfw0+iZ8fAM5rSfQ4BbAIk5ibyx7Q1e3foqlzKtM4Edq1alwpdLKPfJdHS+vhjPX+DioJe59NprGOPiCq19RqORXUd/odvrdXDzciQtMYfvP4rk/LGUQquDECWZXAfty6YjgLm5uTg733yfzfj4eMqWLWuroooF+QYhhFW+ycxnW04z748YzBYVL1c9H3SvTddqzvDbBIhcYj3QzQ+6TIOQ7uSZ81l4ZCFfHP0Ck8WEk9aJV+q+Qr+QfjhoralWc1Y2yeHhpC5bZk0LOzn9Py2s1xda+3IyDPwy/wjxZ9NRFGjxRFXqtg+UBaKFuE/J9dvGI4D169cnKirqhue///57QkNDbVnUA89isXDmzBksln/fqkqI4sJRp+XtzjVZM/Qhavq7k5ptYNg3UQz54SxXHv4IXtoI3tUgKxFW9YNvn8UpO4XX6r/GD4//QGP/xuSZ85gVNeu6tQO1bq74vTOKoNU/4tKkCWpeHlc+nUVst8fJ2rHTrm36ex908dDTfUR9gh8qi6rCru/PsHXpcUxGs13rIERJJtdB+7JpANixY0datGjB1KlTUVWVrKwsXnzxRfr16ycLQd8hk8nEr7/+islkKuqqCHHb6pQvxbpXWzK8fTV0GoWNRxPoNPMP1l6tiDp4B7QeBRoHOPkzhDeFPxcS5F6JxZ0WE9YyDC8nL2LSY+i/qT+jd44uWEfQsVo1Kiz9knLTrWlhw/nzXBw0iEuvDcd4+bJd2vLPPqh10ND2+Zq0eqoaikbhxN4E1sw4QHa67FQghD3IddC+bD4J5JdffuGll16iatWqXL58GQ8PD77++mtCQkJsWUyxIEPIQvy7Y5fTeXvVYaLjMwDoGOLHlB61KZMbA+uHwyXrKB+BTaHbZ1CmJun56cyKmsX3p74vWDtwZMOR9KzWs2DtQHNWFsmf/5UWNputaeEhQ/B66cVCSwtfPJ7KpoVHyc8x4VrakUeH1KFMRfk/QIj7hVy/7RAAWiwWXnvtNebOnYtOp2P9+vV07tzZlkUUG/b8AJnNZk6cOEHNmjXRamU3AnF/MpotzN12ltlbT2M0q5RydmB8txB61vVH2f8FbJkIhizrqGCrN6HVSNA5cujKIT7Y8wEnr54Eblw7ECDv1CkSP5hMToQ1kNRXrIjf2LG4tXzIJnX/rz6YlpjDz3MPczUhB62DhvYvBFOtsZ9NyhZC2Pc6KAGgjVPAZ8+epXnz5mzYsIFNmzYxatQounfvzqhRo2QWzx0ym83s3bsXs1nuMRL3LwethuHtq7H+tZbUCShFeq6RkSsPMWDZARJqvgDD9kH1R8BihD+mwrxWcGEvdX3r8u1j3zKq8ShcdC4cunKIpzY8xfSI6eQYcwBwql6dCl8tpdzHH6P19bGmhQcO5NLw122SFv6vPljaz4Un3mlExdremI0Wfl18jL1rzqJaZGUtIWxBroP2ZdMRQHd3d7p27cq8efMoXbo0ALt37+aFF17A3d2dAwcO2KqoYkG+QQhx+0xmC/O3xzDrt9MYzBbcnXSMfSyEPg0CUKLXwMZRkG3dj5dGA6DDeHAqRUJ2AtMipl23duB7Td+jXWC7glm45qwskmd/Tury5da0sLMzPkOG4P1iPxQ7p4UtFpW9a85y4NcLAFQK9aFj/xD0Tjq7liuEuHty/bZxALhs2TL69u17w/OZmZmMGDGCxYsX26qoYsHeKeBDhw5Rt25dSQGLB8qpxEze/v4why6mAdC6ui9Te9WhnD4XNo+FA8utB7qXha6fQM2uAGy/tJ2wfWHEZVnXAmxTvg3vNX2PALf/bxeXd/IUCR9MInd/JAD6ypXxGzMat4fuPC18p33w5L4Efl92ArPJglc5Vx4dEkop35sviyWE+G/2vA5KACg7gdwTe36ADAYDK1eu5Mknn0RfiOudCVEYTGYLi3bGMmPzKQwmC26OOkZ3DebpxoEosdut+wpfjbUeHPw4PPoxuPuTa8pl4eGFLDm2pGDtwMF1B/NCyAsFaweqqkrG+vUkTvsYc3IyAO6dO+P37js43MFapHfTBxNjM/h53mFy0g04uup45OU6lK/heWdvjhACsO91UAJAOwWA0dHRXLhwAYPB8P+CFIVu3brZuqgiER4eTnh4OGazmVOnTpXoD5AQ9+JMUhajvj9E1IU0AFpV8+HDXnUo76bAHx/Brs9ANYNjKeg4ERr0A42GmLQYPtj7AfsT9wNQpVQVxjQbQyP/RgXnNmdmkvz556Qu//r/aeGhQ/DuZ9+0cNbVfDbOO0zS+Uw0GoVWT1WjdpvyditPCHHnJAC0cQAYExNDz549OXLkCIqicO3UBffpPGA3ctrzA2QymYiIiKBx48bodHIvkXhwmS0qS3bF8vGmk+SbLLjqtbz7aDDPNamAJukorHsNLv91/3DFh6DbLPCphqqqbIjZwPT90wvWC+xRtQcjG47E0+n/o255J0+SMOkDciP/nxb2HzsG1xYtblmve+mDJoOZrctOcDoiEYBarQNo9VQ1tFrZfVOI22XP66AEgDaeBfz6669TuXJlEhMTcXFx4dixY2zfvp1GjRqxbds2Wxb1wFNVlUuXLiEZevGg02oUBrYK4pcRrWlcyZNsg5mxa47y3KJ9XHCoAgO3QOcwcHCB87tg7kOw/WMUs5FuVbqxrsc6elfvDcCaM2votqYbP57+EYtq3T3AqUYNKi5fRrmPpqL18cEQG8uF/gO49MYbGBMS/rVe99IHdXotHfuH0LxnFVDg2PY41n16kNwsw3+/WAgByHXQ3mw6Aujj48PWrVsJDQ2lVKlS/Pnnn9SoUYOtW7fy5ptvyixgIcQtWSwqS/ecY9ovJ8k1mnF20PLOIzV4oXklNOkXYMMbcHaL9eAyIfD4bChvTfseTDrIB3s/4NTVUwDU863H2OZjqe5ZveD85sxMrsyezdXlX4PFguLigu/QIXi98ILd0sLnDifz6xfHMOaZcfd2ouvQULwD3OxSlhDi9sj128YjgGazGTc3639sPj4+XP5rLa6KFSty8uRJWxb1wDOZTGzbtk22wBElikaj8NJDlfllRCuaBXmRazQzYX00Ty/cyzmzDzz/A/RaCC7ekBQNizrAz6MgP5N6Zerx3WPf8Vajt3DWOXPwykGeXP8kn+z/pGDtQK27O/7vv0/lH3/AuUED1JwckqZ/QkyPnmTv2XNdXWzVByuF+tB7VCM8fJ3JTMnj+2mRxBy8ck/nFKIkkOugfdk0AKxduzaHDx8GoGnTpkybNo1du3YxadIkgoKCbFnUA09VVTIyMmToW5RIFb1d+WZgMz7oXgsXvZY/Y1N5ZNZ2Fu2MxVy7DwyLgLrPACr8OR/Cm8GpTeg0OvrV6se6HuvoUKEDZtXMl8e+pPva7my9sLXg/E41a1Lx6+WUnfohWm9vDDExXHipP3EjR2JMtN63Z8s+6FXOlT7vNqJ8TU9M+WY2zjvC/p9jpX8LcQtyHbQvm6aAN23aRHZ2Nr169SImJobHHnuMEydO4O3tzXfffUe7du1sVVSxIEPIQtjfxdQc3vnhMLvPpgDQsKIn03qHUsXXDc5ssaaF085bD679BDwyFdzKADeuHfhw4MO81+Q9yrmVKzi/OSODK5/N5uo33/w/LTxsKF59+9o8LWw2W9j1/RmO/H4JgKoNy9CuXzAOelnrU4jCJNfvQlgHMDU1FU9Pz4KZwA8Se88C3rJlC+3bt5dZwKLEU1WVFX9eJOzn42Tlm3DUaXizU3UGtAxCa8qB38Ng7xxQLeBUGjpPgXrPgaKQa8plweEFfHnsS0wWE846ZwbXHUzfkL44aBwKysg7ftw6W/ive5X1QUFcfLQLLQcPtnkfPLYjju3fnsJiVvGt4E6XwXVw93KyaRlC3O/seR2UANDGKeCb8fLyeiCDPyFE4VEUhWebVmDTG61pVc2HfJOFsJ9P8MTc3ZxJs1gDvkFbwT8U8tJg7TD4qjuknMVZ58zrDV7n+27f09CvIbmmXGZGzuTJ9U8SmRhZUIZTcLA1Lfzhh2i9vDDExFAmfA6pixfbPAVVq1UA3UfUx8nNgSsXMlk1dT/xZ9NtWoYQQtyKTUYA+/fvf1vHffHFF/daVLEi3yCEKHyqqrJq/yU+2BBNZr4JvU7DiA7VeLlVEDossDfcOiJoygOdEzz8LjR/FbQOqKrKurPr+GT/J1zNvwpAz6o9eaPhG9etHWjOyCDxo49I/+FHADwefZSyUyajcbbt1m4ZKbn8POcIKXFZaHQKDz9bk+AWt79biRDi7sj120YBoEajoWLFitSvX/+W35RXr159r0UVK/b8ABmNRjZu3EiXLl1wcHD47xcIUcLEp+fy/o9H+P2kdUZtaPlSfNy7LjX83SE1BtaPgNg/rAf717EuGVOuPgDp+enMjJzJD6d/AKC0Y2lGNhxJ96rd0SjWxIjRaGT3uPGUWb8eTCYcQ4IJnD0bh4CAG+pyLwx5/2vvvsOjKtYHjn+3ZNNIL4QEQgkl1ITepShIrwKCIipeRbFiuSrYRbABKrEC0qSEFrqASAchlIReQqippPet5/fHYvhx8V5LdrMheT/Pw/OEk7N7ZpLzZt6dOTNjYvuCMyQes9Yj4t5adBoWhloWjRZVnD3bQUkAbZQAPvPMMyxbtozQ0FAef/xxHn74YXx9fW1RvgrN3s8A7t27ly5dusgzgEL8F4qisPpoEu+tP0VeiQknjYrnezZgQvcwnNQqiFsCW960Dgur1NDhGejxJujcAevage//9j4Xsi8A0CqwFVM6TKGBT4PSGGzt4kLKpJcxZ2Wh8fEh5ItZuLdrZ9t6WBRiN14iduNlAGo18aX3+Ka4uMuHP1F12bMdlATQhpNA9Ho9q1evZt68eezfv5/+/fszfvx4evfuXWmfAZQbSIiKIS2vhMlrTvLLmZtbrwV78ukDETQJ9oSCG/Dz63BypfVk71AYMAvq3wuA0WJkyZklRMVFUWwqRqvSMrbpWCa0mICbk5v1nORkrj/7HCWnT4NWS9DkN/F+8EGb/21LOJLO9gWnMRkseFd3o9/TzfEJcrfpNYQQ0n6DnWYBX7lyhfnz57Nw4UKMRiOnT58uXSC6MrH3EHBMTAxDhgyRIWAh/gJFUVgXn8w7606RU2REq1YxsUd9Jvaoj06rhvNbYeMkyL1mfUGLUXD/NHD3AyC1MJXph6az/ap1p5EgtyC6m7vz2vDXcHJywlJcTMqUt8jbuBEA7xEjCHpris2XirlxLZ9N3xynIEuPzlVL7yeaUrupn02vIcTdwJ7toCSAdpoFrFKpUKlUKIqCxWKxxyUqPZVKRc2aNStt76kQtqZSqRgcGcLWl+6hT9MgTBaFL7ZfYNDsvZxMyoWGveGZ36D904AKji+H2W0gfjkoCkHuQczqMYvZPWcT7B5MalEqy/TL+DLuS0wWE2pXV4I/+5TAV18BlYqcFSu4Mu5RTDdsu6tHQC0PRrzelhphXhiKTWycHc+xbVdlMVxR5Ug7aF92GQLeu3cvAwYM4LHHHqNPnz6o1ZXzYWb5BCFExaQoChtPpPD22lNkFRrQqFU83S2M5+6tj7NWA9cPw7rnIf2U9QVh98KAGeBTB4BiUzFfHv2SxWcWA9AuqB2f3PMJfq7WnriC3btJevkVLPn5aKtXp+bs2bg2b2bTOphNFnYtPceZfSkAhHcIottDjdA6yaLRQpSVtN826gF85plnqFGjBh9//DEDBgzg+vXrrFixgn79+lXa5M/eDAYDixcvxmAwOLooQtx1VCoVA1oEs/Wle+jfvAZmi8LsHQkM/Govx6/nQM028NQu6PkWaJzh4nb4uiPsnw1m62LRL0W+xGD1YNy0bhxKPcTIDSOJvxEPQLV77qFO9HJ09ephSkvjykMPkbt2rU3roNGq6fFwOF1HNUClVnH2t1RiZhyjMFdv0+sIUVFJO2hfNlsGJjQ0lJYtW/7PrtrVq1eX9VJ2UVRUROPGjRkxYgSfffbZX36dPT9BmM1m4uPjiYiIQKORT/xClMWmEym8FXOSzJu9gU/eU48X7m2Ai5MGMhJg/QtwZa/15BqRMOgrzIFNiY+Px6OOBy/vfplLuZfQqrX8u+2/GdVoFCqVCnNBAcmvvkbBjh0A+D72GIEvT0Jl4xmL185kseWHk+iLTLh7O9Pv6eYE1q6avRai6rBnOyg9gDZKAB999NG/NEb/448/lvVSdjF58mQuXLhAaGhohUkAhRC2lVVo4N11p1gXnwxA/cBqfPJAC1qF+oDFAscWwda3QJ8LKg10es66iLSTK4XGQt7a9xbbrmwDYFDYIKZ0mIKr1hXFYuHGV1+R+c23ALh36kTIjM/ReHvbtPw5aUVs+uY42alFaJzU3PtIYxq0rW7TawhRVUj7XQ57AVd0Fy5c4PXXX2fgwIGcPHmywiSABoOBRYsWMXbsWHQ2nmUoRFW25VQqk9ecJKNAj1oFT3Stx6ReDa29gfmpsPk1OG0dzs3RBuA+LhqnWq1QFIWFpxcy88hMzIqZhj4NmdV9FrU8awGQ9/PPJL/xJkpxMU6hodSKmo1zgwY2Lbu+2MS2uae4cjITgNZ9atN+UD1UanlIXlQ+9mwHJQEsh72Ay2L37t0MHDiQ4OBgVCoVMTExd5zz9ddfU7duXVxcXGjdujV79uz5W9d45ZVXmDZtmo1KbDsajYYOHTrI8K8QNnZ/0yB+mXQPw1qGYFHg+92J9PtiD4cvZ4FHEIxcCA8uRfGogbfpBtr5feDIfFTAuKbj+KH3D/i6+HI++zyjNoxi1zXrbiOeffpQZ+kSnEJCMF69yuVRD5L/yy82Lbuzq5Z+z7SgZe9QAI78fIVN357AUGKy6XWEqAikHbSvCp0AFhYWEhERwezZs//w+8uXL+fFF19k8uTJHDt2jK5du9K3b1+uXr1aek7r1q1p1qzZHf+Sk5NZu3YtDRs2pGHDhuVVpb9Mo9HQtGlTufGFsANvNx0zRkUyd1wbqns6k5hRyIjvDvD++tMUG8wQ3g/V0/uhQW9UZr31GcHVT4K+gLZBbYkeEE1EQAT5xnye/fVZouKiMFvMuISHU2flCtzat8dSVMT1Z5/jxuwoFBsuh6VWq+g0rD73PdYEjVbN5eMZrPrkCLk3im12DSEqAmkH7euuGQJWqVSsWbOGIUOGlB5r3749rVq14ptvvik91rhxY4YMGfKXevXeeOMNFi9ejEajoaCgAKPRyMsvv8zbb7/9h+fr9Xr0+lsz8PLy8qhVqxYZGRn4+flhMlk/hWu1WoxGIyqV6o6vDQYDGo0GjUZzx9darRa1Wo1er0dRFObNm8fYsWNxd3cvPf57N7jBYLjta2dnZywWC0aj8Q+/NplM6HQ6zGYzZrP5jq9NJhOKouDk5HTH17aqk5OT0x9+LXWSOjmyTnnFRt5bf5LVx6zLrYT6uvLpAxFEBLsz54fvmdDCiGbnVFSKGfwbYnngR0y+DVFpVHwa+ylLzy0FoFONTnzQ8QMCPQIxFhdz47PPyP1pCQDu995LyMcfo7g427RON64UsOmbeIryjDi7a7n3sUbUaRpYKX9PUqeqV6fi4mIWLlzIo48+ipOTk03rlJGRQUBAgAwB340MBgNHjhyhd+/etx3v3bs3+/fv/0vvMW3aNK5du8bly5f57LPP+Ne//vVfk7/fz/fy8ir9V6uW9dmfbdusD4Zv376d7dutuwhs3ryZvXutswpjYmKIjY0FIDo6mvh461ISixYt4uzZswDMmTOHxMREAKKiokhPT6d3797Mnj2bjIwMAKZPn05+fj4Gg4Hp06djMBjIz89n+vTpAGRkZDBjxgwAkpKSiIqKAiAxMZE5c+YAcPbsWRYtWgRAfHw80dHRAMTGxpYOse/du5fNmzfbvE5JSUkAzJgxQ+okdaowdXLRKHidXc8PD0dS3UPH1axiRn3/G1PWHCcjtxB115dI7/cjBSoPyDgPP/Rk71cTcNI4MdhjMPeb78dF48L+lP0MXT2UU5mnOBwXx77wcGpMnYqi1VK4fTtXRj/IruXLbVqn6nU9SfM4iE+IK/pCExtnn+TwlouV8vckdap6dVqzZg29e/cmLi7O5nVasGABVd1d2wOYnJxMSEgI+/bto1OnTqXnffTRRyxYsIBz5879rfefP3/+n04CKc8eQPnUKHWSOpV/nfJKjEzdcJroI9YGrpaPK1+ObklETS+MuSk4b3gWLv5q/QMQ+RDmPh9jVjtzqeASL+14iWsF19CpdbzR7g0G1xuMk5MT+UeOkPLiS5hv3EDt6UmNzz/Ds2tXm9ZJpajZteQ85w/d3Au5azDth9bGxdWlUv6epE5SJ+kBLLu7PgHcv38/HTt2LD1v6tSpt2X59mTPWUR6vZ6oqCgmTpyIs7OzTd9bCPG/7blwg3+vPE5ybglatYpJvRsy4Z4w1Ciw93PY8REoFghoDCMXQEAj8gx5TN4zmZ3XdwIwvMFw3mj/Bs4aZ4xp6Vx//jlK4o+DWk3ga6/iO26cTbe4UhSFY1uvciDmIigQ3MCbPk81w7WarCIg7k72bAdlFvBdPATs7++PRqMhNTX1tuPp6elUr373r43l5OTEiBEjbL4BthDiz3VtEMCm57vQs74XJovCJz+f4+G5B0krMMA9r8Ij66BadbhxBr7vAfHL8dR58kXPL3iu5XOoULHqwirGbR5HckEyTtUDqb1wIV5Dh4LFQvr0j0l5/XUsJSU2K7NKpaLV/bXp/3QLnFw0JF/IYcW0w2RcL7DZNYQoT9IO2tddmwDqdDpat25d+vzd77Zt23bbkLA9REVF0aRJE9q2bWu3a6jVamrVqiVb6QnhIN7uzswd35lPhrfA1UnD/ouZ9Jm1m+1n0qBuV5iwF+reA8ZCWPMkrHsOtUnPky2e5Nv7vsXL2YtTmacYtWEU+5P3o3Z2psZHU6n+5pug0ZC7dh1Xxj6CMS3NpuWu08KfB15rg2eAK/mZJaz69AiJcTdseg0hyoO0g/ZVoX+qBQUFxMXFERcXB8ClS5eIi4srXeZl0qRJzJkzh3nz5nHmzBleeuklrl69yoQJE+xarokTJ3L69OnSh0ztQa/XM23atNueORRClB+9Xs/06dMZ3CKQDc93oWmwJ9lFRsYvOMy7605R4uwHY2Og2+uACo4uhDn3QUYCnUI6ET0gmqZ+TcnR5/D0L0/zw/EfUFDwfWQsoXN+QOPlRcmJE1x64AGKjh6zadl9g90Z8Xobaob7YNKb2fztCQ5vusRd8sSPEIC0g/ZWoZ8B3LlzJz169Ljj+Lhx45g/fz5gXQj6k08+ISUlhWbNmjFz5kzuueeecimfPZ8hsFgsZGRk4O/vL59+hHCA/4xBvcnMJz+fY+7eSwCEB3nw1eiWNKjuARd3wOp/QeEN0FWDQV9Cs+HozXqmHZzGqgurAOheqztTu0zFU+eJ4do1rk98Fv358+DkRNDbb+EzYoRN62A2W9i3MoETO64DUL91ID3HNcZJJ+uqiYrPnu2gPANYwRPAik5uICGqnh3n0nklOp7MQgMuTmreHtCU0e1qocpPhVVPwBXrUhS0GQ/3fwROLqw6v4qPDn6EwWIg1COUmT1m0tCnIZbCQpLfeJP8rVsB8BkzhupvvI7Kxs88ndqTxO5l57GYFfxrVaPf0y3w8HWx6TWEuJtI+13Bh4ArqvJ4BlCv1/Pee+9J17cQDvLfYrBHo0A2v9iVrg38KTFaeHPNCZ5efJQcrR88sha6vmw98fBcmNsLshIZ3nA4C/stJNg9mKv5V3lo40NsTNyI2t2dkC9mEfDC8wBkL1nC1cfHY8rKsmldmnYNYfCLLXH1cCLjWgErph8m5WKuTa8hhK1JO2hf0gNYBvb8BKEoCvn5+Xh4eNh0qQghxF/zZzFosSjM2ZvIp1vOYTQrBHu5MOvBlrSr6wsXfrEOCRdngbMnDJ4NTQaTU5LD63teZ1/yPgDGhI/hlTav4KRxIv/XX0l+9TUshYVog2tQKyoKl8aNbVqnvMxiNn19gsykAtRaFd3HNKJxp2CbXkMIW7FnOyg9gJIAlom9E8DfF9OUBFCI8vdXY/DE9VyeW3qUy5lFqFXwXM8GPNezPtqCFFj5OFz7zXpi+wnQ6wPMag3fxH/Dd8e/AyAyIJLPu39OoFsg+oQErk2ciPHKVVQuLgR/NBXPfv1sWi9DiYlfF5zh4jHrzOCIe2vRaVgYao0MCImKxZ7toCSAMgRcYf3/7XSEEOXvr8Zg85pebHi+K8Nb1cSiwBfbL/Dg979x3eIDj26Azi9YTzz4Lcy7H03udZ5t+Sxf9fwKDycP4m7EMXL9SGJTY3GuX5+60dG4d+mCUlJC0qSXSZ8xE8Vstlm9dC5a7v9XM9oOqAtA/PZrbIg6Tkmh0WbXEMIWpB20L+kB/AeioqKIiorCbDZz/vx56QEUohL6JzG4Ni6JyWtOUqA34emiZfrwFvRrXgPO/QxrnoKSHHDxgiHfQHh/ruZd5aWdL3E++zwalYaXWr/EI00esS4WPWMGWXPnAeDe7R5CPvsMjYeHTeuYcCSd7QtOYzJY8K7uRr+nm+MT5G7TawjxT0kPoH1JAlgG8gygEJXXP43Bq5lFPL/sGHHXcgAY3a4Wbw1ogltRMqx4DJIOW0/s+Czc9y7Fion3D7zPhsQNAPSu3Zv3O7+Pu5M7ues3kDJlCopej65OHWp+HYVzvXo2reeNa/ls+uY4BVl6dK5aej/RlNpN/Wx6DSH+CXkG0L5kCLiCMhgMzJw5U7q+hXCQfxqDoX5urJjQkWe6h6FSwdJD1xj41V5OF3nDY5uhw0TriQdmw4/9cC3M5KMuH/Fm+zfRqrVsvbKVMRvHkJibiNfAAdT+6Se0QUEYLl/m8shR5O/cadN6BtTyYMTrbalR3wtDsYmNs+M5tu2qLBotHE7aQfuSHsAykE8QQoj/ZX9CBi9Fx5GWp0enUfNGv3Ae7VQH1dmNEPMM6HPB1QeGfg8NexOXHsfLO18mvTgdN60bH3b5kF61e2HKyOD6Cy9SfOQIqFQEvPgifk/+y6a9ImaThV1Lz3FmXwoA4R2C6PZQI7ROsmi0qHyk/ZYEsExkJxAhKi9bxWBWoYHXVsbzy5l0AHqGB/LpAy3wMyTDikchJc56YucXoedbZBhyeG33a8SmWreafKzpYzzf6nk0JgupH31EzrLlAHj260uNDz9E7eZWhlreTlEUTuy8zt4VCSgWhep1Pek7oTnuXs42u4YQf5XsBGJfkln8A+WxELTRaGTu3LkYjTIzTwhHsFUM+rrr+OGRNrw3qCk6rZpfz6bT94s97M30gPFbod2T1hP3zYIFA/A3Gvi+1/c81vQxAH489SNPbnuSTHMeNd59l6B33wGtlrxNm7k85iEM15PKWNNbVCoVLXrUYuBzETi7aUm7lMeKaYdJv5Jns2sI8VdJO2hf0gNYBvIJQgjxd5xJyeP5pce4kF6ASgVP3RPGy70b4nR2Lax9Dgz54OYHw36A+vey9fJW3tr3FkWmIgLdAvm82+dEBkZSdPgw159/AXNWFhofH0K+mIV7u3Y2LWtOWhGbvjlOdmoRGic19z7SmAZtq9v0GkI4irTf0gNYYVksFq5du4bFYnF0UYSokuwRg41reLLu2S6MaR+KosC3uy7ywDf7uRLUG57aBUHNoSgTFg+HXz+kd+i9LB2wlHpe9UgvSuexLY+x7OwyXFu3pu7KFbg0aYI5O5urj48n66efbDpxw7u6G8P/3Ybazf0wGy1snXuKvdEX0BebbHYNIf4XaQftSxLACspoNLJixQrp+hbCQewVg646DR8Nbc63D7fCy9WJ+Ou59PtiD2uuOsP4X6D1Y4ACuz+FhYOpp3ZjSf8l9K7dG5PFxNSDU5m8dzKmQB9q/7QYzwEDwGQi7YMPSXnrLSw2nDHp7Kql39MtaNk7FID4X6+x+K0DnNx1HYtZGmVhX9IO2pcMAZeBdCELIcoiOaeYF5fFcehyFgBDW4bw/uCmeFxYC+tfAEMBuAfC8Dkode9h4emFzDwyE7NipqFPQ2Z1n0VNj5pkzfuR9M8/B4sF18hIQr78AqfAQJuW9fKJDPavSiA7tQgAnyA3Og2vT+1mfrJWqbjrSPstCWCZ2HsWcGJiIvXq1ZNZwEI4QHnFoNmiMPvXBL7Yfh6LArX93PjywZZEuN6A6HGQfgpQQfc34J5XiE0/yiu7XiGrJAsPJw8+6voR3Wt1p2DPHpImvYwlPx9tYCA1Z3+Fa4sWti2r2cLpPckc2nCJkgJrr0ytxj50Gt4A/5rVbHotIewZg5IAyhDwP1Ies4BNJhNbt27FZJLnbYRwhPKKQY1axQv3NSD6qY6EeLtyJbOI4d/s59tTaizjt0HLsYACOz+CxcNoW60O0QOiiQiIIN+Yz3O/PsdXx77CtXMn6q6IRhcWhik9nSsPjyUnJsa2ZdWoad69Jg+/34GWvUJRa1VcO5NN9NRD7Fh0hsJcvU2vJ6o2aQftS3oAy0A+QQghbCm3yMiba06w8YR1MeYu9f2ZMTKCwMQ1sHESGIugWhA8MBdjrfZ8dvgzlpxdAkDn4M5M7zodD5OW5Fdfo2DHDgB8x40j8NVXUGm1Ni9vXkYxB9ZcJOGIdY1DrbOG1veHEnFfKE46WUBaVFzSfksCWCb2vIHMZjNnz54lPDwcjUb+kApR3hwVg4qiEH34Gu+uO02x0Yyvu47PRrSgp282rBgHN86CSg09JkOXSWy4vIn39r9HibmEYPdgZvSYQROfxmTMnk3G198A4N6pIyEzZqDx9rZLmVMu5rJv5QXSLlnXC6zm40yHwfVo2C4IlVqeDxT/jD1jUBJAGQKusMxmM7/99htms9nRRRGiSnJUDKpUKka1DWX9c11oUsOTrEIDj88/zLu/mSl5dBtEjAbFAr9+AEtGMKB6Rxb3W0yoRyjJhck8sukR1lyMIeD55wmZNQuVqyuF+w9wacRISs6ft0uZa4R5Mfy11vQe3xQPXxcKsvX8Mv8MK6YfJvlCtl2uKSo/aQftS3oAy0A+QQgh7ElvMvPx5nPM23cJsK4j+NWDEdRPWgubXgFTCXiGwAPzyAtqwuQ9k9l5fScAwxsM5432b6AkXOb6MxMxJiWhcnMjePo0PHv3tluZTUYzx3+9zuHNlzGWWBvuepEBdBwahnd1221bJ0RZSPstCWCZ2HsIOD4+noiICBkCFsIBKlIM/no2jVdWHCer0ICLk5p3BzZlVGgeqhWPQuYFUGngvnewdJjI3FM/8tWxr1BQaOLXhJndZxJodCXppUkU/fYbAP4TJ+I/8RlUdpzdXJRnIHbDJU7tTUaxKKg1Kpp3q0mb/nVwcXey23VF5WHPGJQEUIaAKyyz2czp06el61sIB6lIMdgzvDo/v9CVLvX9KTFaeH31CSZu15P78FZoPgIUM2x7G/Xyh/hX/eF8e9+3eDt7czrzNCM3jORQ0RlC5/yAzyNjAciIiuL6889jLii0W5ndPHV0G9OIB6e0o3YzPyxmpXQh6fjt1zCbZCFp8b9VpBisjKQHsAzkE4QQojxZLAo/7Enk0y3nMFkUQrxd+WJUBG0y18Lm18GsB69aMGI+yd7BTNo5iVOZp1Ch4tmWz/JE8yfIW7OW1HfeQTEacW5Qn5qzZ6OrXdvuZb92Oot9qy6QmWRNOr0CXOk0vD51I/xlIWlR7qT9lh7Af6S81gE8cOCArH8khINUxBhUq1U81S2MVU93orafG0k5xYz8/jdm5XTB9NhW8K0HuddgXh+CT8SwoM98hjcYjoLCV8e+4oVfX0A94F5qL16ENiAA/YUELo0YScHefXYve60mvoyc3I4eD4fj6qkj90Yxm789QcyMY6RfybP79cXdpyLGYGUiCeA/MHHiRE6fPk1sbKzdrqEoCtevX7fp5u5CiL+uIsdgRC1vNj7flWGtQrAoMOuXC4zZUEzyqC3QZAhYjLDlDZxXjufdli/yXqf30Kl17Ly+kwc3PMjVWi7UWbkSl4gWWPLyuPbkk2TO+9HudVWrVTTpEszD73egTb86aJzUJF/IYcW0w/zy42kKskvsen1xd6nIMVgZyBBwGUgXshDC0dYcu86UNScpNJjxdNHy8bDm9C3ZCFveBLMBvGvDiPmccnFm0o5JJBcm46Jx4e2Ob9O/Zm9S33uf3NWrAfAcNJAa77+P2sWlXMqen1XCwbWJnDuYCoDWSU1kr1Ba9g5F52L7hauF+J2035IAlok9byCTycTevXvp0qULWjus4C+E+N/uphi8klnI88viiL+WA8DodqG801qPy5rHIecKaHRw/0fkNH+A1/e+wb5k65Dv6PDRvNL6FQqWRpM2fTqYzbg0a0bN2V/hFBRUbuVPv5LHvpUJJF+wlt/NU0f7wfUI71gDtSwkXWXZMwYlAZQh4ApLURTy8vKk61sIB7mbYrC2nzsrJ3Tk6e5hqFSw9NBVBqwq5NyQjRA+wNoTuOkVvNe/SFTnj3iqxVMALD27lMe3Po5xWC9C585B4+1NycmTXHpgBEVHj5Zb+QNrezJkUkv6PtUczwBXivIM7Fh0luipsVw7k1Vu5RAVy90Ug3cj6QEsA/kEIYSoaPYlZPDS8jjS8/XotGre7NOIcZrNqLa9DRaTdaLIiAXsMmXzxp43yDfm4+viy2fdPiPCVIPrE59Ff+4cODkR9NYUfEaOLNfym00WTu5KInbjJfRF1of/azfzo9Ow+vgGu5drWUTlJe239ABWWCaTiS1btsjsJyEc5G6Nwc71/dn8Qld6hgdiMFl4d8MZ/nW+HbmjN1iXiMlKhDn30S3tIssHLKOhT0OySrL419Z/sTR3O7V/WozH/feD0Ujq2++Q8t57KAZDuZVfo1UTcW8tHv6gIxE9a6FWq7hyMpNlHx5i19JzFOeXX1mEY92tMXi3kARQCCEqGb9qzswd14Z3BzZBp1Hzy5l0ekUXcrB3DDTsY10vcMNL1Nr2Povv/Y4B9QZgVsx8dvgzXj38Nt6ffkjAiy+ASkXO0mVcfXw8pszMcq2Di7sTXUY2YPQ77akb4Y9iUTi5K4nFbx3g6JYrmIyyOLAQZSFDwGUgXchCiIrudHIezy09ysUbhahUMOGeurxSbSuaX9+37iDi1wBlxHyW55zk49iPMVlM1PWqy6zuswg4eoXkV1/FUliINrgGNb/8CtdmTR1Sj6Tz2exbmcCNq/kAePi60HFYGPVbB8pC0uJvk/ZbegD/kfJYCNpoNLJu3TqMRqPdriGE+O8qSww2CfZkw3NdGd0uFEWBb3ZdYtjxtqQOWwUewZB5AdWce3mwyMiP9/9IoGsgl3IvMXrjaA7UM1Inejm62rUxJadwedQoUj+cijmv/BduDmnow4jX23Dfo41x93YmP6uErXNOseqTI6Qm5pZ7eYT9VZYYrKgkAfwHymMhaJVKhaenp3yyFcJBKlMMuuo0TBvWnK8faoWni5b4aznct9LAps4roP59YCqBdc8Sue9blt//I22D2lJkKuLlXS8zOzuGmsuX4NGnD5jNZC9ezMU+fclZtQrFUr77+arUKhp1qMFD73eg3cC6aJ01pF3KY9UnR9gy5yR5GcXlWh5hX5UpBisiGQIuA+lCFkLcbZJyinlx2TFiL2cDMLxlDT4K3I7z7o9AsUBAOKbh8/jy+hZ+PPUjAG2D2vLJPZ/geuw8qR9OxZCYCIBLixYEvTUF1+bNHVKXwlw9B9clcmZ/Ciig1qqI6FmL1n3r4OxasdduFI4l7bf0AFZYRqORFStWSNe3EA5SWWMwxNuVpf/qwIv3NUCtglXHUrj/cBsu9lsK1YLgxlm0c+9jklMwM7rPwE3rRmxqLKPWj+J8fVfqxawh8LXXULu7U3L8OJdHjiJ5yhRMWeW/Xp+7lzM9xzZm1OS21Az3wWJSOLb1KovfOsCJndexmMu3h1LYVmWNwYpCEsAKSqVSUbNmTen6FsJBKnMMajVqXryvIcue7EiwlwuXM4u4f42FBRGLUep2B2MRrHmKXnFrWXr/fOp51SO9OJ1xm8cx9egn6B5+gHqbN+E1eBAoCrkrV3GxT1+yFv+E4oAlO/xrejDohUj6T2yBT5AbJQVGdi87z7IPDnH5RIYsJHyXqswxWBHIEHAZSBeyEOJul1tk5PXVx9l80rof7z31ffi61g6qHfgUUCCwKYXDvmVaQjRrL64FIMA1gH+3+ze9a/em+NgxUj/4EP2ZMwA4N2xI0FtTcLPjJLn/xWy2cHpPMoc2XKKkwNpzVDPch84P1Me/podDyiQqHmm/JQEsE3veQAaDgejoaEaOHIlOp7Ppewsh/lxVikFFUVgWe4331p+ixGjBz13H3K6FRMa+AoU3QFcNBn7BIf9Q3v/tfa7kXQGga0hXJneYTLBrEDnR0aTP+gJLrnVGrmf//gS+9ipO1as7pE76YhNHNl8m/tdrWEwKqKBxpxq0H1QPdy9nh5RJ/D32jEFJACUBLBN73kBms5n4+HgiIiLQaDQ2fW8hxJ+rijGYkJ7Ps0uOcTbVutbe8+08eDH3Y9RX9lpPaPUI+nvfZu6FFcw5MQejxYiLxoVnIp/h4SYPo8ot4MasL8iJjgZFQeXmhv/TE/AbNw6Vg5LovIxiDsRcJOFwOgBaZw2teocS2SsUJ13V+L3erewZg5IASgJYJnIDCSEqmxKjmembzzJ//2UAmgW5s7D+DnwPfwEo4FkTBn1BYkA9PjjwAYfTDgPQ0Kchb3d8m4iACIpPnSLtgw8pjosDQFenDtUnT6Za1y6OqRSQmpjL3hUXSLtkXcPQ3duZDkPq0ahdECq1PGNW1Uj7LQlgmdh7CHjRokWMHTu20g8/CVERVfUY3H4mjVdXHier0ICrk4aozoX0OPc+quzL1hMiH0bp/QFrk3fz+eHPydHnoELFyEYjeb7V83hoq5G7bh3pn32OOSMDgGr33kv1N15HV7OmQ+qkKAoJR9I5sPoi+VklAASEetD5gfqENPRxSJnEf2fPGJQEUBLAMrH3EPDZs2cJDw+vMsNPQlQkEoOQllfCpOg49iVY9wEe2tSbad5rcTnyPaBYl40ZOIvs2h34/PDnpZNE/F39+Xe7f3N/7fuxFBSQMTuKrMWLwWxGpdPh98QT+P3rCdSurg6pl8lo5viv1zmy+TKGEuuewnUj/Ok0rD7e1d0cUiZxJ3vGoCSAkgCWidxAQojKzmJR+G53Ip9vPYfJolDd05nvupmIPDoZMhOsJzUfCX0/5lBuAh/89gGX8y4D0CWkC5PbT6amR030Fy6QOvUjin77DQCn4GAC33gdj/vuc9gyH8X5Bg5tuMSpPckoFgW1WkWz7iG07V8XF3cnh5RJlA9pv2UdwArLYDDw9ddfYzAYHF0UIaokiUErtVrF093DWP1MJ+oFuJOWp2fIejMf1PweY4fnQaWGE9EQ1Y522SmsGrSKZyKewUntxN6kvQxdO5R5J+ehDqtD6I/zCJk1C22NGhiTk0l67nmujX8C/c2dRcqbq4eObqMb8eBb7ajd3A+LReH4r9dZ/NYB4n65itkkC0k7ksSgfUkPYBnY8xOExWIhMTGRevXqoVZLni5EeZMYvFOxwcy0zWdYeMC6DExYgDvf9VBR/8BrcOOs9aQmg6Hf51wyF/DBbx8Qm2rdM72BTwPe7vA2kYGRWIqKyPj+e7LmzkMxGkGrxfeRR/B/5hk01dwdVT2unc5i36oLZCYVAuAV4EqnYfWpG+kvixE7gD1jUHoAJQH8R6KiooiKisJsNnP+/PkqfQMJIaqenefSeW3lcdLz9WjVKl7qUZunVatR75sJihlcfaHfpyhNh7EucT2fHf7sjkkinjpPDFeukDZtOgU7dwKgDQgg8LVX8RwwwGEJl8WicHZ/CgfXJVKUZ+15qlHfiy4jGhBYW/7OVxaSAEoCWCb2vIH0ej1RUVFMnDgRZ2dZtFSI8iYx+L9lFxqYHHOCTSesO4i0CvVmdk8NwTtegbQT1pMa9YcBM8h2cr5zkkjbf3N/nftRqVTk79xJ2kfTMF69CoBr69YETZmMS+PGDqkbgKHExLGtV4nbdhWT0ToU3LB9dToMDsPD18Vh5apK7BmDkgBKAlgm9h4CTkpKIiQkRIafhHAAicE/pygKa44l8c7aU+TrTbjpNLzTrwEjS1ai2v0pWIzg4gV9pkPEaGLTDvP+gfdLJ4l0DunMlPZTqOlRE4teT9aP88n47juU4mJQq/F5cBQBzz+PxtvbYXXMzyrh4NpEzh20JroaJzUte4XSsncoOhetw8pVFdgzBiUBlASwTOQGEkIIuJ5dxMvR8Ry8lAXAfY0D+aSrFt9tL0JKnPWk+r1g4BcYqgUw9+Rcfjj+Q+lOIhMiJvBI00dwUjthTEkh7ZNPyN/8MwAab28CJr2E9/DhqBy4HE/6lTz2rUwg+UIOAK6eOtoPrEvjTjVQa+QDwt1G2m+ZBVxh6fV6pk2bhl6vd3RRhKiSJAb/upo+biz5Vwfe7BeOTqPmlzPp9Popg186L4F73wGNMyRsg687oItbwtMtJrBq0CraBbWjxFzCrKOzGLl+JHHpcTjVqEHNmTMJnT8f5wb1MefkkPr2O1weOap0ZxFHCKztyZBJLek7oTleAa4U5xnY+dM5ln0Yy+UTGUhfiu1JDNqX9ACWgb2HgDMyMvD395fhJyEcQGLwnzmTksdLy+NK9xN+sG0t3uqgwX3zC3DdOiOYut1g0Fco3qGsT1zPp7GfkqPPAWBEwxG80OoFvJy9UIxGspcu5caXX2EpKADAa+hQAl+ehNbf3xHVA8BssnByVxKxmy6hLzQBENLIm87DGxAQ6uGwclU29oxB6QGUBLBM5AYSQog7lRjNzNh2nh/2JKIoEOrrxswRzWidGg3bPwBTMTi5Q6/3oM14sg25zDgyg5iEGAD8XPz4d7t/06dOH1QqFaaMDNJnzCR39WoA1NWqEfD8c/iMHo3KyXELNuuLjBzZfIXjO66XrhkoE0XuDtJ+SwJYJvaeBTx9+nRef/11mYEohANIDJbdgYuZvLIinqScYtQqeKZ7fV5oqcZp4wtwZZ/1pNqdYdBX4BdGbGrs7ZNEgjszucNkannUAqA4Lo7UDz6k5NQpAJwb1Kf65Cm4d2jviOqVysss5uDaRM4fSgNAo1XTomdNWvepjbOb7CjyT9kzBiUBlASwTOx5AymKQn5+Ph4eHrIAqRAOIDFoG3klRt5de4rVx5IAaB7ixcyRzal/eTn88i4YC0HrCve+Be0nYFDMt00ScdY4MyFiAuOajsNJ7YRiNpOzahU3ZszEnJMDgEffPlR/7TWcatRwXEWxThTZvyqBpPPWcrm4O9Gmfx2a3ROCRiuPEfxd9oxBSQAlASwTeyeABoMBnU4njY8QDiAxaFsbj6cwOeYEOUVGnLVq3ugbziPhoN7wAlzaZT2pZjsYHAUBDbmce5kPf/uQg6kHAajvXZ93Or5DZGAkAOacHG58+RXZy5aBxYLK1RX/p57C9/HHUOt0Dqql9b65ciKT/asTyE4tAqw7inQYEkZYqwC5l/4Ge8agJIAyC7jCMhgMTJ8+XfZAFMJBJAZtq3+LGmx58R66NvBHb7Lw7vrTjItJJ3XwchgwC3QecP0QfNsF9s6kTrWa/ND7Bz7q8hE+zj4k5CQwdvNY3j/wPrn6XDTe3gS9/RZ1V63EtXVrlOJibsyaReLAgeTf3FnEEVQqFXVa+PPgW+3oNqYRrp46cm8Us+WHk6z+9AgpF3MdVra7jcSgfUkPYBlID6AQlZfEoH0oisKi364wdeMZ9CYLXq5OTB3ajAG1LbD+BUj4xXpicEsY/DVUb0JOSQ4zjsxgTcIawDpJ5LW2r9G3bl9UKhWKopC3YQPpn3yK6cYNAKp17071N99AFxrqqKoCN3cU2XZzRxGDdaJIWMsAOgwNwzvQzaFlq+ikB9C+JAEsA3kGUIjKS2LQvhLSC3hpeRwnkqw9YkNbhvDuwCZ4nVsBW96AklxQO0G316DLS6BxIjY1lg9++4BLuZcA6BTciSntp1DL0zpJxFxQSMY3X5O1YCGYTKicnPAd/zj+Tz6J2s2xyVZhjp5D6xM5sz8FRQG1WkWzbiG06V8H12qOG7KuyOQZQPuSIeAKymAwMHPmTOn6FsJBJAbtq35gNVY/04nne9ZHrYI1x5Lo+8Ue9nveD88chEb9rFvJ7ZgKP/SAlHjaBrVl5cCVTIyciE6tY3/yfoauG8qcE3Mwmo1oqrlT/dVXqbduLe6dOqEYjWR++x0X+w8g7+efHbpYs7u3Mz3GNmbUlHaENvXDYlE4vuM6i6cc4OiWK5gMZoeVraKSGLQv6QEsA/kEIYQQZXfkSjaTouO4klmESgVPdKnLy70a4nJ2DWx+FYqzQa219gTe8yponf9wksjbHd+mZWBL4Gbv0S+/kD5tOsbkZADcOnQgaMpknOvXd1hdf3ftbBb7VyWQcc26wHU1H2c6DAmjYdvqqNTS42xv0n5LAlgmshOIEJWXxGD5KtSb+HDjGZYeugpAo+oezBwVSRPPEtj0Cpxeaz0xoDEMiYKQ1iiKwobEDXwa+ynZ+mwAHmj4AC+2ehEvZy8ALMXFZM6ZS+YPP6AYDKDV4vvQQ/g/OxGNh2N37VAsCucOpXJwbSIF2dbtzgJCPeg0LIya4b4OLVtFIDuB2Jf8VaugjEYjc+fOxWg0OrooQlRJEoPly91Zy7RhzZnzSBv8q+k4l5bPkKh9fHckH/MDC2DEAnDzhxtnYM59sO1tVKYSBoYNZN2QdQxrMAyAledXMihmEJsSN6EoCmpXVwKee5Z6mzZS7b57wWQia8ECLvbtR86aGBSLxWF1VqlVhHeowUPvdaDDkHroXDTcuJrP2llxbJgdT2ZygcPKVhFIDNpXle8B1Gq1NGvWDIA2bdowZ86cv/xa+QQhhBC2l1Gg5/VVJ/jljHVnjXZ1ffl8RAS1nIvh53/DiRXWE/0aWNcNDLXuBHI49TDv//b+f50kAlCwZy9pU6diuHwZANfISKq/NQXXpk3Lr4L/RXG+gdiNlzm1OwmLRUGlgsadg2k3sC7uXrIbjS1J+y0JIP7+/mRkZPyj19p7CDgpKYmQkBAZfhLCASQGHUtRFKIPX+O99acpMpip5qzlvUFNGdYqBNW5zbDhJShIBVTQ4Wno+Rbo3DCYDfx48ke+P/49BosBZ40zT7V4ikebPoqTxrotm2IwkLVwITe+/galqAhUKrxHjiTgxRfQ+vg4tuJATloRB2IuknjMuqSN1llDy/tqEdkrFJ2L1sGlKz/2jEFJAGUIuMIyGo2sWLFCur6FcBCJQcdSqVSMahvK5he60rq2DwV6Ey+viOeZn46SVes+mPgbRD4EKPDb1/BNJ7i8F51Gx1MRT7F68Gra12iP3qzny2NfMmL9CI6mHbW+t06H3xNPELZ5E54DBoCikLN8OYl9+pK9dCmK2bEzcr2ru9H3qeYMe6UV1et6YtKbid14mZ/e/o1Te5KwmB03bF2eJAbtq0L3AO7evZtPP/2UI0eOkJKSwpo1axgyZMht53z99dd8+umnpKSk0LRpU2bNmkXXrl3/8jV0Oh3NmzfH1dWVqVOn0q1bt7/8WvkEIYQQ9me2KHy76yIzt53HZFEI8HDm0wda0L1RIFz4BdY/D3nWvYZp+wTc9y44e/zhJJHhDYbzUuuXSieJABTFxpL64VT0584B4Ny4MUFvTcGtVavyruodFEXh4tEbHFiTQF5GCQA+NdzpNCyM2s38ZI3Kf0ja7wqeAG7evJl9+/bRqlUrhg8ffkcCuHz5csaOHcvXX39N586d+e6775gzZw6nT58m9Obq761bt0av19/x3lu3biU4OJjk5GSCg4M5efIk/fv358SJE3/5ZrD3EHBiYiL16tWT4SchHEBisOI5mZTLi8vjSEi3To4Y26E2b/ZrjKulELa9BUfmW0/0CoVBX0JYDwBySnKYeXQmqy+sBsDXxZfX2r5Gv7r9ShMoxWQie9lybnz5JZa8POvbDB5EwMsv4xQYWL4V/QNmk4WTu5KI3XQJfaEJgJBG3nQe3oCAUMfOZrYXe8agJIAVPAH8/1Qq1R0JYPv27WnVqhXffPNN6bHGjRszZMgQpk2b9rev0bdvXz744APatGnzh9/X6/W3JZN5eXnUqlWLjIwM/Pz8MJmsQanVajEajahUqju+NhgMaDQaNBrNHV9rtVrUajV6vR5FUZg3bx5jx47F3d299Lju5ibnv2+P8/vXzs7OWCwWjEbjH35tMpnQ6XSYzWbMZvMdX5tMJhRFwcnJ6Y6vbVUnJyenP/xa6iR1qoh1KikpYc6cOTz55JOl173b61QZfk8WlYaPfz7H/P2XAajr784nQ5vQNiwQS8IOVOufR5VrXUrGHPkwmj4fYXaqhtls5kT2Cd4/8D6JuYkAtA9qzxtt3yDMN6y0Tqr8fNI+n0He6tWgKKjc3fF7+mn8xz2CCRz+eyrMK+HE9mSO77iG2WRtvhu0DaRN/1B8gzwrzO/JFvdecXExCxcu5NFHH8XJycmmdcrIyCAgIKBKJ4B37cdag8HAkSNH6N27923He/fuzf79+//Se2RnZ5cmdNevX+f06dPUq1fvv54/bdo0vLy8Sv/VqmWdWbZt2zYAtm/fzvbt2wFr7+XevXsBiImJITY2FoDo6Gji4+MBWLRoEWfPngVgzpw5JCZa/yhFRUVx48YNnnnmGWbPnl06SWX69Onk5+fftkF2fn4+06dPByAjI4MZM2YAkJSURFRUFACJiYmls5vPnj3LokWLAIiPjyc6OhqA2NhYYmJiANi7dy+bN2+2eZ2SkqxDNDNmzJA6SZ0qfJ3y8vLIz89Hp9NVmjpVht+TWjEzqXsteuvOU93TmUsZhYz84RBf/HKBK05hzLY8BO2eBEATtxiiOnB9xzwWLVpE6+qtmVxzMl1VXdGpdRxMPcjw9cP5/vj37Nyzk82bN6P19eXkPV1JfeklXFq0QCksJOOzz0gcMpRtn3/u8N/ToiXz6TS8Pm0f8kPta+0JvRCbztL3Ytm/OoED+w5ViN+TLe69mJgYnnnmmdKvbVmnBQsWUNXdtT2AycnJhISEsG/fPjp16lR63kcffcSCBQs4d/NZjv9l//79PPXUU6jValQqFe++++4dzxj+f+XZA6hWqzl//jx169bFxcWlyny6lzpJnSpKnYxGI6dOnaJ58+aoVKpKUafK9nsqNquYsuYkG06kABBZy4uPhzalUbAPlkt7UK17DlW2dUkYc/ORaPp+jNnZC7PZTGpJKu8feL90J5G6nnWZ0m4K7ULaldZJo1aTtXIlmbO+wJyVBUC1Xr0Iev3fKAEBFeL3lJNSwr6VF0i+YN1T2cVdS6s+obToEYqCpUL8nv7pvWcwGEhMTKR+/fqo1WrpAbSxuz4B3L9/Px07diw9b+rUqbdl+fZkz2cIDAYDixYtYuzYsaWBJIQoPxKDdwdFUVgXn8yUmJPkl5hwddIwZUBjxrQLRWUstu4lfCAKUKBadeg/AxoPKH3txksb+TT2U7JKrAneH00SMeflceOr2WQvWQJmMyoXF/ye/Bd+jz+O2sXFEdW+jaIoXDmRyf7VCWSnFgHgFeBKhyFhhLUKuGsnitgzBuUZwLs4ATQYDLi5ubFixQqGDh1aet4LL7xAXFwcu3btsnuZ5AYSQoiKITmnmJej4zmQmAlAz/BApg9vTqCHC1w7BGsnQsZ568nNhkPfT8HdD4BcfS4zj8xk1YVVgHWSyKttX6V/3f63JU8l586T9uGHFN0cXtT4++P78MP4jH4QjZcXjmYxWzi9L4VDGy5RnGcAIKieJ52GN6BGmOPLV5FI+30XPwOo0+lo3bp16fN3v9u2bdttQ8L2EBUVRZMmTWjbtq3drmE2mzl69ChmB69HJURVJTF4dwn2duWnJ9ozpX9jdFo1v55Np8+sPWw5lQq12sFTe6DLS6BSw8lVENUOTloneng5e/Fup3dZ0GcBYV5hZJVk8caeN3hy25Nczbtaeg2XRg0JXbiA4M8/QxtcA3NGBjdmzeJCj56kTZuGMTnZgT8BUGvUNLsnhIff70Cb/nXQ6tSkJuax+tMj/PzdCXLSixxavr9LYtC+KnQPYEFBAQkJCQC0bNmSGTNm0KNHD3x9fQkNDS1dBubbb7+lY8eOfP/99/zwww+cOnWK2rVr27189h4Cjo6OZuTIkTL8JIQDSAzevc6l5vPi8jjOpFiXcxnRuibvDGpKNWctJB219gamn7ae3HigdVi4mnWpF6PZyI+nfuS7+O8wWAzo1DqebPEkjzd7vHQnEQDFaCRv82Yy58xFf/5mz6JGg2e/fviNfxyX8PByrfMfKczRc2h9Imf2p6AooFaraNYthDb96+BareLf0/aMQekBrOAJ4M6dO+nRo8cdx8eNG8f8+fMB60LQn3zyCSkpKTRr1oyZM2dyzz33lEv55AYSQoiKSW8yM2Pbeb7fnYiiQC1fV2aMjKRtHV8wGWDPZ7Dnc7CYwNUH+nwMLUbCzSHfq3lX+fC3DzmQcgCAel71eLvj27Su3vq26yiKQuHefWTOm0vRgd9Kj7t37ozf+Mdx69jR4c/gZSYVsH/1Ra6esg6P61w0tO5bhxY9aqLVaRxaNkeR9ruCJ4AVnT1vIJPJRGxsLG3btkWrrTp7PwpRUUgMVg4HEzOZFB1PUk4xKhVM6BbGS/c1RKdVQ8pxa29g6nHryQ37wICZ4BkMWJO7TZc28UnsJ6WTRIY1GMak1pNumyTyu+JTp8iaO4+8n38Gi3W7NufGjfEbPx7PPvejcvB9dO1sFvtXJZBxzbp8TDUfZzoMCaNh2+qo1BVvoog9Y1ASwLv4GUBHKo9nABVF4fr160h+LoRjSAxWDu3r+fHzi10Z3qomigLf7LzIkKh9nE/Lhxot4F+/Qs8poHaC8z9DVAc4tti6CLRKRf96/Vk3ZB3DGwwHYPWF1QyKGcT6i+vvuDdcmzYlZMbnhG3dgs/DD6NydUV/5gzJr7zCxd73k7VwEZbCQkf8GACoFe7LyDfacu+jjanm40xBtp5ffjzNiumHuX42y2Hl+m8kBu1LegDLQD5BCCHE3WPziRTeXHOC7CIjOq2af/cJ57FOdVCrVZB+BmKegeSj1pPDesLAL8G7Vunrj6Yd5f0D73Mx9yIATfya8FDjh+hTpw86zZ3PqJmys8leupTsxT+VriOo9vLCZ/SD+D78MFp/f/tX+r8wGczE/3qNoz9fwVBinWRRu5kfHYeF4RdczWHlKi/SfksCWCb2HgLeu3cvXbp0keEnIRxAYrBySs8r4bVVx9l57gYAnev78dmICGp4uYLZBL9Fwa9TwawHXTXo9T60fgxu7kVrNBtZcHoB38Z/i95s3RjA18WX4Q2GM7LRSILcg+64pqWkhNyYtWT+OA/jFeusYpVOh9eQIfg+9ijOdeuWU+3vVJxvIHbjZU7tTsJiUVCpoHHnYNoNrIu7l7PDygX2jUFJACUBLBN73kBGo5HNmzfTt29fnJyc/vwFQgibkhisvBRFYfHBq0zdeJoSowVPFy0fDGnG4MgQ6wkZF6zPBl6z7hJCna4w6CvwvZWoZZVkser8KpafW05aURoAGpWGnqE9GRM+htbVW98x+UMxm8nfvp3MuXMpib/53KFKhcd99+L7+OO4tWxp97r/NzlpRRyIuUjiMWtirHXW0PK+WkT2CkXn4pgPQPaMQUkAJQH8R6KiooiKisJsNnP+/PkqfQMJIcTdKvFGAS8tjyP+unUbtUERwXwwuBlebk5gMcOh7+GX98BUDE5ucO871n2G1bcenzdZTPx69VeWnF3CkbQjpccb+TRidPho+tXrh6vW9bbrKopC8ZEjZM6dR8GOHaXHXVu1wu+J8VTr3h2V2jGP6Kck5LBvVQJpl6xL6Lh56mg3sC6NO9VArak80wYkAZQEsEzsPQS8fft27r33Xhl+EsIBJAarBqPZwuxfE5i9IwGzRSHI04XPR0bQuf7N5/OyEmHtc3Blr/X/oR1h0Gzwr3/He53LOsfSs0vZmLiREnMJAF7OXgyrP4xR4aMIqRZyx2v0CQlk/vgjuevWg9EIgK5ePfwefwzPQYNQO2ANSkVRuHj0BgfWJJCXYa2HTw13Og0Lo3Yzv3Jb1saeMSgJoCSAZSIJoBCVl8Rg1XLsajaTouO5lGGdpft457q81qcRLk4a65IuR+bBtnfAUABaF+gxGTpOBPWd6+jl6nNZc2ENy84tI6kgCQC1Sk23mt0Y03gM7YPa35FEGdPSyV68iOxly7Hk5wOgCfDH9+Gx+Dw4yiFbzZlNFk7uSiJ20yX0hSYAQhp503l4AwJCPex+fUkA7UsSwDKQG0gIISqPIoOJqRvP8NNB60SNBoHVmDkqkmYhN5OvnKuw7nlIvDls61MHWo6FyIfAs8Yd72e2mNl9fTdLzi7ht5Rbi0SHeYUxOnw0A8MG4ubkdvtrCgrIiV5B1sKFmFJTAVC7ueE9YgS+4x7BKTjY9hX/E/oiI0c2X+H4juuYTdb1DRu2q077wfXw9HP9k1dXTNJ+SwJYJjIJRIjKS2Kw6tpxNp1XVx4no0CPk0bFS70a8tQ9YWjUKlAUOLYItk6BEuuzg6jU0OB+aPUINOgNmjt7qxJzEllydgnrLq6j2FQMgIeTB4PrD2Z0+GhCPUNvO18xGG5tNXfhgvWgVotnv774jR+PS6NGdv0Z/JG8zGIOrk3k/KGbk160alr0rEnrPrVxdrN9jMgkEPuSBPAfKI9JILIEhRCOJTFYtWUW6HlzzQm2nLImO21q+zBzVCS1fG/22BkK4fRaOLoQrh649cJqQRA5BlqNBd96d7xvviGfdRfXsfTsUq7kXSk93iWkC2PCx9A5pDNq1a3JFtat5vaSOWcuRQcPlh5379LFutVchw7lvtVc+pU89q9KIOl8DgAu7k606VeHZt1C0GhtN1FEloGxL0kAy0BuICGEqLwURWHlkeu8t/40BXoT7joN7wxqyojWNW9Pum6ch2MLIW4pFGXcOl6nK7QaB40HgpPLbe9tUSzsT97PkjNL2JO0p/R4bc/aPNjoQQbXH4yH7vbn7IpPnCTrx3nk/byldKs5lyZN8B3/OJ73l+9Wc4qicOVEJvtXJ5CdWgSAZ4ArHYeEEdYqwOH7H/8Zab8lASwTew8Bx8TEMGTIEBl+EsIBJAbF765lFTEpOo7Yy9kA9G5SnWnDmuNX7T8WSjYZ4Pxma69gwnbgZvPq4g0tRlmHiIOa3fH+V/OusvTsUmISYigwWvfpddW6MihsEGPCx1DP+/aeRMO1a2TNX0DOqlUoJdZZuk4hIfiOG4f3A8NRu7ndcQ17sZgtnN6XwqENlyjOMwAQVM+TTsMbUCOsbBNX7BmDkgBKAlgm9p4FLBvRC+E4EoPi/zNbFL7fnciMbecwmhX8qznzcu+G9GteAy/XP0hOcq5B3E9wdBHkXb91PKS1NRFsNhycb+/hKzIWsf7iepaeXVq63RxAhxodGBM+hntq3oPm/806NmVnk71kiXWruWxrcqrx8sJ7zGjrVnN+frb9IfwPhhITx7ZdJW7bVUwGa+9kWMsAOgwJw7v6P0tI7RmDkgBKAlgmcgMJIUTVcio5l5eWx3E+zdpTp9Oq6dkokCEtg+kRHoiz9j+WhbGYrbOGjy6EsxvBYl1OBSd3aDbUOkRcsy38vyFTRVE4mHqQJWeWsOv6LiyKNaEKqRbCqEajGNZgGF7Ot3rXLMXF5MbEkPnjfIxXb2415+yM15Ah+D32KLo6dez3A/kPhTl6Dq1P5Mz+FBQF1GoVTbuF0LZ/HVyrlf+ahv+NtN+SAJaJPW8gg8FAdHQ0I0eOROeAhUCFqOokBsV/U2I0M3//ZVYduc6F9ILS4x4uWvo3r8HgyBDa1/VFrf6P5+AKbkD8UmsymHnh1vGAcGuvYIsHwf32XrukgiSWn13OqguryDNYd+dw0bjQv15/RoePppHvrdnAitlM/i83t5o7/v+3mrsPv/GP4xoZadOfw/+SmVTA/tUXuXoqEwCdi4bWfevQokdNtLo71078I/aMQUkAJQH8R8pjFrDZbCY+Pp6IiAg0mr8WLEII25EYFH9GURROp+SxNi6ZdXHJpOaVlH6vhpcLgyKCGdIyhMY1PP/zhXD1N2sieGqNdas5ALUTNB5gTQbrdr9ty7liUzGbL21myZklnMs+V3q8dfXWjAkfQ8/QnmjV2tJyFR8+TOacuRTs2lV6rmub1vg9Pp5q3buV21Zz185msX9VAhnXrIlyNR9nOgyuR8N2Qaj+M0H+D/aMQUkAJQEsE7mBhBBCgPUZwYOXMll7LJlNJ1PILzGVfq9RdQ8GtwxmcGQIId7/sXBySS6cWGlNBlPibh33Dr21yLTXrS3kFEXhaPpRlpxZwvar2zErZgCqu1VnVKNRDG84HF8X39Lz9RcukPnjfHLX/7+t5sLCrFvNDRxYLlvNKRaFc4dSObg2kYJsPQD+tarRaXh9aoX7/smr7UPab0kAy8TeQ8CLFi1i7NixMvwkhANIDIp/qsRoZsfZdGLikthx9gYGs6X0e+3q+DK4ZTD9m9fA2+0/7quUeOukkePRoP9/i0zXv8/aK9iwD2huTThJLUwl+lw0qy6sIqskCwCdWkefun0Y03gMTf2alp5rTEsje9HNreYKrL1x2oAAfMbe3GquHJIgk8FM/K/XOPrzFQwl1sS1djM/Og4Lwy+42h3n2zMGJQGUBLBM7HkDmc1mzp49S3h4uAw/CeEAEoPCFnKLjGw+mUJMXBK/JWaVHnfSqOjeKJAhkSHc2zjQuufw74zFcHqdtVfwyt5bx90DIXK0deKIX1jpYb1Zz5bLW1hyZgmnMk+VHo8IiGBM+Bh61e6F083E0VxQQM7yaOtWc2nWRa7Vbm54jxxp3Wquxp1b2tlacb6B2I2XObU7CYtFQaWCxp1q0G5QPdy9bi2tY88YlARQEsAykRtICCHEX5WcU8y6+GRijiVxNjW/9Hg1Zy19mgUxJDKEjmF+1i3nfpeRYN16Lm4JFKbfOl67i7VXsMkgcLIOKyuKwvGM4yw5s4StV7Ziujnj2N/VnxENRzCi4QgC3AKs5xoM5G7cRNa8ebdtNefVvx++jz9eLlvN5aQVcSDmIonHblgvr1PTslcokb1C0bnYd+klab8lASwTew8Bz5kzhyeeeEKGn4RwAIlBYU/nUvOJiUtiXVwySTnFpccDPZxLJ480Dfa8taOG2Qjnt9xcZHob3FwaBmcvaDHSmgzWaFH6PhnFGaw4v4Loc9FkFFt3J9GqtfSq3Ysx4WOICIhApVJZt5rbs8e61dyhQ6Wvd+/a1brVXPv2dt/VIyUhh32rEki7ZJ3l7Oapo93AuoS18Wfej3PtEoOSAEoCWCb2vIEsFguJiYnUq1cPdTnN1hJC3CIxKMqDxaIQezmLmLhkNp1IIbfYWPq9sAB3hkSGMDgyhFC//7eYcm6StUfw2ELIuXrreI1IayLY/AFwsa4TaDQb+eXqLyw5s4S4G3Glpzbxa8KY8DH0qdsHZ4112LX4xAky584jf+vWW1vNNW2K3/jH8ejd265bzSmKwsWjNziwJoG8DOtsap8abtTt4E67+5rIELAdSAJYBnIDCSGEsBW9ycyuczdYG5fML2fS0JtuTR5pXduHIZHB9G8RjK/7zd4wiwUu7bq5yPQGMFu3YkPrCk2HWpPB0A6li0yfzjzNkjNL2HxpMwaL9VwfZx8eaPgAIxuNJMg9CADD1avWreZWr7611VzNmtat5oYPs+tWc2aThZO7kojddAl9oXUIu0nXYHo8FG7T60j7LQngP1Ie6wDq9XqioqKYOHEizs7Of/4CIYRNSQwKR8ovMfLzyVRi4pLYfzGT31tqrVrFPQ0DGBwZTO8mQbj+vqhyYSYcXw5HF8CNs7feyK+BNRGMGA3VrM//ZZVksfrCapafW05qYSoAGpWGnqE9GR0+mjbV26BSqaxbzf20hOyfbt9qzuehMfg89JBdt5rTFxk5uCGR4zuucf8TTWnQ2raTUyQBlASwTOw9BJyUlERISIgMPwnhABKDoqJIyythfXwyMXFJnEzKKz3uptNwf9MghrQMoXOYH1qN2rrI9PVYayJ4cjUYi6wnq7XQqJ91BnFYD1BrMFlM7Li2gyVnlnA47XDp+zb0acjo8NH0r9cfV60rluJictasIevH+RivXQNubjU3dAh+jz2GrnZtu9TbYrFw8ewV6jUKlSFgO5AEsAzkBhJCCFGeEtLzWRtnTQavZd2aPOJfTceAFtbJIxE1vawTN0ry4NRq6xBx0pFbb+JZE1o+bP3nXQuAc1nnWHZuGRsubqDEbB329dR5MqzBMEY1GkVNj5rWrea2bSNz7jxKTpywvpdKhUevXtat5iIiyu3nUFbSfksCWCb2vIH0ej0zZsxg0qRJMvwkhANIDIqKTFEUjl7NJuZYMhuOJ5NddGvySF1/dwZHBjMkMoQ6/u7Wg6knrcvJxC+DkpybZ6qg/r03F5nuC1odufpcYhJiWHp2KUkFSTfPUtGtVjfGhI+hQ40OABTFxpI5dy6Fu3aXXtetTRt8xz9OtW622WrOnjEoCaAkgGVi7yHgjIwM/P39ZfhJCAeQGBR3C6PZwp4LN4g5lszW06mUGG9NHomo5c2QyGAGtAgmwMMZjCXWCSNHF8ClW8kbbv7WRaZbPgIBDTFbzOxJ2sOSM0s4kHKg9LR6XvUYHT6agWEDcXdyt241N+9Hcjds+I+t5h7Hc+CAMm01Z88YlARQEsAykRtICCFERVKoN7H1dCprjiWz98INLDdbeI1aRef6/gxtaZ084u6shaxEOLYYjv0EBam33iS0481FpoeAzo3E3ESWnlnKuovrKDJZnyms5lSNwfUHMzp8NLU9a2NMSyNr4UJylkffvtXcI2PxGVU+W839HdJ+SwJYJvYeAp4+fTqvv/66DD8J4QASg+JudyNfz4bjycTEJRN/Laf0uKuThl5NqjOkZTBdGwTghMW6uPTRhdbFphXrPr04e1rXFGz1CAS3pMBQwNqLa1l6dilX8q6Uvl/nkM6MCR9Dl5AuKAWF5ERHk7VgIaZ0684lanf3W1vNBQX95fLbMwYlAZQEsEzseQMpikJ+fj4eHh52X4VdCHEniUFRmVzKKCTmWBJr45K4nFlUetzXXUf/5jUY0jKYVqE+qPJTIX6JNRnMvnzrDYJa3FxkegQWF08OJB9gydkl7Lm+BwVrGhHqEcqD4Q8ypP4QquFM7oaNZP04D/2FBOt7aLV49e9/c6u5hn9aZnvGoCSAkgCWib0TQIPBgE6nk8ZHCAeQGBSVkaIoxF/PJeZYEhuOJ5NRYCj9XqivG4MjgxkcGUJ9fze4vMeaCJ5Z9/8WmXaxDg23egRqd+Jq/jWWnVtGzIUY8o3W/Y1dta4MChvE6PDR1POsS8Hu3WTNnUdRbGzptdzv6Yrf4+Nxa9/uv8aXPWNQEkBJAP+R8loIWoafhHAciUFR2ZnMFvZdzCTmWBJbTqVSZDCXfq9ZiCdDIkMYFBFMoLYIjkdbJ46kn771Br5h1kQwcgxFztXYkLiBJWeWcDH3Yukp7Wu0Z0z4GLrV7Ibh1Ok/3mruifF49Op1x1ZzMgRsX5IAloH0AApReUkMiqqkyGBi2+k01sYls/v8DUw3Z4+oVdApzJ/BkcH0aVodj8wTNxeZXgUG62QP1Fpo2AdajUMJ68mh9CMsObOEndd3YlGsiV5ItRBGNRrFsAbDcE3LJWv+fHJWrUbR64GbW8099ijew4ahdnUFpAfQ3iQBLAN5BlCIyktiUFRVmQV6Np1IYc2xJI5ezSk97qxVc1/j6gyODKZ7XTd0Z9dah4ivH7r1Ys8QiHwIWj5MspMTy84tY/WF1eTqc63voXGmf73+jAkfQxgBt7aay7FeR+Ptjc+YMfg8/BAaHx95BtCOJAEsA5kFLETlJTEoBFzNLGJtXBIxcUlcvFFYetzbzYl+zWswJDKENq6pqOMWQ/xSKM66eYYK6nWHVo9QUv9eNl3bzpIzSziXfa70PVoFtmJM4zF0D+hIYcx6suYvuG2rOY/Bg1hWVMSzU6fKELAdSAJYBnIDCSGEqAoUReFUch4xx5JYF59Mer6+9Hsh3q4MigxmaHN/GmbvtvYKJu649WJXX4gYjdJyLMcoZsnZJfxy5RfMN5ebCXQLtA4P1x2Mbu9R61ZzJ09aX6tW4zf+cQJfftmm9ZH2WxLAMpGdQISovCQGhfhjZovCgYuZxMQl8fPJVAr0ptLvNa7hyZDIYIbWNRKYsMq60HR+8q0X12wHrceRVqcT0Zc3svL8SrJKrL2GTmon+tbty5hGo6mTWETmnDkU7tlD0EdT8Rk2zKZ1kARQEsAykb2Ahai8JAaF+HMlRjPbz6QTE5fEznPpGM3WlEKlgvZ1fRkaEcQA9zO4n/wJzv8MlpvJos4Dmg/HEDmaLfp0lpxdysnMk6Xv2yKgBSPDRnJl7h6efPtdXKpVs2m5JQGUBLBM5AYSQgghrHKKDGw6kUrMsSQOXc4qPa7TqOkZHsjIxk50LdqOU9wiyLq1VAzVm0GrRzge3JQllzew5fIWTDcTRT8XPyZETODB8AdtWlZpvyUBLBN7DwEnJSUREhIiw09COIDEoBD/3PXsItbFJ7P2WDLn0vJLj3u4aOnXNIixIUk0TVmD6sw6MJVYv6lxhiaDyGg2mJXF14k+v4IbxTeY1GoSjzV/zKblkwRQEsAysfcQcFRUFBMnTpThJyEcQGJQCNs4k5JHTFwS6+KSScktKT0e5OnCqGbVeND1IEEJy1Gl3RoCxqcuxc0f5K1TCbw27iMCPQNtWiZJACUBLBO5gYQQQoi/xmJROHgpi7VxSWw6kUJeya3JIw0D3Xmifj79jFupdj4G9HnWb6g00PkFuO8dm5ZF2m9JAMvE3kPAiYmJ1KtXT4afhHAAiUEh7EdvMrPj7A3WxiWx/Ww6BpOl9HtdQ914uvoJ2mZtwCnpIJaBX6Fu/YhNry8JIMhftQrKZDKxdetWTCbTn58shLA5iUEh7MdZq6FPsyC+ebg1sZPv4+PhzelYzw+VCvZcLWJMbBhNLr/IY3zADk0nRxe3UpIewDKQTxBCCCGE7aTkFrM+Ppk1x5I5k2IdBn6mexiv9Qm36XWk/ZYewH8kKiqKJk2a0LZtW7tdw2w2c+rUKcxms92uIYT47yQGhSh/NbxcefKeMDa/0JXNz3dmZDMvhkTWcHSxKiVJAP+BiRMncvr0aWJjY+12DbPZzG+//SaNjxAOIjEohGOF+bvRSH+OOr6uji5KpSRDwGUgXchCCCHE3Ufab+kBrLDMZjNHjx6V3gchHERiUAjHkhi0L0kAKyiz2czp06flxhfCQSQGhXAsiUH7kiHgMpAuZCGEEOLuI+239ABWWCaTiQMHDsgaZEI4iMSgEI4lMWhfkgBWUIqicP36daSDVgjHkBgUwrEkBu1LhoDLQLqQhRBCiLuPtN/SA1hhmUwmdu7cKV3fQjiIxKAQjiUxaF+SAFZQiqKQl5cnXd9COIjEoBCOJTFoXzIEXAbShSyEEELcfaT9lh7ACstkMrFlyxbp+hbCQSQGhXAsiUH7kgRQCCGEEKKKkSHgMpAuZCGEEOLuI+03aB1dgLvZ77lzXl6ezd/baDSybds2evXqhZOTk83fXwjxv0kMCuFY9ozB39vtqtwHJglgGeTn5wNQq1YtB5dECCGEEH9Xfn4+Xl5eji6GQ8gQcBlYLBaSk5Pp2bMnhw8f/kuvadu2LbGxsX96Xl5eHrVq1eLatWtVtnv6//urPzdHKe/y2et6tnrfsrzPP3nt333NXzlfYvBOEoflcz1bvG9Z38PecejoGFQUhfz8fIKDg1Grq+Z0COkBLAO1Wk3NmjXRarV/+ebUaDR/60b29PSUxoe//3Mrb+VdPntdz1bvW5b3+Sev/buv+TvnSwzeInFYPtezxfuW9T3sHYcVIQaras/f76pm2mtjEydOtMu54paK/nMr7/LZ63q2et+yvM8/ee3ffU1Fv58qqor+c5M4tN172DsOK/q9VBXIEHAFJTOUhHAsiUEhHEti0L6kB7CCcnZ25p133sHZ2dnRRRGiSpIYFMKxJAbtS3oAhRBCCCGqGOkBFEIIIYSoYiQBFEIIIYSoYiQBFEIIIYSoYiQBFEIIIYSoYiQBFEIIIYSoYiQBvAsNHToUHx8fHnjgAUcXRYgq59q1a3Tv3p0mTZrQokULVqxY4egiCVHl5Ofn07ZtWyIjI2nevDk//PCDo4t015FlYO5CO3bsoKCggAULFrBy5UpHF0eIKiUlJYW0tDQiIyNJT0+nVatWnDt3Dnd3d0cXTYgqw2w2o9frcXNzo6ioiGbNmhEbG4ufn5+ji3bXkB7Au1CPHj3w8PBwdDGEqJJq1KhBZGQkAIGBgfj6+pKVleXYQglRxWg0Gtzc3AAoKSnBbDYj/Vl/jySA5Wz37t0MHDiQ4OBgVCoVMTExd5zz9ddfU7duXVxcXGjdujV79uwp/4IKUUnZMgYPHz6MxWKhVq1adi61EJWLLeIwJyeHiIgIatasyWuvvYa/v385lb5ykASwnBUWFhIREcHs2bP/8PvLly/nxRdfZPLkyRw7doyuXbvSt29frl69Ws4lFaJyslUMZmZm8sgjj/D999+XR7GFqFRsEYfe3t7Ex8dz6dIllixZQlpaWnkVv3JQhMMAypo1a2471q5dO2XChAm3HQsPD1def/31247t2LFDGT58uL2LKESl9k9jsKSkROnatauycOHC8iimEJVaWdrC302YMEGJjo62VxErJekBrEAMBgNHjhyhd+/etx3v3bs3+/fvd1CphKg6/koMKorCo48+Ss+ePRk7dqwjiilEpfZX4jAtLY28vDwA8vLy2L17N40aNSr3st7NtI4ugLglIyMDs9lM9erVbztevXp1UlNTS/9///33c/ToUQoLC6lZsyZr1qyhbdu25V1cISqdvxKD+/btY/ny5bRo0aL0uaVFixbRvHnz8i6uEJXSX4nD69evM378eBRFQVEUnn32WVq0aOGI4t61JAGsgFQq1W3/VxTltmNbtmwp7yIJUaX8rxjs0qULFovFEcUSokr5X3HYunVr4uLiHFCqykOGgCsQf39/NBrNbb19AOnp6Xd8EhJC2J7EoBCOJ3FYPiQBrEB0Oh2tW7dm27Zttx3ftm0bnTp1clCphKg6JAaFcDyJw/IhQ8DlrKCggISEhNL/X7p0ibi4OHx9fQkNDWXSpEmMHTuWNm3a0LFjR77//nuuXr3KhAkTHFhqISoPiUEhHE/isAJw5BTkqmjHjh0KcMe/cePGlZ4TFRWl1K5dW9HpdEqrVq2UXbt2Oa7AQlQyEoNCOJ7EoePJXsBCCCGEEFWMPAMohBBCCFHFSAIohBBCCFHFSAIohBBCCFHFSAIohBBCCFHFSAIohBBCCFHFSAIohBBCCFHFSAIohBBCCFHFSAIohBBCCFHFSAIohBBCCFHFSAIohBD/YejQofj4+PDAAw84uihCCGEXkgAKIcR/eP7551m4cKGjiyGEEHYjCaAQQvyHHj164OHh4ehiCCGE3UgCKIQQQghRxUgCKIQQQghRxUgCKIQQQghRxUgCKIQQQghRxagURVEcXQghhKhI7r//fo4ePUphYSG+vr6sWbOGtm3bOrpYQghhM5IACiGEEEJUMTIELIQQQghRxWgdXQAhhHA0lUr1j14nAyhCiLuV9AAKIao8RVFQFIUffvgBnU5HdnZ26bH/9U8IIe5WkgAKIcRN0dHRNG/enDVr1ji6KEIIYVeSAAohBJCRkcG5c+f49NNPiY6OLj3evn17Dh8+DMC4ceP45ptvHFVEIYSwGZkFLIQQwHfffcepU6eYNWsWtWvXJi4uDj8/PzZs2MC8efPo3LkziYmJREVFObqoQghRZtIDKIQQwPLlyxkxYgRqtZqBAweWDgMPGDCAxMREtmzZwhdffOHgUgohhG1IAiiEqPLS0tI4f/48nTt3BuCBBx5g+fLlABw6dIicnBy8vb3RamXhBCFE5SAJoBCiylu5ciVDhgxBrbb+SezWrRunTp3iypUrPPHEE+zYsYMLFy5w5swZB5dUCCFs4/8AUF0JIofttEEAAAAASUVORK5CYII=' width=640.0/>\n",
       "            </div>\n",
       "        "
      ],
      "text/plain": [
       "Canvas(toolbar=Toolbar(toolitems=[('Home', 'Reset original view', 'home', 'home'), ('Back', 'Back to previous …"
      ]
     },
     "metadata": {},
     "output_type": "display_data"
    }
   ],
   "source": [
    "plt.figure()\n",
    "plt.title('$R=2$ Rannacher Convergence')\n",
    "plt.xlabel('$\\\\frac{1}{\\\\Delta x}$')\n",
    "plt.ylabel('Max error')\n",
    "plt.loglog(inv_dz_vals_l3, real_max_errors_l3, label='$\\\\lambda = 3$')\n",
    "plt.loglog(inv_dz_vals_l4, real_max_errors_l4, label='$\\\\lambda = 4$')\n",
    "plt.loglog(inv_dz_vals_l5, real_max_errors_l5, label='$\\\\lambda = 5$')\n",
    "plt.loglog(inv_dz_vals_l6, real_max_errors_l6, label='$\\\\lambda = 6$')\n",
    "plt.loglog(inv_dz_vals_l10, real_max_errors_l10, label='$\\\\lambda = 10$')\n",
    "plt.legend()\n",
    "plt.grid(True, linestyle='dotted', color='grey')\n",
    "plt.show()\n"
   ]
  },
  {
   "cell_type": "code",
   "execution_count": null,
   "id": "14756347-df07-41be-b3c1-cdd3c75cfa08",
   "metadata": {},
   "outputs": [],
   "source": []
  }
 ],
 "metadata": {
  "kernelspec": {
   "display_name": "Python 3 (ipykernel)",
   "language": "python",
   "name": "python3"
  },
  "language_info": {
   "codemirror_mode": {
    "name": "ipython",
    "version": 3
   },
   "file_extension": ".py",
   "mimetype": "text/x-python",
   "name": "python",
   "nbconvert_exporter": "python",
   "pygments_lexer": "ipython3",
   "version": "3.9.13"
  }
 },
 "nbformat": 4,
 "nbformat_minor": 5
}
