{
 "cells": [
  {
   "cell_type": "code",
   "execution_count": 1,
   "id": "ad11ab9f-2d01-4d5d-ac37-22085537735a",
   "metadata": {},
   "outputs": [],
   "source": [
    "%matplotlib widget\n",
    "import numpy as np\n",
    "import matplotlib.pyplot as plt\n",
    "import math as m\n",
    "import time \n",
    "from numpy.lib.format import open_memmap"
   ]
  },
  {
   "cell_type": "markdown",
   "id": "ccf7f873-1f40-4b83-b132-a23b2311672d",
   "metadata": {
    "jp-MarkdownHeadingCollapsed": true,
    "tags": []
   },
   "source": [
    "## The Thomas Algorithm\n",
    "The thomas algorithm is a more computationally efficient way to solve for the unknowns as compared to matrix inversion (works via LU decomposition)."
   ]
  },
  {
   "cell_type": "code",
   "execution_count": 2,
   "id": "6bbcbfbf-05ff-45e0-bd37-03533ec24bd5",
   "metadata": {},
   "outputs": [],
   "source": [
    "# Define the tridiagonal matrix solver algorithm for BLACK-SCHOLES EQUATION FORMAT\n",
    "'''\n",
    "For Tx = d\n",
    "Inputs:\n",
    "    - a = lower triangular vector\n",
    "    - b = diagonal vector\n",
    "    - c = upper diagonal vector\n",
    "    - d = -aV_{i-1}^n + (1 + b)V_i^n - cV_{i+1}^n = constant term of knowns for share prices (i-1, i, i+1) at time n\n",
    "Output:\n",
    "    - unew = updated v values over space for time n+1\n",
    "'''\n",
    "def TDMA(a,b,c,d):\n",
    "    n = len(d)\n",
    "    e = np.zeros(n-1)\n",
    "    f = np.zeros(n)\n",
    "    V = np.zeros(n)\n",
    "    \n",
    "    e[0] = c[0]/b[0]\n",
    "    f[0] = d[0]/b[0]\n",
    "    for i in range(1,n-1):\n",
    "        e[i] = c[i]/(b[i] - a[i]*e[i-1])\n",
    "    for i in range(1,n):\n",
    "        f[i] = (d[i] - a[i]*f[i-1])/(b[i] - a[i]*e[i-1])\n",
    "    \n",
    "    V[n-1] = f[n-1]\n",
    "    for i in range(n-1,0,-1):\n",
    "        V[i-1] = f[i-1] - e[i-1]*V[i]\n",
    "    return V"
   ]
  },
  {
   "cell_type": "markdown",
   "id": "e56fb429-8db1-42c0-bde9-f7031d59f0cc",
   "metadata": {
    "jp-MarkdownHeadingCollapsed": true,
    "tags": []
   },
   "source": [
    "## Call Option  Parameters"
   ]
  },
  {
   "cell_type": "code",
   "execution_count": 3,
   "id": "064b3363-ba95-4633-ae26-11c71f7a6333",
   "metadata": {},
   "outputs": [],
   "source": [
    "### // CALL OPTION PARAMETERS /// ###\n",
    "sig = 0.15 # volatility (std deviation of log returns)\n",
    "K = 10 # dollars\n",
    "T = 2 # years\n",
    "r = 0.02 # yearly risk free interest rate"
   ]
  },
  {
   "cell_type": "markdown",
   "id": "b77dea26-43fb-4ee8-8fe1-ffa3908c97d1",
   "metadata": {
    "jp-MarkdownHeadingCollapsed": true,
    "tags": []
   },
   "source": [
    "## Analytical Solution"
   ]
  },
  {
   "cell_type": "code",
   "execution_count": 4,
   "id": "e459c4cb-2c79-41d9-9e46-4241f7695c77",
   "metadata": {},
   "outputs": [],
   "source": [
    "# import packages\n",
    "import matplotlib.pyplot as plt\n",
    "import numpy as np\n",
    "import math\n",
    "#import sympy as sy\n",
    "\n",
    "def erf(x):\n",
    "    if isinstance(x, (int, float)):\n",
    "        erf = m.erf(x)\n",
    "    else:\n",
    "        erf = np.array([m.erf(x) for x in x])\n",
    "        \n",
    "    return erf\n",
    "\n",
    "\n",
    "# function for N(x) - normal CDF\n",
    "def N(x) :\n",
    "    return 0.5*(erf(x/np.sqrt(2)) + 1)\n",
    "\n",
    "\n",
    "'''\n",
    "# function to calculate the analytical solution to the black scholes equation for a european call given parameters\n",
    "# INPUTS : \n",
    "    - S = stock price (vector)\n",
    "    - t = time\n",
    "    - sig = volatility \n",
    "    - K = strike price \n",
    "    - T = expiry time \n",
    "    - r = risk free rate \n",
    "    - N = Cumulative normal distribution function (defined above)\n",
    "OUTPUTS : \n",
    "    - Analytical solution for European Call\n",
    "'''\n",
    "def BS_analytic_point_S(S, t, sig = sig, K = K, T = T, r = r, N = N) :\n",
    "    # S=0 implies a zero value, S=0 implies the log going to negative infinity and the cumulative distributions having values 0.\n",
    "    S1=S[0]\n",
    "    ECall1 = np.array([0])\n",
    "    \n",
    "    S2=S[1:]\n",
    "    \n",
    "    def d1(S):\n",
    "        return (np.log(S/K) + (r + 0.5*sig**2) * (T - t)) / (sig * (T - t)**(0.5)) \n",
    "\n",
    "    def d2(S):\n",
    "        return (np.log(S/K) + (r - 0.5*sig**2) * (T - t)) / (sig * (T - t)**(0.5))\n",
    "            \n",
    "    ECall2 = S2*N(d1(S2)) - K*np.exp(-r*(T-t))*N(d2(S2))\n",
    "    \n",
    "    ECall = np.concatenate([ECall1, ECall2])\n",
    "    \n",
    "    return ECall\n",
    "\n",
    "'''\n",
    "Same as above, now considering transformed Z grid where z = lnS.\n",
    "'''\n",
    "\n",
    "def BS_analytic_point_Z(Z, t, sig = sig, K = K, T = T, r = r, N = N) :\n",
    "    # S=0 implies a zero value, S=0 implies the log going to negative infinity and the cumulative distributions having values 0.\n",
    "    def d1(Z):\n",
    "        return (Z - np.log(K) + (r + 0.5*sig**2) * (T - t)) / (sig * (T - t)**(0.5))\n",
    "    \n",
    "    def d2(Z):\n",
    "        return (Z - np.log(K) + (r - 0.5*sig**2) * (T - t)) / (sig * (T - t)**(0.5))\n",
    "    \n",
    "    ECall = np.where(np.exp(Z) == 0, 0, np.exp(Z)*N(d1(Z)) - K*np.exp(-r*(T-t))*N(d2(Z)))\n",
    "    \n",
    "    return ECall\n",
    "\n",
    "\n",
    "'''\n",
    "Same as above, now considering transformed Z grid where z = lnS - (r-0.5*sigma^2)*t i.e. the diffusion transformation.\n",
    "'''\n",
    "def BS_analytic_point_D(Z, t, sig = sig, K = K, T = T, r = r, N = N) :\n",
    "    # S=0 implies a zero value, S=0 implies the log going to negative infinity and the cumulative distributions having values 0.\n",
    "    def d1(Z):\n",
    "        return (Z + (r - 0.5*sig**2)*t - np.log(K) + (r + 0.5*sig**2) * (T - t)) / (sig * (T - t)**(0.5))\n",
    "    \n",
    "    def d2(Z):\n",
    "        return (Z + (r - 0.5*sig**2)*t - np.log(K) + (r - 0.5*sig**2) * (T - t)) / (sig * (T - t)**(0.5)) # r terms cancel in t\n",
    "            \n",
    "    ECall = np.where(np.exp(Z + (r - 0.5*sig**2)*t) == 0, 0, np.exp(Z + (r - 0.5*sig**2)*t) * N(d1(Z)) - K * np.exp(-r*(T - t)) * N(d2(Z)))\n",
    "            \n",
    "    return ECall\n",
    "\n",
    "\n",
    "'''\n",
    "Function to calculate analytic Black-Scholes solution given a grid in share price and values specifying the time grid.\n",
    "INPUTS:\n",
    "    - S = 1D array of S grid over time (entries = S grid values)\n",
    "    - dt = time step\n",
    "    - nt = total number of timesteps\n",
    "OUTPUT:\n",
    "    - 2D array of analytical solution over grid values\n",
    "'''\n",
    "# function BSASEC for grid of S and t\n",
    "def BSa_S(S, dt, nt):\n",
    "    # empty solution matrix\n",
    "    Asol = np.zeros((len(S),nt+1))\n",
    "    \n",
    "    # Initial Conditions\n",
    "    VIC = np.maximum(S - K, 0)\n",
    "    Asol[:,0] = VIC # corresponding to t = T\n",
    "    \n",
    "    # Solving backwards in time\n",
    "    for n in range(1, nt+1):\n",
    "        Asol[:,n] = BS_analytic_point_S(S=S, t=T - n*dt)\n",
    "    \n",
    "    return Asol\n",
    "\n",
    "\n",
    "def BSa_Z(Z, dt, nt):\n",
    "    # empty solution matrix\n",
    "    Asol = np.memmap('CNAsol.arr', dtype=np.float64, mode='w+', shape=(len(Z), nt+1)) # np.zeros((len(Z),nt+1))\n",
    "    \n",
    "    # Initial Conditions\n",
    "    VIC = np.maximum(np.exp(Z) - K, 0)\n",
    "    Asol[:,0] = VIC # corresponding to t = T\n",
    "    \n",
    "    # Solving backwards in time\n",
    "    for n in range(1, nt+1):\n",
    "        Asol[:,n] = BS_analytic_point_Z(Z=Z, t=T - n*dt)\n",
    "    \n",
    "    Asol.flush()\n",
    "    \n",
    "    Asol = np.memmap('CNAsol.arr', dtype=np.float64, mode='r', shape=(len(Z), nt+1))\n",
    "    \n",
    "    return Asol\n",
    "\n",
    "\n",
    "'''\n",
    "Function BSASEC for grid of S and t\n",
    "INPUTS:\n",
    "    - Z = 1D array of Z grid that, when transformed back to S, moves over time (row = S grid values, column = time) \n",
    "          with Z = lnS - (r-0.5*sig^2)*t this implies S = exp[Z + (r-0.5*sig^2)*t]\n",
    "    - dt = time step\n",
    "    - nt = total number of timesteps\n",
    "OUTPUT:\n",
    "    - 2D array of analytical solution over grid values\n",
    "'''\n",
    "def BSa_D(Z, dt, nt):\n",
    "    # empty solution matrix\n",
    "    Asol = np.zeros((len(Z),nt+1))\n",
    "    \n",
    "    # Initial Conditions\n",
    "    VIC = np.maximum(np.exp(Z + (r - 0.5*sig**2)*T) - K, 0)\n",
    "    Asol[:,0] = VIC # corresponding to t = T\n",
    "    \n",
    "    # Solving backwards in time\n",
    "    for n in range(1, nt+1):\n",
    "        Asol[:,n] = BS_analytic_point_D(Z=Z, t=T - n*dt)\n",
    "    \n",
    "    return Asol"
   ]
  },
  {
   "cell_type": "markdown",
   "id": "bb85181d-4d59-4e54-9642-f8db80f750dd",
   "metadata": {
    "jp-MarkdownHeadingCollapsed": true,
    "tags": []
   },
   "source": [
    "## Discretization Error Matrix Calculator"
   ]
  },
  {
   "cell_type": "code",
   "execution_count": 5,
   "id": "613ca8eb-b59b-4d69-b06a-b977f06f8ab7",
   "metadata": {},
   "outputs": [],
   "source": [
    "# Define function that, given a numerical solution, will provide the discretization errors\n",
    "def DErrors_S(Nsol, S, dt, nt):\n",
    "    # Initialise error matrix\n",
    "    Derr = np.zeros((len(S),nt+1))\n",
    "    \n",
    "    # Calculate analytic solutions for grid\n",
    "    Asol = BSa_S(S, dt, nt)\n",
    "    \n",
    "    # Calculate errors\n",
    "    Derr = np.subtract(Nsol, Asol)\n",
    "    return Derr\n",
    "\n",
    "'''\n",
    "def DErrors_Z(Nsol, Z, dt, nt):\n",
    "    # Initialise error matrix\n",
    "    Derr = np.zeros((len(Z),nt+1))\n",
    "    \n",
    "    # Calculate analytic solutions for grid\n",
    "    Asol = BSa_Z(Z, dt, nt)\n",
    "    \n",
    "    # Calculate errors\n",
    "    Derr = np.subtract(Nsol, Asol)\n",
    "    return Derr\n",
    "'''\n",
    "\n",
    "def DErrors_Z(Nsol, Z, dt, nt):\n",
    "    # Initialise error matrix\n",
    "    #numsol = np.memmap('RCNNsol.array', dtype=np.float64, mode='w+', shape=(len(Z), nt+1))\n",
    "    #numsol = Nsol.copy()\n",
    "    \n",
    "    Derr = np.memmap('CNDerr.arr', dtype=np.float64, mode='w+', shape=(len(Z), nt+1)) #np.zeros((len(Z),nt+1))\n",
    "    \n",
    "    # Calculate analytic solutions for grid\n",
    "    Asol = BSa_Z(Z, dt, nt)\n",
    "    \n",
    "    \n",
    "    # Calculate errors\n",
    "    for n in range(nt+1):\n",
    "        Derr[:,n] = np.subtract(Nsol[:, n], Asol[:,n])\n",
    "    Derr.flush()\n",
    "    \n",
    "    Derr = np.memmap('CNDerr.arr', dtype=np.float64, mode='r', shape=(len(Z), nt+1))\n",
    "    \n",
    "    return Derr\n",
    "\n",
    "\n",
    "def DErrors_D(Nsol, Z, dt, nt):\n",
    "    # Initialise error matrix\n",
    "    Derr = np.zeros((len(Z),nt+1))\n",
    "    \n",
    "    # Calculate analytic solutions for grid\n",
    "    Asol = BSa_D(Z, dt, nt)\n",
    "    \n",
    "    # Calculate errors\n",
    "    Derr = np.subtract(Nsol, Asol)\n",
    "    return Derr"
   ]
  },
  {
   "cell_type": "markdown",
   "id": "24fd0d5d-06c5-4761-a7f2-552c06d35a65",
   "metadata": {
    "tags": []
   },
   "source": [
    "# 2. Solving in $(ln(S), t)$ Space\n",
    "Transformations:\n",
    "- $S \\rightarrow z = ln(S)$\n",
    "\n",
    "Effect on PDE:\n",
    "- ${\\partial \\over \\partial S} \\rightarrow \\frac{1}{S}{\\partial \\over \\partial z}$\n",
    "- ${\\partial^2 \\over \\partial S^2} = {\\partial \\over \\partial S}({\\partial \\over \\partial S}) \\rightarrow \\frac{1}{S^2}{\\partial \\over \\partial z} - \\frac{1}{S^2}{\\partial \\over \\partial z}$\n",
    "\n",
    "which implies that the PDE now becomes\n",
    "\n",
    "$${\\partial V \\over \\partial t} + {1 \\over 2}\\sigma^2{\\partial^2 V \\over \\partial z^2} + (r - \\frac{1}{2}\\sigma^2){\\partial V \\over \\partial z} - rV = 0.$$\n",
    "\n",
    "Thus, the PDE coefficients no longer depend on S (non-degenerate), and the tridiagonal system coefficients will therefore turn into constants.\n",
    "\n",
    "#### Tridiagonal system\n",
    "$-aV_{i-1}^{n} + (1+b)V_{i}^{n} - cV_{i+1}^{n} = aV_{i-1}^{n+1} + (1-b)V_{i}^{n+1} + cV_{i+1}^{n+1}$\n",
    "\n",
    "where the known constants are (no longer varying with Share price grid point)\n",
    "- $a_i = {\\Delta t \\over 4}[\\frac{\\sigma^2}{(\\Delta z)^2} - \\frac{(r - \\frac{1}{2}\\sigma^2)}{\\Delta z}]$\n",
    "- $b_i = {\\Delta t \\over 2}[\\frac{\\sigma^2}{(\\Delta z)^2} + r]$\n",
    "- $c_i = {\\Delta t \\over 4}[\\frac{\\sigma^2}{(\\Delta z)^2} + \\frac{(r - \\frac{1}{2}\\sigma^2)}{\\Delta z}]$"
   ]
  },
  {
   "cell_type": "markdown",
   "id": "92546d66-a963-4b2e-9951-ac90c48d1125",
   "metadata": {
    "tags": []
   },
   "source": [
    "## Decreasing stepsize and accuracy"
   ]
  },
  {
   "cell_type": "markdown",
   "id": "663eca6b-50b5-4e72-a227-37c6356a96a3",
   "metadata": {
    "tags": []
   },
   "source": [
    "### Present Value Function"
   ]
  },
  {
   "cell_type": "code",
   "execution_count": 6,
   "id": "31515789-7795-4f90-a9f7-30bd6a76f77b",
   "metadata": {},
   "outputs": [],
   "source": [
    "def PresentValue(dt, dZ, sig=sig, K=K, r=r, T=T):\n",
    "    ### SETTING PARAMETERS\n",
    "    Smin = 1e-10 # can no longer use Smin = 0 as log(0) = -inf, use a small number as replacement\n",
    "    Smax = 500 # can use even larger Smax as ln transformation squishes results quicker\n",
    "    Zmin = np.log(Smin) # low boundary\n",
    "    Zmax = np.log(Smax) # high bonudary\n",
    "    iZ = round((Zmax-Zmin) / dZ)\n",
    "    \n",
    "    dZ = (Zmax-Zmin)/iZ # update to fit grid boundaries\n",
    "\n",
    "    Z = np.linspace(Zmin, Zmax, iZ + 1) # Nx total grid points from 0 to L included (combine two np.linspace of different step sizes)\n",
    "    nt = int(round(T/dt)) # number of steps in time\n",
    "    dt = T/nt\n",
    "\n",
    "    print(f'Stepsizes: dz = {dZ} and dt = {dt}')\n",
    "    print(f'lambda = {dt/dZ}')\n",
    "\n",
    "     #----------------------------------------------------------------------------------------\n",
    "    \n",
    "    ### INITIAL AND BOUNDARY CONDITIONS\n",
    "    VIC = np.maximum(np.exp(Z) - K, 0)\n",
    "\n",
    "    VB1 = 0\n",
    "    VB2 = Smax\n",
    "\n",
    "    VIC[0] = VB1 # still use zero as the boundary value\n",
    "    VIC[-1] = VB2\n",
    "    \n",
    "     #----------------------------------------------------------------------------------------\n",
    "    \n",
    "    ### SOLVING THE TRIDIAGONAL SYSTEM\n",
    "    # Define solution matrix\n",
    "    V = np.memmap('CNPVmatrix.arr', dtype=np.float64, mode='w+', shape=(iZ-1, nt+1)) # np.zeros((iZ-1, nt+1)) #np.zeros((iZ-1, nt+1))\n",
    "    # add initial conditions in first column\n",
    "    V[:,0] = VIC[1:-1]\n",
    "    \n",
    "    # Define tridiagonal system\n",
    "    # constants in system\n",
    "    ac = (dt/4 * (sig**2/dZ**2 - (r - 0.5*sig**2)/dZ))\n",
    "    bc = (dt/2 * (sig**2/dZ**2 + r)) # care with 1 +/- b\n",
    "    cc = (dt/4 * (sig**2/dZ**2 + (r - 0.5*sig**2)/dZ))\n",
    "\n",
    "    # vectors of tridiagonal\n",
    "    a = - ac * np.ones(iZ-1) # lower diag\n",
    "    b = (1 + bc) * np.ones(iZ-1) # diag has (1 - bc)\n",
    "    c = - cc * np.ones(iZ-1) # upper diag\n",
    "\n",
    "    # check diagonal dominance for thomas algorithm stability\n",
    "    print('\\n Tridiagonal system coefficients:')\n",
    "    print(f'lower diag values = {-ac}')\n",
    "    print(f'diag values = {1 + bc}')\n",
    "    print(f'upper diag values = {-cc}')\n",
    "\n",
    "\n",
    "    # empty RHS vector\n",
    "    d = np.zeros(iZ-1)\n",
    "\n",
    "\n",
    "    # iterate over time, note here the middle value has (1 + bc)\n",
    "    for j in range(1, nt+1):\n",
    "        # left boundary\n",
    "        d[0] = (ac*VB1 + (1 - bc)*V[0,j-1] + cc*V[1,j-1]) + ac*VB1\n",
    "        # no boundaries involved\n",
    "        d[1:-1] = (ac*V[0:-2,j-1] + (1 - bc)*V[1:-1,j-1] + cc*V[2:,j-1])\n",
    "        # right boundary\n",
    "        d[-1] = (ac*V[-2,j-1] + (1 - bc)*V[-1,j-1] + cc*VB2) + cc*VB2 #problematic\n",
    "    \n",
    "        # store solution\n",
    "        V[:,j] = TDMA(a,b,c,d)\n",
    "        \n",
    "    V.flush()\n",
    "    \n",
    "    V = np.memmap('CNPVmatrix.arr', dtype=np.float64, mode='r', shape=(iZ-1, nt+1)) # np.zeros((iZ-1, nt+1))\n",
    "\n",
    "    # Matrix of results\n",
    "    # Add the i=0 and i=nS boundary condition values\n",
    "    \n",
    "    Vsol = np.zeros((iZ+1, nt+1))\n",
    "    V0 = np.array([VB1])\n",
    "    ViZ = np.array([VB2])\n",
    "    \n",
    "    for j in range(nt+1):\n",
    "        Vsol[:,j] = np.concatenate((V0, V[:,j], ViZ), axis=0)\n",
    "\n",
    "    #----------------------------------------------------------------------------------------\n",
    "    ### // CALCULATING MAX ERROR //\n",
    "\n",
    "    \n",
    "    # Errors\n",
    "    # max\n",
    "    Error = DErrors_Z(Vsol, Z, dt=dt, nt=nt)\n",
    "    # abs max\n",
    "    Aerror = np.abs(Error)\n",
    "    \n",
    "    # Absolute final error values\n",
    "    AFE = Aerror[:,-1]\n",
    "\n",
    "    \n",
    "    ###  CONSIDERING THE ENTIRE S DOMAIN \n",
    "    # MAX ERROR\n",
    "    ME = np.max(AFE)\n",
    "    print('\\n ENTIRE S DOMAIN ERRORS')\n",
    "    print(f'1. Maximal error: {ME} \\n')\n",
    "    ME_ind = np.where(AFE == ME)[0][0]\n",
    "    print(f'located at {ME_ind}, z value of {Zmin + ME_ind*dZ}, S value of {np.exp(Zmin + ME_ind*dZ)} \\n')\n",
    "\n",
    "\n",
    "    # Absolute error sum across S grid at present time\n",
    "    AES = np.sum(AFE)\n",
    "    print(f'2. Absolute sum of errors: {AES}')\n",
    "\n",
    "    \n",
    "    ###  CONSIDERING A REALISTIC S DOMAIN FROM 0-1000\n",
    "    # Define a cutoff at a large enough S and corresponding Z\n",
    "    Scut = 100\n",
    "    Zcut = np.log(Scut)\n",
    "    cutoff = int((Zcut - Zmin) / dZ)\n",
    "\n",
    "    R_AFE = AFE[:cutoff]\n",
    "\n",
    "    R_ME = np.max(R_AFE)\n",
    "    print('\\n REALISTIC S DOMAIN ERRORS')\n",
    "    print(f'1. Maximal error: {R_ME} \\n')\n",
    "\n",
    "    R_ME_ind = np.where(R_AFE == R_ME)[0][0]\n",
    "    print(f'located at {R_ME_ind}, z value of {Zmin + R_ME_ind*dZ}, S value of {np.exp(Zmin + R_ME_ind*dZ)} \\n')\n",
    "\n",
    "\n",
    "    # Absolute error for each time\n",
    "    R_AES = np.sum(R_AFE)\n",
    "    print(f'2. Absolute sum of errors: {R_AES}')\n",
    "    \n",
    "    return ME, R_ME, Vsol[:,-1]"
   ]
  },
  {
   "cell_type": "markdown",
   "id": "b3e89168-e068-4459-8fd8-035f8ec08648",
   "metadata": {
    "jp-MarkdownHeadingCollapsed": true,
    "tags": []
   },
   "source": [
    "### 1. $\\lambda = \\frac{\\Delta t}{\\Delta z} = 6$:"
   ]
  },
  {
   "cell_type": "code",
   "execution_count": 7,
   "id": "b5433db6-9abe-4cb0-9566-d8e51eecaf1f",
   "metadata": {},
   "outputs": [],
   "source": [
    "# Empty list to store max error values\n",
    "L1_max_errors = []\n",
    "L1_real_max_errors = []\n",
    "# Empty list to store dt and dz's\n",
    "L1_dt_vals = []\n",
    "L1_dz_vals = []\n"
   ]
  },
  {
   "cell_type": "markdown",
   "id": "3ac22679-a784-4270-bb4e-6d33da25e8f1",
   "metadata": {
    "jp-MarkdownHeadingCollapsed": true,
    "tags": []
   },
   "source": [
    "#### 1.1 Parameters $\\Delta z = 0.1, \\Delta t = 0.6$"
   ]
  },
  {
   "cell_type": "code",
   "execution_count": 8,
   "id": "7a99c8dd-866b-4559-95a8-abb30004f1e4",
   "metadata": {},
   "outputs": [],
   "source": [
    "dZ=0.1\n",
    "dt=0.6"
   ]
  },
  {
   "cell_type": "code",
   "execution_count": 9,
   "id": "86d3fa12-7a31-46a4-805b-e8a083931ac2",
   "metadata": {},
   "outputs": [
    {
     "name": "stdout",
     "output_type": "stream",
     "text": [
      "Stepsizes: dz = 0.10013855831631045 and dt = 0.6666666666666666\n",
      "lambda = 6.65744222680786\n",
      "\n",
      " Tridiagonal system coefficients:\n",
      "lower diag values = -0.35939981359407\n",
      "diag values = 1.754592603597091\n",
      "upper diag values = -0.3885261233363543\n",
      "\n",
      " ENTIRE S DOMAIN ERRORS\n",
      "1. Maximal error: 9.607894391523416 \n",
      "\n",
      "located at 292, z value of 6.214608098422193, S value of 500.00000000000074 \n",
      "\n",
      "2. Absolute sum of errors: 22.67789685324793\n",
      "\n",
      " REALISTIC S DOMAIN ERRORS\n",
      "1. Maximal error: 0.013606398050871604 \n",
      "\n",
      "located at 253, z value of 2.309204324086089, S value of 10.066411866183358 \n",
      "\n",
      "2. Absolute sum of errors: 0.09851386549908721\n"
     ]
    }
   ],
   "source": [
    "L1P1 = PresentValue(dt=dt, dZ=dZ)"
   ]
  },
  {
   "cell_type": "code",
   "execution_count": 10,
   "id": "dcaceb09-5122-4126-8c21-3313cd93173a",
   "metadata": {},
   "outputs": [],
   "source": [
    "L1_max_errors.append(L1P1[0])\n",
    "L1_real_max_errors.append(L1P1[1])\n",
    "L1_dt_vals.append(dt)\n",
    "L1_dz_vals.append(dZ)"
   ]
  },
  {
   "cell_type": "markdown",
   "id": "88354aab-b0ab-46e6-81a3-0d27b15a97f5",
   "metadata": {
    "jp-MarkdownHeadingCollapsed": true,
    "tags": []
   },
   "source": [
    "#### 1.2 Parameters $\\Delta z = 0.05, \\Delta t = 0.3$"
   ]
  },
  {
   "cell_type": "code",
   "execution_count": 11,
   "id": "38285ea2-2f13-42dd-8c2e-f2c9549c9a56",
   "metadata": {},
   "outputs": [],
   "source": [
    "dZ=0.05\n",
    "dt=0.3"
   ]
  },
  {
   "cell_type": "code",
   "execution_count": 12,
   "id": "46d5a970-285d-4fd9-a831-d3b2a1fe7a62",
   "metadata": {},
   "outputs": [
    {
     "name": "stdout",
     "output_type": "stream",
     "text": [
      "Stepsizes: dz = 0.049983690646773764 and dt = 0.2857142857142857\n",
      "lambda = 5.716150248555673\n",
      "\n",
      " Tridiagonal system coefficients:\n",
      "lower diag values = -0.6307726528425263\n",
      "diag values = 2.2894106058796266\n",
      "upper diag values = -0.6557808101799574\n",
      "\n",
      " ENTIRE S DOMAIN ERRORS\n",
      "1. Maximal error: 9.607894391523416 \n",
      "\n",
      "located at 585, z value of 6.214608098422193, S value of 500.00000000000074 \n",
      "\n",
      "2. Absolute sum of errors: 39.42221436296794\n",
      "\n",
      " REALISTIC S DOMAIN ERRORS\n",
      "1. Maximal error: 0.0012750435664505289 \n",
      "\n",
      "located at 500, z value of 1.965994393446426, S value of 7.142011029214633 \n",
      "\n",
      "2. Absolute sum of errors: 0.03394813768954524\n"
     ]
    }
   ],
   "source": [
    "L1P2 = PresentValue(dt=dt, dZ=dZ)"
   ]
  },
  {
   "cell_type": "code",
   "execution_count": 13,
   "id": "f677ec82-6922-4f73-a446-6c18f9c11911",
   "metadata": {},
   "outputs": [],
   "source": [
    "L1_max_errors.append(L1P2[0])\n",
    "L1_real_max_errors.append(L1P2[1])\n",
    "L1_dt_vals.append(dt)\n",
    "L1_dz_vals.append(dZ)"
   ]
  },
  {
   "cell_type": "markdown",
   "id": "c228c922-66b4-4877-b9d5-9e20c7d115a0",
   "metadata": {
    "jp-MarkdownHeadingCollapsed": true,
    "tags": []
   },
   "source": [
    "#### 1.3 Parameters $\\Delta z = 0.025, \\Delta t = 0.15$"
   ]
  },
  {
   "cell_type": "code",
   "execution_count": 14,
   "id": "a141a91d-f2d0-47fe-bfbb-c7f32c42974f",
   "metadata": {},
   "outputs": [],
   "source": [
    "dZ = 0.025\n",
    "dt = 0.15"
   ]
  },
  {
   "cell_type": "code",
   "execution_count": 15,
   "id": "150fbff9-13a3-4bc3-beeb-12b4debba2b2",
   "metadata": {},
   "outputs": [
    {
     "name": "stdout",
     "output_type": "stream",
     "text": [
      "Stepsizes: dz = 0.024991845323386882 and dt = 0.15384615384615385\n",
      "lambda = 6.155854113829187\n",
      "\n",
      " Tridiagonal system coefficients:\n",
      "lower diag values = -1.3720531831502119\n",
      "diag values = 3.7725766895868884\n",
      "upper diag values = -1.3989850448982146\n",
      "\n",
      " ENTIRE S DOMAIN ERRORS\n",
      "1. Maximal error: 9.607894391523416 \n",
      "\n",
      "located at 1170, z value of 6.214608098422193, S value of 500.00000000000074 \n",
      "\n",
      "2. Absolute sum of errors: 73.50013792033032\n",
      "\n",
      " REALISTIC S DOMAIN ERRORS\n",
      "1. Maximal error: 0.00038552343453049365 \n",
      "\n",
      "located at 1001, z value of 1.9909862387698105, S value of 7.322752184286526 \n",
      "\n",
      "2. Absolute sum of errors: 0.021564117631591224\n"
     ]
    }
   ],
   "source": [
    "L1P3 = PresentValue(dt=dt, dZ=dZ)"
   ]
  },
  {
   "cell_type": "code",
   "execution_count": 16,
   "id": "3a4abd90-32d9-4b3f-9e89-03ce78d403fc",
   "metadata": {},
   "outputs": [],
   "source": [
    "L1_max_errors.append(L1P3[0])\n",
    "L1_real_max_errors.append(L1P3[1])\n",
    "L1_dt_vals.append(dt)\n",
    "L1_dz_vals.append(dZ)"
   ]
  },
  {
   "cell_type": "markdown",
   "id": "dc7254a6-a7e8-4e1d-9fc3-091a5bd10b44",
   "metadata": {
    "jp-MarkdownHeadingCollapsed": true,
    "tags": []
   },
   "source": [
    "#### 1.4 Parameters $\\Delta z = 0.01, \\Delta t = 0.06$"
   ]
  },
  {
   "cell_type": "code",
   "execution_count": 17,
   "id": "5f6a2e72-8378-443a-917e-ad03a720e0b7",
   "metadata": {},
   "outputs": [],
   "source": [
    "dZ=0.01\n",
    "dt=0.06"
   ]
  },
  {
   "cell_type": "code",
   "execution_count": 18,
   "id": "70551781-7a21-43a9-b56d-f30e7ba8ca1c",
   "metadata": {},
   "outputs": [
    {
     "name": "stdout",
     "output_type": "stream",
     "text": [
      "Stepsizes: dz = 0.010000156986444134 and dt = 0.06060606060606061\n",
      "lambda = 6.0605109188001824\n",
      "\n",
      " Tridiagonal system coefficients:\n",
      "lower diag values = -3.3957265077645564\n",
      "diag values = 7.818573811404924\n",
      "upper diag values = -3.422241243034307\n",
      "\n",
      " ENTIRE S DOMAIN ERRORS\n",
      "1. Maximal error: 9.607894391523416 \n",
      "\n",
      "located at 2924, z value of 6.214608098422193, S value of 500.00000000000074 \n",
      "\n",
      "2. Absolute sum of errors: 176.08743510595255\n",
      "\n",
      " REALISTIC S DOMAIN ERRORS\n",
      "1. Maximal error: 7.984586790743542e-05 \n",
      "\n",
      "located at 2534, z value of 2.3145468737089807, S value of 10.120336089259277 \n",
      "\n",
      "2. Absolute sum of errors: 0.007355422742136415\n"
     ]
    }
   ],
   "source": [
    "L1P4 = PresentValue(dt=dt, dZ=dZ)"
   ]
  },
  {
   "cell_type": "code",
   "execution_count": 19,
   "id": "d4c2065d-2775-4577-9fa4-02009c604b4d",
   "metadata": {},
   "outputs": [],
   "source": [
    "L1_max_errors.append(L1P4[0])\n",
    "L1_real_max_errors.append(L1P4[1])\n",
    "L1_dt_vals.append(dt)\n",
    "L1_dz_vals.append(dZ)"
   ]
  },
  {
   "cell_type": "markdown",
   "id": "bb697db2-5663-412b-bc77-c80cb4a85010",
   "metadata": {
    "jp-MarkdownHeadingCollapsed": true,
    "tags": []
   },
   "source": [
    "#### 1.5 Parameters: $\\Delta z = 0.005, \\Delta t = 0.03$"
   ]
  },
  {
   "cell_type": "code",
   "execution_count": 20,
   "id": "250ca709-2740-4f9f-9373-a2124412ac32",
   "metadata": {},
   "outputs": [],
   "source": [
    "dZ=0.005\n",
    "dt=0.03"
   ]
  },
  {
   "cell_type": "code",
   "execution_count": 21,
   "id": "ceb0d172-7122-4c4c-8cc4-223a96f19e04",
   "metadata": {},
   "outputs": [
    {
     "name": "stdout",
     "output_type": "stream",
     "text": [
      "Stepsizes: dz = 0.005000078493222067 and dt = 0.029850746268656716\n",
      "lambda = 5.9700555319524184\n",
      "\n",
      " Tridiagonal system coefficients:\n",
      "lower diag values = -6.703147541624226\n",
      "diag values = 14.432712583663431\n",
      "upper diag values = -6.729266534576519\n",
      "\n",
      " ENTIRE S DOMAIN ERRORS\n",
      "1. Maximal error: 9.607894391523416 \n",
      "\n",
      "located at 5848, z value of 6.214608098422193, S value of 500.00000000000074 \n",
      "\n",
      "2. Absolute sum of errors: 347.2595710726263\n",
      "\n",
      " REALISTIC S DOMAIN ERRORS\n",
      "1. Maximal error: 1.4889275777196787e-05 \n",
      "\n",
      "located at 5003, z value of 1.9895417716495452, S value of 7.312182345256763 \n",
      "\n",
      "2. Absolute sum of errors: 0.004118335190816938\n"
     ]
    }
   ],
   "source": [
    "L1P5 = PresentValue(dt=dt, dZ=dZ)"
   ]
  },
  {
   "cell_type": "code",
   "execution_count": 22,
   "id": "9fb9d1cc-d2f1-4557-9fdb-d59699826dfc",
   "metadata": {},
   "outputs": [],
   "source": [
    "L1_max_errors.append(L1P5[0])\n",
    "L1_real_max_errors.append(L1P5[1])\n",
    "L1_dt_vals.append(dt)\n",
    "L1_dz_vals.append(dZ)"
   ]
  },
  {
   "cell_type": "markdown",
   "id": "c4a25123-c527-43ed-a714-64a9ca10bde0",
   "metadata": {
    "jp-MarkdownHeadingCollapsed": true,
    "tags": []
   },
   "source": [
    "#### 1.6 Parameters: $\\Delta z = 0.0025, \\Delta t = 0.015$"
   ]
  },
  {
   "cell_type": "code",
   "execution_count": 23,
   "id": "bbed1544-044d-4e6e-88bd-ab03a4e013f7",
   "metadata": {},
   "outputs": [],
   "source": [
    "dZ=0.0025\n",
    "dt=0.015"
   ]
  },
  {
   "cell_type": "code",
   "execution_count": 24,
   "id": "2580ed4f-41fc-40c9-b0c4-b52ee3d33781",
   "metadata": {},
   "outputs": [
    {
     "name": "stdout",
     "output_type": "stream",
     "text": [
      "Stepsizes: dz = 0.0025000392466110336 and dt = 0.015037593984962405\n",
      "lambda = 6.014943167531008\n",
      "\n",
      " Tridiagonal system coefficients:\n",
      "lower diag values = -13.520251982579671\n",
      "diag values = 28.06696971745714\n",
      "upper diag values = -13.546567358937619\n",
      "\n",
      " ENTIRE S DOMAIN ERRORS\n",
      "1. Maximal error: 9.607894391523416 \n",
      "\n",
      "located at 11696, z value of 6.214608098422193, S value of 500.00000000000074 \n",
      "\n",
      "2. Absolute sum of errors: 689.658409799738\n",
      "\n",
      " REALISTIC S DOMAIN ERRORS\n",
      "1. Maximal error: 8.982193455686627e-06 \n",
      "\n",
      "located at 10130, z value of 2.2995466382293124, S value of 9.969661566672205 \n",
      "\n",
      "2. Absolute sum of errors: 0.001796790088433998\n"
     ]
    }
   ],
   "source": [
    "L1P6 = PresentValue(dt=dt, dZ=dZ)"
   ]
  },
  {
   "cell_type": "code",
   "execution_count": 25,
   "id": "8fdb9438-0100-4a6b-bb69-54ed42cade85",
   "metadata": {},
   "outputs": [],
   "source": [
    "L1_max_errors.append(L1P6[0])\n",
    "L1_real_max_errors.append(L1P6[1])\n",
    "L1_dt_vals.append(dt)\n",
    "L1_dz_vals.append(dZ)"
   ]
  },
  {
   "cell_type": "markdown",
   "id": "9479b400-85ff-4bbb-9b00-361ec0f47c6b",
   "metadata": {
    "jp-MarkdownHeadingCollapsed": true,
    "tags": []
   },
   "source": [
    "#### 1.7 Parameters: $\\Delta z = 0.001, \\Delta t = 0.006$"
   ]
  },
  {
   "cell_type": "code",
   "execution_count": 26,
   "id": "dca10e0f-30cc-4bb0-9490-231f163aa223",
   "metadata": {},
   "outputs": [],
   "source": [
    "dZ=0.001\n",
    "dt=0.006"
   ]
  },
  {
   "cell_type": "code",
   "execution_count": 27,
   "id": "b7900aaf-4f76-4ab3-8dcc-5249ebdda412",
   "metadata": {},
   "outputs": [
    {
     "name": "stdout",
     "output_type": "stream",
     "text": [
      "Stepsizes: dz = 0.0010000156986444135 and dt = 0.006006006006006006\n",
      "lambda = 6.005911721333514\n",
      "\n",
      " Tridiagonal system coefficients:\n",
      "lower diag values = -33.769585157653495\n",
      "diag values = 68.5655062391479\n",
      "upper diag values = -33.795861021434334\n",
      "\n",
      " ENTIRE S DOMAIN ERRORS\n",
      "1. Maximal error: 9.607894391523416 \n",
      "\n",
      "located at 29240, z value of 6.214608098422193, S value of 500.00000000000074 \n",
      "\n",
      "2. Absolute sum of errors: 1716.900742916334\n",
      "\n",
      " REALISTIC S DOMAIN ERRORS\n",
      "1. Maximal error: 5.220502225400381e-06 \n",
      "\n",
      "located at 25327, z value of 2.301546669626603, S value of 9.98962115607525 \n",
      "\n",
      "2. Absolute sum of errors: 0.0011350644560772561\n"
     ]
    }
   ],
   "source": [
    "L1P7 = PresentValue(dt=dt, dZ=dZ)"
   ]
  },
  {
   "cell_type": "code",
   "execution_count": 28,
   "id": "7a5b1ce5-fccb-4590-b2a9-0ab0080d43d9",
   "metadata": {},
   "outputs": [],
   "source": [
    "L1_max_errors.append(L1P7[0])\n",
    "L1_real_max_errors.append(L1P7[1])\n",
    "L1_dt_vals.append(dt)\n",
    "L1_dz_vals.append(dZ)"
   ]
  },
  {
   "cell_type": "markdown",
   "id": "b07bfe84-c676-4297-9a91-2521abed3d17",
   "metadata": {
    "jp-MarkdownHeadingCollapsed": true,
    "tags": []
   },
   "source": [
    "#### Additional dz values"
   ]
  },
  {
   "cell_type": "code",
   "execution_count": 29,
   "id": "0b9575f6-3fb7-4b2f-8d4a-66fe8c0c16cc",
   "metadata": {},
   "outputs": [],
   "source": [
    "# Empty list to store max error values\n",
    "L1a_max_errors = []\n",
    "L1a_real_max_errors = []\n",
    "# Empty list to store dt and dz's\n",
    "L1a_dt_vals = []\n",
    "L1a_dz_vals = []"
   ]
  },
  {
   "cell_type": "code",
   "execution_count": 30,
   "id": "d0311585-0c43-4199-be18-37cbc421e246",
   "metadata": {},
   "outputs": [],
   "source": [
    "# dz = 0.075\n",
    "# dt = 0.075*6\n",
    "\n",
    "# L1a1 = PresentValue(dt=dt, dZ=dz)\n",
    "# L1a_max_errors.append(L1a1[0])\n",
    "# L1a_real_max_errors.append(L1a1[1])\n",
    "# L1a_dt_vals.append(dt)\n",
    "# L1a_dz_vals.append(dz)\n",
    "\n",
    "# ###########\n",
    "\n",
    "# dz = 0.0375\n",
    "# dt = 0.0375*6\n",
    "\n",
    "# L1a2 = PresentValue(dt=dt, dZ=dz)\n",
    "# L1a_max_errors.append(L1a2[0])\n",
    "# L1a_real_max_errors.append(L1a2[1])\n",
    "# L1a_dt_vals.append(dt)\n",
    "# L1a_dz_vals.append(dz)\n",
    "\n",
    "# ###########\n",
    "\n",
    "# dz = 0.0175\n",
    "# dt = 0.0175*6\n",
    "\n",
    "# L1a3 = PresentValue(dt=dt, dZ=dz)\n",
    "# L1a_max_errors.append(L1a3[0])\n",
    "# L1a_real_max_errors.append(L1a3[1])\n",
    "# L1a_dt_vals.append(dt)\n",
    "# L1a_dz_vals.append(dz)\n",
    "\n",
    "# ###########\n",
    "\n",
    "# dz = 0.0075\n",
    "# dt = 0.0075*6\n",
    "\n",
    "# L1a4 = PresentValue(dt=dt, dZ=dz)\n",
    "# L1a_max_errors.append(L1a4[0])\n",
    "# L1a_real_max_errors.append(L1a4[1])\n",
    "# L1a_dt_vals.append(dt)\n",
    "# L1a_dz_vals.append(dz)\n",
    "\n",
    "# ###########\n",
    "\n",
    "# dz = 0.00375\n",
    "# dt = 0.00375*6\n",
    "\n",
    "# L1a5 = PresentValue(dt=dt, dZ=dz)\n",
    "# L1a_max_errors.append(L1a5[0])\n",
    "# L1a_real_max_errors.append(L1a5[1])\n",
    "# L1a_dt_vals.append(dt)\n",
    "# L1a_dz_vals.append(dz)\n",
    "\n",
    "# ###########\n",
    "\n",
    "# dz = 0.00175\n",
    "# dt = 0.00175*6\n",
    "\n",
    "# L1a6 = PresentValue(dt=dt, dZ=dz)\n",
    "# L1a_max_errors.append(L1a6[0])\n",
    "# L1a_real_max_errors.append(L1a6[1])\n",
    "# L1a_dt_vals.append(dt)\n",
    "# L1a_dz_vals.append(dz)\n",
    "\n",
    "# ###########\n",
    "\n",
    "# dz = 0.00075\n",
    "# dt = 0.00075*6\n",
    "\n",
    "# L1a7 = PresentValue(dt=dt, dZ=dz)\n",
    "# L1a_max_errors.append(L1a7[0])\n",
    "# L1a_real_max_errors.append(L1a7[1])\n",
    "# L1a_dt_vals.append(dt)\n",
    "# L1a_dz_vals.append(dz)\n",
    "\n",
    "# ###########\n",
    "\n",
    "# dz = 0.0005\n",
    "# dt = 0.0005*6\n",
    "\n",
    "# L1a8 = PresentValue(dt=dt, dZ=dz)\n",
    "# L1a_max_errors.append(L1a8[0])\n",
    "# L1a_real_max_errors.append(L1a8[1])\n",
    "# L1a_dt_vals.append(dt)\n",
    "# L1a_dz_vals.append(dz)\n",
    "\n",
    "# ###########\n",
    "\n",
    "# dz = 0.00025\n",
    "# dt = 0.00025*6\n",
    "\n",
    "# L1a9 = PresentValue(dt=dt, dZ=dz)\n",
    "# L1a_max_errors.append(L1a9[0])\n",
    "# L1a_real_max_errors.append(L1a9[1])\n",
    "# L1a_dt_vals.append(dt)\n",
    "# L1a_dz_vals.append(dz)"
   ]
  },
  {
   "cell_type": "markdown",
   "id": "5f782cba-6f8c-4a0b-9536-ac344079bd1c",
   "metadata": {
    "jp-MarkdownHeadingCollapsed": true,
    "tags": []
   },
   "source": [
    "#### PLOTS of Convergence for decreasing step size"
   ]
  },
  {
   "cell_type": "code",
   "execution_count": 31,
   "id": "c912d4da-686d-466e-9371-d8938dc8dcb4",
   "metadata": {},
   "outputs": [],
   "source": [
    "# delta t values\n",
    "dt_vals = np.array(L1_dt_vals + L1a_dt_vals)\n",
    "sorted_indices = np.argsort(dt_vals)\n",
    "dt_vals = np.array([dt_vals[i] for i in sorted_indices])\n",
    "inv_dt_vals = np.divide(np.ones(len(dt_vals)), dt_vals)\n",
    "\n",
    "# delta z values\n",
    "dz_vals = np.array(L1_dz_vals + L1a_dz_vals)\n",
    "dz_vals = np.array([dz_vals[i] for i in sorted_indices])\n",
    "inv_dz_vals = np.divide(np.ones(len(dz_vals)), dz_vals)\n",
    "\n",
    "\n",
    "# max errors in realistic range\n",
    "real_max_errors = np.array(L1_real_max_errors + L1a_real_max_errors)\n",
    "real_max_errors = np.array([real_max_errors[i] for i in sorted_indices])\n",
    "\n",
    "# max errors in entire range\n",
    "max_errors = np.array(L1_max_errors + L1a_max_errors)\n",
    "max_errors = np.array([max_errors[i] for i in sorted_indices])"
   ]
  },
  {
   "cell_type": "markdown",
   "id": "9de4b67a-d7b4-42d6-887a-7648f415fe3e",
   "metadata": {
    "tags": []
   },
   "source": [
    "##### Realistic S domain for 1/dz"
   ]
  },
  {
   "cell_type": "code",
   "execution_count": 32,
   "id": "209d895d-864e-4ad6-8de7-ddd3f611ee13",
   "metadata": {},
   "outputs": [
    {
     "data": {
      "application/vnd.jupyter.widget-view+json": {
       "model_id": "5205c19f2f03461f8a11f05af459c4b2",
       "version_major": 2,
       "version_minor": 0
      },
      "image/png": "[encoded data removed]",
      "text/html": [
       "\n",
       "            <div style=\"display: inline-block;\">\n",
       "                <div class=\"jupyter-widgets widget-label\" style=\"text-align: center;\">\n",
       "                    Figure\n",
       "                </div>\n",
       "                <img src='data:image/png;base64,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' width=640.0/>\n",
       "            </div>\n",
       "        "
      ],
      "text/plain": [
       "Canvas(toolbar=Toolbar(toolitems=[('Home', 'Reset original view', 'home', 'home'), ('Back', 'Back to previous …"
      ]
     },
     "metadata": {},
     "output_type": "display_data"
    }
   ],
   "source": [
    "inv_z = np.linspace(0, max(inv_dz_vals), 1000)\n",
    "plt.figure()\n",
    "plt.title('Max error for $\\\\lambda = 6$')\n",
    "plt.ylabel('Max error')\n",
    "plt.xlabel('Inverse z step size $(1 / \\Delta z)$')\n",
    "plt.xlim\n",
    "plt.plot(inv_dz_vals, real_max_errors, marker='x', color='black', label='Max error/step size data points')\n",
    "plt.show()"
   ]
  },
  {
   "cell_type": "code",
   "execution_count": 33,
   "id": "f1539543-d312-4b50-86ca-ec85a9ef98cf",
   "metadata": {},
   "outputs": [
    {
     "data": {
      "application/vnd.jupyter.widget-view+json": {
       "model_id": "347102cf265b438ab2b37f73204359c1",
       "version_major": 2,
       "version_minor": 0
      },
      "image/png": "[encoded data removed]",
      "text/html": [
       "\n",
       "            <div style=\"display: inline-block;\">\n",
       "                <div class=\"jupyter-widgets widget-label\" style=\"text-align: center;\">\n",
       "                    Figure\n",
       "                </div>\n",
       "                <img src='data:image/png;base64,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' width=640.0/>\n",
       "            </div>\n",
       "        "
      ],
      "text/plain": [
       "Canvas(toolbar=Toolbar(toolitems=[('Home', 'Reset original view', 'home', 'home'), ('Back', 'Back to previous …"
      ]
     },
     "metadata": {},
     "output_type": "display_data"
    }
   ],
   "source": [
    "inv_z = np.linspace(0, max(inv_dz_vals), 1000)\n",
    "plt.figure()\n",
    "plt.title('Max error for $\\\\lambda = 6$')\n",
    "plt.ylabel('Max error')\n",
    "plt.xlabel('Inverse z step size $(1 / \\Delta z)$')\n",
    "plt.xlim\n",
    "plt.loglog(inv_dz_vals, real_max_errors, marker='x', color='black', label='Max error/step size data points')\n",
    "plt.show()"
   ]
  },
  {
   "cell_type": "markdown",
   "id": "29499d46-89a2-4cc2-824a-25c1f25a746a",
   "metadata": {
    "jp-MarkdownHeadingCollapsed": true,
    "tags": []
   },
   "source": [
    "### 2. $\\lambda = \\frac{\\Delta t}{\\Delta z} = 10$"
   ]
  },
  {
   "cell_type": "code",
   "execution_count": 34,
   "id": "216829d5-b0c7-4ea9-bde1-577cc5837f2a",
   "metadata": {},
   "outputs": [],
   "source": [
    "# Empty list to store max error values\n",
    "L2_max_errors = []\n",
    "L2_real_max_errors = []\n",
    "# Empty list to store dt and dz's\n",
    "L2_dt_vals = []\n",
    "L2_dz_vals = []"
   ]
  },
  {
   "cell_type": "markdown",
   "id": "740f6f4a-6c6f-4de7-a211-4498d7953a44",
   "metadata": {
    "jp-MarkdownHeadingCollapsed": true,
    "tags": []
   },
   "source": [
    "#### 2.1 Parameters $\\Delta z = 0.1, \\Delta t = 1$"
   ]
  },
  {
   "cell_type": "code",
   "execution_count": 35,
   "id": "92b1736c-2c07-44a7-831a-f3301e18a47f",
   "metadata": {},
   "outputs": [],
   "source": [
    "dZ=0.1\n",
    "dt=1"
   ]
  },
  {
   "cell_type": "code",
   "execution_count": 36,
   "id": "edf104d4-7349-4469-a00e-73d25ddebe51",
   "metadata": {},
   "outputs": [
    {
     "name": "stdout",
     "output_type": "stream",
     "text": [
      "Stepsizes: dz = 0.10013855831631045 and dt = 1.0\n",
      "lambda = 9.98616334021179\n",
      "\n",
      " Tridiagonal system coefficients:\n",
      "lower diag values = -0.539099720391105\n",
      "diag values = 2.1318889053956367\n",
      "upper diag values = -0.5827891850045315\n",
      "\n",
      " ENTIRE S DOMAIN ERRORS\n",
      "1. Maximal error: 9.607894391523416 \n",
      "\n",
      "located at 292, z value of 6.214608098422193, S value of 500.00000000000074 \n",
      "\n",
      "2. Absolute sum of errors: 22.71153273835364\n",
      "\n",
      " REALISTIC S DOMAIN ERRORS\n",
      "1. Maximal error: 0.02161545110652585 \n",
      "\n",
      "located at 253, z value of 2.309204324086089, S value of 10.066411866183358 \n",
      "\n",
      "2. Absolute sum of errors: 0.10079550378861862\n"
     ]
    }
   ],
   "source": [
    "L2P1 = PresentValue(dt=dt, dZ=dZ)"
   ]
  },
  {
   "cell_type": "code",
   "execution_count": 37,
   "id": "8df9b6bd-e643-4a1f-950a-750ce698b22a",
   "metadata": {},
   "outputs": [],
   "source": [
    "L2_max_errors.append(L2P1[0])\n",
    "L2_real_max_errors.append(L2P1[1])\n",
    "L2_dt_vals.append(dt)\n",
    "L2_dz_vals.append(dZ)"
   ]
  },
  {
   "cell_type": "markdown",
   "id": "c89340f3-790b-4bbe-a49b-29d1640ce6bc",
   "metadata": {
    "jp-MarkdownHeadingCollapsed": true,
    "tags": []
   },
   "source": [
    "#### 2.2 Parameters $\\Delta z = 0.05, \\Delta t = 0.5$"
   ]
  },
  {
   "cell_type": "code",
   "execution_count": 38,
   "id": "d587bda4-01d0-498e-810a-4479f7919170",
   "metadata": {},
   "outputs": [],
   "source": [
    "dZ=0.05\n",
    "dt=0.5"
   ]
  },
  {
   "cell_type": "code",
   "execution_count": 39,
   "id": "07a83658-159d-4162-a6c8-7c10d9f58a8f",
   "metadata": {},
   "outputs": [
    {
     "name": "stdout",
     "output_type": "stream",
     "text": [
      "Stepsizes: dz = 0.049983690646773764 and dt = 0.5\n",
      "lambda = 10.003262934972428\n",
      "\n",
      " Tridiagonal system coefficients:\n",
      "lower diag values = -1.103852142474421\n",
      "diag values = 3.2564685602893464\n",
      "upper diag values = -1.1476164178149255\n",
      "\n",
      " ENTIRE S DOMAIN ERRORS\n",
      "1. Maximal error: 9.607894391523416 \n",
      "\n",
      "located at 585, z value of 6.214608098422193, S value of 500.00000000000074 \n",
      "\n",
      "2. Absolute sum of errors: 39.423085664521516\n",
      "\n",
      " REALISTIC S DOMAIN ERRORS\n",
      "1. Maximal error: 0.0041664547060484836 \n",
      "\n",
      "located at 508, z value of 2.365863918620615, S value of 10.65323837410495 \n",
      "\n",
      "2. Absolute sum of errors: 0.0421591457736431\n"
     ]
    }
   ],
   "source": [
    "L2P2 = PresentValue(dt=dt, dZ=dZ)"
   ]
  },
  {
   "cell_type": "code",
   "execution_count": 40,
   "id": "cbcc690e-aa90-4c98-8cbd-3f635d643599",
   "metadata": {},
   "outputs": [],
   "source": [
    "L2_max_errors.append(L2P2[0])\n",
    "L2_real_max_errors.append(L2P2[1])\n",
    "L2_dt_vals.append(dt)\n",
    "L2_dz_vals.append(dZ)"
   ]
  },
  {
   "cell_type": "markdown",
   "id": "10d37f6f-75a5-4625-b014-4ca4bfc708f7",
   "metadata": {
    "jp-MarkdownHeadingCollapsed": true,
    "tags": []
   },
   "source": [
    "#### 2.3 Parameters $\\Delta z = 0.025, \\Delta t = 0.25$"
   ]
  },
  {
   "cell_type": "code",
   "execution_count": 41,
   "id": "6678c374-a774-4a4f-8df3-04f006e2006b",
   "metadata": {},
   "outputs": [],
   "source": [
    "dZ = 0.025\n",
    "dt = 0.25"
   ]
  },
  {
   "cell_type": "code",
   "execution_count": 42,
   "id": "56dd6d15-7c8f-4ba6-8c22-fe7de04dd03d",
   "metadata": {},
   "outputs": [
    {
     "name": "stdout",
     "output_type": "stream",
     "text": [
      "Stepsizes: dz = 0.024991845323386882 and dt = 0.25\n",
      "lambda = 10.003262934972428\n",
      "\n",
      " Tridiagonal system coefficients:\n",
      "lower diag values = -2.2295864226190942\n",
      "diag values = 5.505437120578693\n",
      "upper diag values = -2.2733506979595988\n",
      "\n",
      " ENTIRE S DOMAIN ERRORS\n",
      "1. Maximal error: 9.607894391523416 \n",
      "\n",
      "located at 1170, z value of 6.214608098422193, S value of 500.00000000000074 \n",
      "\n",
      "2. Absolute sum of errors: 73.46330039828449\n",
      "\n",
      " REALISTIC S DOMAIN ERRORS\n",
      "1. Maximal error: 0.0017881342212411333 \n",
      "\n",
      "located at 1012, z value of 2.265896537327066, S value of 9.639763135622502 \n",
      "\n",
      "2. Absolute sum of errors: 0.022753945752718645\n"
     ]
    }
   ],
   "source": [
    "L2P3 = PresentValue(dt=dt, dZ=dZ)"
   ]
  },
  {
   "cell_type": "code",
   "execution_count": 43,
   "id": "6f3aaddf-216c-4ba6-8b33-a19724e8ba0d",
   "metadata": {},
   "outputs": [],
   "source": [
    "L2_max_errors.append(L2P3[0])\n",
    "L2_real_max_errors.append(L2P3[1])\n",
    "L2_dt_vals.append(dt)\n",
    "L2_dz_vals.append(dZ)"
   ]
  },
  {
   "cell_type": "markdown",
   "id": "d0696f6d-8435-49c2-886b-1bdde79d2f3e",
   "metadata": {
    "jp-MarkdownHeadingCollapsed": true,
    "tags": []
   },
   "source": [
    "#### 2.4 Parameters $\\Delta z = 0.01, \\Delta t = 0.1$"
   ]
  },
  {
   "cell_type": "code",
   "execution_count": 44,
   "id": "f4212d7f-a515-493d-95a9-2834a4c51630",
   "metadata": {},
   "outputs": [],
   "source": [
    "dZ=0.01\n",
    "dt=0.1"
   ]
  },
  {
   "cell_type": "code",
   "execution_count": 45,
   "id": "b713b25d-7e7b-41e0-b362-6bface0800d7",
   "metadata": {},
   "outputs": [
    {
     "name": "stdout",
     "output_type": "stream",
     "text": [
      "Stepsizes: dz = 0.010000156986444134 and dt = 0.1\n",
      "lambda = 9.999843016020302\n",
      "\n",
      " Tridiagonal system coefficients:\n",
      "lower diag values = -5.602948737811518\n",
      "diag values = 12.250646788818125\n",
      "upper diag values = -5.646698051006607\n",
      "\n",
      " ENTIRE S DOMAIN ERRORS\n",
      "1. Maximal error: 9.607894391523416 \n",
      "\n",
      "located at 2924, z value of 6.214608098422193, S value of 500.00000000000074 \n",
      "\n",
      "2. Absolute sum of errors: 176.03732536538143\n",
      "\n",
      " REALISTIC S DOMAIN ERRORS\n",
      "1. Maximal error: 0.001213905383101288 \n",
      "\n",
      "located at 2533, z value of 2.304546716722534, S value of 10.019635489709756 \n",
      "\n",
      "2. Absolute sum of errors: 0.009742369006929805\n"
     ]
    }
   ],
   "source": [
    "L2P4 = PresentValue(dt=dt, dZ=dZ)"
   ]
  },
  {
   "cell_type": "code",
   "execution_count": 46,
   "id": "86f8eaea-d139-4dfa-88fd-f3d278953f0c",
   "metadata": {},
   "outputs": [],
   "source": [
    "L2_max_errors.append(L2P4[0])\n",
    "L2_real_max_errors.append(L2P4[1])\n",
    "L2_dt_vals.append(dt)\n",
    "L2_dz_vals.append(dZ)"
   ]
  },
  {
   "cell_type": "markdown",
   "id": "28f1af79-1811-4b7b-b61c-952a20b88ef4",
   "metadata": {
    "jp-MarkdownHeadingCollapsed": true,
    "tags": []
   },
   "source": [
    "#### 2.5 Parameters: $\\Delta z = 0.005, \\Delta t = 0.05$"
   ]
  },
  {
   "cell_type": "code",
   "execution_count": 47,
   "id": "8090f359-6133-47c0-b700-3baa4c3e7cd7",
   "metadata": {},
   "outputs": [],
   "source": [
    "dZ=0.005\n",
    "dt=0.05"
   ]
  },
  {
   "cell_type": "code",
   "execution_count": 48,
   "id": "543e3fa9-9c89-4a02-8269-318ca41f378a",
   "metadata": {},
   "outputs": [
    {
     "name": "stdout",
     "output_type": "stream",
     "text": [
      "Stepsizes: dz = 0.005000078493222067 and dt = 0.05\n",
      "lambda = 9.999843016020302\n",
      "\n",
      " Tridiagonal system coefficients:\n",
      "lower diag values = -11.22777213222058\n",
      "diag values = 23.49979357763625\n",
      "upper diag values = -11.27152144541567\n",
      "\n",
      " ENTIRE S DOMAIN ERRORS\n",
      "1. Maximal error: 9.607894391523416 \n",
      "\n",
      "located at 5848, z value of 6.214608098422193, S value of 500.00000000000074 \n",
      "\n",
      "2. Absolute sum of errors: 347.2035396674599\n",
      "\n",
      " REALISTIC S DOMAIN ERRORS\n",
      "1. Maximal error: 0.0003381531879678157 \n",
      "\n",
      "located at 5067, z value of 2.3095467952157556, S value of 10.069859912021236 \n",
      "\n",
      "2. Absolute sum of errors: 0.005060644903410969\n"
     ]
    }
   ],
   "source": [
    "L2P5 = PresentValue(dt=dt, dZ=dZ)"
   ]
  },
  {
   "cell_type": "code",
   "execution_count": 49,
   "id": "035c09a9-999f-4f2b-a1ef-445e6e2a7705",
   "metadata": {},
   "outputs": [],
   "source": [
    "L2_max_errors.append(L2P5[0])\n",
    "L2_real_max_errors.append(L2P5[1])\n",
    "L2_dt_vals.append(dt)\n",
    "L2_dz_vals.append(dZ)"
   ]
  },
  {
   "cell_type": "markdown",
   "id": "e1cafed9-f16b-4cb0-843e-a0a06818859d",
   "metadata": {
    "jp-MarkdownHeadingCollapsed": true,
    "tags": []
   },
   "source": [
    "#### 2.6 Parameters: $\\Delta z = 0.0025, \\Delta t = 0.025$"
   ]
  },
  {
   "cell_type": "code",
   "execution_count": 50,
   "id": "fe36bfca-7bac-4cec-8dfa-2bd0261bcf2a",
   "metadata": {},
   "outputs": [],
   "source": [
    "dZ=0.0025\n",
    "dt=0.025"
   ]
  },
  {
   "cell_type": "code",
   "execution_count": 51,
   "id": "3e140691-f7d5-4d1b-9010-e85da067e5fa",
   "metadata": {},
   "outputs": [
    {
     "name": "stdout",
     "output_type": "stream",
     "text": [
      "Stepsizes: dz = 0.0025000392466110336 and dt = 0.025\n",
      "lambda = 9.999843016020302\n",
      "\n",
      " Tridiagonal system coefficients:\n",
      "lower diag values = -22.477418921038705\n",
      "diag values = 45.9988371552725\n",
      "upper diag values = -22.521168234233794\n",
      "\n",
      " ENTIRE S DOMAIN ERRORS\n",
      "1. Maximal error: 9.607894391523416 \n",
      "\n",
      "located at 11696, z value of 6.214608098422193, S value of 500.00000000000074 \n",
      "\n",
      "2. Absolute sum of errors: 689.5995963398627\n",
      "\n",
      " REALISTIC S DOMAIN ERRORS\n",
      "1. Maximal error: 0.00028669864864405703 \n",
      "\n",
      "located at 10131, z value of 2.302046677475925, S value of 9.994617294015042 \n",
      "\n",
      "2. Absolute sum of errors: 0.002347870275770687\n"
     ]
    }
   ],
   "source": [
    "L2P6 = PresentValue(dt=dt, dZ=dZ)"
   ]
  },
  {
   "cell_type": "code",
   "execution_count": 52,
   "id": "2c3ba32d-021f-476f-bd0d-e5a438604810",
   "metadata": {},
   "outputs": [],
   "source": [
    "L2_max_errors.append(L2P6[0])\n",
    "L2_real_max_errors.append(L2P6[1])\n",
    "L2_dt_vals.append(dt)\n",
    "L2_dz_vals.append(dZ)"
   ]
  },
  {
   "cell_type": "markdown",
   "id": "b779b5bb-8b36-4ce4-a1be-b7b8ab186ead",
   "metadata": {
    "jp-MarkdownHeadingCollapsed": true,
    "tags": []
   },
   "source": [
    "#### 2.7 Parameters: $\\Delta z = 0.001, \\Delta t = 0.01$"
   ]
  },
  {
   "cell_type": "code",
   "execution_count": 53,
   "id": "efeebfec-7286-464b-b889-0b081a797bc7",
   "metadata": {},
   "outputs": [],
   "source": [
    "dZ=0.001\n",
    "dt=0.01"
   ]
  },
  {
   "cell_type": "code",
   "execution_count": 54,
   "id": "b916ccd9-e680-4f64-9d30-83afdc5bd3f4",
   "metadata": {},
   "outputs": [
    {
     "name": "stdout",
     "output_type": "stream",
     "text": [
      "Stepsizes: dz = 0.0010000156986444135 and dt = 0.01\n",
      "lambda = 9.9998430160203\n",
      "\n",
      " Tridiagonal system coefficients:\n",
      "lower diag values = -56.22635928749307\n",
      "diag values = 113.49656788818123\n",
      "upper diag values = -56.27010860068816\n",
      "\n",
      " ENTIRE S DOMAIN ERRORS\n",
      "1. Maximal error: 9.67604319534911 \n",
      "\n",
      "located at 29238, z value of 6.212608067024906, S value of 499.0009836663898 \n",
      "\n",
      "2. Absolute sum of errors: 1716.8404948698824\n",
      "\n",
      " REALISTIC S DOMAIN ERRORS\n",
      "1. Maximal error: 0.00016853747382383766 \n",
      "\n",
      "located at 25328, z value of 2.3025466853252468, S value of 9.99961593068766 \n",
      "\n",
      "2. Absolute sum of errors: 0.0015813668488852712\n"
     ]
    }
   ],
   "source": [
    "L2P7 = PresentValue(dt=dt, dZ=dZ)"
   ]
  },
  {
   "cell_type": "code",
   "execution_count": 55,
   "id": "8df45744-8147-49a5-8d70-d705c4dcd1e5",
   "metadata": {},
   "outputs": [],
   "source": [
    "L2_max_errors.append(L2P7[0])\n",
    "L2_real_max_errors.append(L2P7[1])\n",
    "L2_dt_vals.append(dt)\n",
    "L2_dz_vals.append(dZ)"
   ]
  },
  {
   "cell_type": "markdown",
   "id": "6af115a3-f0ae-4880-8de9-2a0e1ebbc488",
   "metadata": {
    "jp-MarkdownHeadingCollapsed": true,
    "tags": []
   },
   "source": [
    "#### Additional steps "
   ]
  },
  {
   "cell_type": "code",
   "execution_count": 56,
   "id": "d1a50dd8-d566-4374-aa21-6e6c7be176f5",
   "metadata": {},
   "outputs": [],
   "source": [
    "# Empty list to store max error values\n",
    "L2a_max_errors = []\n",
    "L2a_real_max_errors = []\n",
    "# Empty list to store dt and dz's\n",
    "L2a_dt_vals = []\n",
    "L2a_dz_vals = []"
   ]
  },
  {
   "cell_type": "code",
   "execution_count": 57,
   "id": "6152e607-fb3f-4d94-8fa1-60bd3f0e9f13",
   "metadata": {},
   "outputs": [],
   "source": [
    "# dz = 0.075\n",
    "# dt = 0.075*10\n",
    "\n",
    "# L2a1 = PresentValue(dt=dt, dZ=dz)\n",
    "# L2a_max_errors.append(L2a1[0])\n",
    "# L2a_real_max_errors.append(L2a1[1])\n",
    "# L2a_dt_vals.append(dt)\n",
    "# L2a_dz_vals.append(dz)\n",
    "\n",
    "# ###########\n",
    "\n",
    "# dz = 0.0375\n",
    "# dt = 0.0375*10\n",
    "\n",
    "# L2a2 = PresentValue(dt=dt, dZ=dz)\n",
    "# L2a_max_errors.append(L2a2[0])\n",
    "# L2a_real_max_errors.append(L2a2[1])\n",
    "# L2a_dt_vals.append(dt)\n",
    "# L2a_dz_vals.append(dz)\n",
    "\n",
    "# ###########\n",
    "\n",
    "# dz = 0.0175\n",
    "# dt = 0.0175*10\n",
    "\n",
    "# L2a3 = PresentValue(dt=dt, dZ=dz)\n",
    "# L2a_max_errors.append(L2a3[0])\n",
    "# L2a_real_max_errors.append(L2a3[1])\n",
    "# L2a_dt_vals.append(dt)\n",
    "# L2a_dz_vals.append(dz)\n",
    "\n",
    "# ###########\n",
    "\n",
    "# dz = 0.0075\n",
    "# dt = 0.0075*10\n",
    "\n",
    "# L2a4 = PresentValue(dt=dt, dZ=dz)\n",
    "# L2a_max_errors.append(L2a4[0])\n",
    "# L2a_real_max_errors.append(L2a4[1])\n",
    "# L2a_dt_vals.append(dt)\n",
    "# L2a_dz_vals.append(dz)\n",
    "\n",
    "# ###########\n",
    "\n",
    "# dz = 0.00375\n",
    "# dt = 0.00375*10\n",
    "\n",
    "# L2a5 = PresentValue(dt=dt, dZ=dz)\n",
    "# L2a_max_errors.append(L2a5[0])\n",
    "# L2a_real_max_errors.append(L2a5[1])\n",
    "# L2a_dt_vals.append(dt)\n",
    "# L2a_dz_vals.append(dz)\n",
    "\n",
    "# ###########\n",
    "\n",
    "# dz = 0.00175\n",
    "# dt = 0.00175*10\n",
    "\n",
    "# L2a6 = PresentValue(dt=dt, dZ=dz)\n",
    "# L2a_max_errors.append(L2a6[0])\n",
    "# L2a_real_max_errors.append(L2a6[1])\n",
    "# L2a_dt_vals.append(dt)\n",
    "# L2a_dz_vals.append(dz)\n",
    "\n",
    "# ###########\n",
    "\n",
    "# dz = 0.00075\n",
    "# dt = 0.00075*10\n",
    "\n",
    "# L2a7 = PresentValue(dt=dt, dZ=dz)\n",
    "# L2a_max_errors.append(L2a7[0])\n",
    "# L2a_real_max_errors.append(L2a7[1])\n",
    "# L2a_dt_vals.append(dt)\n",
    "# L2a_dz_vals.append(dz)\n",
    "\n",
    "# ###########\n",
    "\n",
    "# dz = 0.0005\n",
    "# dt = 0.0005*10\n",
    "\n",
    "# L2a8 = PresentValue(dt=dt, dZ=dz)\n",
    "# L2a_max_errors.append(L2a8[0])\n",
    "# L2a_real_max_errors.append(L2a8[1])\n",
    "# L2a_dt_vals.append(dt)\n",
    "# L2a_dz_vals.append(dz)\n",
    "\n",
    "# ###########\n",
    "\n",
    "# dz = 0.00025\n",
    "# dt = 0.00025*10\n",
    "\n",
    "# L2a9 = PresentValue(dt=dt, dZ=dz)\n",
    "# L2a_max_errors.append(L2a9[0])\n",
    "# L2a_real_max_errors.append(L2a9[1])\n",
    "# L2a_dt_vals.append(dt)\n",
    "# L2a_dz_vals.append(dz)"
   ]
  },
  {
   "cell_type": "markdown",
   "id": "67533c63-464f-4471-9766-401173e81457",
   "metadata": {
    "jp-MarkdownHeadingCollapsed": true,
    "tags": []
   },
   "source": [
    "#### PLOTS of Convergence for decreasing step size"
   ]
  },
  {
   "cell_type": "code",
   "execution_count": 58,
   "id": "d85e96da-c483-414a-ae33-4adb7bde269a",
   "metadata": {},
   "outputs": [],
   "source": [
    "# delta t values\n",
    "dt_vals = np.array(L2_dt_vals + L2a_dt_vals)\n",
    "sorted_indices = np.argsort(dt_vals)\n",
    "dt_vals = np.array([dt_vals[i] for i in sorted_indices])\n",
    "inv_dt_vals = np.divide(np.ones(len(dt_vals)), dt_vals)\n",
    "\n",
    "# delta z values\n",
    "dz_vals = np.array(L2_dz_vals + L2a_dz_vals)\n",
    "dz_vals = np.array([dz_vals[i] for i in sorted_indices])\n",
    "inv_dz_vals = np.divide(np.ones(len(dz_vals)), dz_vals)\n",
    "\n",
    "\n",
    "# max errors in realistic range\n",
    "real_max_errors = np.array(L2_real_max_errors + L2a_real_max_errors)\n",
    "real_max_errors = np.array([real_max_errors[i] for i in sorted_indices])\n",
    "\n",
    "# max errors in entire range\n",
    "max_errors = np.array(L2_max_errors + L2a_max_errors)\n",
    "max_errors = np.array([max_errors[i] for i in sorted_indices])"
   ]
  },
  {
   "cell_type": "markdown",
   "id": "73351a9a-5677-447e-9b36-b8861e8610bd",
   "metadata": {
    "tags": []
   },
   "source": [
    "##### Realistic S domain for 1/dz"
   ]
  },
  {
   "cell_type": "code",
   "execution_count": 59,
   "id": "e0ad192a-65d7-4e50-a81e-cf187a2c8d75",
   "metadata": {},
   "outputs": [
    {
     "data": {
      "text/plain": [
       "[0.1, 0.05, 0.025, 0.01, 0.005, 0.0025, 0.001]"
      ]
     },
     "execution_count": 59,
     "metadata": {},
     "output_type": "execute_result"
    }
   ],
   "source": [
    "L2_dz_vals"
   ]
  },
  {
   "cell_type": "code",
   "execution_count": 60,
   "id": "7ad0cb04-e613-4099-8b5b-0c0a0423d97d",
   "metadata": {},
   "outputs": [
    {
     "data": {
      "application/vnd.jupyter.widget-view+json": {
       "model_id": "8cc5010396fa462495705fcb2e01cd3c",
       "version_major": 2,
       "version_minor": 0
      },
      "image/png": "[encoded data removed]",
      "text/html": [
       "\n",
       "            <div style=\"display: inline-block;\">\n",
       "                <div class=\"jupyter-widgets widget-label\" style=\"text-align: center;\">\n",
       "                    Figure\n",
       "                </div>\n",
       "                <img src='data:image/png;base64,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' width=640.0/>\n",
       "            </div>\n",
       "        "
      ],
      "text/plain": [
       "Canvas(toolbar=Toolbar(toolitems=[('Home', 'Reset original view', 'home', 'home'), ('Back', 'Back to previous …"
      ]
     },
     "metadata": {},
     "output_type": "display_data"
    }
   ],
   "source": [
    "inv_z = np.linspace(0, max(inv_dz_vals), 1000)\n",
    "plt.figure()\n",
    "plt.title('Max error for $\\\\lambda = 10$')\n",
    "plt.ylabel('Max error')\n",
    "plt.xlabel('Inverse z step size $(1 / \\Delta z)$')\n",
    "plt.xlim\n",
    "plt.plot(inv_dz_vals, real_max_errors, marker='x', color='black', label='Max error/step size data points')\n",
    "plt.show()"
   ]
  },
  {
   "cell_type": "code",
   "execution_count": 61,
   "id": "ef25b34e-2d21-48ab-976a-f83d7867162d",
   "metadata": {},
   "outputs": [
    {
     "data": {
      "application/vnd.jupyter.widget-view+json": {
       "model_id": "ea20e3d9faf844579677f881c065abf4",
       "version_major": 2,
       "version_minor": 0
      },
      "image/png": "[encoded data removed]",
      "text/html": [
       "\n",
       "            <div style=\"display: inline-block;\">\n",
       "                <div class=\"jupyter-widgets widget-label\" style=\"text-align: center;\">\n",
       "                    Figure\n",
       "                </div>\n",
       "                <img src='data:image/png;base64,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' width=640.0/>\n",
       "            </div>\n",
       "        "
      ],
      "text/plain": [
       "Canvas(toolbar=Toolbar(toolitems=[('Home', 'Reset original view', 'home', 'home'), ('Back', 'Back to previous …"
      ]
     },
     "metadata": {},
     "output_type": "display_data"
    }
   ],
   "source": [
    "inv_z = np.linspace(0, max(inv_dz_vals), 1000)\n",
    "plt.figure()\n",
    "plt.title('Max error for $\\\\lambda = 10$')\n",
    "plt.ylabel('Max error')\n",
    "plt.xlabel('Inverse z step size $(1 / \\Delta z)$')\n",
    "plt.xlim\n",
    "plt.loglog(inv_dz_vals, real_max_errors, marker='x', color='black', label='Max error/step size data points')\n",
    "plt.show()"
   ]
  },
  {
   "cell_type": "markdown",
   "id": "702eca51-cd36-499a-8846-0a2f47691acf",
   "metadata": {
    "jp-MarkdownHeadingCollapsed": true,
    "tags": []
   },
   "source": [
    "### 3. $\\lambda = \\frac{\\Delta t}{\\Delta z} = 5$"
   ]
  },
  {
   "cell_type": "code",
   "execution_count": 62,
   "id": "3d2cd8fb-95b3-4e50-be91-26c4c782d11b",
   "metadata": {},
   "outputs": [],
   "source": [
    "# Empty list to store max error values\n",
    "L3_max_errors = []\n",
    "L3_real_max_errors = []\n",
    "# Empty list to store dt and dz's\n",
    "L3_dt_vals = []\n",
    "L3_dz_vals = []\n"
   ]
  },
  {
   "cell_type": "markdown",
   "id": "4f9773c5-a675-491e-9a24-a46f392c2434",
   "metadata": {
    "jp-MarkdownHeadingCollapsed": true,
    "tags": []
   },
   "source": [
    "#### 3.1 Parameters $\\Delta z = 0.1, \\Delta t = 0.5$"
   ]
  },
  {
   "cell_type": "code",
   "execution_count": 63,
   "id": "d7d6917f-a93d-4596-abd5-65c2d5ea1831",
   "metadata": {},
   "outputs": [],
   "source": [
    "dZ=0.1\n",
    "dt=0.5"
   ]
  },
  {
   "cell_type": "code",
   "execution_count": 64,
   "id": "f4e6a0f4-a396-4892-a74a-746cf7d44821",
   "metadata": {},
   "outputs": [
    {
     "name": "stdout",
     "output_type": "stream",
     "text": [
      "Stepsizes: dz = 0.10013855831631045 and dt = 0.5\n",
      "lambda = 4.993081670105895\n",
      "\n",
      " Tridiagonal system coefficients:\n",
      "lower diag values = -0.2695498601955525\n",
      "diag values = 1.5659444526978183\n",
      "upper diag values = -0.29139459250226574\n",
      "\n",
      " ENTIRE S DOMAIN ERRORS\n",
      "1. Maximal error: 9.607894391523416 \n",
      "\n",
      "located at 292, z value of 6.214608098422193, S value of 500.00000000000074 \n",
      "\n",
      "2. Absolute sum of errors: 22.65608480985607\n",
      "\n",
      " REALISTIC S DOMAIN ERRORS\n",
      "1. Maximal error: 0.01535079614544066 \n",
      "\n",
      "located at 253, z value of 2.309204324086089, S value of 10.066411866183358 \n",
      "\n",
      "2. Absolute sum of errors: 0.09932148199548724\n"
     ]
    }
   ],
   "source": [
    "L3P1 = PresentValue(dt=dt, dZ=dZ)"
   ]
  },
  {
   "cell_type": "code",
   "execution_count": 65,
   "id": "3a9163c7-fc3a-4005-ac48-e2107cc0c163",
   "metadata": {},
   "outputs": [],
   "source": [
    "L3_max_errors.append(L3P1[0])\n",
    "L3_real_max_errors.append(L3P1[1])\n",
    "L3_dt_vals.append(dt)\n",
    "L3_dz_vals.append(dZ)"
   ]
  },
  {
   "cell_type": "markdown",
   "id": "b92a1636-1eb0-4f9a-b430-bcfb22f4cda8",
   "metadata": {
    "jp-MarkdownHeadingCollapsed": true,
    "tags": []
   },
   "source": [
    "#### 3.2 Parameters $\\Delta z = 0.05, \\Delta t = 0.25$"
   ]
  },
  {
   "cell_type": "code",
   "execution_count": 66,
   "id": "c8a45833-3a91-4ba6-a8e0-2d8baa11dc39",
   "metadata": {},
   "outputs": [],
   "source": [
    "dZ=0.05\n",
    "dt=0.25"
   ]
  },
  {
   "cell_type": "code",
   "execution_count": 67,
   "id": "32583406-3c0a-403f-84ae-d867493b035f",
   "metadata": {},
   "outputs": [
    {
     "name": "stdout",
     "output_type": "stream",
     "text": [
      "Stepsizes: dz = 0.049983690646773764 and dt = 0.25\n",
      "lambda = 5.001631467486214\n",
      "\n",
      " Tridiagonal system coefficients:\n",
      "lower diag values = -0.5519260712372105\n",
      "diag values = 2.128234280144673\n",
      "upper diag values = -0.5738082089074628\n",
      "\n",
      " ENTIRE S DOMAIN ERRORS\n",
      "1. Maximal error: 9.607894391523416 \n",
      "\n",
      "located at 585, z value of 6.214608098422193, S value of 500.00000000000074 \n",
      "\n",
      "2. Absolute sum of errors: 39.41787295293806\n",
      "\n",
      " REALISTIC S DOMAIN ERRORS\n",
      "1. Maximal error: 0.0013572733544687243 \n",
      "\n",
      "located at 500, z value of 1.965994393446426, S value of 7.142011029214633 \n",
      "\n",
      "2. Absolute sum of errors: 0.03489673266257479\n"
     ]
    }
   ],
   "source": [
    "L3P2 = PresentValue(dt=dt, dZ=dZ)"
   ]
  },
  {
   "cell_type": "code",
   "execution_count": 68,
   "id": "47dd2da4-94ed-4dc0-88c5-86b1540270e7",
   "metadata": {},
   "outputs": [],
   "source": [
    "L3_max_errors.append(L3P2[0])\n",
    "L3_real_max_errors.append(L3P2[1])\n",
    "L3_dt_vals.append(dt)\n",
    "L3_dz_vals.append(dZ)"
   ]
  },
  {
   "cell_type": "markdown",
   "id": "ac99b8e9-f0b6-4812-bd7a-73aa35420562",
   "metadata": {
    "jp-MarkdownHeadingCollapsed": true,
    "tags": []
   },
   "source": [
    "#### 3.3 Parameters $\\Delta z = 0.025, \\Delta t = 0.125$"
   ]
  },
  {
   "cell_type": "code",
   "execution_count": 69,
   "id": "22f69c8a-fd59-4236-b4dc-fc649cec19f1",
   "metadata": {},
   "outputs": [],
   "source": [
    "dZ = 0.025\n",
    "dt = 0.125"
   ]
  },
  {
   "cell_type": "code",
   "execution_count": 70,
   "id": "f4a9be7b-bdc1-43d6-95ab-220a340cec75",
   "metadata": {},
   "outputs": [
    {
     "name": "stdout",
     "output_type": "stream",
     "text": [
      "Stepsizes: dz = 0.024991845323386882 and dt = 0.125\n",
      "lambda = 5.001631467486214\n",
      "\n",
      " Tridiagonal system coefficients:\n",
      "lower diag values = -1.1147932113095471\n",
      "diag values = 3.2527185602893467\n",
      "upper diag values = -1.1366753489797994\n",
      "\n",
      " ENTIRE S DOMAIN ERRORS\n",
      "1. Maximal error: 9.607894391523416 \n",
      "\n",
      "located at 1170, z value of 6.214608098422193, S value of 500.00000000000074 \n",
      "\n",
      "2. Absolute sum of errors: 73.49480669299733\n",
      "\n",
      " REALISTIC S DOMAIN ERRORS\n",
      "1. Maximal error: 0.0004265352039515835 \n",
      "\n",
      "located at 1002, z value of 2.0159780840931987, S value of 7.508067312291713 \n",
      "\n",
      "2. Absolute sum of errors: 0.021555953787041563\n"
     ]
    }
   ],
   "source": [
    "L3P3 = PresentValue(dt=dt, dZ=dZ)"
   ]
  },
  {
   "cell_type": "code",
   "execution_count": 71,
   "id": "543c40db-2dcf-471c-9a33-1475c0c0dcbf",
   "metadata": {},
   "outputs": [],
   "source": [
    "L3_max_errors.append(L3P3[0])\n",
    "L3_real_max_errors.append(L3P3[1])\n",
    "L3_dt_vals.append(dt)\n",
    "L3_dz_vals.append(dZ)"
   ]
  },
  {
   "cell_type": "markdown",
   "id": "a718fd0e-4ce0-4e68-a4fc-db20bc7a1931",
   "metadata": {
    "jp-MarkdownHeadingCollapsed": true,
    "tags": []
   },
   "source": [
    "#### 3.4 Parameters $\\Delta z = 0.01, \\Delta t = 0.05$"
   ]
  },
  {
   "cell_type": "code",
   "execution_count": 72,
   "id": "c2df6c21-a61b-4354-b400-0288a900a19b",
   "metadata": {},
   "outputs": [],
   "source": [
    "dZ=0.01\n",
    "dt=0.05"
   ]
  },
  {
   "cell_type": "code",
   "execution_count": 73,
   "id": "20ba413b-0185-4fc9-a5c5-373c782acc75",
   "metadata": {},
   "outputs": [
    {
     "name": "stdout",
     "output_type": "stream",
     "text": [
      "Stepsizes: dz = 0.010000156986444134 and dt = 0.05\n",
      "lambda = 4.999921508010151\n",
      "\n",
      " Tridiagonal system coefficients:\n",
      "lower diag values = -2.801474368905759\n",
      "diag values = 6.625323394409063\n",
      "upper diag values = -2.8233490255033034\n",
      "\n",
      " ENTIRE S DOMAIN ERRORS\n",
      "1. Maximal error: 9.607894391523416 \n",
      "\n",
      "located at 2924, z value of 6.214608098422193, S value of 500.00000000000074 \n",
      "\n",
      "2. Absolute sum of errors: 176.08520963411613\n",
      "\n",
      " REALISTIC S DOMAIN ERRORS\n",
      "1. Maximal error: 6.0881945730839604e-05 \n",
      "\n",
      "located at 2533, z value of 2.304546716722534, S value of 10.019635489709756 \n",
      "\n",
      "2. Absolute sum of errors: 0.0076051930416965955\n"
     ]
    }
   ],
   "source": [
    "L3P4 = PresentValue(dt=dt, dZ=dZ)"
   ]
  },
  {
   "cell_type": "code",
   "execution_count": 74,
   "id": "94dc2725-9807-41cb-8268-be423cb01602",
   "metadata": {},
   "outputs": [],
   "source": [
    "L3_max_errors.append(L3P4[0])\n",
    "L3_real_max_errors.append(L3P4[1])\n",
    "L3_dt_vals.append(dt)\n",
    "L3_dz_vals.append(dZ)"
   ]
  },
  {
   "cell_type": "markdown",
   "id": "fe044fa7-7e0f-44c1-8489-6a3a68ed7514",
   "metadata": {
    "jp-MarkdownHeadingCollapsed": true,
    "tags": []
   },
   "source": [
    "#### 3.5 Parameters: $\\Delta z = 0.005, \\Delta t = 0.025$"
   ]
  },
  {
   "cell_type": "code",
   "execution_count": 75,
   "id": "16cbc4cf-aea4-4651-8394-1b8a34b3c9a7",
   "metadata": {},
   "outputs": [],
   "source": [
    "dZ=0.005\n",
    "dt=0.025"
   ]
  },
  {
   "cell_type": "code",
   "execution_count": 76,
   "id": "025ae908-2365-401a-891c-d9facf640695",
   "metadata": {},
   "outputs": [
    {
     "name": "stdout",
     "output_type": "stream",
     "text": [
      "Stepsizes: dz = 0.005000078493222067 and dt = 0.025\n",
      "lambda = 4.999921508010151\n",
      "\n",
      " Tridiagonal system coefficients:\n",
      "lower diag values = -5.61388606611029\n",
      "diag values = 12.249896788818125\n",
      "upper diag values = -5.635760722707835\n",
      "\n",
      " ENTIRE S DOMAIN ERRORS\n",
      "1. Maximal error: 9.607894391523416 \n",
      "\n",
      "located at 5848, z value of 6.214608098422193, S value of 500.00000000000074 \n",
      "\n",
      "2. Absolute sum of errors: 347.2581010982572\n",
      "\n",
      " REALISTIC S DOMAIN ERRORS\n",
      "1. Maximal error: 1.619221922150027e-05 \n",
      "\n",
      "located at 5005, z value of 1.9995419286359883, S value of 7.385672159026809 \n",
      "\n",
      "2. Absolute sum of errors: 0.004113821090269233\n"
     ]
    }
   ],
   "source": [
    "L3P5 = PresentValue(dt=dt, dZ=dZ)"
   ]
  },
  {
   "cell_type": "code",
   "execution_count": 77,
   "id": "6c06ca94-e546-489d-b8ee-9e69a298d19b",
   "metadata": {},
   "outputs": [],
   "source": [
    "L3_max_errors.append(L3P5[0])\n",
    "L3_real_max_errors.append(L3P5[1])\n",
    "L3_dt_vals.append(dt)\n",
    "L3_dz_vals.append(dZ)"
   ]
  },
  {
   "cell_type": "markdown",
   "id": "4dfee870-b519-4360-8458-df5595ccb9c2",
   "metadata": {
    "jp-MarkdownHeadingCollapsed": true,
    "tags": []
   },
   "source": [
    "#### 3.6 Parameters: $\\Delta z = 0.0025, \\Delta t = 0.0125$"
   ]
  },
  {
   "cell_type": "code",
   "execution_count": 78,
   "id": "80c47651-20e7-4f8a-b66f-f69b8bff67ab",
   "metadata": {},
   "outputs": [],
   "source": [
    "dZ=0.0025\n",
    "dt=0.0125"
   ]
  },
  {
   "cell_type": "code",
   "execution_count": 79,
   "id": "1285b3f5-123a-458e-b4a8-b512eeb8c9b1",
   "metadata": {},
   "outputs": [
    {
     "name": "stdout",
     "output_type": "stream",
     "text": [
      "Stepsizes: dz = 0.0025000392466110336 and dt = 0.0125\n",
      "lambda = 4.999921508010151\n",
      "\n",
      " Tridiagonal system coefficients:\n",
      "lower diag values = -11.238709460519352\n",
      "diag values = 23.49941857763625\n",
      "upper diag values = -11.260584117116897\n",
      "\n",
      " ENTIRE S DOMAIN ERRORS\n",
      "1. Maximal error: 9.607894391523416 \n",
      "\n",
      "located at 11696, z value of 6.214608098422193, S value of 500.00000000000074 \n",
      "\n",
      "2. Absolute sum of errors: 689.6572764951662\n",
      "\n",
      " REALISTIC S DOMAIN ERRORS\n",
      "1. Maximal error: 3.609010583716099e-06 \n",
      "\n",
      "located at 10131, z value of 2.302046677475925, S value of 9.994617294015042 \n",
      "\n",
      "2. Absolute sum of errors: 0.0018502774292699499\n"
     ]
    }
   ],
   "source": [
    "L3P6 = PresentValue(dt=dt, dZ=dZ)"
   ]
  },
  {
   "cell_type": "code",
   "execution_count": 80,
   "id": "f850fd5c-1ebe-4657-9adf-b9686cd101f9",
   "metadata": {},
   "outputs": [],
   "source": [
    "L3_max_errors.append(L3P6[0])\n",
    "L3_real_max_errors.append(L3P6[1])\n",
    "L3_dt_vals.append(dt)\n",
    "L3_dz_vals.append(dZ)"
   ]
  },
  {
   "cell_type": "markdown",
   "id": "69cd69fa-7f7a-4176-92a2-9a365cf33e07",
   "metadata": {
    "jp-MarkdownHeadingCollapsed": true,
    "tags": []
   },
   "source": [
    "#### 3.7 Parameters: $\\Delta z = 0.001, \\Delta t = 0.005$"
   ]
  },
  {
   "cell_type": "code",
   "execution_count": 81,
   "id": "57b7546d-cc39-4523-9748-5030801f7b7a",
   "metadata": {},
   "outputs": [],
   "source": [
    "dZ=0.001\n",
    "dt=0.005"
   ]
  },
  {
   "cell_type": "code",
   "execution_count": 82,
   "id": "3cff8dad-135a-492c-bb4b-7d96ea44d5f4",
   "metadata": {},
   "outputs": [
    {
     "name": "stdout",
     "output_type": "stream",
     "text": [
      "Stepsizes: dz = 0.0010000156986444135 and dt = 0.005\n",
      "lambda = 4.99992150801015\n",
      "\n",
      " Tridiagonal system coefficients:\n",
      "lower diag values = -28.113179643746534\n",
      "diag values = 57.248283944090616\n",
      "upper diag values = -28.13505430034408\n",
      "\n",
      " ENTIRE S DOMAIN ERRORS\n",
      "1. Maximal error: 9.607894391523416 \n",
      "\n",
      "located at 29240, z value of 6.214608098422193, S value of 500.00000000000074 \n",
      "\n",
      "2. Absolute sum of errors: 1716.899798255436\n",
      "\n",
      " REALISTIC S DOMAIN ERRORS\n",
      "1. Maximal error: 2.0651523502390745e-06 \n",
      "\n",
      "located at 25328, z value of 2.3025466853252468, S value of 9.99961593068766 \n",
      "\n",
      "2. Absolute sum of errors: 0.0011307857865256081\n"
     ]
    }
   ],
   "source": [
    "L3P7 = PresentValue(dt=dt, dZ=dZ)"
   ]
  },
  {
   "cell_type": "code",
   "execution_count": 83,
   "id": "92dd3780-77de-4c61-a1af-52f257da8099",
   "metadata": {},
   "outputs": [],
   "source": [
    "L3_max_errors.append(L3P7[0])\n",
    "L3_real_max_errors.append(L3P7[1])\n",
    "L3_dt_vals.append(dt)\n",
    "L3_dz_vals.append(dZ)"
   ]
  },
  {
   "cell_type": "markdown",
   "id": "39345acf-c44b-4108-bf11-f46be127ab9a",
   "metadata": {
    "jp-MarkdownHeadingCollapsed": true,
    "tags": []
   },
   "source": [
    "#### Additional steps "
   ]
  },
  {
   "cell_type": "code",
   "execution_count": 84,
   "id": "1331e441-32c8-454b-8b0b-ba3ee8722224",
   "metadata": {},
   "outputs": [],
   "source": [
    "# Empty list to store max error values\n",
    "L3a_max_errors = []\n",
    "L3a_real_max_errors = []\n",
    "# Empty list to store dt and dz's\n",
    "L3a_dt_vals = []\n",
    "L3a_dz_vals = []"
   ]
  },
  {
   "cell_type": "code",
   "execution_count": 85,
   "id": "86a54b9b-36a9-4125-b0a2-b4c728c7e008",
   "metadata": {
    "tags": []
   },
   "outputs": [],
   "source": [
    "# dz = 0.075\n",
    "# dt = 0.075*5\n",
    "\n",
    "# L3a1 = PresentValue(dt=dt, dZ=dz)\n",
    "# L3a_max_errors.append(L3a1[0])\n",
    "# L3a_real_max_errors.append(L3a1[1])\n",
    "# L3a_dt_vals.append(dt)\n",
    "# L3a_dz_vals.append(dz)\n",
    "\n",
    "# ###########\n",
    "\n",
    "# dz = 0.0375\n",
    "# dt = 0.0375*5\n",
    "\n",
    "# L3a2 = PresentValue(dt=dt, dZ=dz)\n",
    "# L3a_max_errors.append(L3a2[0])\n",
    "# L3a_real_max_errors.append(L3a2[1])\n",
    "# L3a_dt_vals.append(dt)\n",
    "# L3a_dz_vals.append(dz)\n",
    "\n",
    "# ###########\n",
    "\n",
    "# dz = 0.0175\n",
    "# dt = 0.0175*5\n",
    "\n",
    "# L3a3 = PresentValue(dt=dt, dZ=dz)\n",
    "# L3a_max_errors.append(L3a3[0])\n",
    "# L3a_real_max_errors.append(L3a3[1])\n",
    "# L3a_dt_vals.append(dt)\n",
    "# L3a_dz_vals.append(dz)\n",
    "\n",
    "# ###########\n",
    "\n",
    "# dz = 0.0075\n",
    "# dt = 0.0075*5\n",
    "\n",
    "# L3a4 = PresentValue(dt=dt, dZ=dz)\n",
    "# L3a_max_errors.append(L3a4[0])\n",
    "# L3a_real_max_errors.append(L3a4[1])\n",
    "# L3a_dt_vals.append(dt)\n",
    "# L3a_dz_vals.append(dz)\n",
    "\n",
    "# ###########\n",
    "\n",
    "# dz = 0.00375\n",
    "# dt = 0.00375*5\n",
    "\n",
    "# L3a5 = PresentValue(dt=dt, dZ=dz)\n",
    "# L3a_max_errors.append(L3a5[0])\n",
    "# L3a_real_max_errors.append(L3a5[1])\n",
    "# L3a_dt_vals.append(dt)\n",
    "# L3a_dz_vals.append(dz)\n",
    "\n",
    "# ###########\n",
    "\n",
    "# dz = 0.00175\n",
    "# dt = 0.00175*5\n",
    "\n",
    "# L3a6 = PresentValue(dt=dt, dZ=dz)\n",
    "# L3a_max_errors.append(L3a6[0])\n",
    "# L3a_real_max_errors.append(L3a6[1])\n",
    "# L3a_dt_vals.append(dt)\n",
    "# L3a_dz_vals.append(dz)\n",
    "\n",
    "# ###########\n",
    "\n",
    "# dz = 0.00075\n",
    "# dt = 0.00075*5\n",
    "\n",
    "# L3a7 = PresentValue(dt=dt, dZ=dz)\n",
    "# L3a_max_errors.append(L3a7[0])\n",
    "# L3a_real_max_errors.append(L3a7[1])\n",
    "# L3a_dt_vals.append(dt)\n",
    "# L3a_dz_vals.append(dz)\n",
    "\n",
    "# ###########\n",
    "\n",
    "# dz = 0.0005\n",
    "# dt = 0.0005*5\n",
    "\n",
    "# L3a8 = PresentValue(dt=dt, dZ=dz)\n",
    "# L3a_max_errors.append(L3a8[0])\n",
    "# L3a_real_max_errors.append(L3a8[1])\n",
    "# L3a_dt_vals.append(dt)\n",
    "# L3a_dz_vals.append(dz)\n",
    "\n",
    "# ###########\n",
    "\n",
    "# dz = 0.00025\n",
    "# dt = 0.00025*5\n",
    "\n",
    "# L3a9 = PresentValue(dt=dt, dZ=dz)\n",
    "# L3a_max_errors.append(L3a9[0])\n",
    "# L3a_real_max_errors.append(L3a9[1])\n",
    "# L3a_dt_vals.append(dt)\n",
    "# L3a_dz_vals.append(dz)"
   ]
  },
  {
   "cell_type": "markdown",
   "id": "cdcd0a28-29f5-48bc-b785-a809b838ef25",
   "metadata": {
    "jp-MarkdownHeadingCollapsed": true,
    "tags": []
   },
   "source": [
    "#### PLOTS of Convergence for decreasing step size"
   ]
  },
  {
   "cell_type": "code",
   "execution_count": 86,
   "id": "e418fe2f-bbe7-4ece-a3a8-7f166060b741",
   "metadata": {},
   "outputs": [],
   "source": [
    "# delta t values\n",
    "dt_vals = np.array(L3_dt_vals + L3a_dt_vals)\n",
    "sorted_indices = np.argsort(dt_vals)\n",
    "dt_vals = np.array([dt_vals[i] for i in sorted_indices])\n",
    "inv_dt_vals = np.divide(np.ones(len(dt_vals)), dt_vals)\n",
    "\n",
    "# delta z values\n",
    "dz_vals = np.array(L3_dz_vals + L3a_dz_vals)\n",
    "dz_vals = np.array([dz_vals[i] for i in sorted_indices])\n",
    "inv_dz_vals = np.divide(np.ones(len(dz_vals)), dz_vals)\n",
    "\n",
    "\n",
    "# max errors in realistic range\n",
    "real_max_errors = np.array(L3_real_max_errors + L3a_real_max_errors)\n",
    "real_max_errors = np.array([real_max_errors[i] for i in sorted_indices])\n",
    "\n",
    "# max errors in entire range\n",
    "max_errors = np.array(L3_max_errors + L3a_max_errors)\n",
    "max_errors = np.array([max_errors[i] for i in sorted_indices])"
   ]
  },
  {
   "cell_type": "markdown",
   "id": "70a69b3f-898a-4f72-891f-b918a35a4e19",
   "metadata": {
    "tags": []
   },
   "source": [
    "##### Realistic S domain for 1/dz"
   ]
  },
  {
   "cell_type": "code",
   "execution_count": 87,
   "id": "46497453-f244-42cd-95fb-c964e005acef",
   "metadata": {},
   "outputs": [
    {
     "data": {
      "application/vnd.jupyter.widget-view+json": {
       "model_id": "363e50b5bacc4f9d90a574b44fbcc654",
       "version_major": 2,
       "version_minor": 0
      },
      "image/png": "[encoded data removed]",
      "text/html": [
       "\n",
       "            <div style=\"display: inline-block;\">\n",
       "                <div class=\"jupyter-widgets widget-label\" style=\"text-align: center;\">\n",
       "                    Figure\n",
       "                </div>\n",
       "                <img src='data:image/png;base64,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' width=640.0/>\n",
       "            </div>\n",
       "        "
      ],
      "text/plain": [
       "Canvas(toolbar=Toolbar(toolitems=[('Home', 'Reset original view', 'home', 'home'), ('Back', 'Back to previous …"
      ]
     },
     "metadata": {},
     "output_type": "display_data"
    }
   ],
   "source": [
    "inv_z = np.linspace(0, max(inv_dz_vals), 1000)\n",
    "plt.figure()\n",
    "plt.title('Max error for $\\\\lambda = 5$')\n",
    "plt.ylabel('Max error')\n",
    "plt.xlabel('Inverse z step size $(1 / \\Delta z)$')\n",
    "plt.xlim\n",
    "plt.plot(inv_dz_vals, real_max_errors, marker='x', color='black', label='Max error/step size data points')\n",
    "plt.show()"
   ]
  },
  {
   "cell_type": "code",
   "execution_count": 88,
   "id": "09530d5c-4e96-4278-b6fb-f7d98d158557",
   "metadata": {},
   "outputs": [
    {
     "data": {
      "application/vnd.jupyter.widget-view+json": {
       "model_id": "546c0f2bee2b4f58a4d373872ffd2f07",
       "version_major": 2,
       "version_minor": 0
      },
      "image/png": "[encoded data removed]",
      "text/html": [
       "\n",
       "            <div style=\"display: inline-block;\">\n",
       "                <div class=\"jupyter-widgets widget-label\" style=\"text-align: center;\">\n",
       "                    Figure\n",
       "                </div>\n",
       "                <img src='data:image/png;base64,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' width=640.0/>\n",
       "            </div>\n",
       "        "
      ],
      "text/plain": [
       "Canvas(toolbar=Toolbar(toolitems=[('Home', 'Reset original view', 'home', 'home'), ('Back', 'Back to previous …"
      ]
     },
     "metadata": {},
     "output_type": "display_data"
    }
   ],
   "source": [
    "inv_z = np.linspace(0, max(inv_dz_vals), 1000)\n",
    "plt.figure()\n",
    "plt.title('Max error for $\\\\lambda = 5$')\n",
    "plt.ylabel('Max error')\n",
    "plt.xlabel('Inverse z step size $(1 / \\Delta z)$')\n",
    "plt.xlim\n",
    "plt.loglog(inv_dz_vals, real_max_errors, marker='x', color='black', label='Max error/step size data points')\n",
    "plt.show()"
   ]
  },
  {
   "cell_type": "markdown",
   "id": "5cc4bad0-0555-4fab-920e-9b7f3cf5978a",
   "metadata": {
    "jp-MarkdownHeadingCollapsed": true,
    "tags": []
   },
   "source": [
    "### 4. $\\lambda = \\frac{\\Delta t}{\\Delta z} = 4$"
   ]
  },
  {
   "cell_type": "code",
   "execution_count": 89,
   "id": "2e1f2f95-45d6-41ee-8d94-b5a25f59d25a",
   "metadata": {},
   "outputs": [],
   "source": [
    "# Empty list to store max error values\n",
    "L4_max_errors = []\n",
    "L4_real_max_errors = []\n",
    "# Empty list to store dt and dz's\n",
    "L4_dt_vals = []\n",
    "L4_dz_vals = []\n"
   ]
  },
  {
   "cell_type": "markdown",
   "id": "f7a19fe4-bb32-45eb-8279-44ff55572375",
   "metadata": {
    "jp-MarkdownHeadingCollapsed": true,
    "tags": []
   },
   "source": [
    "#### 4.1 Parameters $\\Delta z = 0.1, \\Delta t = 0.4$"
   ]
  },
  {
   "cell_type": "code",
   "execution_count": 90,
   "id": "1c99834f-d448-48f6-a881-9d7978ecc70b",
   "metadata": {},
   "outputs": [],
   "source": [
    "dZ=0.1\n",
    "dt=0.4"
   ]
  },
  {
   "cell_type": "code",
   "execution_count": 91,
   "id": "0f6c6572-ce4e-4399-ba3b-8d7190bb25f0",
   "metadata": {},
   "outputs": [
    {
     "name": "stdout",
     "output_type": "stream",
     "text": [
      "Stepsizes: dz = 0.10013855831631045 and dt = 0.4\n",
      "lambda = 3.9944653360847164\n",
      "\n",
      " Tridiagonal system coefficients:\n",
      "lower diag values = -0.215639888156442\n",
      "diag values = 1.4527555621582546\n",
      "upper diag values = -0.2331156740018126\n",
      "\n",
      " ENTIRE S DOMAIN ERRORS\n",
      "1. Maximal error: 9.607894391523416 \n",
      "\n",
      "located at 292, z value of 6.214608098422193, S value of 500.00000000000074 \n",
      "\n",
      "2. Absolute sum of errors: 22.646621603090647\n",
      "\n",
      " REALISTIC S DOMAIN ERRORS\n",
      "1. Maximal error: 0.016017266914888584 \n",
      "\n",
      "located at 253, z value of 2.309204324086089, S value of 10.066411866183358 \n",
      "\n",
      "2. Absolute sum of errors: 0.10026769458103256\n"
     ]
    }
   ],
   "source": [
    "L4P1 = PresentValue(dt=dt, dZ=dZ)"
   ]
  },
  {
   "cell_type": "code",
   "execution_count": 92,
   "id": "36bd1169-5f4e-4dc9-b853-5ddd3ffa24a1",
   "metadata": {},
   "outputs": [],
   "source": [
    "L4_max_errors.append(L4P1[0])\n",
    "L4_real_max_errors.append(L4P1[1])\n",
    "L4_dt_vals.append(dt)\n",
    "L4_dz_vals.append(dZ)"
   ]
  },
  {
   "cell_type": "markdown",
   "id": "b159de51-ca9a-4078-934a-374c320e55ac",
   "metadata": {
    "jp-MarkdownHeadingCollapsed": true,
    "tags": []
   },
   "source": [
    "#### 4.2 Parameters $\\Delta z = 0.05, \\Delta t = 0.2$"
   ]
  },
  {
   "cell_type": "code",
   "execution_count": 93,
   "id": "1ffda5cd-3a18-4256-96cf-5a6ac9f42ff2",
   "metadata": {},
   "outputs": [],
   "source": [
    "dZ=0.05\n",
    "dt=0.2"
   ]
  },
  {
   "cell_type": "code",
   "execution_count": 94,
   "id": "1776dc65-40db-4ec8-b20f-ec9857554a1e",
   "metadata": {},
   "outputs": [
    {
     "name": "stdout",
     "output_type": "stream",
     "text": [
      "Stepsizes: dz = 0.049983690646773764 and dt = 0.2\n",
      "lambda = 4.001305173988971\n",
      "\n",
      " Tridiagonal system coefficients:\n",
      "lower diag values = -0.4415408569897684\n",
      "diag values = 1.9025874241157386\n",
      "upper diag values = -0.45904656712597025\n",
      "\n",
      " ENTIRE S DOMAIN ERRORS\n",
      "1. Maximal error: 9.607894391523416 \n",
      "\n",
      "located at 585, z value of 6.214608098422193, S value of 500.00000000000074 \n",
      "\n",
      "2. Absolute sum of errors: 39.41308586652014\n",
      "\n",
      " REALISTIC S DOMAIN ERRORS\n",
      "1. Maximal error: 0.0014530313080092366 \n",
      "\n",
      "located at 500, z value of 1.965994393446426, S value of 7.142011029214633 \n",
      "\n",
      "2. Absolute sum of errors: 0.03605335268373404\n"
     ]
    }
   ],
   "source": [
    "L4P2 = PresentValue(dt=dt, dZ=dZ)"
   ]
  },
  {
   "cell_type": "code",
   "execution_count": 95,
   "id": "4ea3abf3-646b-4fd9-b1ee-583add5ed7de",
   "metadata": {},
   "outputs": [],
   "source": [
    "L4_max_errors.append(L4P2[0])\n",
    "L4_real_max_errors.append(L4P2[1])\n",
    "L4_dt_vals.append(dt)\n",
    "L4_dz_vals.append(dZ)"
   ]
  },
  {
   "cell_type": "markdown",
   "id": "29741016-def5-495e-8671-1295d02f22e1",
   "metadata": {
    "jp-MarkdownHeadingCollapsed": true,
    "tags": []
   },
   "source": [
    "#### 4.3 Parameters $\\Delta z = 0.025, \\Delta t = 0.1$"
   ]
  },
  {
   "cell_type": "code",
   "execution_count": 96,
   "id": "c76dad60-9ea8-4eb2-8b68-e3a083bf6ecc",
   "metadata": {},
   "outputs": [],
   "source": [
    "dZ = 0.025\n",
    "dt = 0.1"
   ]
  },
  {
   "cell_type": "code",
   "execution_count": 97,
   "id": "8f2a6a22-5e31-4293-8b23-f161a3d39f4e",
   "metadata": {},
   "outputs": [
    {
     "name": "stdout",
     "output_type": "stream",
     "text": [
      "Stepsizes: dz = 0.024991845323386882 and dt = 0.1\n",
      "lambda = 4.001305173988971\n",
      "\n",
      " Tridiagonal system coefficients:\n",
      "lower diag values = -0.8918345690476377\n",
      "diag values = 2.8021748482314774\n",
      "upper diag values = -0.9093402791838395\n",
      "\n",
      " ENTIRE S DOMAIN ERRORS\n",
      "1. Maximal error: 9.607894391523416 \n",
      "\n",
      "located at 1170, z value of 6.214608098422193, S value of 500.00000000000074 \n",
      "\n",
      "2. Absolute sum of errors: 73.49176540270912\n",
      "\n",
      " REALISTIC S DOMAIN ERRORS\n",
      "1. Maximal error: 0.0004553049037903656 \n",
      "\n",
      "located at 1002, z value of 2.0159780840931987, S value of 7.508067312291713 \n",
      "\n",
      "2. Absolute sum of errors: 0.021550244711571343\n"
     ]
    }
   ],
   "source": [
    "L4P3 = PresentValue(dt=dt, dZ=dZ)"
   ]
  },
  {
   "cell_type": "code",
   "execution_count": 98,
   "id": "9223c64f-434e-4786-ba16-718aa92c129a",
   "metadata": {},
   "outputs": [],
   "source": [
    "L4_max_errors.append(L4P3[0])\n",
    "L4_real_max_errors.append(L4P3[1])\n",
    "L4_dt_vals.append(dt)\n",
    "L4_dz_vals.append(dZ)"
   ]
  },
  {
   "cell_type": "markdown",
   "id": "7df63b8e-5c92-482a-b97a-3feb9bf2a99b",
   "metadata": {
    "jp-MarkdownHeadingCollapsed": true,
    "tags": []
   },
   "source": [
    "#### 4.4 Parameters $\\Delta z = 0.01, \\Delta t = 0.04$"
   ]
  },
  {
   "cell_type": "code",
   "execution_count": 99,
   "id": "37f882b9-a73c-475d-972a-757fde2d13a3",
   "metadata": {},
   "outputs": [],
   "source": [
    "dZ=0.01\n",
    "dt=0.04"
   ]
  },
  {
   "cell_type": "code",
   "execution_count": 100,
   "id": "e47c3c63-8fc8-42a4-8d9d-a8246428eead",
   "metadata": {},
   "outputs": [
    {
     "name": "stdout",
     "output_type": "stream",
     "text": [
      "Stepsizes: dz = 0.010000156986444134 and dt = 0.04\n",
      "lambda = 3.9999372064081204\n",
      "\n",
      " Tridiagonal system coefficients:\n",
      "lower diag values = -2.2411794951246073\n",
      "diag values = 5.50025871552725\n",
      "upper diag values = -2.2586792204026427\n",
      "\n",
      " ENTIRE S DOMAIN ERRORS\n",
      "1. Maximal error: 9.607894391523416 \n",
      "\n",
      "located at 2924, z value of 6.214608098422193, S value of 500.00000000000074 \n",
      "\n",
      "2. Absolute sum of errors: 176.08421953678967\n",
      "\n",
      " REALISTIC S DOMAIN ERRORS\n",
      "1. Maximal error: 6.494381155741635e-05 \n",
      "\n",
      "located at 2535, z value of 2.324547030695424, S value of 10.222048762627221 \n",
      "\n",
      "2. Absolute sum of errors: 0.007807225741885821\n"
     ]
    }
   ],
   "source": [
    "L4P4 = PresentValue(dt=dt, dZ=dZ)"
   ]
  },
  {
   "cell_type": "code",
   "execution_count": 101,
   "id": "1da2e1c9-be75-46e5-846f-f25b09fa5b85",
   "metadata": {},
   "outputs": [],
   "source": [
    "L4_max_errors.append(L4P4[0])\n",
    "L4_real_max_errors.append(L4P4[1])\n",
    "L4_dt_vals.append(dt)\n",
    "L4_dz_vals.append(dZ)"
   ]
  },
  {
   "cell_type": "markdown",
   "id": "08cd14f6-5784-46b0-8011-bfb7ab13b55c",
   "metadata": {
    "jp-MarkdownHeadingCollapsed": true,
    "tags": []
   },
   "source": [
    "#### 4.5 Parameters: $\\Delta z = 0.005, \\Delta t = 0.02$"
   ]
  },
  {
   "cell_type": "code",
   "execution_count": 102,
   "id": "c436b013-32bc-4ddf-84eb-3e9c8cab0f0a",
   "metadata": {},
   "outputs": [],
   "source": [
    "dZ=0.005\n",
    "dt=0.02"
   ]
  },
  {
   "cell_type": "code",
   "execution_count": 103,
   "id": "6ebfa647-21dd-4a41-bd7c-c2416db50343",
   "metadata": {},
   "outputs": [
    {
     "name": "stdout",
     "output_type": "stream",
     "text": [
      "Stepsizes: dz = 0.005000078493222067 and dt = 0.02\n",
      "lambda = 3.9999372064081204\n",
      "\n",
      " Tridiagonal system coefficients:\n",
      "lower diag values = -4.491108852888232\n",
      "diag values = 9.999917431054499\n",
      "upper diag values = -4.5086085781662675\n",
      "\n",
      " ENTIRE S DOMAIN ERRORS\n",
      "1. Maximal error: 9.607894391523416 \n",
      "\n",
      "located at 5848, z value of 6.214608098422193, S value of 500.00000000000074 \n",
      "\n",
      "2. Absolute sum of errors: 347.25752876194684\n",
      "\n",
      " REALISTIC S DOMAIN ERRORS\n",
      "1. Maximal error: 1.731576141231206e-05 \n",
      "\n",
      "located at 5006, z value of 2.00454200712921, S value of 7.422693577415737 \n",
      "\n",
      "2. Absolute sum of errors: 0.004112667252703463\n"
     ]
    }
   ],
   "source": [
    "L4P5 = PresentValue(dt=dt, dZ=dZ)"
   ]
  },
  {
   "cell_type": "code",
   "execution_count": 104,
   "id": "c13f6bc3-5056-44dd-840f-32bbf2c6b098",
   "metadata": {},
   "outputs": [],
   "source": [
    "L4_max_errors.append(L4P5[0])\n",
    "L4_real_max_errors.append(L4P5[1])\n",
    "L4_dt_vals.append(dt)\n",
    "L4_dz_vals.append(dZ)"
   ]
  },
  {
   "cell_type": "markdown",
   "id": "6bed9343-3f46-419e-9f89-a722d4a1f012",
   "metadata": {
    "jp-MarkdownHeadingCollapsed": true,
    "tags": []
   },
   "source": [
    "#### 4.6 Parameters: $\\Delta z = 0.0025, \\Delta t = 0.01$"
   ]
  },
  {
   "cell_type": "code",
   "execution_count": 105,
   "id": "dad91eb8-c9b6-44b5-be21-0906b980e8ff",
   "metadata": {},
   "outputs": [],
   "source": [
    "dZ=0.0025\n",
    "dt=0.01"
   ]
  },
  {
   "cell_type": "code",
   "execution_count": 106,
   "id": "d862b79e-60c5-4089-9bd0-cc2e5e0f128f",
   "metadata": {},
   "outputs": [
    {
     "name": "stdout",
     "output_type": "stream",
     "text": [
      "Stepsizes: dz = 0.0025000392466110336 and dt = 0.01\n",
      "lambda = 3.9999372064081204\n",
      "\n",
      " Tridiagonal system coefficients:\n",
      "lower diag values = -8.990967568415483\n",
      "diag values = 18.999534862108998\n",
      "upper diag values = -9.008467293693517\n",
      "\n",
      " ENTIRE S DOMAIN ERRORS\n",
      "1. Maximal error: 9.607894391523416 \n",
      "\n",
      "located at 11696, z value of 6.214608098422193, S value of 500.00000000000074 \n",
      "\n",
      "2. Absolute sum of errors: 689.6570705209623\n",
      "\n",
      " REALISTIC S DOMAIN ERRORS\n",
      "1. Maximal error: 3.3972711031005076e-06 \n",
      "\n",
      "located at 10140, z value of 2.324547030695424, S value of 10.222048762627221 \n",
      "\n",
      "2. Absolute sum of errors: 0.0019046010953888673\n"
     ]
    }
   ],
   "source": [
    "L4P6 = PresentValue(dt=dt, dZ=dZ)"
   ]
  },
  {
   "cell_type": "code",
   "execution_count": 107,
   "id": "51d13abd-2bfb-4edb-b7a8-ac99a5c575aa",
   "metadata": {},
   "outputs": [],
   "source": [
    "L4_max_errors.append(L4P6[0])\n",
    "L4_real_max_errors.append(L4P6[1])\n",
    "L4_dt_vals.append(dt)\n",
    "L4_dz_vals.append(dZ)"
   ]
  },
  {
   "cell_type": "markdown",
   "id": "ab27aa76-8bc8-4973-a853-ab1f39cc4e93",
   "metadata": {
    "jp-MarkdownHeadingCollapsed": true,
    "tags": []
   },
   "source": [
    "#### 4.7 Parameters: $\\Delta z = 0.001, \\Delta t = 0.004$"
   ]
  },
  {
   "cell_type": "code",
   "execution_count": 108,
   "id": "d1462203-1ad1-44f0-8069-d350b3e1e80d",
   "metadata": {},
   "outputs": [],
   "source": [
    "dZ=0.001\n",
    "dt=0.004"
   ]
  },
  {
   "cell_type": "code",
   "execution_count": 109,
   "id": "b7bf7761-e724-48bf-a8d3-212b0959f1db",
   "metadata": {},
   "outputs": [
    {
     "name": "stdout",
     "output_type": "stream",
     "text": [
      "Stepsizes: dz = 0.0010000156986444135 and dt = 0.004\n",
      "lambda = 3.9999372064081204\n",
      "\n",
      " Tridiagonal system coefficients:\n",
      "lower diag values = -22.490543714997226\n",
      "diag values = 45.998627155272494\n",
      "upper diag values = -22.508043440275266\n",
      "\n",
      " ENTIRE S DOMAIN ERRORS\n",
      "1. Maximal error: 9.607894391523416 \n",
      "\n",
      "located at 29240, z value of 6.214608098422193, S value of 500.00000000000074 \n",
      "\n",
      "2. Absolute sum of errors: 1716.8997286379627\n",
      "\n",
      " REALISTIC S DOMAIN ERRORS\n",
      "1. Maximal error: 1.7305907304976387e-06 \n",
      "\n",
      "located at 25328, z value of 2.3025466853252468, S value of 9.99961593068766 \n",
      "\n",
      "2. Absolute sum of errors: 0.0011345187950694963\n"
     ]
    }
   ],
   "source": [
    "L4P7 = PresentValue(dt=dt, dZ=dZ)"
   ]
  },
  {
   "cell_type": "code",
   "execution_count": 110,
   "id": "18c7ed99-9a9b-4ea6-bcf1-453903ca2eb9",
   "metadata": {},
   "outputs": [],
   "source": [
    "L4_max_errors.append(L4P7[0])\n",
    "L4_real_max_errors.append(L4P7[1])\n",
    "L4_dt_vals.append(dt)\n",
    "L4_dz_vals.append(dZ)"
   ]
  },
  {
   "cell_type": "markdown",
   "id": "9903c33d-50c0-4b86-88fc-ad9f1a4a3f41",
   "metadata": {
    "jp-MarkdownHeadingCollapsed": true,
    "tags": []
   },
   "source": [
    "#### Additional steps "
   ]
  },
  {
   "cell_type": "code",
   "execution_count": 111,
   "id": "69ba271c-061a-4136-abfb-0bcf6373f952",
   "metadata": {},
   "outputs": [],
   "source": [
    "# Empty list to store max error values\n",
    "L4a_max_errors = []\n",
    "L4a_real_max_errors = []\n",
    "# Empty list to store dt and dz's\n",
    "L4a_dt_vals = []\n",
    "L4a_dz_vals = []"
   ]
  },
  {
   "cell_type": "code",
   "execution_count": 112,
   "id": "8f469e89-330f-4a6f-b03e-cb9fc69f5d58",
   "metadata": {},
   "outputs": [],
   "source": [
    "# dz = 0.075\n",
    "# dt = 0.075*4\n",
    "\n",
    "# L4a1 = PresentValue(dt=dt, dZ=dz)\n",
    "# L4a_max_errors.append(L4a1[0])\n",
    "# L4a_real_max_errors.append(L4a1[1])\n",
    "# L4a_dt_vals.append(dt)\n",
    "# L4a_dz_vals.append(dz)\n",
    "\n",
    "# ###########\n",
    "\n",
    "# dz = 0.0375\n",
    "# dt = 0.0375*4\n",
    "\n",
    "# L4a2 = PresentValue(dt=dt, dZ=dz)\n",
    "# L4a_max_errors.append(L4a2[0])\n",
    "# L4a_real_max_errors.append(L4a2[1])\n",
    "# L4a_dt_vals.append(dt)\n",
    "# L4a_dz_vals.append(dz)\n",
    "\n",
    "# ###########\n",
    "\n",
    "# dz = 0.0175\n",
    "# dt = 0.0175*4\n",
    "\n",
    "# L4a3 = PresentValue(dt=dt, dZ=dz)\n",
    "# L4a_max_errors.append(L4a3[0])\n",
    "# L4a_real_max_errors.append(L4a3[1])\n",
    "# L4a_dt_vals.append(dt)\n",
    "# L4a_dz_vals.append(dz)\n",
    "\n",
    "# ###########\n",
    "\n",
    "# dz = 0.0075\n",
    "# dt = 0.0075*4\n",
    "\n",
    "# L4a4 = PresentValue(dt=dt, dZ=dz)\n",
    "# L4a_max_errors.append(L4a4[0])\n",
    "# L4a_real_max_errors.append(L4a4[1])\n",
    "# L4a_dt_vals.append(dt)\n",
    "# L4a_dz_vals.append(dz)\n",
    "\n",
    "# ###########\n",
    "\n",
    "# dz = 0.00375\n",
    "# dt = 0.00375*4\n",
    "\n",
    "# L4a5 = PresentValue(dt=dt, dZ=dz)\n",
    "# L4a_max_errors.append(L4a5[0])\n",
    "# L4a_real_max_errors.append(L4a5[1])\n",
    "# L4a_dt_vals.append(dt)\n",
    "# L4a_dz_vals.append(dz)\n",
    "\n",
    "# ###########\n",
    "\n",
    "# dz = 0.00175\n",
    "# dt = 0.00175*4\n",
    "\n",
    "# L4a6 = PresentValue(dt=dt, dZ=dz)\n",
    "# L4a_max_errors.append(L4a6[0])\n",
    "# L4a_real_max_errors.append(L4a6[1])\n",
    "# L4a_dt_vals.append(dt)\n",
    "# L4a_dz_vals.append(dz)\n",
    "\n",
    "# ###########\n",
    "\n",
    "# dz = 0.00075\n",
    "# dt = 0.00075*4\n",
    "\n",
    "# L4a7 = PresentValue(dt=dt, dZ=dz)\n",
    "# L4a_max_errors.append(L4a7[0])\n",
    "# L4a_real_max_errors.append(L4a7[1])\n",
    "# L4a_dt_vals.append(dt)\n",
    "# L4a_dz_vals.append(dz)\n",
    "\n",
    "# ###########\n",
    "\n",
    "# dz = 0.0005\n",
    "# dt = 0.0005*4\n",
    "\n",
    "# L4a8 = PresentValue(dt=dt, dZ=dz)\n",
    "# L4a_max_errors.append(L4a8[0])\n",
    "# L4a_real_max_errors.append(L4a8[1])\n",
    "# L4a_dt_vals.append(dt)\n",
    "# L4a_dz_vals.append(dz)\n",
    "\n",
    "# ###########\n",
    "\n",
    "# dz = 0.00025\n",
    "# dt = 0.00025*4\n",
    "\n",
    "# L4a9 = PresentValue(dt=dt, dZ=dz)\n",
    "# L4a_max_errors.append(L4a9[0])\n",
    "# L4a_real_max_errors.append(L4a9[1])\n",
    "# L4a_dt_vals.append(dt)\n",
    "# L4a_dz_vals.append(dz)"
   ]
  },
  {
   "cell_type": "markdown",
   "id": "03852ed5-f1d4-439c-b874-1765f6f44452",
   "metadata": {
    "tags": []
   },
   "source": [
    "#### PLOTS of Convergence for decreasing step size"
   ]
  },
  {
   "cell_type": "code",
   "execution_count": 113,
   "id": "fb6cfbcb-df2d-4dc7-abb6-e02a224ddb97",
   "metadata": {},
   "outputs": [],
   "source": [
    "# delta t values\n",
    "dt_vals = np.array(L4_dt_vals + L4a_dt_vals)\n",
    "sorted_indices = np.argsort(dt_vals)\n",
    "dt_vals = np.array([dt_vals[i] for i in sorted_indices])\n",
    "inv_dt_vals = np.divide(np.ones(len(dt_vals)), dt_vals)\n",
    "\n",
    "# delta z values\n",
    "dz_vals = np.array(L4_dz_vals + L4a_dz_vals)\n",
    "dz_vals = np.array([dz_vals[i] for i in sorted_indices])\n",
    "inv_dz_vals = np.divide(np.ones(len(dz_vals)), dz_vals)\n",
    "\n",
    "\n",
    "# max errors in realistic range\n",
    "real_max_errors = np.array(L4_real_max_errors + L4a_real_max_errors)\n",
    "real_max_errors = np.array([real_max_errors[i] for i in sorted_indices])\n",
    "\n",
    "# max errors in entire range\n",
    "max_errors = np.array(L4_max_errors + L4a_max_errors)\n",
    "max_errors = np.array([max_errors[i] for i in sorted_indices])"
   ]
  },
  {
   "cell_type": "markdown",
   "id": "96bbde9f-9744-4d7e-8f8b-dd4ad9c70e79",
   "metadata": {
    "tags": []
   },
   "source": [
    "##### Realistic S domain for 1/dz"
   ]
  },
  {
   "cell_type": "code",
   "execution_count": 114,
   "id": "b798e9a5-722f-4bc7-bc24-2db47f01a463",
   "metadata": {},
   "outputs": [
    {
     "data": {
      "application/vnd.jupyter.widget-view+json": {
       "model_id": "d10fedd995534b009745dde18acb563b",
       "version_major": 2,
       "version_minor": 0
      },
      "image/png": "[encoded data removed]",
      "text/html": [
       "\n",
       "            <div style=\"display: inline-block;\">\n",
       "                <div class=\"jupyter-widgets widget-label\" style=\"text-align: center;\">\n",
       "                    Figure\n",
       "                </div>\n",
       "                <img src='data:image/png;base64,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' width=640.0/>\n",
       "            </div>\n",
       "        "
      ],
      "text/plain": [
       "Canvas(toolbar=Toolbar(toolitems=[('Home', 'Reset original view', 'home', 'home'), ('Back', 'Back to previous …"
      ]
     },
     "metadata": {},
     "output_type": "display_data"
    }
   ],
   "source": [
    "inv_z = np.linspace(0, max(inv_dz_vals), 1000)\n",
    "plt.figure()\n",
    "plt.title('Max error for $\\\\lambda = 4$')\n",
    "plt.ylabel('Max error')\n",
    "plt.xlabel('Inverse z step size $(1 / \\Delta z)$')\n",
    "plt.xlim\n",
    "plt.plot(inv_dz_vals, real_max_errors, marker='x', color='black', label='Max error/step size data points')\n",
    "plt.show()"
   ]
  },
  {
   "cell_type": "code",
   "execution_count": 115,
   "id": "5b03dbd8-80c1-471f-bdf7-12d957bd8ff3",
   "metadata": {},
   "outputs": [
    {
     "data": {
      "application/vnd.jupyter.widget-view+json": {
       "model_id": "9fdfadc297b7470e965ada1047612e44",
       "version_major": 2,
       "version_minor": 0
      },
      "image/png": "[encoded data removed]",
      "text/html": [
       "\n",
       "            <div style=\"display: inline-block;\">\n",
       "                <div class=\"jupyter-widgets widget-label\" style=\"text-align: center;\">\n",
       "                    Figure\n",
       "                </div>\n",
       "                <img src='data:image/png;base64,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' width=640.0/>\n",
       "            </div>\n",
       "        "
      ],
      "text/plain": [
       "Canvas(toolbar=Toolbar(toolitems=[('Home', 'Reset original view', 'home', 'home'), ('Back', 'Back to previous …"
      ]
     },
     "metadata": {},
     "output_type": "display_data"
    }
   ],
   "source": [
    "inv_z = np.linspace(0, max(inv_dz_vals), 1000)\n",
    "plt.figure()\n",
    "plt.title('Max error for $\\\\lambda = 4$')\n",
    "plt.ylabel('Max error')\n",
    "plt.xlabel('Inverse z step size $(1 / \\Delta z)$')\n",
    "plt.xlim\n",
    "plt.loglog(inv_dz_vals, real_max_errors, marker='x', color='black', label='Max error/step size data points')\n",
    "plt.show()"
   ]
  },
  {
   "cell_type": "markdown",
   "id": "e9a02df7-39b1-4a83-9236-473a4a609fad",
   "metadata": {
    "tags": []
   },
   "source": [
    "### 5. $\\lambda = \\frac{\\Delta t}{\\Delta z} = 3$"
   ]
  },
  {
   "cell_type": "code",
   "execution_count": 116,
   "id": "ab885888-9124-49ed-ab7d-5ce27341de65",
   "metadata": {},
   "outputs": [],
   "source": [
    "# Empty list to store max error values\n",
    "L5_max_errors = []\n",
    "L5_real_max_errors = []\n",
    "# Empty list to store dt and dz's\n",
    "L5_dt_vals = []\n",
    "L5_dz_vals = []"
   ]
  },
  {
   "cell_type": "markdown",
   "id": "86ff2676-c855-456a-992c-6b45e48a09bc",
   "metadata": {
    "tags": []
   },
   "source": [
    "#### 5.1 Parameters $\\Delta z = 0.1, \\Delta t = 0.3$"
   ]
  },
  {
   "cell_type": "code",
   "execution_count": 117,
   "id": "e0afcde9-66be-44e3-abf9-fd31822ba841",
   "metadata": {},
   "outputs": [],
   "source": [
    "dZ=0.1\n",
    "dt=0.3"
   ]
  },
  {
   "cell_type": "code",
   "execution_count": 118,
   "id": "6fc7967f-2796-441a-91d2-8072afde8231",
   "metadata": {},
   "outputs": [
    {
     "name": "stdout",
     "output_type": "stream",
     "text": [
      "Stepsizes: dz = 0.10013855831631045 and dt = 0.2857142857142857\n",
      "lambda = 2.8531895257747975\n",
      "\n",
      " Tridiagonal system coefficients:\n",
      "lower diag values = -0.1540284915403157\n",
      "diag values = 1.323396830113039\n",
      "upper diag values = -0.1665111957155804\n",
      "\n",
      " ENTIRE S DOMAIN ERRORS\n",
      "1. Maximal error: 9.607894391523416 \n",
      "\n",
      "located at 292, z value of 6.214608098422193, S value of 500.00000000000074 \n",
      "\n",
      "2. Absolute sum of errors: 22.638315546241873\n",
      "\n",
      " REALISTIC S DOMAIN ERRORS\n",
      "1. Maximal error: 0.016610653762498373 \n",
      "\n",
      "located at 253, z value of 2.309204324086089, S value of 10.066411866183358 \n",
      "\n",
      "2. Absolute sum of errors: 0.10107468449982507\n"
     ]
    }
   ],
   "source": [
    "L5P1 = PresentValue(dt=dt, dZ=dZ)"
   ]
  },
  {
   "cell_type": "code",
   "execution_count": 119,
   "id": "fa118dbe-d53b-44aa-b311-5f773792a14a",
   "metadata": {},
   "outputs": [],
   "source": [
    "L5_max_errors.append(L5P1[0])\n",
    "L5_real_max_errors.append(L5P1[1])\n",
    "L5_dt_vals.append(dt)\n",
    "L5_dz_vals.append(dZ)"
   ]
  },
  {
   "cell_type": "markdown",
   "id": "3443055c-0a46-47ea-8620-4ff0009d2fb7",
   "metadata": {
    "jp-MarkdownHeadingCollapsed": true,
    "tags": []
   },
   "source": [
    "#### 5.2 Parameters $\\Delta z = 0.05, \\Delta t = 0.15$"
   ]
  },
  {
   "cell_type": "code",
   "execution_count": 120,
   "id": "49fb62ec-c88e-4303-a365-088f9f6443ef",
   "metadata": {},
   "outputs": [],
   "source": [
    "dZ=0.05\n",
    "dt=0.15"
   ]
  },
  {
   "cell_type": "code",
   "execution_count": 121,
   "id": "48ee2885-9b3d-4e55-8428-8cf11a6afebd",
   "metadata": {},
   "outputs": [
    {
     "name": "stdout",
     "output_type": "stream",
     "text": [
      "Stepsizes: dz = 0.049983690646773764 and dt = 0.15384615384615385\n",
      "lambda = 3.0779270569145933\n",
      "\n",
      " Tridiagonal system coefficients:\n",
      "lower diag values = -0.33964681306905264\n",
      "diag values = 1.694298018550568\n",
      "upper diag values = -0.35311274394305403\n",
      "\n",
      " ENTIRE S DOMAIN ERRORS\n",
      "1. Maximal error: 9.607894391523416 \n",
      "\n",
      "located at 585, z value of 6.214608098422193, S value of 500.00000000000074 \n",
      "\n",
      "2. Absolute sum of errors: 39.40958992276651\n",
      "\n",
      " REALISTIC S DOMAIN ERRORS\n",
      "1. Maximal error: 0.0015219397139722285 \n",
      "\n",
      "located at 500, z value of 1.965994393446426, S value of 7.142011029214633 \n",
      "\n",
      "2. Absolute sum of errors: 0.036897831935845296\n"
     ]
    }
   ],
   "source": [
    "L5P2 = PresentValue(dt=dt, dZ=dZ)"
   ]
  },
  {
   "cell_type": "code",
   "execution_count": 122,
   "id": "3b4e2fb1-a360-4478-beba-13ad2870af2d",
   "metadata": {},
   "outputs": [],
   "source": [
    "L5_max_errors.append(L5P2[0])\n",
    "L5_real_max_errors.append(L5P2[1])\n",
    "L5_dt_vals.append(dt)\n",
    "L5_dz_vals.append(dZ)"
   ]
  },
  {
   "cell_type": "markdown",
   "id": "5bef3765-7e59-411e-a281-719b47a5e5ef",
   "metadata": {
    "jp-MarkdownHeadingCollapsed": true,
    "tags": []
   },
   "source": [
    "#### 5.3 Parameters $\\Delta z = 0.025, \\Delta t = 0.075$"
   ]
  },
  {
   "cell_type": "code",
   "execution_count": 123,
   "id": "702e8ad6-ea75-4f34-9c3e-51cf71151ae4",
   "metadata": {},
   "outputs": [],
   "source": [
    "dZ = 0.025\n",
    "dt = 0.075"
   ]
  },
  {
   "cell_type": "code",
   "execution_count": 124,
   "id": "f5395384-93f3-4a6b-8f8c-5ef1db10f5e4",
   "metadata": {},
   "outputs": [
    {
     "name": "stdout",
     "output_type": "stream",
     "text": [
      "Stepsizes: dz = 0.024991845323386882 and dt = 0.07407407407407407\n",
      "lambda = 2.9639297585103486\n",
      "\n",
      " Tridiagonal system coefficients:\n",
      "lower diag values = -0.6606181992945463\n",
      "diag values = 2.3349443320233165\n",
      "upper diag values = -0.6735853919880292\n",
      "\n",
      " ENTIRE S DOMAIN ERRORS\n",
      "1. Maximal error: 9.607894391523416 \n",
      "\n",
      "located at 1170, z value of 6.214608098422193, S value of 500.00000000000074 \n",
      "\n",
      "2. Absolute sum of errors: 73.48929069526116\n",
      "\n",
      " REALISTIC S DOMAIN ERRORS\n",
      "1. Maximal error: 0.00047836288089933565 \n",
      "\n",
      "located at 1002, z value of 2.0159780840931987, S value of 7.508067312291713 \n",
      "\n",
      "2. Absolute sum of errors: 0.021545664238203633\n"
     ]
    }
   ],
   "source": [
    "L5P3 = PresentValue(dt=dt, dZ=dZ)"
   ]
  },
  {
   "cell_type": "code",
   "execution_count": 125,
   "id": "998e40f8-3862-4b78-bc6a-053501570638",
   "metadata": {},
   "outputs": [],
   "source": [
    "L5_max_errors.append(L5P3[0])\n",
    "L5_real_max_errors.append(L5P3[1])\n",
    "L5_dt_vals.append(dt)\n",
    "L5_dz_vals.append(dZ)"
   ]
  },
  {
   "cell_type": "markdown",
   "id": "899d0349-f567-40f5-9d93-3aa6a2106e62",
   "metadata": {
    "jp-MarkdownHeadingCollapsed": true,
    "tags": []
   },
   "source": [
    "#### 5.4 Parameters $\\Delta z = 0.01, \\Delta t = 0.03$"
   ]
  },
  {
   "cell_type": "code",
   "execution_count": 126,
   "id": "24f7836a-09b1-4bb2-9a7d-54304de35a95",
   "metadata": {},
   "outputs": [],
   "source": [
    "dZ=0.01\n",
    "dt=0.03"
   ]
  },
  {
   "cell_type": "code",
   "execution_count": 127,
   "id": "19fa1958-c5b0-42d5-b9d9-7e8582ce80c2",
   "metadata": {},
   "outputs": [
    {
     "name": "stdout",
     "output_type": "stream",
     "text": [
      "Stepsizes: dz = 0.010000156986444134 and dt = 0.029850746268656716\n",
      "lambda = 2.9850277659762092\n",
      "\n",
      " Tridiagonal system coefficients:\n",
      "lower diag values = -1.6725220112870203\n",
      "diag values = 4.358402026512874\n",
      "upper diag values = -1.6855815077631662\n",
      "\n",
      " ENTIRE S DOMAIN ERRORS\n",
      "1. Maximal error: 9.607894391523416 \n",
      "\n",
      "located at 2924, z value of 6.214608098422193, S value of 500.00000000000074 \n",
      "\n",
      "2. Absolute sum of errors: 176.0834044445478\n",
      "\n",
      " REALISTIC S DOMAIN ERRORS\n",
      "1. Maximal error: 6.964621874594457e-05 \n",
      "\n",
      "located at 2535, z value of 2.324547030695424, S value of 10.222048762627221 \n",
      "\n",
      "2. Absolute sum of errors: 0.00796930475257587\n"
     ]
    }
   ],
   "source": [
    "L5P4 = PresentValue(dt=dt, dZ=dZ)"
   ]
  },
  {
   "cell_type": "code",
   "execution_count": 128,
   "id": "b852ca67-e6ed-41d3-9d96-5e01cf07ca2d",
   "metadata": {},
   "outputs": [],
   "source": [
    "L5_max_errors.append(L5P4[0])\n",
    "L5_real_max_errors.append(L5P4[1])\n",
    "L5_dt_vals.append(dt)\n",
    "L5_dz_vals.append(dZ)"
   ]
  },
  {
   "cell_type": "markdown",
   "id": "e943ba1d-4548-41b1-b16f-9aa066525e04",
   "metadata": {
    "jp-MarkdownHeadingCollapsed": true,
    "tags": []
   },
   "source": [
    "#### 5.5 Parameters: $\\Delta z = 0.005, \\Delta t = 0.015$"
   ]
  },
  {
   "cell_type": "code",
   "execution_count": 129,
   "id": "10d41695-e3c9-4d96-826a-b7fd79e0df4a",
   "metadata": {},
   "outputs": [],
   "source": [
    "dZ=0.005\n",
    "dt=0.015"
   ]
  },
  {
   "cell_type": "code",
   "execution_count": 130,
   "id": "832f6897-e4b1-4c70-a16f-a8aaef654fda",
   "metadata": {},
   "outputs": [
    {
     "name": "stdout",
     "output_type": "stream",
     "text": [
      "Stepsizes: dz = 0.005000078493222067 and dt = 0.015037593984962405\n",
      "lambda = 3.007471583765504\n",
      "\n",
      " Tridiagonal system coefficients:\n",
      "lower diag values = -3.376773573600174\n",
      "diag values = 7.7668552113191724\n",
      "upper diag values = -3.3899312617791484\n",
      "\n",
      " ENTIRE S DOMAIN ERRORS\n",
      "1. Maximal error: 9.607894391523416 \n",
      "\n",
      "located at 5848, z value of 6.214608098422193, S value of 500.00000000000074 \n",
      "\n",
      "2. Absolute sum of errors: 347.2570482592696\n",
      "\n",
      " REALISTIC S DOMAIN ERRORS\n",
      "1. Maximal error: 1.8193053753584598e-05 \n",
      "\n",
      "located at 5006, z value of 2.00454200712921, S value of 7.422693577415737 \n",
      "\n",
      "2. Absolute sum of errors: 0.004111772292172137\n"
     ]
    }
   ],
   "source": [
    "L5P5 = PresentValue(dt=dt, dZ=dZ)"
   ]
  },
  {
   "cell_type": "code",
   "execution_count": 131,
   "id": "4d16cbfd-b105-44f2-8eb0-916c16b10778",
   "metadata": {},
   "outputs": [],
   "source": [
    "L5_max_errors.append(L5P5[0])\n",
    "L5_real_max_errors.append(L5P5[1])\n",
    "L5_dt_vals.append(dt)\n",
    "L5_dz_vals.append(dZ)"
   ]
  },
  {
   "cell_type": "markdown",
   "id": "766357f5-350b-4e9f-8917-af2e6ef15ef0",
   "metadata": {
    "jp-MarkdownHeadingCollapsed": true,
    "tags": []
   },
   "source": [
    "#### 5.6 Parameters: $\\Delta z = 0.0025, \\Delta t = 0.0075$"
   ]
  },
  {
   "cell_type": "code",
   "execution_count": 132,
   "id": "068e290c-557d-48c2-9a5a-e4f382afabce",
   "metadata": {},
   "outputs": [],
   "source": [
    "dZ=0.0025\n",
    "dt=0.0075"
   ]
  },
  {
   "cell_type": "code",
   "execution_count": 133,
   "id": "11b00603-1a03-40d7-8c50-9c247e97b478",
   "metadata": {},
   "outputs": [
    {
     "name": "stdout",
     "output_type": "stream",
     "text": [
      "Stepsizes: dz = 0.0025000392466110336 and dt = 0.00749063670411985\n",
      "lambda = 2.9962076452495285\n",
      "\n",
      " Tridiagonal system coefficients:\n",
      "lower diag values = -6.734807167352421\n",
      "diag values = 14.48279764951985\n",
      "upper diag values = -6.747915575800388\n",
      "\n",
      " ENTIRE S DOMAIN ERRORS\n",
      "1. Maximal error: 9.607894391523416 \n",
      "\n",
      "located at 11696, z value of 6.214608098422193, S value of 500.00000000000074 \n",
      "\n",
      "2. Absolute sum of errors: 689.656871582882\n",
      "\n",
      " REALISTIC S DOMAIN ERRORS\n",
      "1. Maximal error: 3.6905044191737346e-06 \n",
      "\n",
      "located at 10139, z value of 2.3220469914488113, S value of 10.196525157840666 \n",
      "\n",
      "2. Absolute sum of errors: 0.0019476678614022218\n"
     ]
    }
   ],
   "source": [
    "L5P6 = PresentValue(dt=dt, dZ=dZ)"
   ]
  },
  {
   "cell_type": "code",
   "execution_count": 134,
   "id": "6669ba3b-1072-4f75-ab75-f81f678baeaf",
   "metadata": {},
   "outputs": [],
   "source": [
    "L5_max_errors.append(L5P6[0])\n",
    "L5_real_max_errors.append(L5P6[1])\n",
    "L5_dt_vals.append(dt)\n",
    "L5_dz_vals.append(dZ)"
   ]
  },
  {
   "cell_type": "markdown",
   "id": "a19af78f-ddc6-4a43-880e-01c5c44d1f79",
   "metadata": {
    "tags": []
   },
   "source": [
    "#### 5.7 Parameters: $\\Delta z = 0.001, \\Delta t = 0.003$"
   ]
  },
  {
   "cell_type": "code",
   "execution_count": 135,
   "id": "20879eb9-42fc-4e5f-99ca-8b1fbf780125",
   "metadata": {},
   "outputs": [],
   "source": [
    "dZ=0.001\n",
    "dt=0.003"
   ]
  },
  {
   "cell_type": "code",
   "execution_count": 136,
   "id": "ca64713c-2905-4d92-a342-5228da741557",
   "metadata": {},
   "outputs": [
    {
     "name": "stdout",
     "output_type": "stream",
     "text": [
      "Stepsizes: dz = 0.0010000156986444135 and dt = 0.0029985007496251873\n",
      "lambda = 2.9984536779671065\n",
      "\n",
      " Tridiagonal system coefficients:\n",
      "lower diag values = -16.859478047224307\n",
      "diag values = 34.73210431429722\n",
      "upper diag values = -16.872596282065416\n",
      "\n",
      " ENTIRE S DOMAIN ERRORS\n",
      "1. Maximal error: 9.607894391523416 \n",
      "\n",
      "located at 29240, z value of 6.214608098422193, S value of 500.00000000000074 \n",
      "\n",
      "2. Absolute sum of errors: 1716.899637807127\n",
      "\n",
      " REALISTIC S DOMAIN ERRORS\n",
      "1. Maximal error: 1.7725204062291056e-06 \n",
      "\n",
      "located at 25334, z value of 2.3085467795171155, S value of 10.05979492743618 \n",
      "\n",
      "2. Absolute sum of errors: 0.001138531159613195\n"
     ]
    }
   ],
   "source": [
    "L5P7 = PresentValue(dt=dt, dZ=dZ)"
   ]
  },
  {
   "cell_type": "code",
   "execution_count": 137,
   "id": "badef18e-45ab-480f-a555-cd9a5e1e5ddf",
   "metadata": {},
   "outputs": [],
   "source": [
    "L5_max_errors.append(L5P7[0])\n",
    "L5_real_max_errors.append(L5P7[1])\n",
    "L5_dt_vals.append(dt)\n",
    "L5_dz_vals.append(dZ)"
   ]
  },
  {
   "cell_type": "markdown",
   "id": "be2ca61a-cefe-4636-b7d2-3f96373c5a35",
   "metadata": {
    "jp-MarkdownHeadingCollapsed": true,
    "tags": []
   },
   "source": [
    "#### Additional dz values"
   ]
  },
  {
   "cell_type": "code",
   "execution_count": 138,
   "id": "8c7d7561-5c88-4f2e-b0d2-dcba159795b8",
   "metadata": {},
   "outputs": [],
   "source": [
    "# Empty list to store max error values\n",
    "L5a_max_errors = []\n",
    "L5a_real_max_errors = []\n",
    "# Empty list to store dt and dz's\n",
    "L5a_dt_vals = []\n",
    "L5a_dz_vals = []\n"
   ]
  },
  {
   "cell_type": "code",
   "execution_count": 139,
   "id": "8fdee623-6ab2-494c-a10e-8c582f0441d5",
   "metadata": {},
   "outputs": [],
   "source": [
    "# dz = 0.075\n",
    "# dt = 0.075*3\n",
    "\n",
    "# L5a1 = PresentValue(dt=dt, dZ=dz)\n",
    "# L5a_max_errors.append(L5a1[0])\n",
    "# L5a_real_max_errors.append(L5a1[1])\n",
    "# L5a_dt_vals.append(dt)\n",
    "# L5a_dz_vals.append(dz)\n",
    "\n",
    "# ###########\n",
    "\n",
    "# dz = 0.0375\n",
    "# dt = 0.0375*3\n",
    "\n",
    "# L5a2 = PresentValue(dt=dt, dZ=dz)\n",
    "# L5a_max_errors.append(L5a2[0])\n",
    "# L5a_real_max_errors.append(L5a2[1])\n",
    "# L5a_dt_vals.append(dt)\n",
    "# L5a_dz_vals.append(dz)\n",
    "\n",
    "# ###########\n",
    "\n",
    "# dz = 0.0175\n",
    "# dt = 0.0175*3\n",
    "\n",
    "# L5a3 = PresentValue(dt=dt, dZ=dz)\n",
    "# L5a_max_errors.append(L5a3[0])\n",
    "# L5a_real_max_errors.append(L5a3[1])\n",
    "# L5a_dt_vals.append(dt)\n",
    "# L5a_dz_vals.append(dz)\n",
    "\n",
    "# ###########\n",
    "\n",
    "# dz = 0.0075\n",
    "# dt = 0.0075*3\n",
    "\n",
    "# L5a4 = PresentValue(dt=dt, dZ=dz)\n",
    "# L5a_max_errors.append(L5a4[0])\n",
    "# L5a_real_max_errors.append(L5a4[1])\n",
    "# L5a_dt_vals.append(dt)\n",
    "# L5a_dz_vals.append(dz)\n",
    "\n",
    "# ###########\n",
    "\n",
    "# dz = 0.00375\n",
    "# dt = 0.00375*3\n",
    "\n",
    "# L5a5 = PresentValue(dt=dt, dZ=dz)\n",
    "# L5a_max_errors.append(L5a5[0])\n",
    "# L5a_real_max_errors.append(L5a5[1])\n",
    "# L5a_dt_vals.append(dt)\n",
    "# L5a_dz_vals.append(dz)\n",
    "\n",
    "# ###########\n",
    "\n",
    "# dz = 0.00175\n",
    "# dt = 0.00175*3\n",
    "\n",
    "# L5a6 = PresentValue(dt=dt, dZ=dz)\n",
    "# L5a_max_errors.append(L5a6[0])\n",
    "# L5a_real_max_errors.append(L5a6[1])\n",
    "# L5a_dt_vals.append(dt)\n",
    "# L5a_dz_vals.append(dz)\n",
    "\n",
    "# ###########\n",
    "\n",
    "# dz = 0.00075\n",
    "# dt = 0.00075*3\n",
    "\n",
    "# L5a7 = PresentValue(dt=dt, dZ=dz)\n",
    "# L5a_max_errors.append(L5a7[0])\n",
    "# L5a_real_max_errors.append(L5a7[1])\n",
    "# L5a_dt_vals.append(dt)\n",
    "# L5a_dz_vals.append(dz)\n",
    "\n",
    "# ###########\n",
    "\n",
    "# dz = 0.0005\n",
    "# dt = 0.0005*3\n",
    "\n",
    "# L5a8 = PresentValue(dt=dt, dZ=dz)\n",
    "# L5a_max_errors.append(L5a8[0])\n",
    "# L5a_real_max_errors.append(L5a8[1])\n",
    "# L5a_dt_vals.append(dt)\n",
    "# L5a_dz_vals.append(dz)\n",
    "\n",
    "# ###########\n",
    "\n",
    "# dz = 0.00025\n",
    "# dt = 0.00025*3\n",
    "\n",
    "# L5a9 = PresentValue(dt=dt, dZ=dz)\n",
    "# L5a_max_errors.append(L5a9[0])\n",
    "# L5a_real_max_errors.append(L5a9[1])\n",
    "# L5a_dt_vals.append(dt)\n",
    "# L5a_dz_vals.append(dz)"
   ]
  },
  {
   "cell_type": "markdown",
   "id": "dd5fea34-6099-4e38-93d1-f545f6c0ed37",
   "metadata": {
    "tags": []
   },
   "source": [
    "#### PLOTS of Convergence for decreasing step size"
   ]
  },
  {
   "cell_type": "code",
   "execution_count": 150,
   "id": "1efa1742-af45-4f1c-a6a8-dec51f0dc731",
   "metadata": {},
   "outputs": [],
   "source": [
    "# delta t values\n",
    "dt_vals = np.array(L5_dt_vals + L5a_dt_vals)\n",
    "sorted_indices = np.argsort(dt_vals)\n",
    "dt_vals = np.array([dt_vals[i] for i in sorted_indices])\n",
    "inv_dt_vals = np.divide(np.ones(len(dt_vals)), dt_vals)\n",
    "\n",
    "# delta z values\n",
    "dz_vals = np.array(L5_dz_vals + L5a_dz_vals)\n",
    "dz_vals = np.array([dz_vals[i] for i in sorted_indices])\n",
    "inv_dz_vals = np.divide(np.ones(len(dz_vals)), dz_vals)\n",
    "\n",
    "\n",
    "# max errors in realistic range\n",
    "real_max_errors = np.array(L5_real_max_errors + L5a_real_max_errors)\n",
    "real_max_errors = np.array([real_max_errors[i] for i in sorted_indices])\n",
    "\n",
    "# max errors in entire range\n",
    "max_errors = np.array(L5_max_errors + L5a_max_errors)\n",
    "max_errors = np.array([max_errors[i] for i in sorted_indices])"
   ]
  },
  {
   "cell_type": "markdown",
   "id": "baa3f713-f521-41e9-b40e-1a98132f5937",
   "metadata": {
    "tags": []
   },
   "source": [
    "##### Realistic S domain for 1/dz"
   ]
  },
  {
   "cell_type": "code",
   "execution_count": 151,
   "id": "290788ca-e79a-413e-925e-9dcae4f1dc66",
   "metadata": {},
   "outputs": [
    {
     "data": {
      "application/vnd.jupyter.widget-view+json": {
       "model_id": "0693ae20895349f39553f2c730d10894",
       "version_major": 2,
       "version_minor": 0
      },
      "image/png": "[encoded data removed]",
      "text/html": [
       "\n",
       "            <div style=\"display: inline-block;\">\n",
       "                <div class=\"jupyter-widgets widget-label\" style=\"text-align: center;\">\n",
       "                    Figure\n",
       "                </div>\n",
       "                <img src='data:image/png;base64,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' width=640.0/>\n",
       "            </div>\n",
       "        "
      ],
      "text/plain": [
       "Canvas(toolbar=Toolbar(toolitems=[('Home', 'Reset original view', 'home', 'home'), ('Back', 'Back to previous …"
      ]
     },
     "metadata": {},
     "output_type": "display_data"
    }
   ],
   "source": [
    "inv_z = np.linspace(0, max(inv_dz_vals), 1000)\n",
    "plt.figure()\n",
    "plt.title('Max error for $\\\\lambda = 3$')\n",
    "plt.ylabel('Max error')\n",
    "plt.xlabel('Inverse z step size $(1 / \\Delta z)$')\n",
    "plt.xlim\n",
    "plt.plot(inv_dz_vals, real_max_errors, marker='x', color='black', label='Max error/step size data points')\n",
    "plt.show()"
   ]
  },
  {
   "cell_type": "code",
   "execution_count": 152,
   "id": "f38eb571-0303-46cb-a00b-6e05dc22096a",
   "metadata": {},
   "outputs": [
    {
     "data": {
      "application/vnd.jupyter.widget-view+json": {
       "model_id": "55bbd39a8bfc425d865593d6fc40014a",
       "version_major": 2,
       "version_minor": 0
      },
      "image/png": "[encoded data removed]",
      "text/html": [
       "\n",
       "            <div style=\"display: inline-block;\">\n",
       "                <div class=\"jupyter-widgets widget-label\" style=\"text-align: center;\">\n",
       "                    Figure\n",
       "                </div>\n",
       "                <img src='data:image/png;base64,iVBORw0KGgoAAAANSUhEUgAAAoAAAAHgCAYAAAA10dzkAAAAOXRFWHRTb2Z0d2FyZQBNYXRwbG90bGliIHZlcnNpb24zLjUuMiwgaHR0cHM6Ly9tYXRwbG90bGliLm9yZy8qNh9FAAAACXBIWXMAAA9hAAAPYQGoP6dpAABYTklEQVR4nO3deXxM9+L/8fdkJcRWS6v2qiVUQkRQKiiqBBVd1dqWWKqoVlsVJFqtUpTYt9Yae2sp1WutWEMspdWF2vclhIgk5/dHf+bbVGiWSc4k83o+HnncmzNnzuc9uTP3vJ1zPmcshmEYAgAAgMNwMjsAAAAAshYFEAAAwMFQAAEAABwMBRAAAMDBUAABAAAcDAUQAADAwVAAAQAAHAwFEAAAwMFQAAEAABwMBRAAAMDBUAABAAAcDAUQAADAwVAAAQAAHAwFEAAAwMFQAAEAABwMBRAAAMDBUAABAAAcDAUQAADAwVAAAQAAHAwFEAAAwMFQAAEAABwMBRAAAMDBUAABAAAcDAUQAADAwVAAAQAAHAwFEAAAwMFQAAEAABwMBRAAAMDBUAABAAAcDAUQAADAwVAAAQAAHAwFEAAAwMFQAAEAABwMBRAAAMDBUAABAAAcDAUQAADAwVAAAQcye/ZsWSwWWSwWbdq06b7HDcNQ+fLlZbFYFBAQkOX5srOIiAhVqVJFuXPnlsViUXR0dKaOFxcXJxcXF3l6eurtt9/O1LHuiY6OVosWLVSqVCnlzp1bhQoVUp06dTR37twsGR+A7VAAAQfk6empGTNm3Ld88+bN+uOPP+Tp6WlCquzr4sWL6tChg5544gmtXbtW27dvV4UKFTJ1TIvFog0bNqhWrVqaMGGCjh49mqnjSdK1a9dUsmRJffrpp1qzZo2++eYblSlTRh06dNDw4cMzfXwAtmMxDMMwOwSArDF79mx16dJFb775pubNm6dz584pX7581sc7dOigP/74QzExMSpcuHCKRwnt1a1bt+Th4ZHq5bbY9j3btm1TvXr1FBERoZdeeilDY6V2zHvWrVun5557TvPnz9err75qk7HTqnbt2jpz5oxOnDhhyvgA0o4jgIADulcUFixYYF12/fp1LV26VF27dr1v/d9//11dunTRk08+KQ8PDz3++OMKDAzUwYMHrevExcWpevXqKl++vK5fv25dfu7cOT366KMKCAhQYmLiQ3P99ttveu2111S0aFG5u7urcuXKCg8Pv2+9oUOHymKxaO/evWrXrp0KFiyoJ5544oHL7/npp5/UuHFjeXp6ysPDQ3Xr1tXq1atTte0H6dy5s+rVqydJevnll5OdPk/NeOkZ858qVaokSZl+yvlhChcuLBcXF9PGB5B2FEDAAeXLl0/t2rXTzJkzrcsWLFggJycnvfzyy/etf+bMGT3yyCP67LPPtHbtWoWHh8vFxUX+/v769ddfJUm5cuXSokWLdOHCBWuJTEpKUvv27WUYhhYsWCBnZ+cHZjp8+LD8/Px06NAhjR49WqtWrVKLFi3Up08fDRs2LMXntG3bVuXLl9fixYs1efLkhy7fvHmzGjVqpOvXr2vGjBlasGCBPD09FRgYqIiIiFRv+98GDx5sLamffvqptm/frokTJ6Z5vLSM+U+ff/65pP8ugIZhKCEhIVU//yUpKUkJCQm6ePGiJk6cqHXr1mngwIGpygvAThgAHMasWbMMScbu3buNjRs3GpKMQ4cOGYZhGH5+fkbnzp0NwzCMKlWqGA0aNHjgdhISEoz4+HjjySefNPr165fssYiICEOSMXbsWCMkJMRwcnIyfvjhh//M1qxZM6NEiRLG9evXky3v3bu3kStXLuPKlSvWZUOGDDEkGSEhIcnWfdBywzCM2rVrG0WLFjVu3LiR7HVUrVrVKFGihJGUlPSf23iQe3/LxYsXp3m89I5pGIaxbt06Q5JRsGBBo0iRIqnKmJqfY8eOPXRb3bt3t67r5uZmTJw4MU25AZiPI4CAg2rQoIGeeOIJzZw5UwcPHtTu3btTPP0rSQkJCfr000/l5eUlNzc3ubi4yM3NTb/99puOHDmSbN2XXnpJPXr00Hvvvafhw4fro48+UpMmTR6aJS4uTv/73//0wgsvyMPDI9nRqOeff15xcXHasWPHfc8LCgpKcXv/Xh4bG6udO3eqXbt2yps3r3W5s7OzOnTooFOnTlmPZP7XtlMjPeOldcxr166pa9euat26tXr27KmLFy/qzJkzD1zf19dXu3fvTtVP8eLFHzr2Rx99pN27d2v16tXq2rWrevfurVGjRqU6OwDzcdEG4KAsFou6dOmir776SnFxcapQoYLq16+f4rr9+/dXeHi4Bg4cqAYNGqhgwYJycnLSm2++qdu3b9+3fteuXTVp0iS5ubmpT58+/5nl8uXLSkhI0Pjx4zV+/PgU17l06dJ9yx577LEU1/338qtXr8owjBTXv1d2Ll++nKptp0Z6xkvrmL169dLdu3c1bdo0bdmyRdLfp4EfVN7y5s0rHx+fVG37v67nK1WqlEqVKiVJev755yVJH374oTp16qQiRYqk8hUAMBNHAAEH1rlzZ126dEmTJ09Wly5dHrje3Llz1bFjR3366adq1qyZatWqpZo1a6ZYymJjY9WhQwdVqFBBuXPn1ptvvvmfOQoWLChnZ2d17tz5gUel7hWNf7JYLClu79/L7xXWs2fP3rfuvaNmhQsXTtW2UyM946VlzCVLlmj+/PmaMWOGihQpoho1akh6+HWAmzdvlqura6p+jh8/nqoc99SqVUsJCQn6888/0/Q8AObhCCDgwB5//HG99957+uWXX9SpU6cHrmexWOTu7p5s2erVq3X69GmVL18+2fLg4GCdOHFCu3bt0i+//KJ27dppzJgx6tev3wO37+HhoYYNG2rfvn2qVq2a3NzcMvbC/iVPnjzy9/fXsmXLNGrUKOXOnVvS35MZ5s6dqxIlStj0vn2ZOd65c+cUHBysbt26qWXLlpKksmXLqkCBAtq3b98Dn3fvFHBq/Ncp4H/buHGjnJycVK5cuTQ9D4B5KICAg/vss8/+c52WLVtq9uzZqlSpkqpVq6aoqCh98cUXKlGiRLL1pk+frrlz52rWrFmqUqWKqlSpot69e2vgwIF6+umnVatWrQeOMW7cONWrV0/169dXjx49VKZMGd24cUO///67Vq5cqQ0bNmTodY4YMUJNmjRRw4YNNWDAALm5uWnixIk6dOiQFixYkKEjflk53ltvvaWCBQvqyy+/TLa8evXqDz0C6OnpqZo1a6ZrzHu6deumfPnyqVatWipWrJguXbqkxYsXKyIiQu+99x6nf4FshAII4D+NGzdOrq6uGjFihG7evKkaNWpo2bJl+vjjj63rHDx4UH369FGnTp3UuXNn6/JRo0Zp+/btevnll7Vv3z4VKFAgxTG8vLy0d+9ehYWF6eOPP9aFCxdUoEABPfnkkyme/k2rBg0aaMOGDRoyZIg6d+6spKQkeXt767vvvrMeSbOlzBhv+vTp+v777/XTTz8pT548yR6rXr26Nm3apBs3bmTaN7nUqVNHs2bN0tdff61r164pb9688vb21pw5c/T6669nypgAMgffBAIAAOBgmAQCAADgYCiAAAAADoYCCAAA4GAogAAAAA6GAggAAOBgKIAAAAAOhgIIAADgYLgRdAYkJSXpzJkz8vT0tPm3CAAAgMxhGIZu3Lih4sWLy8nJMY+FUQAz4MyZMypZsqTZMQAAQDqcPHnyvq+0dBQUwAy493VLJ0+eVL58+UxOAwAAUiMmJkYlS5bMtK9NzA4ogBlw77Rvvnz5KIAAAGQzjnz5lmOe+AYAAHBgFEAAAAAHQwEEAABwMBRAAAAAB0MBBAAAcDAUQAAAAAdDAQQAAHAwFMB0CA8Pl5eXl/z8/MyOAgAAkGYWwzAMs0NkVzExMcqfP7+uX7/OjaABAMgm2H9zBNCuDB06VGFhYSk+FhYWpqFDh2ZtIAAAkCNRAO2Is7OzQkJC7iuBYWFhCgkJkbOzs0nJAABATsJ3AduRwYMHS5JCQkJkGIa1DIaEhCg0NNT6OAAAQEZwDWAGZNY1BG+//bYmTJggV1dX3b17l/IHAIANcQ0gp4Dt0uXLlyVJd+/elZubG+UPAADYFAXQDpUtW9b63+Pj4xUaGmpiGgAAkNNQAO1MWFiYPv30U/Xo0UO5cuWSJA0ZMuSBs4MBAADSigJoR/454WPixImaNGmS9bGUZgcDAACkBwXQjiQmJiab8NG5c2e99dZbkqTcuXPrypUrZsYDAAA5BLOAMyArZhHFxcXp6aef1t69e1WrVi1t2bJF7u7umTIWAACOgFnAHAG0e7ly5dKSJUtUsGBB7dq1S++++67ZkQAAQDZHAcwGypYtq7lz50qSwsPDNW/ePJMTAQCA7IwCmE08//zz+vjjjyVJ3bp1088//2xyIgAAkF1RALORoUOH6tlnn9WtW7fUtm1bxcTEmB0JAABkQxTAbMTZ2Vnz589XiRIldPToUb3xxhtiDg8AAEgrCmA2U6RIES1evFiurq5asmSJxo4da3YkAACQzVAAs6HatWtrzJgxkqT33ntPW7duNTkRAADIThy6AJ48eVIBAQHy8vJStWrVtHjxYrMjpVrPnj312muvKTExUS+//LLOnTtndiQAAJBNOPSNoM+ePavz58/Lx8dHFy5cUI0aNfTrr78qT548qXq+2TeSjI2Nlb+/v37++Wc1aNBAP/74o1xcXLI8BwAA2YnZ+2974NBHAB977DH5+PhIkooWLapChQplq69by5Mnj5YuXaq8efNq8+bNGjRokNmRAABANmDXBXDLli0KDAxU8eLFZbFYtGLFivvWmThxosqWLatcuXLJ19c33dfD7dmzR0lJSSpZsmQGU2etihUraubMmZKkkSNHpvg3AgAA+Ce7LoCxsbHy9vbWhAkTUnw8IiJCffv21aBBg7Rv3z7Vr19fzZs314kTJ6zr+Pr6qmrVqvf9nDlzxrrO5cuX1bFjR02dOjXTX1NmePHFF9WvXz9JUqdOnfT777+bnAgAANizbHMNoMVi0fLly9WmTRvrMn9/f9WoUUOTJk2yLqtcubLatGmjESNGpGq7d+7cUZMmTfTWW2+pQ4cO/7nunTt3rL/HxMSoZMmSdnENwd27d9WwYUNt27ZN1apV0/bt2+Xh4WFqJgAA7BHXANr5EcCHiY+PV1RUlJo2bZpsedOmTRUZGZmqbRiGoc6dO6tRo0b/Wf4kacSIEcqfP7/1x55OF7u6umrRokUqWrSoDhw4oB49enCTaAAAkKJsWwAvXbqkxMREFStWLNnyYsWKpfqWKNu2bVNERIRWrFghHx8f+fj46ODBgw9c/8MPP9T169etPydPnszQa7C14sWLKyIiQk5OTvrmm280bdo0syMBAAA7lO3vGWKxWJL9bhjGfcsepF69ekpKSkr1WO7u7nJ3d09TvqwWEBCgESNGaODAgXr77bdVo0YN1axZ0+xYAADAjmTbI4CFCxeWs7PzfUf7Lly4cN9RQUfz3nvvqXXr1oqPj1e7du10+fJlsyMBAAA7km0LoJubm3x9fbV+/fpky9evX6+6detm6tjh4eHy8vKSn59fpo6TXhaLRbNnz9YTTzyhv/76Sx06dEjTkU4AAJCz2XUBvHnzpqKjoxUdHS1JOnbsmKKjo623eenfv7+mT5+umTNn6siRI+rXr59OnDih4ODgTM3Vq1cvHT58WLt3787UcTKiQIECWrp0qXLlyqXvv/9en3zyidmRAACAnbDr28Bs2rRJDRs2vG95p06dNHv2bEl/3wh65MiROnv2rKpWraoxY8bomWeeyZJ82WEa+ddff63OnTvLYrFo7dq1982aBgDA0WSH/Xdms+sCaO+yyxuoe/fumjp1qh555BHt3btXpUqVMjsSAACmyS7778xk16eA7ZW9XwP4b+PGjZOvr68uX76sF198MdnNrAEAgOPhCGAGZKd/QRw/flw1atTQ1atX1bNnT4WHh5sdCQAAU2Sn/Xdm4QiggyhTpozmzp0r6e/rJufNm2dyIgAAYBYKoAN5/vnnNXjwYElSt27ddOjQIZMTAQAAM1AAHcyQIUPUpEkT3bp1S0FBQYqJiTE7EgAAyGIUwHTIbpNA/snZ2Vnz589XyZIldfToUXXt2lVcBgoAgGNhEkgGZOeLSHfu3Kn69evr7t27Gj16tPr37292JAAAskR23n/bCkcAHZS/v7/Gjh0rSXr//fe1detWcwMBAIAsQwF0YD169NBrr72mxMREvfTSSzp37pzZkQAAQBagADowi8WiqVOnqkqVKjp37pxefvllJSQkmB0LAABkMgqgg8uTJ4+WLl2qvHnzasuWLRo0aJDZkQAAQCajAKZDdp4FnJKKFStq1qxZkqSRI0dq+fLlJicCAACZiVnAGZDTZhG9++67+vLLL5UvXz7t2bNHTz75pNmRAACwuZy2/04PjgDC6rPPPlO9evUUExOjoKAg3bp1y+xIAAAgE1AAYeXq6qqIiAgVK1ZMBw8eVHBwMDeJBgAgB6IAIpnixYtr4cKFcnJy0pw5czR16lSzIwEAABujAOI+AQEBGjFihCSpT58+2rNnj8mJAACALVEAkaL33ntPbdq0UXx8vNq1a6fLly+bHQkAANgIBTAdctptYFJisVg0e/ZslS9fXn/99Zdef/11JSUlmR0LAADYALeByQBHmEZ+4MAB1a5dW7dv39awYcMUEhJidiQAADLEEfbf/4UjgHioatWqafLkyZKkoUOHat26dSYnAgAAGUUBxH/q2LGjunfvLsMw9Nprr+mvv/4yOxIAAMgACiBSZezYsfL19dWVK1f04osv6s6dO2ZHAgAA6UQBRKrkypVLS5YsUcGCBbV7927169fP7EgAACCdKIBItTJlymjevHmyWCyaNGmS5s6da3YkAACQDhRApEnz5s01ePBgSVK3bt108OBBkxMBAIC0ogCmgyPcB/BhQkJC1LRpU92+fVtBQUGKiYkxOxIAAEgD7gOYAY58H6FLly6pRo0aOnnypNq2baslS5bIYrGYHQsAgP/kyPvvezgCiHQpXLiwlixZIldXVy1btkxffvml2ZEAAEAqUQCRbrVq1dLYsWMlSQMHDtSWLVvMDQQAAFKFAogM6dGjh9q3b6/ExES9/PLLOnv2rNmRAADAf6AAIkMsFoumTJmiKlWq6Ny5c3rllVeUkJBgdiwAAPAQFEBkWJ48ebR06VJ5enpqy5Yt+uijj8yOBAAAHoICCJuoWLGiZs2aJUn64osvtGzZMpMTAQCAB6EAwmaCgoL07rvvSpI6d+6so0ePmpwIAACkhAIImxoxYoTq1aunGzduKCgoSLGxsWZHAgAA/0IBTAdH/yaQh3F1dVVERISKFSumQ4cOKTg4WNxrHAAA+8I3gWQAdxJ/sM2bN6tx48ZKTEzUpEmTFBwcbHYkAAAksf+WOAKITNKgQQONGDFCkvTOO+9o9+7dJicCAAD3UACRaQYMGKA2bdooPj5e7dq10+XLl82OBAAARAFEJrJYLJo9e7bKly+vEydOWL8xBAAAmIsCiEyVP39+LV26VLlz59a6des0fPhwsyMBAODwKIDIdNWqVdPkyZMlScOGDdPatWtNTgQAgGOjACJLdOzYUd27d5dhGGrfvr3++usvsyMBAOCwKIDIMmPHjlXNmjV15coVtWvXTnfu3DE7EgAADokCiCyTK1cuLV68WIUKFdKePXvUr18/syMBAOCQKIDIUmXKlNG8efNksVg0adIkzZkzx+xIAAA4HAogstxzzz2nkJAQSVL37t118OBBkxMBAOBYKIAwxeDBg9WsWTPdvn1bQUFBun79utmRAABwGBRAmMLZ2Vlz585VyZIl9dtvv6lLly7ia6kBAMgaFECYpnDhwlqyZIlcXV21fPlyjR492uxIAAA4BApgOoSHh8vLy0t+fn5mR8n2atWqpXHjxkmSPvjgA23ZssXkRAAA5HwWg/Nu6RYTE6P8+fPr+vXrypcvn9lxsi3DMNSxY0fNnTtXjz76qPbu3avHHnvM7FgAgByK/TdHAGEHLBaLJk+erKpVq+rcuXN6+eWXdffuXbNjAQCQY1EAYRfy5MmjpUuXytPTU1u3btVHH31kdiQAAHIsCiDsRoUKFTR79mxJ0qhRo7Rs2TJzAwEAkENRAGFX2rZtq3fffVeS1LlzZx09etTkRAAA5DwUQNidESNGqFSpUrpx44aCgoIUGxub7PGwsDANHTrUnHAAAOQAFEDYHVdXV7388suSpEOHDik4ONh6k+iwsDCFhITI2dnZzIgAAGRrLmYHAFIycuRIXb58WTNnztTcuXP19NNP6+LFiwoJCVFoaKgGDx5sdkQAALIt7gOYAdxHKPM1a9ZMP/zwg/X3YcOGKSQkxMREAIDsjv03p4Bh59auXSsnp/97m27fvl3Hjh0zMREAANkfBRB2bfjw4UpKSrJe87d27VpVqVJFI0eO5GbRAACkEwUQduvehI/Q0FAlJCSoT58+kqTbt29r4MCBqlmzpnbs2GFySgAAsh8KIOzSP8vfvQkf48aN07BhwyRJuXPn1oEDB1S3bl316tVL169fNzMuAADZCpNAMoCLSDPP0KFD5ezsnOJs37CwMMXExOjixYv6+uuvJUmPPfaYvvrqKwUFBclisWR1XABANsL+mwKYIbyBzLdhwwYFBwfrt99+kyS1aNFC4eHhKl26tMnJAAD2iv03p4CRzTVq1EgHDhzQ4MGD5erqqtWrV8vLy0ujR49WQkKC2fEAALBLFEBke7ly5VJoaKj279+v+vXr69atWxowYID8/Py0e/dus+MBAGB3KIDIMSpXrqxNmzZp+vTpKliwoKKjo+Xv768+ffooJibG7HgAANgNhy6AN27ckJ+fn3x8fPTUU09p2rRpZkdCBjk5OemNN97QL7/8ovbt28swDI0fP15eXl5avny52fEAALALDj0JJDExUXfu3JGHh4du3bqlqlWravfu3XrkkUdS9XwuIrV/69evV48ePfTHH39Iklq3bq3x48erZMmSJicDAJiF/beDHwF0dnaWh4eHJCkuLk6JiYly4D6cIzVp0kQHDx7URx99JBcXF3377beqXLmyxo4dq8TERLPjAQBgCrsugFu2bFFgYKCKFy8ui8WiFStW3LfOxIkTVbZsWeXKlUu+vr7aunVrmsa4du2avL29VaJECb3//vsqXLiwjdLDXuTOnVuffPKJoqOjVbduXcXGxqpfv37y9/dXVFSU2fEAAMhydl0AY2Nj5e3trQkTJqT4eEREhPr27atBgwZp3759ql+/vpo3b64TJ05Y1/H19VXVqlXv+zlz5owkqUCBAtq/f7+OHTum+fPn6/z581ny2pD1qlSpoq1bt2rKlCnKnz+/oqKiVKtWLfXr1083b940Ox4AAFkm21wDaLFYtHz5crVp08a6zN/fXzVq1NCkSZOsyypXrqw2bdpoxIgRaR6jR48eatSokV588cVUrc81BNnXuXPn1K9fPy1cuFCSVLJkSU2YMEGtWrUyORkAILOx/7bzI4APEx8fr6ioKDVt2jTZ8qZNmyoyMjJV2zh//rz19iAxMTHasmWLKlas+MD179y5o5iYmGQ/yJ4effRRLViwQN9//73Kli2rkydPqnXr1goKCtLp06fNjgcAQKbKtgXw0qVLSkxMVLFixZItL1asmM6dO5eqbZw6dUrPPPOMvL29Va9ePfXu3VvVqlV74PojRoxQ/vz5rT/MJM3+nnvuOR06dEgDBw6Us7Ozli1bpsqVK2v8+PFMEgEA5FjZtgDeY7FYkv1uGMZ9yx7E19dX0dHR2r9/vw4cOKAePXo8dP0PP/xQ169ft/6cPHky3blhPzw8PPTZZ59p7969ql27tm7cuKE+ffqoTp06io6ONjseAAA2l20LYOHCheXs7Hzf0b4LFy7cd1TQVtzd3ZUvX75kP8g5qlWrpm3btmnixInKly+fdu/erZo1a2rAgAGKjY01Ox4AADaTbQugm5ubfH19tX79+mTL169fr7p165qUCtmdk5OTevTooSNHjujFF19UYmKiRo8eLS8vL61evdrseAAA2IRdF8CbN28qOjraehru2LFjio6Ott7mpX///po+fbpmzpypI0eOqF+/fjpx4oSCg4MzNVd4eLi8vLzk5+eXqePAPMWLF9eiRYu0atUqlS5dWidOnFDLli310ksvWW8hBABAdmXXt4HZtGmTGjZseN/yTp06afbs2ZL+vhH0yJEjdfbsWVWtWlVjxozRM888kyX5mEbuGGJjYzV06FCNGTNGiYmJypcvn0aMGKHu3bvL2dnZ7HgAgDRi/23nBdDe8QZyLNHR0erWrZt2794t6e/7UE6dOvWhM8cBAPaH/bednwIG7ImPj4+2b9+u8ePHy9PTUzt37pSvr68++OAD3bp1y+x4AACkGgUwHbgG0HE5Ozurd+/eOnz4sNq2bauEhAR9/vnnqlKlitauXWt2PAAAUoVTwBnAIWR899136t27t/WekK+88orGjBmjRx991ORkAIAHYf/NEUAgQ1q1aqXDhw+rX79+cnJy0sKFC1WpUiVNmTJFSUlJZscDACBFFEAgg/Lmzasvv/xSu3btUo0aNXT9+nUFBwerfv36OnTokNnxAAC4DwUQsBFfX1/t3LlTY8aMUZ48eRQZGanq1atr0KBBun37ttnxAACwogCmA5NA8CAuLi7q27evjhw5olatWikhIUGffvqpqlatet+31gAAYBYmgWQAF5Hiv6xYsUK9e/fW6dOnJUnt27fXl19+qaJFi5qcDAAcF/tvjgACmapNmzY6fPiw+vTpI4vFonnz5qlSpUqaPn06k0QAAKahAAKZLF++fBo3bpx27twpHx8fXb16VW+99ZYCAgJ05MgRs+MBABwQBRDIIn5+ftq9e7dGjx4tDw8Pbd26Vd7e3goJCVFcXJzZ8QAADoQCmA5MAkF6ubi4qH///jp8+LBatGihu3fvKiwsTNWqVdOGDRvMjgcAcBBMAskALiJFRhiGoWXLluntt9/W2bNnJUkdO3bUqFGjVKRIEZPTAUDOxf6bI4CAaSwWi4KCgnTkyBH17NlTFotF33zzjSpXrqzZs2eLf5sBADILBRAwWf78+RUeHq7IyEhVq1ZNly9fVpcuXdSwYUP9+uuvZscDAORAFEDATtSuXVt79uzRyJEjlTt3bm3evFnVqlXTsGHDdOfOHbPjAQByEAogYEdcXV313nvv6eeff9Zzzz2n+Ph4DR06VI8//ri6du2a4nPCwsI0dOjQrA0KAMjWKICAHSpbtqzWrFmjhQsXqlixYrp8+bJmzZqlGjVq6PLly9b1wsLCFBISImdnZxPTAgCyG2YBp0N4eLjCw8OVmJioo0ePOvQsImS+a9eu6YMPPtCUKVMkSR4eHpo8ebKOHTumIUOGKDQ0VIMHDzY5JQBkH8wCpgBmCG8gZKXIyEi1adNGFy9etC4bPHiwQkNDTUwFANkP+29OAQPZRt26dXXq1Klkp3u/++47/fnnnyamAgBkRxRAIBv5/PPPlZiYKFdXV0nS/v37VbNmTa1du9bkZACA7IQCCGQT9yZ8hIaGKj4+Xu+++64k6erVq3r++ef1ySefKCkpyeSUAIDsgAIIZAP/LH/3JnyMGjVKISEhkv7+WrmPP/5Ybdu21fXr182MCgDIBiiAQDaQmJiY4mzfYcOGKTQ0VIGBgXJzc9O3336rWrVq6fDhwyYlBQBkBzabBZyQkKBcuXIpOjpaVatWtcUm7R6ziGBPdu3apaCgIJ06dUp58uTR7Nmz1a5dO7NjAYDdYf9twyOALi4uKl26tBITE221SbsVHh4uLy8v+fn5mR0FsKpVq5aioqLUsGFDxcbG6sUXX9TAgQOVkJBgdjQAgJ2x6X0AZ82apcWLF2vu3LkqVKiQrTZrt/gXBOxRQkKCPvzwQ40aNUqS1LhxYy1cuFCFCxc2ORkA2Af23zYugNWrV9fvv/+uu3fvqnTp0sqTJ0+yx/fu3WuroewCbyDYs0WLFqlr166KjY1VqVKltHTpUtWsWdPsWABgOvbfkostN9amTRtbbg5ABrz00kvy8vJS27Zt9dtvv6levXqaNGmSunTpYnY0AIDJ+Cq4DOBfEMgOrl27po4dO2rlypWSpODgYI0bN05ubm4mJwMAc7D/zqTbwERFRWnu3LmaN2+e9u3blxlDAEilAgUKaMWKFQoNDZXFYtHkyZPVoEEDnT592uxoAACT2PQI4IULF/TKK69o06ZNKlCggAzD0PXr19WwYUMtXLhQRYoUsdVQdoF/QSC7WbNmjdq3b69r166paNGiWrx4sZ555hmzYwFAlmL/beMjgG+//bZiYmL0888/68qVK7p69aoOHTqkmJgY9enTx5ZDAUiH559/Xnv27NFTTz2lCxcuqFGjRho3bpy4EgQAHItNjwDmz59fP/744333x9u1a5eaNm2qa9eu2Woou8C/IJBdxcbGqlu3bpo/f74k6bXXXtO0adPk4eFhcjIAyHzsv218BDApKUmurq73LXd1deVL6gE7kidPHs2dO1djx46Vs7Oz5s+frzp16uiPP/4wOxoAIAvYtAA2atRI77zzjs6cOWNddvr0afXr10+NGze25VAAMshiseidd97R//73PxUtWlQHDhxQzZo19f3335sdDQCQyWxaACdMmKAbN26oTJkyeuKJJ1S+fHmVLVtWN27c0Pjx4205lKn4KjjkJA0aNFBUVJRq166ta9euqUWLFgoLC+OoPQDkYJlyH8D169frl19+kWEY8vLy0rPPPmvrIewC1xAgJ7lz54769u2ryZMnS5ICAwM1Z84c5c+f3+RkAGBb7L9tWAATEhKUK1cuRUdHq2rVqrbYpN3jDYScaObMmerZs6fu3LmjJ598UsuXL1eVKlXMjgUANsP+24angF1cXFS6dGklJibaapMATNC1a1f99NNPKlmypH777Tf5+/tr0aJFZscCANiQTa8B/Pjjj/Xhhx/qypUrttwsgCxWs2ZNRUVFqXHjxoqNjdXLL7+s9957TwkJCWZHAwDYgE2vAaxevbp+//133b17V6VLl1aePHmSPb53715bDWUXOISMnC4hIUGDBg3SyJEjJUkNGzZUREREjvtWHwCOhf235GLLjbVp08aWmwNgMhcXF33++eeqWbOmunTpoo0bN8rX11dLly5lFjwAZGM2K4D3Tg117dpVJUuWtNVmAdiBF198UV5eXmrbtq2OHj2qevXqaeLEiXrjjTfMjgYASAebTgIZNWoUk0CAHKpKlSratWuXWrVqpfj4eL355pvq3r277ty5Y3Y0AEAa2XQSSOPGjbVp0yZbbhKAHcmfP7+WL1+u4cOHy2KxaOrUqXrmmWd06tQps6MBANLAptcANm/eXB9++KEOHTokX1/f+yaBtGrVypbDATCBk5OTBg0aJF9fX7322mvatWuXfH19FRERoYCAALPjAQBSwaazgJ2cHnxA0WKx5LjTw8wigqP7888/1bZtW+3fv1/Ozs764osv1LdvX1ksFrOjAcADsf+28SngpKSkB/7ktPIHQCpXrpwiIyPVvn17JSYmqn///mrfvr1iY2PNjgYAeAibFsB/iouLy6xNA7AjHh4emjNnjr766iu5uLhowYIFqlOnjn7//XezowEAHsCmBTAxMVFhYWF6/PHHlTdvXv3555+SpMGDB2vGjBm2HAqAHbFYLHr77be1YcMGFStWTAcPHlTNmjW1evVqs6MBAFJg0wL4ySefaPbs2Ro5cqTc3Nysy5966ilNnz7dlkOZKjw8XF5eXtwIF/iX+vXra+/evapTp46uX7+uwMBADRs2TElJSWZHAwD8g00ngZQvX15TpkxR48aN5enpqf3796tcuXL65ZdfVKdOHV29etVWQ9kFLiIFUhYfH69+/fpp4sSJkqSWLVtqzpw5KlCggLnBAEDsvyUbHwE8ffq0ypcvf9/ypKQk3b1715ZDAbBjbm5uCg8P16xZs+Tu7q5Vq1bJz89PBw8eNDsaAEA2LoBVqlTR1q1b71u+ePFiVa9e3ZZDAcgGOnfurG3btqlUqVL6/fffVbt2bS1cuNDsWADg8Gx6I+ghQ4aoQ4cOOn36tJKSkrRs2TL9+uuv+uabb7Rq1SpbDgUgm/D19VVUVJReffVV/fjjj3r11Ve1Z88effbZZ3Jxsen/BQEAUsmmRwADAwMVERGhNWvWyGKxKCQkREeOHNHKlSvVpEkTWw4FIBspXLiw1q5dq4EDB0qSRo8erSZNmujChQsmJwMAx2TTSSCOhotIgbRbunSpOnfurJs3b6pEiRJaunSpatWqZXYsAA6E/Xcm3ggaAFISFBSkXbt2qWLFijp16pTq16+vadOmmR0LABwKBRBAlqtcubJ27dql1q1bKz4+Xt26ddNbb72lO3fumB0NABwCBRCAKfLly6dly5bpk08+kcVi0fTp01W/fn2dPHnS7GgAkONRAAGYxsnJSR999JG+//57FSxYULt375avr682btxodjQAyNFsWgBv3779wMfOnj1ry6EA5CDNmjVTVFSUfHx8dPHiRTVp0kRffvmlmKMGAJnDpgWwevXq2rt3733LlyxZomrVqtlyKAA5TNmyZbVt2zZ16NBBiYmJevfdd/Xqq6/q5s2bZkcDgBzHpgWwSZMmqlu3rj777DMZhqGbN2+qc+fO6tSpk0JCQmw5FIAcyMPDQ19//bXGjx8vFxcXRUREqE6dOvrtt9/MjgYAOYrN7wO4du1adenSReXLl9eZM2eUL18+zZs3T15eXrYcxi5wHyEg82zbtk3t2rXTuXPnlD9/fs2dO1ctW7Y0OxaAHID9dyZMAmnatKnatm2rbdu26eTJk/rss89yZPkDkLmefvppRUVFqW7durp+/boCAwM1ZMgQJSUlmR0NALI9mxbAP/74Q3Xq1NGqVau0bt06vf/++2rdurXef/993b1715ZDAXAAxYsX18aNG9WrVy9JUmhoqAIDA3X16lWTkwFA9mbTU8Cenp5q0aKFJk+erAIFCkiSIiMj1bFjR3l6emrfvn22GsoucAgZyDpff/21goODFRcXpyeeeELLli1jchmAdGH/beMjgBMnTtTChQut5U+S6tatq3379qlGjRq2HAqAg+nUqZMiIyNVpkwZ69mGBQsWmB0LALIlmxbADh06pLjc09NTM2bMsOVQNnXr1i2VLl1aAwYMMDsKgIeoXr269uzZo6ZNm+rWrVt67bXX1L9/fy4xAYA0csmMjR4+fFgnTpxQfHy8dZnFYlFgYGBmDJdhn3zyifz9/c2OASAVHnnkEa1Zs0aDBw/WiBEjNGbMGO3du1cREREqVqyY2fEAIFuwaQH8888/9cILL+jgwYOyWCzWu/hbLBZJUmJioi2Hs4nffvtNv/zyiwIDA3Xo0CGz4wBIBWdnZ3366aeqWbOmOnXqpM2bN8vX11dLlixR7dq1zY4HAHbPpqeA33nnHZUtW1bnz5+Xh4eHfv75Z23ZskU1a9bUpk2b0ry9LVu2KDAwUMWLF5fFYtGKFSvuW2fixIkqW7ascuXKJV9fX23dujVNYwwYMEAjRoxIczYA5mvbtq12796tSpUq6fTp03rmmWc0ZcoUvkIOAP6DTQvg9u3bFRoaqiJFisjJyUlOTk6qV6+eRowYoT59+qR5e7GxsfL29taECRNSfDwiIkJ9+/bVoEGDtG/fPtWvX1/NmzfXiRMnrOv4+vqqatWq9/2cOXNG3377rSpUqKAKFSqk+zUDMFelSpW0c+dOvfDCC7p7966Cg4P11ltvKS4uzuxoAGC3bHobmIIFCyoqKkrlypXTE088oenTp6thw4b6448/9NRTT+nWrVvpD2qxaPny5WrTpo11mb+/v2rUqKFJkyZZl1WuXFlt2rRJ1VG9Dz/8UHPnzpWzs7Nu3rypu3fv6t13333g19bduXNHd+7csf4eExOjkiVLOvQ0csBeGIahzz//XIMGDVJSUpJq1qyppUuXqlSpUmZHA2BnuA2MjY8AVq1aVQcOHJD0dzkbOXKktm3bptDQUJUrV86WQyk+Pl5RUVFq2rRpsuVNmzZVZGRkqrYxYsQInTx5UsePH9eoUaP01ltvPfQ7i0eMGKH8+fNbf0qWLJmh1wDAdiwWiz744AOtXbtWhQoV0p49e+Tr66sNGzaYHQ0A7I5NC+DHH39s/Zqm4cOH66+//lL9+vW1Zs0affXVV7YcSpcuXVJiYuJ9s/6KFSumc+fO2XSsez788ENdv37d+nPy5MlMGQdA+jVp0kRRUVGqXr26Ll26pCZNmmjUqFFcFwgA/2DTWcDNmjWz/vdy5crp8OHDunLligoWLGidCWxr/96uYRjpGqtz587/uY67u7vc3d3TvG0AWatMmTLatm2bgoOD9c033+i9997Trl27NHPmTOXNm9fseABgOpseAUxJoUKFMqX8FS5cWM7Ozvcd7btw4QL3AgOg3Llza/bs2QoPD5eLi4sWL14sf39/HT161OxoAGA6mxwB7Nq1a6rWmzlzpi2GkyS5ubnJ19dX69ev1wsvvGBdvn79erVu3dpm46QkPDxc4eHhdnlfQwD/x2KxqGfPnvLx8VG7du10+PBh+fn5ac6cOWrVqpXZ8QDANDaZBezk5KTSpUurevXqD73OZvny5Wna7s2bN/X7779L+vsroL788ks1bNhQhQoVUqlSpRQREaEOHTpo8uTJqlOnjqZOnapp06bp559/VunSpTP0mlKDWURA9nH27Fm99NJL+umnnyRJgwcP1pAhQ+Ts7GxyMgBZjf23jQpgz549tXDhQpUqVUpdu3bV66+/rkKFCmU43KZNm9SwYcP7lnfq1EmzZ8+W9PeNoEeOHKmzZ8+qatWqGjNmjJ555pkMj50avIGA7CU+Pl4DBgzQ+PHjJUnNmzfX3LlzbfL/VwCyD/bfNrwP4J07d7Rs2TLNnDlTkZGRatGihd544w01bdo00yaAmI03EJA9zZkzR926dVNcXJzKlSunZcuWydvb2+xYALII+28bTgJxd3fXq6++qvXr1+vw4cOqUqWKevbsqdKlS+vmzZu2GsYuhIeHy8vLS35+fmZHAZAOHTp0UGRkpMqUKaM///xTderU0bx588yOBQBZJlNmAVssFlksFhmGYb0vYE7Sq1cvHT58WLt37zY7CoB0ql69uqKiotSsWTPdvn1br7/+uvr27au7d++aHQ0AMp3NCuCdO3e0YMECNWnSRBUrVtTBgwc1YcIEnThxgvtuAbBLhQoV0urVqzVo0CBJ0rhx4/Tkk0+meDP5sLAwDR06NIsTAkDmsEkB7Nmzpx577DF9/vnnatmypU6dOqXFixfr+eefl5NTpt9qEADSzdnZWcOHD9fy5cvl5uamv/76SxUqVND27dut64SFhSkkJIQZwwByDJvdBqZUqVKqXr36Qyd8LFu2LKND2RUuIgVyll9//VX16tXTpUuX5OTkpPHjx+vSpUsaMmSIQkNDNXjwYLMjArAB9t82uhF0x44dc+xM35RwI2ggZ6pYsaL+/PNP1a5dW4cPH1avXr0k/f094JQ/ADmJzW4D44j4FwSQMxmGIVdXV+s/8kqWLKn58+erXr16JicDYAvsv7Pgu4ABILsZPny4EhMT5erqKkk6efKkGjRooNDQUI78A8gRKIAA8A/3JnyEhoYqPj7eOkM4KSlJQ4YMUaNGjXTy5EmTUwJAxlAAAeD/+2f5u3fN3/DhwxUaGipJcnNz05YtW+Tt7Z3m7zYHAHtik0kgAJATJCYmpjjb997vFy9e1Pbt27Vnzx61bdtWPXr00OjRo5U7d24z4gJAujEJJB3+OQv46NGjDn0RKeBo4uPj9fHHH+uLL76QJFWtWlULFixQ1apVTU4GILWYBEIBzBDeQIDj+uGHH9SxY0edP39euXLl0pgxY9S9e3eHuiUWkF2x/+YaQABIl6ZNm2r//v1q1qyZ4uLi1KNHD7Vr105XrlwxOxoA/CcKIACkU7FixbRmzRqNHj1arq6uWrZsmXx8fLR161azowHAQ1EAASADnJyc1L9/f23fvl3ly5fXyZMnFRAQoKFDhyohIcHseACQIgogANiAr6+v9u7dq06dOikpKUnDhg1To0aNdOLECbOjAcB9KIAAYCOenp6aPXu25s6dq7x582rr1q3y8fHRsmXLzI4GAMlQANMhPDxcXl5e8vPzMzsKADvUvn17RUdHy8/PT1evXlVQUJB69Oih27dvmx0NACRxG5gMYRo5gIeJj49XSEiIPv/8c0lSlSpVtHDhQu4ZCJiM/TdHAAEg07i5uemzzz7TDz/8oGLFiunnn3+Wn5+fJk2aJP7tDcBMFEAAyGRNmjTRgQMH1Lx5c8XFxalnz55q27Yt9wwEYBoKIABkgaJFi2rVqlUaM2aMXF1dtWLFCnl7e2vLli1mRwPggCiAAJBFnJyc1LdvX+3YsUNPPvmkTp06pYYNG2rIkCHcMxBAlqIAAkAWq1Gjhvbu3asuXbooKSlJoaGhCggI0F9//WV2NAAOggIIACbImzevZs6cqfnz58vT01Pbtm2Tj4+Pli5danY0AA6AApgO3AcQgK28+uqrio6OVq1atXTt2jW1a9dO3bt3161bt8yOBiAH4z6AGcB9hADYyt27d633DDQMQ5UrV9bChQtVrVo1s6MBOQ77b44AAoBdcHV11YgRI/TDDz/o0Ucf1ZEjR1SrVi2Fh4dzz0AANkcBBAA78uyzz+rAgQN6/vnndefOHfXu3VsvvPCCLl++bHY0ADkIBRAA7EyRIkW0atUqjR07Vm5ubvr222/l7e2tTZs2mR0NQA5BAQQAO2SxWPTOO+9ox44dqlixok6fPq1GjRpp8ODB3DMQQIZRAAHAjlWvXl1RUVHq2rWrDMPQ8OHD1aBBA+4ZCCBDKIAAYOfy5MmjGTNmaMGCBcqXL58iIyPl7e2txYsXmx0NQDZFAQSAbOKVV15RdHS0ateurevXr+ull15St27dFBsba3Y0ANkMBRAAspGyZctqy5Yt+uijj2SxWDRt2jTVrFlT+/fvNzsagGyEApgOfBMIADO5urrqk08+0Y8//qjHHntMv/zyi/z9/TVhwgTuGQggVfgmkAzgTuIAzHbp0iV16dJFq1atkiQFBgZq5syZKly4sMnJAPvF/psjgACQrRUuXFjfffedvvrqK7m5uWnlypXy9vbWxo0bzY4GwI5RAAEgm7NYLHr77be1a9cuVapUSWfOnFHjxo318ccf6+7du2bHA2CHKIAAkEN4e3trz549evPNN2UYhj755BM1aNBAx48fNzsaADtDAQSAHCRPnjyaNm2aIiIilD9/fm3fvl0+Pj5atGiR2dEA2BEKIADkQC+99JKio6NVp04dXb9+XS+//LLefPNN7hkIQBIFEAByrDJlymjLli36+OOPZbFYNGPGDPn6+io6OtrsaABMRgEEgBzMxcVFYWFh+t///qfixYvr119/lb+/v7766ivuGQg4MAogADiAhg0bav/+/WrVqpXi4+P1zjvvqFWrVrp06ZLZ0QCYgAIIAA6icOHCWrFihSZMmCB3d3etWrVK1apV04YNG8yOBiCLUQABwIFYLBb16tVLu3btUuXKlXX27Fk9++yz+uijj7hnIOBAKIAA4ICqVaumPXv2qFu3bjIMQyNGjNAzzzyjY8eOmR0NQBagAAKAg/Lw8NCUKVO0ePFiFShQQDt27JCPj48iIiLMjgYgk1EAAcDBtWvXTtHR0Xr66acVExOjV155RW+88Qb3DARyMApgOoSHh8vLy0t+fn5mRwEAmyhdurQ2bdqkkJAQOTk5aebMmSpdurR69uyZ4vphYWEaOnRo1oYEYDMUwHTo1auXDh8+rN27d5sdBQBsxsXFRcOGDdOGDRv0+OOP6/Lly5o0aZKef/75ZPcMDAsLU0hIiJydnU1MCyAjKIAAgGQaNGig/fv3q3Xr1pKk77//XpUqVdLFixet5S80NFSDBw82OSmA9LIY3Ao+3WJiYpQ/f35dv35d+fLlMzsOANiUYRiaNGmS+vTpo8TEROtyyh+yO/bfHAEEADyAxWJRz549tW/fPlksFutyf39/E1MBsAUKIADgoVasWCHDMKwl8LnnntO0adNMTgUgIyiAAIAH+uc1f3FxcfL29pZhGOrWrZs++OADJSUlmR0RQDpQAAEAKfr3hA83Nzft27dPDRs2lCR9/vnnevXVVxUXF2dyUgBpRQEEAKQoMTHxvgkfFotFGzZsUNu2beXk5KRFixapcePGunjxoolJAaQVs4AzgFlEABzZpk2b9MILL+jatWt64okntGbNGlWoUMHsWMB/Yv/NEUAAQDoFBARo+/btKlu2rP744w/VqVNHW7duNTsWgFSgAAIA0q1SpUrasWOH/P39deXKFT377LOaP3++2bEA/AcKIAAgQ4oWLaqNGzcqKChI8fHxat++vYYPHy6uMALsFwUQAJBhuXPn1qJFizRgwABJ0uDBg9W1a1fFx8ebnAxASiiAAACbcHJy0hdffKFJkybJyclJs2fPVvPmzXXt2jWzowH4FwogAMCmgoODtWrVKuXNm1cbNmzQ008/rePHj5sdC8A/UAABADbXvHlz/fTTT3r88cd1+PBh1a5dW7t37zY7FoD/jwIIAMgU3t7e2rFjh7y9vXX+/Hk1aNBAK1asMDsWAFEAAQCZqESJEtq6dauaN2+u27dvq23btho7diwzhAGTUQABAJnK09NT3333nYKDg2UYhvr166c+ffooISHB7GiAw3L4Auji4iIfHx/5+PjozTffNDsOAORILi4umjhxokaNGiWLxaIJEybohRde0M2bN82OBjgkh/8u4MKFC+vSpUvpei7fJQgAabd06VK9/vrriouLU/Xq1bVq1SoVL17c7FhwIOy/OQIIAMhiQUFB2rhxo4oUKaJ9+/bJ399fBw8eNDsW4FDsugBu2bJFgYGBKl68uCwWS4qzxyZOnKiyZcsqV65c8vX1TfMXkcfExMjX11f16tXT5s2bbZQcAPAwtWvX1o4dO1SpUiWdOnVKTz/9tNatW2d2LMBh2HUBjI2Nlbe3tyZMmJDi4xEREerbt68GDRqkffv2qX79+mrevLlOnDhhXcfX11dVq1a97+fMmTOSpOPHjysqKkqTJ09Wx44dFRMTkyWvDQAcXbly5RQZGamAgADduHFDLVq00NSpU82OBTiEbHMNoMVi0fLly9WmTRvrMn9/f9WoUUOTJk2yLqtcubLatGmjESNGpHmM5s2bKywsTDVr1kzx8Tt37ujOnTvW32NiYlSyZEmHvoYAADIqPj5eb775pubMmSNJGjhwoD799FM5Odn1MQpkY1wDaOdHAB8mPj5eUVFRatq0abLlTZs2VWRkZKq2cfXqVWuhO3XqlA4fPqxy5co9cP0RI0Yof/781p+SJUum/wUAACRJbm5u+vrrrzV06FBJ0ueff65XXnlFt2/fNjcYkINl2wJ46dIlJSYmqlixYsmWFytWTOfOnUvVNo4cOaKaNWvK29tbLVu21Lhx41SoUKEHrv/hhx/q+vXr1p+TJ09m6DUAAP5msVg0ZMgQffPNN3J1ddXixYvVuHFjXbx40exoQI7kYnaAjLJYLMl+NwzjvmUPUrdu3TTNPHN3d5e7u3ua8gEAUq9Dhw4qWbKkXnjhBW3fvl116tTR6tWrVbFiRbOjATlKtj0CWLhwYTk7O993tO/ChQv3HRUEAGQfAQEB2r59u8qWLas//vhDderU0ZYtW8yOBeQo2bYAurm5ydfXV+vXr0+2fP369apbt26mjh0eHi4vLy/5+fll6jgA4KgqVaqkHTt2yN/fX1evXlWTJk00b948s2MBOYZdF8CbN28qOjpa0dHRkqRjx44pOjraepuX/v37a/r06Zo5c6aOHDmifv366cSJEwoODs7UXL169dLhw4e1e/fuTB0HABxZ0aJFtXHjRgUFBSk+Pl6vv/66hg8frmxy8wrArtn1bWA2bdqkhg0b3re8U6dOmj17tqS/bwQ9cuRInT17VlWrVtWYMWP0zDPPZEk+ppEDQOZLSkrSwIEDNWrUKElS586dNWXKFLm5uZmcDNkV+287L4D2jjcQAGSdyZMnq1evXkpKSlKjRo20dOlSFShQwOxYyIbYf9v5KWB7xTWAAJD1goODtWrVKuXNm1cbNmxQ3bp1dfz4cbNjAdkSRwAzgH9BAEDW279/v1q0aKHTp0+raNGiWrlypWrVqmV2LGQj7L85AggAyGa8vb21Y8cOeXt768KFCwoICNDy5cvNjgVkKxRAAEC2U6JECW3dulXNmzfX7du3FRQUpDFjxjBDGEglCiAAIFvy9PTUd999p+DgYBmGof79++vtt99WQkKC2dEAu0cBTAcmgQCAfXBxcdHEiRM1atQoWSwWhYeHq02bNrp586bZ0QC7xiSQDOAiUgCwH0uXLtXrr7+uuLg4Va9eXatWrVLx4sXNjgU7xP6bI4AAgBwiKChIGzduVJEiRbRv3z75+/vrwIEDZscC7BIFEACQY9SuXVs7duxQpUqVdOrUKdWrV0/r1q0zOxZgdyiAAIAcpVy5coqMjFRAQIBu3LihFi1aaOrUqWbHAuwKBRAAkOMULFhQ69atU4cOHZSYmKju3btr4MCBSkpKMjsaYBcogOnALGAAsH9ubm76+uuvNXToUEnSyJEj9corr+j27dvmBgPsALOAM4BZRACQPcyZM0dvvPGG7t69qzp16ujbb79VkSJFzI4Fk7D/5gggAMABdOjQQT/88IMKFCig7du3q3bt2vr111/NjgWYhgIIAHAIAQEB2r59u8qWLas///xTderU0ZYtW8yOBZiCAggAcBiVKlXSjh075O/vr6tXr6pJkyaaN2+e2bGALEcBBAA4lKJFi2rjxo0KCgpSfHy8Xn/9dYWFhYlL4uFIKIDpwCxgAMjecufOrUWLFmnAgAGSpJCQEHXt2lXx8fEmJwOyBrOAM4BZRACQ/U2ePFm9evVSUlKSGjVqpKVLl6pAgQJmx0ImYv/NEUAAgIMLDg7WqlWrlDdvXm3YsEF169bV8ePHzY4FZCoKIADA4TVv3lw//fSTHn/8cR05ckT+/v7atWuX2bGATEMBBABAkre3t3bs2CFvb29duHBBAQEBWr58udmxgExBAQQA4P8rUaKEtm7dqubNm+v27dsKCgrSl19+yQxh5DgUQAAA/sHT01PfffedgoODZRiG3n33XfXu3VsJCQlmRwNshgIIAMC/uLi4aOLEiRo1apQsFosmTpwoLy8vDR48OMX1w8LCNHTo0KwNCWQABTAduA8gAOR8FotF7777rhYvXqxcuXLpt99+0/Dhw/Xee+8lWy8sLEwhISFydnY2KSmQdtwHMAO4jxAAOIYdO3aoVatWunjxoiSpZ8+eCg8Pt5a/0NDQBx4dhP1h/00BzBDeQADgOP7880+1aNFCv/zyi6S/TxMnJCRQ/rIh9t+cAgYAIFXKlSunyMhIBQQESJJ1Usjy5cs1ZMgQ7dmzR0lJSSYmBFKPAggAQCoVLFhQDRo0kPT3NYKStG/fPoWGhsrPz08lSpRQt27dtHLlSt26dcvMqMBDUQABAEilsLAwDRs2TKGhoUpKStLAgQMlSV5eXsqbN6/Onj2radOmqVWrVnrkkUfUsmVLTZkyRadPnzY5OZAc1wBmANcQAIDjeNCEj3vLQ0JC9PTTT2vlypVauXKl/vrrr2TPr1GjhgIDAxUYGKgaNWpYjyAi67H/pgBmCG8gAHAcQ4cOlbOzc4oTPsLCwpSYmGi9F6BhGDp06JC1DO7cuTPZt4kUL15cLVu2VMuWLdW4cWN5eHhk1cuA2H9LFMAM4Q0EAEiNCxcuaM2aNVq5cqV++OEH3bx50/pY7ty51bhxYwUGBqply5YqXry4iUkdA/tvCmCG8AYCAKTVnTt3tGnTJuvRwRMnTiR73NfX13qquHr16pwqzgTsvymAGcIbCACQEYZh6ODBg1q5cqVWrVr1wFPFgYGBaty4sXLnzm1i2pyD/TcFMF3Cw8MVHh6uxMREHT161KHfQAAA2zl//nyyU8WxsbHWx3Lnzq1nn33Weqr4scceMzFp9kYBpABmCG8gAEBmiYuLS3aq+OTJk8ker1mzprUMcqo4bdh/UwAzhDcQACAr/PNU8cqVK7Vr165kp4off/xx66niRo0acar4P7D/pgBmCG8gAIAZzp8/r9WrV1tPFf/zW0c8PDysp4pbtGjBqeIUsP+mAGYIbyAAgNni4uK0ceNGrVq16qGnigMDA+Xj48OpYrH/liiAGcIbCABgTwzD0IEDB5KdKv6nEiVKJDtVnCtXLpOSmov9NwUwQ3gDAQDs2blz57R69WqtWrUqxVPFTZo0sZ4qfvTRR01MmrXYf1MAM4Q3EAAgu7h3qvje0cFTp04le9zPz896qtjb2ztHnypm/00BzBDeQACA7MgwDO3fv99aBnfv3p3s8ZIlS1pPFTds2DDHnSpm/00BzBDeQACAnODeqeKVK1dq/fr1Of5UMftvCmCG8AYCAOQ0t2/ftp4qXrVq1X2nimvVqmU9VVytWrVseaqY/TcFMEN4AwEAcjLDMBQdHW0tg/8+VVyqVCnrqeKAgIBsc6qY/TcFMEN4AwEAHMnZs2eTnSq+ffu29bE8efIkO1VcrFgxE5M+HPtvCmCG8AYCADiq27dva8OGDdajg6dPn7Y+ZrFYkp0qfuqpp+zqVDH7bwpghvAGAgDg71PF+/bts34byZ49e5I9XqpUKQUGBqply5Zq2LCh3N3dTUr6N/bfFMB0CQ8PV3h4uBITE3X06FGHfgMBAPBvZ86csZ4q/vHHH+87Vdy0aVPrqeKiRYtaHxs6dKicnZ01ePDg+7YZFhamxMREDR06NMP5KIAUwAzhDQQAwMPdvn1b//vf/6ynis+cOWN9zGKxyN/f33qqePny5RoyZIhCQ0OTlcCwsDCFhITctzy92H9TADOENxAAAKl371TxvRtQR0VFJXu8dOnSKlasmHbt2qWQkBANGzbM5uVPYv8tUQAzhDcQAADpd+bMGet1gz/++KPi4uKSPe7k5KSkpCSblj+J/bdEAcwQ3kAAANjGrVu3ks0qvneq2NnZWQkJCTYdi/235GR2AAAAAA8PD7Vs2VJTpkxR9+7dJf1d/hITExUWFmZyupyHAggAAOxGWFiYdSJIQkKCQkNDFRISQgm0MRezAwAAAEgpz/a9958hISHJfkfGUAABAIBdSExMTHHCx73fExMTzYiVIzEJJAO4iBQAgOyH/TfXAAIAADgcCiAAAICDoQACAAA4GAogAACAg6EAAgAAOBgKIAAAgIOhAAIAADgYCiAAAICDoQACAAA4GAogAACAg+G7gDPg3rfoxcTEmJwEAACk1r39tiN/Gy4FMANu3LghSSpZsqTJSQAAQFrduHFD+fPnNzuGKSyGI9ffDEpKStKZM2fUqFEj7dmzJ1XP8fPz0+7du/9zvZiYGJUsWVInT5502C+q/qfU/t3MktX5Mms8W203I9tJz3PT+pzUrM9n8H58DrNmPFtsN6PbyOzPodmfQcMwdOPGDRUvXlxOTo55NRxHADPAyclJJUqUkIuLS6rfnM7Ozml6I+fLl4+dj9L+d8tqWZ0vs8az1XYzsp30PDetz0nL+nwG/w+fw6wZzxbbzeg2MvtzaA+fQUc98nePY9ZeG+vVq1emrIv/Y+9/t6zOl1nj2Wq7GdlOep6b1ufY+/vJXtn7343Poe22kdmfQ3t/LzkCTgHbqZiYGOXPn1/Xr1+3639xAzkVn0HAXHwGMxdHAO2Uu7u7hgwZInd3d7OjAA6JzyBgLj6DmYsjgAAAAA6GI4AAAAAOhgIIAADgYCiAAAAADoYCCAAA4GAogAAAAA6GApgNvfDCCypYsKDatWtndhTA4Zw8eVIBAQHy8vJStWrVtHjxYrMjAQ7nxo0b8vPzk4+Pj5566ilNmzbN7EjZDreByYY2btyomzdv6uuvv9aSJUvMjgM4lLNnz+r8+fPy8fHRhQsXVKNGDf3666/KkyeP2dEAh5GYmKg7d+7Iw8NDt27dUtWqVbV792498sgjZkfLNjgCmA01bNhQnp6eZscAHNJjjz0mHx8fSVLRokVVqFAhXblyxdxQgINxdnaWh4eHJCkuLk6JiYnieFbaUACz2JYtWxQYGKjixYvLYrFoxYoV960zceJElS1bVrly5ZKvr6+2bt2a9UGBHMqWn8E9e/YoKSlJJUuWzOTUQM5ii8/htWvX5O3trRIlSuj9999X4cKFsyh9zkABzGKxsbHy9vbWhAkTUnw8IiJCffv21aBBg7Rv3z7Vr19fzZs314kTJ7I4KZAz2eozePnyZXXs2FFTp07NithAjmKLz2GBAgW0f/9+HTt2TPPnz9f58+ezKn7OYMA0kozly5cnW1arVi0jODg42bJKlSoZH3zwQbJlGzduNIKCgjI7IpCjpfczGBcXZ9SvX9/45ptvsiImkKNlZF94T3BwsLFo0aLMipgjcQTQjsTHxysqKkpNmzZNtrxp06aKjIw0KRXgOFLzGTQMQ507d1ajRo3UoUMHM2ICOVpqPofnz59XTEyMJCkmJkZbtmxRxYoVszxrduZidgD8n0uXLikxMVHFihVLtrxYsWI6d+6c9fdmzZpp7969io2NVYkSJbR8+XL5+flldVwgx0nNZ3Dbtm2KiIhQtWrVrNctzZkzR0899VRWxwVypNR8Dk+dOqU33nhDhmHIMAz17t1b1apVMyNutkUBtEMWiyXZ74ZhJFu2bt26rI4EOJSHfQbr1aunpKQkM2IBDuVhn0NfX19FR0ebkCrn4BSwHSlcuLCcnZ2THe2TpAsXLtz3LyEAtsdnEDAfn8OsQQG0I25ubvL19dX69euTLV+/fr3q1q1rUirAcfAZBMzH5zBrcAo4i928eVO///679fdjx44pOjpahQoVUqlSpdS/f3916NBBNWvWVJ06dTR16lSdOHFCwcHBJqYGcg4+g4D5+BzaATOnIDuijRs3GpLu++nUqZN1nfDwcKN06dKGm5ubUaNGDWPz5s3mBQZyGD6DgPn4HJqP7wIGAABwMFwDCAAA4GAogAAAAA6GAggAAOBgKIAAAAAOhgIIAADgYCiAAAAADoYCCAAA4GAogAAAAA6GAggAAOBgKIAAAAAOhgIIACYICAhQ3759M32cy5cvq2jRojp+/Himj/Uw7dq105dffmlqBgD/hwII5BCdO3dWmzZtzI5h97KqeP2XZcuWKSwsLNPHGTFihAIDA1WmTBlJ0pYtWxQYGKjixYvLYrFoxYoVD3xu586d9cEHHyRbFhkZKYvFoueeey5NOUJCQvTJJ58oJiYmrS8BQCagAAKwmfj4eLMjZBuFChWSp6dnpo5x+/ZtzZgxQ2+++aZ1WWxsrLy9vTVhwoSHPjcpKUmrV69W69atky2fOXOmXn31VW3cuFEnTpxIdZZq1aqpTJkymjdvXtpeBIBMQQEEcqiAgAD16dNH77//vgoVKqRHH31UQ4cOlSRNmTJFjz/+uJKSkpI9p1WrVurUqZP1d8MwNHLkSJUrV065c+eWt7e3lixZkmyM3r17q3///ipcuLCaNGkiSVqyZImeeuop5c6dW4888oieffZZxcbGpmqb/3b8+HFZLJb7fgICAh74nAeN37lzZ23evFnjxo2zbuf48eOpynTvtfbu3VsFChTQI488oo8//liGYaQ5x73t3TsSmZrXmNa/myR9//33cnFxUZ06dazLmjdvruHDh6tt27YPfe62bdvk5OQkf39/67LY2FhFRESob9++atSokWbPnp3sOZ9++mmKr+Peqd9WrVppwYIFDx0XQBYxAOQInTp1Mlq3bm39vUGDBka+fPmMoUOHGkePHjW+/vprw2KxGD/88INx+fJlw83Nzfjxxx+t61+5csVwc3Mz1q1bZ1320UcfGZUqVTLWrl1r/PHHH8asWbMMd3d3Y9OmTdYx8ubNa7z33nvGL7/8Yhw5csQ4c+aM4eLiYnz55ZfGsWPHjAMHDhjh4eHGjRs3UrXNf0tISDDOnj1r/dm3b5/xyCOPGIMHD05x/YeNf+3aNaNOnTrGW2+9Zd1eQkJCqjLde63vvPOO8csvvxhz5841PDw8jKlTp6Y5x73tvfPOO6l+jWn9uxmGYbzzzjvGc88998DHJRnLly9P8bEBAwYYb7zxRrJlM2bMMMqXL28YhmHMmTPHKFOmjJGUlGR9PCYmJtnr6NGjh1G6dGnj5MmThmEYxpo1awx3d3cjLi7ugZkAZA0KIJBDpFQA69Wrl2wdPz8/Y+DAgYZhGEarVq2Mrl27Wh+bMmWK8eijjxoJCQmGYRjGzZs3jVy5chmRkZHJtvHGG28Yr776qnUMHx+fZI9HRUUZkozjx4/flzE123yY27dvG/7+/kbLli2NxMTEFNd52Pj3Mt8rXmnJ1KBBA6Ny5crJCs/AgQONypUr2yTHw15jev9urVu3Tva/8b89rABWqFDB+O6775Itq1u3rjFkyBDDMAzjxo0bhoeHh7F+/foUnz906FCjdOnSyV7//v37H/o3AZB1XMw8+gggc1WrVi3Z74899pguXLggSWrfvr26deumiRMnyt3dXfPmzdMrr7wiZ2dnSdLhw4cVFxdnPa17T3x8vKpXr279vWbNmske9/b2VuPGjfXUU0+pWbNmatq0qdq1a6eCBQumepsP8sYbb+jGjRtav369nJxSvoLlYeOnJC2ZateuLYvFYv29Tp06Gj16tBITE61/t/TmeNhrTO/f7fbt28qVK9dDx0vJkSNHdOrUKT377LPWZb/++qsiIyM1a9YsSVLevHnVunVrzZw5M9l6kjRs2DDNmjVLmzdvVunSpa3Lc+fOLUm6detWmjMBsC0KIJCDubq6JvvdYrFYr/sLDAy0Xujv5+enrVu3JrtNx731Vq9erccffzzZdtzd3a3/PU+ePMkec3Z21vr16xUZGakffvhB48eP16BBg7Rz585UbzMlw4cP19q1a7Vr166HTp542Phly5a9b/2MZHqYtOZ42GtMb8bChQvr6tWrac7+3XffqUmTJtbCJkkzZsyQn5+fKlSoYF3Wvn17BQUF6erVq9Zi+6DyJ0lXrlyRJBUpUiTNmQDYFpNAAAeVO3dutW3bVvPmzdOCBQtUoUIF+fr6Wh/38vKSu7u7Tpw4ofLlyyf7KVmy5EO3bbFY9PTTT2vYsGHat2+f3NzctHz58nRvc+nSpQoNDdWiRYv0xBNP/Odre9D4kuTm5qbExMR0vc4dO3bc9/uTTz5539G/1ORIy2tM79+tevXqOnz48IP/UA/w7bffqlWrVtbfExIS9M033+i1115Ltl6zZs3k6elpndn7sPInSYcOHVKJEiVUuHDhNGcCYFscAQQcWPv27RUYGKiff/5Zr7/+erLHPD09NWDAAPXr109JSUmqV6+eYmJiFBkZqbx58yabLfxPO3fu1P/+9z81bdpURYsW1c6dO3Xx4kVVrlw5Xds8dOiQOnbsqIEDB6pKlSo6d+6cpL+LXKFChdI0viSVKVNGO3fu1PHjx5U3b14VKlQo1ZlOnjyp/v37q3v37tq7d6/Gjx+v0aNHp/nvkNbXmN7/LZo1a6YPP/ww2RG6mzdv6vfff7euc+zYMUVHR6tQoUIqVaqULly4oN27dye7P+CqVat0/vx5Va1aVYcOHUo2Rv369TVjxgxdu3ZNEyZM0KpVq+Tu7m59DQULFrQepdy6dauaNm2aYlYAWczsixAB2EZKk0D+PcmgdevWRqdOnay/JyQkGI899pghyfjjjz/u22ZSUpIxbtw4o2LFioarq6tRpEgRo1mzZsbmzZsfOMbhw4eNZs2aGUWKFDHc3d2NChUqGOPHj0/1Nv9t1qxZhqT7fho0aJDi+v81/q+//mrUrl3byJ07tyHJOHbsWKoyNWjQwOjZs6cRHBxs5MuXzyhYsKDxwQcfJJsUkpYc//zbpeY1pvXvdk/t2rWNyZMnW3/fuHFjimPde19Mnz7dePrpp5Nto2XLlik+558/efPmTXH5jh07DMP4e3JLvnz5jO3btz80L4CsYTGMh9zECgAg6e/79vn4+Gjs2LFmR0mTNWvWaMCAATp06NADJ878U6tWrVSvXj29//77Ns0RHh6ub7/9Vj/88INNtwsgfTgFDAA52PPPP6/ffvtNp0+f/s9rNyWpXr16evXVV22ew9XVVePHj7f5dgGkD0cAASAVsusRQABICQUQAADAwXAbGAAAAAdDAQQAAHAw/w/6LSt783hQaQAAAABJRU5ErkJggg==' width=640.0/>\n",
       "            </div>\n",
       "        "
      ],
      "text/plain": [
       "Canvas(toolbar=Toolbar(toolitems=[('Home', 'Reset original view', 'home', 'home'), ('Back', 'Back to previous …"
      ]
     },
     "metadata": {},
     "output_type": "display_data"
    }
   ],
   "source": [
    "inv_z = np.linspace(0, max(inv_dz_vals), 1000)\n",
    "plt.figure()\n",
    "plt.title('Max error for $\\\\lambda = 3$')\n",
    "plt.ylabel('Max error')\n",
    "plt.xlabel('Inverse z step size $(1 / \\Delta z)$')\n",
    "plt.xlim\n",
    "plt.loglog(inv_dz_vals, real_max_errors, marker='x', color='black', label='Max error/step size data points')\n",
    "plt.show()"
   ]
  },
  {
   "cell_type": "markdown",
   "id": "0776cf68-5704-4f85-ac50-a8fca2b0bb72",
   "metadata": {
    "tags": []
   },
   "source": [
    "# NEXT CELL"
   ]
  },
  {
   "cell_type": "markdown",
   "id": "1b1e722c-99d0-4a2d-a7c5-ee283dd16406",
   "metadata": {
    "tags": []
   },
   "source": [
    "### STORING DATA"
   ]
  },
  {
   "cell_type": "code",
   "execution_count": 143,
   "id": "59489390-f0aa-4930-96bb-7df55dd95f82",
   "metadata": {},
   "outputs": [
    {
     "name": "stdout",
     "output_type": "stream",
     "text": [
      "   Real Errors     dt      dz  lambda  Entire Errors\n",
      "0     0.013606  0.600  0.1000     6.0       9.607894\n",
      "1     0.001275  0.300  0.0500     6.0       9.607894\n",
      "2     0.000386  0.150  0.0250     6.0       9.607894\n",
      "3     0.000080  0.060  0.0100     6.0       9.607894\n",
      "4     0.000015  0.030  0.0050     6.0       9.607894\n",
      "5     0.000009  0.015  0.0025     6.0       9.607894\n",
      "6     0.000005  0.006  0.0010     6.0       9.607894\n",
      "   Real Errors     dt      dz  lambda  Entire Errors\n",
      "0     0.021615  1.000  0.1000    10.0       9.607894\n",
      "1     0.004166  0.500  0.0500    10.0       9.607894\n",
      "2     0.001788  0.250  0.0250    10.0       9.607894\n",
      "3     0.001214  0.100  0.0100    10.0       9.607894\n",
      "4     0.000338  0.050  0.0050    10.0       9.607894\n",
      "5     0.000287  0.025  0.0025    10.0       9.607894\n",
      "6     0.000169  0.010  0.0010    10.0       9.676043\n",
      "   Real Errors      dt      dz  lambda  Entire Errors\n",
      "0     0.015351  0.5000  0.1000     5.0       9.607894\n",
      "1     0.001357  0.2500  0.0500     5.0       9.607894\n",
      "2     0.000427  0.1250  0.0250     5.0       9.607894\n",
      "3     0.000061  0.0500  0.0100     5.0       9.607894\n",
      "4     0.000016  0.0250  0.0050     5.0       9.607894\n",
      "5     0.000004  0.0125  0.0025     5.0       9.607894\n",
      "6     0.000002  0.0050  0.0010     5.0       9.607894\n",
      "   Real Errors     dt      dz  lambda  Entire Errors\n",
      "0     0.016017  0.400  0.1000     4.0       9.607894\n",
      "1     0.001453  0.200  0.0500     4.0       9.607894\n",
      "2     0.000455  0.100  0.0250     4.0       9.607894\n",
      "3     0.000065  0.040  0.0100     4.0       9.607894\n",
      "4     0.000017  0.020  0.0050     4.0       9.607894\n",
      "5     0.000003  0.010  0.0025     4.0       9.607894\n",
      "6     0.000002  0.004  0.0010     4.0       9.607894\n",
      "   Real Errors      dt      dz  lambda  Entire Errors\n",
      "0     0.016611  0.3000  0.1000     3.0       9.607894\n",
      "1     0.001522  0.1500  0.0500     3.0       9.607894\n",
      "2     0.000478  0.0750  0.0250     3.0       9.607894\n",
      "3     0.000070  0.0300  0.0100     3.0       9.607894\n",
      "4     0.000018  0.0150  0.0050     3.0       9.607894\n",
      "5     0.000004  0.0075  0.0025     3.0       9.607894\n",
      "6     0.000002  0.0030  0.0010     3.0       9.607894\n"
     ]
    }
   ],
   "source": [
    "# write a pandas dataframe with all the values so that they do not need to be recalculated\n",
    "import pandas as pd\n",
    "\n",
    "ErrorVals1 = pd.DataFrame({'Real Errors': L1_real_max_errors + L1a_real_max_errors,\n",
    "                           'dt': L1_dt_vals + L1a_dt_vals, \n",
    "                           'dz': L1_dz_vals + L1a_dz_vals,\n",
    "                           'lambda': np.divide(np.array(L1_dt_vals + L1a_dt_vals), \n",
    "                                               np.array(L1_dz_vals + L1a_dz_vals)),\n",
    "                           'Entire Errors': L1_max_errors + L1a_max_errors,\n",
    "                         })\n",
    "\n",
    "print(ErrorVals1)\n",
    "\n",
    "# write to csv file\n",
    "ErrorVals1.to_csv('CN l6 data.csv', index=False)\n",
    "\n",
    "### --------------------------------------------\n",
    "\n",
    "ErrorVals2 = pd.DataFrame({'Real Errors': L2_real_max_errors + L2a_real_max_errors,\n",
    "                           'dt': L2_dt_vals + L2a_dt_vals, \n",
    "                           'dz': L2_dz_vals + L2a_dz_vals,\n",
    "                           'lambda': np.divide(np.array(L2_dt_vals + L2a_dt_vals), \n",
    "                                               np.array(L2_dz_vals + L2a_dz_vals)),\n",
    "                           'Entire Errors': L2_max_errors + L2a_max_errors,\n",
    "                         })\n",
    "\n",
    "print(ErrorVals2)\n",
    "\n",
    "# write to csv file\n",
    "ErrorVals2.to_csv('CN l10 data.csv', index=False)\n",
    "\n",
    "### --------------------------------------------\n",
    "\n",
    "ErrorVals3 = pd.DataFrame({'Real Errors': L3_real_max_errors + L3a_real_max_errors,\n",
    "                           'dt': L3_dt_vals + L3a_dt_vals, \n",
    "                           'dz': L3_dz_vals + L3a_dz_vals,\n",
    "                           'lambda': np.divide(np.array(L3_dt_vals + L3a_dt_vals), \n",
    "                                               np.array(L3_dz_vals + L3a_dz_vals)),\n",
    "                           'Entire Errors': L3_max_errors + L3a_max_errors,\n",
    "                         })\n",
    "\n",
    "print(ErrorVals3)\n",
    "\n",
    "# write to csv file\n",
    "ErrorVals3.to_csv('CN l5 data.csv', index=False)\n",
    "\n",
    "### --------------------------------------------\n",
    "\n",
    "ErrorVals4 = pd.DataFrame({'Real Errors': L4_real_max_errors + L4a_real_max_errors,\n",
    "                           'dt': L4_dt_vals + L4a_dt_vals, \n",
    "                           'dz': L4_dz_vals + L4a_dz_vals,\n",
    "                           'lambda': np.divide(np.array(L4_dt_vals + L4a_dt_vals), \n",
    "                                               np.array(L4_dz_vals + L4a_dz_vals)),\n",
    "                           'Entire Errors': L4_max_errors + L4a_max_errors,\n",
    "                         })\n",
    "\n",
    "print(ErrorVals4)\n",
    "\n",
    "# write to csv file\n",
    "ErrorVals4.to_csv('CN l4 data.csv', index=False)\n",
    "\n",
    "### --------------------------------------------\n",
    "\n",
    "ErrorVals5 = pd.DataFrame({'Real Errors': L5_real_max_errors + L5a_real_max_errors,\n",
    "                           'dt': L5_dt_vals + L5a_dt_vals, \n",
    "                           'dz': L5_dz_vals + L5a_dz_vals,\n",
    "                           'lambda': np.divide(np.array(L5_dt_vals + L5a_dt_vals), \n",
    "                                               np.array(L5_dz_vals + L5a_dz_vals)),\n",
    "                           'Entire Errors': L5_max_errors + L5a_max_errors,\n",
    "                         })\n",
    "\n",
    "print(ErrorVals5)\n",
    "\n",
    "# write to csv file\n",
    "ErrorVals5.to_csv('CN l3 data.csv', index=False)"
   ]
  },
  {
   "cell_type": "markdown",
   "id": "d11f4ae3-3248-4874-ba66-7397e5e4134e",
   "metadata": {},
   "source": [
    "# All on one PLOT"
   ]
  },
  {
   "cell_type": "code",
   "execution_count": 144,
   "id": "3a268bbf-1f84-443b-8bbd-4b95e5302388",
   "metadata": {},
   "outputs": [],
   "source": [
    "# delta z values\n",
    "dz_vals_l6 = np.array(L1_dz_vals + L1a_dz_vals)\n",
    "sorted_indices = np.argsort(dz_vals_l6)\n",
    "dz_vals_l6 = np.array([dz_vals_l6[i] for i in sorted_indices])\n",
    "inv_dz_vals_l6 = np.divide(np.ones(len(dz_vals_l6)), dz_vals_l6)\n",
    "\n",
    "# max errors in realistic range\n",
    "real_max_errors_l6 = np.array(L1_real_max_errors + L1a_real_max_errors)\n",
    "real_max_errors_l6 = np.array([real_max_errors_l6[i] for i in sorted_indices])"
   ]
  },
  {
   "cell_type": "code",
   "execution_count": 145,
   "id": "860b8b53-5001-45ae-ba23-a7f69d4c4fba",
   "metadata": {},
   "outputs": [],
   "source": [
    "# delta z values\n",
    "dz_vals_l10 = np.array(L2_dz_vals + L2a_dz_vals)\n",
    "sorted_indices = np.argsort(dz_vals_l10)\n",
    "dz_vals_l10 = np.array([dz_vals_l10[i] for i in sorted_indices])\n",
    "inv_dz_vals_l10 = np.divide(np.ones(len(dz_vals_l10)), dz_vals_l10)\n",
    "\n",
    "# max errors in realistic range\n",
    "real_max_errors_l10 = np.array(L2_real_max_errors + L2a_real_max_errors)\n",
    "real_max_errors_l10 = np.array([real_max_errors_l10[i] for i in sorted_indices])"
   ]
  },
  {
   "cell_type": "code",
   "execution_count": 146,
   "id": "86cdf0ce-8d35-415c-9f02-077fd646f219",
   "metadata": {},
   "outputs": [],
   "source": [
    "# delta z values\n",
    "dz_vals_l5 = np.array(L3_dz_vals + L3a_dz_vals)\n",
    "sorted_indices = np.argsort(dz_vals_l5)\n",
    "dz_vals_l5 = np.array([dz_vals_l5[i] for i in sorted_indices])\n",
    "inv_dz_vals_l5 = np.divide(np.ones(len(dz_vals_l5)), dz_vals_l5)\n",
    "\n",
    "# max errors in realistic range\n",
    "real_max_errors_l5 = np.array(L3_real_max_errors + L3a_real_max_errors)\n",
    "real_max_errors_l5 = np.array([real_max_errors_l5[i] for i in sorted_indices])"
   ]
  },
  {
   "cell_type": "code",
   "execution_count": 147,
   "id": "fd1d49f3-2965-45bb-8ca9-dded8006045a",
   "metadata": {},
   "outputs": [],
   "source": [
    "# delta z values\n",
    "dz_vals_l4 = np.array(L4_dz_vals + L4a_dz_vals)\n",
    "sorted_indices = np.argsort(dz_vals_l4)\n",
    "dz_vals_l4 = np.array([dz_vals_l4[i] for i in sorted_indices])\n",
    "inv_dz_vals_l4 = np.divide(np.ones(len(dz_vals_l4)), dz_vals_l4)\n",
    "\n",
    "# max errors in realistic range\n",
    "real_max_errors_l4 = np.array(L4_real_max_errors + L4a_real_max_errors)\n",
    "real_max_errors_l4 = np.array([real_max_errors_l4[i] for i in sorted_indices])"
   ]
  },
  {
   "cell_type": "code",
   "execution_count": 148,
   "id": "172c3ca1-15ce-4895-9304-1ca7bc2a1ad7",
   "metadata": {},
   "outputs": [],
   "source": [
    "# delta z values\n",
    "dz_vals_l3 = np.array(L5_dz_vals + L5a_dz_vals)\n",
    "sorted_indices = np.argsort(dz_vals_l3)\n",
    "dz_vals_l3 = np.array([dz_vals_l3[i] for i in sorted_indices])\n",
    "inv_dz_vals_l3 = np.divide(np.ones(len(dz_vals_l3)), dz_vals_l3)\n",
    "\n",
    "# max errors in realistic range\n",
    "real_max_errors_l3 = np.array(L5_real_max_errors + L5a_real_max_errors)\n",
    "real_max_errors_l3 = np.array([real_max_errors_l3[i] for i in sorted_indices])"
   ]
  },
  {
   "cell_type": "code",
   "execution_count": 149,
   "id": "08c78efc-b06b-457e-84e9-0108beb2e6e7",
   "metadata": {},
   "outputs": [
    {
     "data": {
      "application/vnd.jupyter.widget-view+json": {
       "model_id": "c83ed0b30712455f93ffe7525d82ff26",
       "version_major": 2,
       "version_minor": 0
      },
      "image/png": "[encoded data removed]",
      "text/html": [
       "\n",
       "            <div style=\"display: inline-block;\">\n",
       "                <div class=\"jupyter-widgets widget-label\" style=\"text-align: center;\">\n",
       "                    Figure\n",
       "                </div>\n",
       "                <img src='data:image/png;base64,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' width=640.0/>\n",
       "            </div>\n",
       "        "
      ],
      "text/plain": [
       "Canvas(toolbar=Toolbar(toolitems=[('Home', 'Reset original view', 'home', 'home'), ('Back', 'Back to previous …"
      ]
     },
     "metadata": {},
     "output_type": "display_data"
    }
   ],
   "source": [
    "plt.figure()\n",
    "plt.title('Crank-Nicolson Convergence')\n",
    "plt.xlabel('$\\\\frac{1}{\\\\Delta x}$')\n",
    "plt.ylabel('Max error')\n",
    "plt.loglog(inv_dz_vals_l3, real_max_errors_l3, label='$\\\\lambda = 3$')\n",
    "plt.loglog(inv_dz_vals_l4, real_max_errors_l4, label='$\\\\lambda = 4$')\n",
    "plt.loglog(inv_dz_vals_l5, real_max_errors_l5, label='$\\\\lambda = 5$')\n",
    "plt.loglog(inv_dz_vals_l6, real_max_errors_l6, label='$\\\\lambda = 6$')\n",
    "plt.loglog(inv_dz_vals_l10, real_max_errors_l10, label='$\\\\lambda = 10$')\n",
    "plt.legend()\n",
    "plt.grid(True, linestyle='dotted', color='grey')\n",
    "plt.show()\n"
   ]
  },
  {
   "cell_type": "code",
   "execution_count": null,
   "id": "5a8f52b9-31d8-48eb-8584-5ff5e07a6551",
   "metadata": {},
   "outputs": [],
   "source": []
  }
 ],
 "metadata": {
  "kernelspec": {
   "display_name": "Python 3 (ipykernel)",
   "language": "python",
   "name": "python3"
  },
  "language_info": {
   "codemirror_mode": {
    "name": "ipython",
    "version": 3
   },
   "file_extension": ".py",
   "mimetype": "text/x-python",
   "name": "python",
   "nbconvert_exporter": "python",
   "pygments_lexer": "ipython3",
   "version": "3.9.13"
  }
 },
 "nbformat": 4,
 "nbformat_minor": 5
}
