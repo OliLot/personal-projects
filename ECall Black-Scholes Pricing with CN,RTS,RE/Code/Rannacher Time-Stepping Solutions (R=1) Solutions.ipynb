{
 "cells": [
  {
   "cell_type": "code",
   "execution_count": 1,
   "id": "eda83a80-733b-40f1-a158-c279bf72af0d",
   "metadata": {},
   "outputs": [],
   "source": [
    "%matplotlib widget\n",
    "import numpy as np\n",
    "import matplotlib.pyplot as plt\n",
    "import math as m\n",
    "import time \n",
    "from numpy.lib.format import open_memmap"
   ]
  },
  {
   "cell_type": "markdown",
   "id": "026cb1aa-f99c-4847-9103-b4e5ee0a6659",
   "metadata": {
    "jp-MarkdownHeadingCollapsed": true,
    "tags": []
   },
   "source": [
    "# Prerequisites"
   ]
  },
  {
   "cell_type": "markdown",
   "id": "4901ff8c-6561-4e8e-a9ce-f76cb2f88975",
   "metadata": {
    "tags": []
   },
   "source": [
    "## The Thomas Algorithm\n",
    "The thomas algorithm is a more computationally efficient way to solve for the unknowns as compared to matrix inversion (works via LU decomposition)."
   ]
  },
  {
   "cell_type": "code",
   "execution_count": 2,
   "id": "d1cb3dc8-a866-4539-afe9-de00d12f4ceb",
   "metadata": {},
   "outputs": [],
   "source": [
    "# Define the tridiagonal matrix solver algorithm for BLACK-SCHOLES EQUATION FORMAT\n",
    "'''\n",
    "For Tx = d\n",
    "Inputs:\n",
    "    - a = lower triangular vector\n",
    "    - b = diagonal vector\n",
    "    - c = upper diagonal vector\n",
    "    - d = -aV_{i-1}^n + (1 + b)V_i^n - cV_{i+1}^n = constant term of knowns for share prices (i-1, i, i+1) at time n\n",
    "Output:\n",
    "    - unew = updated v values over space for time n+1\n",
    "'''\n",
    "def TDMA(a,b,c,d):\n",
    "    n = len(d)\n",
    "    e = np.zeros(n-1)\n",
    "    f = np.zeros(n)\n",
    "    V = np.zeros(n)\n",
    "    \n",
    "    e[0] = c[0]/b[0]\n",
    "    f[0] = d[0]/b[0]\n",
    "    for i in range(1,n-1):\n",
    "        e[i] = c[i]/(b[i] - a[i]*e[i-1])\n",
    "    for i in range(1,n):\n",
    "        f[i] = (d[i] - a[i]*f[i-1])/(b[i] - a[i]*e[i-1])\n",
    "    \n",
    "    V[n-1] = f[n-1]\n",
    "    for i in range(n-1,0,-1):\n",
    "        V[i-1] = f[i-1] - e[i-1]*V[i]\n",
    "    return V"
   ]
  },
  {
   "cell_type": "markdown",
   "id": "7c7bfe3b-90c6-48c5-9a3d-a756fc076182",
   "metadata": {
    "jp-MarkdownHeadingCollapsed": true,
    "tags": []
   },
   "source": [
    "## Call Option  Parameters"
   ]
  },
  {
   "cell_type": "code",
   "execution_count": 3,
   "id": "91b83d77-9d43-4421-99b8-b596a95070e9",
   "metadata": {},
   "outputs": [],
   "source": [
    "### // CALL OPTION PARAMETERS /// ###\n",
    "sig = 0.15 # volatility (std deviation of log returns)\n",
    "K = 10 # dollars\n",
    "T = 2 # years\n",
    "r = 0.02 # yearly risk free interest rate"
   ]
  },
  {
   "cell_type": "markdown",
   "id": "6d0c808c-4f6e-4321-b9a5-c6ca82d86f14",
   "metadata": {
    "jp-MarkdownHeadingCollapsed": true,
    "tags": []
   },
   "source": [
    "## Analytical Solution"
   ]
  },
  {
   "cell_type": "code",
   "execution_count": 4,
   "id": "cc3d3706-113a-494f-a6c6-b00428d19908",
   "metadata": {},
   "outputs": [],
   "source": [
    "# import packages\n",
    "import matplotlib.pyplot as plt\n",
    "import numpy as np\n",
    "import math\n",
    "#import sympy as sy\n",
    "\n",
    "def erf(x):\n",
    "    if isinstance(x, (int, float)):\n",
    "        erf = m.erf(x)\n",
    "    else:\n",
    "        erf = np.array([m.erf(x) for x in x])\n",
    "        \n",
    "    return erf\n",
    "\n",
    "\n",
    "# function for N(x) - normal CDF\n",
    "def N(x) :\n",
    "    return 0.5*(erf(x/np.sqrt(2)) + 1)\n",
    "\n",
    "\n",
    "'''\n",
    "# function to calculate the analytical solution to the black scholes equation for a european call given parameters\n",
    "# INPUTS : \n",
    "    - S = stock price (vector)\n",
    "    - t = time\n",
    "    - sig = volatility \n",
    "    - K = strike price \n",
    "    - T = expiry time \n",
    "    - r = risk free rate \n",
    "    - N = Cumulative normal distribution function (defined above)\n",
    "OUTPUTS : \n",
    "    - Analytical solution for European Call\n",
    "'''\n",
    "def BS_analytic_point_S(S, t, sig = sig, K = K, T = T, r = r, N = N) :\n",
    "    # S=0 implies a zero value, S=0 implies the log going to negative infinity and the cumulative distributions having values 0.\n",
    "    S1=S[0]\n",
    "    ECall1 = np.array([0])\n",
    "    \n",
    "    S2=S[1:]\n",
    "    \n",
    "    def d1(S):\n",
    "        return (np.log(S/K) + (r + 0.5*sig**2) * (T - t)) / (sig * (T - t)**(0.5)) \n",
    "\n",
    "    def d2(S):\n",
    "        return (np.log(S/K) + (r - 0.5*sig**2) * (T - t)) / (sig * (T - t)**(0.5))\n",
    "            \n",
    "    ECall2 = S2*N(d1(S2)) - K*np.exp(-r*(T-t))*N(d2(S2))\n",
    "    \n",
    "    ECall = np.concatenate([ECall1, ECall2])\n",
    "    \n",
    "    return ECall\n",
    "\n",
    "'''\n",
    "Same as above, now considering transformed Z grid where z = lnS.\n",
    "'''\n",
    "\n",
    "def BS_analytic_point_Z(Z, t, sig = sig, K = K, T = T, r = r, N = N) :\n",
    "    # S=0 implies a zero value, S=0 implies the log going to negative infinity and the cumulative distributions having values 0.\n",
    "    def d1(Z):\n",
    "        return (Z - np.log(K) + (r + 0.5*sig**2) * (T - t)) / (sig * (T - t)**(0.5))\n",
    "    \n",
    "    def d2(Z):\n",
    "        return (Z - np.log(K) + (r - 0.5*sig**2) * (T - t)) / (sig * (T - t)**(0.5))\n",
    "    \n",
    "    ECall = np.where(np.exp(Z) == 0, 0, np.exp(Z)*N(d1(Z)) - K*np.exp(-r*(T-t))*N(d2(Z)))\n",
    "    \n",
    "    return ECall\n",
    "\n",
    "\n",
    "'''\n",
    "Same as above, now considering transformed Z grid where z = lnS - (r-0.5*sigma^2)*t i.e. the diffusion transformation.\n",
    "'''\n",
    "def BS_analytic_point_D(Z, t, sig = sig, K = K, T = T, r = r, N = N) :\n",
    "    # S=0 implies a zero value, S=0 implies the log going to negative infinity and the cumulative distributions having values 0.\n",
    "    def d1(Z):\n",
    "        return (Z + (r - 0.5*sig**2)*t - np.log(K) + (r + 0.5*sig**2) * (T - t)) / (sig * (T - t)**(0.5))\n",
    "    \n",
    "    def d2(Z):\n",
    "        return (Z + (r - 0.5*sig**2)*t - np.log(K) + (r - 0.5*sig**2) * (T - t)) / (sig * (T - t)**(0.5)) # r terms cancel in t\n",
    "            \n",
    "    ECall = np.where(np.exp(Z + (r - 0.5*sig**2)*t) == 0, 0, np.exp(Z + (r - 0.5*sig**2)*t) * N(d1(Z)) - K * np.exp(-r*(T - t)) * N(d2(Z)))\n",
    "            \n",
    "    return ECall\n",
    "\n",
    "\n",
    "'''\n",
    "Function to calculate analytic Black-Scholes solution given a grid in share price and values specifying the time grid.\n",
    "INPUTS:\n",
    "    - S = 1D array of S grid over time (entries = S grid values)\n",
    "    - dt = time step\n",
    "    - nt = total number of timesteps\n",
    "OUTPUT:\n",
    "    - 2D array of analytical solution over grid values\n",
    "'''\n",
    "# function BSASEC for grid of S and t\n",
    "def BSa_S(S, dt, nt):\n",
    "    # empty solution matrix\n",
    "    Asol = np.zeros((len(S),nt+1))\n",
    "    \n",
    "    # Initial Conditions\n",
    "    VIC = np.maximum(S - K, 0)\n",
    "    Asol[:,0] = VIC # corresponding to t = T\n",
    "    \n",
    "    # Solving backwards in time\n",
    "    for n in range(1, nt+1):\n",
    "        Asol[:,n] = BS_analytic_point_S(S=S, t=T - n*dt)\n",
    "    \n",
    "    return Asol\n",
    "\n",
    "\n",
    "def BSa_Z(Z, dt, nt):\n",
    "    # empty solution matrix\n",
    "    Asol = np.memmap('RCNAsol.arr', dtype=np.float64, mode='w+', shape=(len(Z),nt+1)) #np.zeros((len(Z),nt+1))\n",
    "    \n",
    "    # Initial Conditions\n",
    "    VIC = np.maximum(np.exp(Z) - K, 0)\n",
    "    Asol[:,0] = VIC # corresponding to t = T\n",
    "    \n",
    "    # Solving backwards in time\n",
    "    for n in range(1, nt+1):\n",
    "        Asol[:,n] = BS_analytic_point_Z(Z=Z, t=T - n*dt)\n",
    "    \n",
    "    Asol.flush()\n",
    "    \n",
    "    sol = np.memmap('RCNAsol.arr', dtype=np.float64, mode='r', shape=(len(Z),nt+1)) \n",
    "    \n",
    "    return sol\n",
    "\n",
    "\n",
    "'''\n",
    "Function BSASEC for grid of S and t\n",
    "INPUTS:\n",
    "    - Z = 1D array of Z grid that, when transformed back to S, moves over time (row = S grid values, column = time) \n",
    "          with Z = lnS - (r-0.5*sig^2)*t this implies S = exp[Z + (r-0.5*sig^2)*t]\n",
    "    - dt = time step\n",
    "    - nt = total number of timesteps\n",
    "OUTPUT:\n",
    "    - 2D array of analytical solution over grid values\n",
    "'''\n",
    "def BSa_D(Z, dt, nt):\n",
    "    # empty solution matrix\n",
    "    Asol = np.zeros((len(Z),nt+1))\n",
    "    \n",
    "    # Initial Conditions\n",
    "    VIC = np.maximum(np.exp(Z + (r - 0.5*sig**2)*T) - K, 0)\n",
    "    Asol[:,0] = VIC # corresponding to t = T\n",
    "    \n",
    "    # Solving backwards in time\n",
    "    for n in range(1, nt+1):\n",
    "        Asol[:,n] = BS_analytic_point_D(Z=Z, t=T - n*dt)\n",
    "    \n",
    "    return Asol"
   ]
  },
  {
   "cell_type": "markdown",
   "id": "64a34774-e09e-42f2-bfe3-92ecfa1ffc21",
   "metadata": {
    "jp-MarkdownHeadingCollapsed": true,
    "tags": []
   },
   "source": [
    "## Discretization Error Matrix Calculator"
   ]
  },
  {
   "cell_type": "code",
   "execution_count": 5,
   "id": "613ca8eb-b59b-4d69-b06a-b977f06f8ab7",
   "metadata": {},
   "outputs": [],
   "source": [
    "# Define function that, given a numerical solution, will provide the discretization errors\n",
    "def DErrors_S(Nsol, S, dt, nt):\n",
    "    # Initialise error matrix\n",
    "    Derr = np.zeros((len(S),nt+1))\n",
    "    \n",
    "    # Calculate analytic solutions for grid\n",
    "    Asol = BSa_S(S, dt, nt)\n",
    "    \n",
    "    # Calculate errors\n",
    "    Derr = np.subtract(Nsol, Asol)\n",
    "    return Derr\n",
    "\n",
    "\n",
    "def DErrors_Z(Nsol, Z, dt, nt):\n",
    "    # Initialise error matrix\n",
    "    #numsol = np.memmap('RCNNsol.array', dtype=np.float64, mode='w+', shape=(len(Z), nt+1))\n",
    "    #numsol = Nsol.copy()\n",
    "    \n",
    "    Derr = np.memmap('RCNDerr.arr', dtype=np.float64, mode='w+', shape=(len(Z), nt+1)) #np.zeros((len(Z),nt+1))\n",
    "    \n",
    "    # Calculate analytic solutions for grid\n",
    "    Asol = BSa_Z(Z, dt, nt)\n",
    "    \n",
    "    \n",
    "    # Calculate errors\n",
    "    for n in range(nt+1):\n",
    "        Derr[:,n] = np.subtract(Nsol[:, n], Asol[:,n])\n",
    "    Derr.flush()\n",
    "    \n",
    "    Derr = np.memmap('RCNDerr.arr', dtype=np.float64, mode='r', shape=(len(Z), nt+1))\n",
    "    \n",
    "    return Derr\n",
    "\n",
    "\n",
    "def DErrors_D(Nsol, Z, dt, nt):\n",
    "    # Initialise error matrix\n",
    "    Derr = np.zeros((len(Z),nt+1))\n",
    "    \n",
    "    # Calculate analytic solutions for grid\n",
    "    Asol = BSa_D(Z, dt, nt)\n",
    "    \n",
    "    # Calculate errors\n",
    "    Derr = np.subtract(Nsol, Asol)\n",
    "    return Derr"
   ]
  },
  {
   "cell_type": "markdown",
   "id": "8f02cf1d-00bb-4a40-8696-24742748de0e",
   "metadata": {
    "tags": []
   },
   "source": [
    "# Laasonen method for Crank-Nicolson\n",
    "Want a function Laasonen which performs one step of the laasonen method on the input matrix (parameterised by im, jm) \n",
    "\n",
    "## 1. $(\\ln S, t)$\n",
    "#### Restating the PDE\n",
    "\n",
    "${\\partial V \\over \\partial t} + {1 \\over 2}\\sigma^2{\\partial^2 V \\over \\partial z^2} + (r - \\frac{1}{2}\\sigma^2){\\partial V \\over \\partial z} - rV = 0.$\n",
    "\n",
    "#### The FDE\n",
    "$\\frac{V_{i}^{n+1} - V_i^n}{\\Delta t} + Z_i^{n+1} = 0$\n",
    "$\\Rightarrow V_i^n = V_i^{n+1} + \\Delta t Z_i^{n+1}$\n",
    "\n",
    "which results in the tridiagonal system\n",
    "\n",
    "$a V_{i-1}^{n+1} + (1-b) V_{i}^{n+1} + c V_{i+1}^{n+1} = V_i^n$\n",
    "\n",
    "with coefficients:\n",
    "- $a_i = {\\Delta t \\over 2}[\\frac{\\sigma^2}{(\\Delta z)^2} - \\frac{(r - \\frac{1}{2}\\sigma^2)}{\\Delta z}]$\n",
    "- $b_i = {\\Delta t}[\\frac{\\sigma^2}{(\\Delta z)^2} + r]$\n",
    "- $c_i = {\\Delta t \\over 2}[\\frac{\\sigma^2}{(\\Delta z)^2} + \\frac{(r - \\frac{1}{2}\\sigma^2)}{\\Delta z}]$\n",
    "\n",
    "Note that this actually forms an explicit scheme in the backward time problem, as (n) is the unknown and (n+1) the knowns (DO STABILITY ANALYSIS FOR BOTH). Thus, the forward time transformation to $\\tau = T-t$ will be implemented.\n",
    "\n",
    "\n",
    "## 2. $(\\ln S, \\tau)$\n",
    "\n",
    "#### The PDE\n",
    "\n",
    "$-{\\partial V \\over \\partial t} + {1 \\over 2}\\sigma^2{\\partial^2 V \\over \\partial z^2} + (r - \\frac{1}{2}\\sigma^2){\\partial V \\over \\partial z} - rV = 0.$\n",
    "\n",
    "#### The FDE\n",
    "$-\\frac{V_{i}^{n+1/2} - V_i^n}{\\Delta t} + Z_i^{n+1/2} = 0$\n",
    "$\\Rightarrow V_i^n = V_i^{n+1/2} - \\Delta t Z_i^{n+1/2}$\n",
    "\n",
    "which flips the signs of the coefficients in the $(\\ln S, t)$ tridiagonal system, and results in the tridiagonal system\n",
    "\n",
    "$-a V_{i-1}^{n+1/2} + (1+b) V_{i}^{n+1/2} - c V_{i+1}^{n+1/2} = V_i^n$\n",
    "\n",
    "\n",
    "with coefficients:\n",
    "- $a_i = {\\Delta t \\over 2}[\\frac{\\sigma^2}{(\\Delta z)^2} - \\frac{(r - \\frac{1}{2}\\sigma^2)}{\\Delta z}]$\n",
    "- $b_i = {\\Delta t}[\\frac{\\sigma^2}{(\\Delta z)^2} + r]$\n",
    "- $c_i = {\\Delta t \\over 2}[\\frac{\\sigma^2}{(\\Delta z)^2} + \\frac{(r - \\frac{1}{2}\\sigma^2)}{\\Delta z}]$\n",
    "\n",
    "Now, the unknowns are terms in (n+1) and so this forms an implicit scheme with unconditional stability."
   ]
  },
  {
   "cell_type": "markdown",
   "id": "a358b68d-2f35-4d16-af67-d7d3c6afb675",
   "metadata": {
    "jp-MarkdownHeadingCollapsed": true,
    "tags": []
   },
   "source": [
    "## Rannacher Timestepping Function\n",
    "Currently calculates the first two integer time steps using half-steps of Backwards Euler. Can potentially implement customizable numbers of points to replace, and the factor of stepping in the intermediate steps. "
   ]
  },
  {
   "cell_type": "code",
   "execution_count": 6,
   "id": "4b46aea5-31db-4872-8a8d-73c0e568d645",
   "metadata": {},
   "outputs": [],
   "source": [
    "def RannacherStart(Vinit, R, dt, dZ, iZ, VIC):\n",
    "    # define half time step\n",
    "    hdt = dt/2\n",
    "    \n",
    "    Smin = 1e-10 # can no longer use Smin = 0 as log(0) = -inf, use a small number as replacement\n",
    "    Smax = 500 # can use even larger Smax as ln transformation squishes results quicker\n",
    "    Zmin = np.log(Smin) # low boundary\n",
    "    Zmax = np.log(Smax) # high bonudary\n",
    "    VB1 = 0\n",
    "    VB2 = Smax\n",
    "    \n",
    "    # Store all \n",
    "    Vinit_halfs = np.zeros((iZ-1, 2*R+1))\n",
    "    Vinit_halfs[:,0] = VIC[1:-1]\n",
    "    \n",
    "    # constants in tridiagonal system\n",
    "    ac = (hdt/2 * (sig**2/dZ**2 - (r - 0.5*sig**2)/dZ))\n",
    "    bc = (hdt * (sig**2/dZ**2 + r)) # care with 1 +/- b\n",
    "    cc = (hdt/2 * (sig**2/dZ**2 + (r - 0.5*sig**2)/dZ))\n",
    "\n",
    "    # vectors of tridiagonal\n",
    "    a = - ac * np.ones(iZ-1) # lower diag\n",
    "    b = (1 + bc) * np.ones(iZ-1) # diag has (1 - bc)\n",
    "    c = - cc * np.ones(iZ-1) # upper diag\n",
    "    \n",
    "    # initialise constant vector\n",
    "    d = np.zeros(iZ-1)\n",
    "    \n",
    "    # Solve the tridiagonal system for one half-step using Vinit\n",
    "    for n in range(1, 2*R+1):\n",
    "        # Half step\n",
    "        # i=1: Includes i=0 boundary\n",
    "        d[0] = Vinit_halfs[0, n-1] + ac*VB1\n",
    "        \n",
    "        # i=2,...,iZ-2: no boundary values\n",
    "        d[1:-1] = Vinit_halfs[1:-1, n-1]\n",
    "        \n",
    "        # i=iZ-1: Includes i=iZ boundary\n",
    "        d[-1] = Vinit_halfs[-1, n-1] + cc*VB2\n",
    "        \n",
    "        # Calculate half-step results\n",
    "        Vinit_halfs[:,n] = TDMA(a, b, c, d)\n",
    "        \n",
    "    # Get the two whole steps\n",
    "    for s in range(1, R+1):\n",
    "        Vinit[:, s] = Vinit_halfs[:, 2*s]\n",
    "    \n",
    "    return Vinit"
   ]
  },
  {
   "cell_type": "markdown",
   "id": "1b277d72-270d-4463-8259-28f188cb695d",
   "metadata": {
    "jp-MarkdownHeadingCollapsed": true,
    "tags": []
   },
   "source": [
    "## Rannacher Present Value of European Call (2R 1/2 steps)"
   ]
  },
  {
   "cell_type": "code",
   "execution_count": 7,
   "id": "9b1218a2-415f-477a-ba98-ec16f1217ac3",
   "metadata": {},
   "outputs": [],
   "source": [
    "def PV_Rannacher(dt, dZ, R=1, sig=sig, K=K, r=r, T=T):\n",
    "    ### SETTING PARAMETERS\n",
    "    Smin = 1e-10 # can no longer use Smin = 0 as log(0) = -inf, use a small number as replacement\n",
    "    Smax = 500 # can use even larger Smax as ln transformation squishes results quicker\n",
    "    Zmin = np.log(Smin) # low boundary\n",
    "    Zmax = np.log(Smax) # high bonudary\n",
    "    iZ = round((Zmax-Zmin) / dZ)\n",
    "    \n",
    "    dZ = (Zmax-Zmin)/iZ # update to fit grid boundaries\n",
    "\n",
    "    Z = np.linspace(Zmin, Zmax, iZ + 1) # Nx total grid points from 0 to L included (combine two np.linspace of different step sizes)\n",
    "    nt = int(round(T/dt)) # number of steps in time\n",
    "    dt = T/nt\n",
    "    \n",
    "    print(f'Stepsizes: dz = {dZ} and dt = {dt}')\n",
    "    print(f'lambda = {dt/dZ}')\n",
    "\n",
    "     #----------------------------------------------------------------------------------------\n",
    "    \n",
    "    ### INITIAL AND BOUNDARY CONDITIONS\n",
    "    VIC = np.maximum(np.exp(Z) - K, 0)\n",
    "\n",
    "    VB1 = 0\n",
    "    VB2 = Smax\n",
    "\n",
    "    VIC[0] = VB1 # still use zero as the boundary value\n",
    "    VIC[-1] = VB2\n",
    "    \n",
    "     #----------------------------------------------------------------------------------------\n",
    "    \n",
    "    ### SOLVING THE TRIDIAGONAL SYSTEM ---> first two CN steps replaced with 2nd and 4th Laasonen half-steps\n",
    "    # Define solution matrix\n",
    "    V = np.memmap('RCNPVmatrix.arr', dtype=np.float64, mode='w+', shape=(iZ-1, nt+1)) # np.zeros((iZ-1, nt+1))\n",
    "    # Initialise starting matrix\n",
    "    Vstart = np.zeros((iZ-1, nt+1))\n",
    "    # add initial conditions in first column\n",
    "    Vstart[:,0] = VIC[1:-1]\n",
    "\n",
    "    ## Rannacher timestepping\n",
    "    VRanStart = RannacherStart(Vinit=Vstart.copy(), R=R, dt=dt, dZ=dZ, iZ=iZ, VIC=VIC).copy()\n",
    "    for j in range(nt+1):\n",
    "        V[:, j] = VRanStart[:,j]\n",
    "    \n",
    "    ## Crank-Nicolson\n",
    "    # Define tridiagonal system\n",
    "    # constants in system\n",
    "    ac = (dt/4 * (sig**2/dZ**2 - (r - 0.5*sig**2)/dZ))\n",
    "    bc = (dt/2 * (sig**2/dZ**2 + r)) # care with 1 +/- b\n",
    "    cc = (dt/4 * (sig**2/dZ**2 + (r - 0.5*sig**2)/dZ))\n",
    "\n",
    "    # vectors of tridiagonal\n",
    "    a = - ac * np.ones(iZ-1) # lower diag\n",
    "    b = (1 + bc) * np.ones(iZ-1) # diag has (1 - bc)\n",
    "    c = - cc * np.ones(iZ-1) # upper diag\n",
    "\n",
    "    # check diagonal dominance for thomas algorithm stability\n",
    "    print('\\n Tridiagonal system coefficients:')\n",
    "    print(f'lower diag values = {-ac}')\n",
    "    print(f'diag values = {1 + bc}')\n",
    "    print(f'upper diag values = {-cc}')\n",
    "\n",
    "\n",
    "    # empty RHS vector\n",
    "    d = np.zeros(iZ-1)\n",
    "\n",
    "\n",
    "    # iterate over time, excluding first two timesteps solved with Rannacher timestepping\n",
    "    for j in range(R+1, nt+1):\n",
    "        # left boundary\n",
    "        d[0] = (ac*VB1 + (1 - bc)*V[0,j-1] + cc*V[1,j-1]) + ac*VB1\n",
    "        # no boundaries involved\n",
    "        d[1:-1] = (ac*V[0:-2,j-1] + (1 - bc)*V[1:-1,j-1] + cc*V[2:,j-1])\n",
    "        # right boundary\n",
    "        d[-1] = (ac*V[-2,j-1] + (1 - bc)*V[-1,j-1] + cc*VB2) + cc*VB2 #problematic\n",
    "    \n",
    "        # store solution\n",
    "        V[:,j] = TDMA(a,b,c,d)\n",
    "    \n",
    "    V.flush()\n",
    "    \n",
    "    V = np.memmap('RCNPVmatrix.arr', dtype=np.float64, mode='r', shape=(iZ-1, nt+1)) \n",
    "\n",
    "    # Matrix of results\n",
    "    # Add the i=0 and i=nS boundary condition values\n",
    "\n",
    "    Vsol = np.zeros((iZ+1,nt+1))\n",
    "    V0 = np.array([VB1])\n",
    "    ViZ = np.array([VB2])\n",
    "    \n",
    "    for j in range(nt+1):\n",
    "        Vsol[:,j] = np.concatenate((V0, V[:,j], ViZ), axis=0)\n",
    "    \n",
    "\n",
    "    #----------------------------------------------------------------------------------------\n",
    "    ### // CALCULATING MAX ERROR //\n",
    "    \n",
    "\n",
    "    ### // CALCULATING MAX ERROR //\n",
    "    \n",
    "    # Errors\n",
    "    # max\n",
    "    Error = DErrors_Z(Vsol, Z, dt=dt, nt=nt)\n",
    "    # abs max\n",
    "    Aerror = np.abs(Error)\n",
    "    \n",
    "    # Absolute final error values\n",
    "    AFE = Aerror[:,-1]\n",
    "\n",
    "    \n",
    "    ###  CONSIDERING THE ENTIRE S DOMAIN \n",
    "    # MAX ERROR\n",
    "    ME = np.max(AFE)\n",
    "    print('\\n ENTIRE S DOMAIN ERRORS')\n",
    "    print(f'1. Maximal error: {ME} \\n')\n",
    "    ME_ind = np.where(AFE == ME)[0][0]\n",
    "    print(f'located at {ME_ind}, z value of {Zmin + ME_ind*dZ}, S value of {np.exp(Zmin + ME_ind*dZ)} \\n')\n",
    "\n",
    "\n",
    "    # Absolute error sum across S grid at present time\n",
    "    AES = np.sum(AFE)\n",
    "    print(f'2. Absolute sum of errors: {AES}')\n",
    "\n",
    "    \n",
    "    ###  CONSIDERING A REALISTIC S DOMAIN FROM 0-1000\n",
    "    # Define a cutoff at a large enough S and corresponding Z\n",
    "    Scut = 100\n",
    "    Zcut = np.log(Scut)\n",
    "    cutoff = int((Zcut - Zmin) / dZ)\n",
    "\n",
    "    R_AFE = AFE[:cutoff]\n",
    "\n",
    "    R_ME = np.max(R_AFE)\n",
    "    print('\\n REALISTIC S DOMAIN ERRORS')\n",
    "    print(f'1. Maximal error: {R_ME} \\n')\n",
    "\n",
    "    R_ME_ind = np.where(R_AFE == R_ME)[0][0]\n",
    "    print(f'located at {R_ME_ind}, z value of {Zmin + R_ME_ind*dZ}, S value of {np.exp(Zmin + R_ME_ind*dZ)} \\n')\n",
    "\n",
    "\n",
    "    # Absolute error for each time\n",
    "    R_AES = np.sum(R_AFE)\n",
    "    print(f'2. Absolute sum of errors: {R_AES}')\n",
    "    \n",
    "    return ME, R_ME, Vsol[:,-1] #max error, real max error, present value"
   ]
  },
  {
   "cell_type": "markdown",
   "id": "ad863970-cc99-47f9-9a02-46821c0b2b61",
   "metadata": {
    "tags": []
   },
   "source": [
    "# Results: Had an initial Trial 1 that was removed, so numbering remains 2, 3, 4, 5, 6."
   ]
  },
  {
   "cell_type": "markdown",
   "id": "8f902165-0874-4571-a9fc-2f3d69d0a17a",
   "metadata": {
    "tags": []
   },
   "source": [
    "### 2. $\\lambda = \\frac{\\Delta t}{\\Delta z} = 10$"
   ]
  },
  {
   "cell_type": "code",
   "execution_count": 8,
   "id": "7a847692-d71d-4cfd-b7c2-74a4392ed9e4",
   "metadata": {},
   "outputs": [],
   "source": [
    "# Empty list to store max error values\n",
    "L2_max_errors = []\n",
    "L2_real_max_errors = []\n",
    "# Empty list to store dt and dz's\n",
    "L2_dt_vals = []\n",
    "L2_dz_vals = []\n"
   ]
  },
  {
   "cell_type": "markdown",
   "id": "0a60091c-1852-4842-a578-937a88f659fa",
   "metadata": {
    "jp-MarkdownHeadingCollapsed": true,
    "tags": []
   },
   "source": [
    "#### 2.1 Parameters $\\Delta z = 0.1, \\Delta t = 1$"
   ]
  },
  {
   "cell_type": "code",
   "execution_count": 9,
   "id": "e3f8d642-d630-499d-a8a9-4824049eac69",
   "metadata": {},
   "outputs": [],
   "source": [
    "dZ=0.1\n",
    "dt=1"
   ]
  },
  {
   "cell_type": "code",
   "execution_count": 10,
   "id": "848ace2a-804f-474d-8f51-c000026d7778",
   "metadata": {},
   "outputs": [
    {
     "name": "stdout",
     "output_type": "stream",
     "text": [
      "Stepsizes: dz = 0.10013855831631045 and dt = 1.0\n",
      "lambda = 9.98616334021179\n",
      "\n",
      " Tridiagonal system coefficients:\n",
      "lower diag values = -0.539099720391105\n",
      "diag values = 2.1318889053956367\n",
      "upper diag values = -0.5827891850045315\n",
      "\n",
      " ENTIRE S DOMAIN ERRORS\n",
      "1. Maximal error: 9.607894391523416 \n",
      "\n",
      "located at 292, z value of 6.214608098422193, S value of 500.00000000000074 \n",
      "\n",
      "2. Absolute sum of errors: 22.51922611898233\n",
      "\n",
      " REALISTIC S DOMAIN ERRORS\n",
      "1. Maximal error: 0.024342239148605227 \n",
      "\n",
      "located at 254, z value of 2.409342882402399, S value of 11.126647226581326 \n",
      "\n",
      "2. Absolute sum of errors: 0.14383887717502786\n"
     ]
    }
   ],
   "source": [
    "L2P1 = PV_Rannacher(dt=dt, dZ=dZ, R=1)"
   ]
  },
  {
   "cell_type": "code",
   "execution_count": 11,
   "id": "ac4e07bb-c292-484b-94bc-2383de566edc",
   "metadata": {},
   "outputs": [],
   "source": [
    "L2_max_errors.append(L2P1[0])\n",
    "L2_real_max_errors.append(L2P1[1])\n",
    "L2_dt_vals.append(dt)\n",
    "L2_dz_vals.append(dZ)"
   ]
  },
  {
   "cell_type": "markdown",
   "id": "e1559614-2ab1-4fac-9d16-c2338cec311d",
   "metadata": {
    "jp-MarkdownHeadingCollapsed": true,
    "tags": []
   },
   "source": [
    "#### 2.2 Parameters $\\Delta z = 0.05, \\Delta t = 0.5$"
   ]
  },
  {
   "cell_type": "code",
   "execution_count": 12,
   "id": "d8edb14f-f760-4ef5-b26f-7a363383d2e1",
   "metadata": {},
   "outputs": [],
   "source": [
    "dZ=0.05\n",
    "dt=0.5"
   ]
  },
  {
   "cell_type": "code",
   "execution_count": 13,
   "id": "ee3c216a-9fd9-4dc5-8cb5-4399a30f08b2",
   "metadata": {},
   "outputs": [
    {
     "name": "stdout",
     "output_type": "stream",
     "text": [
      "Stepsizes: dz = 0.049983690646773764 and dt = 0.5\n",
      "lambda = 10.003262934972428\n",
      "\n",
      " Tridiagonal system coefficients:\n",
      "lower diag values = -1.103852142474421\n",
      "diag values = 3.2564685602893464\n",
      "upper diag values = -1.1476164178149255\n",
      "\n",
      " ENTIRE S DOMAIN ERRORS\n",
      "1. Maximal error: 9.607894391523416 \n",
      "\n",
      "located at 585, z value of 6.214608098422193, S value of 500.00000000000074 \n",
      "\n",
      "2. Absolute sum of errors: 39.34000369098341\n",
      "\n",
      " REALISTIC S DOMAIN ERRORS\n",
      "1. Maximal error: 0.0032389730796391625 \n",
      "\n",
      "located at 508, z value of 2.365863918620615, S value of 10.65323837410495 \n",
      "\n",
      "2. Absolute sum of errors: 0.05278913341907865\n"
     ]
    }
   ],
   "source": [
    "L2P2 = PV_Rannacher(dt=dt, dZ=dZ, R=1)"
   ]
  },
  {
   "cell_type": "code",
   "execution_count": 14,
   "id": "66db0030-3ead-4570-8964-4338ba6bb131",
   "metadata": {},
   "outputs": [],
   "source": [
    "L2_max_errors.append(L2P2[0])\n",
    "L2_real_max_errors.append(L2P2[1])\n",
    "L2_dt_vals.append(dt)\n",
    "L2_dz_vals.append(dZ)"
   ]
  },
  {
   "cell_type": "markdown",
   "id": "642c1b2f-ff44-4d03-b87b-3f9401c10e2b",
   "metadata": {
    "jp-MarkdownHeadingCollapsed": true,
    "tags": []
   },
   "source": [
    "#### 2.3 Parameters $\\Delta z = 0.025, \\Delta t = 0.25$"
   ]
  },
  {
   "cell_type": "code",
   "execution_count": 15,
   "id": "d3c63a7c-74bc-4a9d-b3ad-f67954163c86",
   "metadata": {},
   "outputs": [],
   "source": [
    "dZ = 0.025\n",
    "dt = 0.25"
   ]
  },
  {
   "cell_type": "code",
   "execution_count": 16,
   "id": "9a83bb44-b30c-416b-a68a-d8e45f2f8c23",
   "metadata": {},
   "outputs": [
    {
     "name": "stdout",
     "output_type": "stream",
     "text": [
      "Stepsizes: dz = 0.024991845323386882 and dt = 0.25\n",
      "lambda = 10.003262934972428\n",
      "\n",
      " Tridiagonal system coefficients:\n",
      "lower diag values = -2.2295864226190942\n",
      "diag values = 5.505437120578693\n",
      "upper diag values = -2.2733506979595988\n",
      "\n",
      " ENTIRE S DOMAIN ERRORS\n",
      "1. Maximal error: 9.607894391523416 \n",
      "\n",
      "located at 1170, z value of 6.214608098422193, S value of 500.00000000000074 \n",
      "\n",
      "2. Absolute sum of errors: 73.4476286170894\n",
      "\n",
      " REALISTIC S DOMAIN ERRORS\n",
      "1. Maximal error: 0.0007584947980115303 \n",
      "\n",
      "located at 998, z value of 1.9160107027996496, S value of 6.793801842708017 \n",
      "\n",
      "2. Absolute sum of errors: 0.02420400543725798\n"
     ]
    }
   ],
   "source": [
    "L2P3 = PV_Rannacher(dt=dt, dZ=dZ, R=1)"
   ]
  },
  {
   "cell_type": "code",
   "execution_count": 17,
   "id": "7cb16609-19c3-4c89-aa36-254fb2df5c4c",
   "metadata": {},
   "outputs": [],
   "source": [
    "L2_max_errors.append(L2P3[0])\n",
    "L2_real_max_errors.append(L2P3[1])\n",
    "L2_dt_vals.append(dt)\n",
    "L2_dz_vals.append(dZ)"
   ]
  },
  {
   "cell_type": "markdown",
   "id": "9cd5aa6b-8a63-427c-9a81-e2e58730fe7b",
   "metadata": {
    "jp-MarkdownHeadingCollapsed": true,
    "tags": []
   },
   "source": [
    "#### 2.4 Parameters $\\Delta z = 0.01, \\Delta t = 0.1$"
   ]
  },
  {
   "cell_type": "code",
   "execution_count": 18,
   "id": "87517407-db52-4cf2-962a-a7b50e0c4166",
   "metadata": {},
   "outputs": [],
   "source": [
    "dZ=0.01\n",
    "dt=0.1"
   ]
  },
  {
   "cell_type": "code",
   "execution_count": 19,
   "id": "587c19b6-d59b-4aac-af8f-f3b66c7681ff",
   "metadata": {},
   "outputs": [
    {
     "name": "stdout",
     "output_type": "stream",
     "text": [
      "Stepsizes: dz = 0.010000156986444134 and dt = 0.1\n",
      "lambda = 9.999843016020302\n",
      "\n",
      " Tridiagonal system coefficients:\n",
      "lower diag values = -5.602948737811518\n",
      "diag values = 12.250646788818125\n",
      "upper diag values = -5.646698051006607\n",
      "\n",
      " ENTIRE S DOMAIN ERRORS\n",
      "1. Maximal error: 9.607894391523416 \n",
      "\n",
      "located at 2924, z value of 6.214608098422193, S value of 500.00000000000074 \n",
      "\n",
      "2. Absolute sum of errors: 176.06863551694957\n",
      "\n",
      " REALISTIC S DOMAIN ERRORS\n",
      "1. Maximal error: 0.00015136997757414505 \n",
      "\n",
      "located at 2534, z value of 2.3145468737089807, S value of 10.120336089259277 \n",
      "\n",
      "2. Absolute sum of errors: 0.011454951703509745\n"
     ]
    }
   ],
   "source": [
    "L2P4 = PV_Rannacher(dt=dt, dZ=dZ, R=1)"
   ]
  },
  {
   "cell_type": "code",
   "execution_count": 20,
   "id": "cc476bb2-af82-440b-a608-3975ce4b0174",
   "metadata": {},
   "outputs": [],
   "source": [
    "L2_max_errors.append(L2P4[0])\n",
    "L2_real_max_errors.append(L2P4[1])\n",
    "L2_dt_vals.append(dt)\n",
    "L2_dz_vals.append(dZ)"
   ]
  },
  {
   "cell_type": "markdown",
   "id": "36cdd16f-db45-4844-aca6-62b689eda096",
   "metadata": {
    "jp-MarkdownHeadingCollapsed": true,
    "tags": []
   },
   "source": [
    "#### 2.5 Parameters: $\\Delta z = 0.005, \\Delta t = 0.05$"
   ]
  },
  {
   "cell_type": "code",
   "execution_count": 21,
   "id": "3d241a36-c0e9-40fd-8369-286714955b3f",
   "metadata": {},
   "outputs": [],
   "source": [
    "dZ=0.005\n",
    "dt=0.05"
   ]
  },
  {
   "cell_type": "code",
   "execution_count": 22,
   "id": "4adab482-698b-43ec-9097-0aaefc93c8b2",
   "metadata": {},
   "outputs": [
    {
     "name": "stdout",
     "output_type": "stream",
     "text": [
      "Stepsizes: dz = 0.005000078493222067 and dt = 0.05\n",
      "lambda = 9.999843016020302\n",
      "\n",
      " Tridiagonal system coefficients:\n",
      "lower diag values = -11.22777213222058\n",
      "diag values = 23.49979357763625\n",
      "upper diag values = -11.27152144541567\n",
      "\n",
      " ENTIRE S DOMAIN ERRORS\n",
      "1. Maximal error: 9.607894391523416 \n",
      "\n",
      "located at 5848, z value of 6.214608098422193, S value of 500.00000000000074 \n",
      "\n",
      "2. Absolute sum of errors: 347.2486635812519\n",
      "\n",
      " REALISTIC S DOMAIN ERRORS\n",
      "1. Maximal error: 2.98886673286633e-05 \n",
      "\n",
      "located at 4990, z value of 1.9245407512376573, S value of 6.852001170155771 \n",
      "\n",
      "2. Absolute sum of errors: 0.004954357758532118\n"
     ]
    }
   ],
   "source": [
    "L2P5 = PV_Rannacher(dt=dt, dZ=dZ, R=1)"
   ]
  },
  {
   "cell_type": "code",
   "execution_count": 23,
   "id": "6fcdf621-d8bb-4d34-98f6-dab6485f5584",
   "metadata": {},
   "outputs": [],
   "source": [
    "L2_max_errors.append(L2P5[0])\n",
    "L2_real_max_errors.append(L2P5[1])\n",
    "L2_dt_vals.append(dt)\n",
    "L2_dz_vals.append(dZ)"
   ]
  },
  {
   "cell_type": "markdown",
   "id": "f616f04d-7cc2-4ea8-8606-73f358060bb8",
   "metadata": {
    "jp-MarkdownHeadingCollapsed": true,
    "tags": []
   },
   "source": [
    "#### 2.6 Parameters: $\\Delta z = 0.0025, \\Delta t = 0.025$"
   ]
  },
  {
   "cell_type": "code",
   "execution_count": 24,
   "id": "8f132011-ba66-4c04-898c-2c92582412ff",
   "metadata": {},
   "outputs": [],
   "source": [
    "dZ=0.0025\n",
    "dt=0.025"
   ]
  },
  {
   "cell_type": "code",
   "execution_count": 25,
   "id": "b14456ce-6461-4948-8c3f-f0baaa29ac1b",
   "metadata": {},
   "outputs": [
    {
     "name": "stdout",
     "output_type": "stream",
     "text": [
      "Stepsizes: dz = 0.0025000392466110336 and dt = 0.025\n",
      "lambda = 9.999843016020302\n",
      "\n",
      " Tridiagonal system coefficients:\n",
      "lower diag values = -22.477418921038705\n",
      "diag values = 45.9988371552725\n",
      "upper diag values = -22.521168234233794\n",
      "\n",
      " ENTIRE S DOMAIN ERRORS\n",
      "1. Maximal error: 9.607894391523416 \n",
      "\n",
      "located at 11696, z value of 6.214608098422193, S value of 500.00000000000074 \n",
      "\n",
      "2. Absolute sum of errors: 689.6530818115995\n",
      "\n",
      " REALISTIC S DOMAIN ERRORS\n",
      "1. Maximal error: 8.712383084308328e-06 \n",
      "\n",
      "located at 10143, z value of 2.332047148435258, S value of 10.299003556158734 \n",
      "\n",
      "2. Absolute sum of errors: 0.0027918856703825156\n"
     ]
    }
   ],
   "source": [
    "L2P6 = PV_Rannacher(dt=dt, dZ=dZ, R=1)"
   ]
  },
  {
   "cell_type": "code",
   "execution_count": 26,
   "id": "7d2d407f-c2a8-4ceb-b34a-5913f1b49f06",
   "metadata": {},
   "outputs": [],
   "source": [
    "L2_max_errors.append(L2P6[0])\n",
    "L2_real_max_errors.append(L2P6[1])\n",
    "L2_dt_vals.append(dt)\n",
    "L2_dz_vals.append(dZ)"
   ]
  },
  {
   "cell_type": "markdown",
   "id": "545fc359-b581-431c-8cdb-14313cd05a54",
   "metadata": {
    "tags": []
   },
   "source": [
    "#### 2.7 Parameters: $\\Delta z = 0.001, \\Delta t = 0.01$"
   ]
  },
  {
   "cell_type": "code",
   "execution_count": 27,
   "id": "af8d9c72-2ec2-4ada-bc2c-e549635558bb",
   "metadata": {},
   "outputs": [],
   "source": [
    "dZ=0.001\n",
    "dt=0.01"
   ]
  },
  {
   "cell_type": "code",
   "execution_count": 28,
   "id": "3224396c-bd03-4f1e-a9f6-fd8873426cd2",
   "metadata": {},
   "outputs": [
    {
     "name": "stdout",
     "output_type": "stream",
     "text": [
      "Stepsizes: dz = 0.0010000156986444135 and dt = 0.01\n",
      "lambda = 9.9998430160203\n",
      "\n",
      " Tridiagonal system coefficients:\n",
      "lower diag values = -56.22635928749307\n",
      "diag values = 113.49656788818123\n",
      "upper diag values = -56.27010860068816\n",
      "\n",
      " ENTIRE S DOMAIN ERRORS\n",
      "1. Maximal error: 9.607894391523416 \n",
      "\n",
      "located at 29240, z value of 6.214608098422193, S value of 500.00000000000074 \n",
      "\n",
      "2. Absolute sum of errors: 1716.898138543237\n",
      "\n",
      " REALISTIC S DOMAIN ERRORS\n",
      "1. Maximal error: 2.566623712230154e-06 \n",
      "\n",
      "located at 25344, z value of 2.3185469365035587, S value of 10.16089914241267 \n",
      "\n",
      "2. Absolute sum of errors: 0.0015001031505206548\n"
     ]
    }
   ],
   "source": [
    "L2P7 = PV_Rannacher(dt=dt, dZ=dZ, R=1)"
   ]
  },
  {
   "cell_type": "code",
   "execution_count": 29,
   "id": "737be0ef-4ced-4b89-80c9-d8bc76548f35",
   "metadata": {},
   "outputs": [],
   "source": [
    "L2_max_errors.append(L2P7[0])\n",
    "L2_real_max_errors.append(L2P7[1])\n",
    "L2_dt_vals.append(dt)\n",
    "L2_dz_vals.append(dZ)"
   ]
  },
  {
   "cell_type": "markdown",
   "id": "ab73e386-781a-49a7-83f1-3ca7942faf6b",
   "metadata": {
    "jp-MarkdownHeadingCollapsed": true,
    "tags": []
   },
   "source": [
    "#### Additional steps "
   ]
  },
  {
   "cell_type": "code",
   "execution_count": 30,
   "id": "e8699479-010f-45b0-8f19-75b1769cf3e7",
   "metadata": {},
   "outputs": [],
   "source": [
    "# Empty list to store max error values\n",
    "L2a_max_errors = []\n",
    "L2a_real_max_errors = []\n",
    "# Empty list to store dt and dz's\n",
    "L2a_dt_vals = []\n",
    "L2a_dz_vals = []"
   ]
  },
  {
   "cell_type": "code",
   "execution_count": 31,
   "id": "179d7c97-fe51-4595-a0ca-dc9957050afb",
   "metadata": {},
   "outputs": [],
   "source": [
    "# dz = 0.075\n",
    "# dt = 0.075*10\n",
    "\n",
    "# L2a1 = PV_Rannacher(dt=dt, dZ=dz, R=1)\n",
    "# L2a_max_errors.append(L2a1[0])\n",
    "# L2a_real_max_errors.append(L2a1[1])\n",
    "# L2a_dt_vals.append(dt)\n",
    "# L2a_dz_vals.append(dz)\n",
    "\n",
    "# ###########\n",
    "\n",
    "# dz = 0.0375\n",
    "# dt = 0.0375*10\n",
    "\n",
    "# L2a2 = PV_Rannacher(dt=dt, dZ=dz, R=1)\n",
    "# L2a_max_errors.append(L2a2[0])\n",
    "# L2a_real_max_errors.append(L2a2[1])\n",
    "# L2a_dt_vals.append(dt)\n",
    "# L2a_dz_vals.append(dz)\n",
    "\n",
    "# ###########\n",
    "\n",
    "# dz = 0.0175\n",
    "# dt = 0.0175*10\n",
    "\n",
    "# L2a3 = PV_Rannacher(dt=dt, dZ=dz, R=1)\n",
    "# L2a_max_errors.append(L2a3[0])\n",
    "# L2a_real_max_errors.append(L2a3[1])\n",
    "# L2a_dt_vals.append(dt)\n",
    "# L2a_dz_vals.append(dz)\n",
    "\n",
    "# ###########\n",
    "\n",
    "# dz = 0.0075\n",
    "# dt = 0.0075*10\n",
    "\n",
    "# L2a4 = PV_Rannacher(dt=dt, dZ=dz, R=1)\n",
    "# L2a_max_errors.append(L2a4[0])\n",
    "# L2a_real_max_errors.append(L2a4[1])\n",
    "# L2a_dt_vals.append(dt)\n",
    "# L2a_dz_vals.append(dz)\n",
    "\n",
    "# ###########\n",
    "\n",
    "# dz = 0.00375\n",
    "# dt = 0.00375*10\n",
    "\n",
    "# L2a5 = PV_Rannacher(dt=dt, dZ=dz, R=1)\n",
    "# L2a_max_errors.append(L2a5[0])\n",
    "# L2a_real_max_errors.append(L2a5[1])\n",
    "# L2a_dt_vals.append(dt)\n",
    "# L2a_dz_vals.append(dz)\n",
    "\n",
    "# ###########\n",
    "\n",
    "# dz = 0.00175\n",
    "# dt = 0.00175*10\n",
    "\n",
    "# L2a6 = PV_Rannacher(dt=dt, dZ=dz, R=1)\n",
    "# L2a_max_errors.append(L2a6[0])\n",
    "# L2a_real_max_errors.append(L2a6[1])\n",
    "# L2a_dt_vals.append(dt)\n",
    "# L2a_dz_vals.append(dz)\n",
    "\n",
    "# ###########\n",
    "\n",
    "# dz = 0.00075\n",
    "# dt = 0.00075*10\n",
    "\n",
    "# L2a7 = PV_Rannacher(dt=dt, dZ=dz, R=1)\n",
    "# L2a_max_errors.append(L2a7[0])\n",
    "# L2a_real_max_errors.append(L2a7[1])\n",
    "# L2a_dt_vals.append(dt)\n",
    "# L2a_dz_vals.append(dz)\n",
    "\n",
    "# ###########\n",
    "\n",
    "# dz = 0.0005\n",
    "# dt = 0.0005*10\n",
    "\n",
    "# L2a8 = PV_Rannacher(dt=dt, dZ=dz, R=1)\n",
    "# L2a_max_errors.append(L2a8[0])\n",
    "# L2a_real_max_errors.append(L2a8[1])\n",
    "# L2a_dt_vals.append(dt)\n",
    "# L2a_dz_vals.append(dz)\n",
    "\n",
    "# ###########\n",
    "\n",
    "# dz = 0.00025\n",
    "# dt = 0.00025*10\n",
    "\n",
    "# L2a9 = PV_Rannacher(dt=dt, dZ=dz, R=1)\n",
    "# L2a_max_errors.append(L2a9[0])\n",
    "# L2a_real_max_errors.append(L2a9[1])\n",
    "# L2a_dt_vals.append(dt)\n",
    "# L2a_dz_vals.append(dz)"
   ]
  },
  {
   "cell_type": "markdown",
   "id": "b0c56adc-9113-4f29-b04d-f32b617354a3",
   "metadata": {
    "tags": []
   },
   "source": [
    "#### PLOTS of Convergence for decreasing step size"
   ]
  },
  {
   "cell_type": "code",
   "execution_count": 32,
   "id": "ef7b644c-1a8a-4184-9098-7dfed4e66037",
   "metadata": {},
   "outputs": [],
   "source": [
    "# delta t values\n",
    "dt_vals = np.array(L2_dt_vals + L2a_dt_vals)\n",
    "sorted_indices = np.argsort(dt_vals)\n",
    "dt_vals = np.array([dt_vals[i] for i in sorted_indices])\n",
    "inv_dt_vals = np.divide(np.ones(len(dt_vals)), dt_vals)\n",
    "\n",
    "# delta z values\n",
    "dz_vals = np.array(L2_dz_vals + L2a_dz_vals)\n",
    "dz_vals = np.array([dz_vals[i] for i in sorted_indices])\n",
    "inv_dz_vals = np.divide(np.ones(len(dz_vals)), dz_vals)\n",
    "\n",
    "\n",
    "# max errors in realistic range\n",
    "real_max_errors = np.array(L2_real_max_errors + L2a_real_max_errors)\n",
    "real_max_errors = np.array([real_max_errors[i] for i in sorted_indices])\n",
    "\n",
    "# max errors in entire range\n",
    "max_errors = np.array(L2_max_errors + L2a_max_errors)\n",
    "max_errors = np.array([max_errors[i] for i in sorted_indices])"
   ]
  },
  {
   "cell_type": "markdown",
   "id": "d084ee5f-9331-4a23-9711-cec5aee6bbab",
   "metadata": {
    "tags": []
   },
   "source": [
    "##### Realistic S domain for 1/dz"
   ]
  },
  {
   "cell_type": "code",
   "execution_count": 33,
   "id": "3e8d605a-2aee-449d-8486-ddd3f2b698e3",
   "metadata": {},
   "outputs": [
    {
     "data": {
      "application/vnd.jupyter.widget-view+json": {
       "model_id": "25c9086431514bbc95d66fa3c825a4fc",
       "version_major": 2,
       "version_minor": 0
      },
      "image/png": "[encoded data removed]",
      "text/html": [
       "\n",
       "            <div style=\"display: inline-block;\">\n",
       "                <div class=\"jupyter-widgets widget-label\" style=\"text-align: center;\">\n",
       "                    Figure\n",
       "                </div>\n",
       "                <img src='data:image/png;base64,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' width=640.0/>\n",
       "            </div>\n",
       "        "
      ],
      "text/plain": [
       "Canvas(toolbar=Toolbar(toolitems=[('Home', 'Reset original view', 'home', 'home'), ('Back', 'Back to previous …"
      ]
     },
     "metadata": {},
     "output_type": "display_data"
    }
   ],
   "source": [
    "inv_z = np.linspace(0, max(inv_dz_vals), 1000)\n",
    "plt.figure()\n",
    "plt.title('Max error for $\\\\lambda = \\\\frac{\\Delta t}{\\Delta z} = 10$')\n",
    "plt.ylabel('Max error')\n",
    "plt.xlabel('Inverse z step size $(1 / \\Delta z)$')\n",
    "plt.xlim\n",
    "plt.plot(inv_dz_vals, real_max_errors, marker='x', color='black', label='Max error/step size data points')\n",
    "plt.show()"
   ]
  },
  {
   "cell_type": "code",
   "execution_count": 34,
   "id": "79071d3b-3042-405c-bc6a-f2f1ec1046d7",
   "metadata": {},
   "outputs": [
    {
     "data": {
      "application/vnd.jupyter.widget-view+json": {
       "model_id": "e5c804fd3fd847d69fd21e3fefe9bbe6",
       "version_major": 2,
       "version_minor": 0
      },
      "image/png": "[encoded data removed]",
      "text/html": [
       "\n",
       "            <div style=\"display: inline-block;\">\n",
       "                <div class=\"jupyter-widgets widget-label\" style=\"text-align: center;\">\n",
       "                    Figure\n",
       "                </div>\n",
       "                <img src='data:image/png;base64,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' width=640.0/>\n",
       "            </div>\n",
       "        "
      ],
      "text/plain": [
       "Canvas(toolbar=Toolbar(toolitems=[('Home', 'Reset original view', 'home', 'home'), ('Back', 'Back to previous …"
      ]
     },
     "metadata": {},
     "output_type": "display_data"
    }
   ],
   "source": [
    "inv_z = np.linspace(0, max(inv_dz_vals), 1000)\n",
    "plt.figure()\n",
    "plt.title('Max error for $\\\\lambda = \\\\frac{\\Delta t}{\\Delta z} = 10$')\n",
    "plt.ylabel('Max error')\n",
    "plt.xlabel('Inverse z step size $(1 / \\Delta z)$')\n",
    "plt.xlim\n",
    "plt.loglog(inv_dz_vals, real_max_errors, marker='x', color='black', label='Max error/step size data points')\n",
    "plt.show()"
   ]
  },
  {
   "cell_type": "markdown",
   "id": "3128a74d-207e-41e9-848a-37e5b125013d",
   "metadata": {
    "jp-MarkdownHeadingCollapsed": true,
    "tags": []
   },
   "source": [
    "### 3. $\\lambda = \\frac{\\Delta t}{\\Delta z} = 5$"
   ]
  },
  {
   "cell_type": "code",
   "execution_count": 35,
   "id": "9c9efc0a-7aef-4aeb-9776-9da6ea5551ce",
   "metadata": {},
   "outputs": [],
   "source": [
    "# Empty list to store max error values\n",
    "L3_max_errors = []\n",
    "L3_real_max_errors = []\n",
    "# Empty list to store dt and dz's\n",
    "L3_dt_vals = []\n",
    "L3_dz_vals = []\n"
   ]
  },
  {
   "cell_type": "markdown",
   "id": "7efd2074-fe1a-4ee3-acf1-e658d5e6d083",
   "metadata": {
    "jp-MarkdownHeadingCollapsed": true,
    "tags": []
   },
   "source": [
    "#### 3.1 Parameters $\\Delta z = 0.1, \\Delta t = 0.5$"
   ]
  },
  {
   "cell_type": "code",
   "execution_count": 36,
   "id": "9e5d7a85-f463-4e26-a97c-55a82e03bd9e",
   "metadata": {},
   "outputs": [],
   "source": [
    "dZ=0.1\n",
    "dt=0.5"
   ]
  },
  {
   "cell_type": "code",
   "execution_count": 37,
   "id": "446723e9-126e-40fb-8d48-05ad3595e745",
   "metadata": {},
   "outputs": [
    {
     "name": "stdout",
     "output_type": "stream",
     "text": [
      "Stepsizes: dz = 0.10013855831631045 and dt = 0.5\n",
      "lambda = 4.993081670105895\n",
      "\n",
      " Tridiagonal system coefficients:\n",
      "lower diag values = -0.2695498601955525\n",
      "diag values = 1.5659444526978183\n",
      "upper diag values = -0.29139459250226574\n",
      "\n",
      " ENTIRE S DOMAIN ERRORS\n",
      "1. Maximal error: 9.607894391523416 \n",
      "\n",
      "located at 292, z value of 6.214608098422193, S value of 500.00000000000074 \n",
      "\n",
      "2. Absolute sum of errors: 22.59610145318083\n",
      "\n",
      " REALISTIC S DOMAIN ERRORS\n",
      "1. Maximal error: 0.019077042784682252 \n",
      "\n",
      "located at 253, z value of 2.309204324086089, S value of 10.066411866183358 \n",
      "\n",
      "2. Absolute sum of errors: 0.1116398623941798\n"
     ]
    }
   ],
   "source": [
    "L3P1 = PV_Rannacher(dt=dt, dZ=dZ, R=1)"
   ]
  },
  {
   "cell_type": "code",
   "execution_count": 38,
   "id": "120b3319-e8a3-4be5-b858-e563aff33e5c",
   "metadata": {},
   "outputs": [],
   "source": [
    "L3_max_errors.append(L3P1[0])\n",
    "L3_real_max_errors.append(L3P1[1])\n",
    "L3_dt_vals.append(dt)\n",
    "L3_dz_vals.append(dZ)"
   ]
  },
  {
   "cell_type": "markdown",
   "id": "f04d29c4-c45c-40d8-a7bd-7a441f4250e8",
   "metadata": {
    "jp-MarkdownHeadingCollapsed": true,
    "tags": []
   },
   "source": [
    "#### 3.2 Parameters $\\Delta z = 0.05, \\Delta t = 0.25$"
   ]
  },
  {
   "cell_type": "code",
   "execution_count": 39,
   "id": "f7ddd8e2-773d-4d3b-afdc-f197c4b5681a",
   "metadata": {},
   "outputs": [],
   "source": [
    "dZ=0.05\n",
    "dt=0.25"
   ]
  },
  {
   "cell_type": "code",
   "execution_count": 40,
   "id": "165cac1f-3b3f-436f-8a68-7355397e911e",
   "metadata": {},
   "outputs": [
    {
     "name": "stdout",
     "output_type": "stream",
     "text": [
      "Stepsizes: dz = 0.049983690646773764 and dt = 0.25\n",
      "lambda = 5.001631467486214\n",
      "\n",
      " Tridiagonal system coefficients:\n",
      "lower diag values = -0.5519260712372105\n",
      "diag values = 2.128234280144673\n",
      "upper diag values = -0.5738082089074628\n",
      "\n",
      " ENTIRE S DOMAIN ERRORS\n",
      "1. Maximal error: 9.607894391523416 \n",
      "\n",
      "located at 585, z value of 6.214608098422193, S value of 500.00000000000074 \n",
      "\n",
      "2. Absolute sum of errors: 39.385675858293986\n",
      "\n",
      " REALISTIC S DOMAIN ERRORS\n",
      "1. Maximal error: 0.001879529234689259 \n",
      "\n",
      "located at 500, z value of 1.965994393446426, S value of 7.142011029214633 \n",
      "\n",
      "2. Absolute sum of errors: 0.04102511490219266\n"
     ]
    }
   ],
   "source": [
    "L3P2 = PV_Rannacher(dt=dt, dZ=dZ, R=1)"
   ]
  },
  {
   "cell_type": "code",
   "execution_count": 41,
   "id": "c65042d1-51fa-4750-a647-996b2b396537",
   "metadata": {},
   "outputs": [],
   "source": [
    "L3_max_errors.append(L3P2[0])\n",
    "L3_real_max_errors.append(L3P2[1])\n",
    "L3_dt_vals.append(dt)\n",
    "L3_dz_vals.append(dZ)"
   ]
  },
  {
   "cell_type": "markdown",
   "id": "fd8bd044-617a-4350-8599-5d6f4ef7bbb1",
   "metadata": {
    "jp-MarkdownHeadingCollapsed": true,
    "tags": []
   },
   "source": [
    "#### 3.3 Parameters $\\Delta z = 0.025, \\Delta t = 0.125$"
   ]
  },
  {
   "cell_type": "code",
   "execution_count": 42,
   "id": "be1d8e3b-5217-4937-b021-f4acd8bc41a2",
   "metadata": {},
   "outputs": [],
   "source": [
    "dZ = 0.025\n",
    "dt = 0.125"
   ]
  },
  {
   "cell_type": "code",
   "execution_count": 43,
   "id": "f4849da2-e826-4f00-be42-8725ac3e301a",
   "metadata": {},
   "outputs": [
    {
     "name": "stdout",
     "output_type": "stream",
     "text": [
      "Stepsizes: dz = 0.024991845323386882 and dt = 0.125\n",
      "lambda = 5.001631467486214\n",
      "\n",
      " Tridiagonal system coefficients:\n",
      "lower diag values = -1.1147932113095471\n",
      "diag values = 3.2527185602893467\n",
      "upper diag values = -1.1366753489797994\n",
      "\n",
      " ENTIRE S DOMAIN ERRORS\n",
      "1. Maximal error: 9.607894391523416 \n",
      "\n",
      "located at 1170, z value of 6.214608098422193, S value of 500.00000000000074 \n",
      "\n",
      "2. Absolute sum of errors: 73.47473129913583\n",
      "\n",
      " REALISTIC S DOMAIN ERRORS\n",
      "1. Maximal error: 0.0005489754878700015 \n",
      "\n",
      "located at 1001, z value of 1.9909862387698105, S value of 7.322752184286526 \n",
      "\n",
      "2. Absolute sum of errors: 0.02086558371854722\n"
     ]
    }
   ],
   "source": [
    "L3P3 = PV_Rannacher(dt=dt, dZ=dZ, R=1)"
   ]
  },
  {
   "cell_type": "code",
   "execution_count": 44,
   "id": "6dbe3b53-bd19-4e17-b419-a0ccf53b3ad2",
   "metadata": {},
   "outputs": [],
   "source": [
    "L3_max_errors.append(L3P3[0])\n",
    "L3_real_max_errors.append(L3P3[1])\n",
    "L3_dt_vals.append(dt)\n",
    "L3_dz_vals.append(dZ)"
   ]
  },
  {
   "cell_type": "markdown",
   "id": "c097bcfd-3533-45dd-bac6-601286c0347e",
   "metadata": {
    "jp-MarkdownHeadingCollapsed": true,
    "tags": []
   },
   "source": [
    "#### 3.4 Parameters $\\Delta z = 0.01, \\Delta t = 0.05$"
   ]
  },
  {
   "cell_type": "code",
   "execution_count": 45,
   "id": "79e39016-3c3d-4ef1-873a-22d5200ace2d",
   "metadata": {},
   "outputs": [],
   "source": [
    "dZ=0.01\n",
    "dt=0.05"
   ]
  },
  {
   "cell_type": "code",
   "execution_count": 46,
   "id": "38c73f4c-6198-4f0a-9498-f81b87602e8f",
   "metadata": {},
   "outputs": [
    {
     "name": "stdout",
     "output_type": "stream",
     "text": [
      "Stepsizes: dz = 0.010000156986444134 and dt = 0.05\n",
      "lambda = 4.999921508010151\n",
      "\n",
      " Tridiagonal system coefficients:\n",
      "lower diag values = -2.801474368905759\n",
      "diag values = 6.625323394409063\n",
      "upper diag values = -2.8233490255033034\n",
      "\n",
      " ENTIRE S DOMAIN ERRORS\n",
      "1. Maximal error: 9.607894391523416 \n",
      "\n",
      "located at 2924, z value of 6.214608098422193, S value of 500.00000000000074 \n",
      "\n",
      "2. Absolute sum of errors: 176.07880018493879\n",
      "\n",
      " REALISTIC S DOMAIN ERRORS\n",
      "1. Maximal error: 9.411986915752735e-05 \n",
      "\n",
      "located at 2535, z value of 2.324547030695424, S value of 10.222048762627221 \n",
      "\n",
      "2. Absolute sum of errors: 0.008940662362015447\n"
     ]
    }
   ],
   "source": [
    "L3P4 = PV_Rannacher(dt=dt, dZ=dZ, R=1)"
   ]
  },
  {
   "cell_type": "code",
   "execution_count": 47,
   "id": "8962403e-489e-4257-ad74-00ec40bcb0c7",
   "metadata": {},
   "outputs": [],
   "source": [
    "L3_max_errors.append(L3P4[0])\n",
    "L3_real_max_errors.append(L3P4[1])\n",
    "L3_dt_vals.append(dt)\n",
    "L3_dz_vals.append(dZ)"
   ]
  },
  {
   "cell_type": "markdown",
   "id": "178591b9-e99a-419f-bde8-c87cfd70020e",
   "metadata": {
    "jp-MarkdownHeadingCollapsed": true,
    "tags": []
   },
   "source": [
    "#### 3.5 Parameters: $\\Delta z = 0.005, \\Delta t = 0.025$"
   ]
  },
  {
   "cell_type": "code",
   "execution_count": 48,
   "id": "7e4d8a7d-6a3b-4f82-ba05-a14fd16b4f07",
   "metadata": {},
   "outputs": [],
   "source": [
    "dZ=0.005\n",
    "dt=0.025"
   ]
  },
  {
   "cell_type": "code",
   "execution_count": 49,
   "id": "7c94cbd2-708a-4f41-a0c5-4ed0fc03ac73",
   "metadata": {},
   "outputs": [
    {
     "name": "stdout",
     "output_type": "stream",
     "text": [
      "Stepsizes: dz = 0.005000078493222067 and dt = 0.025\n",
      "lambda = 4.999921508010151\n",
      "\n",
      " Tridiagonal system coefficients:\n",
      "lower diag values = -5.61388606611029\n",
      "diag values = 12.249896788818125\n",
      "upper diag values = -5.635760722707835\n",
      "\n",
      " ENTIRE S DOMAIN ERRORS\n",
      "1. Maximal error: 9.607894391523416 \n",
      "\n",
      "located at 5848, z value of 6.214608098422193, S value of 500.00000000000074 \n",
      "\n",
      "2. Absolute sum of errors: 347.2542996631992\n",
      "\n",
      " REALISTIC S DOMAIN ERRORS\n",
      "1. Maximal error: 2.1240706962771805e-05 \n",
      "\n",
      "located at 5001, z value of 1.979541614663102, S value of 7.239423778773581 \n",
      "\n",
      "2. Absolute sum of errors: 0.00416099076629387\n"
     ]
    }
   ],
   "source": [
    "L3P5 = PV_Rannacher(dt=dt, dZ=dZ, R=1)"
   ]
  },
  {
   "cell_type": "code",
   "execution_count": 50,
   "id": "be1fd9a5-29c2-4790-8a83-56a61e0c87fc",
   "metadata": {},
   "outputs": [],
   "source": [
    "L3_max_errors.append(L3P5[0])\n",
    "L3_real_max_errors.append(L3P5[1])\n",
    "L3_dt_vals.append(dt)\n",
    "L3_dz_vals.append(dZ)"
   ]
  },
  {
   "cell_type": "markdown",
   "id": "7a3ca206-126d-4c1a-81c9-245da05b4b24",
   "metadata": {
    "jp-MarkdownHeadingCollapsed": true,
    "tags": []
   },
   "source": [
    "#### 3.6 Parameters: $\\Delta z = 0.0025, \\Delta t = 0.0125$"
   ]
  },
  {
   "cell_type": "code",
   "execution_count": 51,
   "id": "551e8faf-b403-4637-93cc-69c75e47e3e6",
   "metadata": {},
   "outputs": [],
   "source": [
    "dZ=0.0025\n",
    "dt=0.0125"
   ]
  },
  {
   "cell_type": "code",
   "execution_count": 52,
   "id": "956b4b9b-ac8a-4b27-98d2-e5b717244aa9",
   "metadata": {},
   "outputs": [
    {
     "name": "stdout",
     "output_type": "stream",
     "text": [
      "Stepsizes: dz = 0.0025000392466110336 and dt = 0.0125\n",
      "lambda = 4.999921508010151\n",
      "\n",
      " Tridiagonal system coefficients:\n",
      "lower diag values = -11.238709460519352\n",
      "diag values = 23.49941857763625\n",
      "upper diag values = -11.260584117116897\n",
      "\n",
      " ENTIRE S DOMAIN ERRORS\n",
      "1. Maximal error: 9.607894391523416 \n",
      "\n",
      "located at 11696, z value of 6.214608098422193, S value of 500.00000000000074 \n",
      "\n",
      "2. Absolute sum of errors: 689.6557088969059\n",
      "\n",
      " REALISTIC S DOMAIN ERRORS\n",
      "1. Maximal error: 5.223122041098094e-06 \n",
      "\n",
      "located at 10140, z value of 2.324547030695424, S value of 10.222048762627221 \n",
      "\n",
      "2. Absolute sum of errors: 0.002181624108521315\n"
     ]
    }
   ],
   "source": [
    "L3P6 = PV_Rannacher(dt=dt, dZ=dZ, R=1)"
   ]
  },
  {
   "cell_type": "code",
   "execution_count": 53,
   "id": "141db45f-c773-4233-9b24-9fddf2c2f51c",
   "metadata": {},
   "outputs": [],
   "source": [
    "L3_max_errors.append(L3P6[0])\n",
    "L3_real_max_errors.append(L3P6[1])\n",
    "L3_dt_vals.append(dt)\n",
    "L3_dz_vals.append(dZ)"
   ]
  },
  {
   "cell_type": "markdown",
   "id": "5a7dde0b-3992-4bf3-aa5d-147e9391d2bf",
   "metadata": {
    "jp-MarkdownHeadingCollapsed": true,
    "tags": []
   },
   "source": [
    "#### 3.7 Parameters: $\\Delta z = 0.001, \\Delta t = 0.005$"
   ]
  },
  {
   "cell_type": "code",
   "execution_count": 54,
   "id": "79124b6b-3811-402e-9320-e019dc29e9e9",
   "metadata": {},
   "outputs": [],
   "source": [
    "dZ=0.001\n",
    "dt=0.005"
   ]
  },
  {
   "cell_type": "code",
   "execution_count": 55,
   "id": "fee034c3-de10-412d-96ab-6a4cacbd1e50",
   "metadata": {},
   "outputs": [
    {
     "name": "stdout",
     "output_type": "stream",
     "text": [
      "Stepsizes: dz = 0.0010000156986444135 and dt = 0.005\n",
      "lambda = 4.99992150801015\n",
      "\n",
      " Tridiagonal system coefficients:\n",
      "lower diag values = -28.113179643746534\n",
      "diag values = 57.248283944090616\n",
      "upper diag values = -28.13505430034408\n",
      "\n",
      " ENTIRE S DOMAIN ERRORS\n",
      "1. Maximal error: 9.607894391523416 \n",
      "\n",
      "located at 29240, z value of 6.214608098422193, S value of 500.00000000000074 \n",
      "\n",
      "2. Absolute sum of errors: 1716.8991704577945\n",
      "\n",
      " REALISTIC S DOMAIN ERRORS\n",
      "1. Maximal error: 2.0153622264373894e-06 \n",
      "\n",
      "located at 25337, z value of 2.31154682661305, S value of 10.090020101797625 \n",
      "\n",
      "2. Absolute sum of errors: 0.0012319762992470766\n"
     ]
    }
   ],
   "source": [
    "L3P7 = PV_Rannacher(dt=dt, dZ=dZ, R=1)"
   ]
  },
  {
   "cell_type": "code",
   "execution_count": 56,
   "id": "b3292154-3437-447f-beba-fce2c639b08a",
   "metadata": {},
   "outputs": [],
   "source": [
    "L3_max_errors.append(L3P7[0])\n",
    "L3_real_max_errors.append(L3P7[1])\n",
    "L3_dt_vals.append(dt)\n",
    "L3_dz_vals.append(dZ)"
   ]
  },
  {
   "cell_type": "markdown",
   "id": "1beb085d-dbab-42b7-b712-52f3968123a0",
   "metadata": {
    "jp-MarkdownHeadingCollapsed": true,
    "tags": []
   },
   "source": [
    "#### Additional steps "
   ]
  },
  {
   "cell_type": "code",
   "execution_count": 57,
   "id": "edfecbbc-995d-422f-a75d-79df908b51e1",
   "metadata": {},
   "outputs": [],
   "source": [
    "# Empty list to store max error values\n",
    "L3a_max_errors = []\n",
    "L3a_real_max_errors = []\n",
    "# Empty list to store dt and dz's\n",
    "L3a_dt_vals = []\n",
    "L3a_dz_vals = []"
   ]
  },
  {
   "cell_type": "code",
   "execution_count": 58,
   "id": "95e163fc-6f4b-4d68-8992-dd81d41b12f9",
   "metadata": {},
   "outputs": [],
   "source": [
    "# dz = 0.075\n",
    "# dt = 0.075*5\n",
    "\n",
    "# L3a1 = PV_Rannacher(dt=dt, dZ=dz, R=1)\n",
    "# L3a_max_errors.append(L3a1[0])\n",
    "# L3a_real_max_errors.append(L3a1[1])\n",
    "# L3a_dt_vals.append(dt)\n",
    "# L3a_dz_vals.append(dz)\n",
    "\n",
    "# ###########\n",
    "\n",
    "# dz = 0.0375\n",
    "# dt = 0.0375*5\n",
    "\n",
    "# L3a2 = PV_Rannacher(dt=dt, dZ=dz, R=1)\n",
    "# L3a_max_errors.append(L3a2[0])\n",
    "# L3a_real_max_errors.append(L3a2[1])\n",
    "# L3a_dt_vals.append(dt)\n",
    "# L3a_dz_vals.append(dz)\n",
    "\n",
    "# ###########\n",
    "\n",
    "# dz = 0.0175\n",
    "# dt = 0.0175*5\n",
    "\n",
    "# L3a3 = PV_Rannacher(dt=dt, dZ=dz, R=1)\n",
    "# L3a_max_errors.append(L3a3[0])\n",
    "# L3a_real_max_errors.append(L3a3[1])\n",
    "# L3a_dt_vals.append(dt)\n",
    "# L3a_dz_vals.append(dz)\n",
    "\n",
    "# ###########\n",
    "\n",
    "# dz = 0.0075\n",
    "# dt = 0.0075*5\n",
    "\n",
    "# L3a4 = PV_Rannacher(dt=dt, dZ=dz, R=1)\n",
    "# L3a_max_errors.append(L3a4[0])\n",
    "# L3a_real_max_errors.append(L3a4[1])\n",
    "# L3a_dt_vals.append(dt)\n",
    "# L3a_dz_vals.append(dz)\n",
    "\n",
    "# ###########\n",
    "\n",
    "# dz = 0.00375\n",
    "# dt = 0.00375*5\n",
    "\n",
    "# L3a5 = PV_Rannacher(dt=dt, dZ=dz, R=1)\n",
    "# L3a_max_errors.append(L3a5[0])\n",
    "# L3a_real_max_errors.append(L3a5[1])\n",
    "# L3a_dt_vals.append(dt)\n",
    "# L3a_dz_vals.append(dz)\n",
    "\n",
    "# ###########\n",
    "\n",
    "# dz = 0.00175\n",
    "# dt = 0.00175*5\n",
    "\n",
    "# L3a6 = PV_Rannacher(dt=dt, dZ=dz, R=1)\n",
    "# L3a_max_errors.append(L3a6[0])\n",
    "# L3a_real_max_errors.append(L3a6[1])\n",
    "# L3a_dt_vals.append(dt)\n",
    "# L3a_dz_vals.append(dz)\n",
    "\n",
    "# ###########\n",
    "\n",
    "# dz = 0.00075\n",
    "# dt = 0.00075*5\n",
    "\n",
    "# L3a7 = PV_Rannacher(dt=dt, dZ=dz, R=1)\n",
    "# L3a_max_errors.append(L3a7[0])\n",
    "# L3a_real_max_errors.append(L3a7[1])\n",
    "# L3a_dt_vals.append(dt)\n",
    "# L3a_dz_vals.append(dz)\n",
    "\n",
    "# ###########\n",
    "\n",
    "# dz = 0.0005\n",
    "# dt = 0.0005*5\n",
    "\n",
    "# L3a8 = PV_Rannacher(dt=dt, dZ=dz, R=1)\n",
    "# L3a_max_errors.append(L3a8[0])\n",
    "# L3a_real_max_errors.append(L3a8[1])\n",
    "# L3a_dt_vals.append(dt)\n",
    "# L3a_dz_vals.append(dz)\n",
    "\n",
    "# ###########\n",
    "\n",
    "# dz = 0.00025\n",
    "# dt = 0.00025*5\n",
    "\n",
    "# L3a9 = PV_Rannacher(dt=dt, dZ=dz, R=1)\n",
    "# L3a_max_errors.append(L3a9[0])\n",
    "# L3a_real_max_errors.append(L3a9[1])\n",
    "# L3a_dt_vals.append(dt)\n",
    "# L3a_dz_vals.append(dz)"
   ]
  },
  {
   "cell_type": "markdown",
   "id": "2af55034-cb73-4760-b7d5-bceb4fd07d55",
   "metadata": {
    "tags": []
   },
   "source": [
    "#### PLOTS of Convergence for decreasing step size"
   ]
  },
  {
   "cell_type": "code",
   "execution_count": 59,
   "id": "e2b9fa2a-1ed8-4241-8606-b36340167bd2",
   "metadata": {},
   "outputs": [],
   "source": [
    "# delta t values\n",
    "dt_vals = np.array(L3_dt_vals + L3a_dt_vals)\n",
    "sorted_indices = np.argsort(dt_vals)\n",
    "dt_vals = np.array([dt_vals[i] for i in sorted_indices])\n",
    "inv_dt_vals = np.divide(np.ones(len(dt_vals)), dt_vals)\n",
    "\n",
    "# delta z values\n",
    "dz_vals = np.array(L3_dz_vals + L3a_dz_vals)\n",
    "dz_vals = np.array([dz_vals[i] for i in sorted_indices])\n",
    "inv_dz_vals = np.divide(np.ones(len(dz_vals)), dz_vals)\n",
    "\n",
    "\n",
    "# max errors in realistic range\n",
    "real_max_errors = np.array(L3_real_max_errors + L3a_real_max_errors)\n",
    "real_max_errors = np.array([real_max_errors[i] for i in sorted_indices])\n",
    "\n",
    "# max errors in entire range\n",
    "max_errors = np.array(L3_max_errors + L3a_max_errors)\n",
    "max_errors = np.array([max_errors[i] for i in sorted_indices])"
   ]
  },
  {
   "cell_type": "markdown",
   "id": "34b0eb7c-4e1f-4322-953f-14b67752243f",
   "metadata": {
    "tags": []
   },
   "source": [
    "##### Realistic S domain for 1/dz"
   ]
  },
  {
   "cell_type": "code",
   "execution_count": 60,
   "id": "c17f014f-2086-406a-8d1d-24b5c858dcf5",
   "metadata": {},
   "outputs": [
    {
     "data": {
      "application/vnd.jupyter.widget-view+json": {
       "model_id": "2afff1ab0b3f4f01ad6bccf455cd1ca4",
       "version_major": 2,
       "version_minor": 0
      },
      "image/png": "[encoded data removed]",
      "text/html": [
       "\n",
       "            <div style=\"display: inline-block;\">\n",
       "                <div class=\"jupyter-widgets widget-label\" style=\"text-align: center;\">\n",
       "                    Figure\n",
       "                </div>\n",
       "                <img src='data:image/png;base64,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' width=640.0/>\n",
       "            </div>\n",
       "        "
      ],
      "text/plain": [
       "Canvas(toolbar=Toolbar(toolitems=[('Home', 'Reset original view', 'home', 'home'), ('Back', 'Back to previous …"
      ]
     },
     "metadata": {},
     "output_type": "display_data"
    }
   ],
   "source": [
    "inv_z = np.linspace(0, max(inv_dz_vals), 1000)\n",
    "plt.figure()\n",
    "plt.title('Max error for $\\\\lambda = 5$')\n",
    "plt.ylabel('Max error')\n",
    "plt.xlabel('Inverse z step size $(1 / \\Delta z)$')\n",
    "plt.xlim\n",
    "plt.plot(inv_dz_vals, real_max_errors, marker='x', color='black', label='Max error/step size data points')\n",
    "plt.show()"
   ]
  },
  {
   "cell_type": "code",
   "execution_count": 61,
   "id": "e0be6d62-f845-48d6-bc88-6d168244890c",
   "metadata": {},
   "outputs": [
    {
     "data": {
      "application/vnd.jupyter.widget-view+json": {
       "model_id": "4d4feb5583924f8aad06a6745d9e0dad",
       "version_major": 2,
       "version_minor": 0
      },
      "image/png": "[encoded data removed]",
      "text/html": [
       "\n",
       "            <div style=\"display: inline-block;\">\n",
       "                <div class=\"jupyter-widgets widget-label\" style=\"text-align: center;\">\n",
       "                    Figure\n",
       "                </div>\n",
       "                <img src='data:image/png;base64,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' width=640.0/>\n",
       "            </div>\n",
       "        "
      ],
      "text/plain": [
       "Canvas(toolbar=Toolbar(toolitems=[('Home', 'Reset original view', 'home', 'home'), ('Back', 'Back to previous …"
      ]
     },
     "metadata": {},
     "output_type": "display_data"
    }
   ],
   "source": [
    "inv_z = np.linspace(0, max(inv_dz_vals), 1000)\n",
    "plt.figure()\n",
    "plt.title('Max error for $\\\\lambda = 5$')\n",
    "plt.ylabel('Max error')\n",
    "plt.xlabel('Inverse z step size $(1 / \\Delta z)$')\n",
    "plt.xlim\n",
    "plt.loglog(inv_dz_vals, real_max_errors, marker='x', color='black', label='Max error/step size data points')\n",
    "plt.show()"
   ]
  },
  {
   "cell_type": "markdown",
   "id": "f94d48b8-e69c-4c50-9d74-468759e6184b",
   "metadata": {
    "jp-MarkdownHeadingCollapsed": true,
    "tags": []
   },
   "source": [
    "### 4. $\\lambda = \\frac{\\Delta t}{\\Delta z} = 4$"
   ]
  },
  {
   "cell_type": "code",
   "execution_count": 62,
   "id": "d9675869-a8dc-4d33-91a2-4a8d9aa6c771",
   "metadata": {},
   "outputs": [],
   "source": [
    "# Empty list to store max error values\n",
    "L4_max_errors = []\n",
    "L4_real_max_errors = []\n",
    "# Empty list to store dt and dz's\n",
    "L4_dt_vals = []\n",
    "L4_dz_vals = []\n"
   ]
  },
  {
   "cell_type": "markdown",
   "id": "6454150e-2eb1-4a6a-ae00-a2b638a14592",
   "metadata": {
    "jp-MarkdownHeadingCollapsed": true,
    "tags": []
   },
   "source": [
    "#### 4.1 Parameters $\\Delta z = 0.1, \\Delta t = 0.4$"
   ]
  },
  {
   "cell_type": "code",
   "execution_count": 63,
   "id": "f2a23b4f-5086-4208-a86c-1dbf8c8cb434",
   "metadata": {},
   "outputs": [],
   "source": [
    "dZ=0.1\n",
    "dt=0.4"
   ]
  },
  {
   "cell_type": "code",
   "execution_count": 64,
   "id": "9d43ccc4-c05c-448a-8646-d6fdf93c2818",
   "metadata": {},
   "outputs": [
    {
     "name": "stdout",
     "output_type": "stream",
     "text": [
      "Stepsizes: dz = 0.10013855831631045 and dt = 0.4\n",
      "lambda = 3.9944653360847164\n",
      "\n",
      " Tridiagonal system coefficients:\n",
      "lower diag values = -0.215639888156442\n",
      "diag values = 1.4527555621582546\n",
      "upper diag values = -0.2331156740018126\n",
      "\n",
      " ENTIRE S DOMAIN ERRORS\n",
      "1. Maximal error: 9.607894391523416 \n",
      "\n",
      "located at 292, z value of 6.214608098422193, S value of 500.00000000000074 \n",
      "\n",
      "2. Absolute sum of errors: 22.608138800885037\n",
      "\n",
      " REALISTIC S DOMAIN ERRORS\n",
      "1. Maximal error: 0.018415866465375075 \n",
      "\n",
      "located at 253, z value of 2.309204324086089, S value of 10.066411866183358 \n",
      "\n",
      "2. Absolute sum of errors: 0.10810059080919315\n"
     ]
    }
   ],
   "source": [
    "L4P1 = PV_Rannacher(dt=dt, dZ=dZ, R=1)"
   ]
  },
  {
   "cell_type": "code",
   "execution_count": 65,
   "id": "3ade4c5d-0560-4e7c-a2bc-9404f1465b67",
   "metadata": {},
   "outputs": [],
   "source": [
    "L4_max_errors.append(L4P1[0])\n",
    "L4_real_max_errors.append(L4P1[1])\n",
    "L4_dt_vals.append(dt)\n",
    "L4_dz_vals.append(dZ)"
   ]
  },
  {
   "cell_type": "markdown",
   "id": "40af14c2-2245-47dd-a26a-f5c782845d7b",
   "metadata": {
    "jp-MarkdownHeadingCollapsed": true,
    "tags": []
   },
   "source": [
    "#### 4.2 Parameters $\\Delta z = 0.05, \\Delta t = 0.2$"
   ]
  },
  {
   "cell_type": "code",
   "execution_count": 66,
   "id": "3ed4b488-86ad-4ca7-86df-f2226b38e750",
   "metadata": {},
   "outputs": [],
   "source": [
    "dZ=0.05\n",
    "dt=0.2"
   ]
  },
  {
   "cell_type": "code",
   "execution_count": 67,
   "id": "c80c2e55-bf47-47c6-97ca-6c5243f5a2c6",
   "metadata": {},
   "outputs": [
    {
     "name": "stdout",
     "output_type": "stream",
     "text": [
      "Stepsizes: dz = 0.049983690646773764 and dt = 0.2\n",
      "lambda = 4.001305173988971\n",
      "\n",
      " Tridiagonal system coefficients:\n",
      "lower diag values = -0.4415408569897684\n",
      "diag values = 1.9025874241157386\n",
      "upper diag values = -0.45904656712597025\n",
      "\n",
      " ENTIRE S DOMAIN ERRORS\n",
      "1. Maximal error: 9.607894391523416 \n",
      "\n",
      "located at 585, z value of 6.214608098422193, S value of 500.00000000000074 \n",
      "\n",
      "2. Absolute sum of errors: 39.39233538612759\n",
      "\n",
      " REALISTIC S DOMAIN ERRORS\n",
      "1. Maximal error: 0.0017862080606192154 \n",
      "\n",
      "located at 500, z value of 1.965994393446426, S value of 7.142011029214633 \n",
      "\n",
      "2. Absolute sum of errors: 0.039863753912549656\n"
     ]
    }
   ],
   "source": [
    "L4P2 = PV_Rannacher(dt=dt, dZ=dZ, R=1)"
   ]
  },
  {
   "cell_type": "code",
   "execution_count": 68,
   "id": "9c8f39c2-1f03-49c2-9701-a3ff6cebcdbd",
   "metadata": {},
   "outputs": [],
   "source": [
    "L4_max_errors.append(L4P2[0])\n",
    "L4_real_max_errors.append(L4P2[1])\n",
    "L4_dt_vals.append(dt)\n",
    "L4_dz_vals.append(dZ)"
   ]
  },
  {
   "cell_type": "markdown",
   "id": "348f630d-73e2-43d3-8c84-a9c0be3e0dc0",
   "metadata": {
    "jp-MarkdownHeadingCollapsed": true,
    "tags": []
   },
   "source": [
    "#### 4.3 Parameters $\\Delta z = 0.025, \\Delta t = 0.1$"
   ]
  },
  {
   "cell_type": "code",
   "execution_count": 69,
   "id": "25c0c278-d29b-4c5b-98a3-45305f36eaae",
   "metadata": {},
   "outputs": [],
   "source": [
    "dZ = 0.025\n",
    "dt = 0.1"
   ]
  },
  {
   "cell_type": "code",
   "execution_count": 70,
   "id": "57fc36b5-bc2d-4688-a745-741d723f051f",
   "metadata": {},
   "outputs": [
    {
     "name": "stdout",
     "output_type": "stream",
     "text": [
      "Stepsizes: dz = 0.024991845323386882 and dt = 0.1\n",
      "lambda = 4.001305173988971\n",
      "\n",
      " Tridiagonal system coefficients:\n",
      "lower diag values = -0.8918345690476377\n",
      "diag values = 2.8021748482314774\n",
      "upper diag values = -0.9093402791838395\n",
      "\n",
      " ENTIRE S DOMAIN ERRORS\n",
      "1. Maximal error: 9.607894391523416 \n",
      "\n",
      "located at 1170, z value of 6.214608098422193, S value of 500.00000000000074 \n",
      "\n",
      "2. Absolute sum of errors: 73.47865961047819\n",
      "\n",
      " REALISTIC S DOMAIN ERRORS\n",
      "1. Maximal error: 0.0005314115985732004 \n",
      "\n",
      "located at 1001, z value of 1.9909862387698105, S value of 7.322752184286526 \n",
      "\n",
      "2. Absolute sum of errors: 0.02088123442731403\n"
     ]
    }
   ],
   "source": [
    "L4P3 = PV_Rannacher(dt=dt, dZ=dZ, R=1)"
   ]
  },
  {
   "cell_type": "code",
   "execution_count": 71,
   "id": "a7aace26-597d-487a-8e85-0350bc75f1e3",
   "metadata": {},
   "outputs": [],
   "source": [
    "L4_max_errors.append(L4P3[0])\n",
    "L4_real_max_errors.append(L4P3[1])\n",
    "L4_dt_vals.append(dt)\n",
    "L4_dz_vals.append(dZ)"
   ]
  },
  {
   "cell_type": "markdown",
   "id": "3be226cc-1768-46a0-9984-1a388798f1cb",
   "metadata": {
    "jp-MarkdownHeadingCollapsed": true,
    "tags": []
   },
   "source": [
    "#### 4.4 Parameters $\\Delta z = 0.01, \\Delta t = 0.04$"
   ]
  },
  {
   "cell_type": "code",
   "execution_count": 72,
   "id": "933dd59b-d47f-41ad-a9f6-07cb299a3de1",
   "metadata": {},
   "outputs": [],
   "source": [
    "dZ=0.01\n",
    "dt=0.04"
   ]
  },
  {
   "cell_type": "code",
   "execution_count": 73,
   "id": "c59a7d8b-7332-4174-9e8b-6c93c64246e1",
   "metadata": {},
   "outputs": [
    {
     "name": "stdout",
     "output_type": "stream",
     "text": [
      "Stepsizes: dz = 0.010000156986444134 and dt = 0.04\n",
      "lambda = 3.9999372064081204\n",
      "\n",
      " Tridiagonal system coefficients:\n",
      "lower diag values = -2.2411794951246073\n",
      "diag values = 5.50025871552725\n",
      "upper diag values = -2.2586792204026427\n",
      "\n",
      " ENTIRE S DOMAIN ERRORS\n",
      "1. Maximal error: 9.607894391523416 \n",
      "\n",
      "located at 2924, z value of 6.214608098422193, S value of 500.00000000000074 \n",
      "\n",
      "2. Absolute sum of errors: 176.08008371784769\n",
      "\n",
      " REALISTIC S DOMAIN ERRORS\n",
      "1. Maximal error: 8.745934517984111e-05 \n",
      "\n",
      "located at 2535, z value of 2.324547030695424, S value of 10.222048762627221 \n",
      "\n",
      "2. Absolute sum of errors: 0.008659746303115959\n"
     ]
    }
   ],
   "source": [
    "L4P4 = PV_Rannacher(dt=dt, dZ=dZ, R=1)"
   ]
  },
  {
   "cell_type": "code",
   "execution_count": 74,
   "id": "0ebde51c-59be-4cf1-8f33-7709dadf5b86",
   "metadata": {},
   "outputs": [],
   "source": [
    "L4_max_errors.append(L4P4[0])\n",
    "L4_real_max_errors.append(L4P4[1])\n",
    "L4_dt_vals.append(dt)\n",
    "L4_dz_vals.append(dZ)"
   ]
  },
  {
   "cell_type": "markdown",
   "id": "995dbd5a-9a0f-4fa0-a067-08d1eede87cf",
   "metadata": {
    "jp-MarkdownHeadingCollapsed": true,
    "tags": []
   },
   "source": [
    "#### 4.5 Parameters: $\\Delta z = 0.005, \\Delta t = 0.02$"
   ]
  },
  {
   "cell_type": "code",
   "execution_count": 75,
   "id": "08f82531-b48f-427d-a6a8-cbba7dc052fe",
   "metadata": {},
   "outputs": [],
   "source": [
    "dZ=0.005\n",
    "dt=0.02"
   ]
  },
  {
   "cell_type": "code",
   "execution_count": 76,
   "id": "0ead2e79-675b-48ae-ac68-c7036dd286b2",
   "metadata": {},
   "outputs": [
    {
     "name": "stdout",
     "output_type": "stream",
     "text": [
      "Stepsizes: dz = 0.005000078493222067 and dt = 0.02\n",
      "lambda = 3.9999372064081204\n",
      "\n",
      " Tridiagonal system coefficients:\n",
      "lower diag values = -4.491108852888232\n",
      "diag values = 9.999917431054499\n",
      "upper diag values = -4.5086085781662675\n",
      "\n",
      " ENTIRE S DOMAIN ERRORS\n",
      "1. Maximal error: 9.607894391523416 \n",
      "\n",
      "located at 5848, z value of 6.214608098422193, S value of 500.00000000000074 \n",
      "\n",
      "2. Absolute sum of errors: 347.25504768275357\n",
      "\n",
      " REALISTIC S DOMAIN ERRORS\n",
      "1. Maximal error: 2.046832324958947e-05 \n",
      "\n",
      "located at 5003, z value of 1.9895417716495452, S value of 7.312182345256763 \n",
      "\n",
      "2. Absolute sum of errors: 0.004126665497158783\n"
     ]
    }
   ],
   "source": [
    "L4P5 = PV_Rannacher(dt=dt, dZ=dZ, R=1)"
   ]
  },
  {
   "cell_type": "code",
   "execution_count": 77,
   "id": "b9b9c6e6-147a-4841-8ed3-6ae89307567f",
   "metadata": {},
   "outputs": [],
   "source": [
    "L4_max_errors.append(L4P5[0])\n",
    "L4_real_max_errors.append(L4P5[1])\n",
    "L4_dt_vals.append(dt)\n",
    "L4_dz_vals.append(dZ)"
   ]
  },
  {
   "cell_type": "markdown",
   "id": "cc2cbc86-6c41-4cb4-9f71-0e4c937e4454",
   "metadata": {
    "jp-MarkdownHeadingCollapsed": true,
    "tags": []
   },
   "source": [
    "#### 4.6 Parameters: $\\Delta z = 0.0025, \\Delta t = 0.01$"
   ]
  },
  {
   "cell_type": "code",
   "execution_count": 78,
   "id": "caec5430-c7e5-4752-8de5-ae9f7103f9cf",
   "metadata": {},
   "outputs": [],
   "source": [
    "dZ=0.0025\n",
    "dt=0.01"
   ]
  },
  {
   "cell_type": "code",
   "execution_count": 79,
   "id": "7d97291e-bddd-428e-967f-d1c25a8abf86",
   "metadata": {},
   "outputs": [
    {
     "name": "stdout",
     "output_type": "stream",
     "text": [
      "Stepsizes: dz = 0.0025000392466110336 and dt = 0.01\n",
      "lambda = 3.9999372064081204\n",
      "\n",
      " Tridiagonal system coefficients:\n",
      "lower diag values = -8.990967568415483\n",
      "diag values = 18.999534862108998\n",
      "upper diag values = -9.008467293693517\n",
      "\n",
      " ENTIRE S DOMAIN ERRORS\n",
      "1. Maximal error: 9.607894391523416 \n",
      "\n",
      "located at 11696, z value of 6.214608098422193, S value of 500.00000000000074 \n",
      "\n",
      "2. Absolute sum of errors: 689.6560336263248\n",
      "\n",
      " REALISTIC S DOMAIN ERRORS\n",
      "1. Maximal error: 4.806005835300553e-06 \n",
      "\n",
      "located at 10140, z value of 2.324547030695424, S value of 10.222048762627221 \n",
      "\n",
      "2. Absolute sum of errors: 0.002115112451711671\n"
     ]
    }
   ],
   "source": [
    "L4P6 = PV_Rannacher(dt=dt, dZ=dZ, R=1)"
   ]
  },
  {
   "cell_type": "code",
   "execution_count": 80,
   "id": "8ca23a5d-cca7-4aca-87b5-f0d7a354b9a6",
   "metadata": {},
   "outputs": [],
   "source": [
    "L4_max_errors.append(L4P6[0])\n",
    "L4_real_max_errors.append(L4P6[1])\n",
    "L4_dt_vals.append(dt)\n",
    "L4_dz_vals.append(dZ)"
   ]
  },
  {
   "cell_type": "markdown",
   "id": "91fe72b5-876a-4550-9514-27f05c1029a2",
   "metadata": {
    "jp-MarkdownHeadingCollapsed": true,
    "tags": []
   },
   "source": [
    "#### 4.7 Parameters: $\\Delta z = 0.001, \\Delta t = 0.004$"
   ]
  },
  {
   "cell_type": "code",
   "execution_count": 81,
   "id": "afeb545d-a7ad-4a91-816b-e955d3781f5a",
   "metadata": {},
   "outputs": [],
   "source": [
    "dZ=0.001\n",
    "dt=0.004"
   ]
  },
  {
   "cell_type": "code",
   "execution_count": 82,
   "id": "c9862923-cfc2-4d57-954d-efaf46552291",
   "metadata": {},
   "outputs": [
    {
     "name": "stdout",
     "output_type": "stream",
     "text": [
      "Stepsizes: dz = 0.0010000156986444135 and dt = 0.004\n",
      "lambda = 3.9999372064081204\n",
      "\n",
      " Tridiagonal system coefficients:\n",
      "lower diag values = -22.490543714997226\n",
      "diag values = 45.998627155272494\n",
      "upper diag values = -22.508043440275266\n",
      "\n",
      " ENTIRE S DOMAIN ERRORS\n",
      "1. Maximal error: 9.607894391523416 \n",
      "\n",
      "located at 29240, z value of 6.214608098422193, S value of 500.00000000000074 \n",
      "\n",
      "2. Absolute sum of errors: 1716.8992957406795\n",
      "\n",
      " REALISTIC S DOMAIN ERRORS\n",
      "1. Maximal error: 1.949513192212038e-06 \n",
      "\n",
      "located at 25336, z value of 2.3105468109144027, S value of 10.079934966783284 \n",
      "\n",
      "2. Absolute sum of errors: 0.00120028838250426\n"
     ]
    }
   ],
   "source": [
    "L4P7 = PV_Rannacher(dt=dt, dZ=dZ, R=1)"
   ]
  },
  {
   "cell_type": "code",
   "execution_count": 83,
   "id": "e3b2264b-3aa3-4d8f-a943-d287fc6233fa",
   "metadata": {},
   "outputs": [],
   "source": [
    "L4_max_errors.append(L4P7[0])\n",
    "L4_real_max_errors.append(L4P7[1])\n",
    "L4_dt_vals.append(dt)\n",
    "L4_dz_vals.append(dZ)"
   ]
  },
  {
   "cell_type": "markdown",
   "id": "181ca821-e1db-4209-81d4-decadd9cfcc3",
   "metadata": {
    "jp-MarkdownHeadingCollapsed": true,
    "tags": []
   },
   "source": [
    "#### Additional steps "
   ]
  },
  {
   "cell_type": "code",
   "execution_count": 84,
   "id": "84757c9c-91f7-4068-ad98-dc0bb558a53b",
   "metadata": {},
   "outputs": [],
   "source": [
    "# Empty list to store max error values\n",
    "L4a_max_errors = []\n",
    "L4a_real_max_errors = []\n",
    "# Empty list to store dt and dz's\n",
    "L4a_dt_vals = []\n",
    "L4a_dz_vals = []"
   ]
  },
  {
   "cell_type": "code",
   "execution_count": 85,
   "id": "99d4eee7-6f5c-405d-80ec-13e0f962ca46",
   "metadata": {},
   "outputs": [],
   "source": [
    "# dz = 0.075\n",
    "# dt = 0.075*4\n",
    "\n",
    "# L4a1 = PV_Rannacher(dt=dt, dZ=dz, R=1)\n",
    "# L4a_max_errors.append(L4a1[0])\n",
    "# L4a_real_max_errors.append(L4a1[1])\n",
    "# L4a_dt_vals.append(dt)\n",
    "# L4a_dz_vals.append(dz)\n",
    "\n",
    "# ###########\n",
    "\n",
    "# dz = 0.0375\n",
    "# dt = 0.0375*4\n",
    "\n",
    "# L4a2 = PV_Rannacher(dt=dt, dZ=dz, R=1)\n",
    "# L4a_max_errors.append(L4a2[0])\n",
    "# L4a_real_max_errors.append(L4a2[1])\n",
    "# L4a_dt_vals.append(dt)\n",
    "# L4a_dz_vals.append(dz)\n",
    "\n",
    "# ###########\n",
    "\n",
    "# dz = 0.0175\n",
    "# dt = 0.0175*4\n",
    "\n",
    "# L4a3 = PV_Rannacher(dt=dt, dZ=dz, R=1)\n",
    "# L4a_max_errors.append(L4a3[0])\n",
    "# L4a_real_max_errors.append(L4a3[1])\n",
    "# L4a_dt_vals.append(dt)\n",
    "# L4a_dz_vals.append(dz)\n",
    "\n",
    "# ###########\n",
    "\n",
    "# dz = 0.0075\n",
    "# dt = 0.0075*4\n",
    "\n",
    "# L4a4 = PV_Rannacher(dt=dt, dZ=dz, R=1)\n",
    "# L4a_max_errors.append(L4a4[0])\n",
    "# L4a_real_max_errors.append(L4a4[1])\n",
    "# L4a_dt_vals.append(dt)\n",
    "# L4a_dz_vals.append(dz)\n",
    "\n",
    "# ###########\n",
    "\n",
    "# dz = 0.00375\n",
    "# dt = 0.00375*4\n",
    "\n",
    "# L4a5 = PV_Rannacher(dt=dt, dZ=dz, R=1)\n",
    "# L4a_max_errors.append(L4a5[0])\n",
    "# L4a_real_max_errors.append(L4a5[1])\n",
    "# L4a_dt_vals.append(dt)\n",
    "# L4a_dz_vals.append(dz)\n",
    "\n",
    "# ###########\n",
    "\n",
    "# dz = 0.00175\n",
    "# dt = 0.00175*4\n",
    "\n",
    "# L4a6 = PV_Rannacher(dt=dt, dZ=dz, R=1)\n",
    "# L4a_max_errors.append(L4a6[0])\n",
    "# L4a_real_max_errors.append(L4a6[1])\n",
    "# L4a_dt_vals.append(dt)\n",
    "# L4a_dz_vals.append(dz)\n",
    "\n",
    "# ###########\n",
    "\n",
    "# dz = 0.00075\n",
    "# dt = 0.00075*4\n",
    "\n",
    "# L4a7 = PV_Rannacher(dt=dt, dZ=dz, R=1)\n",
    "# L4a_max_errors.append(L4a7[0])\n",
    "# L4a_real_max_errors.append(L4a7[1])\n",
    "# L4a_dt_vals.append(dt)\n",
    "# L4a_dz_vals.append(dz)\n",
    "\n",
    "# ###########\n",
    "\n",
    "# dz = 0.0005\n",
    "# dt = 0.0005*4\n",
    "\n",
    "# L4a8 = PV_Rannacher(dt=dt, dZ=dz, R=1)\n",
    "# L4a_max_errors.append(L4a8[0])\n",
    "# L4a_real_max_errors.append(L4a8[1])\n",
    "# L4a_dt_vals.append(dt)\n",
    "# L4a_dz_vals.append(dz)\n",
    "# ###########\n",
    "\n",
    "# dz = 0.00025\n",
    "# dt = 0.00025*4\n",
    "\n",
    "# L4a9 = PV_Rannacher(dt=dt, dZ=dz, R=1)\n",
    "# L4a_max_errors.append(L4a9[0])\n",
    "# L4a_real_max_errors.append(L4a9[1])\n",
    "# L4a_dt_vals.append(dt)\n",
    "# L4a_dz_vals.append(dz)"
   ]
  },
  {
   "cell_type": "markdown",
   "id": "5521edb5-6e79-46aa-9bb1-aebab4df89bd",
   "metadata": {
    "tags": []
   },
   "source": [
    "#### PLOTS of Convergence for decreasing step size"
   ]
  },
  {
   "cell_type": "code",
   "execution_count": 86,
   "id": "13d23ca2-b747-45ac-853d-02444c70d31b",
   "metadata": {},
   "outputs": [],
   "source": [
    "# delta t values\n",
    "dt_vals = np.array(L4_dt_vals + L4a_dt_vals)\n",
    "sorted_indices = np.argsort(dt_vals)\n",
    "dt_vals = np.array([dt_vals[i] for i in sorted_indices])\n",
    "inv_dt_vals = np.divide(np.ones(len(dt_vals)), dt_vals)\n",
    "\n",
    "# delta z values\n",
    "dz_vals = np.array(L4_dz_vals + L4a_dz_vals)\n",
    "dz_vals = np.array([dz_vals[i] for i in sorted_indices])\n",
    "inv_dz_vals = np.divide(np.ones(len(dz_vals)), dz_vals)\n",
    "\n",
    "\n",
    "# max errors in realistic range\n",
    "real_max_errors = np.array(L4_real_max_errors + L4a_real_max_errors)\n",
    "real_max_errors = np.array([real_max_errors[i] for i in sorted_indices])\n",
    "\n",
    "# max errors in entire range\n",
    "max_errors = np.array(L4_max_errors + L4a_max_errors)\n",
    "max_errors = np.array([max_errors[i] for i in sorted_indices])"
   ]
  },
  {
   "cell_type": "markdown",
   "id": "ab12b638-7028-4846-9776-4c6455423354",
   "metadata": {
    "tags": []
   },
   "source": [
    "##### Realistic S domain for 1/dz"
   ]
  },
  {
   "cell_type": "code",
   "execution_count": 87,
   "id": "07914223-706d-4fa3-aa80-98846c0e1d60",
   "metadata": {},
   "outputs": [
    {
     "data": {
      "application/vnd.jupyter.widget-view+json": {
       "model_id": "26bb4a42eab54a8aa83b0242cd79d367",
       "version_major": 2,
       "version_minor": 0
      },
      "image/png": "[encoded data removed]",
      "text/html": [
       "\n",
       "            <div style=\"display: inline-block;\">\n",
       "                <div class=\"jupyter-widgets widget-label\" style=\"text-align: center;\">\n",
       "                    Figure\n",
       "                </div>\n",
       "                <img src='data:image/png;base64,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' width=640.0/>\n",
       "            </div>\n",
       "        "
      ],
      "text/plain": [
       "Canvas(toolbar=Toolbar(toolitems=[('Home', 'Reset original view', 'home', 'home'), ('Back', 'Back to previous …"
      ]
     },
     "metadata": {},
     "output_type": "display_data"
    }
   ],
   "source": [
    "inv_z = np.linspace(0, max(inv_dz_vals), 1000)\n",
    "plt.figure()\n",
    "plt.title('Max error for $\\\\lambda = 4$')\n",
    "plt.ylabel('Max error')\n",
    "plt.xlabel('Inverse z step size $(1 / \\Delta z)$')\n",
    "plt.xlim\n",
    "plt.plot(inv_dz_vals, real_max_errors, marker='x', color='black', label='Max error/step size data points')\n",
    "plt.show()"
   ]
  },
  {
   "cell_type": "code",
   "execution_count": 88,
   "id": "82b0b33c-f01f-46a5-a34d-9fce01d82d58",
   "metadata": {},
   "outputs": [
    {
     "data": {
      "application/vnd.jupyter.widget-view+json": {
       "model_id": "56da39cd28a14073a559c6911422af7b",
       "version_major": 2,
       "version_minor": 0
      },
      "image/png": "[encoded data removed]",
      "text/html": [
       "\n",
       "            <div style=\"display: inline-block;\">\n",
       "                <div class=\"jupyter-widgets widget-label\" style=\"text-align: center;\">\n",
       "                    Figure\n",
       "                </div>\n",
       "                <img src='data:image/png;base64,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' width=640.0/>\n",
       "            </div>\n",
       "        "
      ],
      "text/plain": [
       "Canvas(toolbar=Toolbar(toolitems=[('Home', 'Reset original view', 'home', 'home'), ('Back', 'Back to previous …"
      ]
     },
     "metadata": {},
     "output_type": "display_data"
    }
   ],
   "source": [
    "inv_z = np.linspace(0, max(inv_dz_vals), 1000)\n",
    "plt.figure()\n",
    "plt.title('Max error for $\\\\lambda = 4$')\n",
    "plt.ylabel('Max error')\n",
    "plt.xlabel('Inverse z step size $(1 / \\Delta z)$')\n",
    "plt.xlim\n",
    "plt.loglog(inv_dz_vals, real_max_errors, marker='x', color='black', label='Max error/step size data points')\n",
    "plt.show()"
   ]
  },
  {
   "cell_type": "markdown",
   "id": "80b35440-ddf2-4c2a-8a76-11c5172b829b",
   "metadata": {
    "tags": []
   },
   "source": [
    "### 5. $\\lambda = \\frac{\\Delta t}{\\Delta z} = 3$"
   ]
  },
  {
   "cell_type": "code",
   "execution_count": 89,
   "id": "6e5db727-2f7b-48f3-b7b8-a0229049e609",
   "metadata": {},
   "outputs": [],
   "source": [
    "# Empty list to store max error values\n",
    "L5_max_errors = []\n",
    "L5_real_max_errors = []\n",
    "# Empty list to store dt and dz's\n",
    "L5_dt_vals = []\n",
    "L5_dz_vals = []\n"
   ]
  },
  {
   "cell_type": "markdown",
   "id": "3e27e63d-d47d-4618-8149-1069fd54fc8d",
   "metadata": {
    "jp-MarkdownHeadingCollapsed": true,
    "tags": []
   },
   "source": [
    "#### 5.1 Parameters $\\Delta z = 0.1, \\Delta t = 0.3$"
   ]
  },
  {
   "cell_type": "code",
   "execution_count": 90,
   "id": "4840b10f-bbf5-48d7-a508-63e4d065c498",
   "metadata": {},
   "outputs": [],
   "source": [
    "dZ=0.1\n",
    "dt=0.3"
   ]
  },
  {
   "cell_type": "code",
   "execution_count": 91,
   "id": "cd5a2961-6a4c-4955-99ee-18746c079514",
   "metadata": {},
   "outputs": [
    {
     "name": "stdout",
     "output_type": "stream",
     "text": [
      "Stepsizes: dz = 0.10013855831631045 and dt = 0.2857142857142857\n",
      "lambda = 2.8531895257747975\n",
      "\n",
      " Tridiagonal system coefficients:\n",
      "lower diag values = -0.1540284915403157\n",
      "diag values = 1.323396830113039\n",
      "upper diag values = -0.1665111957155804\n",
      "\n",
      " ENTIRE S DOMAIN ERRORS\n",
      "1. Maximal error: 9.607894391523416 \n",
      "\n",
      "located at 292, z value of 6.214608098422193, S value of 500.00000000000074 \n",
      "\n",
      "2. Absolute sum of errors: 22.61864479177448\n",
      "\n",
      " REALISTIC S DOMAIN ERRORS\n",
      "1. Maximal error: 0.017841173856667503 \n",
      "\n",
      "located at 253, z value of 2.309204324086089, S value of 10.066411866183358 \n",
      "\n",
      "2. Absolute sum of errors: 0.1050502670337667\n"
     ]
    }
   ],
   "source": [
    "L5P1 = PV_Rannacher(dt=dt, dZ=dZ, R=1)"
   ]
  },
  {
   "cell_type": "code",
   "execution_count": 92,
   "id": "fc5461bf-e81b-4290-a361-504f24c64bc5",
   "metadata": {},
   "outputs": [],
   "source": [
    "L5_max_errors.append(L5P1[0])\n",
    "L5_real_max_errors.append(L5P1[1])\n",
    "L5_dt_vals.append(dt)\n",
    "L5_dz_vals.append(dZ)"
   ]
  },
  {
   "cell_type": "markdown",
   "id": "1e208128-90b7-4abc-9152-8d815a1253a9",
   "metadata": {
    "jp-MarkdownHeadingCollapsed": true,
    "tags": []
   },
   "source": [
    "#### 5.2 Parameters $\\Delta z = 0.05, \\Delta t = 0.15$"
   ]
  },
  {
   "cell_type": "code",
   "execution_count": 93,
   "id": "2b379b8e-3550-4295-9315-053b9aa88244",
   "metadata": {},
   "outputs": [],
   "source": [
    "dZ=0.05\n",
    "dt=0.15"
   ]
  },
  {
   "cell_type": "code",
   "execution_count": 94,
   "id": "d8262024-dc0f-46f4-afc0-7bedb510c0b0",
   "metadata": {},
   "outputs": [
    {
     "name": "stdout",
     "output_type": "stream",
     "text": [
      "Stepsizes: dz = 0.049983690646773764 and dt = 0.15384615384615385\n",
      "lambda = 3.0779270569145933\n",
      "\n",
      " Tridiagonal system coefficients:\n",
      "lower diag values = -0.33964681306905264\n",
      "diag values = 1.694298018550568\n",
      "upper diag values = -0.35311274394305403\n",
      "\n",
      " ENTIRE S DOMAIN ERRORS\n",
      "1. Maximal error: 9.607894391523416 \n",
      "\n",
      "located at 585, z value of 6.214608098422193, S value of 500.00000000000074 \n",
      "\n",
      "2. Absolute sum of errors: 39.39722970748327\n",
      "\n",
      " REALISTIC S DOMAIN ERRORS\n",
      "1. Maximal error: 0.0017186453947911629 \n",
      "\n",
      "located at 500, z value of 1.965994393446426, S value of 7.142011029214633 \n",
      "\n",
      "2. Absolute sum of errors: 0.039077195870299404\n"
     ]
    }
   ],
   "source": [
    "L5P2 = PV_Rannacher(dt=dt, dZ=dZ, R=1)"
   ]
  },
  {
   "cell_type": "code",
   "execution_count": 95,
   "id": "0366daf0-4125-439d-be05-a0ab97e5e4de",
   "metadata": {},
   "outputs": [],
   "source": [
    "L5_max_errors.append(L5P2[0])\n",
    "L5_real_max_errors.append(L5P2[1])\n",
    "L5_dt_vals.append(dt)\n",
    "L5_dz_vals.append(dZ)"
   ]
  },
  {
   "cell_type": "markdown",
   "id": "73ba37f4-9fdb-4a37-bf8c-29ab864be156",
   "metadata": {
    "jp-MarkdownHeadingCollapsed": true,
    "tags": []
   },
   "source": [
    "#### 5.3 Parameters $\\Delta z = 0.025, \\Delta t = 0.075$"
   ]
  },
  {
   "cell_type": "code",
   "execution_count": 96,
   "id": "85a7187f-1708-4e82-934e-33a3dbc5f3bb",
   "metadata": {},
   "outputs": [],
   "source": [
    "dZ = 0.025\n",
    "dt = 0.075"
   ]
  },
  {
   "cell_type": "code",
   "execution_count": 97,
   "id": "7a4a9a2c-d67a-4f7a-b844-4937f054789e",
   "metadata": {},
   "outputs": [
    {
     "name": "stdout",
     "output_type": "stream",
     "text": [
      "Stepsizes: dz = 0.024991845323386882 and dt = 0.07407407407407407\n",
      "lambda = 2.9639297585103486\n",
      "\n",
      " Tridiagonal system coefficients:\n",
      "lower diag values = -0.6606181992945463\n",
      "diag values = 2.3349443320233165\n",
      "upper diag values = -0.6735853919880292\n",
      "\n",
      " ENTIRE S DOMAIN ERRORS\n",
      "1. Maximal error: 9.607894391523416 \n",
      "\n",
      "located at 1170, z value of 6.214608098422193, S value of 500.00000000000074 \n",
      "\n",
      "2. Absolute sum of errors: 73.48196640245227\n",
      "\n",
      " REALISTIC S DOMAIN ERRORS\n",
      "1. Maximal error: 0.0005176851623217849 \n",
      "\n",
      "located at 1002, z value of 2.0159780840931987, S value of 7.508067312291713 \n",
      "\n",
      "2. Absolute sum of errors: 0.021046549908369867\n"
     ]
    }
   ],
   "source": [
    "L5P3 = PV_Rannacher(dt=dt, dZ=dZ, R=1)"
   ]
  },
  {
   "cell_type": "code",
   "execution_count": 98,
   "id": "0f08bdcd-b3eb-4c00-8b2b-74952ec849c9",
   "metadata": {},
   "outputs": [],
   "source": [
    "L5_max_errors.append(L5P3[0])\n",
    "L5_real_max_errors.append(L5P3[1])\n",
    "L5_dt_vals.append(dt)\n",
    "L5_dz_vals.append(dZ)"
   ]
  },
  {
   "cell_type": "markdown",
   "id": "69cb322d-f83c-4e08-8466-11322901636d",
   "metadata": {
    "jp-MarkdownHeadingCollapsed": true,
    "tags": []
   },
   "source": [
    "#### 5.4 Parameters $\\Delta z = 0.01, \\Delta t = 0.03$"
   ]
  },
  {
   "cell_type": "code",
   "execution_count": 99,
   "id": "010a572b-1299-44b5-92f3-265e0b3e8880",
   "metadata": {},
   "outputs": [],
   "source": [
    "dZ=0.01\n",
    "dt=0.03"
   ]
  },
  {
   "cell_type": "code",
   "execution_count": 100,
   "id": "bb9fcf82-e281-4481-a88b-e4d5a81b56ff",
   "metadata": {},
   "outputs": [
    {
     "name": "stdout",
     "output_type": "stream",
     "text": [
      "Stepsizes: dz = 0.010000156986444134 and dt = 0.029850746268656716\n",
      "lambda = 2.9850277659762092\n",
      "\n",
      " Tridiagonal system coefficients:\n",
      "lower diag values = -1.6725220112870203\n",
      "diag values = 4.358402026512874\n",
      "upper diag values = -1.6855815077631662\n",
      "\n",
      " ENTIRE S DOMAIN ERRORS\n",
      "1. Maximal error: 9.607894391523416 \n",
      "\n",
      "located at 2924, z value of 6.214608098422193, S value of 500.00000000000074 \n",
      "\n",
      "2. Absolute sum of errors: 176.08110009381465\n",
      "\n",
      " REALISTIC S DOMAIN ERRORS\n",
      "1. Maximal error: 8.220211199594374e-05 \n",
      "\n",
      "located at 2535, z value of 2.324547030695424, S value of 10.222048762627221 \n",
      "\n",
      "2. Absolute sum of errors: 0.0084433752946836\n"
     ]
    }
   ],
   "source": [
    "L5P4 = PV_Rannacher(dt=dt, dZ=dZ, R=1)"
   ]
  },
  {
   "cell_type": "code",
   "execution_count": 101,
   "id": "b3201123-8d4b-4e59-a17c-65ba34663b25",
   "metadata": {},
   "outputs": [],
   "source": [
    "L5_max_errors.append(L5P4[0])\n",
    "L5_real_max_errors.append(L5P4[1])\n",
    "L5_dt_vals.append(dt)\n",
    "L5_dz_vals.append(dZ)"
   ]
  },
  {
   "cell_type": "markdown",
   "id": "07716d0e-38ca-4c19-8ea0-ac251b4b8738",
   "metadata": {
    "jp-MarkdownHeadingCollapsed": true,
    "tags": []
   },
   "source": [
    "#### 5.5 Parameters: $\\Delta z = 0.005, \\Delta t = 0.015$"
   ]
  },
  {
   "cell_type": "code",
   "execution_count": 102,
   "id": "73b92985-e71d-424e-b326-6704f1a4fd14",
   "metadata": {},
   "outputs": [],
   "source": [
    "dZ=0.005\n",
    "dt=0.015"
   ]
  },
  {
   "cell_type": "code",
   "execution_count": 103,
   "id": "7f831407-87e6-45e9-9dcb-d8163a8ec4ac",
   "metadata": {},
   "outputs": [
    {
     "name": "stdout",
     "output_type": "stream",
     "text": [
      "Stepsizes: dz = 0.005000078493222067 and dt = 0.015037593984962405\n",
      "lambda = 3.007471583765504\n",
      "\n",
      " Tridiagonal system coefficients:\n",
      "lower diag values = -3.376773573600174\n",
      "diag values = 7.7668552113191724\n",
      "upper diag values = -3.3899312617791484\n",
      "\n",
      " ENTIRE S DOMAIN ERRORS\n",
      "1. Maximal error: 9.607894391523416 \n",
      "\n",
      "located at 5848, z value of 6.214608098422193, S value of 500.00000000000074 \n",
      "\n",
      "2. Absolute sum of errors: 347.2556428426553\n",
      "\n",
      " REALISTIC S DOMAIN ERRORS\n",
      "1. Maximal error: 1.9935908040946693e-05 \n",
      "\n",
      "located at 5004, z value of 1.9945418501427667, S value of 7.348835388623849 \n",
      "\n",
      "2. Absolute sum of errors: 0.00411717067368161\n"
     ]
    }
   ],
   "source": [
    "L5P5 = PV_Rannacher(dt=dt, dZ=dZ, R=1)"
   ]
  },
  {
   "cell_type": "code",
   "execution_count": 104,
   "id": "c3799a7d-af54-4b58-9809-947a0cece55c",
   "metadata": {},
   "outputs": [],
   "source": [
    "L5_max_errors.append(L5P5[0])\n",
    "L5_real_max_errors.append(L5P5[1])\n",
    "L5_dt_vals.append(dt)\n",
    "L5_dz_vals.append(dZ)"
   ]
  },
  {
   "cell_type": "markdown",
   "id": "3c3e77a8-18f8-4706-b0b9-1e42f56c1043",
   "metadata": {
    "jp-MarkdownHeadingCollapsed": true,
    "tags": []
   },
   "source": [
    "#### 5.6 Parameters: $\\Delta z = 0.0025, \\Delta t = 0.0075$"
   ]
  },
  {
   "cell_type": "code",
   "execution_count": 105,
   "id": "5f10f183-90a5-4071-831a-3bcc56448681",
   "metadata": {},
   "outputs": [],
   "source": [
    "dZ=0.0025\n",
    "dt=0.0075"
   ]
  },
  {
   "cell_type": "code",
   "execution_count": 106,
   "id": "78bfdd97-68bf-4882-8b20-6335dfa772f3",
   "metadata": {},
   "outputs": [
    {
     "name": "stdout",
     "output_type": "stream",
     "text": [
      "Stepsizes: dz = 0.0025000392466110336 and dt = 0.00749063670411985\n",
      "lambda = 2.9962076452495285\n",
      "\n",
      " Tridiagonal system coefficients:\n",
      "lower diag values = -6.734807167352421\n",
      "diag values = 14.48279764951985\n",
      "upper diag values = -6.747915575800388\n",
      "\n",
      " ENTIRE S DOMAIN ERRORS\n",
      "1. Maximal error: 9.607894391523416 \n",
      "\n",
      "located at 11696, z value of 6.214608098422193, S value of 500.00000000000074 \n",
      "\n",
      "2. Absolute sum of errors: 689.6562886343943\n",
      "\n",
      " REALISTIC S DOMAIN ERRORS\n",
      "1. Maximal error: 4.480802556550145e-06 \n",
      "\n",
      "located at 10139, z value of 2.3220469914488113, S value of 10.196525157840666 \n",
      "\n",
      "2. Absolute sum of errors: 0.0020649181683315048\n"
     ]
    }
   ],
   "source": [
    "L5P6 = PV_Rannacher(dt=dt, dZ=dZ, R=1)"
   ]
  },
  {
   "cell_type": "code",
   "execution_count": 107,
   "id": "179fcb45-f02a-4f2d-8bda-aaae94f690cb",
   "metadata": {},
   "outputs": [],
   "source": [
    "L5_max_errors.append(L5P6[0])\n",
    "L5_real_max_errors.append(L5P6[1])\n",
    "L5_dt_vals.append(dt)\n",
    "L5_dz_vals.append(dZ)"
   ]
  },
  {
   "cell_type": "markdown",
   "id": "b11cb1f8-e6bb-4017-a0e4-ae0902c7084d",
   "metadata": {
    "jp-MarkdownHeadingCollapsed": true,
    "tags": []
   },
   "source": [
    "#### 5.7 Parameters: $\\Delta z = 0.001, \\Delta t = 0.003$"
   ]
  },
  {
   "cell_type": "code",
   "execution_count": 108,
   "id": "5b95bfc3-9d88-4a0c-b0ce-396aec6b403b",
   "metadata": {},
   "outputs": [],
   "source": [
    "dZ=0.001\n",
    "dt=0.003"
   ]
  },
  {
   "cell_type": "code",
   "execution_count": 109,
   "id": "127a390e-ef88-4a48-8f96-698ae278cfd6",
   "metadata": {},
   "outputs": [
    {
     "name": "stdout",
     "output_type": "stream",
     "text": [
      "Stepsizes: dz = 0.0010000156986444135 and dt = 0.0029985007496251873\n",
      "lambda = 2.9984536779671065\n",
      "\n",
      " Tridiagonal system coefficients:\n",
      "lower diag values = -16.859478047224307\n",
      "diag values = 34.73210431429722\n",
      "upper diag values = -16.872596282065416\n",
      "\n",
      " ENTIRE S DOMAIN ERRORS\n",
      "1. Maximal error: 9.607894391523416 \n",
      "\n",
      "located at 29240, z value of 6.214608098422193, S value of 500.00000000000074 \n",
      "\n",
      "2. Absolute sum of errors: 1716.8993946994626\n",
      "\n",
      " REALISTIC S DOMAIN ERRORS\n",
      "1. Maximal error: 1.8982809382173116e-06 \n",
      "\n",
      "located at 25336, z value of 2.3105468109144027, S value of 10.079934966783284 \n",
      "\n",
      "2. Absolute sum of errors: 0.0011759270278663434\n"
     ]
    }
   ],
   "source": [
    "L5P7 = PV_Rannacher(dt=dt, dZ=dZ, R=1)"
   ]
  },
  {
   "cell_type": "code",
   "execution_count": 110,
   "id": "c2b3bd4a-1159-4e87-abb4-7b4b17703c26",
   "metadata": {},
   "outputs": [],
   "source": [
    "L5_max_errors.append(L5P7[0])\n",
    "L5_real_max_errors.append(L5P7[1])\n",
    "L5_dt_vals.append(dt)\n",
    "L5_dz_vals.append(dZ)"
   ]
  },
  {
   "cell_type": "markdown",
   "id": "483d9cdc-86c2-4bc2-ab5d-f107f46554e9",
   "metadata": {
    "jp-MarkdownHeadingCollapsed": true,
    "tags": []
   },
   "source": [
    "#### Additional dz"
   ]
  },
  {
   "cell_type": "code",
   "execution_count": 111,
   "id": "669068bc-0a2a-49c1-8500-ecf829721408",
   "metadata": {},
   "outputs": [],
   "source": [
    "# Empty list to store max error values\n",
    "L5a_max_errors = []\n",
    "L5a_real_max_errors = []\n",
    "# Empty list to store dt and dz's\n",
    "L5a_dt_vals = []\n",
    "L5a_dz_vals = []"
   ]
  },
  {
   "cell_type": "code",
   "execution_count": 112,
   "id": "8fdee623-6ab2-494c-a10e-8c582f0441d5",
   "metadata": {
    "tags": []
   },
   "outputs": [],
   "source": [
    "# dz = 0.075\n",
    "# dt = 0.075*3\n",
    "\n",
    "# L5a1 = PV_Rannacher(dt=dt, dZ=dz, R=1)\n",
    "# L5a_max_errors.append(L5a1[0])\n",
    "# L5a_real_max_errors.append(L5a1[1])\n",
    "# L5a_dt_vals.append(dt)\n",
    "# L5a_dz_vals.append(dz)\n",
    "\n",
    "# ###########\n",
    "\n",
    "# dz = 0.0375\n",
    "# dt = 0.0375*3\n",
    "\n",
    "# L5a2 = PV_Rannacher(dt=dt, dZ=dz, R=1)\n",
    "# L5a_max_errors.append(L5a2[0])\n",
    "# L5a_real_max_errors.append(L5a2[1])\n",
    "# L5a_dt_vals.append(dt)\n",
    "# L5a_dz_vals.append(dz)\n",
    "\n",
    "# ###########\n",
    "\n",
    "# dz = 0.0175\n",
    "# dt = 0.0175*3\n",
    "\n",
    "# L5a3 = PV_Rannacher(dt=dt, dZ=dz, R=1)\n",
    "# L5a_max_errors.append(L5a3[0])\n",
    "# L5a_real_max_errors.append(L5a3[1])\n",
    "# L5a_dt_vals.append(dt)\n",
    "# L5a_dz_vals.append(dz)\n",
    "\n",
    "# ###########\n",
    "\n",
    "# dz = 0.0075\n",
    "# dt = 0.0075*3\n",
    "\n",
    "# L5a4 = PV_Rannacher(dt=dt, dZ=dz, R=1)\n",
    "# L5a_max_errors.append(L5a4[0])\n",
    "# L5a_real_max_errors.append(L5a4[1])\n",
    "# L5a_dt_vals.append(dt)\n",
    "# L5a_dz_vals.append(dz)\n",
    "\n",
    "# ###########\n",
    "\n",
    "# dz = 0.00375\n",
    "# dt = 0.00375*3\n",
    "\n",
    "# L5a5 = PV_Rannacher(dt=dt, dZ=dz, R=1)\n",
    "# L5a_max_errors.append(L5a5[0])\n",
    "# L5a_real_max_errors.append(L5a5[1])\n",
    "# L5a_dt_vals.append(dt)\n",
    "# L5a_dz_vals.append(dz)\n",
    "\n",
    "# ###########\n",
    "\n",
    "# dz = 0.00175\n",
    "# dt = 0.00175*3\n",
    "\n",
    "# L5a6 = PV_Rannacher(dt=dt, dZ=dz, R=1)\n",
    "# L5a_max_errors.append(L5a6[0])\n",
    "# L5a_real_max_errors.append(L5a6[1])\n",
    "# L5a_dt_vals.append(dt)\n",
    "# L5a_dz_vals.append(dz)\n",
    "\n",
    "# ###########\n",
    "\n",
    "# dz = 0.00075\n",
    "# dt = 0.00075*3\n",
    "\n",
    "# L5a7 = PV_Rannacher(dt=dt, dZ=dz, R=1)\n",
    "# L5a_max_errors.append(L5a7[0])\n",
    "# L5a_real_max_errors.append(L5a7[1])\n",
    "# L5a_dt_vals.append(dt)\n",
    "# L5a_dz_vals.append(dz)\n",
    "\n",
    "# ###########\n",
    "\n",
    "# dz = 0.0005\n",
    "# dt = 0.0005*3\n",
    "\n",
    "# L5a8 = PV_Rannacher(dt=dt, dZ=dz, R=1)\n",
    "# L5a_max_errors.append(L5a8[0])\n",
    "# L5a_real_max_errors.append(L5a8[1])\n",
    "# L5a_dt_vals.append(dt)\n",
    "# L5a_dz_vals.append(dz)\n",
    "\n",
    "# ###########\n",
    "\n",
    "# dz = 0.00025\n",
    "# dt = 0.00025*3\n",
    "\n",
    "# L5a9 = PV_Rannacher(dt=dt, dZ=dz, R=1)\n",
    "# L5a_max_errors.append(L5a9[0])\n",
    "# L5a_real_max_errors.append(L5a9[1])\n",
    "# L5a_dt_vals.append(dt)\n",
    "# L5a_dz_vals.append(dz)"
   ]
  },
  {
   "cell_type": "markdown",
   "id": "e53b3cff-ed26-4dcd-b47e-3016e3474a96",
   "metadata": {
    "tags": []
   },
   "source": [
    "#### PLOTS of Convergence for decreasing step size"
   ]
  },
  {
   "cell_type": "code",
   "execution_count": 113,
   "id": "424f4d85-d131-450b-b577-c2c94c2099a7",
   "metadata": {},
   "outputs": [],
   "source": [
    "# delta t values\n",
    "dt_vals = np.array(L5_dt_vals + L5a_dt_vals)\n",
    "sorted_indices = np.argsort(dt_vals)\n",
    "dt_vals = np.array([dt_vals[i] for i in sorted_indices])\n",
    "inv_dt_vals = np.divide(np.ones(len(dt_vals)), dt_vals)\n",
    "\n",
    "# delta z values\n",
    "dz_vals = np.array(L5_dz_vals + L5a_dz_vals)\n",
    "dz_vals = np.array([dz_vals[i] for i in sorted_indices])\n",
    "inv_dz_vals = np.divide(np.ones(len(dz_vals)), dz_vals)\n",
    "\n",
    "\n",
    "# max errors in realistic range\n",
    "real_max_errors = np.array(L5_real_max_errors + L5a_real_max_errors)\n",
    "real_max_errors = np.array([real_max_errors[i] for i in sorted_indices])\n",
    "\n",
    "# max errors in entire range\n",
    "max_errors = np.array(L5_max_errors + L5a_max_errors)\n",
    "max_errors = np.array([max_errors[i] for i in sorted_indices])"
   ]
  },
  {
   "cell_type": "markdown",
   "id": "1d86be57-2376-4d39-927f-2e271b966279",
   "metadata": {
    "tags": []
   },
   "source": [
    "##### Realistic S domain for 1/dz"
   ]
  },
  {
   "cell_type": "code",
   "execution_count": 114,
   "id": "3ba28f57-b5c2-46ca-89fe-ab23e11c0b13",
   "metadata": {},
   "outputs": [
    {
     "data": {
      "application/vnd.jupyter.widget-view+json": {
       "model_id": "262d1ca7e4fd4505bc16b45c125e222c",
       "version_major": 2,
       "version_minor": 0
      },
      "image/png": "[encoded data removed]",
      "text/html": [
       "\n",
       "            <div style=\"display: inline-block;\">\n",
       "                <div class=\"jupyter-widgets widget-label\" style=\"text-align: center;\">\n",
       "                    Figure\n",
       "                </div>\n",
       "                <img src='data:image/png;base64,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' width=640.0/>\n",
       "            </div>\n",
       "        "
      ],
      "text/plain": [
       "Canvas(toolbar=Toolbar(toolitems=[('Home', 'Reset original view', 'home', 'home'), ('Back', 'Back to previous …"
      ]
     },
     "metadata": {},
     "output_type": "display_data"
    }
   ],
   "source": [
    "inv_z = np.linspace(0, max(inv_dz_vals), 1000)\n",
    "plt.figure()\n",
    "plt.title('Max error for $\\\\lambda = 3$')\n",
    "plt.ylabel('Max error')\n",
    "plt.xlabel('Inverse z step size $(1 / \\Delta z)$')\n",
    "plt.xlim\n",
    "plt.plot(inv_dz_vals, real_max_errors, marker='x', color='black', label='Max error/step size data points')\n",
    "plt.show()"
   ]
  },
  {
   "cell_type": "code",
   "execution_count": 115,
   "id": "1f82cc08-1d58-4c11-864b-1c4729989a29",
   "metadata": {},
   "outputs": [
    {
     "data": {
      "application/vnd.jupyter.widget-view+json": {
       "model_id": "5d952f2252744eb18bf4f7b84ddc125c",
       "version_major": 2,
       "version_minor": 0
      },
      "image/png": "[encoded data removed]",
      "text/html": [
       "\n",
       "            <div style=\"display: inline-block;\">\n",
       "                <div class=\"jupyter-widgets widget-label\" style=\"text-align: center;\">\n",
       "                    Figure\n",
       "                </div>\n",
       "                <img src='data:image/png;base64,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' width=640.0/>\n",
       "            </div>\n",
       "        "
      ],
      "text/plain": [
       "Canvas(toolbar=Toolbar(toolitems=[('Home', 'Reset original view', 'home', 'home'), ('Back', 'Back to previous …"
      ]
     },
     "metadata": {},
     "output_type": "display_data"
    }
   ],
   "source": [
    "inv_z = np.linspace(0, max(inv_dz_vals), 1000)\n",
    "plt.figure()\n",
    "plt.title('Max error for $\\\\lambda = 3$')\n",
    "plt.ylabel('Max error')\n",
    "plt.xlabel('Inverse z step size $(1 / \\Delta z)$')\n",
    "plt.xlim\n",
    "plt.loglog(inv_dz_vals, real_max_errors, marker='x', color='black', label='Max error/step size data points')\n",
    "plt.show()"
   ]
  },
  {
   "cell_type": "markdown",
   "id": "d62142cf-34c7-4001-9ef7-250d0c54834e",
   "metadata": {
    "jp-MarkdownHeadingCollapsed": true,
    "tags": []
   },
   "source": [
    "### 6. $\\lambda = \\frac{\\Delta t}{\\Delta z} = 6$"
   ]
  },
  {
   "cell_type": "code",
   "execution_count": 116,
   "id": "f0dd56e3-5e09-4ed1-8afe-655be93956c4",
   "metadata": {},
   "outputs": [],
   "source": [
    "# Empty list to store max error values\n",
    "L6_max_errors = []\n",
    "L6_real_max_errors = []\n",
    "# Empty list to store dt and dz's\n",
    "L6_dt_vals = []\n",
    "L6_dz_vals = []"
   ]
  },
  {
   "cell_type": "markdown",
   "id": "43866545-b20b-468e-a164-64a988edc69c",
   "metadata": {
    "jp-MarkdownHeadingCollapsed": true,
    "tags": []
   },
   "source": [
    "#### 6.1 Parameters $\\Delta z = 0.1, \\Delta t = 0.6$"
   ]
  },
  {
   "cell_type": "code",
   "execution_count": 117,
   "id": "751a7776-77a6-4dd7-af11-8a642ffa9f7b",
   "metadata": {},
   "outputs": [],
   "source": [
    "dZ=0.1\n",
    "dt=0.3*2"
   ]
  },
  {
   "cell_type": "code",
   "execution_count": 118,
   "id": "1c990d5a-a45e-4581-a1c9-3a3883b4d2e1",
   "metadata": {},
   "outputs": [
    {
     "name": "stdout",
     "output_type": "stream",
     "text": [
      "Stepsizes: dz = 0.10013855831631045 and dt = 0.6666666666666666\n",
      "lambda = 6.65744222680786\n",
      "\n",
      " Tridiagonal system coefficients:\n",
      "lower diag values = -0.35939981359407\n",
      "diag values = 1.754592603597091\n",
      "upper diag values = -0.3885261233363543\n",
      "\n",
      " ENTIRE S DOMAIN ERRORS\n",
      "1. Maximal error: 9.607894391523416 \n",
      "\n",
      "located at 292, z value of 6.214608098422193, S value of 500.00000000000074 \n",
      "\n",
      "2. Absolute sum of errors: 22.569815132933435\n",
      "\n",
      " REALISTIC S DOMAIN ERRORS\n",
      "1. Maximal error: 0.020863528540981946 \n",
      "\n",
      "located at 253, z value of 2.309204324086089, S value of 10.066411866183358 \n",
      "\n",
      "2. Absolute sum of errors: 0.11954588359334037\n"
     ]
    }
   ],
   "source": [
    "L6P1 = PV_Rannacher(dt=dt, dZ=dZ, R=1)"
   ]
  },
  {
   "cell_type": "code",
   "execution_count": 119,
   "id": "2562a6f3-19ce-48f1-9155-01ea5a261556",
   "metadata": {},
   "outputs": [],
   "source": [
    "L6_max_errors.append(L6P1[0])\n",
    "L6_real_max_errors.append(L6P1[1])\n",
    "L6_dt_vals.append(dt)\n",
    "L6_dz_vals.append(dZ)"
   ]
  },
  {
   "cell_type": "markdown",
   "id": "d0f7689a-278e-4042-8c4c-acfd8bcc3e30",
   "metadata": {
    "jp-MarkdownHeadingCollapsed": true,
    "tags": []
   },
   "source": [
    "#### 6.2 Parameters $\\Delta z = 0.05, \\Delta t = 0.3$"
   ]
  },
  {
   "cell_type": "code",
   "execution_count": 120,
   "id": "d7cbc373-4734-4cab-b026-0503d269a2c5",
   "metadata": {},
   "outputs": [],
   "source": [
    "dZ=0.05\n",
    "dt=0.15*2"
   ]
  },
  {
   "cell_type": "code",
   "execution_count": 121,
   "id": "8fe3d6a6-ec5f-44e8-8160-daa26d6d20ba",
   "metadata": {},
   "outputs": [
    {
     "name": "stdout",
     "output_type": "stream",
     "text": [
      "Stepsizes: dz = 0.049983690646773764 and dt = 0.2857142857142857\n",
      "lambda = 5.716150248555673\n",
      "\n",
      " Tridiagonal system coefficients:\n",
      "lower diag values = -0.6307726528425263\n",
      "diag values = 2.2894106058796266\n",
      "upper diag values = -0.6557808101799574\n",
      "\n",
      " ENTIRE S DOMAIN ERRORS\n",
      "1. Maximal error: 9.607894391523416 \n",
      "\n",
      "located at 585, z value of 6.214608098422193, S value of 500.00000000000074 \n",
      "\n",
      "2. Absolute sum of errors: 39.38004644668276\n",
      "\n",
      " REALISTIC S DOMAIN ERRORS\n",
      "1. Maximal error: 0.0019592882157218883 \n",
      "\n",
      "located at 500, z value of 1.965994393446426, S value of 7.142011029214633 \n",
      "\n",
      "2. Absolute sum of errors: 0.042120028209399876\n"
     ]
    }
   ],
   "source": [
    "L6P2 = PV_Rannacher(dt=dt, dZ=dZ, R=1)"
   ]
  },
  {
   "cell_type": "code",
   "execution_count": 122,
   "id": "e393ac4d-fb6c-464f-8b30-15047fb76349",
   "metadata": {},
   "outputs": [],
   "source": [
    "L6_max_errors.append(L6P2[0])\n",
    "L6_real_max_errors.append(L6P2[1])\n",
    "L6_dt_vals.append(dt)\n",
    "L6_dz_vals.append(dZ)"
   ]
  },
  {
   "cell_type": "markdown",
   "id": "e905197e-1d59-43a5-a4ce-7efb7364a0ee",
   "metadata": {
    "jp-MarkdownHeadingCollapsed": true,
    "tags": []
   },
   "source": [
    "#### 6.3 Parameters $\\Delta z = 0.025, \\Delta t = 0.15$"
   ]
  },
  {
   "cell_type": "code",
   "execution_count": 123,
   "id": "e49da669-9654-46a7-881e-699a534d7cd4",
   "metadata": {},
   "outputs": [],
   "source": [
    "dZ = 0.025\n",
    "dt = 0.075*2"
   ]
  },
  {
   "cell_type": "code",
   "execution_count": 124,
   "id": "53595c6e-072d-47c5-bf7a-b6142ecb08f7",
   "metadata": {},
   "outputs": [
    {
     "name": "stdout",
     "output_type": "stream",
     "text": [
      "Stepsizes: dz = 0.024991845323386882 and dt = 0.15384615384615385\n",
      "lambda = 6.155854113829187\n",
      "\n",
      " Tridiagonal system coefficients:\n",
      "lower diag values = -1.3720531831502119\n",
      "diag values = 3.7725766895868884\n",
      "upper diag values = -1.3989850448982146\n",
      "\n",
      " ENTIRE S DOMAIN ERRORS\n",
      "1. Maximal error: 9.607894391523416 \n",
      "\n",
      "located at 1170, z value of 6.214608098422193, S value of 500.00000000000074 \n",
      "\n",
      "2. Absolute sum of errors: 73.46929302094343\n",
      "\n",
      " REALISTIC S DOMAIN ERRORS\n",
      "1. Maximal error: 0.0005785989483944876 \n",
      "\n",
      "located at 1000, z value of 1.965994393446426, S value of 7.142011029214633 \n",
      "\n",
      "2. Absolute sum of errors: 0.021080327121864847\n"
     ]
    }
   ],
   "source": [
    "L6P3 = PV_Rannacher(dt=dt, dZ=dZ, R=1)"
   ]
  },
  {
   "cell_type": "code",
   "execution_count": 125,
   "id": "cd377b4a-4c9e-40bf-97ef-bb19b6a6c34e",
   "metadata": {},
   "outputs": [],
   "source": [
    "L6_max_errors.append(L6P3[0])\n",
    "L6_real_max_errors.append(L6P3[1])\n",
    "L6_dt_vals.append(dt)\n",
    "L6_dz_vals.append(dZ)"
   ]
  },
  {
   "cell_type": "markdown",
   "id": "0813ec8f-d4ea-468f-a359-276e6079f702",
   "metadata": {
    "jp-MarkdownHeadingCollapsed": true,
    "tags": []
   },
   "source": [
    "#### 6.4 Parameters $\\Delta z = 0.01, \\Delta t = 0.06$"
   ]
  },
  {
   "cell_type": "code",
   "execution_count": 126,
   "id": "5dc354b5-030a-41a0-a73c-f28cf6b053b9",
   "metadata": {},
   "outputs": [],
   "source": [
    "dZ=0.01\n",
    "dt=0.03*2"
   ]
  },
  {
   "cell_type": "code",
   "execution_count": 127,
   "id": "72ac28c1-494e-4ada-b251-12fbdbd89d97",
   "metadata": {},
   "outputs": [
    {
     "name": "stdout",
     "output_type": "stream",
     "text": [
      "Stepsizes: dz = 0.010000156986444134 and dt = 0.06060606060606061\n",
      "lambda = 6.0605109188001824\n",
      "\n",
      " Tridiagonal system coefficients:\n",
      "lower diag values = -3.3957265077645564\n",
      "diag values = 7.818573811404924\n",
      "upper diag values = -3.422241243034307\n",
      "\n",
      " ENTIRE S DOMAIN ERRORS\n",
      "1. Maximal error: 9.607894391523416 \n",
      "\n",
      "located at 2924, z value of 6.214608098422193, S value of 500.00000000000074 \n",
      "\n",
      "2. Absolute sum of errors: 176.07712976147624\n",
      "\n",
      " REALISTIC S DOMAIN ERRORS\n",
      "1. Maximal error: 0.00010292284971380461 \n",
      "\n",
      "located at 2535, z value of 2.324547030695424, S value of 10.222048762627221 \n",
      "\n",
      "2. Absolute sum of errors: 0.009317987929481018\n"
     ]
    }
   ],
   "source": [
    "L6P4 = PV_Rannacher(dt=dt, dZ=dZ, R=1)"
   ]
  },
  {
   "cell_type": "code",
   "execution_count": 128,
   "id": "cc07af22-8dc4-4c3e-9500-33da06d2decd",
   "metadata": {},
   "outputs": [],
   "source": [
    "L6_max_errors.append(L6P4[0])\n",
    "L6_real_max_errors.append(L6P4[1])\n",
    "L6_dt_vals.append(dt)\n",
    "L6_dz_vals.append(dZ)"
   ]
  },
  {
   "cell_type": "markdown",
   "id": "5b2c0bc0-a038-4fef-b279-54b6dc491468",
   "metadata": {
    "jp-MarkdownHeadingCollapsed": true,
    "tags": []
   },
   "source": [
    "#### 6.5 Parameters: $\\Delta z = 0.005, \\Delta t = 0.03$"
   ]
  },
  {
   "cell_type": "code",
   "execution_count": 129,
   "id": "920908eb-6776-4b8e-bf1f-23baa6f9e801",
   "metadata": {},
   "outputs": [],
   "source": [
    "dZ=0.005\n",
    "dt=0.015*2"
   ]
  },
  {
   "cell_type": "code",
   "execution_count": 130,
   "id": "87731682-cc41-456e-8005-8c5b753ec4e3",
   "metadata": {},
   "outputs": [
    {
     "name": "stdout",
     "output_type": "stream",
     "text": [
      "Stepsizes: dz = 0.005000078493222067 and dt = 0.029850746268656716\n",
      "lambda = 5.9700555319524184\n",
      "\n",
      " Tridiagonal system coefficients:\n",
      "lower diag values = -6.703147541624226\n",
      "diag values = 14.432712583663431\n",
      "upper diag values = -6.729266534576519\n",
      "\n",
      " ENTIRE S DOMAIN ERRORS\n",
      "1. Maximal error: 9.607894391523416 \n",
      "\n",
      "located at 5848, z value of 6.214608098422193, S value of 500.00000000000074 \n",
      "\n",
      "2. Absolute sum of errors: 347.25343842535\n",
      "\n",
      " REALISTIC S DOMAIN ERRORS\n",
      "1. Maximal error: 2.2259718988476562e-05 \n",
      "\n",
      "located at 4998, z value of 1.9645413791834336, S value of 7.131641120959492 \n",
      "\n",
      "2. Absolute sum of errors: 0.004226736912952756\n"
     ]
    }
   ],
   "source": [
    "L6P5 = PV_Rannacher(dt=dt, dZ=dZ, R=1)"
   ]
  },
  {
   "cell_type": "code",
   "execution_count": 131,
   "id": "83b79a3c-cf66-4dd6-b1cf-9512c8c2391c",
   "metadata": {},
   "outputs": [],
   "source": [
    "L6_max_errors.append(L6P5[0])\n",
    "L6_real_max_errors.append(L6P5[1])\n",
    "L6_dt_vals.append(dt)\n",
    "L6_dz_vals.append(dZ)"
   ]
  },
  {
   "cell_type": "markdown",
   "id": "87e834f6-68ea-4397-8637-dce9b16d802a",
   "metadata": {
    "jp-MarkdownHeadingCollapsed": true,
    "tags": []
   },
   "source": [
    "#### 6.6 Parameters: $\\Delta z = 0.0025, \\Delta t = 0.015$"
   ]
  },
  {
   "cell_type": "code",
   "execution_count": 132,
   "id": "b0d86f83-3f34-480c-b581-1477a3a01d46",
   "metadata": {},
   "outputs": [],
   "source": [
    "dZ=0.0025\n",
    "dt=0.0075*2"
   ]
  },
  {
   "cell_type": "code",
   "execution_count": 133,
   "id": "3c931822-50d9-4d2a-b62d-c63f65f14d80",
   "metadata": {},
   "outputs": [
    {
     "name": "stdout",
     "output_type": "stream",
     "text": [
      "Stepsizes: dz = 0.0025000392466110336 and dt = 0.015037593984962405\n",
      "lambda = 6.014943167531008\n",
      "\n",
      " Tridiagonal system coefficients:\n",
      "lower diag values = -13.520251982579671\n",
      "diag values = 28.06696971745714\n",
      "upper diag values = -13.546567358937619\n",
      "\n",
      " ENTIRE S DOMAIN ERRORS\n",
      "1. Maximal error: 9.607894391523416 \n",
      "\n",
      "located at 11696, z value of 6.214608098422193, S value of 500.00000000000074 \n",
      "\n",
      "2. Absolute sum of errors: 689.6553078043554\n",
      "\n",
      " REALISTIC S DOMAIN ERRORS\n",
      "1. Maximal error: 5.7418121763852525e-06 \n",
      "\n",
      "located at 10141, z value of 2.327047069942033, S value of 10.247636257257701 \n",
      "\n",
      "2. Absolute sum of errors: 0.0022671039867808718\n"
     ]
    }
   ],
   "source": [
    "L6P6 = PV_Rannacher(dt=dt, dZ=dZ, R=1)"
   ]
  },
  {
   "cell_type": "code",
   "execution_count": 134,
   "id": "6dc0db77-2727-4c95-9ebb-31bf773d27e2",
   "metadata": {},
   "outputs": [],
   "source": [
    "L6_max_errors.append(L6P6[0])\n",
    "L6_real_max_errors.append(L6P6[1])\n",
    "L6_dt_vals.append(dt)\n",
    "L6_dz_vals.append(dZ)"
   ]
  },
  {
   "cell_type": "markdown",
   "id": "a6bc208b-2805-495a-b02d-da01142b81f4",
   "metadata": {
    "jp-MarkdownHeadingCollapsed": true,
    "tags": []
   },
   "source": [
    "#### 6.7 Parameters: $\\Delta z = 0.001, \\Delta t = 0.006$"
   ]
  },
  {
   "cell_type": "code",
   "execution_count": 135,
   "id": "2388d932-e2e8-47f9-bade-4a63d9458c1d",
   "metadata": {},
   "outputs": [],
   "source": [
    "dZ=0.001\n",
    "dt=0.003*2"
   ]
  },
  {
   "cell_type": "code",
   "execution_count": 136,
   "id": "e7016a0d-6139-4c79-8eda-b82c047427ab",
   "metadata": {},
   "outputs": [
    {
     "name": "stdout",
     "output_type": "stream",
     "text": [
      "Stepsizes: dz = 0.0010000156986444135 and dt = 0.006006006006006006\n",
      "lambda = 6.005911721333514\n",
      "\n",
      " Tridiagonal system coefficients:\n",
      "lower diag values = -33.769585157653495\n",
      "diag values = 68.5655062391479\n",
      "upper diag values = -33.795861021434334\n",
      "\n",
      " ENTIRE S DOMAIN ERRORS\n",
      "1. Maximal error: 9.607894391523416 \n",
      "\n",
      "located at 29240, z value of 6.214608098422193, S value of 500.00000000000074 \n",
      "\n",
      "2. Absolute sum of errors: 1716.8990167173408\n",
      "\n",
      " REALISTIC S DOMAIN ERRORS\n",
      "1. Maximal error: 2.0964666529454945e-06 \n",
      "\n",
      "located at 25339, z value of 2.313546858010337, S value of 10.11022065293501 \n",
      "\n",
      "2. Absolute sum of errors: 0.0012711718046034442\n"
     ]
    }
   ],
   "source": [
    "L6P7 = PV_Rannacher(dt=dt, dZ=dZ, R=1)"
   ]
  },
  {
   "cell_type": "code",
   "execution_count": 137,
   "id": "322b02c4-579e-4ade-9f79-853ebd6bfc0a",
   "metadata": {},
   "outputs": [],
   "source": [
    "L6_max_errors.append(L6P7[0])\n",
    "L6_real_max_errors.append(L6P7[1])\n",
    "L6_dt_vals.append(dt)\n",
    "L6_dz_vals.append(dZ)"
   ]
  },
  {
   "cell_type": "markdown",
   "id": "cb1149a8-3692-4b6c-9690-18c6f4c9b4a7",
   "metadata": {
    "jp-MarkdownHeadingCollapsed": true,
    "tags": []
   },
   "source": [
    "#### Additional dz"
   ]
  },
  {
   "cell_type": "code",
   "execution_count": 138,
   "id": "8298a3b7-ad05-40c3-982a-76931635c1e1",
   "metadata": {},
   "outputs": [],
   "source": [
    "# Empty list to store max error values\n",
    "L6a_max_errors = []\n",
    "L6a_real_max_errors = []\n",
    "# Empty list to store dt and dz's\n",
    "L6a_dt_vals = []\n",
    "L6a_dz_vals = []"
   ]
  },
  {
   "cell_type": "code",
   "execution_count": 139,
   "id": "8c924753-90ee-471c-b216-d4fa9967d5b2",
   "metadata": {},
   "outputs": [],
   "source": [
    "# dz = 0.075\n",
    "# dt = 0.075*3*2\n",
    "\n",
    "# L6a1 = PV_Rannacher(dt=dt, dZ=dZ, R=1)\n",
    "# L6a_max_errors.append(L6a1[0])\n",
    "# L6a_real_max_errors.append(L6a1[1])\n",
    "# L6a_dt_vals.append(dt)\n",
    "# L6a_dz_vals.append(dz)\n",
    "\n",
    "# ###########\n",
    "\n",
    "# dz = 0.0375\n",
    "# dt = 0.0375*3*2\n",
    "\n",
    "# L6a2 = PV_Rannacher(dt=dt, dZ=dz, R=1)\n",
    "# L6a_max_errors.append(L6a2[0])\n",
    "# L6a_real_max_errors.append(L6a2[1])\n",
    "# L6a_dt_vals.append(dt)\n",
    "# L6a_dz_vals.append(dz)\n",
    "\n",
    "# ###########\n",
    "\n",
    "# dz = 0.0175\n",
    "# dt = 0.0175*3*2\n",
    "\n",
    "# L6a3 = PV_Rannacher(dt=dt, dZ=dz, R=1)\n",
    "# L6a_max_errors.append(L6a3[0])\n",
    "# L6a_real_max_errors.append(L6a3[1])\n",
    "# L6a_dt_vals.append(dt)\n",
    "# L6a_dz_vals.append(dz)\n",
    "\n",
    "# ###########\n",
    "\n",
    "# dz = 0.0075\n",
    "# dt = 0.0075*3*2\n",
    "\n",
    "# L6a4 = PV_Rannacher(dt=dt, dZ=dz, R=1)\n",
    "# L6a_max_errors.append(L6a4[0])\n",
    "# L6a_real_max_errors.append(L6a4[1])\n",
    "# L6a_dt_vals.append(dt)\n",
    "# L6a_dz_vals.append(dz)\n",
    "\n",
    "# ###########\n",
    "\n",
    "# dz = 0.00375\n",
    "# dt = 0.00375*3*2\n",
    "\n",
    "# L6a5 = PV_Rannacher(dt=dt, dZ=dz, R=1)\n",
    "# L6a_max_errors.append(L6a5[0])\n",
    "# L6a_real_max_errors.append(L6a5[1])\n",
    "# L6a_dt_vals.append(dt)\n",
    "# L6a_dz_vals.append(dz)\n",
    "\n",
    "# ###########\n",
    "\n",
    "# dz = 0.00175\n",
    "# dt = 0.00175*3*2\n",
    "\n",
    "# L6a6 = PV_Rannacher(dt=dt, dZ=dz, R=1)\n",
    "# L6a_max_errors.append(L6a6[0])\n",
    "# L6a_real_max_errors.append(L6a6[1])\n",
    "# L6a_dt_vals.append(dt)\n",
    "# L6a_dz_vals.append(dz)\n",
    "\n",
    "# ###########\n",
    "\n",
    "# dz = 0.00075\n",
    "# dt = 0.00075*3*2\n",
    "\n",
    "# L6a7 = PV_Rannacher(dt=dt, dZ=dz, R=1)\n",
    "# L6a_max_errors.append(L6a7[0])\n",
    "# L6a_real_max_errors.append(L6a7[1])\n",
    "# L6a_dt_vals.append(dt)\n",
    "# L6a_dz_vals.append(dz)\n",
    "\n",
    "# ###########\n",
    "\n",
    "# dz = 0.0005\n",
    "# dt = 0.0005*3*2\n",
    "\n",
    "# L6a8 = PV_Rannacher(dt=dt, dZ=dz, R=1)\n",
    "# L6a_max_errors.append(L6a8[0])\n",
    "# L6a_real_max_errors.append(L6a8[1])\n",
    "# L6a_dt_vals.append(dt)\n",
    "# L6a_dz_vals.append(dz)\n",
    "\n",
    "# ###########\n",
    "\n",
    "# dz = 0.00025\n",
    "# dt = 0.00025*3*2\n",
    "\n",
    "# L6a9 = PV_Rannacher(dt=dt, dZ=dz, R=1)\n",
    "# L6a_max_errors.append(L6a9[0])\n",
    "# L6a_real_max_errors.append(L6a9[1])\n",
    "# L6a_dt_vals.append(dt)\n",
    "# L6a_dz_vals.append(dz)"
   ]
  },
  {
   "cell_type": "markdown",
   "id": "53569859-0abd-41b7-bf0f-48ebcc4cafb6",
   "metadata": {
    "tags": []
   },
   "source": [
    "#### PLOTS of Convergence for decreasing step size"
   ]
  },
  {
   "cell_type": "code",
   "execution_count": 140,
   "id": "040cf26d-961f-43b9-ac65-693754a9a0f3",
   "metadata": {},
   "outputs": [],
   "source": [
    "# delta t values\n",
    "dt_vals = np.array(L6_dt_vals + L6a_dt_vals)\n",
    "sorted_indices = np.argsort(dt_vals)\n",
    "dt_vals = np.array([dt_vals[i] for i in sorted_indices])\n",
    "inv_dt_vals = np.divide(np.ones(len(dt_vals)), dt_vals)\n",
    "\n",
    "# delta z values\n",
    "dz_vals = np.array(L6_dz_vals + L6a_dz_vals)\n",
    "dz_vals = np.array([dz_vals[i] for i in sorted_indices])\n",
    "inv_dz_vals = np.divide(np.ones(len(dz_vals)), dz_vals)\n",
    "\n",
    "\n",
    "# max errors in realistic range\n",
    "real_max_errors = np.array(L6_real_max_errors + L6a_real_max_errors)\n",
    "real_max_errors = np.array([real_max_errors[i] for i in sorted_indices])\n",
    "\n",
    "# max errors in entire range\n",
    "max_errors = np.array(L6_max_errors + L6a_max_errors)\n",
    "max_errors = np.array([max_errors[i] for i in sorted_indices])"
   ]
  },
  {
   "cell_type": "markdown",
   "id": "51db5ea5-86eb-4c26-b1e0-9f00794c56cb",
   "metadata": {
    "tags": []
   },
   "source": [
    "##### Realistic S domain for 1/dz"
   ]
  },
  {
   "cell_type": "code",
   "execution_count": 141,
   "id": "670610b4-38ab-4f6d-a6db-0cfccdf80678",
   "metadata": {},
   "outputs": [
    {
     "data": {
      "application/vnd.jupyter.widget-view+json": {
       "model_id": "8a05193e57a74dc1bda6b8f8490adb17",
       "version_major": 2,
       "version_minor": 0
      },
      "image/png": "[encoded data removed]",
      "text/html": [
       "\n",
       "            <div style=\"display: inline-block;\">\n",
       "                <div class=\"jupyter-widgets widget-label\" style=\"text-align: center;\">\n",
       "                    Figure\n",
       "                </div>\n",
       "                <img src='data:image/png;base64,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' width=640.0/>\n",
       "            </div>\n",
       "        "
      ],
      "text/plain": [
       "Canvas(toolbar=Toolbar(toolitems=[('Home', 'Reset original view', 'home', 'home'), ('Back', 'Back to previous …"
      ]
     },
     "metadata": {},
     "output_type": "display_data"
    }
   ],
   "source": [
    "inv_z = np.linspace(0, max(inv_dz_vals), 1000)\n",
    "plt.figure()\n",
    "plt.title('Max error for $\\\\lambda = 6$')\n",
    "plt.ylabel('Max error')\n",
    "plt.xlabel('Inverse z step size $(1 / \\Delta z)$')\n",
    "plt.xlim\n",
    "plt.plot(inv_dz_vals, real_max_errors, marker='x', color='black', label='Max error/step size data points')\n",
    "plt.show()"
   ]
  },
  {
   "cell_type": "code",
   "execution_count": 142,
   "id": "4b3bd903-6520-446d-8799-c66980e45220",
   "metadata": {},
   "outputs": [
    {
     "data": {
      "application/vnd.jupyter.widget-view+json": {
       "model_id": "47c3e09af203410badc92b38edb1a5ae",
       "version_major": 2,
       "version_minor": 0
      },
      "image/png": "[encoded data removed]",
      "text/html": [
       "\n",
       "            <div style=\"display: inline-block;\">\n",
       "                <div class=\"jupyter-widgets widget-label\" style=\"text-align: center;\">\n",
       "                    Figure\n",
       "                </div>\n",
       "                <img src='data:image/png;base64,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' width=640.0/>\n",
       "            </div>\n",
       "        "
      ],
      "text/plain": [
       "Canvas(toolbar=Toolbar(toolitems=[('Home', 'Reset original view', 'home', 'home'), ('Back', 'Back to previous …"
      ]
     },
     "metadata": {},
     "output_type": "display_data"
    }
   ],
   "source": [
    "inv_z = np.linspace(0, max(inv_dz_vals), 1000)\n",
    "plt.figure()\n",
    "plt.title('Max error for $\\\\lambda = 6$')\n",
    "plt.ylabel('Max error')\n",
    "plt.xlabel('Inverse z step size $(1 / \\Delta z)$')\n",
    "plt.xlim\n",
    "plt.loglog(inv_dz_vals, real_max_errors, marker='x', color='black', label='Max error/step size data points')\n",
    "plt.show()"
   ]
  },
  {
   "cell_type": "markdown",
   "id": "7ffb0292-6e70-4796-bc84-1525002fd18a",
   "metadata": {
    "jp-MarkdownHeadingCollapsed": true,
    "tags": []
   },
   "source": [
    "### STORING DATA"
   ]
  },
  {
   "cell_type": "code",
   "execution_count": 151,
   "id": "270da7c6-1916-4575-9f45-8903ac84c5d1",
   "metadata": {
    "tags": []
   },
   "outputs": [
    {
     "name": "stdout",
     "output_type": "stream",
     "text": [
      "   Real Errors     dt      dz  lambda  Entire Errors\n",
      "0     0.024342  1.000  0.1000    10.0       9.607894\n",
      "1     0.003239  0.500  0.0500    10.0       9.607894\n",
      "2     0.000758  0.250  0.0250    10.0       9.607894\n",
      "3     0.000151  0.100  0.0100    10.0       9.607894\n",
      "4     0.000030  0.050  0.0050    10.0       9.607894\n",
      "5     0.000009  0.025  0.0025    10.0       9.607894\n",
      "6     0.000003  0.010  0.0010    10.0       9.607894\n",
      "   Real Errors      dt      dz  lambda  Entire Errors\n",
      "0     0.019077  0.5000  0.1000     5.0       9.607894\n",
      "1     0.001880  0.2500  0.0500     5.0       9.607894\n",
      "2     0.000549  0.1250  0.0250     5.0       9.607894\n",
      "3     0.000094  0.0500  0.0100     5.0       9.607894\n",
      "4     0.000021  0.0250  0.0050     5.0       9.607894\n",
      "5     0.000005  0.0125  0.0025     5.0       9.607894\n",
      "6     0.000002  0.0050  0.0010     5.0       9.607894\n",
      "   Real Errors     dt      dz  lambda  Entire Errors\n",
      "0     0.018416  0.400  0.1000     4.0       9.607894\n",
      "1     0.001786  0.200  0.0500     4.0       9.607894\n",
      "2     0.000531  0.100  0.0250     4.0       9.607894\n",
      "3     0.000087  0.040  0.0100     4.0       9.607894\n",
      "4     0.000020  0.020  0.0050     4.0       9.607894\n",
      "5     0.000005  0.010  0.0025     4.0       9.607894\n",
      "6     0.000002  0.004  0.0010     4.0       9.607894\n",
      "   Real Errors      dt      dz  lambda  Entire Errors\n",
      "0     0.017841  0.3000  0.1000     3.0       9.607894\n",
      "1     0.001719  0.1500  0.0500     3.0       9.607894\n",
      "2     0.000518  0.0750  0.0250     3.0       9.607894\n",
      "3     0.000082  0.0300  0.0100     3.0       9.607894\n",
      "4     0.000020  0.0150  0.0050     3.0       9.607894\n",
      "5     0.000004  0.0075  0.0025     3.0       9.607894\n",
      "6     0.000002  0.0030  0.0010     3.0       9.607894\n",
      "   Real Errors     dt      dz  lambda  Entire Errors\n",
      "0     0.020864  0.600  0.1000     6.0       9.607894\n",
      "1     0.001959  0.300  0.0500     6.0       9.607894\n",
      "2     0.000579  0.150  0.0250     6.0       9.607894\n",
      "3     0.000103  0.060  0.0100     6.0       9.607894\n",
      "4     0.000022  0.030  0.0050     6.0       9.607894\n",
      "5     0.000006  0.015  0.0025     6.0       9.607894\n",
      "6     0.000002  0.006  0.0010     6.0       9.607894\n"
     ]
    }
   ],
   "source": [
    "# # write a pandas dataframe with all the values so that they do not need to be recalculated\n",
    "# import pandas as pd\n",
    "\n",
    "# ErrorVals2 = pd.DataFrame({'Real Errors': L2_real_max_errors + L2a_real_max_errors,\n",
    "#                            'dt': L2_dt_vals + L2a_dt_vals, \n",
    "#                            'dz': L2_dz_vals + L2a_dz_vals,\n",
    "#                            'lambda': np.divide(np.array(L2_dt_vals + L2a_dt_vals), \n",
    "#                                                np.array(L2_dz_vals + L2a_dz_vals)),\n",
    "#                            'Entire Errors': L2_max_errors + L2a_max_errors,\n",
    "#                          })\n",
    "\n",
    "# print(ErrorVals2)\n",
    "\n",
    "# # write to csv file\n",
    "# ErrorVals2.to_csv('RCN1 l10 data.csv', index=False)\n",
    "\n",
    "# ### --------------------------------------------\n",
    "\n",
    "# ErrorVals3 = pd.DataFrame({'Real Errors': L3_real_max_errors + L3a_real_max_errors,\n",
    "#                            'dt': L3_dt_vals + L3a_dt_vals, \n",
    "#                            'dz': L3_dz_vals + L3a_dz_vals,\n",
    "#                            'lambda': np.divide(np.array(L3_dt_vals + L3a_dt_vals), \n",
    "#                                                np.array(L3_dz_vals + L3a_dz_vals)),\n",
    "#                            'Entire Errors': L3_max_errors + L3a_max_errors,\n",
    "#                          })\n",
    "\n",
    "# print(ErrorVals3)\n",
    "\n",
    "# # write to csv file\n",
    "# ErrorVals3.to_csv('RCN1 l5 data.csv', index=False)\n",
    "\n",
    "# ### --------------------------------------------\n",
    "\n",
    "# ErrorVals4 = pd.DataFrame({'Real Errors': L4_real_max_errors + L4a_real_max_errors,\n",
    "#                            'dt': L4_dt_vals + L4a_dt_vals, \n",
    "#                            'dz': L4_dz_vals + L4a_dz_vals,\n",
    "#                            'lambda': np.divide(np.array(L4_dt_vals + L4a_dt_vals), \n",
    "#                                                np.array(L4_dz_vals + L4a_dz_vals)),\n",
    "#                            'Entire Errors': L4_max_errors + L4a_max_errors,\n",
    "#                          })\n",
    "\n",
    "# print(ErrorVals4)\n",
    "\n",
    "# # write to csv file\n",
    "# ErrorVals4.to_csv('RCN1 l4 data.csv', index=False)\n",
    "\n",
    "# ### --------------------------------------------\n",
    "\n",
    "# ErrorVals5 = pd.DataFrame({'Real Errors': L5_real_max_errors + L5a_real_max_errors,\n",
    "#                            'dt': L5_dt_vals + L5a_dt_vals, \n",
    "#                            'dz': L5_dz_vals + L5a_dz_vals,\n",
    "#                            'lambda': np.divide(np.array(L5_dt_vals + L5a_dt_vals), \n",
    "#                                                np.array(L5_dz_vals + L5a_dz_vals)),\n",
    "#                            'Entire Errors': L5_max_errors + L5a_max_errors,\n",
    "#                          })\n",
    "\n",
    "# print(ErrorVals5)\n",
    "\n",
    "# # write to csv file\n",
    "# ErrorVals5.to_csv('RCN1 l3 data.csv', index=False)\n",
    "\n",
    "# ### ---------------------------------------------\n",
    "\n",
    "# ErrorVals6 = pd.DataFrame({'Real Errors': L6_real_max_errors + L6a_real_max_errors,\n",
    "#                            'dt': L6_dt_vals + L6a_dt_vals, \n",
    "#                            'dz': L6_dz_vals + L6a_dz_vals,\n",
    "#                            'lambda': np.divide(np.array(L6_dt_vals + L6a_dt_vals), \n",
    "#                                                np.array(L6_dz_vals + L6a_dz_vals)),\n",
    "#                            'Entire Errors': L6_max_errors + L6a_max_errors,\n",
    "#                          })\n",
    "\n",
    "# print(ErrorVals6)\n",
    "\n",
    "# # write to csv file\n",
    "# ErrorVals6.to_csv('RCN1 l6 data.csv', index=False)"
   ]
  },
  {
   "cell_type": "markdown",
   "id": "2769a910-cdf2-4626-bcd6-508e424b3b7b",
   "metadata": {
    "tags": []
   },
   "source": [
    "# All on one PLOT"
   ]
  },
  {
   "cell_type": "code",
   "execution_count": 144,
   "id": "8f44cad7-284c-47ec-a337-f997cd796b88",
   "metadata": {},
   "outputs": [],
   "source": [
    "# delta z values\n",
    "dz_vals_l6 = np.array(L6_dz_vals + L6a_dz_vals)\n",
    "sorted_indices = np.argsort(dz_vals_l6)\n",
    "dz_vals_l6 = np.array([dz_vals_l6[i] for i in sorted_indices])\n",
    "inv_dz_vals_l6 = np.divide(np.ones(len(dz_vals_l6)), dz_vals_l6)\n",
    "\n",
    "# max errors in realistic range\n",
    "real_max_errors_l6 = np.array(L6_real_max_errors + L6a_real_max_errors)\n",
    "real_max_errors_l6 = np.array([real_max_errors_l6[i] for i in sorted_indices])"
   ]
  },
  {
   "cell_type": "code",
   "execution_count": 145,
   "id": "65f966ba-b9fa-4cd4-8a52-3303c528e34f",
   "metadata": {},
   "outputs": [],
   "source": [
    "# delta z values\n",
    "dz_vals_l10 = np.array(L2_dz_vals + L2a_dz_vals)\n",
    "sorted_indices = np.argsort(dz_vals_l10)\n",
    "dz_vals_l10 = np.array([dz_vals_l10[i] for i in sorted_indices])\n",
    "inv_dz_vals_l10 = np.divide(np.ones(len(dz_vals_l10)), dz_vals_l10)\n",
    "\n",
    "# max errors in realistic range\n",
    "real_max_errors_l10 = np.array(L2_real_max_errors + L2a_real_max_errors)\n",
    "real_max_errors_l10 = np.array([real_max_errors_l10[i] for i in sorted_indices])"
   ]
  },
  {
   "cell_type": "code",
   "execution_count": 146,
   "id": "ac0ec459-cbf2-44b8-a965-c7973b42bf15",
   "metadata": {},
   "outputs": [],
   "source": [
    "# delta z values\n",
    "dz_vals_l5 = np.array(L3_dz_vals + L3a_dz_vals)\n",
    "sorted_indices = np.argsort(dz_vals_l5)\n",
    "dz_vals_l5 = np.array([dz_vals_l5[i] for i in sorted_indices])\n",
    "inv_dz_vals_l5 = np.divide(np.ones(len(dz_vals_l5)), dz_vals_l5)\n",
    "\n",
    "# max errors in realistic range\n",
    "real_max_errors_l5 = np.array(L3_real_max_errors + L3a_real_max_errors)\n",
    "real_max_errors_l5 = np.array([real_max_errors_l5[i] for i in sorted_indices])"
   ]
  },
  {
   "cell_type": "code",
   "execution_count": 147,
   "id": "a1cb2dc8-1cfd-4917-9df9-c53b7013e727",
   "metadata": {},
   "outputs": [],
   "source": [
    "# delta z values\n",
    "dz_vals_l4 = np.array(L4_dz_vals + L4a_dz_vals)\n",
    "sorted_indices = np.argsort(dz_vals_l4)\n",
    "dz_vals_l4 = np.array([dz_vals_l4[i] for i in sorted_indices])\n",
    "inv_dz_vals_l4 = np.divide(np.ones(len(dz_vals_l4)), dz_vals_l4)\n",
    "\n",
    "# max errors in realistic range\n",
    "real_max_errors_l4 = np.array(L4_real_max_errors + L4a_real_max_errors)\n",
    "real_max_errors_l4 = np.array([real_max_errors_l4[i] for i in sorted_indices])"
   ]
  },
  {
   "cell_type": "code",
   "execution_count": 148,
   "id": "ff2dbe93-4ed4-4a6e-b6c6-55d6c076a9ba",
   "metadata": {},
   "outputs": [],
   "source": [
    "# delta z values\n",
    "dz_vals_l3 = np.array(L5_dz_vals + L5a_dz_vals)\n",
    "sorted_indices = np.argsort(dz_vals_l3)\n",
    "dz_vals_l3 = np.array([dz_vals_l3[i] for i in sorted_indices])\n",
    "inv_dz_vals_l3 = np.divide(np.ones(len(dz_vals_l3)), dz_vals_l3)\n",
    "\n",
    "# max errors in realistic range\n",
    "real_max_errors_l3 = np.array(L5_real_max_errors + L5a_real_max_errors)\n",
    "real_max_errors_l3 = np.array([real_max_errors_l3[i] for i in sorted_indices])"
   ]
  },
  {
   "cell_type": "code",
   "execution_count": 152,
   "id": "5a2b0042-c126-4eb7-87c7-2511c39707b9",
   "metadata": {},
   "outputs": [
    {
     "data": {
      "application/vnd.jupyter.widget-view+json": {
       "model_id": "fcff90671c764b1ab19cc0a1869686ea",
       "version_major": 2,
       "version_minor": 0
      },
      "image/png": "[encoded data removed]",
      "text/html": [
       "\n",
       "            <div style=\"display: inline-block;\">\n",
       "                <div class=\"jupyter-widgets widget-label\" style=\"text-align: center;\">\n",
       "                    Figure\n",
       "                </div>\n",
       "                <img src='data:image/png;base64,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' width=640.0/>\n",
       "            </div>\n",
       "        "
      ],
      "text/plain": [
       "Canvas(toolbar=Toolbar(toolitems=[('Home', 'Reset original view', 'home', 'home'), ('Back', 'Back to previous …"
      ]
     },
     "metadata": {},
     "output_type": "display_data"
    }
   ],
   "source": [
    "plt.figure()\n",
    "plt.title('$R=1$ Rannacher Convergence')\n",
    "plt.xlabel('$\\\\frac{1}{\\\\Delta x}$')\n",
    "plt.ylabel('Max error')\n",
    "plt.loglog(inv_dz_vals_l3, real_max_errors_l3, label='$\\\\lambda = 3$')\n",
    "plt.loglog(inv_dz_vals_l4, real_max_errors_l4, label='$\\\\lambda = 4$')\n",
    "plt.loglog(inv_dz_vals_l5, real_max_errors_l5, label='$\\\\lambda = 5$')\n",
    "plt.loglog(inv_dz_vals_l6, real_max_errors_l6, label='$\\\\lambda = 6$')\n",
    "plt.loglog(inv_dz_vals_l10, real_max_errors_l10, label='$\\\\lambda = 10$')\n",
    "plt.legend()\n",
    "plt.grid(True, linestyle='dotted', color='grey')\n",
    "plt.show()\n"
   ]
  },
  {
   "cell_type": "code",
   "execution_count": null,
   "id": "d7b78093-e1f6-4fcd-9162-4d8efd78eb6e",
   "metadata": {},
   "outputs": [],
   "source": []
  },
  {
   "cell_type": "code",
   "execution_count": null,
   "id": "73e74d8d-d322-4203-9a5a-82ff251912cc",
   "metadata": {},
   "outputs": [],
   "source": []
  },
  {
   "cell_type": "code",
   "execution_count": null,
   "id": "765cb9b9-698f-4f9c-8c7e-dd8ea7ef2ab9",
   "metadata": {},
   "outputs": [],
   "source": []
  },
  {
   "cell_type": "code",
   "execution_count": null,
   "id": "e7185f6f-5bdb-4489-b06f-ab98e28a4a3f",
   "metadata": {},
   "outputs": [],
   "source": []
  }
 ],
 "metadata": {
  "kernelspec": {
   "display_name": "Python 3 (ipykernel)",
   "language": "python",
   "name": "python3"
  },
  "language_info": {
   "codemirror_mode": {
    "name": "ipython",
    "version": 3
   },
   "file_extension": ".py",
   "mimetype": "text/x-python",
   "name": "python",
   "nbconvert_exporter": "python",
   "pygments_lexer": "ipython3",
   "version": "3.9.13"
  }
 },
 "nbformat": 4,
 "nbformat_minor": 5
}
