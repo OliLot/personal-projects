{
 "cells": [
  {
   "cell_type": "markdown",
   "id": "0229809d-61ab-42cd-9256-903dcb04c469",
   "metadata": {
    "jp-MarkdownHeadingCollapsed": true,
    "tags": []
   },
   "source": [
    "# Theory"
   ]
  },
  {
   "cell_type": "markdown",
   "id": "bf458977-628f-49c2-8f9d-5d711fd321ae",
   "metadata": {
    "tags": []
   },
   "source": [
    "## Crank Nicolson"
   ]
  },
  {
   "cell_type": "markdown",
   "id": "69261ccb-8692-4767-945c-4117582dbebd",
   "metadata": {},
   "source": [
    "The standalone Crank-Nicolson scheme is found to have a first order convergence due to the weakly damped high frequency error terms (as a result of the non-smooth initial condition). Thus, the Richardson extrapolations may be implemented as follows:\n",
    "\n",
    "#### Low wavenumber error\n",
    "- $O(h^{2})$\n",
    "- next error order for CN is $O(h^i)$\n",
    "- next order for Rannacher is $O(h^i)$\n",
    "\n",
    "\n",
    "$$\\hat{V}^{[1]} = \\frac{4}{3}\\hat{V_{h}} - \\frac{1}{3}\\hat{V_{2h}}$$\n",
    "\n",
    "\n",
    "#### High wavenumber error\n",
    "- $O(h^{1})$ where $R$ = 0\n",
    "- next error order for CN is $O(h^i)$\n",
    "- next order for Rannacher is $O(h^i)$\n",
    "\n",
    "\n",
    "$$\\hat{V}^{[1]} = 2\\hat{V_{h}} - 1\\hat{V_{2h}}$$"
   ]
  },
  {
   "cell_type": "markdown",
   "id": "e279cffe-f622-4955-86d0-74383e68cdfc",
   "metadata": {},
   "source": [
    "## Rannacher Timestepping"
   ]
  },
  {
   "cell_type": "markdown",
   "id": "30e1ffb5-cf6e-40c2-8d7b-f5083a6bd0c6",
   "metadata": {},
   "source": [
    "#### Low wavenumber error\n",
    "- $O(h^{2})$\n",
    "- next error order for CN is $O(h^i)$\n",
    "- next order for Rannacher is $O(h^i)$\n",
    "\n",
    "$$\\hat{V} = \\frac{4}{3}\\hat{V_{h}} - \\frac{1}{3}\\hat{V_{2h}}$$\n",
    "\n",
    "#### High wavenumber error\n",
    "- $O(h^{2R+1})$ where $R$ = 2\n",
    "- next error order for CN is $O(h^i)$\n",
    "- next order for Rannacher is $O(h^i)$\n",
    "\n",
    "$$\\hat{V} = \\frac{2^{2R+1}\\hat{V_{h}} - \\hat{V_{2h}}}{2^{2R+1}-1}$$"
   ]
  },
  {
   "cell_type": "markdown",
   "id": "85897a8a-368c-417f-932c-06deb7052fcf",
   "metadata": {
    "tags": []
   },
   "source": [
    "# Prerequisites"
   ]
  },
  {
   "cell_type": "code",
   "execution_count": 1,
   "id": "ad11ab9f-2d01-4d5d-ac37-22085537735a",
   "metadata": {},
   "outputs": [],
   "source": [
    "%matplotlib widget\n",
    "import numpy as np\n",
    "import matplotlib.pyplot as plt\n",
    "import math as m\n",
    "import time \n",
    "from numpy.lib.format import open_memmap\n",
    "import pandas as pd"
   ]
  },
  {
   "cell_type": "markdown",
   "id": "2e4f3f64-9c01-4d66-8782-c4a411a4f547",
   "metadata": {
    "jp-MarkdownHeadingCollapsed": true,
    "tags": []
   },
   "source": [
    "### The Thomas Algorithm\n",
    "The thomas algorithm is a more computationally efficient way to solve for the unknowns as compared to matrix inversion (works via LU decomposition)."
   ]
  },
  {
   "cell_type": "code",
   "execution_count": 2,
   "id": "6bbcbfbf-05ff-45e0-bd37-03533ec24bd5",
   "metadata": {},
   "outputs": [],
   "source": [
    "# Define the tridiagonal matrix solver algorithm for BLACK-SCHOLES EQUATION FORMAT\n",
    "'''\n",
    "For Tx = d\n",
    "Inputs:\n",
    "    - a = lower triangular vector\n",
    "    - b = diagonal vector\n",
    "    - c = upper diagonal vector\n",
    "    - d = -aV_{i-1}^n + (1 + b)V_i^n - cV_{i+1}^n = constant term of knowns for share prices (i-1, i, i+1) at time n\n",
    "Output:\n",
    "    - unew = updated v values over space for time n+1\n",
    "'''\n",
    "def TDMA(a,b,c,d):\n",
    "    n = len(d)\n",
    "    e = np.zeros(n-1)\n",
    "    f = np.zeros(n)\n",
    "    V = np.zeros(n)\n",
    "    \n",
    "    e[0] = c[0]/b[0]\n",
    "    f[0] = d[0]/b[0]\n",
    "    for i in range(1,n-1):\n",
    "        e[i] = c[i]/(b[i] - a[i]*e[i-1])\n",
    "    for i in range(1,n):\n",
    "        f[i] = (d[i] - a[i]*f[i-1])/(b[i] - a[i]*e[i-1])\n",
    "    \n",
    "    V[n-1] = f[n-1]\n",
    "    for i in range(n-1,0,-1):\n",
    "        V[i-1] = f[i-1] - e[i-1]*V[i]\n",
    "    return V"
   ]
  },
  {
   "cell_type": "markdown",
   "id": "936c72c5-bd07-462f-a5aa-0032a60efd90",
   "metadata": {
    "jp-MarkdownHeadingCollapsed": true,
    "tags": []
   },
   "source": [
    "### Call Option  Parameters"
   ]
  },
  {
   "cell_type": "code",
   "execution_count": 3,
   "id": "064b3363-ba95-4633-ae26-11c71f7a6333",
   "metadata": {},
   "outputs": [],
   "source": [
    "### // CALL OPTION PARAMETERS /// ###\n",
    "sig = 0.15 # volatility (std deviation of log returns)\n",
    "K = 10 # dollars\n",
    "T = 2 # years\n",
    "r = 0.02 # yearly risk free interest rate"
   ]
  },
  {
   "cell_type": "markdown",
   "id": "cb693b02-1f04-4681-9c62-98d891c9f3bc",
   "metadata": {
    "jp-MarkdownHeadingCollapsed": true,
    "tags": []
   },
   "source": [
    "### Analytical Solution"
   ]
  },
  {
   "cell_type": "code",
   "execution_count": 4,
   "id": "e459c4cb-2c79-41d9-9e46-4241f7695c77",
   "metadata": {},
   "outputs": [],
   "source": [
    "# import packages\n",
    "import matplotlib.pyplot as plt\n",
    "import numpy as np\n",
    "import math\n",
    "#import sympy as sy\n",
    "\n",
    "def erf(x):\n",
    "    if isinstance(x, (int, float)):\n",
    "        erf = m.erf(x)\n",
    "    else:\n",
    "        erf = np.array([m.erf(x) for x in x])\n",
    "        \n",
    "    return erf\n",
    "\n",
    "\n",
    "# function for N(x) - normal CDF\n",
    "def N(x) :\n",
    "    return 0.5*(erf(x/np.sqrt(2)) + 1)\n",
    "\n",
    "\n",
    "'''\n",
    "# function to calculate the analytical solution to the black scholes equation for a european call given parameters\n",
    "# INPUTS : \n",
    "    - Z = log stock price (vector)\n",
    "    - t = time\n",
    "    - sig = volatility \n",
    "    - K = strike price \n",
    "    - T = expiry time \n",
    "    - r = risk free rate \n",
    "    - N = Cumulative normal distribution function (defined above)\n",
    "OUTPUTS : \n",
    "    - Analytical solution for European Call\n",
    "'''\n",
    "\n",
    "def BS_analytic_Z(Z, t, sig = sig, K = K, T = T, r = r, N = N) :\n",
    "    # S=0 implies a zero value, S=0 implies the log going to negative infinity and the cumulative distributions having values 0.\n",
    "    def d1(Z):\n",
    "        return (Z - np.log(K) + (r + 0.5*sig**2) * (T - t)) / (sig * (T - t)**(0.5))\n",
    "    \n",
    "    def d2(Z):\n",
    "        return (Z - np.log(K) + (r - 0.5*sig**2) * (T - t)) / (sig * (T - t)**(0.5))\n",
    "    \n",
    "    ECall = np.where(np.exp(Z) == 0, 0, np.exp(Z)*N(d1(Z)) - K*np.exp(-r*(T-t))*N(d2(Z)))\n",
    "    \n",
    "    return ECall\n",
    "\n",
    "## CALCULATES ERROR AT GIVEN TIME STEP\n",
    "def DErrors_Z(Num, Z):\n",
    "    return Num - BS_analytic_Z(Z, t=0)"
   ]
  },
  {
   "cell_type": "markdown",
   "id": "383cf041-a8f9-4808-8eef-46dc5f406369",
   "metadata": {
    "tags": []
   },
   "source": [
    "## CN Specific"
   ]
  },
  {
   "cell_type": "markdown",
   "id": "c705674c-5dcb-4786-bfed-d1b3f7248e08",
   "metadata": {
    "jp-MarkdownHeadingCollapsed": true,
    "tags": []
   },
   "source": [
    "### Present Value Function"
   ]
  },
  {
   "cell_type": "code",
   "execution_count": 5,
   "id": "09eb392b-c719-4a0e-97de-13e056094114",
   "metadata": {},
   "outputs": [],
   "source": [
    "def PresentValue(dt, dZ, Zmax, sig=sig, K=K, r=r, T=T): #ADD Zmax\n",
    "    ### SETTING PARAMETERS\n",
    "    Smin = 1e-10\n",
    "    Smax = 500\n",
    "    Zmin = np.log(Smin)\n",
    "    \n",
    "    nt = int(T/dt)\n",
    "    iZ = m.floor((Zmax-Zmin) / dZ)\n",
    "    Z = np.linspace(Zmin, Zmax, iZ + 1) \n",
    "    \n",
    "    print('Present Value Function:')\n",
    "    print(f'dz = {dZ}')\n",
    "    print(f'dt = {dt}')\n",
    "    print(f'lamda = {dt/dZ}')\n",
    "    print(f'new Smax = {np.exp(Zmax)}')\n",
    "    print(f'nt = {nt}')\n",
    "     #----------------------------------------------------------------------------------------\n",
    "    \n",
    "    ### INITIAL AND BOUNDARY CONDITIONS\n",
    "    VIC = np.maximum(np.exp(Z) - K, 0)\n",
    "\n",
    "    VB1 = 0\n",
    "    VB2 = Smax\n",
    "\n",
    "    VIC[0] = VB1 # still use zero as the boundary value\n",
    "    VIC[-1] = VB2\n",
    "    \n",
    "     #----------------------------------------------------------------------------------------\n",
    "    \n",
    "    ### SOLVING THE TRIDIAGONAL SYSTEM\n",
    "    # Define solution matrix\n",
    "    V = np.memmap('CNPVmatrix.arr', dtype=np.float64, mode='w+', shape=(iZ-1, nt+1))\n",
    "    \n",
    "    # add initial conditions in first column\n",
    "    V[:,0] = VIC[1:-1]\n",
    "    \n",
    "    # Define tridiagonal system\n",
    "    # constants in system\n",
    "    ac = (dt/4 * (sig**2/dZ**2 - (r - 0.5*sig**2)/dZ))\n",
    "    bc = (dt/2 * (sig**2/dZ**2 + r)) # care with 1 +/- b\n",
    "    cc = (dt/4 * (sig**2/dZ**2 + (r - 0.5*sig**2)/dZ))\n",
    "\n",
    "    # vectors of tridiagonal\n",
    "    a = - ac * np.ones(iZ-1) # lower diag\n",
    "    b = (1 + bc) * np.ones(iZ-1) # diag has (1 - bc)\n",
    "    c = - cc * np.ones(iZ-1) # upper diag\n",
    "\n",
    "\n",
    "    # empty RHS vector\n",
    "    d = np.zeros(iZ-1)\n",
    "\n",
    "\n",
    "    # iterate over time, note here the middle value has (1 + bc)\n",
    "    for j in range(1, nt+1):\n",
    "        # left boundary\n",
    "        d[0] = (ac*VB1 + (1 - bc)*V[0,j-1] + cc*V[1,j-1]) + ac*VB1\n",
    "        # no boundaries involved\n",
    "        d[1:-1] = (ac*V[0:-2,j-1] + (1 - bc)*V[1:-1,j-1] + cc*V[2:,j-1])\n",
    "        # right boundary\n",
    "        d[-1] = (ac*V[-2,j-1] + (1 - bc)*V[-1,j-1] + cc*VB2) + cc*VB2 #problematic\n",
    "    \n",
    "        # store solution\n",
    "        V[:,j] = TDMA(a,b,c,d)\n",
    "        \n",
    "    V.flush()\n",
    "    \n",
    "    V = np.memmap('CNPVmatrix.arr', dtype=np.float64, mode='r', shape=(iZ-1, nt+1)) \n",
    "\n",
    "    # Matrix of results\n",
    "    # Add the i=0 and i=nS boundary condition values\n",
    "    \n",
    "    Vsol = np.zeros((iZ+1, nt+1))\n",
    "    V0 = np.array([VB1])\n",
    "    ViZ = np.array([VB2])\n",
    "    \n",
    "    for j in range(nt+1):\n",
    "        Vsol[:,j] = np.concatenate((V0, V[:,j], ViZ), axis=0)\n",
    "\n",
    "    return Vsol[:,-1]"
   ]
  },
  {
   "cell_type": "markdown",
   "id": "24632fc0-8510-4030-b375-c0c73fcd6912",
   "metadata": {
    "tags": []
   },
   "source": [
    "## Rannacher Specific"
   ]
  },
  {
   "cell_type": "markdown",
   "id": "8114d8fe-6e48-4d13-87f9-1f24099ffff8",
   "metadata": {
    "jp-MarkdownHeadingCollapsed": true,
    "tags": []
   },
   "source": [
    "### Rannacher Timestepping Function\n",
    "Currently calculates the first two integer time steps using half-steps of Backwards Euler. Can potentially implement customizable numbers of points to replace, and the factor of stepping in the intermediate steps. "
   ]
  },
  {
   "cell_type": "code",
   "execution_count": 6,
   "id": "4b46aea5-31db-4872-8a8d-73c0e568d645",
   "metadata": {},
   "outputs": [],
   "source": [
    "def RannacherStart(Vinit, R, dt, dZ, iZ, VIC):\n",
    "    # define half time step\n",
    "    hdt = dt/2\n",
    "    \n",
    "    Smin = 1e-10 # can no longer use Smin = 0 as log(0) = -inf, use a small number as replacement\n",
    "    Smax = 500 # can use even larger Smax as ln transformation squishes results quicker\n",
    "    Zmin = np.log(Smin) # low boundary\n",
    "    Zmax = np.log(Smax) # high bonudary\n",
    "    VB1 = 0\n",
    "    VB2 = Smax\n",
    "    \n",
    "    # Store all \n",
    "    Vinit_halfs = np.zeros((iZ-1, 2*R+1))\n",
    "    Vinit_halfs[:,0] = VIC[1:-1]\n",
    "    \n",
    "    # constants in tridiagonal system\n",
    "    ac = (hdt/2 * (sig**2/dZ**2 - (r - 0.5*sig**2)/dZ))\n",
    "    bc = (hdt * (sig**2/dZ**2 + r)) # care with 1 +/- b\n",
    "    cc = (hdt/2 * (sig**2/dZ**2 + (r - 0.5*sig**2)/dZ))\n",
    "\n",
    "    # vectors of tridiagonal\n",
    "    a = - ac * np.ones(iZ-1) # lower diag\n",
    "    b = (1 + bc) * np.ones(iZ-1) # diag has (1 - bc)\n",
    "    c = - cc * np.ones(iZ-1) # upper diag\n",
    "    \n",
    "    # initialise constant vector\n",
    "    d = np.zeros(iZ-1)\n",
    "    \n",
    "    # Solve the tridiagonal system for one half-step using Vinit\n",
    "    for n in range(1, 2*R+1):\n",
    "        # Half step\n",
    "        # i=1: Includes i=0 boundary\n",
    "        d[0] = Vinit_halfs[0, n-1] + ac*VB1\n",
    "        \n",
    "        # i=2,...,iZ-2: no boundary values\n",
    "        d[1:-1] = Vinit_halfs[1:-1, n-1]\n",
    "        \n",
    "        # i=iZ-1: Includes i=iZ boundary\n",
    "        d[-1] = Vinit_halfs[-1, n-1] + cc*VB2\n",
    "        \n",
    "        # Calculate half-step results\n",
    "        Vinit_halfs[:,n] = TDMA(a, b, c, d)\n",
    "        \n",
    "    # Get the two whole steps\n",
    "    for s in range(1, R+1):\n",
    "        Vinit[:, s] = Vinit_halfs[:, 2*s]\n",
    "    \n",
    "    return Vinit"
   ]
  },
  {
   "cell_type": "markdown",
   "id": "bf2ff071-d9ff-49c2-b69b-83a521b1284e",
   "metadata": {
    "jp-MarkdownHeadingCollapsed": true,
    "tags": []
   },
   "source": [
    "### Rannacher Present Value of European Call (2R 1/2 steps)"
   ]
  },
  {
   "cell_type": "code",
   "execution_count": 7,
   "id": "9b1218a2-415f-477a-ba98-ec16f1217ac3",
   "metadata": {},
   "outputs": [],
   "source": [
    "def PV_Rannacher(dt, dZ, R=2, sig=sig, K=K, r=r, T=T):\n",
    "    ### SETTING PARAMETERS\n",
    "    Smin = 1e-10 # can no longer use Smin = 0 as log(0) = -inf, use a small number as replacement\n",
    "    Smax = 500 # can use even larger Smax as ln transformation squishes results quicker\n",
    "    Zmin = np.log(Smin) # low boundary\n",
    "    Zmax = np.log(Smax) # high bonudary\n",
    "    iZ = round((Zmax-Zmin) / dZ)\n",
    "    \n",
    "    dZ = (Zmax-Zmin)/iZ # update to fit grid boundaries\n",
    "\n",
    "    Z = np.linspace(Zmin, Zmax, iZ + 1) # Nx total grid points from 0 to L included (combine two np.linspace of different step sizes)\n",
    "    nt = int(round(T/dt)) # number of steps in time\n",
    "    dt = T/nt\n",
    "    \n",
    "    print(f'Stepsizes: dz = {dZ} and dt = {dt}')\n",
    "    print(f'lambda = {dt/dZ}')\n",
    "\n",
    "     #----------------------------------------------------------------------------------------\n",
    "    \n",
    "    ### INITIAL AND BOUNDARY CONDITIONS\n",
    "    VIC = np.maximum(np.exp(Z) - K, 0)\n",
    "\n",
    "    VB1 = 0\n",
    "    VB2 = Smax\n",
    "\n",
    "    VIC[0] = VB1 # still use zero as the boundary value\n",
    "    VIC[-1] = VB2\n",
    "    \n",
    "     #----------------------------------------------------------------------------------------\n",
    "    \n",
    "    ### SOLVING THE TRIDIAGONAL SYSTEM ---> first two CN steps replaced with 2nd and 4th Laasonen half-steps\n",
    "    # Define solution matrix\n",
    "    V = np.memmap('RCNPVmatrix.arr', dtype=np.float64, mode='w+', shape=(iZ-1, nt+1)) # np.zeros((iZ-1, nt+1))\n",
    "    # Initialise starting matrix\n",
    "    Vstart = np.zeros((iZ-1, nt+1))\n",
    "    # add initial conditions in first column\n",
    "    Vstart[:,0] = VIC[1:-1]\n",
    "\n",
    "    ## Rannacher timestepping\n",
    "    VRanStart = RannacherStart(Vinit=Vstart.copy(), R=R, dt=dt, dZ=dZ, iZ=iZ, VIC=VIC).copy()\n",
    "    for j in range(nt+1):\n",
    "        V[:, j] = VRanStart[:,j]\n",
    "    \n",
    "    ## Crank-Nicolson\n",
    "    # Define tridiagonal system\n",
    "    # constants in system\n",
    "    ac = (dt/4 * (sig**2/dZ**2 - (r - 0.5*sig**2)/dZ))\n",
    "    bc = (dt/2 * (sig**2/dZ**2 + r)) # care with 1 +/- b\n",
    "    cc = (dt/4 * (sig**2/dZ**2 + (r - 0.5*sig**2)/dZ))\n",
    "\n",
    "    # vectors of tridiagonal\n",
    "    a = - ac * np.ones(iZ-1) # lower diag\n",
    "    b = (1 + bc) * np.ones(iZ-1) # diag has (1 - bc)\n",
    "    c = - cc * np.ones(iZ-1) # upper diag\n",
    "\n",
    "    # check diagonal dominance for thomas algorithm stability\n",
    "    print('\\n Tridiagonal system coefficients:')\n",
    "    print(f'lower diag values = {-ac}')\n",
    "    print(f'diag values = {1 + bc}')\n",
    "    print(f'upper diag values = {-cc}')\n",
    "\n",
    "\n",
    "    # empty RHS vector\n",
    "    d = np.zeros(iZ-1)\n",
    "\n",
    "\n",
    "    # iterate over time, excluding first two timesteps solved with Rannacher timestepping\n",
    "    for j in range(R+1, nt+1):\n",
    "        # left boundary\n",
    "        d[0] = (ac*VB1 + (1 - bc)*V[0,j-1] + cc*V[1,j-1]) + ac*VB1\n",
    "        # no boundaries involved\n",
    "        d[1:-1] = (ac*V[0:-2,j-1] + (1 - bc)*V[1:-1,j-1] + cc*V[2:,j-1])\n",
    "        # right boundary\n",
    "        d[-1] = (ac*V[-2,j-1] + (1 - bc)*V[-1,j-1] + cc*VB2) + cc*VB2 #problematic\n",
    "    \n",
    "        # store solution\n",
    "        V[:,j] = TDMA(a,b,c,d)\n",
    "    \n",
    "    V.flush()\n",
    "    \n",
    "    V = np.memmap('RCNPVmatrix.arr', dtype=np.float64, mode='r', shape=(iZ-1, nt+1)) \n",
    "\n",
    "    # Matrix of results\n",
    "    # Add the i=0 and i=nS boundary condition values\n",
    "\n",
    "    Vsol = np.zeros((iZ+1,nt+1))\n",
    "    V0 = np.array([VB1])\n",
    "    ViZ = np.array([VB2])\n",
    "    \n",
    "    for j in range(nt+1):\n",
    "        Vsol[:,j] = np.concatenate((V0, V[:,j], ViZ), axis=0)\n",
    "    \n",
    "    return Vsol[:,-1] "
   ]
  },
  {
   "cell_type": "markdown",
   "id": "7ed424c8-d682-4ed8-91e9-b59e769f5070",
   "metadata": {
    "jp-MarkdownHeadingCollapsed": true,
    "tags": []
   },
   "source": [
    "# 1. Crank-Nicolson Richardson Extrapolation"
   ]
  },
  {
   "cell_type": "markdown",
   "id": "235589a1-2691-4ce7-84ee-537ff5b67db3",
   "metadata": {
    "tags": []
   },
   "source": [
    "## Cancelling SECOND Order Leading Error (LOW FREQUENCY)"
   ]
  },
  {
   "cell_type": "markdown",
   "id": "92acdbba-b2fb-4ed6-9408-40b4e6d7e583",
   "metadata": {
    "jp-MarkdownHeadingCollapsed": true,
    "tags": []
   },
   "source": [
    "### Function"
   ]
  },
  {
   "cell_type": "code",
   "execution_count": 8,
   "id": "feba292e-6097-4a59-97e8-44cef0e313f2",
   "metadata": {},
   "outputs": [],
   "source": [
    "'''\n",
    "Define the 2h step first, and make sure it fits\n",
    "'''\n",
    "def CNRE_2OE(dt, lda, sig=sig, K=K, r=r, T=T):\n",
    "    # Parameters\n",
    "    Smin = 1e-10\n",
    "    Smax = 500\n",
    "    Zmin = np.log(Smin)\n",
    "    Zmax = np.log(Smax)\n",
    "    \n",
    "    nt = int(T/dt)\n",
    "    dZ = dt/lda\n",
    "    iZ = m.floor((Zmax-Zmin) / dZ)\n",
    "    Zmax = Zmin + dZ*iZ\n",
    "    \n",
    "    # iZ = round((Zmax-Zmin)/dZ)\n",
    "    # dZ = (Zmax-Zmin) / iZ\n",
    "    # nt = round(T/dt)\n",
    "    # dt = T/nt\n",
    "    \n",
    "    print(f'2h = {dZ}')\n",
    "    print(f'2k = {dt}')\n",
    "    print(f'lamda = {dt/dZ}')\n",
    "    print(f'nt = {nt}')\n",
    "    print(f'iZ = {iZ}')\n",
    "    print(f'new Smax = {np.exp(Zmax)}')\n",
    "    \n",
    "    \n",
    "    Z_2h = np.linspace(Zmin, Zmax, iZ+1)\n",
    "    \n",
    "    # Calculate CN Result for step size 2*dZ \n",
    "    V_2h = PresentValue(dZ = dZ, dt = dt, Zmax=Zmax)\n",
    "    \n",
    "    # Calculate CN Result for step size dZ\n",
    "    V_h = PresentValue(dZ = dZ/2, dt = dt/2, Zmax=Zmax)\n",
    "    \n",
    "    \n",
    "    # Conduct Richardson Extrapolation of Results: Solutions are only obtainable at the 2h steps (as no values calculated between 2h steps, as for h step case)\n",
    "    V = np.zeros(iZ+1)\n",
    "    for i in range(iZ+1):\n",
    "        V[i] = 4/3 * V_h[2*i] - 1/3 * V_2h[i] \n",
    "\n",
    "    \n",
    "    ### ---------------------------------------------\n",
    "    # Calculate Max Error in Realistic Region\n",
    "\n",
    "    # Errors\n",
    "    # max\n",
    "    Errors = DErrors_Z(V, Z_2h)\n",
    "    # abs max\n",
    "    Aerror = np.abs(Errors)\n",
    "    \n",
    "    \n",
    "    # Define a cutoff at a large enough S and corresponding Z - THE REALISTIC DOMAIN\n",
    "    Scut = 100\n",
    "    Zcut = np.log(Scut)\n",
    "    cutoff = int((Zcut - Zmin) / dZ)\n",
    "\n",
    "    R_AE = Aerror[:cutoff]\n",
    "\n",
    "    R_ME = np.max(R_AE)\n",
    "    print('\\n REALISTIC S DOMAIN ERRORS')\n",
    "    print(f'1. Maximal error: {R_ME} \\n')\n",
    "\n",
    "    R_ME_ind = np.where(R_AE == R_ME)[0][0]\n",
    "    print(f'located at {R_ME_ind}, z value of {Zmin + R_ME_ind*dZ}, S value of {np.exp(Zmin + R_ME_ind*dZ)} \\n')\n",
    "\n",
    "\n",
    "    return R_ME, V # realistic max error and solution via extrapolation\n",
    "    "
   ]
  },
  {
   "cell_type": "markdown",
   "id": "37318ea9-6ece-401d-b20d-12a77e8cbbda",
   "metadata": {
    "tags": []
   },
   "source": [
    "### Implementation: $\\lambda = 3$ and $10$"
   ]
  },
  {
   "cell_type": "code",
   "execution_count": 9,
   "id": "ac554c0d-1d80-478f-a119-5c6b79d0b978",
   "metadata": {},
   "outputs": [],
   "source": [
    "l3_dt_vals = np.array([0.2857142857142857, 0.15384615384615385, 0.07407407407407407, 0.024096385542168676, 0.012048192771084338, 0.00749063670411985, 0.0029985007496251873])\n",
    "l10_dt_vals = np.array([1, 0.5, 0.25, 0.1, 0.05, 0.025, 0.01])"
   ]
  },
  {
   "cell_type": "markdown",
   "id": "0e4ead8a-6279-4bbd-aaea-81da8885ec00",
   "metadata": {
    "jp-MarkdownHeadingCollapsed": true,
    "tags": []
   },
   "source": [
    "#### $\\lambda=3$"
   ]
  },
  {
   "cell_type": "code",
   "execution_count": 10,
   "id": "02670678-9ccd-4ea8-92a8-bfb76a45552c",
   "metadata": {},
   "outputs": [],
   "source": [
    "lda = 3\n",
    "\n",
    "lCN_RE_l3 = []\n",
    "l3_dz_vals = l3_dt_vals/lda\n",
    "l3_inv_dz_vals = np.divide(np.ones(len(l3_dt_vals)), l3_dz_vals)"
   ]
  },
  {
   "cell_type": "code",
   "execution_count": 11,
   "id": "13c2df89-5e1b-4b46-8b4c-b922b55d0e2d",
   "metadata": {
    "tags": []
   },
   "outputs": [
    {
     "name": "stdout",
     "output_type": "stream",
     "text": [
      "2h = 0.09523809523809523\n",
      "2k = 0.2857142857142857\n",
      "lamda = 3.0\n",
      "nt = 7\n",
      "iZ = 307\n",
      "new Smax = 498.8195006424106\n",
      "Present Value Function:\n",
      "dz = 0.09523809523809523\n",
      "dt = 0.2857142857142857\n",
      "lamda = 3.0\n",
      "new Smax = 498.8195006424106\n",
      "nt = 7\n",
      "Present Value Function:\n",
      "dz = 0.047619047619047616\n",
      "dt = 0.14285714285714285\n",
      "lamda = 3.0\n",
      "new Smax = 498.8195006424106\n",
      "nt = 14\n",
      "\n",
      " REALISTIC S DOMAIN ERRORS\n",
      "1. Maximal error: 0.0013777880738408133 \n",
      "\n",
      "located at 266, z value of 2.307482403392875, S value of 10.04909321823287 \n",
      "\n",
      "2h = 0.05128205128205129\n",
      "2k = 0.15384615384615385\n",
      "lamda = 3.0\n",
      "nt = 13\n",
      "iZ = 570\n",
      "new Smax = 495.178498614599\n",
      "Present Value Function:\n",
      "dz = 0.05128205128205129\n",
      "dt = 0.15384615384615385\n",
      "lamda = 3.0\n",
      "new Smax = 495.178498614599\n",
      "nt = 13\n",
      "Present Value Function:\n",
      "dz = 0.025641025641025644\n",
      "dt = 0.07692307692307693\n",
      "lamda = 3.0\n",
      "new Smax = 495.178498614599\n",
      "nt = 26\n",
      "\n",
      " REALISTIC S DOMAIN ERRORS\n",
      "1. Maximal error: 0.0005524139295438601 \n",
      "\n",
      "located at 494, z value of 2.3074824033928785, S value of 10.049093218232906 \n",
      "\n",
      "2h = 0.024691358024691357\n",
      "2k = 0.07407407407407407\n",
      "lamda = 3.0\n",
      "nt = 27\n",
      "iZ = 1184\n",
      "new Smax = 497.06309576791534\n",
      "Present Value Function:\n",
      "dz = 0.024691358024691357\n",
      "dt = 0.07407407407407407\n",
      "lamda = 3.0\n",
      "new Smax = 497.06309576791534\n",
      "nt = 27\n",
      "Present Value Function:\n",
      "dz = 0.012345679012345678\n",
      "dt = 0.037037037037037035\n",
      "lamda = 3.0\n",
      "new Smax = 497.06309576791534\n",
      "nt = 54\n",
      "\n",
      " REALISTIC S DOMAIN ERRORS\n",
      "1. Maximal error: 0.00014839237675801087 \n",
      "\n",
      "located at 1025, z value of 2.2827910453681817, S value of 9.80400568340315 \n",
      "\n",
      "2h = 0.008032128514056226\n",
      "2k = 0.024096385542168676\n",
      "lamda = 3.0\n",
      "nt = 83\n",
      "iZ = 3640\n",
      "new Smax = 498.2474599933955\n",
      "Present Value Function:\n",
      "dz = 0.008032128514056226\n",
      "dt = 0.024096385542168676\n",
      "lamda = 3.0\n",
      "new Smax = 498.2474599933955\n",
      "nt = 83\n",
      "Present Value Function:\n",
      "dz = 0.004016064257028113\n",
      "dt = 0.012048192771084338\n",
      "lamda = 3.0\n",
      "new Smax = 498.2474599933955\n",
      "nt = 166\n",
      "\n",
      " REALISTIC S DOMAIN ERRORS\n",
      "1. Maximal error: 1.298349198708415e-05 \n",
      "\n",
      "located at 3152, z value of 2.291418146364766, S value of 9.888951722780426 \n",
      "\n",
      "2h = 0.004016064257028113\n",
      "2k = 0.012048192771084338\n",
      "lamda = 3.0\n",
      "nt = 166\n",
      "iZ = 7280\n",
      "new Smax = 498.2474599933955\n",
      "Present Value Function:\n",
      "dz = 0.004016064257028113\n",
      "dt = 0.012048192771084338\n",
      "lamda = 3.0\n",
      "new Smax = 498.2474599933955\n",
      "nt = 166\n",
      "Present Value Function:\n",
      "dz = 0.0020080321285140565\n",
      "dt = 0.006024096385542169\n",
      "lamda = 3.0\n",
      "new Smax = 498.2474599933955\n",
      "nt = 332\n",
      "\n",
      " REALISTIC S DOMAIN ERRORS\n",
      "1. Maximal error: 3.644928799784175e-06 \n",
      "\n",
      "located at 6303, z value of 2.2874020821077394, S value of 9.849316698900482 \n",
      "\n",
      "2h = 0.0024968789013732834\n",
      "2k = 0.00749063670411985\n",
      "lamda = 3.0\n",
      "nt = 267\n",
      "iZ = 11710\n",
      "new Smax = 498.9974597916625\n",
      "Present Value Function:\n",
      "dz = 0.0024968789013732834\n",
      "dt = 0.00749063670411985\n",
      "lamda = 3.0\n",
      "new Smax = 498.9974597916625\n",
      "nt = 267\n",
      "Present Value Function:\n",
      "dz = 0.0012484394506866417\n",
      "dt = 0.003745318352059925\n",
      "lamda = 3.0\n",
      "new Smax = 498.9974597916625\n",
      "nt = 534\n",
      "\n",
      " REALISTIC S DOMAIN ERRORS\n",
      "1. Maximal error: 6.412189272886337e-07 \n",
      "\n",
      "located at 10137, z value of 2.2850104932805166, S value of 9.825789328240134 \n",
      "\n",
      "2h = 0.0009995002498750624\n",
      "2k = 0.0029985007496251873\n",
      "lamda = 3.0\n",
      "nt = 667\n",
      "iZ = 29255\n",
      "new Smax = 499.9603924349926\n",
      "Present Value Function:\n",
      "dz = 0.0009995002498750624\n",
      "dt = 0.0029985007496251873\n",
      "lamda = 3.0\n",
      "new Smax = 499.9603924349926\n",
      "nt = 667\n",
      "Present Value Function:\n",
      "dz = 0.0004997501249375312\n",
      "dt = 0.0014992503748125937\n",
      "lamda = 3.0\n",
      "new Smax = 499.9603924349926\n",
      "nt = 1334\n",
      "\n",
      " REALISTIC S DOMAIN ERRORS\n",
      "1. Maximal error: 2.10881963447207e-07 \n",
      "\n",
      "located at 25323, z value of 2.284493897645749, S value of 9.820714679248635 \n",
      "\n"
     ]
    }
   ],
   "source": [
    "lda = 3\n",
    "\n",
    "dt = l3_dt_vals[0]\n",
    "lCNRE_l3_1 = CNRE_2OE(dt=dt, lda=lda)[0]\n",
    "lCN_RE_l3.append(lCNRE_l3_1)\n",
    "\n",
    "\n",
    "dt = l3_dt_vals[1]\n",
    "lCNRE_l3_2 = CNRE_2OE(dt=dt, lda=lda)[0]\n",
    "lCN_RE_l3.append(lCNRE_l3_2)\n",
    "\n",
    "\n",
    "dt = l3_dt_vals[2]\n",
    "lCNRE_l3_3 = CNRE_2OE(dt=dt, lda=lda)[0]\n",
    "lCN_RE_l3.append(lCNRE_l3_3)\n",
    "\n",
    "\n",
    "\n",
    "dt = l3_dt_vals[3]\n",
    "lCNRE_l3_4 = CNRE_2OE(dt=dt, lda=lda)[0]\n",
    "lCN_RE_l3.append(lCNRE_l3_4)\n",
    "\n",
    "\n",
    "\n",
    "dt = l3_dt_vals[4]\n",
    "lCNRE_l3_5 = CNRE_2OE(dt=dt, lda=lda)[0]\n",
    "lCN_RE_l3.append(lCNRE_l3_5)\n",
    "\n",
    "\n",
    "\n",
    "dt = l3_dt_vals[5]\n",
    "lCNRE_l3_6 = CNRE_2OE(dt=dt, lda=lda)[0]\n",
    "lCN_RE_l3.append(lCNRE_l3_6)\n",
    "\n",
    "\n",
    "dt = l3_dt_vals[6]\n",
    "lCNRE_l3_7 = CNRE_2OE(dt=dt, lda=lda)[0]\n",
    "lCN_RE_l3.append(lCNRE_l3_7)"
   ]
  },
  {
   "cell_type": "code",
   "execution_count": 12,
   "id": "63859250-27b0-48e0-a93d-42c057eca3a3",
   "metadata": {},
   "outputs": [
    {
     "data": {
      "text/plain": [
       "[0.0013777880738408133,\n",
       " 0.0005524139295438601,\n",
       " 0.00014839237675801087,\n",
       " 1.298349198708415e-05,\n",
       " 3.644928799784175e-06,\n",
       " 6.412189272886337e-07,\n",
       " 2.10881963447207e-07]"
      ]
     },
     "execution_count": 12,
     "metadata": {},
     "output_type": "execute_result"
    }
   ],
   "source": [
    "lCN_RE_l3"
   ]
  },
  {
   "cell_type": "markdown",
   "id": "7b1ee36f-48c2-4379-aa9a-2967ccc768f0",
   "metadata": {
    "jp-MarkdownHeadingCollapsed": true,
    "tags": []
   },
   "source": [
    "#### $\\lambda=10$"
   ]
  },
  {
   "cell_type": "code",
   "execution_count": 13,
   "id": "0738feb0-559e-4bf4-ac94-e0f7f71558e8",
   "metadata": {},
   "outputs": [],
   "source": [
    "lda = 10\n",
    "\n",
    "lCN_RE_l10 = []\n",
    "l10_dz_vals = l10_dt_vals / lda\n",
    "l10_inv_dz_vals = np.divide(np.ones(len(l10_dt_vals)), l10_dz_vals)"
   ]
  },
  {
   "cell_type": "code",
   "execution_count": 14,
   "id": "a5051894-a556-4145-b342-528d18f52eab",
   "metadata": {
    "tags": []
   },
   "outputs": [
    {
     "name": "stdout",
     "output_type": "stream",
     "text": [
      "2h = 0.1\n",
      "2k = 1.0\n",
      "lamda = 10.0\n",
      "nt = 2\n",
      "iZ = 292\n",
      "new Smax = 480.17425537814177\n",
      "Present Value Function:\n",
      "dz = 0.1\n",
      "dt = 1.0\n",
      "lamda = 10.0\n",
      "new Smax = 480.17425537814177\n",
      "nt = 2\n",
      "Present Value Function:\n",
      "dz = 0.05\n",
      "dt = 0.5\n",
      "lamda = 10.0\n",
      "new Smax = 480.17425537814177\n",
      "nt = 4\n",
      "\n",
      " REALISTIC S DOMAIN ERRORS\n",
      "1. Maximal error: 0.003684924249710342 \n",
      "\n",
      "located at 254, z value of 2.374149070059545, S value of 10.741868718268597 \n",
      "\n",
      "2h = 0.05\n",
      "2k = 0.5\n",
      "lamda = 10.0\n",
      "nt = 4\n",
      "iZ = 584\n",
      "new Smax = 480.17425537814177\n",
      "Present Value Function:\n",
      "dz = 0.05\n",
      "dt = 0.5\n",
      "lamda = 10.0\n",
      "new Smax = 480.17425537814177\n",
      "nt = 4\n",
      "Present Value Function:\n",
      "dz = 0.025\n",
      "dt = 0.25\n",
      "lamda = 10.0\n",
      "new Smax = 480.17425537814177\n",
      "nt = 8\n",
      "\n",
      " REALISTIC S DOMAIN ERRORS\n",
      "1. Maximal error: 0.0024210513397249223 \n",
      "\n",
      "located at 506, z value of 2.2741490700595435, S value of 9.719644755919386 \n",
      "\n",
      "2h = 0.025\n",
      "2k = 0.25\n",
      "lamda = 10.0\n",
      "nt = 8\n",
      "iZ = 1169\n",
      "new Smax = 492.32992452576656\n",
      "Present Value Function:\n",
      "dz = 0.025\n",
      "dt = 0.25\n",
      "lamda = 10.0\n",
      "new Smax = 492.32992452576656\n",
      "nt = 8\n",
      "Present Value Function:\n",
      "dz = 0.0125\n",
      "dt = 0.125\n",
      "lamda = 10.0\n",
      "new Smax = 492.32992452576656\n",
      "nt = 16\n",
      "\n",
      " REALISTIC S DOMAIN ERRORS\n",
      "1. Maximal error: 0.0009822276739637203 \n",
      "\n",
      "located at 1012, z value of 2.2741490700595435, S value of 9.719644755919386 \n",
      "\n",
      "2h = 0.01\n",
      "2k = 0.1\n",
      "lamda = 10.0\n",
      "nt = 20\n",
      "iZ = 2924\n",
      "new Smax = 499.7705384873768\n",
      "Present Value Function:\n",
      "dz = 0.01\n",
      "dt = 0.1\n",
      "lamda = 10.0\n",
      "new Smax = 499.7705384873768\n",
      "nt = 20\n",
      "Present Value Function:\n",
      "dz = 0.005\n",
      "dt = 0.05\n",
      "lamda = 10.0\n",
      "new Smax = 499.7705384873768\n",
      "nt = 40\n",
      "\n",
      " REALISTIC S DOMAIN ERRORS\n",
      "1. Maximal error: 0.00040798296201671747 \n",
      "\n",
      "located at 2534, z value of 2.3141490700595426, S value of 10.116310983283434 \n",
      "\n",
      "2h = 0.005\n",
      "2k = 0.05\n",
      "lamda = 10.0\n",
      "nt = 40\n",
      "iZ = 5848\n",
      "new Smax = 499.7705384873768\n",
      "Present Value Function:\n",
      "dz = 0.005\n",
      "dt = 0.05\n",
      "lamda = 10.0\n",
      "new Smax = 499.7705384873768\n",
      "nt = 40\n",
      "Present Value Function:\n",
      "dz = 0.0025\n",
      "dt = 0.025\n",
      "lamda = 10.0\n",
      "new Smax = 499.7705384873768\n",
      "nt = 80\n",
      "\n",
      " REALISTIC S DOMAIN ERRORS\n",
      "1. Maximal error: 0.00018232849415333874 \n",
      "\n",
      "located at 5065, z value of 2.299149070059542, S value of 9.965698734370104 \n",
      "\n",
      "2h = 0.0025\n",
      "2k = 0.025\n",
      "lamda = 10.0\n",
      "nt = 80\n",
      "iZ = 11696\n",
      "new Smax = 499.7705384873768\n",
      "Present Value Function:\n",
      "dz = 0.0025\n",
      "dt = 0.025\n",
      "lamda = 10.0\n",
      "new Smax = 499.7705384873768\n",
      "nt = 80\n",
      "Present Value Function:\n",
      "dz = 0.00125\n",
      "dt = 0.0125\n",
      "lamda = 10.0\n",
      "new Smax = 499.7705384873768\n",
      "nt = 160\n",
      "\n",
      " REALISTIC S DOMAIN ERRORS\n",
      "1. Maximal error: 0.00013315850750750258 \n",
      "\n",
      "located at 10132, z value of 2.3041490700595446, S value of 10.015652007154667 \n",
      "\n",
      "2h = 0.001\n",
      "2k = 0.01\n",
      "lamda = 10.0\n",
      "nt = 200\n",
      "iZ = 29240\n",
      "new Smax = 499.7705384873768\n",
      "Present Value Function:\n",
      "dz = 0.001\n",
      "dt = 0.01\n",
      "lamda = 10.0\n",
      "new Smax = 499.7705384873768\n",
      "nt = 200\n",
      "Present Value Function:\n",
      "dz = 0.0005\n",
      "dt = 0.005\n",
      "lamda = 10.0\n",
      "new Smax = 499.7705384873768\n",
      "nt = 400\n",
      "\n",
      " REALISTIC S DOMAIN ERRORS\n",
      "1. Maximal error: 7.044332558159283e-05 \n",
      "\n",
      "located at 25329, z value of 2.3031490700595434, S value of 10.005641361304646 \n",
      "\n"
     ]
    }
   ],
   "source": [
    "dt = l10_dt_vals[0]\n",
    "lCNRE_l10_1 = CNRE_2OE(dt=dt, lda=lda)[0]\n",
    "lCN_RE_l10.append(lCNRE_l10_1)\n",
    "\n",
    "\n",
    "dt = l10_dt_vals[1]\n",
    "lCNRE_l10_2 = CNRE_2OE(dt=dt, lda=lda)[0]\n",
    "lCN_RE_l10.append(lCNRE_l10_2)\n",
    "\n",
    "\n",
    "dt = l10_dt_vals[2]\n",
    "lCNRE_l10_3 = CNRE_2OE(dt=dt, lda=lda)[0]\n",
    "lCN_RE_l10.append(lCNRE_l10_3)\n",
    "\n",
    "\n",
    "\n",
    "dt = l10_dt_vals[3]\n",
    "lCNRE_l10_4 = CNRE_2OE(dt=dt, lda=lda)[0]\n",
    "lCN_RE_l10.append(lCNRE_l10_4)\n",
    "\n",
    "\n",
    "\n",
    "dt = l10_dt_vals[4]\n",
    "lCNRE_l10_5 = CNRE_2OE(dt=dt, lda=lda)[0]\n",
    "lCN_RE_l10.append(lCNRE_l10_5)\n",
    "\n",
    "\n",
    "\n",
    "dt = l10_dt_vals[5]\n",
    "lCNRE_l10_6 = CNRE_2OE(dt=dt, lda=lda)[0]\n",
    "lCN_RE_l10.append(lCNRE_l10_6)\n",
    "\n",
    "\n",
    "dt = l10_dt_vals[6]\n",
    "lCNRE_l10_7 = CNRE_2OE(dt=dt, lda=lda)[0]\n",
    "lCN_RE_l10.append(lCNRE_l10_7)"
   ]
  },
  {
   "cell_type": "code",
   "execution_count": 15,
   "id": "1746cb4a-5348-47f2-bc52-db15063dc329",
   "metadata": {},
   "outputs": [
    {
     "data": {
      "text/plain": [
       "[0.003684924249710342,\n",
       " 0.0024210513397249223,\n",
       " 0.0009822276739637203,\n",
       " 0.00040798296201671747,\n",
       " 0.00018232849415333874,\n",
       " 0.00013315850750750258,\n",
       " 7.044332558159283e-05]"
      ]
     },
     "execution_count": 15,
     "metadata": {},
     "output_type": "execute_result"
    }
   ],
   "source": [
    "lCN_RE_l10"
   ]
  },
  {
   "cell_type": "markdown",
   "id": "d30e5bc3-af46-4bee-89eb-2c2d1a8aa088",
   "metadata": {
    "tags": []
   },
   "source": [
    "### Plot comparing to original"
   ]
  },
  {
   "cell_type": "markdown",
   "id": "bf779dbd-13bb-441d-b366-33871249bd6b",
   "metadata": {
    "jp-MarkdownHeadingCollapsed": true,
    "tags": []
   },
   "source": [
    "#### Get corresponding original CN errors"
   ]
  },
  {
   "cell_type": "code",
   "execution_count": 16,
   "id": "ea96bf1f-21ee-4005-bbc3-25e199b1cff0",
   "metadata": {},
   "outputs": [],
   "source": [
    "CNl3 = pd.read_csv('CN l3 data.csv')\n",
    "CNl3_real_errors = CNl3['Real Errors']\n",
    "\n",
    "CNl10 = pd.read_csv('CN l10 data.csv')\n",
    "CNl10_real_errors = CNl10['Real Errors']\n",
    "\n",
    "dz_vals = np.asarray(CNl3['dz'])\n",
    "inv_dz_vals = np.divide(np.ones(len(dz_vals)), dz_vals)"
   ]
  },
  {
   "cell_type": "code",
   "execution_count": 17,
   "id": "18001f12-b4f1-4472-af50-9051c422c5a5",
   "metadata": {},
   "outputs": [
    {
     "data": {
      "text/html": [
       "<div>\n",
       "<style scoped>\n",
       "    .dataframe tbody tr th:only-of-type {\n",
       "        vertical-align: middle;\n",
       "    }\n",
       "\n",
       "    .dataframe tbody tr th {\n",
       "        vertical-align: top;\n",
       "    }\n",
       "\n",
       "    .dataframe thead th {\n",
       "        text-align: right;\n",
       "    }\n",
       "</style>\n",
       "<table border=\"1\" class=\"dataframe\">\n",
       "  <thead>\n",
       "    <tr style=\"text-align: right;\">\n",
       "      <th></th>\n",
       "      <th>Real Errors</th>\n",
       "      <th>dt</th>\n",
       "      <th>dz</th>\n",
       "      <th>lambda</th>\n",
       "      <th>Entire Errors</th>\n",
       "    </tr>\n",
       "  </thead>\n",
       "  <tbody>\n",
       "    <tr>\n",
       "      <th>0</th>\n",
       "      <td>0.016611</td>\n",
       "      <td>0.3000</td>\n",
       "      <td>0.1000</td>\n",
       "      <td>3.0</td>\n",
       "      <td>9.607894</td>\n",
       "    </tr>\n",
       "    <tr>\n",
       "      <th>1</th>\n",
       "      <td>0.001522</td>\n",
       "      <td>0.1500</td>\n",
       "      <td>0.0500</td>\n",
       "      <td>3.0</td>\n",
       "      <td>9.607894</td>\n",
       "    </tr>\n",
       "    <tr>\n",
       "      <th>2</th>\n",
       "      <td>0.000478</td>\n",
       "      <td>0.0750</td>\n",
       "      <td>0.0250</td>\n",
       "      <td>3.0</td>\n",
       "      <td>9.607894</td>\n",
       "    </tr>\n",
       "    <tr>\n",
       "      <th>3</th>\n",
       "      <td>0.000070</td>\n",
       "      <td>0.0300</td>\n",
       "      <td>0.0100</td>\n",
       "      <td>3.0</td>\n",
       "      <td>9.607894</td>\n",
       "    </tr>\n",
       "    <tr>\n",
       "      <th>4</th>\n",
       "      <td>0.000018</td>\n",
       "      <td>0.0150</td>\n",
       "      <td>0.0050</td>\n",
       "      <td>3.0</td>\n",
       "      <td>9.607894</td>\n",
       "    </tr>\n",
       "    <tr>\n",
       "      <th>5</th>\n",
       "      <td>0.000004</td>\n",
       "      <td>0.0075</td>\n",
       "      <td>0.0025</td>\n",
       "      <td>3.0</td>\n",
       "      <td>9.607894</td>\n",
       "    </tr>\n",
       "    <tr>\n",
       "      <th>6</th>\n",
       "      <td>0.000002</td>\n",
       "      <td>0.0030</td>\n",
       "      <td>0.0010</td>\n",
       "      <td>3.0</td>\n",
       "      <td>9.607894</td>\n",
       "    </tr>\n",
       "  </tbody>\n",
       "</table>\n",
       "</div>"
      ],
      "text/plain": [
       "   Real Errors      dt      dz  lambda  Entire Errors\n",
       "0     0.016611  0.3000  0.1000     3.0       9.607894\n",
       "1     0.001522  0.1500  0.0500     3.0       9.607894\n",
       "2     0.000478  0.0750  0.0250     3.0       9.607894\n",
       "3     0.000070  0.0300  0.0100     3.0       9.607894\n",
       "4     0.000018  0.0150  0.0050     3.0       9.607894\n",
       "5     0.000004  0.0075  0.0025     3.0       9.607894\n",
       "6     0.000002  0.0030  0.0010     3.0       9.607894"
      ]
     },
     "execution_count": 17,
     "metadata": {},
     "output_type": "execute_result"
    }
   ],
   "source": [
    "CNl3"
   ]
  },
  {
   "cell_type": "markdown",
   "id": "b84e67c3-0f9c-417e-b38b-071240e70e76",
   "metadata": {
    "tags": []
   },
   "source": [
    "#### Plot"
   ]
  },
  {
   "cell_type": "code",
   "execution_count": 18,
   "id": "ee56c3fa-7456-40a0-b7a0-0b8ff387c234",
   "metadata": {},
   "outputs": [
    {
     "data": {
      "application/vnd.jupyter.widget-view+json": {
       "model_id": "38aea555a8d54a6fa6125f646fbd24e4",
       "version_major": 2,
       "version_minor": 0
      },
      "image/png": "[encoded data removed]",
      "text/html": [
       "\n",
       "            <div style=\"display: inline-block;\">\n",
       "                <div class=\"jupyter-widgets widget-label\" style=\"text-align: center;\">\n",
       "                    Figure\n",
       "                </div>\n",
       "                <img src='data:image/png;base64,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' width=640.0/>\n",
       "            </div>\n",
       "        "
      ],
      "text/plain": [
       "Canvas(toolbar=Toolbar(toolitems=[('Home', 'Reset original view', 'home', 'home'), ('Back', 'Back to previous …"
      ]
     },
     "metadata": {},
     "output_type": "display_data"
    }
   ],
   "source": [
    "plt.figure()\n",
    "plt.title('Richardson extrapolation of low frequency region')\n",
    "plt.xlabel('$\\\\frac{1}{\\\\Delta x}$')\n",
    "plt.ylabel('Max error')\n",
    "plt.loglog(inv_dz_vals, CNl3_real_errors, label='$\\\\lambda = 3$', color='black')\n",
    "plt.loglog(l3_inv_dz_vals, lCN_RE_l3, label='$\\\\lambda = 3$ with RE', linestyle='dashed', color='black')\n",
    "\n",
    "plt.loglog(inv_dz_vals, CNl10_real_errors, label='$\\\\lambda = 10$', color='red')\n",
    "plt.loglog(l10_inv_dz_vals, lCN_RE_l10, label='$\\\\lambda = 10$ with RE', linestyle='dashed', color='red')\n",
    "\n",
    "plt.grid(True, linestyle='dotted', color='grey')\n",
    "plt.legend()\n",
    "plt.show()"
   ]
  },
  {
   "cell_type": "markdown",
   "id": "3250dd20-1057-45a9-8a3b-001004120072",
   "metadata": {
    "tags": []
   },
   "source": [
    "## Cancelling FIRST Order Leading Error (HIGH FREQUENCY)"
   ]
  },
  {
   "cell_type": "markdown",
   "id": "3e9a8e82-3364-4cfc-a55d-85542b62a220",
   "metadata": {
    "jp-MarkdownHeadingCollapsed": true,
    "tags": []
   },
   "source": [
    "### Function"
   ]
  },
  {
   "cell_type": "code",
   "execution_count": 19,
   "id": "a38b5b0a-f697-4947-b3bc-0563d33f3819",
   "metadata": {},
   "outputs": [],
   "source": [
    "def CNRE_1OE(dt, lda, sig=sig, K=K, r=r, T=T):\n",
    "    # Parameters\n",
    "    Smin = 1e-10\n",
    "    Smax = 500\n",
    "    Zmin = np.log(Smin)\n",
    "    Zmax = np.log(Smax)\n",
    "    \n",
    "    nt = int(T/dt)\n",
    "    dZ = dt/lda\n",
    "    iZ = m.floor((Zmax-Zmin) / dZ)\n",
    "    Zmax = Zmin + dZ*iZ\n",
    "    \n",
    "    print(f'2h = {dZ}')\n",
    "    print(f'2k = {dt}')\n",
    "    print(f'lamda = {dt/dZ}')\n",
    "    print(f'nt = {nt}')\n",
    "    print(f'iZ = {iZ}')\n",
    "    print(f'new Smax = {np.exp(Zmax)}')\n",
    "    \n",
    "    \n",
    "    Z_2h = np.linspace(Zmin, Zmax, iZ+1)\n",
    "    \n",
    "    # Calculate CN Result for step size 2*dZ \n",
    "    V_2h = PresentValue(dZ = dZ, dt = dt, Zmax=Zmax)\n",
    "    \n",
    "    # Calculate CN Result for step size dZ\n",
    "    V_h = PresentValue(dZ = dZ/2, dt = dt/2, Zmax=Zmax)\n",
    "    \n",
    "    \n",
    "    # Conduct Richardson Extrapolation of Results: Solutions are only obtainable at the 2h steps (as no values calculated between 2h steps, as for h step case)\n",
    "    V = np.zeros(iZ+1)\n",
    "    for i in range(iZ+1):\n",
    "        V[i] = 2 * V_h[2*i] - V_2h[i] \n",
    "\n",
    "    \n",
    "    ### ---------------------------------------------\n",
    "    # Calculate Max Error in Realistic Region\n",
    "\n",
    "    # Errors\n",
    "    # max\n",
    "    Errors = DErrors_Z(V, Z_2h)\n",
    "    # abs max\n",
    "    Aerror = np.abs(Errors)\n",
    "    \n",
    "    \n",
    "    # Define a cutoff at a large enough S and corresponding Z - THE REALISTIC DOMAIN\n",
    "    Scut = 100\n",
    "    Zcut = np.log(Scut)\n",
    "    cutoff = int((Zcut - Zmin) / dZ)\n",
    "\n",
    "    R_AE = Aerror[:cutoff]\n",
    "\n",
    "    R_ME = np.max(R_AE)\n",
    "    print('\\n REALISTIC S DOMAIN ERRORS')\n",
    "    print(f'1. Maximal error: {R_ME} \\n')\n",
    "\n",
    "    R_ME_ind = np.where(R_AE == R_ME)[0][0]\n",
    "    print(f'located at {R_ME_ind}, z value of {Zmin + R_ME_ind*dZ}, S value of {np.exp(Zmin + R_ME_ind*dZ)} \\n')\n",
    "\n",
    "\n",
    "    return R_ME, V # realistic max error and solution via extrapolation"
   ]
  },
  {
   "cell_type": "markdown",
   "id": "a9759d71-53eb-478d-9831-58f57a90bdce",
   "metadata": {
    "jp-MarkdownHeadingCollapsed": true,
    "tags": []
   },
   "source": [
    "### Implementation: $\\lambda = 3$ and $10$"
   ]
  },
  {
   "cell_type": "code",
   "execution_count": 20,
   "id": "70af1ef1-58e4-4905-bc16-125a6e2879d1",
   "metadata": {},
   "outputs": [],
   "source": [
    "l3_dt_vals = np.array([0.2857142857142857, 0.15384615384615385, 0.07407407407407407, 0.024096385542168676, 0.012048192771084338, 0.006006006006006006, 0.0029985007496251873])"
   ]
  },
  {
   "cell_type": "markdown",
   "id": "7457a72c-beec-4f7e-b948-1f3846151645",
   "metadata": {
    "jp-MarkdownHeadingCollapsed": true,
    "tags": []
   },
   "source": [
    "#### $\\lambda=3$"
   ]
  },
  {
   "cell_type": "code",
   "execution_count": 21,
   "id": "1c5635d3-2e19-4e90-8a8d-18c3e1be28c4",
   "metadata": {},
   "outputs": [],
   "source": [
    "lda = 3\n",
    "\n",
    "hCN_RE_l3 = []\n",
    "l3_dz_vals = l3_dt_vals/lda\n",
    "l3_inv_dz_vals = np.divide(np.ones(len(l3_dt_vals)), l3_dz_vals)"
   ]
  },
  {
   "cell_type": "code",
   "execution_count": null,
   "id": "884556b7-8f4a-4da2-8359-e55ba0bb069c",
   "metadata": {
    "tags": []
   },
   "outputs": [
    {
     "name": "stdout",
     "output_type": "stream",
     "text": [
      "2h = 0.09523809523809523\n",
      "2k = 0.2857142857142857\n",
      "lamda = 3.0\n",
      "nt = 7\n",
      "iZ = 307\n",
      "new Smax = 498.8195006424106\n",
      "Present Value Function:\n",
      "dz = 0.09523809523809523\n",
      "dt = 0.2857142857142857\n",
      "lamda = 3.0\n",
      "new Smax = 498.8195006424106\n",
      "nt = 7\n",
      "Present Value Function:\n",
      "dz = 0.047619047619047616\n",
      "dt = 0.14285714285714285\n",
      "lamda = 3.0\n",
      "new Smax = 498.8195006424106\n",
      "nt = 14\n",
      "\n",
      " REALISTIC S DOMAIN ERRORS\n",
      "1. Maximal error: 0.010029801346373324 \n",
      "\n",
      "located at 266, z value of 2.307482403392875, S value of 10.04909321823287 \n",
      "\n",
      "2h = 0.05128205128205129\n",
      "2k = 0.15384615384615385\n",
      "lamda = 3.0\n",
      "nt = 13\n",
      "iZ = 570\n",
      "new Smax = 495.178498614599\n",
      "Present Value Function:\n",
      "dz = 0.05128205128205129\n",
      "dt = 0.15384615384615385\n",
      "lamda = 3.0\n",
      "new Smax = 495.178498614599\n",
      "nt = 13\n",
      "Present Value Function:\n",
      "dz = 0.025641025641025644\n",
      "dt = 0.07692307692307693\n",
      "lamda = 3.0\n",
      "new Smax = 495.178498614599\n",
      "nt = 26\n",
      "\n",
      " REALISTIC S DOMAIN ERRORS\n",
      "1. Maximal error: 0.0026119624049050216 \n",
      "\n",
      "located at 494, z value of 2.3074824033928785, S value of 10.049093218232906 \n",
      "\n",
      "2h = 0.024691358024691357\n",
      "2k = 0.07407407407407407\n",
      "lamda = 3.0\n",
      "nt = 27\n",
      "iZ = 1184\n",
      "new Smax = 497.06309576791534\n",
      "Present Value Function:\n",
      "dz = 0.024691358024691357\n",
      "dt = 0.07407407407407407\n",
      "lamda = 3.0\n",
      "new Smax = 497.06309576791534\n",
      "nt = 27\n",
      "Present Value Function:\n",
      "dz = 0.012345679012345678\n",
      "dt = 0.037037037037037035\n",
      "lamda = 3.0\n",
      "new Smax = 497.06309576791534\n",
      "nt = 54\n",
      "\n",
      " REALISTIC S DOMAIN ERRORS\n",
      "1. Maximal error: 0.0004311614787628759 \n",
      "\n",
      "located at 1026, z value of 2.307482403392875, S value of 10.04909321823287 \n",
      "\n",
      "2h = 0.008032128514056226\n",
      "2k = 0.024096385542168676\n",
      "lamda = 3.0\n",
      "nt = 83\n",
      "iZ = 3640\n",
      "new Smax = 498.2474599933955\n",
      "Present Value Function:\n",
      "dz = 0.008032128514056226\n",
      "dt = 0.024096385542168676\n",
      "lamda = 3.0\n",
      "new Smax = 498.2474599933955\n",
      "nt = 83\n",
      "Present Value Function:\n",
      "dz = 0.004016064257028113\n",
      "dt = 0.012048192771084338\n",
      "lamda = 3.0\n",
      "new Smax = 498.2474599933955\n",
      "nt = 166\n",
      "\n",
      " REALISTIC S DOMAIN ERRORS\n",
      "1. Maximal error: 3.2754120089184546e-05 \n",
      "\n",
      "located at 3124, z value of 2.0665185479711923, S value of 7.8972811970843715 \n",
      "\n",
      "2h = 0.004016064257028113\n",
      "2k = 0.012048192771084338\n",
      "lamda = 3.0\n",
      "nt = 166\n",
      "iZ = 7280\n",
      "new Smax = 498.2474599933955\n",
      "Present Value Function:\n",
      "dz = 0.004016064257028113\n",
      "dt = 0.012048192771084338\n",
      "lamda = 3.0\n",
      "new Smax = 498.2474599933955\n",
      "nt = 166\n",
      "Present Value Function:\n",
      "dz = 0.0020080321285140565\n",
      "dt = 0.006024096385542169\n",
      "lamda = 3.0\n",
      "new Smax = 498.2474599933955\n",
      "nt = 332\n",
      "\n",
      " REALISTIC S DOMAIN ERRORS\n",
      "1. Maximal error: 1.0020599303439681e-05 \n",
      "\n",
      "located at 6310, z value of 2.315514531906935, S value of 10.130133855121807 \n",
      "\n",
      "2h = 0.002002002002002002\n",
      "2k = 0.006006006006006006\n",
      "lamda = 3.0\n",
      "nt = 333\n",
      "iZ = 14605\n",
      "new Smax = 499.3904772584756\n",
      "Present Value Function:\n",
      "dz = 0.002002002002002002\n",
      "dt = 0.006006006006006006\n",
      "lamda = 3.0\n",
      "new Smax = 499.3904772584756\n",
      "nt = 333\n",
      "Present Value Function:\n",
      "dz = 0.001001001001001001\n",
      "dt = 0.003003003003003003\n",
      "lamda = 3.0\n",
      "new Smax = 499.3904772584756\n",
      "nt = 666\n",
      "\n",
      " REALISTIC S DOMAIN ERRORS\n",
      "1. Maximal error: 3.2749942293630596e-06 \n",
      "\n",
      "located at 12581, z value of 2.161336257246731, S value of 8.68273227396621 \n",
      "\n",
      "2h = 0.0009995002498750624\n",
      "2k = 0.0029985007496251873\n",
      "lamda = 3.0\n",
      "nt = 667\n",
      "iZ = 29255\n",
      "new Smax = 499.9603924349926\n",
      "Present Value Function:\n",
      "dz = 0.0009995002498750624\n",
      "dt = 0.0029985007496251873\n",
      "lamda = 3.0\n",
      "new Smax = 499.9603924349926\n",
      "nt = 667\n",
      "Present Value Function:\n",
      "dz = 0.0004997501249375312\n",
      "dt = 0.0014992503748125937\n",
      "lamda = 3.0\n",
      "new Smax = 499.9603924349926\n",
      "nt = 1334\n"
     ]
    }
   ],
   "source": [
    "dt = l3_dt_vals[0]\n",
    "hCNRE_l3_1 = CNRE_1OE(dt=dt, lda=lda)[0]\n",
    "hCN_RE_l3.append(hCNRE_l3_1)\n",
    "\n",
    "\n",
    "dt = l3_dt_vals[1]\n",
    "hCNRE_l3_2 = CNRE_1OE(dt=dt, lda=lda)[0]\n",
    "hCN_RE_l3.append(hCNRE_l3_2)\n",
    "\n",
    "\n",
    "dt = l3_dt_vals[2]\n",
    "hCNRE_l3_3 = CNRE_1OE(dt=dt, lda=lda)[0]\n",
    "hCN_RE_l3.append(hCNRE_l3_3)\n",
    "\n",
    "\n",
    "\n",
    "dt = l3_dt_vals[3]\n",
    "hCNRE_l3_4 = CNRE_1OE(dt=dt, lda=lda)[0]\n",
    "hCN_RE_l3.append(hCNRE_l3_4)\n",
    "\n",
    "\n",
    "\n",
    "dt = l3_dt_vals[4]\n",
    "hCNRE_l3_5 = CNRE_1OE(dt=dt, lda=lda)[0]\n",
    "hCN_RE_l3.append(hCNRE_l3_5)\n",
    "\n",
    "\n",
    "\n",
    "dt = l3_dt_vals[5]\n",
    "hCNRE_l3_6 = CNRE_1OE(dt=dt, lda=lda)[0]\n",
    "hCN_RE_l3.append(hCNRE_l3_6)\n",
    "\n",
    "\n",
    "dt = l3_dt_vals[6]\n",
    "hCNRE_l3_7 = CNRE_1OE(dt=dt, lda=lda)[0]\n",
    "hCN_RE_l3.append(hCNRE_l3_7)\n"
   ]
  },
  {
   "cell_type": "code",
   "execution_count": null,
   "id": "2ec124d0-b816-471f-bc9e-7a3396d7da4a",
   "metadata": {},
   "outputs": [],
   "source": [
    "hCN_RE_l3"
   ]
  },
  {
   "cell_type": "markdown",
   "id": "5743170c-5efb-4ba8-8b64-3765fdba1105",
   "metadata": {
    "jp-MarkdownHeadingCollapsed": true,
    "tags": []
   },
   "source": [
    "#### $\\lambda=10$"
   ]
  },
  {
   "cell_type": "code",
   "execution_count": null,
   "id": "8af04251-4cec-4242-9783-1cd7d0dde432",
   "metadata": {},
   "outputs": [],
   "source": [
    "hCN_RE_l10 = []"
   ]
  },
  {
   "cell_type": "code",
   "execution_count": null,
   "id": "6cdb3c79-6e07-4578-b78f-247781bef785",
   "metadata": {
    "tags": []
   },
   "outputs": [],
   "source": [
    "lda = 10\n",
    "\n",
    "dt = l10_dt_vals[0]\n",
    "hCNRE_l10_1 = CNRE_1OE(dt=dt, lda=lda)[0]\n",
    "hCN_RE_l10.append(hCNRE_l10_1)\n",
    "\n",
    "\n",
    "dt = l10_dt_vals[1]\n",
    "hCNRE_l10_2 = CNRE_1OE(dt=dt, lda=lda)[0]\n",
    "hCN_RE_l10.append(hCNRE_l10_2)\n",
    "\n",
    "\n",
    "dt = l10_dt_vals[2]\n",
    "hCNRE_l10_3 = CNRE_1OE(dt=dt, lda=lda)[0]\n",
    "hCN_RE_l10.append(hCNRE_l10_3)\n",
    "\n",
    "\n",
    "\n",
    "dt = l10_dt_vals[3]\n",
    "hCNRE_l10_4 = CNRE_1OE(dt=dt, lda=lda)[0]\n",
    "hCN_RE_l10.append(hCNRE_l10_4)\n",
    "\n",
    "\n",
    "\n",
    "dt = l10_dt_vals[4]\n",
    "hCNRE_l10_5 = CNRE_1OE(dt=dt, lda=lda)[0]\n",
    "hCN_RE_l10.append(hCNRE_l10_5)\n",
    "\n",
    "\n",
    "dt = l10_dt_vals[5]\n",
    "hCNRE_l10_6 = CNRE_1OE(dt=dt, lda=lda)[0]\n",
    "hCN_RE_l10.append(hCNRE_l10_6)\n",
    "\n",
    "dt = l10_dt_vals[6]\n",
    "hCNRE_l10_7 = CNRE_1OE(dt=dt, lda=lda)[0]\n",
    "hCN_RE_l10.append(hCNRE_l10_7)"
   ]
  },
  {
   "cell_type": "code",
   "execution_count": null,
   "id": "28ca1459-1a2a-420f-9b22-a9447222575c",
   "metadata": {},
   "outputs": [],
   "source": [
    "hCN_RE_l10"
   ]
  },
  {
   "cell_type": "markdown",
   "id": "624859e2-ea5c-4f62-ba35-9cd26b2c21cf",
   "metadata": {
    "tags": []
   },
   "source": [
    "### Plot comparing to original"
   ]
  },
  {
   "cell_type": "markdown",
   "id": "b535e9d0-7768-45e4-944e-83de8eca2991",
   "metadata": {},
   "source": [
    "#### Plot"
   ]
  },
  {
   "cell_type": "code",
   "execution_count": null,
   "id": "cf027f66-1162-42a0-a18d-4d8333464bb4",
   "metadata": {},
   "outputs": [],
   "source": [
    "dZ = 0.002\n",
    "lda = 3\n",
    "\n",
    "dt = lda * dZ\n",
    "nt = round(T/dt)\n",
    "dt = T/nt\n",
    "print(dt)"
   ]
  },
  {
   "cell_type": "code",
   "execution_count": null,
   "id": "4a2e4fd6-8e48-4a4c-b0ca-be5287a4e5f8",
   "metadata": {},
   "outputs": [],
   "source": [
    "plt.figure()\n",
    "plt.title('Richardson extrapolation of high frequency region')\n",
    "plt.xlabel('$\\\\frac{1}{\\\\Delta x}$')\n",
    "plt.ylabel('Max error')\n",
    "plt.loglog(inv_dz_vals, CNl3_real_errors, label='$\\\\lambda = 3$', color='black')\n",
    "plt.loglog(l3_inv_dz_vals, hCN_RE_l3, label='$\\\\lambda = 3$ with RE', linestyle='dashed', color='black')\n",
    "\n",
    "plt.loglog(inv_dz_vals, CNl10_real_errors, label='$\\\\lambda = 10$', color='red')\n",
    "plt.loglog(l10_inv_dz_vals, hCN_RE_l10, label='$\\\\lambda = 10$ with RE', linestyle='dashed', color='red')\n",
    "\n",
    "plt.grid(True, linestyle='dotted', color='grey')\n",
    "plt.legend()\n",
    "plt.show()\n"
   ]
  },
  {
   "cell_type": "markdown",
   "id": "9207fbf2-c565-4f19-bf1e-d868c7469462",
   "metadata": {
    "tags": []
   },
   "source": [
    "# 2. Rannacher Timestepping Richardson Extrapolation"
   ]
  },
  {
   "cell_type": "markdown",
   "id": "2b9b5749-1393-48e4-a9d0-5e84e26ca319",
   "metadata": {
    "jp-MarkdownHeadingCollapsed": true,
    "tags": []
   },
   "source": [
    "## Cancelling SECOND Order Leading Error (LOW FREQUENCY)"
   ]
  },
  {
   "cell_type": "markdown",
   "id": "00b7ea7e-784e-4835-a394-a19630940b52",
   "metadata": {
    "jp-MarkdownHeadingCollapsed": true,
    "tags": []
   },
   "source": [
    "### Function"
   ]
  },
  {
   "cell_type": "code",
   "execution_count": null,
   "id": "af073db8-e5d5-4f93-a1eb-bf3bbceace28",
   "metadata": {},
   "outputs": [],
   "source": [
    "def RRE_2OE(dZ, lda, R, sig=sig, K=K, r=r, T=T):\n",
    "    # Parameters\n",
    "    Smin = 1e-10\n",
    "    Smax = 500\n",
    "    Zmin = np.log(Smin)\n",
    "    Zmax = np.log(Smax)\n",
    "   \n",
    "    dt = lda*dZ\n",
    "    \n",
    "    # get appropriate parameters\n",
    "    iZ = round((Zmax-Zmin)/dZ)\n",
    "    dZ = (Zmax-Zmin) / iZ\n",
    "    nt = round(T/dt)\n",
    "    dt = T/nt\n",
    "    \n",
    "    print(f'2h = {dZ}')\n",
    "    print(f'2k = {dt}')\n",
    "    print(f'lamda = {dt/dZ}')\n",
    "    \n",
    "    Z_2h = np.linspace(Zmin, Zmax, iZ+1)\n",
    "    \n",
    "    # Calculate CN Result for step size 2*dZ \n",
    "    V_2h = PV_Rannacher(dZ = dZ, dt = dt, R=R)\n",
    "    \n",
    "    # Calculate CN Result for step size dZ\n",
    "    V_h = PV_Rannacher(dZ = dZ/2, dt = dt/2, R=R)\n",
    "    \n",
    "    \n",
    "    # Conduct Richardson Extrapolation of Results: Solutions are only obtainable at the 2h steps (as no values calculated between 2h steps, as for h step case)\n",
    "    V = np.zeros(iZ+1)\n",
    "    for i in range(iZ+1):\n",
    "        V[i] = 4/3 * V_h[2*i] - 1/3 * V_2h[i] \n",
    "\n",
    "    \n",
    "    ### ---------------------------------------------\n",
    "    # Calculate Max Error in Realistic Region\n",
    "\n",
    "    # Errors\n",
    "    # max\n",
    "    Errors = DErrors_Z(V, Z_2h)\n",
    "    # abs max\n",
    "    Aerror = np.abs(Errors)\n",
    "    \n",
    "    \n",
    "    # Define a cutoff at a large enough S and corresponding Z - THE REALISTIC DOMAIN\n",
    "    Scut = 100\n",
    "    Zcut = np.log(Scut)\n",
    "    cutoff = int((Zcut - Zmin) / dZ)\n",
    "\n",
    "    R_AE = Aerror[:cutoff]\n",
    "\n",
    "    R_ME = np.max(R_AE)\n",
    "    print('\\n REALISTIC S DOMAIN ERRORS')\n",
    "    print(f'1. Maximal error: {R_ME} \\n')\n",
    "\n",
    "    R_ME_ind = np.where(R_AE == R_ME)[0][0]\n",
    "    print(f'located at {R_ME_ind}, z value of {Zmin + R_ME_ind*dZ}, S value of {np.exp(Zmin + R_ME_ind*dZ)} \\n')\n",
    "\n",
    "\n",
    "    return R_ME, V # realistic max error and solution via extrapolation"
   ]
  },
  {
   "cell_type": "markdown",
   "id": "5a573e0b-574d-4880-878b-65eab1d8e498",
   "metadata": {
    "tags": []
   },
   "source": [
    "### Implementation: $\\lambda = 3$ and $10$"
   ]
  },
  {
   "cell_type": "code",
   "execution_count": null,
   "id": "6be38853-b9a7-4869-81b2-f1315a516121",
   "metadata": {},
   "outputs": [],
   "source": [
    "dz_vals = [0.1, 0.05, 0.025, 0.01, 0.005, 0.0025, 0.001]\n",
    "inv_dz_vals = np.divide(np.ones(len(dz_vals)), dz_vals)"
   ]
  },
  {
   "cell_type": "markdown",
   "id": "5712d3a5-d7f0-4b89-b00e-e886cedf3f5a",
   "metadata": {
    "tags": []
   },
   "source": [
    "#### $\\lambda=3$"
   ]
  },
  {
   "cell_type": "code",
   "execution_count": null,
   "id": "a5fb7d96-2af3-4e9d-bf5e-814c51da3424",
   "metadata": {},
   "outputs": [],
   "source": [
    "lRCN_RE_l3 = []"
   ]
  },
  {
   "cell_type": "code",
   "execution_count": null,
   "id": "38e2ee70-29a3-43ba-a064-3493cc16b5f0",
   "metadata": {
    "tags": []
   },
   "outputs": [],
   "source": [
    "lda = 3\n",
    "\n",
    "dZ = 0.1\n",
    "lRCNRE_l3_1 = RRE_2OE(dZ=dZ, lda=lda, R=1)[0]\n",
    "lRCN_RE_l3.append(lRCNRE_l3_1)\n",
    "\n",
    "\n",
    "dZ = 0.05\n",
    "lRCNRE_l3_2 = RRE_2OE(dZ=dZ, lda=lda, R=1)[0]\n",
    "lRCN_RE_l3.append(lRCNRE_l3_2)\n",
    "\n",
    "\n",
    "dZ = 0.025\n",
    "lRCNRE_l3_3 = RRE_2OE(dZ=dZ, lda=lda, R=1)[0]\n",
    "lRCN_RE_l3.append(lRCNRE_l3_3)\n",
    "\n",
    "\n",
    "\n",
    "dZ = 0.01\n",
    "lRCNRE_l3_4 = RRE_2OE(dZ=dZ, lda=lda, R=1)[0]\n",
    "lRCN_RE_l3.append(lRCNRE_l3_4)\n",
    "\n",
    "\n",
    "\n",
    "dZ = 0.005\n",
    "lRCNRE_l3_5 = RRE_2OE(dZ=dZ, lda=lda, R=1)[0]\n",
    "lRCN_RE_l3.append(lRCNRE_l3_5)\n",
    "\n",
    "\n",
    "\n",
    "dZ = 0.0025\n",
    "lRCNRE_l3_6 = RRE_2OE(dZ=dZ, lda=lda, R=1)[0]\n",
    "lRCN_RE_l3.append(lRCNRE_l3_6)\n",
    "\n",
    "\n",
    "dZ = 0.001\n",
    "lRCNRE_l3_7 = RRE_2OE(dZ=dZ, lda=lda, R=1)[0]\n",
    "lRCN_RE_l3.append(lRCNRE_l3_7)\n"
   ]
  },
  {
   "cell_type": "code",
   "execution_count": null,
   "id": "7a46d3cf-6d82-4ed0-8f81-07b6b37004eb",
   "metadata": {},
   "outputs": [],
   "source": [
    "lRCN_RE_l3"
   ]
  },
  {
   "cell_type": "markdown",
   "id": "90329387-0b81-4f10-93e8-95d34e18f01a",
   "metadata": {
    "jp-MarkdownHeadingCollapsed": true,
    "tags": []
   },
   "source": [
    "#### $\\lambda=10$"
   ]
  },
  {
   "cell_type": "code",
   "execution_count": null,
   "id": "7a8d9a9d-1477-47e8-860f-88076cb64d36",
   "metadata": {},
   "outputs": [],
   "source": [
    "lRCN_RE_l10 = []"
   ]
  },
  {
   "cell_type": "code",
   "execution_count": null,
   "id": "b1180585-3055-41bc-9bf1-b938e9a01da1",
   "metadata": {
    "tags": []
   },
   "outputs": [],
   "source": [
    "lda = 10\n",
    "\n",
    "dZ = 0.1\n",
    "lRCNRE_l10_1 = RRE_2OE(dZ=dZ, lda=lda, R=1)[0]\n",
    "lRCN_RE_l10.append(lRCNRE_l10_1)\n",
    "\n",
    "\n",
    "dZ = 0.05\n",
    "lRCNRE_l10_2 = RRE_2OE(dZ=dZ, lda=lda, R=1)[0]\n",
    "lRCN_RE_l10.append(lRCNRE_l10_2)\n",
    "\n",
    "\n",
    "dZ = 0.025\n",
    "lRCNRE_l10_3 = RRE_2OE(dZ=dZ, lda=lda, R=1)[0]\n",
    "lRCN_RE_l10.append(lRCNRE_l10_3)\n",
    "\n",
    "\n",
    "\n",
    "dZ = 0.01\n",
    "lRCNRE_l10_4 = RRE_2OE(dZ=dZ, lda=lda, R=1)[0]\n",
    "lRCN_RE_l10.append(lRCNRE_l10_4)\n",
    "\n",
    "\n",
    "\n",
    "dZ = 0.005\n",
    "lRCNRE_l10_5 = RRE_2OE(dZ=dZ, lda=lda, R=1)[0]\n",
    "lRCN_RE_l10.append(lRCNRE_l10_5)\n",
    "\n",
    "\n",
    "\n",
    "dZ = 0.0025\n",
    "lRCNRE_l10_6 = RRE_2OE(dZ=dZ, lda=lda, R=1)[0]\n",
    "lRCN_RE_l10.append(lRCNRE_l10_6)\n",
    "\n",
    "\n",
    "dZ = 0.001\n",
    "lRCNRE_l10_7 = RRE_2OE(dZ=dZ, lda=lda, R=1)[0]\n",
    "lRCN_RE_l10.append(lRCNRE_l10_7)"
   ]
  },
  {
   "cell_type": "code",
   "execution_count": null,
   "id": "214dab87-8f07-4a39-8745-ea533cd86e4b",
   "metadata": {},
   "outputs": [],
   "source": [
    "lRCN_RE_l10"
   ]
  },
  {
   "cell_type": "markdown",
   "id": "c810c6ae-77a5-4332-9f79-da6fa8be751a",
   "metadata": {
    "jp-MarkdownHeadingCollapsed": true,
    "tags": []
   },
   "source": [
    "### Plot comparing to original"
   ]
  },
  {
   "cell_type": "markdown",
   "id": "3e7e3a99-01bc-46d5-8428-4becefedff54",
   "metadata": {
    "tags": []
   },
   "source": [
    "#### Get corresponding original CN errors"
   ]
  },
  {
   "cell_type": "code",
   "execution_count": null,
   "id": "dd11b1f5-4d2f-497e-8d2a-5bc7add53ba6",
   "metadata": {},
   "outputs": [],
   "source": [
    "T=2\n",
    "dz = 0.0025\n",
    "dt = dz * 3\n",
    "nt = round(T/dt)\n",
    "print(T/nt)"
   ]
  },
  {
   "cell_type": "code",
   "execution_count": null,
   "id": "dd1485a0-86b3-4574-8ea4-9f8cc9eebe83",
   "metadata": {},
   "outputs": [],
   "source": [
    "RCNl3 = pd.read_csv('RCN1 l3 data.csv')\n",
    "RCNl3_real_errors = RCNl3['Real Errors']\n",
    "\n",
    "RCNl10 = pd.read_csv('RCN1 l10 data.csv')\n",
    "RCNl10_real_errors = RCNl10['Real Errors']"
   ]
  },
  {
   "cell_type": "markdown",
   "id": "713a3347-addf-4ab6-81b9-005a5122bb15",
   "metadata": {},
   "source": [
    "#### Plot"
   ]
  },
  {
   "cell_type": "code",
   "execution_count": null,
   "id": "5586d595-16f6-4126-9ca9-567d267f4ebb",
   "metadata": {},
   "outputs": [],
   "source": [
    "plt.figure()\n",
    "plt.title('Richardson extrapolation of low frequency region')\n",
    "plt.xlabel('$\\\\frac{1}{\\\\Delta x}$')\n",
    "plt.ylabel('Max error')\n",
    "plt.loglog(inv_dz_vals, RCNl3_real_errors, label='$\\\\lambda = 3$', color='black')\n",
    "plt.loglog(inv_dz_vals, lRCN_RE_l3, label='$\\\\lambda = 3$ with RE', linestyle='dashed', color='black')\n",
    "\n",
    "plt.loglog(inv_dz_vals, RCNl10_real_errors, label='$\\\\lambda = 10$', color='red')\n",
    "plt.loglog(inv_dz_vals, lRCN_RE_l10, label='$\\\\lambda = 10$ with RE', linestyle='dashed', color='red')\n",
    "\n",
    "plt.grid(True, linestyle='dotted', color='grey')\n",
    "plt.legend()\n",
    "plt.show()"
   ]
  },
  {
   "cell_type": "code",
   "execution_count": null,
   "id": "2c63d7df-d5ff-46fd-a344-2d0ea3002b25",
   "metadata": {},
   "outputs": [],
   "source": [
    "lRCN_RE_l10"
   ]
  },
  {
   "cell_type": "code",
   "execution_count": null,
   "id": "55017e25-da4b-4739-abff-299f4f699f00",
   "metadata": {},
   "outputs": [],
   "source": [
    "lRCN_RE_l3"
   ]
  },
  {
   "cell_type": "markdown",
   "id": "e57786df-fdcf-40e2-937f-828d677ec8e5",
   "metadata": {
    "tags": []
   },
   "source": [
    "## Cancelling 2R+1 Order Leading Error (HIGH FREQUENCY)"
   ]
  },
  {
   "cell_type": "markdown",
   "id": "000af1f0-0ce6-4969-804d-5e52bcd9892f",
   "metadata": {
    "jp-MarkdownHeadingCollapsed": true,
    "tags": []
   },
   "source": [
    "### Function"
   ]
  },
  {
   "cell_type": "code",
   "execution_count": null,
   "id": "4849c67b-c06b-431d-9ed2-55d02a73808f",
   "metadata": {},
   "outputs": [],
   "source": [
    "def RRE_1OE(dZ, lda, R, sig=sig, K=K, r=r, T=T):\n",
    "    # Parameters\n",
    "    Smin = 1e-10\n",
    "    Smax = 500\n",
    "    Zmin = np.log(Smin)\n",
    "    Zmax = np.log(Smax)\n",
    "   \n",
    "    dt = lda*dZ\n",
    "    \n",
    "    # get appropriate parameters\n",
    "    iZ = round((Zmax-Zmin)/dZ)\n",
    "    dZ = (Zmax-Zmin) / iZ\n",
    "    nt = round(T/dt)\n",
    "    dt = T/nt\n",
    "    \n",
    "    print(f'2h = {dZ}')\n",
    "    print(f'2k = {dt}')\n",
    "    print(f'lamda = {dt/dZ}')\n",
    "    \n",
    "    Z_2h = np.linspace(Zmin, Zmax, iZ+1)\n",
    "    \n",
    "    # Calculate CN Result for step size 2*dZ \n",
    "    V_2h = PV_Rannacher(dZ = dZ, dt = dt, R=R)\n",
    "    \n",
    "    # Calculate CN Result for step size dZ\n",
    "    V_h = PV_Rannacher(dZ = dZ/2, dt = dt/2, R=R)\n",
    "    \n",
    "    \n",
    "    # Conduct Richardson Extrapolation of Results: Solutions are only obtainable at the 2h steps (as no values calculated between 2h steps, as for h step case)\n",
    "    V = np.zeros(iZ+1)\n",
    "    for i in range(iZ+1):\n",
    "        V[i] = 8/7 * V_h[2*i] - 1/7 * V_2h[i] # R = 1 implies 2R+1 = 3rd order convergence\n",
    "\n",
    "    \n",
    "    ### ---------------------------------------------\n",
    "    # Calculate Max Error in Realistic Region\n",
    "\n",
    "    # Errors\n",
    "    # max\n",
    "    Errors = DErrors_Z(V, Z_2h)\n",
    "    # abs max\n",
    "    Aerror = np.abs(Errors)\n",
    "    \n",
    "    \n",
    "    # Define a cutoff at a large enough S and corresponding Z - THE REALISTIC DOMAIN\n",
    "    Scut = 100\n",
    "    Zcut = np.log(Scut)\n",
    "    cutoff = int((Zcut - Zmin) / dZ)\n",
    "\n",
    "    R_AE = Aerror[:cutoff]\n",
    "\n",
    "    R_ME = np.max(R_AE)\n",
    "    print('\\n REALISTIC S DOMAIN ERRORS')\n",
    "    print(f'1. Maximal error: {R_ME} \\n')\n",
    "\n",
    "    R_ME_ind = np.where(R_AE == R_ME)[0][0]\n",
    "    print(f'located at {R_ME_ind}, z value of {Zmin + R_ME_ind*dZ}, S value of {np.exp(Zmin + R_ME_ind*dZ)} \\n')\n",
    "\n",
    "\n",
    "    return R_ME, V # realistic max error and solution via extrapolation\n",
    "    \n",
    "    "
   ]
  },
  {
   "cell_type": "markdown",
   "id": "7e07a9a3-8c44-466a-9cdc-2eb5d99c6b39",
   "metadata": {
    "tags": []
   },
   "source": [
    "### Implementation: $\\lambda = 3, 6$ and $10$"
   ]
  },
  {
   "cell_type": "code",
   "execution_count": null,
   "id": "2db5ceb3-b825-4cae-9ced-3b4958b38058",
   "metadata": {},
   "outputs": [],
   "source": [
    "dz_vals = [0.1, 0.05, 0.025, 0.01, 0.005, 0.0025, 0.001]\n",
    "inv_dz_vals = np.divide(np.ones(len(dz_vals)), dz_vals)"
   ]
  },
  {
   "cell_type": "markdown",
   "id": "e302b800-1ea4-44d4-806d-6096af00b38a",
   "metadata": {
    "tags": []
   },
   "source": [
    "#### $\\lambda=3$"
   ]
  },
  {
   "cell_type": "code",
   "execution_count": null,
   "id": "5bba4e77-bd5f-4f77-a063-3b70666c41eb",
   "metadata": {},
   "outputs": [],
   "source": [
    "hRCN_RE_l3 = []"
   ]
  },
  {
   "cell_type": "code",
   "execution_count": null,
   "id": "85caa47f-8267-4524-bbef-f5712bb7f532",
   "metadata": {
    "tags": []
   },
   "outputs": [],
   "source": [
    "lda = 4\n",
    "\n",
    "dZ = 0.1\n",
    "hRCNRE_l3_1 = RRE_1OE(dZ=dZ, lda=lda, R=1)[0]\n",
    "hRCN_RE_l3.append(hRCNRE_l3_1)\n",
    "\n",
    "\n",
    "dZ = 0.05\n",
    "hRCNRE_l3_2 = RRE_1OE(dZ=dZ, lda=lda, R=1)[0]\n",
    "hRCN_RE_l3.append(hRCNRE_l3_2)\n",
    "\n",
    "\n",
    "dZ = 0.025\n",
    "hRCNRE_l3_3 = RRE_1OE(dZ=dZ, lda=lda, R=1)[0]\n",
    "hRCN_RE_l3.append(hRCNRE_l3_3)\n",
    "\n",
    "\n",
    "\n",
    "dZ = 0.01\n",
    "hRCNRE_l3_4 = RRE_1OE(dZ=dZ, lda=lda, R=1)[0]\n",
    "hRCN_RE_l3.append(hRCNRE_l3_4)\n",
    "\n",
    "\n",
    "\n",
    "dZ = 0.005\n",
    "hRCNRE_l3_5 = RRE_1OE(dZ=dZ, lda=lda, R=1)[0]\n",
    "hRCN_RE_l3.append(hRCNRE_l3_5)\n",
    "\n",
    "\n",
    "\n",
    "dZ = 0.0025\n",
    "hRCNRE_l3_6 = RRE_1OE(dZ=dZ, lda=lda, R=1)[0]\n",
    "hRCN_RE_l3.append(hRCNRE_l3_6)\n",
    "\n",
    "\n",
    "dZ = 0.001\n",
    "hRCNRE_l3_7 = RRE_1OE(dZ=dZ, lda=lda, R=1)[0]\n",
    "hRCN_RE_l3.append(hRCNRE_l3_7)\n"
   ]
  },
  {
   "cell_type": "code",
   "execution_count": null,
   "id": "8bfd3243-d3e4-44ea-bc7f-a5bae945400e",
   "metadata": {},
   "outputs": [],
   "source": [
    "hRCN_RE_l3"
   ]
  },
  {
   "cell_type": "markdown",
   "id": "b60dcb53-83f4-4c0c-9ec4-7133ec9fc942",
   "metadata": {
    "jp-MarkdownHeadingCollapsed": true,
    "tags": []
   },
   "source": [
    "#### $\\lambda=10$"
   ]
  },
  {
   "cell_type": "code",
   "execution_count": null,
   "id": "55c1c4e3-6e7b-432f-9437-eebfe5c63b40",
   "metadata": {},
   "outputs": [],
   "source": [
    "hRCN_RE_l10 = []"
   ]
  },
  {
   "cell_type": "code",
   "execution_count": null,
   "id": "6322fdf5-a21d-4915-a2fa-438f07af7754",
   "metadata": {},
   "outputs": [],
   "source": [
    "lda = 10\n",
    "\n",
    "dZ = 0.1\n",
    "hRCNRE_l10_1 = RRE_1OE(dZ=dZ, lda=lda, R=1)[0]\n",
    "hRCN_RE_l10.append(hRCNRE_l10_1)\n",
    "\n",
    "\n",
    "dZ = 0.05\n",
    "hRCNRE_l10_2 = RRE_1OE(dZ=dZ, lda=lda, R=1)[0]\n",
    "hRCN_RE_l10.append(hRCNRE_l10_2)\n",
    "\n",
    "\n",
    "dZ = 0.025\n",
    "hRCNRE_l10_3 = RRE_1OE(dZ=dZ, lda=lda, R=1)[0]\n",
    "hRCN_RE_l10.append(hRCNRE_l10_3)\n",
    "\n",
    "\n",
    "\n",
    "dZ = 0.01\n",
    "hRCNRE_l10_4 = RRE_1OE(dZ=dZ, lda=lda, R=1)[0]\n",
    "hRCN_RE_l10.append(hRCNRE_l10_4)\n",
    "\n",
    "\n",
    "\n",
    "dZ = 0.005\n",
    "hRCNRE_l10_5 = RRE_1OE(dZ=dZ, lda=lda, R=1)[0]\n",
    "hRCN_RE_l10.append(hRCNRE_l10_5)\n",
    "\n",
    "\n",
    "\n",
    "dZ = 0.0025\n",
    "hRCNRE_l10_6 = RRE_1OE(dZ=dZ, lda=lda, R=1)[0]\n",
    "hRCN_RE_l10.append(hRCNRE_l10_6)\n",
    "\n",
    "\n",
    "dZ = 0.001\n",
    "hRCNRE_l10_7 = RRE_1OE(dZ=dZ, lda=lda, R=1)[0]\n",
    "hRCN_RE_l10.append(hRCNRE_l10_7)"
   ]
  },
  {
   "cell_type": "code",
   "execution_count": null,
   "id": "9b9d448b-c349-4804-b82e-e5df7fcdd661",
   "metadata": {},
   "outputs": [],
   "source": [
    "hRCN_RE_l10"
   ]
  },
  {
   "cell_type": "markdown",
   "id": "b73416de-dd55-4206-b500-ad840aa76cdb",
   "metadata": {
    "tags": []
   },
   "source": [
    "### Plot comparing to original"
   ]
  },
  {
   "cell_type": "markdown",
   "id": "a267f60d-610f-4d71-b6a8-e82bed5fc4ea",
   "metadata": {
    "tags": []
   },
   "source": [
    "#### Get corresponding original CN errors"
   ]
  },
  {
   "cell_type": "code",
   "execution_count": null,
   "id": "63835dd7-af8f-4acd-bd6c-e431054c1d0d",
   "metadata": {},
   "outputs": [],
   "source": [
    "RCNl3 = pd.read_csv('RCN1 l3 data.csv')\n",
    "RCNl3_real_errors = RCNl3['Real Errors']\n",
    "\n",
    "RCNl10 = pd.read_csv('RCN1 l10 data.csv')\n",
    "RCNl10_real_errors = RCNl10['Real Errors']"
   ]
  },
  {
   "cell_type": "markdown",
   "id": "ef34c762-d762-4c27-827d-8090cac8d3b4",
   "metadata": {},
   "source": [
    "#### Plot"
   ]
  },
  {
   "cell_type": "code",
   "execution_count": null,
   "id": "1c84e953-f590-480a-be4c-464d76171f8f",
   "metadata": {},
   "outputs": [],
   "source": [
    "plt.figure()\n",
    "plt.title('Richardson extrapolation of high frequency region')\n",
    "plt.xlabel('$\\\\frac{1}{\\\\Delta x}$')\n",
    "plt.ylabel('Max error')\n",
    "plt.loglog(inv_dz_vals, RCNl3_real_errors, label='$\\\\lambda = 3$', color='black')\n",
    "plt.loglog(inv_dz_vals, hRCN_RE_l3, label='$\\\\lambda = 3$ with RE', linestyle='dashed', color='black')\n",
    "\n",
    "plt.loglog(inv_dz_vals, RCNl10_real_errors, label='$\\\\lambda = 10$', color='red')\n",
    "plt.loglog(inv_dz_vals, hRCN_RE_l10, label='$\\\\lambda = 10$ with RE', linestyle='dashed', color='red')\n",
    "\n",
    "plt.grid(True, linestyle='dotted', color='grey')\n",
    "plt.legend()\n",
    "plt.show()\n"
   ]
  },
  {
   "cell_type": "code",
   "execution_count": null,
   "id": "97fd9567-77fc-435e-8722-bff1ec0f76b2",
   "metadata": {},
   "outputs": [],
   "source": []
  },
  {
   "cell_type": "code",
   "execution_count": null,
   "id": "a835434b-5dcd-499f-9274-96c5811d0de3",
   "metadata": {},
   "outputs": [],
   "source": []
  }
 ],
 "metadata": {
  "kernelspec": {
   "display_name": "Python 3 (ipykernel)",
   "language": "python",
   "name": "python3"
  },
  "language_info": {
   "codemirror_mode": {
    "name": "ipython",
    "version": 3
   },
   "file_extension": ".py",
   "mimetype": "text/x-python",
   "name": "python",
   "nbconvert_exporter": "python",
   "pygments_lexer": "ipython3",
   "version": "3.9.13"
  }
 },
 "nbformat": 4,
 "nbformat_minor": 5
}
