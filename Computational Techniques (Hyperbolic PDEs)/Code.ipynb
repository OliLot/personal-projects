{
 "cells": [
  {
   "cell_type": "markdown",
   "id": "81503a91",
   "metadata": {},
   "source": [
    "# Part 1: Linear First Order Wave Equation\n",
    "\n",
    "Considering the PDE\n",
    "\n",
    "$${\\partial u \\over \\partial t} = -a{\\partial u \\over \\partial x}$$\n",
    "\n",
    "With Initial Conditions:\n",
    "- $u(0 \\le x < 50, 0) = 0$\n",
    "- $u(50 \\le x < 110, 0) = 100 \\sin{\\left(\\pi\\left(\\frac{x-50}{60}\\right)\\right)}$\n",
    "- $u(110 \\le x \\le 300, 0) = 0$\n",
    "\n",
    "Boundary Conditions:\n",
    "- $u(0, t) = 0$\n",
    "- $u(300, t) = 0$"
   ]
  },
  {
   "cell_type": "code",
   "execution_count": 1,
   "id": "354ce62e",
   "metadata": {},
   "outputs": [],
   "source": [
    "%matplotlib inline\n",
    "import numpy as np\n",
    "import pandas as pd\n",
    "import matplotlib.pyplot as plt\n",
    "\n",
    "from IPython.display import display\n",
    "from ipywidgets import interactive, fixed, IntSlider, FloatSlider, HBox, Layout # import widgets to generate interactive slider/plots\n",
    "import warnings\n",
    "warnings.filterwarnings('ignore')"
   ]
  },
  {
   "cell_type": "markdown",
   "id": "1edf0ebc",
   "metadata": {},
   "source": [
    "## Task\n",
    "Investigate the effect of varying the Courant number on the linear wave qquation for each\n",
    "of these methods. Do this by keeping ∆x = 5 and changing the time step values, ∆t. It is up\n",
    "to you to decide the best way to present the results of your investigation, using static plots,\n",
    "animations and/or interactive plots.\n",
    "\n",
    "Analyse the stability and accuracy of the methods.\n"
   ]
  },
  {
   "cell_type": "markdown",
   "id": "f5681bdf",
   "metadata": {},
   "source": [
    "## Solutions"
   ]
  },
  {
   "cell_type": "markdown",
   "id": "a8f406e6",
   "metadata": {},
   "source": [
    "### First upwind differencing method (explicit)\n",
    "\n",
    "Uses a forward time backward space approximation: \n",
    "\n",
    "$$\\frac{u_i^{n+1} - u_i^n}{\\Delta t} = -a\\frac{u_i^n - u_{i-1}^n}{\\Delta x}$$\n",
    "\n",
    "Rearranged:\n",
    "\n",
    "$$u_i^{n+1} = u_i^n - c(u_i^n - u_{i-1}^n)$$\n",
    "\n",
    "where $c = \\frac{a \\Delta t}{\\Delta x}$."
   ]
  },
  {
   "cell_type": "code",
   "execution_count": 2,
   "id": "002bed18",
   "metadata": {},
   "outputs": [],
   "source": [
    "def FUDM(dt, time):\n",
    "    ### /// SOLVING THE PROBLEM ///\n",
    "    # parameters\n",
    "    a = 300 # FIX\n",
    "    dx = 5 # FIX\n",
    "    L = 300 # FIX\n",
    "    nx = int(L/dx) # FIX\n",
    "    T = 0.01666 * 40 # FIX\n",
    "    \n",
    "    nt = int(T / dt)\n",
    "    x = np.linspace(0, 300, nx + 1)\n",
    "    t = np.linspace(0, T, nt + 1)\n",
    "    c = a*dt / dx\n",
    "    \n",
    "    # initial and boundary conditions\n",
    "    uIC = np.zeros(nx + 1)\n",
    "    xdom = np.where((50 <= x)  & (x < 110))\n",
    "    uIC[xdom] = 100 * np.sin(np.pi * (x[xdom] - 50)/ 60)\n",
    "\n",
    "    uB1 = uB2 = 0 # already taken into account\n",
    "\n",
    "    # Set up solution matrix \n",
    "    uSOL = np.zeros((nx+1, nt+1))\n",
    "    uSOL[:,0] = uIC\n",
    "\n",
    "    for n in range(1, nt+1): \n",
    "        uSOL[1:-1, n] = uSOL[1:-1, n-1] - c*(uSOL[1:-1, n-1] - uSOL[0:-2, n-1])\n",
    "    \n",
    "    ### /// Animation ///\n",
    "    # plot of analytic solution\n",
    "    x_a = np.linspace(-L, L, 2*nx + 1)\n",
    "    uIC_a = np.zeros(2*nx + 1)\n",
    "    xdom_a = np.where((50 <= x_a)  & (x_a < 110))\n",
    "    uIC_a[xdom_a] = 100 * np.sin(np.pi * (x_a[xdom_a] - 50)/ 60)\n",
    "\n",
    "    \n",
    "    plt.figure()\n",
    "    plt.plot(x_a + a*time, uIC_a, color='red', linestyle='dashed', label='Analytic solution')\n",
    "\n",
    "    \n",
    "    # time index\n",
    "    ind = round(time/dt)\n",
    "        \n",
    "    # plot for given dt at given time\n",
    "    plt.plot(x, uSOL[:,ind], label='Numerical solution')\n",
    "    plt.title(f'Upwind Method Numerical Results for $\\\\Delta t$ = {dt}')\n",
    "    plt.xlabel('x')\n",
    "    plt.xlim(0, 300)\n",
    "    plt.ylabel('u')\n",
    "    plt.ylim(-30, 150)\n",
    "    \n",
    "    plt.text(20, 120, f't = {time:.2f}')\n",
    "    plt.text(20, 130, f'Courant number = {c:.4f}')\n",
    "    \n",
    "    plt.legend(loc='upper right')\n",
    "    "
   ]
  },
  {
   "cell_type": "code",
   "execution_count": 3,
   "id": "2ce42505",
   "metadata": {
    "scrolled": false
   },
   "outputs": [
    {
     "name": "stdout",
     "output_type": "stream",
     "text": [
      "Arbitrarily adjust time step and the time under consideration via the sliders below. Note that the time slider cannot be at the final time value when adjusting the time step. Specific values can be chosen by clicking on the numbers.\n"
     ]
    },
    {
     "data": {
      "application/vnd.jupyter.widget-view+json": {
       "model_id": "7b79f811f11247509b8ffc538043cba9",
       "version_major": 2,
       "version_minor": 0
      },
      "text/plain": [
       "interactive(children=(FloatSlider(value=0.01666, description='dt', max=0.05, min=1e-05, step=1e-05), FloatSlid…"
      ]
     },
     "metadata": {},
     "output_type": "display_data"
    }
   ],
   "source": [
    "# interactive plot\n",
    "dt_slider = FloatSlider(min=0.00001, max=0.05, step=0.00001, value = 0.01666)\n",
    "t_slider = FloatSlider(min=0, max=0.01666*40, step=0.01666)\n",
    "\n",
    "def slider_change(change):\n",
    "    t_slider.step = dt_slider.value\n",
    "    \n",
    "dt_slider.observe(slider_change, 'value')\n",
    "\n",
    "IP1 = interactive(FUDM, dt=dt_slider, time = t_slider)\n",
    "print('Arbitrarily adjust time step and the time under consideration via the sliders below. Note that the time slider cannot be at the final time value when adjusting the time step. Specific values can be chosen by clicking on the numbers.')\n",
    "IP1"
   ]
  },
  {
   "cell_type": "markdown",
   "id": "f2a9d994",
   "metadata": {},
   "source": [
    "### Euler BTCS method (implicit)\n",
    "\n",
    "Uses a backward time central space approximation:\n",
    "\n",
    "$$\\frac{u_i^{n+1} - u_i^n}{\\Delta t} = -a\\frac{u_{i+1}^{n+1} - u_{i-1}^{n+1}}{2 \\Delta x}$$\n",
    "\n",
    "Rearranged:\n",
    "\n",
    "$$\\frac{1}{2}cu_{i-1}^{n+1} - u_{i}^{n+1} - \\frac{1}{2}cu_{i+1}^{n+1} = -u_i^n$$\n",
    "\n",
    "where $c = \\frac{a\\Delta t}{\\Delta x}$. This creates a tridiagonal system of equeations."
   ]
  },
  {
   "cell_type": "code",
   "execution_count": 4,
   "id": "b84f9046",
   "metadata": {},
   "outputs": [],
   "source": [
    "def BTCS(dt, time):\n",
    "    # parameters\n",
    "    # parameters\n",
    "    a = 300 # FIX\n",
    "    dx = 5 # FIX\n",
    "    L = 300 # FIX\n",
    "    nx = int(L/dx) # FIX\n",
    "    T = 0.01666 * 40 # FIX\n",
    "    \n",
    "    nt = int(T/dt)\n",
    "    x = np.linspace(0, L, nx + 1)\n",
    "    t = np.linspace(0, T, nt + 1)\n",
    "    c = a*dt / dx\n",
    "    \n",
    "    # initial and boundary conditions\n",
    "    uIC = np.zeros(nx + 1)\n",
    "    xdom = np.where((50 <= x)  & (x < 110))\n",
    "    uIC[xdom] = 100 * np.sin(np.pi * (x[xdom] - 50)/ 60)\n",
    "\n",
    "    uB1 = uB2 = 0 # already taken into account\n",
    "    \n",
    "    # Set up solution matrix \n",
    "    uSOL = np.zeros((nx+1, nt+1))\n",
    "    uSOL[:,0] = uIC\n",
    "\n",
    "    # Tridiagonal matrix\n",
    "    ld = - 1/2 * c * np.ones(nx-2)\n",
    "    d = np.ones(nx-1)\n",
    "    ud = 1/2 * c * np.ones(nx-2)\n",
    "\n",
    "    A = np.diag(ld, -1) + np.diag(d, 0) + np.diag(ud, 1)\n",
    "\n",
    "    for n in range(1, nt+1):\n",
    "        # constant vector\n",
    "        d = uSOL[1:-1, n-1]\n",
    "        \n",
    "        # solution at time n\n",
    "        uSOL[1:-1, n] = np.linalg.solve(A, d)\n",
    "    \n",
    "    \n",
    "    ### /// Animation ///\n",
    "    # plot of analytic solution\n",
    "    x_a = np.linspace(-L, L, 2*nx + 1)\n",
    "    uIC_a = np.zeros(2*nx + 1)\n",
    "    xdom_a = np.where((50 <= x_a)  & (x_a < 110))\n",
    "    uIC_a[xdom_a] = 100 * np.sin(np.pi * (x_a[xdom_a] - 50)/ 60)\n",
    "\n",
    "    plt.figure()\n",
    "    plt.plot(x_a + a*time, uIC_a, color='red', linestyle='dashed', label='Analytic solution')\n",
    "    \n",
    "    # time index\n",
    "    ind = round(time/dt)\n",
    "        \n",
    "    # plot for given dt at given time\n",
    "    plt.plot(x, uSOL[:,ind], label='Numerical solution')\n",
    "    plt.title(f'Euler BTCS Method Numerical Results for $\\\\Delta t$ = {dt}')\n",
    "    plt.xlabel('x')\n",
    "    plt.xlim(0, 300)\n",
    "    plt.ylabel('u')\n",
    "    plt.ylim(-30, 150)\n",
    "    \n",
    "    plt.text(20, 120, f't = {time:.2f}')\n",
    "    plt.text(20, 130, f'Courant number = {c:.4f}')\n",
    "    \n",
    "    plt.legend(loc='upper right')\n"
   ]
  },
  {
   "cell_type": "code",
   "execution_count": 5,
   "id": "d89d66aa",
   "metadata": {
    "scrolled": false
   },
   "outputs": [
    {
     "name": "stdout",
     "output_type": "stream",
     "text": [
      "Arbitrarily adjust time step and the time under consideration via the sliders below. Note that the time slider cannot be at the final time value when adjusting the time step. Specific values can be chosen by clicking on the numbers.\n"
     ]
    },
    {
     "data": {
      "application/vnd.jupyter.widget-view+json": {
       "model_id": "9373f80099f44c8e88f7d0577b5b0bfc",
       "version_major": 2,
       "version_minor": 0
      },
      "text/plain": [
       "interactive(children=(FloatSlider(value=0.01666, description='dt', max=0.05, min=1e-05, step=1e-05), FloatSlid…"
      ]
     },
     "metadata": {},
     "output_type": "display_data"
    }
   ],
   "source": [
    "# interactive plot\n",
    "dt_slider = FloatSlider(min=0.00001, max=0.05, step=0.00001, value = 0.01666)\n",
    "t_slider = FloatSlider(min=0, max=0.01666*40, step=0.01666)\n",
    "\n",
    "def slider_change(change):\n",
    "    t_slider.step = dt_slider.value\n",
    "    \n",
    "dt_slider.observe(slider_change, 'value')\n",
    "\n",
    "IP2 = interactive(BTCS, dt=dt_slider, time = t_slider)\n",
    "print('Arbitrarily adjust time step and the time under consideration via the sliders below. Note that the time slider cannot be at the final time value when adjusting the time step. Specific values can be chosen by clicking on the numbers.')\n",
    "IP2"
   ]
  },
  {
   "cell_type": "markdown",
   "id": "ba2e3bae",
   "metadata": {},
   "source": [
    "### Lax-Wendroff method (multi-step)\n",
    "\n",
    "Applies Lax's method (FTCS replacing $u_i^n = \\frac{1}{2}(u_{i-1}^{n} + u_{i+1}^{n})$) to calculate the solution at intermediate grid point in both space and time $(i + \\frac{1}{2}, n + \\frac{1}{2})$. Resulting in:\n",
    "\n",
    "$$u_{i+\\frac{1}{2}}^{n + \\frac{1}{2}} = \\frac{1}{2}(u_i^n + u_{i+1}^{n}) - \\frac{c}{2}(u_{i+1}^{n} - u_i^n)$$\n",
    "\n",
    "and\n",
    "\n",
    "$$u_{i-\\frac{1}{2}}^{n + \\frac{1}{2}} = \\frac{1}{2}(u_{i-1}^n + u_{i}^{n}) - \\frac{c}{2}(u_{i}^{n} - u_{i-1}^n)$$\n",
    "\n",
    "The final step $(i, n+1)$ is then calculated using the Leapfrog method (CTCS about intermediate point with half steps), substituting in the intermediate step solutions:\n",
    "\n",
    "$$u_i^{n+1} = u_i^n - c (u_{i + \\frac{1}{2}}^{n + \\frac{1}{2}} - u_{i-\\frac{1}{2}}^{n+\\frac{1}{2}})$$\n",
    "\n",
    "where $c = \\frac{a\\Delta t}{\\Delta x}$.\n"
   ]
  },
  {
   "cell_type": "code",
   "execution_count": 6,
   "id": "d96bfa69",
   "metadata": {},
   "outputs": [],
   "source": [
    "def LWM(dt, time):\n",
    "    # parameters\n",
    "    # parameters\n",
    "    a = 300 # FIX\n",
    "    dx = 5 # FIX\n",
    "    L = 300 # FIX\n",
    "    nx = int(L/dx) # FIX\n",
    "    T = 0.01666 * 40 # FIX\n",
    "    \n",
    "    nt = int(T/dt)\n",
    "    x = np.linspace(0, L, nx + 1)\n",
    "    t = np.linspace(0, T, nt + 1)\n",
    "    c = a*dt / dx\n",
    "    \n",
    "    # initial and boundary conditions\n",
    "    uIC = np.zeros(nx + 1)\n",
    "    xdom = np.where((50 <= x)  & (x < 110))\n",
    "    uIC[xdom] = 100 * np.sin(np.pi * (x[xdom] - 50)/ 60)\n",
    "\n",
    "    uB1 = uB2 = 0 # already taken into account\n",
    "    \n",
    "    # Set up solution matrix \n",
    "    uSOL = np.zeros((nx+1, nt+1))\n",
    "    uSOL[:,0] = uIC\n",
    "    \n",
    "    # Calculating solution\n",
    "    for n in range(1, nt+1):\n",
    "        # intermediate steps\n",
    "        u_phs = 1/2 * (uSOL[1:-1, n-1] + uSOL[2:, n-1]) - c/2 * (uSOL[2:, n-1] - uSOL[1:-1, n-1])\n",
    "        u_nhs = 1/2 * (uSOL[0:-2, n-1] + uSOL[1:-1, n-1]) - c/2 * (uSOL[1:-1, n-1] - uSOL[0:-2, n-1])\n",
    "    \n",
    "        # whole step\n",
    "        uSOL[1:-1, n] = uSOL[1:-1, n-1] - c * (u_phs - u_nhs)\n",
    "\n",
    "    ### /// Animation ///\n",
    "    # plot of analytic solution\n",
    "    x_a = np.linspace(-L, L, 2*nx + 1)\n",
    "    uIC_a = np.zeros(2*nx + 1)\n",
    "    xdom_a = np.where((50 <= x_a)  & (x_a < 110))\n",
    "    uIC_a[xdom_a] = 100 * np.sin(np.pi * (x_a[xdom_a] - 50)/ 60)\n",
    "\n",
    "    plt.figure()\n",
    "    plt.plot(x_a + a*time, uIC_a, color='red', linestyle='dashed', label='Analytic solution')\n",
    "    \n",
    "    # time index\n",
    "    ind = round(time/dt)\n",
    "        \n",
    "    # plot for given dt at given time\n",
    "    plt.plot(x, uSOL[:,ind], label='Numerical solution')\n",
    "    plt.title(f'Lax-Wendroff Method Numerical Results for $\\\\Delta t$ = {dt}')\n",
    "    plt.xlabel('x')\n",
    "    plt.xlim(0, 300)\n",
    "    plt.ylabel('u')\n",
    "    plt.ylim(-30, 150)\n",
    "    \n",
    "    plt.text(20, 120, f't = {time:.2f}')\n",
    "    plt.text(20, 130, f'Courant number = {c:.4f}')\n",
    "    \n",
    "    plt.legend(loc='upper right')"
   ]
  },
  {
   "cell_type": "code",
   "execution_count": 7,
   "id": "d6b7dcf8",
   "metadata": {
    "scrolled": false
   },
   "outputs": [
    {
     "name": "stdout",
     "output_type": "stream",
     "text": [
      "Arbitrarily adjust time step and the time under consideration via the sliders below. Note that the time slider cannot be at the final time value when adjusting the time step. Specific values can be chosen by clicking on the numbers.\n"
     ]
    },
    {
     "data": {
      "application/vnd.jupyter.widget-view+json": {
       "model_id": "d2fa2068da9042e7be163d84926d67e2",
       "version_major": 2,
       "version_minor": 0
      },
      "text/plain": [
       "interactive(children=(FloatSlider(value=0.01666, description='dt', max=0.05, min=1e-05, step=1e-05), FloatSlid…"
      ]
     },
     "metadata": {},
     "output_type": "display_data"
    }
   ],
   "source": [
    "# interactive plot\n",
    "dt_slider = FloatSlider(min=0.00001, max=0.05, step=0.00001, value = 0.01666)\n",
    "t_slider = FloatSlider(min=0, max=0.01666*40, step=0.01666)\n",
    "\n",
    "def slider_change(change):\n",
    "    t_slider.step = dt_slider.value\n",
    "    \n",
    "dt_slider.observe(slider_change, 'value')\n",
    "\n",
    "IP3 = interactive(LWM, dt=dt_slider, time = t_slider)\n",
    "print('Arbitrarily adjust time step and the time under consideration via the sliders below. Note that the time slider cannot be at the final time value when adjusting the time step. Specific values can be chosen by clicking on the numbers.')\n",
    "IP3"
   ]
  },
  {
   "cell_type": "markdown",
   "id": "bdd34c0a",
   "metadata": {},
   "source": [
    "# Part 2: Inviscid Burgers' Equation\n",
    "\n",
    "Considering the PDE:\n",
    "\n",
    "$${\\partial u \\over \\partial t} = -u{\\partial u \\over \\partial x}$$\n",
    "\n",
    "In Conservative Form:\n",
    "\n",
    "$${\\partial u \\over \\partial t} = -{\\partial \\frac{u^2}{2} \\over \\partial x} = -{\\partial E \\over \\partial x}$$\n",
    "\n",
    "With Initial Conditions:\n",
    "- $u(0 \\le x < 2, 0) = 1$\n",
    "- $u(2 \\le x \\le 4, 0) = 0$\n",
    "\n",
    "Boundary Conditions:\n",
    "- $u(0, t) = 1$\n",
    "- $u(4, t) = 0$"
   ]
  },
  {
   "cell_type": "markdown",
   "id": "fb7d0b04",
   "metadata": {},
   "source": [
    "## Task\n",
    "Use the Lax and MacCormack methods to investigate this non-linear PDE. Investigate the\n",
    "effect of varying the time step ∆t on the inviscid Burgers’ equation for each of these methods.\n",
    "Do this by keeping ∆x = 0.1 and changing the time step values, ∆t. It is up to you to decide\n",
    "the best way to present the results of your investigation, using static plots, animations and/or\n",
    "interactive plots.\n",
    "\n",
    "Analyse the stability and accuracy of the methods.\n"
   ]
  },
  {
   "cell_type": "markdown",
   "id": "cc32a9b7",
   "metadata": {},
   "source": [
    "## Characteristics"
   ]
  },
  {
   "cell_type": "code",
   "execution_count": 8,
   "id": "6f8c251a",
   "metadata": {},
   "outputs": [
    {
     "data": {
      "image/png": "[encoded data removed]",
      "text/plain": [
       "<Figure size 640x480 with 1 Axes>"
      ]
     },
     "metadata": {},
     "output_type": "display_data"
    }
   ],
   "source": [
    "x = np.linspace(0, 4, 1000)\n",
    "\n",
    "# Initial conditions function\n",
    "def F(x):\n",
    "    if 0 <= x <2:\n",
    "        return 1\n",
    "    if 2 <= x <=4:\n",
    "        return 0\n",
    "\n",
    "def t(x, xi):\n",
    "    return (x - xi) / F(xi)\n",
    "\n",
    "    \n",
    "xi_1 = np.linspace(0, 2, 7)\n",
    "xi_2 = np.linspace(2, 4, 7)\n",
    "\n",
    "plt.figure()\n",
    "for i in range(len(xi_1)):\n",
    "    plt.plot(x, t(x, xi_1[i]), color='black')\n",
    "for j in range(len(xi_2)):\n",
    "    plt.axvline(x = xi_2[j], color='red')\n",
    "    \n",
    "plt.ylim(0, 4)\n",
    "plt.xlabel('$x$')\n",
    "plt.ylabel('$t$')\n",
    "plt.title(\"Characteristics of the Inviscid Burgers' Equation\")\n",
    "plt.show()"
   ]
  },
  {
   "cell_type": "markdown",
   "id": "f992c123",
   "metadata": {},
   "source": [
    "## Solutions"
   ]
  },
  {
   "cell_type": "markdown",
   "id": "287a227b",
   "metadata": {},
   "source": [
    "### Lax method\n",
    "FTCS approximation taking $u_i^n = \\frac{1}{2}(u_{i-1}^{n} + u_{i+1}^{n})$. Thus,\n",
    "\n",
    "\n",
    "$$u_i^{n+1} = \\frac{1}{2}(u_{i-1}^{n} + u_{i+1}^{n}) - \\frac{\\Delta t}{4 \\Delta x}\\left[(u_{i+1}^n)^2 - (u_{i-1}^n)^2\\right]$$"
   ]
  },
  {
   "cell_type": "code",
   "execution_count": 9,
   "id": "acc2be8f",
   "metadata": {},
   "outputs": [],
   "source": [
    "def LM(dt, time):\n",
    "    # parameters\n",
    "    dx = 0.1 # FIX\n",
    "    L = 4 # FIX\n",
    "    nx = int(L/dx) # FIX\n",
    "    T = 4 # FIX\n",
    "    \n",
    "    nt = int(T/dt)\n",
    "    x = np.linspace(0, L, nx + 1)\n",
    "    t = np.linspace(0, T, nt + 1)\n",
    "\n",
    "    # initial and boundary conditions\n",
    "    uIC = np.zeros(nx + 1)\n",
    "    xdom = np.where((0 <= x)  & (x < 2))\n",
    "    uIC[xdom] = 1\n",
    "\n",
    "    uB1 = 1\n",
    "    uB2 = 0 # already taken into account\n",
    "\n",
    "    uIC[0] = 1\n",
    "    uIC\n",
    "    \n",
    "    # Set up solution matrix \n",
    "    uSOL = np.zeros((nx+1, nt+1))\n",
    "    uSOL[:,0] = uIC\n",
    "    uSOL[0,:] = uB1\n",
    "    uSOL[-1,:] = uB2\n",
    "    \n",
    "    # Solve\n",
    "    for n in range(1, nt+1):\n",
    "        # uSOL[1:-1, n] = 1/2 * (uSOL[0:-2, n-1] + uSOL[2:, n-1]) - (1/2 * (uSOL[0:-2, n-1] + uSOL[2:, n-1]) * dt) / (2*dx) * (uSOL[2:, n-1] - uSOL[0:-2, n-1])\n",
    "        uSOL[1:-1, n] = 1/2 * (uSOL[0:-2, n-1] + uSOL[2:, n-1]) - dt / (4*dx) * (np.power(uSOL[2:, n-1], 2) - np.power(uSOL[0:-2, n-1], 2))\n",
    "    \n",
    "    ### /// Animation ///\n",
    "    # plot of analytic solution\n",
    "    x_a = np.linspace(-L, L, 2*nx + 1)\n",
    "    uIC_a = np.zeros(2*nx + 1)\n",
    "    xdom_a = np.where((-L <= x_a)  & (x_a < 2))\n",
    "    uIC_a[xdom_a] = 1\n",
    "\n",
    "    plt.figure()\n",
    "    plt.plot(x_a + (1/2)*time, uIC_a, color='red', linestyle='dashed', label='Analytic solution')\n",
    "    \n",
    "    # time index\n",
    "    ind = round(time/dt)\n",
    "        \n",
    "    # plot for given dt at given time\n",
    "    plt.plot(x, uSOL[:,ind], label='Numerical solution')\n",
    "    plt.title(f'Lax Method Numerical Results for $\\\\Delta t$ = {dt}')\n",
    "    plt.xlabel('x')\n",
    "    plt.xlim(0, 4)\n",
    "    plt.ylabel('u')\n",
    "    plt.ylim(-1, 3)\n",
    "    \n",
    "    plt.text(0.2, 2.5, f't = {time:.2f}')\n",
    "    \n",
    "    plt.legend(loc='upper right')"
   ]
  },
  {
   "cell_type": "code",
   "execution_count": 10,
   "id": "3b9c3c24",
   "metadata": {},
   "outputs": [
    {
     "name": "stdout",
     "output_type": "stream",
     "text": [
      "Arbitrarily adjust time step and the time under consideration via the sliders below. Note that the time slider cannot be at the final time value when adjusting the time step. Specific values can be chosen by clicking on the numbers.\n"
     ]
    },
    {
     "data": {
      "application/vnd.jupyter.widget-view+json": {
       "model_id": "341f380c302c49568a5d48a3ecd5bd2c",
       "version_major": 2,
       "version_minor": 0
      },
      "text/plain": [
       "interactive(children=(FloatSlider(value=0.1, description='dt', max=0.2, min=0.01, step=0.01), FloatSlider(valu…"
      ]
     },
     "metadata": {},
     "output_type": "display_data"
    }
   ],
   "source": [
    "# interactive plot\n",
    "dt_slider = FloatSlider(min=0.01, max=0.2, step=0.01, value = 0.1)\n",
    "t_slider = FloatSlider(min=0, max=4, step=0.1)\n",
    "\n",
    "def slider_change(change):\n",
    "    t_slider.step = dt_slider.value\n",
    "    \n",
    "dt_slider.observe(slider_change, 'value')\n",
    "\n",
    "IP4 = interactive(LM, dt=dt_slider, time = t_slider)\n",
    "print('Arbitrarily adjust time step and the time under consideration via the sliders below. Note that the time slider cannot be at the final time value when adjusting the time step. Specific values can be chosen by clicking on the numbers.')\n",
    "IP4"
   ]
  },
  {
   "cell_type": "markdown",
   "id": "6a0bff53",
   "metadata": {},
   "source": [
    "### MacCormack method\n",
    "\n",
    "Uses a combination of forward and backward differencing with an intermediate step, in addition to averaging, as follows:\n",
    "\n",
    "Intermediate step via forward differencing in space:\n",
    "$$\\frac{u_{i}^{*} - u_i^n}{\\Delta t} = - \\frac{E_{i+1}^{n} - E_{i}^{n}}{\\Delta x}$$\n",
    "\n",
    "such that \n",
    "\n",
    "$$u_{i}^{*} = u_i^n - \\frac{\\Delta t}{\\Delta x}(E_{i+1}^{n} - E_i^n) = u_i^n - \\frac{\\Delta t}{2\\Delta x}((u_{i+1}^{n})^2 - (u_i^n)^2)$$\n",
    "\n",
    "Final step via backward differencing in space:\n",
    "$$\\frac{u_i^{n+1} - u_{i}^{n + \\frac{1}{2}}}{\\frac{1}{2}\\Delta t} = - \\frac{E_i^* - E_{i-1}^{*}}{\\Delta x}$$\n",
    "\n",
    "with $u_i^{n + \\frac{1}{2}} = \\frac{1}{2}(u_i^n + u_i^*)$ and substituting the calculated intermediate steps $(*)$ such that\n",
    "\n",
    "$$u_i^{n+1} = \\frac{1}{2}\\left[(u_i^n + u_i^*) - \\frac{\\Delta t}{\\Delta x}(E_i^* - E_{i-1}^*)\\right] = \\frac{1}{2}\\left[(u_i^n + u_i^*) - \\frac{\\Delta t}{2 \\Delta x}((u_i^*)^2 - (u_{i-1}^*)^2)\\right]$$"
   ]
  },
  {
   "cell_type": "code",
   "execution_count": 11,
   "id": "4a359b15",
   "metadata": {},
   "outputs": [],
   "source": [
    "def MCM(dt, time): \n",
    "    # parameters\n",
    "    dx = 0.1 # FIX\n",
    "    L = 4 # FIX\n",
    "    nx = int(L/dx) # FIX\n",
    "    T = 4 # FIX\n",
    "    \n",
    "    nt = int(T/dt)\n",
    "    x = np.linspace(0, L, nx + 1)\n",
    "    t = np.linspace(0, T, nt + 1)\n",
    "\n",
    "    # initial and boundary conditions\n",
    "    uIC = np.zeros(nx + 1)\n",
    "    xdom = np.where((0 <= x)  & (x < 2))\n",
    "    uIC[xdom] = 1\n",
    "\n",
    "    uB1 = 1\n",
    "    uB2 = 0 # already taken into account\n",
    "\n",
    "    uIC[0] = 1\n",
    "    uIC\n",
    "    \n",
    "    # Set up solution matrix \n",
    "    uSOL = np.zeros((nx+1, nt+1))\n",
    "    uSOL[:,0] = uIC\n",
    "    uSOL[0,:] = uB1\n",
    "    uSOL[-1,:] = uB2\n",
    "    \n",
    "    # Solve\n",
    "    for n in range(1, nt+1):\n",
    "        # intermediate steps\n",
    "        u_s = uSOL[1:-1, n-1] - dt / (2*dx) * (np.power(uSOL[2:, n-1], 2) - np.power(uSOL[1:-1, n-1], 2))\n",
    "        u_sm1 = uSOL[0:-2, n-1] - dt / (2*dx) * (np.power(uSOL[1:-1, n-1], 2) - np.power(uSOL[0:-2, n-1], 2))\n",
    "    \n",
    "        # whole step\n",
    "        uSOL[1:-1, n] = 1/2 * ((uSOL[1:-1, n-1] + u_s) - dt / (2*dx) * (np.power(u_s, 2) - np.power(u_sm1, 2)))\n",
    "    \n",
    "    ### /// Animation ///\n",
    "    # plot of analytic solution\n",
    "    x_a = np.linspace(-L, L, 2*nx + 1)\n",
    "    uIC_a = np.zeros(2*nx + 1)\n",
    "    xdom_a = np.where((-L <= x_a)  & (x_a < 2))\n",
    "    uIC_a[xdom_a] = 1\n",
    "\n",
    "    plt.figure()\n",
    "    plt.plot(x_a + (1/2)*time, uIC_a, color='red', linestyle='dashed', label='Analytic solution')\n",
    "    \n",
    "    # time index\n",
    "    ind = round(time/dt)\n",
    "        \n",
    "    # plot for given dt at given time\n",
    "    plt.plot(x, uSOL[:,ind], label='Numerical solution')\n",
    "    plt.title(f'MacCormack Method Numerical Results for $\\\\Delta t$ = {dt}')\n",
    "    plt.xlabel('x')\n",
    "    plt.xlim(0, 4)\n",
    "    plt.ylabel('u')\n",
    "    plt.ylim(-1, 3)\n",
    "    \n",
    "    plt.text(0.2, 2.5, f't = {time:.2f}')\n",
    "    \n",
    "    plt.legend(loc='upper right')"
   ]
  },
  {
   "cell_type": "code",
   "execution_count": 12,
   "id": "5f583684",
   "metadata": {},
   "outputs": [
    {
     "name": "stdout",
     "output_type": "stream",
     "text": [
      "Arbitrarily adjust time step and the time under consideration via the sliders below. Note that the time slider cannot be at the final time value when adjusting the time step. Specific values can be chosen by clicking on the numbers.\n"
     ]
    },
    {
     "data": {
      "application/vnd.jupyter.widget-view+json": {
       "model_id": "8c82661a7e4344edb59a5518ac21d536",
       "version_major": 2,
       "version_minor": 0
      },
      "text/plain": [
       "interactive(children=(FloatSlider(value=0.1, description='dt', max=0.2, min=0.01, step=0.01), FloatSlider(valu…"
      ]
     },
     "metadata": {},
     "output_type": "display_data"
    }
   ],
   "source": [
    "dt_slider = FloatSlider(min=0.01, max=0.2, step=0.01, value = 0.1)\n",
    "t_slider = FloatSlider(min=0, max=4, step=0.1)\n",
    "\n",
    "def slider_change(change):\n",
    "    t_slider.step = dt_slider.value\n",
    "    \n",
    "dt_slider.observe(slider_change, 'value')\n",
    "\n",
    "IP5 = interactive(MCM, dt=dt_slider, time = t_slider)\n",
    "print('Arbitrarily adjust time step and the time under consideration via the sliders below. Note that the time slider cannot be at the final time value when adjusting the time step. Specific values can be chosen by clicking on the numbers.')\n",
    "IP5"
   ]
  }
 ],
 "metadata": {
  "kernelspec": {
   "display_name": "Python 3 (ipykernel)",
   "language": "python",
   "name": "python3"
  },
  "language_info": {
   "codemirror_mode": {
    "name": "ipython",
    "version": 3
   },
   "file_extension": ".py",
   "mimetype": "text/x-python",
   "name": "python",
   "nbconvert_exporter": "python",
   "pygments_lexer": "ipython3",
   "version": "3.9.13"
  }
 },
 "nbformat": 4,
 "nbformat_minor": 5
}
